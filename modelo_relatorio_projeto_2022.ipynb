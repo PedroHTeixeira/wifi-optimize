{
 "cells": [
  {
   "cell_type": "code",
   "execution_count": 103,
   "metadata": {},
   "outputs": [],
   "source": [
    "using JuMP\n"
   ]
  },
  {
   "cell_type": "code",
   "execution_count": 104,
   "metadata": {},
   "outputs": [
    {
     "name": "stderr",
     "output_type": "stream",
     "text": [
      "\u001b[32m\u001b[1m   Resolving\u001b[22m\u001b[39m package versions...\n",
      "\u001b[32m\u001b[1m  No Changes\u001b[22m\u001b[39m to `~/.julia/environments/v1.8/Project.toml`\n",
      "\u001b[32m\u001b[1m  No Changes\u001b[22m\u001b[39m to `~/.julia/environments/v1.8/Manifest.toml`\n"
     ]
    }
   ],
   "source": [
    "import Pkg\n",
    "Pkg.add(\"Ipopt\")"
   ]
  },
  {
   "cell_type": "code",
   "execution_count": 11,
   "metadata": {},
   "outputs": [
    {
     "name": "stderr",
     "output_type": "stream",
     "text": [
      "\u001b[32m\u001b[1m    Updating\u001b[22m\u001b[39m registry at `~/.julia/registries/General.toml`\n"
     ]
    },
    {
     "name": "stderr",
     "output_type": "stream",
     "text": [
      "\u001b[32m\u001b[1m   Resolving\u001b[22m\u001b[39m package versions...\n"
     ]
    },
    {
     "name": "stderr",
     "output_type": "stream",
     "text": [
      "\u001b[32m\u001b[1m   Installed\u001b[22m\u001b[39m JpegTurbo_jll ──────────────── v2.1.2+0\n",
      "\u001b[32m\u001b[1m   Installed\u001b[22m\u001b[39m x265_jll ───────────────────── v3.5.0+0\n",
      "\u001b[32m\u001b[1m   Installed\u001b[22m\u001b[39m libfdk_aac_jll ─────────────── v2.0.2+0\n",
      "\u001b[32m\u001b[1m   Installed\u001b[22m\u001b[39m Libmount_jll ───────────────── v2.35.0+0\n",
      "\u001b[32m\u001b[1m   Installed\u001b[22m\u001b[39m GR_jll ─────────────────────── v0.71.3+0\n",
      "\u001b[32m\u001b[1m   Installed\u001b[22m\u001b[39m LERC_jll ───────────────────── v3.0.0+1\n",
      "\u001b[32m\u001b[1m   Installed\u001b[22m\u001b[39m Opus_jll ───────────────────── v1.3.2+0\n",
      "\u001b[32m\u001b[1m   Installed\u001b[22m\u001b[39m LoggingExtras ──────────────── v1.0.0\n"
     ]
    },
    {
     "name": "stderr",
     "output_type": "stream",
     "text": [
      "\u001b[32m\u001b[1m   Installed\u001b[22m\u001b[39m Grisu ──────────────────────── v1.0.2\n"
     ]
    },
    {
     "name": "stderr",
     "output_type": "stream",
     "text": [
      "\u001b[32m\u001b[1m   Installed\u001b[22m\u001b[39m Formatting ─────────────────── v0.4.2\n",
      "\u001b[32m\u001b[1m   Installed\u001b[22m\u001b[39m Measures ───────────────────── v0.3.2\n",
      "\u001b[32m\u001b[1m   Installed\u001b[22m\u001b[39m RelocatableFolders ─────────── v1.0.0\n",
      "\u001b[32m\u001b[1m   Installed\u001b[22m\u001b[39m Xorg_xkbcomp_jll ───────────── v1.4.2+4\n"
     ]
    },
    {
     "name": "stderr",
     "output_type": "stream",
     "text": [
      "\u001b[32m\u001b[1m   Installed\u001b[22m\u001b[39m Xorg_xcb_util_wm_jll ───────── v0.4.1+1\n"
     ]
    },
    {
     "name": "stderr",
     "output_type": "stream",
     "text": [
      "\u001b[32m\u001b[1m   Installed\u001b[22m\u001b[39m PlotUtils ──────────────────── v1.3.2\n",
      "\u001b[32m\u001b[1m   Installed\u001b[22m\u001b[39m RecipesPipeline ────────────── v0.6.11\n",
      "\u001b[32m\u001b[1m   Installed\u001b[22m\u001b[39m Xorg_xcb_util_image_jll ────── v0.4.0+1\n",
      "\u001b[32m\u001b[1m   Installed\u001b[22m\u001b[39m OpenSSL ────────────────────── v1.3.2\n",
      "\u001b[32m\u001b[1m   Installed\u001b[22m\u001b[39m Xorg_libpthread_stubs_jll ──── v0.1.0+3\n",
      "\u001b[32m\u001b[1m   Installed\u001b[22m\u001b[39m Contour ────────────────────── v0.6.2\n"
     ]
    },
    {
     "name": "stderr",
     "output_type": "stream",
     "text": [
      "\u001b[32m\u001b[1m   Installed\u001b[22m\u001b[39m Xorg_xcb_util_jll ──────────── v0.4.0+1\n",
      "\u001b[32m\u001b[1m   Installed\u001b[22m\u001b[39m Libgpg_error_jll ───────────── v1.42.0+0\n",
      "\u001b[32m\u001b[1m   Installed\u001b[22m\u001b[39m Cairo_jll ──────────────────── v1.16.1+1\n",
      "\u001b[32m\u001b[1m   Installed\u001b[22m\u001b[39m Fontconfig_jll ─────────────── v2.13.93+0\n"
     ]
    },
    {
     "name": "stderr",
     "output_type": "stream",
     "text": [
      "\u001b[32m\u001b[1m   Installed\u001b[22m\u001b[39m Xorg_libxkbfile_jll ────────── v1.1.0+4\n",
      "\u001b[32m\u001b[1m   Installed\u001b[22m\u001b[39m HTTP ───────────────────────── v1.6.3\n",
      "\u001b[32m\u001b[1m   Installed\u001b[22m\u001b[39m Xorg_libXinerama_jll ───────── v1.1.4+4\n"
     ]
    },
    {
     "name": "stderr",
     "output_type": "stream",
     "text": [
      "\u001b[32m\u001b[1m   Installed\u001b[22m\u001b[39m Xorg_libXau_jll ────────────── v1.0.9+4\n",
      "\u001b[32m\u001b[1m   Installed\u001b[22m\u001b[39m Qt5Base_jll ────────────────── v5.15.3+2\n",
      "\u001b[32m\u001b[1m   Installed\u001b[22m\u001b[39m FFMPEG ─────────────────────── v0.4.1\n"
     ]
    },
    {
     "name": "stderr",
     "output_type": "stream",
     "text": [
      "\u001b[32m\u001b[1m   Installed\u001b[22m\u001b[39m Missings ───────────────────── v1.1.0\n",
      "\u001b[32m\u001b[1m   Installed\u001b[22m\u001b[39m Showoff ────────────────────── v1.0.3\n",
      "\u001b[32m\u001b[1m   Installed\u001b[22m\u001b[39m Xorg_xcb_util_keysyms_jll ──── v0.4.0+1\n"
     ]
    },
    {
     "name": "stderr",
     "output_type": "stream",
     "text": [
      "\u001b[32m\u001b[1m   Installed\u001b[22m\u001b[39m xkbcommon_jll ──────────────── v1.4.1+0\n",
      "\u001b[32m\u001b[1m   Installed\u001b[22m\u001b[39m SimpleBufferStream ─────────── v1.1.0\n",
      "\u001b[32m\u001b[1m   Installed\u001b[22m\u001b[39m HarfBuzz_jll ───────────────── v2.8.1+1\n",
      "\u001b[32m\u001b[1m   Installed\u001b[22m\u001b[39m Pipe ───────────────────────── v1.3.0\n",
      "\u001b[32m\u001b[1m   Installed\u001b[22m\u001b[39m LZO_jll ────────────────────── v2.10.1+0\n",
      "\u001b[32m\u001b[1m   Installed\u001b[22m\u001b[39m PlotThemes ─────────────────── v3.1.0\n"
     ]
    },
    {
     "name": "stderr",
     "output_type": "stream",
     "text": [
      "\u001b[32m\u001b[1m   Installed\u001b[22m\u001b[39m fzf_jll ────────────────────── v0.29.0+0\n",
      "\u001b[32m\u001b[1m   Installed\u001b[22m\u001b[39m FriBidi_jll ────────────────── v1.0.10+0\n",
      "\u001b[32m\u001b[1m   Installed\u001b[22m\u001b[39m x264_jll ───────────────────── v2021.5.5+0\n",
      "\u001b[32m\u001b[1m   Installed\u001b[22m\u001b[39m GLFW_jll ───────────────────── v3.3.8+0\n",
      "\u001b[32m\u001b[1m   Installed\u001b[22m\u001b[39m UnicodeFun ─────────────────── v0.4.1\n"
     ]
    },
    {
     "name": "stderr",
     "output_type": "stream",
     "text": [
      "\u001b[32m\u001b[1m   Installed\u001b[22m\u001b[39m MbedTLS ────────────────────── v1.1.7\n"
     ]
    },
    {
     "name": "stderr",
     "output_type": "stream",
     "text": [
      "\u001b[32m\u001b[1m   Installed\u001b[22m\u001b[39m FreeType2_jll ──────────────── v2.10.4+0\n",
      "\u001b[32m\u001b[1m   Installed\u001b[22m\u001b[39m JLFzf ──────────────────────── v0.1.5\n",
      "\u001b[32m\u001b[1m   Installed\u001b[22m\u001b[39m StatsAPI ───────────────────── v1.5.0\n"
     ]
    },
    {
     "name": "stderr",
     "output_type": "stream",
     "text": [
      "\u001b[32m\u001b[1m   Installed\u001b[22m\u001b[39m Xorg_libxcb_jll ────────────── v1.13.0+3\n",
      "\u001b[32m\u001b[1m   Installed\u001b[22m\u001b[39m libpng_jll ─────────────────── v1.6.38+0\n"
     ]
    },
    {
     "name": "stderr",
     "output_type": "stream",
     "text": [
      "\u001b[32m\u001b[1m   Installed\u001b[22m\u001b[39m libaom_jll ─────────────────── v3.4.0+0\n",
      "\u001b[32m\u001b[1m   Installed\u001b[22m\u001b[39m StatsBase ──────────────────── v0.33.21\n"
     ]
    },
    {
     "name": "stderr",
     "output_type": "stream",
     "text": [
      "\u001b[32m\u001b[1m   Installed\u001b[22m\u001b[39m Scratch ────────────────────── v1.1.1\n",
      "\u001b[32m\u001b[1m   Installed\u001b[22m\u001b[39m Xorg_libXext_jll ───────────── v1.3.4+4\n"
     ]
    },
    {
     "name": "stderr",
     "output_type": "stream",
     "text": [
      "\u001b[32m\u001b[1m   Installed\u001b[22m\u001b[39m TensorCore ─────────────────── v0.1.1\n"
     ]
    },
    {
     "name": "stderr",
     "output_type": "stream",
     "text": [
      "\u001b[32m\u001b[1m   Installed\u001b[22m\u001b[39m Zstd_jll ───────────────────── v1.5.2+0\n",
      "\u001b[32m\u001b[1m   Installed\u001b[22m\u001b[39m Expat_jll ──────────────────── v2.4.8+0\n",
      "\u001b[32m\u001b[1m   Installed\u001b[22m\u001b[39m Libtiff_jll ────────────────── v4.4.0+0\n",
      "\u001b[32m\u001b[1m   Installed\u001b[22m\u001b[39m ColorVectorSpace ───────────── v0.9.10\n",
      "\u001b[32m\u001b[1m   Installed\u001b[22m\u001b[39m Plots ──────────────────────── v1.38.1\n"
     ]
    },
    {
     "name": "stderr",
     "output_type": "stream",
     "text": [
      "\u001b[32m\u001b[1m   Installed\u001b[22m\u001b[39m Xorg_libXrender_jll ────────── v0.9.10+4\n",
      "\u001b[32m\u001b[1m   Installed\u001b[22m\u001b[39m Libffi_jll ─────────────────── v3.2.2+1\n",
      "\u001b[32m\u001b[1m   Installed\u001b[22m\u001b[39m Xorg_libXi_jll ─────────────── v1.7.10+4\n",
      "\u001b[32m\u001b[1m   Installed\u001b[22m\u001b[39m Ogg_jll ────────────────────── v1.3.5+1\n",
      "\u001b[32m\u001b[1m   Installed\u001b[22m\u001b[39m XSLT_jll ───────────────────── v1.1.34+0\n",
      "\u001b[32m\u001b[1m   Installed\u001b[22m\u001b[39m Xorg_libXcursor_jll ────────── v1.2.0+4\n"
     ]
    },
    {
     "name": "stderr",
     "output_type": "stream",
     "text": [
      "\u001b[32m\u001b[1m   Installed\u001b[22m\u001b[39m Libuuid_jll ────────────────── v2.36.0+0\n",
      "\u001b[32m\u001b[1m   Installed\u001b[22m\u001b[39m Wayland_protocols_jll ──────── v1.25.0+0\n"
     ]
    },
    {
     "name": "stderr",
     "output_type": "stream",
     "text": [
      "\u001b[32m\u001b[1m   Installed\u001b[22m\u001b[39m Xorg_xcb_util_renderutil_jll ─ v0.3.9+1\n",
      "\u001b[32m\u001b[1m   Installed\u001b[22m\u001b[39m Pixman_jll ─────────────────── v0.40.1+0\n",
      "\u001b[32m\u001b[1m   Installed\u001b[22m\u001b[39m Graphite2_jll ──────────────── v1.3.14+0\n",
      "\u001b[32m\u001b[1m   Installed\u001b[22m\u001b[39m libass_jll ─────────────────── v0.15.1+0\n"
     ]
    },
    {
     "name": "stderr",
     "output_type": "stream",
     "text": [
      "\u001b[32m\u001b[1m   Installed\u001b[22m\u001b[39m XML2_jll ───────────────────── v2.10.3+0\n"
     ]
    },
    {
     "name": "stderr",
     "output_type": "stream",
     "text": [
      "\u001b[32m\u001b[1m   Installed\u001b[22m\u001b[39m Gettext_jll ────────────────── v0.21.0+0\n",
      "\u001b[32m\u001b[1m   Installed\u001b[22m\u001b[39m Wayland_jll ────────────────── v1.21.0+0\n",
      "\u001b[32m\u001b[1m   Installed\u001b[22m\u001b[39m Xorg_xtrans_jll ────────────── v1.4.0+3\n",
      "\u001b[32m\u001b[1m   Installed\u001b[22m\u001b[39m OpenSSL_jll ────────────────── v1.1.19+0\n",
      "\u001b[32m\u001b[1m   Installed\u001b[22m\u001b[39m Latexify ───────────────────── v0.15.17\n",
      "\u001b[32m\u001b[1m   Installed\u001b[22m\u001b[39m BitFlags ───────────────────── v0.1.7\n"
     ]
    },
    {
     "name": "stderr",
     "output_type": "stream",
     "text": [
      "\u001b[32m\u001b[1m   Installed\u001b[22m\u001b[39m FFMPEG_jll ─────────────────── v4.4.2+2\n",
      "\u001b[32m\u001b[1m   Installed\u001b[22m\u001b[39m Xorg_libXrandr_jll ─────────── v1.5.2+4\n",
      "\u001b[32m\u001b[1m   Installed\u001b[22m\u001b[39m RecipesBase ────────────────── v1.3.2\n",
      "\u001b[32m\u001b[1m   Installed\u001b[22m\u001b[39m Libgcrypt_jll ──────────────── v1.8.7+0\n",
      "\u001b[32m\u001b[1m   Installed\u001b[22m\u001b[39m DataAPI ────────────────────── v1.14.0\n",
      "\u001b[32m\u001b[1m   Installed\u001b[22m\u001b[39m Xorg_xkeyboard_config_jll ──── v2.27.0+4\n"
     ]
    },
    {
     "name": "stderr",
     "output_type": "stream",
     "text": [
      "\u001b[32m\u001b[1m   Installed\u001b[22m\u001b[39m Xorg_libXfixes_jll ─────────── v5.0.3+4\n",
      "\u001b[32m\u001b[1m   Installed\u001b[22m\u001b[39m LAME_jll ───────────────────── v3.100.1+0\n",
      "\u001b[32m\u001b[1m   Installed\u001b[22m\u001b[39m Glib_jll ───────────────────── v2.74.0+2\n",
      "\u001b[32m\u001b[1m   Installed\u001b[22m\u001b[39m Libiconv_jll ───────────────── v1.16.1+2\n",
      "\u001b[32m\u001b[1m   Installed\u001b[22m\u001b[39m IniFile ────────────────────── v0.5.1\n",
      "\u001b[32m\u001b[1m   Installed\u001b[22m\u001b[39m URIs ───────────────────────── v1.4.1\n"
     ]
    },
    {
     "name": "stderr",
     "output_type": "stream",
     "text": [
      "\u001b[32m\u001b[1m   Installed\u001b[22m\u001b[39m libvorbis_jll ──────────────── v1.3.7+1\n",
      "\u001b[32m\u001b[1m   Installed\u001b[22m\u001b[39m Libglvnd_jll ───────────────── v1.6.0+0\n",
      "\u001b[32m\u001b[1m   Installed\u001b[22m\u001b[39m Xorg_libXdmcp_jll ──────────── v1.1.3+4\n",
      "\u001b[32m\u001b[1m   Installed\u001b[22m\u001b[39m Xorg_libX11_jll ────────────── v1.6.9+4\n",
      "\u001b[32m\u001b[1m   Installed\u001b[22m\u001b[39m SortingAlgorithms ──────────── v1.1.0\n",
      "\u001b[32m\u001b[1m   Installed\u001b[22m\u001b[39m Unzip ──────────────────────── v0.2.0\n"
     ]
    },
    {
     "name": "stderr",
     "output_type": "stream",
     "text": [
      "\u001b[32m\u001b[1m   Installed\u001b[22m\u001b[39m ColorSchemes ───────────────── v3.20.0\n"
     ]
    },
    {
     "name": "stderr",
     "output_type": "stream",
     "text": [
      "\u001b[32m\u001b[1m   Installed\u001b[22m\u001b[39m GR ─────────────────────────── v0.71.3\n"
     ]
    },
    {
     "name": "stderr",
     "output_type": "stream",
     "text": [
      "\u001b[32m\u001b[1m    Updating\u001b[22m\u001b[39m `~/.julia/environments/v1.8/Project.toml`\n",
      " \u001b[90m [91a5bcdd] \u001b[39m\u001b[92m+ Plots v1.38.1\u001b[39m\n",
      "\u001b[32m\u001b[1m    Updating\u001b[22m\u001b[39m `~/.julia/environments/v1.8/Manifest.toml`\n"
     ]
    },
    {
     "name": "stderr",
     "output_type": "stream",
     "text": [
      " \u001b[90m [d1d4a3ce] \u001b[39m\u001b[92m+ BitFlags v0.1.7\u001b[39m\n",
      " \u001b[90m [35d6a980] \u001b[39m\u001b[92m+ ColorSchemes v3.20.0\u001b[39m\n",
      " \u001b[90m [c3611d14] \u001b[39m\u001b[92m+ ColorVectorSpace v0.9.10\u001b[39m\n",
      " \u001b[90m [d38c429a] \u001b[39m\u001b[92m+ Contour v0.6.2\u001b[39m\n",
      " \u001b[90m [9a962f9c] \u001b[39m\u001b[92m+ DataAPI v1.14.0\u001b[39m\n",
      " \u001b[90m [c87230d0] \u001b[39m\u001b[92m+ FFMPEG v0.4.1\u001b[39m\n",
      " \u001b[90m [59287772] \u001b[39m\u001b[92m+ Formatting v0.4.2\u001b[39m\n",
      " \u001b[90m [28b8d3ca] \u001b[39m\u001b[92m+ GR v0.71.3\u001b[39m\n",
      " \u001b[90m [42e2da0e] \u001b[39m\u001b[92m+ Grisu v1.0.2\u001b[39m\n",
      " \u001b[90m [cd3eb016] \u001b[39m\u001b[92m+ HTTP v1.6.3\u001b[39m\n",
      " \u001b[90m [83e8ac13] \u001b[39m\u001b[92m+ IniFile v0.5.1\u001b[39m\n",
      " \u001b[90m [1019f520] \u001b[39m\u001b[92m+ JLFzf v0.1.5\u001b[39m\n",
      " \u001b[90m [23fbe1c1] \u001b[39m\u001b[92m+ Latexify v0.15.17\u001b[39m\n",
      " \u001b[90m [e6f89c97] \u001b[39m\u001b[92m+ LoggingExtras v1.0.0\u001b[39m\n",
      " \u001b[90m [739be429] \u001b[39m\u001b[92m+ MbedTLS v1.1.7\u001b[39m\n",
      " \u001b[90m [442fdcdd] \u001b[39m\u001b[92m+ Measures v0.3.2\u001b[39m\n",
      " \u001b[90m [e1d29d7a] \u001b[39m\u001b[92m+ Missings v1.1.0\u001b[39m\n",
      " \u001b[90m [4d8831e6] \u001b[39m\u001b[92m+ OpenSSL v1.3.2\u001b[39m\n",
      " \u001b[90m [b98c9c47] \u001b[39m\u001b[92m+ Pipe v1.3.0\u001b[39m\n",
      " \u001b[90m [ccf2f8ad] \u001b[39m\u001b[92m+ PlotThemes v3.1.0\u001b[39m\n",
      " \u001b[90m [995b91a9] \u001b[39m\u001b[92m+ PlotUtils v1.3.2\u001b[39m\n",
      " \u001b[90m [91a5bcdd] \u001b[39m\u001b[92m+ Plots v1.38.1\u001b[39m\n",
      " \u001b[90m [3cdcf5f2] \u001b[39m\u001b[92m+ RecipesBase v1.3.2\u001b[39m\n",
      " \u001b[90m [01d81517] \u001b[39m\u001b[92m+ RecipesPipeline v0.6.11\u001b[39m\n",
      " \u001b[90m [05181044] \u001b[39m\u001b[92m+ RelocatableFolders v1.0.0\u001b[39m\n",
      " \u001b[90m [6c6a2e73] \u001b[39m\u001b[92m+ Scratch v1.1.1\u001b[39m\n",
      " \u001b[90m [992d4aef] \u001b[39m\u001b[92m+ Showoff v1.0.3\u001b[39m\n",
      " \u001b[90m [777ac1f9] \u001b[39m\u001b[92m+ SimpleBufferStream v1.1.0\u001b[39m\n",
      " \u001b[90m [a2af1166] \u001b[39m\u001b[92m+ SortingAlgorithms v1.1.0\u001b[39m\n",
      " \u001b[90m [82ae8749] \u001b[39m\u001b[92m+ StatsAPI v1.5.0\u001b[39m\n",
      " \u001b[90m [2913bbd2] \u001b[39m\u001b[92m+ StatsBase v0.33.21\u001b[39m\n",
      " \u001b[90m [62fd8b95] \u001b[39m\u001b[92m+ TensorCore v0.1.1\u001b[39m\n",
      " \u001b[90m [5c2747f8] \u001b[39m\u001b[92m+ URIs v1.4.1\u001b[39m\n",
      " \u001b[90m [1cfade01] \u001b[39m\u001b[92m+ UnicodeFun v0.4.1\u001b[39m\n",
      " \u001b[90m [41fe7b60] \u001b[39m\u001b[92m+ Unzip v0.2.0\u001b[39m\n",
      " \u001b[90m [83423d85] \u001b[39m\u001b[92m+ Cairo_jll v1.16.1+1\u001b[39m\n",
      " \u001b[90m [2e619515] \u001b[39m\u001b[92m+ Expat_jll v2.4.8+0\u001b[39m\n",
      " \u001b[90m [b22a6f82] \u001b[39m\u001b[92m+ FFMPEG_jll v4.4.2+2\u001b[39m\n",
      " \u001b[90m [a3f928ae] \u001b[39m\u001b[92m+ Fontconfig_jll v2.13.93+0\u001b[39m\n",
      " \u001b[90m [d7e528f0] \u001b[39m\u001b[92m+ FreeType2_jll v2.10.4+0\u001b[39m\n",
      " \u001b[90m [559328eb] \u001b[39m\u001b[92m+ FriBidi_jll v1.0.10+0\u001b[39m\n",
      " \u001b[90m [0656b61e] \u001b[39m\u001b[92m+ GLFW_jll v3.3.8+0\u001b[39m\n",
      " \u001b[90m [d2c73de3] \u001b[39m\u001b[92m+ GR_jll v0.71.3+0\u001b[39m\n",
      " \u001b[90m [78b55507] \u001b[39m\u001b[92m+ Gettext_jll v0.21.0+0\u001b[39m\n",
      " \u001b[90m [7746bdde] \u001b[39m\u001b[92m+ Glib_jll v2.74.0+2\u001b[39m\n",
      " \u001b[90m [3b182d85] \u001b[39m\u001b[92m+ Graphite2_jll v1.3.14+0\u001b[39m\n",
      " \u001b[90m [2e76f6c2] \u001b[39m\u001b[92m+ HarfBuzz_jll v2.8.1+1\u001b[39m\n",
      " \u001b[90m [aacddb02] \u001b[39m\u001b[92m+ JpegTurbo_jll v2.1.2+0\u001b[39m\n",
      " \u001b[90m [c1c5ebd0] \u001b[39m\u001b[92m+ LAME_jll v3.100.1+0\u001b[39m\n",
      " \u001b[90m [88015f11] \u001b[39m\u001b[92m+ LERC_jll v3.0.0+1\u001b[39m\n",
      " \u001b[90m [dd4b983a] \u001b[39m\u001b[92m+ LZO_jll v2.10.1+0\u001b[39m\n",
      "\u001b[33m⌅\u001b[39m\u001b[90m [e9f186c6] \u001b[39m\u001b[92m+ Libffi_jll v3.2.2+1\u001b[39m\n",
      " \u001b[90m [d4300ac3] \u001b[39m\u001b[92m+ Libgcrypt_jll v1.8.7+0\u001b[39m\n",
      " \u001b[90m [7e76a0d4] \u001b[39m\u001b[92m+ Libglvnd_jll v1.6.0+0\u001b[39m\n",
      " \u001b[90m [7add5ba3] \u001b[39m\u001b[92m+ Libgpg_error_jll v1.42.0+0\u001b[39m\n",
      " \u001b[90m [94ce4f54] \u001b[39m\u001b[92m+ Libiconv_jll v1.16.1+2\u001b[39m\n",
      " \u001b[90m [4b2f31a3] \u001b[39m\u001b[92m+ Libmount_jll v2.35.0+0\u001b[39m\n",
      " \u001b[90m [89763e89] \u001b[39m\u001b[92m+ Libtiff_jll v4.4.0+0\u001b[39m\n",
      " \u001b[90m [38a345b3] \u001b[39m\u001b[92m+ Libuuid_jll v2.36.0+0\u001b[39m\n",
      " \u001b[90m [e7412a2a] \u001b[39m\u001b[92m+ Ogg_jll v1.3.5+1\u001b[39m\n",
      " \u001b[90m [458c3c95] \u001b[39m\u001b[92m+ OpenSSL_jll v1.1.19+0\u001b[39m\n",
      " \u001b[90m [91d4177d] \u001b[39m\u001b[92m+ Opus_jll v1.3.2+0\u001b[39m\n",
      " \u001b[90m [30392449] \u001b[39m\u001b[92m+ Pixman_jll v0.40.1+0\u001b[39m\n",
      " \u001b[90m [ea2cea3b] \u001b[39m\u001b[92m+ Qt5Base_jll v5.15.3+2\u001b[39m\n",
      " \u001b[90m [a2964d1f] \u001b[39m\u001b[92m+ Wayland_jll v1.21.0+0\u001b[39m\n",
      " \u001b[90m [2381bf8a] \u001b[39m\u001b[92m+ Wayland_protocols_jll v1.25.0+0\u001b[39m\n",
      " \u001b[90m [02c8fc9c] \u001b[39m\u001b[92m+ XML2_jll v2.10.3+0\u001b[39m\n",
      " \u001b[90m [aed1982a] \u001b[39m\u001b[92m+ XSLT_jll v1.1.34+0\u001b[39m\n",
      " \u001b[90m [4f6342f7] \u001b[39m\u001b[92m+ Xorg_libX11_jll v1.6.9+4\u001b[39m\n",
      " \u001b[90m [0c0b7dd1] \u001b[39m\u001b[92m+ Xorg_libXau_jll v1.0.9+4\u001b[39m\n",
      " \u001b[90m [935fb764] \u001b[39m\u001b[92m+ Xorg_libXcursor_jll v1.2.0+4\u001b[39m\n",
      " \u001b[90m [a3789734] \u001b[39m\u001b[92m+ Xorg_libXdmcp_jll v1.1.3+4\u001b[39m\n",
      " \u001b[90m [1082639a] \u001b[39m\u001b[92m+ Xorg_libXext_jll v1.3.4+4\u001b[39m\n",
      " \u001b[90m [d091e8ba] \u001b[39m\u001b[92m+ Xorg_libXfixes_jll v5.0.3+4\u001b[39m\n",
      " \u001b[90m [a51aa0fd] \u001b[39m\u001b[92m+ Xorg_libXi_jll v1.7.10+4\u001b[39m\n",
      " \u001b[90m [d1454406] \u001b[39m\u001b[92m+ Xorg_libXinerama_jll v1.1.4+4\u001b[39m\n",
      " \u001b[90m [ec84b674] \u001b[39m\u001b[92m+ Xorg_libXrandr_jll v1.5.2+4\u001b[39m\n",
      " \u001b[90m [ea2f1a96] \u001b[39m\u001b[92m+ Xorg_libXrender_jll v0.9.10+4\u001b[39m\n",
      " \u001b[90m [14d82f49] \u001b[39m\u001b[92m+ Xorg_libpthread_stubs_jll v0.1.0+3\u001b[39m\n",
      " \u001b[90m [c7cfdc94] \u001b[39m\u001b[92m+ Xorg_libxcb_jll v1.13.0+3\u001b[39m\n",
      " \u001b[90m [cc61e674] \u001b[39m\u001b[92m+ Xorg_libxkbfile_jll v1.1.0+4\u001b[39m\n",
      " \u001b[90m [12413925] \u001b[39m\u001b[92m+ Xorg_xcb_util_image_jll v0.4.0+1\u001b[39m\n",
      " \u001b[90m [2def613f] \u001b[39m\u001b[92m+ Xorg_xcb_util_jll v0.4.0+1\u001b[39m\n",
      " \u001b[90m [975044d2] \u001b[39m\u001b[92m+ Xorg_xcb_util_keysyms_jll v0.4.0+1\u001b[39m\n",
      " \u001b[90m [0d47668e] \u001b[39m\u001b[92m+ Xorg_xcb_util_renderutil_jll v0.3.9+1\u001b[39m\n",
      " \u001b[90m [c22f9ab0] \u001b[39m\u001b[92m+ Xorg_xcb_util_wm_jll v0.4.1+1\u001b[39m\n",
      " \u001b[90m [35661453] \u001b[39m\u001b[92m+ Xorg_xkbcomp_jll v1.4.2+4\u001b[39m\n",
      " \u001b[90m [33bec58e] \u001b[39m\u001b[92m+ Xorg_xkeyboard_config_jll v2.27.0+4\u001b[39m\n",
      " \u001b[90m [c5fb5394] \u001b[39m\u001b[92m+ Xorg_xtrans_jll v1.4.0+3\u001b[39m\n",
      " \u001b[90m [3161d3a3] \u001b[39m\u001b[92m+ Zstd_jll v1.5.2+0\u001b[39m\n",
      "\u001b[33m⌅\u001b[39m\u001b[90m [214eeab7] \u001b[39m\u001b[92m+ fzf_jll v0.29.0+0\u001b[39m\n",
      " \u001b[90m [a4ae2306] \u001b[39m\u001b[92m+ libaom_jll v3.4.0+0\u001b[39m\n",
      " \u001b[90m [0ac62f75] \u001b[39m\u001b[92m+ libass_jll v0.15.1+0\u001b[39m\n",
      " \u001b[90m [f638f0a6] \u001b[39m\u001b[92m+ libfdk_aac_jll v2.0.2+0\u001b[39m\n",
      " \u001b[90m [b53b4c65] \u001b[39m\u001b[92m+ libpng_jll v1.6.38+0\u001b[39m\n",
      " \u001b[90m [f27f6e37] \u001b[39m\u001b[92m+ libvorbis_jll v1.3.7+1\u001b[39m\n",
      " \u001b[90m [1270edf5] \u001b[39m\u001b[92m+ x264_jll v2021.5.5+0\u001b[39m\n",
      " \u001b[90m [dfaa095f] \u001b[39m\u001b[92m+ x265_jll v3.5.0+0\u001b[39m\n",
      " \u001b[90m [d8fb68d0] \u001b[39m\u001b[92m+ xkbcommon_jll v1.4.1+0\u001b[39m\n",
      " \u001b[90m [efcefdf7] \u001b[39m\u001b[92m+ PCRE2_jll v10.40.0+0\u001b[39m\n",
      "\u001b[36m\u001b[1m        Info\u001b[22m\u001b[39m Packages marked with \u001b[33m⌅\u001b[39m have new versions available but cannot be upgraded. To see why use `status --outdated -m`\n"
     ]
    },
    {
     "name": "stderr",
     "output_type": "stream",
     "text": [
      "\u001b[32m\u001b[1mPrecompiling\u001b[22m\u001b[39m "
     ]
    },
    {
     "name": "stderr",
     "output_type": "stream",
     "text": [
      "project...\n"
     ]
    },
    {
     "name": "stderr",
     "output_type": "stream",
     "text": [
      "\u001b[32m  ✓ \u001b[39m\u001b[90mStatsAPI\u001b[39m\n",
      "\u001b[32m  ✓ \u001b[39m\u001b[90mPipe\u001b[39m\n",
      "\u001b[32m  ✓ \u001b[39m\u001b[90mIniFile\u001b[39m\n",
      "\u001b[32m  ✓ \u001b[39m\u001b[90mTensorCore\u001b[39m\n",
      "\u001b[32m  ✓ \u001b[39m\u001b[90mContour\u001b[39m\n"
     ]
    },
    {
     "name": "stderr",
     "output_type": "stream",
     "text": [
      "\u001b[32m  ✓ \u001b[39m\u001b[90mMeasures\u001b[39m\n"
     ]
    },
    {
     "name": "stderr",
     "output_type": "stream",
     "text": [
      "\u001b[32m  ✓ \u001b[39m\u001b[90mUnzip\u001b[39m\n"
     ]
    },
    {
     "name": "stderr",
     "output_type": "stream",
     "text": [
      "\u001b[32m  ✓ \u001b[39m\u001b[90mGrisu\u001b[39m\n"
     ]
    },
    {
     "name": "stderr",
     "output_type": "stream",
     "text": [
      "\u001b[32m  ✓ \u001b[39m\u001b[90mPCRE2_jll\u001b[39m\n"
     ]
    },
    {
     "name": "stderr",
     "output_type": "stream",
     "text": [
      "\u001b[32m  ✓ \u001b[39m\u001b[90mSimpleBufferStream\u001b[39m\n"
     ]
    },
    {
     "name": "stderr",
     "output_type": "stream",
     "text": [
      "\u001b[32m  ✓ \u001b[39m\u001b[90mURIs\u001b[39m\n",
      "\u001b[32m  ✓ \u001b[39m\u001b[90mFormatting\u001b[39m\n",
      "\u001b[32m  ✓ \u001b[39m\u001b[90mUnicodeFun\u001b[39m\n",
      "\u001b[32m  ✓ \u001b[39m\u001b[90mDataAPI\u001b[39m\n",
      "\u001b[32m  ✓ \u001b[39m\u001b[90mBitFlags\u001b[39m\n",
      "\u001b[32m  ✓ \u001b[39m\u001b[90mScratch\u001b[39m\n",
      "\u001b[32m  ✓ \u001b[39m\u001b[90mLoggingExtras\u001b[39m\n"
     ]
    },
    {
     "name": "stderr",
     "output_type": "stream",
     "text": [
      "\u001b[32m  ✓ \u001b[39m\u001b[90mMbedTLS\u001b[39m\n"
     ]
    },
    {
     "name": "stderr",
     "output_type": "stream",
     "text": [
      "\u001b[32m  ✓ \u001b[39m\u001b[90mRecipesBase\u001b[39m\n",
      "\u001b[32m  ✓ \u001b[39m\u001b[90mXorg_libXau_jll\u001b[39m\n"
     ]
    },
    {
     "name": "stderr",
     "output_type": "stream",
     "text": [
      "\u001b[32m  ✓ \u001b[39m\u001b[90mLibmount_jll\u001b[39m\n",
      "\u001b[32m  ✓ \u001b[39m\u001b[90mLAME_jll\u001b[39m\n"
     ]
    },
    {
     "name": "stderr",
     "output_type": "stream",
     "text": [
      "\u001b[32m  ✓ \u001b[39m\u001b[90mOpenSSL_jll\u001b[39m\n",
      "\u001b[32m  ✓ \u001b[39m\u001b[90mGraphite2_jll\u001b[39m\n",
      "\u001b[32m  ✓ \u001b[39m\u001b[90mlibfdk_aac_jll\u001b[39m\n"
     ]
    },
    {
     "name": "stderr",
     "output_type": "stream",
     "text": [
      "\u001b[32m  ✓ \u001b[39m\u001b[90mlibpng_jll\u001b[39m\n"
     ]
    },
    {
     "name": "stderr",
     "output_type": "stream",
     "text": [
      "\u001b[32m  ✓ \u001b[39m\u001b[90mPixman_jll\u001b[39m\n"
     ]
    },
    {
     "name": "stderr",
     "output_type": "stream",
     "text": [
      "\u001b[32m  ✓ \u001b[39m\u001b[90mJpegTurbo_jll\u001b[39m\n"
     ]
    },
    {
     "name": "stderr",
     "output_type": "stream",
     "text": [
      "\u001b[32m  ✓ \u001b[39m\u001b[90mLERC_jll\u001b[39m\n"
     ]
    },
    {
     "name": "stderr",
     "output_type": "stream",
     "text": [
      "\u001b[32m  ✓ \u001b[39m\u001b[90mXorg_libXdmcp_jll\u001b[39m\n"
     ]
    },
    {
     "name": "stderr",
     "output_type": "stream",
     "text": [
      "\u001b[32m  ✓ \u001b[39m\u001b[90mfzf_jll\u001b[39m\n"
     ]
    },
    {
     "name": "stderr",
     "output_type": "stream",
     "text": [
      "\u001b[32m  ✓ \u001b[39m\u001b[90mlibaom_jll\u001b[39m\n",
      "\u001b[32m  ✓ \u001b[39m\u001b[90mx264_jll\u001b[39m\n"
     ]
    },
    {
     "name": "stderr",
     "output_type": "stream",
     "text": [
      "\u001b[32m  ✓ \u001b[39m\u001b[90mOgg_jll\u001b[39m\n"
     ]
    },
    {
     "name": "stderr",
     "output_type": "stream",
     "text": [
      "\u001b[32m  ✓ \u001b[39m\u001b[90mx265_jll\u001b[39m\n"
     ]
    },
    {
     "name": "stderr",
     "output_type": "stream",
     "text": [
      "\u001b[32m  ✓ \u001b[39m\u001b[90mLZO_jll\u001b[39m\n"
     ]
    },
    {
     "name": "stderr",
     "output_type": "stream",
     "text": [
      "\u001b[32m  ✓ \u001b[39m\u001b[90mXorg_xtrans_jll\u001b[39m\n",
      "\u001b[32m  ✓ \u001b[39m\u001b[90mZstd_jll\u001b[39m\n"
     ]
    },
    {
     "name": "stderr",
     "output_type": "stream",
     "text": [
      "\u001b[32m  ✓ \u001b[39m\u001b[90mOpus_jll\u001b[39m\n"
     ]
    },
    {
     "name": "stderr",
     "output_type": "stream",
     "text": [
      "\u001b[32m  ✓ \u001b[39m\u001b[90mExpat_jll\u001b[39m\n",
      "\u001b[32m  ✓ \u001b[39m\u001b[90mLibffi_jll\u001b[39m\n"
     ]
    },
    {
     "name": "stderr",
     "output_type": "stream",
     "text": [
      "\u001b[32m  ✓ \u001b[39m\u001b[90mLibgpg_error_jll\u001b[39m\n"
     ]
    },
    {
     "name": "stderr",
     "output_type": "stream",
     "text": [
      "\u001b[32m  ✓ \u001b[39m\u001b[90mLibiconv_jll\u001b[39m\n",
      "\u001b[32m  ✓ \u001b[39m\u001b[90mWayland_protocols_jll\u001b[39m\n"
     ]
    },
    {
     "name": "stderr",
     "output_type": "stream",
     "text": [
      "\u001b[32m  ✓ \u001b[39m\u001b[90mXorg_libpthread_stubs_jll\u001b[39m\n",
      "\u001b[32m  ✓ \u001b[39m\u001b[90mFriBidi_jll\u001b[39m\n",
      "\u001b[32m  ✓ \u001b[39m\u001b[90mLibuuid_jll\u001b[39m\n",
      "\u001b[32m  ✓ \u001b[39m\u001b[90mShowoff\u001b[39m\n",
      "\u001b[32m  ✓ \u001b[39m\u001b[90mMissings\u001b[39m\n"
     ]
    },
    {
     "name": "stderr",
     "output_type": "stream",
     "text": [
      "\u001b[32m  ✓ \u001b[39m\u001b[90mFreeType2_jll\u001b[39m\n",
      "\u001b[32m  ✓ \u001b[39m\u001b[90mSortingAlgorithms\u001b[39m\n"
     ]
    },
    {
     "name": "stderr",
     "output_type": "stream",
     "text": [
      "\u001b[32m  ✓ \u001b[39m\u001b[90mRelocatableFolders\u001b[39m\n"
     ]
    },
    {
     "name": "stderr",
     "output_type": "stream",
     "text": [
      "\u001b[32m  ✓ \u001b[39m\u001b[90mlibvorbis_jll\u001b[39m\n"
     ]
    },
    {
     "name": "stderr",
     "output_type": "stream",
     "text": [
      "\u001b[32m  ✓ \u001b[39m\u001b[90mLibtiff_jll\u001b[39m\n"
     ]
    },
    {
     "name": "stderr",
     "output_type": "stream",
     "text": [
      "\u001b[32m  ✓ \u001b[39m\u001b[90mJLFzf\u001b[39m\n"
     ]
    },
    {
     "name": "stderr",
     "output_type": "stream",
     "text": [
      "\u001b[32m  ✓ \u001b[39m\u001b[90mXML2_jll\u001b[39m\n"
     ]
    },
    {
     "name": "stderr",
     "output_type": "stream",
     "text": [
      "\u001b[32m  ✓ \u001b[39m\u001b[90mLibgcrypt_jll\u001b[39m\n"
     ]
    },
    {
     "name": "stderr",
     "output_type": "stream",
     "text": [
      "\u001b[32m  ✓ \u001b[39m\u001b[90mFontconfig_jll\u001b[39m\n"
     ]
    },
    {
     "name": "stderr",
     "output_type": "stream",
     "text": [
      "\u001b[32m  ✓ \u001b[39m\u001b[90mGettext_jll\u001b[39m\n"
     ]
    },
    {
     "name": "stderr",
     "output_type": "stream",
     "text": [
      "\u001b[32m  ✓ \u001b[39m\u001b[90mWayland_jll\u001b[39m\n"
     ]
    },
    {
     "name": "stderr",
     "output_type": "stream",
     "text": [
      "\u001b[32m  ✓ \u001b[39m\u001b[90mXSLT_jll\u001b[39m\n"
     ]
    },
    {
     "name": "stderr",
     "output_type": "stream",
     "text": [
      "\u001b[32m  ✓ \u001b[39m\u001b[90mGlib_jll\u001b[39m\n"
     ]
    },
    {
     "name": "stderr",
     "output_type": "stream",
     "text": [
      "\u001b[32m  ✓ \u001b[39m\u001b[90mXorg_libxcb_jll\u001b[39m\n"
     ]
    },
    {
     "name": "stderr",
     "output_type": "stream",
     "text": [
      "\u001b[32m  ✓ \u001b[39m\u001b[90mOpenSSL\u001b[39m\n"
     ]
    },
    {
     "name": "stderr",
     "output_type": "stream",
     "text": [
      "\u001b[32m  ✓ \u001b[39m\u001b[90mXorg_xcb_util_jll\u001b[39m\n"
     ]
    },
    {
     "name": "stderr",
     "output_type": "stream",
     "text": [
      "\u001b[32m  ✓ \u001b[39m\u001b[90mXorg_libX11_jll\u001b[39m\n"
     ]
    },
    {
     "name": "stderr",
     "output_type": "stream",
     "text": [
      "\u001b[32m  ✓ \u001b[39m\u001b[90mLatexify\u001b[39m\n"
     ]
    },
    {
     "name": "stderr",
     "output_type": "stream",
     "text": [
      "\u001b[32m  ✓ \u001b[39m\u001b[90mXorg_xcb_util_keysyms_jll\u001b[39m\n"
     ]
    },
    {
     "name": "stderr",
     "output_type": "stream",
     "text": [
      "\u001b[32m  ✓ \u001b[39m\u001b[90mXorg_xcb_util_renderutil_jll\u001b[39m\n"
     ]
    },
    {
     "name": "stderr",
     "output_type": "stream",
     "text": [
      "\u001b[32m  ✓ \u001b[39m\u001b[90mXorg_xcb_util_wm_jll\u001b[39m\n"
     ]
    },
    {
     "name": "stderr",
     "output_type": "stream",
     "text": [
      "\u001b[32m  ✓ \u001b[39m\u001b[90mXorg_libXrender_jll\u001b[39m\n"
     ]
    },
    {
     "name": "stderr",
     "output_type": "stream",
     "text": [
      "\u001b[32m  ✓ \u001b[39m\u001b[90mXorg_xcb_util_image_jll\u001b[39m\n"
     ]
    },
    {
     "name": "stderr",
     "output_type": "stream",
     "text": [
      "\u001b[32m  ✓ \u001b[39m\u001b[90mStatsBase\u001b[39m\n"
     ]
    },
    {
     "name": "stderr",
     "output_type": "stream",
     "text": [
      "\u001b[32m  ✓ \u001b[39m\u001b[90mXorg_libXext_jll\u001b[39m\n"
     ]
    },
    {
     "name": "stderr",
     "output_type": "stream",
     "text": [
      "\u001b[32m  ✓ \u001b[39m\u001b[90mXorg_libXfixes_jll\u001b[39m\n"
     ]
    },
    {
     "name": "stderr",
     "output_type": "stream",
     "text": [
      "\u001b[32m  ✓ \u001b[39m\u001b[90mXorg_libxkbfile_jll\u001b[39m\n"
     ]
    },
    {
     "name": "stderr",
     "output_type": "stream",
     "text": [
      "\u001b[32m  ✓ \u001b[39m\u001b[90mXorg_libXrandr_jll\u001b[39m\n"
     ]
    },
    {
     "name": "stderr",
     "output_type": "stream",
     "text": [
      "\u001b[32m  ✓ \u001b[39m\u001b[90mLibglvnd_jll\u001b[39m\n",
      "\u001b[32m  ✓ \u001b[39m\u001b[90mXorg_libXinerama_jll\u001b[39m\n"
     ]
    },
    {
     "name": "stderr",
     "output_type": "stream",
     "text": [
      "\u001b[32m  ✓ \u001b[39m\u001b[90mColorVectorSpace\u001b[39m\n"
     ]
    },
    {
     "name": "stderr",
     "output_type": "stream",
     "text": [
      "\u001b[32m  ✓ \u001b[39m\u001b[90mCairo_jll\u001b[39m\n"
     ]
    },
    {
     "name": "stderr",
     "output_type": "stream",
     "text": [
      "\u001b[32m  ✓ \u001b[39m\u001b[90mXorg_libXcursor_jll\u001b[39m\n"
     ]
    },
    {
     "name": "stderr",
     "output_type": "stream",
     "text": [
      "\u001b[32m  ✓ \u001b[39m\u001b[90mXorg_libXi_jll\u001b[39m\n"
     ]
    },
    {
     "name": "stderr",
     "output_type": "stream",
     "text": [
      "\u001b[32m  ✓ \u001b[39m\u001b[90mXorg_xkbcomp_jll\u001b[39m\n"
     ]
    },
    {
     "name": "stderr",
     "output_type": "stream",
     "text": [
      "\u001b[32m  ✓ \u001b[39m\u001b[90mHarfBuzz_jll\u001b[39m\n"
     ]
    },
    {
     "name": "stderr",
     "output_type": "stream",
     "text": [
      "\u001b[32m  ✓ \u001b[39m\u001b[90mGLFW_jll\u001b[39m\n"
     ]
    },
    {
     "name": "stderr",
     "output_type": "stream",
     "text": [
      "\u001b[32m  ✓ \u001b[39m\u001b[90mXorg_xkeyboard_config_jll\u001b[39m\n"
     ]
    },
    {
     "name": "stderr",
     "output_type": "stream",
     "text": [
      "\u001b[32m  ✓ \u001b[39m\u001b[90mlibass_jll\u001b[39m\n"
     ]
    },
    {
     "name": "stderr",
     "output_type": "stream",
     "text": [
      "\u001b[32m  ✓ \u001b[39m\u001b[90mxkbcommon_jll\u001b[39m\n"
     ]
    },
    {
     "name": "stderr",
     "output_type": "stream",
     "text": [
      "\u001b[32m  ✓ \u001b[39m\u001b[90mFFMPEG_jll\u001b[39m\n"
     ]
    },
    {
     "name": "stderr",
     "output_type": "stream",
     "text": [
      "\u001b[32m  ✓ \u001b[39m\u001b[90mQt5Base_jll\u001b[39m\n"
     ]
    },
    {
     "name": "stderr",
     "output_type": "stream",
     "text": [
      "\u001b[32m  ✓ \u001b[39m\u001b[90mFFMPEG\u001b[39m\n"
     ]
    },
    {
     "name": "stderr",
     "output_type": "stream",
     "text": [
      "\u001b[32m  ✓ \u001b[39m\u001b[90mHTTP\u001b[39m\n"
     ]
    },
    {
     "name": "stderr",
     "output_type": "stream",
     "text": [
      "\u001b[32m  ✓ \u001b[39m\u001b[90mGR_jll\u001b[39m\n"
     ]
    },
    {
     "name": "stderr",
     "output_type": "stream",
     "text": [
      "\u001b[32m  ✓ \u001b[39m\u001b[90mGR\u001b[39m\n"
     ]
    },
    {
     "name": "stderr",
     "output_type": "stream",
     "text": [
      "\u001b[32m  ✓ \u001b[39m\u001b[90mColorSchemes\u001b[39m\n"
     ]
    },
    {
     "name": "stderr",
     "output_type": "stream",
     "text": [
      "\u001b[32m  ✓ \u001b[39m\u001b[90mPlotUtils\u001b[39m\n"
     ]
    },
    {
     "name": "stderr",
     "output_type": "stream",
     "text": [
      "\u001b[32m  ✓ \u001b[39m\u001b[90mPlotThemes\u001b[39m\n"
     ]
    },
    {
     "name": "stderr",
     "output_type": "stream",
     "text": [
      "\u001b[32m  ✓ \u001b[39m\u001b[90mRecipesPipeline\u001b[39m\n"
     ]
    },
    {
     "name": "stderr",
     "output_type": "stream",
     "text": [
      "\u001b[32m  ✓ \u001b[39mPlots\n"
     ]
    },
    {
     "name": "stdout",
     "output_type": "stream",
     "text": [
      "\n",
      "******************************************************************************\n",
      "This program contains Ipopt, a library for large-scale nonlinear optimization.\n",
      " Ipopt is released as open source code under the Eclipse Public License (EPL).\n",
      "         For more information visit https://github.com/coin-or/Ipopt\n",
      "******************************************************************************\n",
      "\n",
      "This is Ipopt version 3.14.4, running with linear solver MUMPS 5.4.1.\n",
      "\n",
      "Number of nonzeros in equality constraint Jacobian...:        0\n",
      "Number of nonzeros in inequality constraint Jacobian.:        2\n",
      "Number of nonzeros in Lagrangian Hessian.............:        0\n",
      "\n"
     ]
    },
    {
     "name": "stderr",
     "output_type": "stream",
     "text": [
      "  100 dependencies successfully precompiled in 243 seconds. 62 already precompiled.\n"
     ]
    }
   ],
   "source": [
    "import Pkg\n",
    "Pkg.add(\"Plots\")"
   ]
  },
  {
   "attachments": {},
   "cell_type": "markdown",
   "metadata": {},
   "source": [
    "### COM361 &mdash; Introdução a Otimização &mdash; 2022, Prof. Amit ###\n",
    "\n",
    "# Otimização de Wifi #\n",
    "\n",
    "#### Pedro Henrique de Jesus Teixeira (pedroteixeir@poli.ufrj.br), Diego Nunes Gonçalves Freitas (diegongfreitas@poli.ufrj.br)\n",
    "\n",
    "*****\n",
    "\n",
    "### Índice\n",
    "\n",
    "1. [Introdução](#1.-Introdução)\n",
    "1. [Modelo Matemático](#2.-Modelo Mathemático)\n",
    "1. [Solução](#3.-Solução)\n",
    "1. [Resultados e Discussão](#4.-Resultados-e-discussão)\n",
    "  1. [Subseção Opcional](#4.A.-Acrescente-subseções-se-necessário)\n",
    "1. [Conclusão](#5.-Conclusão)\n",
    "1. [Referências bibliográficas] (#6.-Referências bibliográficas)"
   ]
  },
  {
   "cell_type": "markdown",
   "metadata": {
    "collapsed": true
   },
   "source": [
    "## 1. Introdução ##\n",
    "\n",
    "O projeto a ser apresentado ao longo desse relatório consiste em um mecânismo de otimização do posicionamento de um roteador wifi em um estabelecimento ou residência. Faremos isso porcurando o melhor ponto de instalação de um roteador objetivando a maximização da força do sinal que chega aos dispositivos conectados. \n",
    "\n",
    "É muito comum perceber cômodos de sua casa em que o sinal wifi chega muito enfraquecido ou simplesmente não chega, chamaremos essas regiões de Zonas Mortas. Denominamos de Zonas Críticas os cômodos nos quais há um dispositivo conectado a rede. Além de maximizar o sinal em cada dispositivo conectado precisamos, também, eliminar a possibilidade de formação de Zonas Mortas em Zonas Críticas. A complexidade dos cenários de teste do nosso algoritmo cresce gradualmente, conforme aumentamos a planta do imóvel e adicionamos fontes de interferência como espelhos, madeira, móveis metálicos, etc. \n",
    "\n",
    "O primeiro padrão de conexão wifi surgiu em 1997. Com o passar dos anos essa tecnologia se popularizou e, nos dias atuais, quase todo estabelecimento ou residência possui uma rede de internet via Wifi. Com a expansão dessa tecnologia suas qualidades e defeitos foram ficando mais evidentes. Um dos mais evidentes defeitos é a grande dependência do funcionamento ótimo da rede ao posicionamento do roteador wifi. Se mal posicionado em uma residência, o roteador pode acabar entregando, aos seus dispositivos conectados, porcentagens incrivelmente pequenas do sinal original. \n",
    "\n",
    "Nosso projeto tratará sobre redes [WLAN](https://pt.wikipedia.org/wiki/Rede_de_área_local_sem_fio), ou seja, redes de area local sem fio que usam ondas de rádio para fazer a conexão entre os dispositivos. Para fins de simplificação, os dados relacionados à perda de sinal ao longo da distância e por meio de interferências foram sintetizados e previamente estabelecidos.\n",
    "\n",
    "A partir desse ponto apresentaremos o desenvolvimento do projeto, começando pelo modelo matématico na seção 2. Em seguida, na seção 3, apresentamos nossa solução de otimização, desenvolvida em Julia 1.8.0, possível de ser rodada nesse notebook Jupyter. Na seção 4, evidenciamos nossos resultados para cada cenário, variando em graus de complexidade, através de plots simulando um ambiente de rede. Na seção 5, finalizamos a apresentação do projeto apresentando nossas conclusões acerca dos resultados obtidos e dos métodos utilizados, ressaltando aspectos passíveis de melhorias. Por fim, na seção 6, apresentamos as referencias biubliográficas utilizadas ao longo do desenvolvimento do projeto."
   ]
  },
  {
   "attachments": {},
   "cell_type": "markdown",
   "metadata": {},
   "source": [
    "## 2. Modelo matemático ##\n",
    "Para abordar melhor nosso problema representamos o ambiente do imóvel trabalhado como uma matriz $A_{mXn}$. Começaremos apresentando nossas variáveis\n",
    "de decisão. \n",
    "\n",
    "Denominamos $C_{ij}$, um posição da matriz em que há um dispositivo conectado a rede, sendo $c$ o número de dispositivos.\n",
    "\n",
    "Denominamos $R_{ij}$, uma posição da matriz em que há um roteador.\n",
    "\n",
    "O valor registrado em cada posição da matriz determinará o que esta presente naquele local da forma:\n",
    "$$\n",
    "a_{ij} = \n",
    "\\begin{cases}\n",
    "2, \\text{ caso haja um roteador naquele local}\\\\\n",
    "1, \\text{ caso haja um dispositivo conectato naquele local}\\\\\n",
    "0, \\text{ caso não haja nada relacionado a rede naquele local}\n",
    "\\end{cases}\n",
    "$$\n",
    "\n",
    "Sopomos então que, a distância $d$ entre um roteador e um dispositivo, dada por:\n",
    "$$\n",
    "d = R_{ij} - C_{ij}\n",
    "$$\n",
    "influencia linearmente na força $f_{ij}$ do sinal que chega ao dispositivo na posição ij, da seguinte forma.\n",
    "$$\n",
    "f_{ij} = 1 - 0.2d \n",
    "$$\n",
    "\n",
    "Primeiramente a posição de cada dispositivo sera dada aleatoriamente na matriz. \n",
    "\n",
    "Nosso objetivo será encontrar a posição para o roteador que maximize a soma das forças do sinal em cada dispositivo. \n",
    "\n",
    "Além disso, evitaremos grandes variações para a força do sinal em cada dispositivo, limitando o desvio padrão entre eles, sendo esse denominado $\\sigma_f$.\n",
    "\n",
    "Exemplificando o posicionamento ótimo de um roteador para um caso simples:\n",
    "$$\n",
    "\\begin{bmatrix}\n",
    "  1 & 0 & 0 & 2 & 0 & 0 & 1\\\\\n",
    "  0 & 0 & 0 & 0 & 0 & 0 & 0\\\\\n",
    "  0 & 0 & 0 & 0 & 0 & 0 & 0\\\\\n",
    "  0 & 0 & 0 & 0 & 0 & 0 & 0\\\\\n",
    "  0 & 0 & 0 & 0 & 0 & 0 & 0\\\\\n",
    "  0 & 0 & 0 & 0 & 0 & 0 & 0\\\\\n",
    "  0 & 0 & 0 & 0 & 0 & 0 & 0\n",
    "\\end{bmatrix}\n",
    "$$\n",
    "\n",
    "Dessa forma, nosso problema de otimização em forma padrão fica assim:\n",
    "$$\n",
    "\\begin{aligned}\n",
    "\\underset{x \\in \\mathbb{R^n}}{\\text{maximize}}\\qquad& \\sum_{k=0}^{c}{f_k(d)} \\\\\n",
    "\\text{sujeito a:}\\qquad& \\sigma_{f(d)} \\le 0,4\\\\\n",
    "& d > 0\n",
    "\\end{aligned}\n",
    "$$\n",
    "\n",
    "Vamos trabalhar ainda com casos em que há objetos no estabelecimento que causem interferência no sinal, gerando Zonas mortas. Para isso iremos alterar um pouco nosso cenário:\n",
    "\n",
    "$$\n",
    "a_{ij} = \n",
    "\\begin{cases}\n",
    "3, \\text{ caso haja uma fonte de interferência naquele local}\\\\\n",
    "2, \\text{ caso haja um roteador naquele local}\\\\\n",
    "1, \\text{ caso haja um dispositivo conectato naquele local}\\\\\n",
    "0, \\text{ caso não haja nada relacionado a rede naquele local}\n",
    "\\end{cases}\n",
    "$$\n",
    "\n",
    "Exemplificando, agora, o posicionamento ótimo de um roteador para um caso com interferência:\n",
    "\n",
    "Se mantivermos o roteador na mesma posição um dos dispositivos ficaria em uma zona morta\n",
    "$$\n",
    "\\begin{bmatrix}\n",
    "  1 & 0 & 0 & 2 & 3 & 0 & 1\\\\\n",
    "  0 & 0 & 0 & 0 & 3 & 0 & 0\\\\\n",
    "  0 & 0 & 0 & 0 & 0 & 0 & 0\\\\\n",
    "  0 & 0 & 0 & 0 & 0 & 0 & 0\\\\\n",
    "  0 & 0 & 0 & 0 & 0 & 0 & 0\\\\\n",
    "  0 & 0 & 0 & 0 & 0 & 0 & 0\\\\\n",
    "  0 & 0 & 0 & 0 & 0 & 0 & 0\n",
    "\\end{bmatrix}\n",
    "$$\n",
    "Para solucionar esse problema o roteador deve ser movido de forma a alterar a região de Zona morta, da seguinte forma:\n",
    "$$\n",
    "\\begin{bmatrix}\n",
    "  1 & 0 & 0 & 0 & 3 & 0 & 1\\\\\n",
    "  0 & 0 & 0 & 0 & 3 & 0 & 0\\\\\n",
    "  0 & 0 & 0 & 0 & 0 & 0 & 0\\\\\n",
    "  0 & 0 & 0 & 2 & 0 & 0 & 0\\\\\n",
    "  0 & 0 & 0 & 0 & 0 & 0 & 0\\\\\n",
    "  0 & 0 & 0 & 0 & 0 & 0 & 0\\\\\n",
    "  0 & 0 & 0 & 0 & 0 & 0 & 0\n",
    "\\end{bmatrix}\n",
    "$$\n",
    "\n",
    "Isso encerra o modelo matemático do nosso projeto. Em seguida apresentaremos nossa solução.\n",
    "\n"
   ]
  },
  {
   "attachments": {},
   "cell_type": "markdown",
   "metadata": {
    "collapsed": true
   },
   "source": [
    "## 3. Solução ##\n",
    "\n",
    "Nesta seção, coloque seu código em Julia + JuMP e resolva o problema proposto. Seu código deve ser limpo (não macarrônico!), de fácil leitura, bem comentado e anotado e deve compilar sem erros em Julia 1.x, x $\\geq 1$! Não valem códigos em outras linguagens. **Vou rodar seu código para avaliar seu projeto**. Sugiro a utilização de múltiplos blocos de códigos separados por blocos de texto (células Markdown) explicando as várias partes da sua solução. Sugiro também a resolução de várias versões do seu problema, com modelos e hipóteses diferentes.\n",
    "\n",
    "É permitido chamar pacotes externos, mas evite a utilização de bibliotecas exóticas (pois, em geral, não rodam em todas as versões de Julia, e terei que instalar a mesma versão que você usou, ou rodar na plataforma Google Colab, que gostaria de evitar)."
   ]
  },
  {
   "cell_type": "code",
   "execution_count": 39,
   "metadata": {},
   "outputs": [
    {
     "name": "stdout",
     "output_type": "stream",
     "text": [
      "This is Ipopt version 3.14.4, running with linear solver MUMPS 5.4.1.\n",
      "\n",
      "Number of nonzeros in equality constraint Jacobian...:        0\n",
      "Number of nonzeros in inequality constraint Jacobian.:        2\n",
      "Number of nonzeros in Lagrangian Hessian.............:        0\n",
      "\n",
      "Total number of variables............................:        2\n",
      "                     variables with only lower bounds:        0\n",
      "                variables with lower and upper bounds:        2\n",
      "                     variables with only upper bounds:        0\n",
      "Total number of equality constraints.................:        0\n",
      "Total number of inequality constraints...............:        1\n",
      "        inequality constraints with only lower bounds:        0\n",
      "   inequality constraints with lower and upper bounds:        0\n",
      "        inequality constraints with only upper bounds:        1\n",
      "\n",
      "iter    objective    inf_pr   inf_du lg(mu)  ||d||  lg(rg) alpha_du alpha_pr  ls\n",
      "   0  9.9717158e-01 3.05e-01 4.06e-02   0.0 0.00e+00    -  0.00e+00 0.00e+00   0\n",
      "   1  9.3691985e-01 0.00e+00 1.45e+02   0.2 1.73e+00    -  7.07e-02 1.00e+00f  1\n",
      "   2  8.5387093e-01 0.00e+00 2.78e-01   0.7 5.79e-01    -  1.00e+00 1.00e+00f  1\n",
      "   3  8.8118388e-01 0.00e+00 1.50e-02  -1.2 1.31e-01    -  9.56e-01 1.00e+00h  1\n",
      "   4  1.0337973e+00 0.00e+00 1.23e-01  -1.5 1.19e+00    -  9.96e-01 5.00e-01f  2\n",
      "   5  1.0837099e+00 0.00e+00 1.32e-01  -2.6 9.44e-01    -  9.95e-01 2.50e-01f  3\n",
      "   6  1.1023486e+00 0.00e+00 1.14e-01  -3.1 7.89e-01    -  1.00e+00 1.25e-01h  4\n",
      "   7  1.1067225e+00 0.00e+00 1.12e-01  -3.8 7.77e-01    -  1.00e+00 3.12e-02h  6\n",
      "   8  1.1089882e+00 0.00e+00 1.14e-01  -3.9 8.17e-01    -  1.00e+00 1.56e-02h  7\n",
      "   9  1.1101590e+00 0.00e+00 1.21e-01  -4.0 8.51e-01    -  1.00e+00 7.81e-03h  8\n",
      "iter    objective    inf_pr   inf_du lg(mu)  ||d||  lg(rg) alpha_du alpha_pr  ls\n",
      "  10  1.1107590e+00 0.00e+00 1.26e-01  -4.1 8.76e-01    -  1.00e+00 3.91e-03h  9\n",
      "  11  1.1107973e+00 0.00e+00 1.30e-01  -4.1 8.96e-01    -  1.00e+00 2.44e-04h 13\n",
      "  12  1.1108168e+00 0.00e+00 1.32e-01  -4.2 9.12e-01    -  1.00e+00 1.22e-04h 14\n",
      "  13  1.1108217e+00 0.00e+00 1.34e-01  -4.2 9.25e-01    -  1.00e+00 3.05e-05h 16\n",
      "  14  1.1108242e+00 0.00e+00 1.35e-01  -4.2 9.35e-01    -  1.00e+00 1.53e-05h 17\n",
      "  15  1.1108249e+00 0.00e+00 1.36e-01  -4.2 9.42e-01    -  1.00e+00 3.81e-06h 19\n",
      "  16  1.1108249e+00 0.00e+00 1.34e-01  -2.2 9.28e-01    -  1.00e+00 2.38e-07h 23\n",
      "  17  1.1108249e+00 0.00e+00 1.30e-01  -2.2 9.02e-01    -  1.00e+00 1.19e-07h 24\n",
      "  18  1.1108249e+00 0.00e+00 1.28e-01  -2.2 8.88e-01    -  1.00e+00 2.98e-08h 26\n",
      "  19  1.1108249e+00 0.00e+00 1.27e-01  -2.2 8.77e-01    -  1.00e+00 1.49e-08h 27\n",
      "iter    objective    inf_pr   inf_du lg(mu)  ||d||  lg(rg) alpha_du alpha_pr  ls\n",
      "  20  1.1108249e+00 0.00e+00 1.26e-01  -2.2 8.70e-01    -  1.00e+00 7.45e-09h 28\n",
      "  21  1.1108249e+00 0.00e+00 1.25e-01  -2.2 8.65e-01    -  1.00e+00 1.86e-09h 30\n",
      "  22  1.1108249e+00 0.00e+00 1.25e-01  -2.2 8.62e-01    -  1.00e+00 9.31e-10h 31\n",
      "  23r 1.1108249e+00 0.00e+00 9.98e+02  -2.2 0.00e+00    -  0.00e+00 7.28e-12R 38\n",
      "  24r 1.1108194e+00 0.00e+00 1.82e-02  -1.6 1.93e+00    -  1.00e+00 1.74e-03f  1\n",
      "  25  1.1108245e+00 0.00e+00 1.65e-01  -2.6 1.13e+00    -  1.00e+00 2.59e-05h 16\n",
      "  26  1.1108248e+00 0.00e+00 1.64e-01  -4.0 1.12e+00    -  1.00e+00 1.63e-06h 20\n",
      "  27  1.1108248e+00 0.00e+00 1.61e-01  -2.7 1.10e+00    -  1.00e+00 1.05e-07h 24\n",
      "  28  1.1108248e+00 0.00e+00 1.57e-01  -2.7 1.08e+00    -  1.00e+00 1.34e-08h 27\n",
      "  29  1.1108248e+00 0.00e+00 1.54e-01  -2.7 1.06e+00    -  1.00e+00 6.83e-09h 28\n",
      "iter    objective    inf_pr   inf_du lg(mu)  ||d||  lg(rg) alpha_du alpha_pr  ls\n",
      "  30  1.1108248e+00 0.00e+00 1.50e-01  -2.7 1.03e+00    -  1.00e+00 1.75e-09h 30\n",
      "  31  1.1108248e+00 0.00e+00 1.48e-01  -2.7 1.01e+00    -  1.00e+00 4.45e-10h 32\n",
      "  32  1.1108248e+00 0.00e+00 1.45e-01  -2.7 9.95e-01    -  1.00e+00 2.27e-10h 33\n",
      "  33  1.1108248e+00 0.00e+00 1.43e-01  -2.7 9.80e-01    -  1.00e+00 1.15e-10h 34\n",
      "  34  1.1108248e+00 0.00e+00 1.41e-01  -2.7 9.68e-01    -  1.00e+00 1.46e-11h 37\n",
      "  35r 1.1108248e+00 0.00e+00 9.44e+02  -2.7 0.00e+00    -  0.00e+00 5.68e-14R 45\n",
      "  36r 1.1108226e+00 0.00e+00 2.34e-04  -3.5 6.18e-04    -  1.00e+00 5.65e-02f  1\n",
      "  37  1.1108238e+00 0.00e+00 1.72e-01  -3.2 1.08e+00    -  1.00e+00 6.81e-06f 18\n",
      "  38  1.1108240e+00 0.00e+00 1.71e-01  -3.1 1.15e+00    -  1.00e+00 8.03e-07h 21\n",
      "  39  1.1108240e+00 0.00e+00 1.69e-01  -3.1 1.16e+00    -  1.00e+00 5.00e-08h 25\n",
      "iter    objective    inf_pr   inf_du lg(mu)  ||d||  lg(rg) alpha_du alpha_pr  ls\n",
      "  40  1.1108240e+00 0.00e+00 1.67e-01  -3.1 1.15e+00    -  1.00e+00 1.26e-08h 27\n",
      "  41  1.1108240e+00 0.00e+00 1.65e-01  -3.1 1.13e+00    -  1.00e+00 1.59e-09h 30\n",
      "  42  1.1108240e+00 0.00e+00 1.63e-01  -3.1 1.12e+00    -  1.00e+00 2.02e-10h 33\n",
      "  43  1.1108240e+00 0.00e+00 1.60e-01  -3.1 1.10e+00    -  1.00e+00 1.28e-11h 37\n",
      "  44  1.1108240e+00 0.00e+00 1.58e-01  -3.1 1.08e+00    -  1.00e+00 6.51e-12h 38\n",
      "  45  1.1108240e+00 0.00e+00 1.55e-01  -3.1 1.06e+00    -  1.00e+00 3.31e-12h 39\n",
      "  46  1.1108240e+00 0.00e+00 1.53e-01  -3.1 1.05e+00    -  1.00e+00 1.68e-12h 40\n",
      "  47  1.1108240e+00 0.00e+00 1.50e-01  -3.1 1.03e+00    -  1.00e+00 8.54e-13h 41\n",
      "  48  5.8484293e-01 1.35e-02 2.00e-01  -3.1 1.02e+00    -  1.00e+00 9.52e-01w  1\n",
      "  49  6.6284110e-01 6.87e-02 1.99e-01  -3.1 4.74e-01    -  1.00e+00 8.24e-01w  1\n",
      "iter    objective    inf_pr   inf_du lg(mu)  ||d||  lg(rg) alpha_du alpha_pr  ls\n",
      "  50  4.5307524e-01 0.00e+00 9.57e-05  -3.1 1.05e+00    -  1.00e+00 1.00e+00w  1\n",
      "  51r 1.1108240e+00 0.00e+00 3.16e+02  -3.1 0.00e+00    -  0.00e+00 4.54e-07R 21\n",
      "  52r 1.1107976e+00 0.00e+00 1.76e-04  -3.6 1.79e-04    -  1.00e+00 8.58e-01f  1\n",
      "  53  1.1108028e+00 0.00e+00 1.72e-01  -3.1 8.28e+01    -  2.14e-02 3.57e-07f 16\n",
      "  54  1.1108054e+00 0.00e+00 1.71e-01  -3.1 1.02e+00    -  1.00e+00 1.44e-05f 17\n",
      "  55  1.1108067e+00 0.00e+00 1.70e-01  -3.1 1.08e+00    -  1.00e+00 6.88e-06f 18\n",
      "  56  1.1108073e+00 0.00e+00 1.69e-01  -3.1 1.10e+00    -  1.00e+00 3.35e-06h 19\n",
      "  57  1.1108075e+00 0.00e+00 1.67e-01  -3.1 1.11e+00    -  1.00e+00 8.31e-07h 21\n",
      "  58  1.1108075e+00 0.00e+00 1.65e-01  -3.1 1.11e+00    -  1.00e+00 1.04e-07h 24\n",
      "  59  1.1108075e+00 0.00e+00 1.63e-01  -3.1 1.11e+00    -  1.00e+00 6.53e-09h 28\n",
      "iter    objective    inf_pr   inf_du lg(mu)  ||d||  lg(rg) alpha_du alpha_pr  ls\n",
      "  60  1.1108075e+00 0.00e+00 1.60e-01  -3.1 1.10e+00    -  1.00e+00 3.30e-09h 29\n",
      "  61  1.1108075e+00 0.00e+00 1.58e-01  -3.1 1.08e+00    -  1.00e+00 1.67e-09h 30\n",
      "  62  1.1108075e+00 0.00e+00 1.55e-01  -3.1 1.06e+00    -  1.00e+00 1.06e-10h 34\n",
      "  63  5.9256082e-01 1.90e-02 2.00e-01  -3.1 1.05e+00    -  1.00e+00 9.25e-01w  1\n",
      "  64  6.6991949e-01 7.37e-02 1.99e-01  -3.1 4.74e-01    -  1.00e+00 8.18e-01w  1\n",
      "  65  4.5393254e-01 0.00e+00 4.76e-04  -3.1 1.08e+00    -  1.00e+00 1.00e+00w  1\n",
      "  66r 1.1108075e+00 0.00e+00 2.15e+02  -3.1 0.00e+00    -  0.00e+00 4.41e-07R 21\n",
      "  67r 1.1107823e+00 0.00e+00 1.48e-04  -3.7 1.50e-04    -  1.00e+00 9.75e-01f  1\n",
      "  68  1.1107875e+00 0.00e+00 1.72e-01  -3.1 7.55e+01    -  2.35e-02 3.92e-07f 16\n",
      "  69  1.1107901e+00 0.00e+00 1.71e-01  -3.1 1.02e+00    -  1.00e+00 1.44e-05f 17\n",
      "iter    objective    inf_pr   inf_du lg(mu)  ||d||  lg(rg) alpha_du alpha_pr  ls\n",
      "  70  1.1107914e+00 0.00e+00 1.70e-01  -3.1 1.08e+00    -  1.00e+00 6.88e-06f 18\n",
      "  71  1.1107917e+00 0.00e+00 1.69e-01  -3.1 1.10e+00    -  1.00e+00 1.68e-06h 20\n",
      "  72  1.1107918e+00 0.00e+00 1.67e-01  -3.1 1.11e+00    -  1.00e+00 1.04e-07h 24\n",
      "  73  1.1107918e+00 0.00e+00 1.65e-01  -3.1 1.11e+00    -  1.00e+00 5.20e-08h 25\n",
      "  74  1.1107918e+00 0.00e+00 1.63e-01  -3.1 1.11e+00    -  1.00e+00 1.63e-09h 30\n",
      "  75  1.1107918e+00 0.00e+00 1.60e-01  -3.1 1.10e+00    -  1.00e+00 4.12e-10h 32\n",
      "  76  1.1107918e+00 0.00e+00 1.58e-01  -3.1 1.08e+00    -  1.00e+00 2.09e-10h 33\n",
      "  77  1.1107918e+00 0.00e+00 1.55e-01  -3.1 1.06e+00    -  1.00e+00 5.30e-11h 35\n",
      "  78  5.9267438e-01 1.91e-02 2.00e-01  -3.1 1.05e+00    -  1.00e+00 9.25e-01w  1\n",
      "  79  6.7004335e-01 7.38e-02 1.99e-01  -3.1 4.74e-01    -  1.00e+00 8.18e-01w  1\n",
      "iter    objective    inf_pr   inf_du lg(mu)  ||d||  lg(rg) alpha_du alpha_pr  ls\n",
      "  80  4.5394920e-01 0.00e+00 4.95e-04  -3.1 1.08e+00    -  1.00e+00 1.00e+00w  1\n",
      "  81r 1.1107918e+00 0.00e+00 1.73e+02  -3.1 0.00e+00    -  0.00e+00 4.41e-07R 21\n",
      "  82r 1.1107659e+00 0.00e+00 1.48e-04  -3.7 1.50e-04    -  1.00e+00 1.00e+00f  1\n",
      "  83  1.1107711e+00 0.00e+00 1.72e-01  -3.1 7.56e+01    -  2.35e-02 3.92e-07f 16\n",
      "  84  1.1107737e+00 0.00e+00 1.71e-01  -3.1 1.02e+00    -  1.00e+00 1.44e-05f 17\n",
      "  85  1.1107750e+00 0.00e+00 1.70e-01  -3.1 1.08e+00    -  1.00e+00 6.88e-06f 18\n",
      "  86  1.1107753e+00 0.00e+00 1.69e-01  -3.1 1.10e+00    -  1.00e+00 1.68e-06h 20\n",
      "  87  1.1107755e+00 0.00e+00 1.67e-01  -3.1 1.11e+00    -  1.00e+00 8.31e-07h 21\n",
      "  88  1.1107757e+00 0.00e+00 1.65e-01  -3.1 1.11e+00    -  1.00e+00 8.32e-07h 21\n",
      "  89  1.1107757e+00 0.00e+00 1.63e-01  -3.1 1.11e+00    -  1.00e+00 1.31e-08h 27\n",
      "iter    objective    inf_pr   inf_du lg(mu)  ||d||  lg(rg) alpha_du alpha_pr  ls\n",
      "  90  1.1107757e+00 0.00e+00 1.60e-01  -3.1 1.10e+00    -  1.00e+00 1.65e-09h 30\n",
      "  91  1.1107757e+00 0.00e+00 1.58e-01  -3.1 1.08e+00    -  1.00e+00 2.09e-10h 33\n",
      "  92  1.1107757e+00 0.00e+00 1.55e-01  -3.1 1.06e+00    -  1.00e+00 1.06e-10h 34\n",
      "  93  5.9272295e-01 1.91e-02 2.00e-01  -3.1 1.05e+00    -  1.00e+00 9.25e-01w  1\n",
      "  94  6.7009384e-01 7.38e-02 1.99e-01  -3.1 4.74e-01    -  1.00e+00 8.18e-01w  1\n",
      "  95  4.5395638e-01 0.00e+00 4.98e-04  -3.1 1.08e+00    -  1.00e+00 1.00e+00w  1\n",
      "  96r 1.1107757e+00 0.00e+00 1.40e+02  -3.1 0.00e+00    -  0.00e+00 4.41e-07R 21\n",
      "  97r 1.1107498e+00 0.00e+00 1.48e-04  -3.7 1.50e-04    -  1.00e+00 1.00e+00f  1\n",
      "  98  1.1107550e+00 0.00e+00 1.72e-01  -3.1 7.56e+01    -  2.35e-02 3.92e-07f 16\n",
      "  99  1.1107576e+00 0.00e+00 1.71e-01  -3.1 1.03e+00    -  1.00e+00 1.44e-05f 17\n",
      "iter    objective    inf_pr   inf_du lg(mu)  ||d||  lg(rg) alpha_du alpha_pr  ls\n",
      " 100  1.1107589e+00 0.00e+00 1.70e-01  -3.1 1.08e+00    -  1.00e+00 6.88e-06f 18\n",
      " 101  1.1107592e+00 0.00e+00 1.69e-01  -3.1 1.10e+00    -  1.00e+00 1.68e-06h 20\n",
      " 102  1.1107594e+00 0.00e+00 1.67e-01  -3.1 1.11e+00    -  1.00e+00 8.31e-07h 21\n",
      " 103  1.1107595e+00 0.00e+00 1.65e-01  -3.1 1.11e+00    -  1.00e+00 8.31e-07h 21\n",
      " 104  1.1107595e+00 0.00e+00 1.63e-01  -3.1 1.11e+00    -  1.00e+00 1.31e-08h 27\n",
      " 105  1.1107595e+00 0.00e+00 1.60e-01  -3.1 1.10e+00    -  1.00e+00 8.24e-10h 31\n",
      " 106  1.1107595e+00 0.00e+00 1.58e-01  -3.1 1.08e+00    -  1.00e+00 1.31e-11h 37\n",
      " 107  1.1107595e+00 0.00e+00 1.55e-01  -3.1 1.06e+00    -  1.00e+00 1.66e-12h 40\n",
      " 108  5.9276275e-01 1.91e-02 2.00e-01  -3.1 1.05e+00    -  1.00e+00 9.25e-01w  1\n",
      " 109  6.7013685e-01 7.39e-02 1.99e-01  -3.1 4.74e-01    -  1.00e+00 8.18e-01w  1\n",
      "iter    objective    inf_pr   inf_du lg(mu)  ||d||  lg(rg) alpha_du alpha_pr  ls\n",
      " 110  4.5396265e-01 0.00e+00 5.00e-04  -3.1 1.08e+00    -  1.00e+00 1.00e+00w  1\n",
      " 111r 1.1107595e+00 0.00e+00 1.11e+02  -3.1 0.00e+00    -  0.00e+00 4.41e-07R 21\n",
      " 112r 1.1107337e+00 0.00e+00 1.48e-04  -3.7 1.50e-04    -  1.00e+00 1.00e+00f  1\n",
      " 113  1.1107389e+00 0.00e+00 1.72e-01  -3.1 7.56e+01    -  2.35e-02 3.92e-07f 16\n",
      " 114  1.1107415e+00 0.00e+00 1.72e-01  -3.1 1.03e+00    -  1.00e+00 1.44e-05f 17\n",
      " 115  1.1107428e+00 0.00e+00 1.70e-01  -3.1 1.08e+00    -  1.00e+00 6.88e-06f 18\n",
      " 116  1.1107431e+00 0.00e+00 1.69e-01  -3.1 1.10e+00    -  1.00e+00 1.68e-06f 20\n",
      " 117  1.1107433e+00 0.00e+00 1.67e-01  -3.1 1.11e+00    -  1.00e+00 8.31e-07h 21\n",
      " 118  1.1107434e+00 0.00e+00 1.65e-01  -3.1 1.11e+00    -  1.00e+00 8.31e-07h 21\n",
      " 119  1.1107434e+00 0.00e+00 1.63e-01  -3.1 1.11e+00    -  1.00e+00 1.31e-08h 27\n",
      "iter    objective    inf_pr   inf_du lg(mu)  ||d||  lg(rg) alpha_du alpha_pr  ls\n",
      " 120  1.1107434e+00 0.00e+00 1.60e-01  -3.1 1.10e+00    -  1.00e+00 2.06e-10h 33\n",
      " 121  1.1107434e+00 0.00e+00 1.58e-01  -3.1 1.08e+00    -  1.00e+00 1.04e-10h 34\n",
      " 122  1.1107434e+00 0.00e+00 1.55e-01  -3.1 1.06e+00    -  1.00e+00 5.30e-11h 35\n",
      " 123  5.9282421e-01 1.92e-02 2.00e-01  -3.1 1.05e+00    -  1.00e+00 9.25e-01w  1\n",
      " 124  6.7019833e-01 7.39e-02 1.99e-01  -3.1 4.74e-01    -  1.00e+00 8.18e-01w  1\n",
      " 125  4.5397123e-01 0.00e+00 5.05e-04  -3.1 1.08e+00    -  1.00e+00 1.00e+00w  1\n",
      " 126r 1.1107434e+00 0.00e+00 8.52e+01  -3.1 0.00e+00    -  0.00e+00 4.41e-07R 21\n",
      " 127r 1.1107175e+00 0.00e+00 1.48e-04  -3.7 1.50e-04    -  1.00e+00 1.00e+00f  1\n",
      " 128  1.1107228e+00 0.00e+00 1.72e-01  -3.1 7.56e+01    -  2.35e-02 3.91e-07f 16\n",
      " 129  1.1107254e+00 0.00e+00 1.72e-01  -3.1 1.03e+00    -  1.00e+00 1.44e-05f 17\n",
      "iter    objective    inf_pr   inf_du lg(mu)  ||d||  lg(rg) alpha_du alpha_pr  ls\n",
      " 130  1.1107267e+00 0.00e+00 1.70e-01  -3.1 1.08e+00    -  1.00e+00 6.88e-06f 18\n",
      " 131  1.1107270e+00 0.00e+00 1.69e-01  -3.1 1.10e+00    -  1.00e+00 1.68e-06f 20\n",
      " 132  1.1107272e+00 0.00e+00 1.67e-01  -3.1 1.11e+00    -  1.00e+00 8.31e-07h 21\n",
      " 133  1.1107273e+00 0.00e+00 1.65e-01  -3.1 1.11e+00    -  1.00e+00 8.31e-07h 21\n",
      " 134  1.1107273e+00 0.00e+00 1.63e-01  -3.1 1.11e+00    -  1.00e+00 6.53e-09h 28\n",
      " 135  1.1107273e+00 0.00e+00 1.60e-01  -3.1 1.10e+00    -  1.00e+00 3.30e-09h 29\n",
      " 136  1.1107273e+00 0.00e+00 1.58e-01  -3.1 1.08e+00    -  1.00e+00 1.67e-09h 30\n",
      " 137  1.1107273e+00 0.00e+00 1.55e-01  -3.1 1.06e+00    -  1.00e+00 8.48e-10h 31\n",
      " 138  5.9287306e-01 1.92e-02 2.00e-01  -3.1 1.05e+00    -  1.00e+00 9.25e-01w  1\n",
      " 139  6.7024907e-01 7.39e-02 1.99e-01  -3.1 4.74e-01    -  1.00e+00 8.18e-01w  1\n",
      "iter    objective    inf_pr   inf_du lg(mu)  ||d||  lg(rg) alpha_du alpha_pr  ls\n",
      " 140  4.5397847e-01 0.00e+00 5.09e-04  -3.1 1.08e+00    -  1.00e+00 1.00e+00w  1\n",
      " 141r 1.1107273e+00 0.00e+00 6.53e+01  -3.1 0.00e+00    -  0.00e+00 4.41e-07R 21\n",
      " 142r 1.1107014e+00 0.00e+00 1.48e-04  -3.7 1.50e-04    -  1.00e+00 1.00e+00f  1\n",
      " 143  1.1107067e+00 0.00e+00 1.72e-01  -3.1 7.56e+01    -  2.34e-02 3.91e-07f 16\n",
      " 144  1.1107093e+00 0.00e+00 1.72e-01  -3.1 1.03e+00    -  1.00e+00 1.44e-05f 17\n",
      " 145  1.1107106e+00 0.00e+00 1.70e-01  -3.1 1.08e+00    -  1.00e+00 6.88e-06f 18\n",
      " 146  1.1107109e+00 0.00e+00 1.69e-01  -3.1 1.10e+00    -  1.00e+00 1.68e-06f 20\n",
      " 147  1.1107110e+00 0.00e+00 1.67e-01  -3.1 1.11e+00    -  1.00e+00 8.31e-07f 21\n",
      " 148  1.1107112e+00 0.00e+00 1.65e-01  -3.1 1.11e+00    -  1.00e+00 8.31e-07f 21\n",
      " 149  1.1107112e+00 0.00e+00 1.63e-01  -3.1 1.11e+00    -  1.00e+00 6.53e-09h 28\n",
      "iter    objective    inf_pr   inf_du lg(mu)  ||d||  lg(rg) alpha_du alpha_pr  ls\n",
      " 150  1.1107112e+00 0.00e+00 1.60e-01  -3.1 1.10e+00    -  1.00e+00 6.59e-09h 28\n",
      " 151  1.1107112e+00 0.00e+00 1.58e-01  -3.1 1.08e+00    -  1.00e+00 5.22e-11h 35\n",
      " 152  1.1107112e+00 0.00e+00 1.55e-01  -3.1 1.06e+00    -  1.00e+00 1.33e-11h 37\n",
      " 153  5.9292635e-01 1.93e-02 2.00e-01  -3.1 1.05e+00    -  1.00e+00 9.25e-01w  1\n",
      " 154  6.7030357e-01 7.40e-02 1.99e-01  -3.1 4.74e-01    -  1.00e+00 8.18e-01w  1\n",
      " 155  4.5398620e-01 0.00e+00 5.13e-04  -3.1 1.08e+00    -  1.00e+00 1.00e+00w  1\n",
      " 156r 1.1107112e+00 0.00e+00 4.85e+01  -3.1 0.00e+00    -  0.00e+00 4.41e-07R 21\n",
      " 157r 1.1106853e+00 0.00e+00 1.48e-04  -3.7 1.50e-04    -  1.00e+00 1.00e+00f  1\n",
      " 158  1.1106905e+00 0.00e+00 1.72e-01  -3.1 7.56e+01    -  2.34e-02 3.91e-07f 16\n",
      " 159  1.1106931e+00 0.00e+00 1.72e-01  -3.1 1.03e+00    -  1.00e+00 1.44e-05f 17\n",
      "iter    objective    inf_pr   inf_du lg(mu)  ||d||  lg(rg) alpha_du alpha_pr  ls\n",
      " 160  1.1106944e+00 0.00e+00 1.70e-01  -3.1 1.08e+00    -  1.00e+00 6.87e-06f 18\n",
      " 161  1.1106948e+00 0.00e+00 1.69e-01  -3.1 1.10e+00    -  1.00e+00 1.68e-06f 20\n",
      " 162  1.1106949e+00 0.00e+00 1.67e-01  -3.1 1.11e+00    -  1.00e+00 8.31e-07f 21\n",
      " 163  1.1106951e+00 0.00e+00 1.65e-01  -3.1 1.11e+00    -  1.00e+00 8.31e-07f 21\n",
      " 164  1.1106951e+00 0.00e+00 1.63e-01  -3.1 1.11e+00    -  1.00e+00 6.53e-09h 28\n",
      " 165  1.1106951e+00 0.00e+00 1.60e-01  -3.1 1.10e+00    -  1.00e+00 3.30e-09h 29\n",
      " 166  1.1106951e+00 0.00e+00 1.58e-01  -3.1 1.08e+00    -  1.00e+00 1.67e-09h 30\n",
      " 167  1.1106951e+00 0.00e+00 1.55e-01  -3.1 1.06e+00    -  1.00e+00 4.24e-10h 32\n",
      " 168  5.9297258e-01 1.93e-02 2.00e-01  -3.1 1.05e+00    -  1.00e+00 9.25e-01w  1\n",
      " 169  6.7035208e-01 7.40e-02 1.99e-01  -3.1 4.74e-01    -  1.00e+00 8.18e-01w  1\n",
      "iter    objective    inf_pr   inf_du lg(mu)  ||d||  lg(rg) alpha_du alpha_pr  ls\n",
      " 170  4.5399317e-01 0.00e+00 5.16e-04  -3.1 1.08e+00    -  1.00e+00 1.00e+00w  1\n",
      " 171r 1.1106951e+00 0.00e+00 3.69e+01  -3.1 0.00e+00    -  0.00e+00 4.41e-07R 21\n",
      " 172r 1.1106692e+00 0.00e+00 1.48e-04  -3.7 1.50e-04    -  1.00e+00 1.00e+00f  1\n",
      " 173  1.1106744e+00 0.00e+00 1.72e-01  -3.1 7.57e+01    -  2.34e-02 3.91e-07f 16\n",
      " 174  1.1106770e+00 0.00e+00 1.72e-01  -3.1 1.03e+00    -  1.00e+00 1.44e-05f 17\n",
      " 175  1.1106783e+00 0.00e+00 1.70e-01  -3.1 1.08e+00    -  1.00e+00 6.87e-06f 18\n",
      " 176  1.1106786e+00 0.00e+00 1.69e-01  -3.1 1.10e+00    -  1.00e+00 1.68e-06f 20\n",
      " 177  1.1106788e+00 0.00e+00 1.67e-01  -3.1 1.11e+00    -  1.00e+00 8.31e-07f 21\n",
      " 178  1.1106790e+00 0.00e+00 1.65e-01  -3.1 1.11e+00    -  1.00e+00 8.31e-07f 21\n",
      " 179  1.1106790e+00 0.00e+00 1.63e-01  -3.1 1.11e+00    -  1.00e+00 6.53e-09h 28\n",
      "iter    objective    inf_pr   inf_du lg(mu)  ||d||  lg(rg) alpha_du alpha_pr  ls\n",
      " 180  1.1106790e+00 0.00e+00 1.60e-01  -3.1 1.10e+00    -  1.00e+00 3.30e-09h 29\n",
      " 181  1.1106790e+00 0.00e+00 1.58e-01  -3.1 1.08e+00    -  1.00e+00 1.67e-09h 30\n",
      " 182  1.1106790e+00 0.00e+00 1.55e-01  -3.1 1.06e+00    -  1.00e+00 2.12e-10h 33\n",
      " 183  5.9302250e-01 1.93e-02 2.00e-01  -3.1 1.05e+00    -  1.00e+00 9.25e-01w  1\n",
      " 184  6.7040372e-01 7.40e-02 1.99e-01  -3.1 4.75e-01    -  1.00e+00 8.17e-01w  1\n",
      " 185  4.5400055e-01 0.00e+00 5.19e-04  -3.1 1.08e+00    -  1.00e+00 1.00e+00w  1\n",
      " 186r 1.1106790e+00 0.00e+00 2.68e+01  -3.1 0.00e+00    -  0.00e+00 4.41e-07R 21\n",
      " 187r 1.1106531e+00 0.00e+00 1.48e-04  -3.7 1.50e-04    -  1.00e+00 1.00e+00f  1\n",
      " 188  1.1106583e+00 0.00e+00 1.72e-01  -3.1 7.57e+01    -  2.34e-02 3.91e-07f 16\n",
      " 189  1.1106609e+00 0.00e+00 1.72e-01  -3.1 1.03e+00    -  1.00e+00 1.44e-05f 17\n",
      "iter    objective    inf_pr   inf_du lg(mu)  ||d||  lg(rg) alpha_du alpha_pr  ls\n",
      " 190  1.1106622e+00 0.00e+00 1.70e-01  -3.1 1.08e+00    -  1.00e+00 6.87e-06f 18\n",
      " 191  1.1106625e+00 0.00e+00 1.69e-01  -3.1 1.10e+00    -  1.00e+00 1.68e-06f 20\n",
      " 192  1.1106627e+00 0.00e+00 1.67e-01  -3.1 1.11e+00    -  1.00e+00 8.31e-07f 21\n",
      " 193  1.1106629e+00 0.00e+00 1.65e-01  -3.1 1.11e+00    -  1.00e+00 8.31e-07f 21\n",
      " 194  1.1106629e+00 0.00e+00 1.63e-01  -3.1 1.11e+00    -  1.00e+00 6.53e-09h 28\n",
      " 195  1.1106629e+00 0.00e+00 1.60e-01  -3.1 1.10e+00    -  1.00e+00 3.30e-09h 29\n",
      " 196  1.1106629e+00 0.00e+00 1.58e-01  -3.1 1.08e+00    -  1.00e+00 8.36e-10h 31\n",
      " 197  1.1106629e+00 0.00e+00 1.55e-01  -3.1 1.06e+00    -  1.00e+00 4.24e-10h 32\n",
      " 198  5.9307194e-01 1.94e-02 2.00e-01  -3.1 1.05e+00    -  1.00e+00 9.25e-01w  1\n",
      " 199  6.7045495e-01 7.41e-02 1.99e-01  -3.1 4.75e-01    -  1.00e+00 8.17e-01w  1\n",
      "iter    objective    inf_pr   inf_du lg(mu)  ||d||  lg(rg) alpha_du alpha_pr  ls\n",
      " 200  4.5400789e-01 0.00e+00 5.22e-04  -3.1 1.08e+00    -  1.00e+00 1.00e+00w  1\n",
      " 201r 1.1106629e+00 0.00e+00 2.06e+01  -3.1 0.00e+00    -  0.00e+00 4.41e-07R 21\n",
      " 202r 1.1106369e+00 0.00e+00 1.48e-04  -3.7 1.50e-04    -  1.00e+00 1.00e+00f  1\n",
      " 203  1.1106422e+00 0.00e+00 1.72e-01  -3.1 7.57e+01    -  2.34e-02 3.91e-07f 16\n",
      " 204  1.1106448e+00 0.00e+00 1.72e-01  -3.1 1.03e+00    -  1.00e+00 1.44e-05f 17\n",
      " 205  1.1106461e+00 0.00e+00 1.70e-01  -3.1 1.08e+00    -  1.00e+00 6.87e-06f 18\n",
      " 206  1.1106464e+00 0.00e+00 1.69e-01  -3.1 1.10e+00    -  1.00e+00 1.68e-06f 20\n",
      " 207  1.1106466e+00 0.00e+00 1.67e-01  -3.1 1.11e+00    -  1.00e+00 8.31e-07f 21\n",
      " 208  1.1106467e+00 0.00e+00 1.65e-01  -3.1 1.11e+00    -  1.00e+00 8.31e-07f 21\n",
      " 209  1.1106467e+00 0.00e+00 1.63e-01  -3.1 1.11e+00    -  1.00e+00 6.52e-09h 28\n",
      "iter    objective    inf_pr   inf_du lg(mu)  ||d||  lg(rg) alpha_du alpha_pr  ls\n",
      " 210  1.1106467e+00 0.00e+00 1.60e-01  -3.1 1.10e+00    -  1.00e+00 3.30e-09h 29\n",
      " 211  1.1106467e+00 0.00e+00 1.58e-01  -3.1 1.08e+00    -  1.00e+00 8.36e-10h 31\n",
      " 212  1.1106467e+00 0.00e+00 1.55e-01  -3.1 1.07e+00    -  1.00e+00 2.12e-10h 33\n",
      " 213  5.9312186e-01 1.94e-02 2.00e-01  -3.1 1.05e+00    -  1.00e+00 9.25e-01w  1\n",
      " 214  6.7050659e-01 7.41e-02 1.99e-01  -3.1 4.75e-01    -  1.00e+00 8.17e-01w  1\n",
      " 215  4.5401528e-01 0.00e+00 5.26e-04  -3.1 1.08e+00    -  1.00e+00 1.00e+00w  1\n",
      " 216r 1.1106467e+00 0.00e+00 1.47e+01  -3.1 0.00e+00    -  0.00e+00 4.41e-07R 21\n",
      " 217r 1.1106208e+00 0.00e+00 1.48e-04  -3.7 1.50e-04    -  1.00e+00 1.00e+00f  1\n",
      " 218  1.1106260e+00 0.00e+00 1.72e-01  -3.1 7.57e+01    -  2.34e-02 3.91e-07f 16\n",
      " 219  1.1106287e+00 0.00e+00 1.72e-01  -3.1 1.03e+00    -  1.00e+00 1.44e-05f 17\n",
      "iter    objective    inf_pr   inf_du lg(mu)  ||d||  lg(rg) alpha_du alpha_pr  ls\n",
      " 220  1.1106300e+00 0.00e+00 1.70e-01  -3.1 1.08e+00    -  1.00e+00 6.87e-06f 18\n",
      " 221  1.1106303e+00 0.00e+00 1.69e-01  -3.1 1.10e+00    -  1.00e+00 1.68e-06f 20\n",
      " 222  1.1106304e+00 0.00e+00 1.67e-01  -3.1 1.11e+00    -  1.00e+00 8.31e-07f 21\n",
      " 223  1.1106306e+00 0.00e+00 1.65e-01  -3.1 1.11e+00    -  1.00e+00 8.31e-07f 21\n",
      " 224  1.1106306e+00 0.00e+00 1.63e-01  -3.1 1.11e+00    -  1.00e+00 6.52e-09h 28\n",
      " 225  1.1106306e+00 0.00e+00 1.60e-01  -3.1 1.10e+00    -  1.00e+00 3.30e-09h 29\n",
      " 226  1.1106306e+00 0.00e+00 1.58e-01  -3.1 1.08e+00    -  1.00e+00 4.18e-10h 32\n",
      " 227  1.1106306e+00 0.00e+00 1.55e-01  -3.1 1.07e+00    -  1.00e+00 2.12e-10h 33\n",
      " 228  5.9317161e-01 1.94e-02 2.00e-01  -3.1 1.05e+00    -  1.00e+00 9.25e-01w  1\n",
      " 229  6.7055810e-01 7.42e-02 1.99e-01  -3.1 4.75e-01    -  1.00e+00 8.17e-01w  1\n",
      "iter    objective    inf_pr   inf_du lg(mu)  ||d||  lg(rg) alpha_du alpha_pr  ls\n",
      " 230  4.5402267e-01 0.00e+00 5.29e-04  -3.1 1.08e+00    -  1.00e+00 1.00e+00w  1\n",
      " 231r 1.1106306e+00 0.00e+00 1.15e+01  -3.1 0.00e+00    -  0.00e+00 4.41e-07R 21\n",
      " 232r 1.1106047e+00 0.00e+00 1.48e-04  -3.7 1.50e-04    -  1.00e+00 1.00e+00f  1\n",
      " 233  1.1106099e+00 0.00e+00 1.72e-01  -3.1 7.57e+01    -  2.34e-02 3.91e-07f 16\n",
      " 234  1.1106125e+00 0.00e+00 1.72e-01  -3.1 1.03e+00    -  1.00e+00 1.44e-05f 17\n",
      " 235  1.1106138e+00 0.00e+00 1.70e-01  -3.1 1.08e+00    -  1.00e+00 6.87e-06f 18\n",
      " 236  1.1106142e+00 0.00e+00 1.69e-01  -3.1 1.10e+00    -  1.00e+00 1.68e-06f 20\n",
      " 237  1.1106143e+00 0.00e+00 1.67e-01  -3.1 1.11e+00    -  1.00e+00 8.31e-07f 21\n",
      " 238  1.1106145e+00 0.00e+00 1.65e-01  -3.1 1.11e+00    -  1.00e+00 8.31e-07f 21\n",
      " 239  1.1106145e+00 0.00e+00 1.63e-01  -3.1 1.11e+00    -  1.00e+00 6.52e-09h 28\n",
      "iter    objective    inf_pr   inf_du lg(mu)  ||d||  lg(rg) alpha_du alpha_pr  ls\n",
      " 240  1.1106145e+00 0.00e+00 1.60e-01  -3.1 1.10e+00    -  1.00e+00 3.30e-09h 29\n",
      " 241  1.1106145e+00 0.00e+00 1.58e-01  -3.1 1.08e+00    -  1.00e+00 1.04e-10h 34\n",
      " 242  1.1106145e+00 0.00e+00 1.55e-01  -3.1 1.07e+00    -  1.00e+00 1.33e-11h 37\n",
      " 243  5.9321608e-01 1.95e-02 2.00e-01  -3.1 1.05e+00    -  1.00e+00 9.25e-01w  1\n",
      " 244  6.7060506e-01 7.42e-02 1.99e-01  -3.1 4.75e-01    -  1.00e+00 8.17e-01w  1\n",
      " 245  4.5402949e-01 0.00e+00 5.32e-04  -3.1 1.08e+00    -  1.00e+00 1.00e+00w  1\n",
      " 246r 1.1106145e+00 0.00e+00 7.92e+00  -3.1 0.00e+00    -  0.00e+00 4.41e-07R 21\n",
      " 247r 1.1105886e+00 0.00e+00 1.48e-04  -3.7 1.50e-04    -  1.00e+00 1.00e+00f  1\n",
      " 248  1.1105938e+00 0.00e+00 1.73e-01  -3.1 7.57e+01    -  2.34e-02 3.91e-07f 16\n",
      " 249  1.1105964e+00 0.00e+00 1.72e-01  -3.1 1.03e+00    -  1.00e+00 1.44e-05f 17\n",
      "iter    objective    inf_pr   inf_du lg(mu)  ||d||  lg(rg) alpha_du alpha_pr  ls\n",
      " 250  1.1105977e+00 0.00e+00 1.70e-01  -3.1 1.08e+00    -  1.00e+00 6.87e-06f 18\n",
      " 251  1.1105980e+00 0.00e+00 1.69e-01  -3.1 1.10e+00    -  1.00e+00 1.68e-06f 20\n",
      " 252  1.1105982e+00 0.00e+00 1.67e-01  -3.1 1.11e+00    -  1.00e+00 8.31e-07f 21\n",
      " 253  1.1105984e+00 0.00e+00 1.65e-01  -3.1 1.11e+00    -  1.00e+00 8.31e-07f 21\n",
      " 254  1.1105984e+00 0.00e+00 1.63e-01  -3.1 1.11e+00    -  1.00e+00 6.52e-09h 28\n",
      " 255  1.1105984e+00 0.00e+00 1.60e-01  -3.1 1.10e+00    -  1.00e+00 1.65e-09h 30\n",
      " 256  1.1105984e+00 0.00e+00 1.58e-01  -3.1 1.08e+00    -  1.00e+00 8.36e-10h 31\n",
      " 257  1.1105984e+00 0.00e+00 1.55e-01  -3.1 1.07e+00    -  1.00e+00 4.24e-10h 32\n",
      " 258  5.9327102e-01 1.95e-02 2.00e-01  -3.1 1.05e+00    -  1.00e+00 9.25e-01w  1\n",
      " 259  6.7066101e-01 7.42e-02 1.99e-01  -3.1 4.75e-01    -  1.00e+00 8.17e-01w  1\n",
      "iter    objective    inf_pr   inf_du lg(mu)  ||d||  lg(rg) alpha_du alpha_pr  ls\n",
      " 260  4.5403745e-01 0.00e+00 5.36e-04  -3.1 1.08e+00    -  1.00e+00 1.00e+00w  1\n",
      " 261r 1.1105984e+00 0.00e+00 6.49e+00  -3.1 0.00e+00    -  0.00e+00 4.41e-07R 21\n",
      " 262r 1.1105724e+00 0.00e+00 1.48e-04  -3.7 1.50e-04    -  1.00e+00 1.00e+00f  1\n",
      " 263  1.1105777e+00 0.00e+00 1.73e-01  -3.1 7.58e+01    -  2.34e-02 3.91e-07f 16\n",
      " 264  1.1105803e+00 0.00e+00 1.72e-01  -3.1 1.03e+00    -  1.00e+00 1.44e-05f 17\n",
      " 265  1.1105816e+00 0.00e+00 1.70e-01  -3.1 1.08e+00    -  1.00e+00 6.87e-06f 18\n",
      " 266  1.1105819e+00 0.00e+00 1.69e-01  -3.1 1.10e+00    -  1.00e+00 1.68e-06f 20\n",
      " 267  1.1105821e+00 0.00e+00 1.67e-01  -3.1 1.11e+00    -  1.00e+00 8.31e-07f 21\n",
      " 268  1.1105822e+00 0.00e+00 1.65e-01  -3.1 1.11e+00    -  1.00e+00 8.31e-07f 21\n",
      " 269  1.1105822e+00 0.00e+00 1.63e-01  -3.1 1.11e+00    -  1.00e+00 6.52e-09h 28\n",
      "iter    objective    inf_pr   inf_du lg(mu)  ||d||  lg(rg) alpha_du alpha_pr  ls\n",
      " 270  1.1105822e+00 0.00e+00 1.60e-01  -3.1 1.10e+00    -  1.00e+00 1.65e-09h 30\n",
      " 271  1.1105822e+00 0.00e+00 1.58e-01  -3.1 1.08e+00    -  1.00e+00 8.36e-10h 31\n",
      " 272  1.1105822e+00 0.00e+00 1.55e-01  -3.1 1.07e+00    -  1.00e+00 2.12e-10h 33\n",
      " 273  5.9332118e-01 1.95e-02 2.00e-01  -3.1 1.05e+00    -  1.00e+00 9.25e-01w  1\n",
      " 274  6.7071287e-01 7.43e-02 1.99e-01  -3.1 4.75e-01    -  1.00e+00 8.17e-01w  1\n",
      " 275  4.5404491e-01 0.00e+00 5.40e-04  -3.1 1.08e+00    -  1.00e+00 1.00e+00w  1\n",
      " 276r 1.1105822e+00 0.00e+00 4.19e+00  -3.1 0.00e+00    -  0.00e+00 4.41e-07R 21\n",
      " 277r 1.1105563e+00 0.00e+00 1.48e-04  -3.7 1.50e-04    -  1.00e+00 1.00e+00f  1\n",
      " 278  1.1105615e+00 0.00e+00 1.73e-01  -3.1 7.58e+01    -  2.34e-02 3.91e-07f 16\n",
      " 279  1.1105641e+00 0.00e+00 1.72e-01  -3.1 1.03e+00    -  1.00e+00 1.44e-05f 17\n",
      "iter    objective    inf_pr   inf_du lg(mu)  ||d||  lg(rg) alpha_du alpha_pr  ls\n",
      " 280  1.1105654e+00 0.00e+00 1.70e-01  -3.1 1.08e+00    -  1.00e+00 6.87e-06f 18\n",
      " 281  1.1105658e+00 0.00e+00 1.69e-01  -3.1 1.10e+00    -  1.00e+00 1.68e-06f 20\n",
      " 282  1.1105659e+00 0.00e+00 1.67e-01  -3.1 1.11e+00    -  1.00e+00 8.30e-07f 21\n",
      " 283  1.1105661e+00 0.00e+00 1.65e-01  -3.1 1.11e+00    -  1.00e+00 8.31e-07f 21\n",
      " 284  1.1105661e+00 0.00e+00 1.63e-01  -3.1 1.11e+00    -  1.00e+00 6.52e-09h 28\n",
      " 285  1.1105661e+00 0.00e+00 1.60e-01  -3.1 1.10e+00    -  1.00e+00 1.65e-09h 30\n",
      " 286  1.1105661e+00 0.00e+00 1.58e-01  -3.1 1.08e+00    -  1.00e+00 4.18e-10h 32\n",
      " 287  1.1105661e+00 0.00e+00 1.55e-01  -3.1 1.07e+00    -  1.00e+00 1.06e-10h 34\n",
      " 288  5.9337025e-01 1.96e-02 2.00e-01  -3.1 1.05e+00    -  1.00e+00 9.25e-01w  1\n",
      " 289  6.7076378e-01 7.43e-02 1.99e-01  -3.1 4.75e-01    -  1.00e+00 8.17e-01w  1\n",
      "iter    objective    inf_pr   inf_du lg(mu)  ||d||  lg(rg) alpha_du alpha_pr  ls\n",
      " 290  4.5405225e-01 0.00e+00 5.43e-04  -3.1 1.08e+00    -  1.00e+00 1.00e+00w  1\n",
      " 291r 1.1105661e+00 0.00e+00 3.73e+00  -3.1 0.00e+00    -  0.00e+00 4.41e-07R 21\n",
      " 292r 1.1105402e+00 0.00e+00 1.48e-04  -3.7 1.50e-04    -  1.00e+00 1.00e+00f  1\n",
      " 293  1.1105454e+00 0.00e+00 1.73e-01  -3.1 7.58e+01    -  2.34e-02 3.91e-07f 16\n",
      " 294  1.1105480e+00 0.00e+00 1.72e-01  -3.1 1.03e+00    -  1.00e+00 1.44e-05f 17\n",
      " 295  1.1105493e+00 0.00e+00 1.70e-01  -3.1 1.08e+00    -  1.00e+00 6.87e-06f 18\n",
      " 296  1.1105496e+00 0.00e+00 1.69e-01  -3.1 1.10e+00    -  1.00e+00 1.68e-06f 20\n",
      " 297  1.1105498e+00 0.00e+00 1.67e-01  -3.1 1.11e+00    -  1.00e+00 8.30e-07f 21\n",
      " 298  1.1105500e+00 0.00e+00 1.65e-01  -3.1 1.11e+00    -  1.00e+00 8.31e-07f 21\n",
      " 299  1.1105500e+00 0.00e+00 1.63e-01  -3.1 1.11e+00    -  1.00e+00 6.52e-09h 28\n",
      "iter    objective    inf_pr   inf_du lg(mu)  ||d||  lg(rg) alpha_du alpha_pr  ls\n",
      " 300  1.1105500e+00 0.00e+00 1.60e-01  -3.1 1.10e+00    -  1.00e+00 1.65e-09h 30\n",
      " 301  1.1105500e+00 0.00e+00 1.58e-01  -3.1 1.08e+00    -  1.00e+00 2.09e-10h 33\n",
      " 302  1.1105500e+00 0.00e+00 1.55e-01  -3.1 1.07e+00    -  1.00e+00 2.65e-11h 36\n",
      " 303  5.9342257e-01 1.96e-02 2.00e-01  -3.1 1.05e+00    -  1.00e+00 9.25e-01w  1\n",
      " 304  6.7081748e-01 7.43e-02 1.99e-01  -3.1 4.75e-01    -  1.00e+00 8.17e-01w  1\n",
      " 305  4.5405995e-01 0.00e+00 5.47e-04  -3.1 1.08e+00    -  1.00e+00 1.00e+00w  1\n",
      " 306r 1.1105500e+00 0.00e+00 2.15e+00  -3.1 0.00e+00    -  0.00e+00 4.41e-07R 21\n",
      " 307r 1.1105240e+00 0.00e+00 1.48e-04  -3.7 1.50e-04    -  1.00e+00 1.00e+00f  1\n",
      " 308r 5.4504845e-01 0.00e+00 5.85e-08  -9.0 1.44e-04    -  1.00e+00 1.00e+00f  1\n",
      " 309r 5.4504813e-01 0.00e+00 1.29e-08  -9.0 3.71e-01    -  1.00e+00 1.00e+00h  1\n",
      "iter    objective    inf_pr   inf_du lg(mu)  ||d||  lg(rg) alpha_du alpha_pr  ls\n",
      " 310  5.4520922e-01 0.00e+00 1.66e-01  -3.1 2.95e+01    -  6.59e-02 2.73e-05f  8\n",
      " 311  5.4552890e-01 0.00e+00 2.86e-03  -3.1 1.48e+00    -  1.00e+00 1.03e-03f  7\n",
      " 312  5.6547821e-01 0.00e+00 3.63e-04  -4.4 9.75e-02    -  9.88e-01 9.73e-01f  1\n",
      " 313  5.6560383e-01 0.00e+00 5.04e-05  -4.1 2.85e-03    -  1.00e+00 1.00e+00h  1\n",
      " 314  5.6568543e-01 0.00e+00 1.47e-08 -10.1 4.10e-04    -  1.00e+00 1.00e+00h  1\n",
      " 315  5.6568544e-01 0.00e+00 6.52e-12 -11.0 8.27e-07    -  1.00e+00 1.00e+00h  1\n",
      "\n",
      "Number of Iterations....: 315\n",
      "\n",
      "                                   (scaled)                 (unscaled)\n",
      "Objective...............:  -5.6568543908133440e-01    5.6568543908133440e-01\n",
      "Dual infeasibility......:   6.5249806951410279e-12    6.5249806951410279e-12\n",
      "Constraint violation....:   0.0000000000000000e+00    0.0000000000000000e+00\n",
      "Variable bound violation:   0.0000000000000000e+00    0.0000000000000000e+00\n",
      "Complementarity.........:   1.0008899264658257e-11    1.0008899264658257e-11\n",
      "Overall NLP error.......:   1.0008899264658257e-11    1.0008899264658257e-11\n",
      "\n",
      "\n",
      "Number of objective function evaluations             = 6123\n",
      "Number of objective gradient evaluations             = 332\n",
      "Number of equality constraint evaluations            = 0\n",
      "Number of inequality constraint evaluations          = 6141\n",
      "Number of equality constraint Jacobian evaluations   = 0\n",
      "Number of inequality constraint Jacobian evaluations = 336\n",
      "Number of Lagrangian Hessian evaluations             = 0\n",
      "Total seconds in IPOPT                               = 4.350\n",
      "\n",
      "EXIT: Optimal Solution Found.\n",
      "x =0.9409944555659439"
     ]
    },
    {
     "name": "stdout",
     "output_type": "stream",
     "text": [
      "\n",
      "y =1.9571044632935377\n"
     ]
    }
   ],
   "source": [
    "# Este nosso modelo matematico\n",
    "using JuMP, Ipopt, Statistics, LinearAlgebra, PolygonOps\n",
    "\n",
    "m = Model(Ipopt.Optimizer)\n",
    "apartamento = zeros(4,4)\n",
    "interferencias = false                                                  # esta é matriz que define o tamanho do apartamento\n",
    "interferencias = [ [[0,2] , [1,2]]]                                    # posições bidimensionais das interferencias\n",
    "dispositivos = [[0,0],[0,4]]\n",
    "\n",
    "function in_low_circle(x,y,x_dev,y_dev)\n",
    "    for interferencia in interferencias\n",
    "        oa = [interferencia[1][1] - x, interferencia[1][2] - y, 0 ]\n",
    "        op = [x_dev - x, y_dev - y, 0   ]\n",
    "        ab = [interferencia[2][1] - interferencia[1][1], interferencia[2][2]- interferencia[1][2], 0]\n",
    "        ap = [x_dev - interferencia[1][1],  y_dev - interferencia[1][2], 0  ]\n",
    "        ob = [interferencia[2][1] - x,interferencia[2][2] - y, 0 ]\n",
    "        if cross(oa,op)[3] <=0 && cross(ab,ap)[3] >=0 && cross(ob,op)[3] >=0\n",
    "            return 1\n",
    "        end\n",
    "    end\n",
    "    return 0\n",
    "end\n",
    "function interference(x,y,x_dev,y_dev)\n",
    "    for interferencia in interferencias\n",
    "        proj_1 = [(5*cos(atan(interferencia[1][2]/interferencia[1][1])))+x, (5*sin(atan(interferencia[1][2]/interferencia[1][1])))+y] \n",
    "        proj_2 = [(5*cos(atan(interferencia[2][2]/interferencia[2][1])))+x, (5*sin(atan(interferencia[2][2]/interferencia[2][1])))+y]\n",
    "        if inpolygon([x_dev,y_dev],[interferencia[1],interferencia[2],proj_2,proj_1,interferencia[1]]) == 1\n",
    "            return 1\n",
    "        end\n",
    "    end\n",
    "    return 0\n",
    "end \n",
    "\n",
    "function force(x,y, std_dev)\n",
    "    forca = []\n",
    "    for i in dispositivos\n",
    "        distancia = sqrt((x-i[1])^2+(y-i[2])^2) # a distancia entre o roteador e os dispositivos ´pode ser calculado pela distancia euclidiana\n",
    "        f_= 1-0.2*distancia                     # a forca do sinal definida pela funcao apresentada no modelo matematico\n",
    "        if f_ < 0\n",
    "            f_ = 0                              # não é possivel ter sinais negativos\n",
    "        else\n",
    "            if interference(x,y,i[1],i[2]) == 1 || in_low_circle(x,y,i[1],i[2]) == 1\n",
    "                f_ = 0\n",
    "            end\n",
    "        end\n",
    "        push!(forca,f_)\n",
    "    end\n",
    "    if std_dev == 1\n",
    "        return Statistics.std(forca)\n",
    "    elseif std_dev == -1\n",
    "        return forca\n",
    "    else\n",
    "        return sum(forca)\n",
    "    end\n",
    "end\n",
    "\n",
    "register(m, :interference, 4, interference, autodiff=true)\n",
    "register(m, :force, 3, force, autodiff=true)\n",
    "@variable(m, 0 <= x <= size(apartamento)[1])                            # as posições devem ser positivas\n",
    "@variable(m, 0 <= y <= size(apartamento)[2])                            # as posições devem ser positivas e os roteadores da matriz não podem ser posicionados fora dos limites do apartamento\n",
    "@NLconstraint(m, force(x,y,1)<= 0.4)\n",
    "@NLconstraint(m, )\n",
    "@NLobjective(m, Max, force(x,y,0))                 # queremos maximizar a soma do sinal de wifi\n",
    "\n",
    "optimize!(m)\n",
    "\n",
    "println(\"x =\", JuMP.value.(x))     # imprime o resultado na tela\n",
    "println(\"y =\", JuMP.value.(y))     # imprime o resultado na tela\n"
   ]
  },
  {
   "cell_type": "markdown",
   "metadata": {},
   "source": [
    "**Tenha certeza de que seu código compila corretamente! Rodarei seu código!**"
   ]
  },
  {
   "attachments": {},
   "cell_type": "markdown",
   "metadata": {
    "collapsed": true
   },
   "source": [
    "## 4. Resultados e discussão ##\n",
    "\n",
    "Neste seção, os resultados obtidos serão exibidos e discutidos. Mostre figuras, gráficos, imagens, curvas de compromisso, e o que mais puder melhor ilustrar seus resultados. A discussão deverá explicar o que significam os resultados e como interpretá-los. As limitações da sua abordagem/modelo também devem ser colocadas, bem como uma análise da sensibilidade dos resultados em relação às hipóteses feitas.\n",
    "\n",
    "\n",
    "Utilize plots (veja exemplos  `PyPlot` [aqui](https://gist.github.com/gizmaa/7214002))\n",
    "\n",
    "Aqui está um exemplo de uma tabela (em Markdown):\n",
    "\n",
    "| Tabelas        | São           | Boas  |\n",
    "| ------------- |:-------------:| -----:|\n",
    "| col 3 é      | alinhado à direita |\\$1600 |\n",
    "| col 2 é      | centrado      |  \\$12 |\n",
    "| texto | também serve      |   \\$1 |\n",
    "\n",
    "### 4.A. Modelo visual da posição dos objetos\n"
   ]
  },
  {
   "cell_type": "code",
   "execution_count": 42,
   "metadata": {},
   "outputs": [
    {
     "data": {
      "image/png": "[encoded data removed]",
      "image/svg+xml": "<?xml version=\"1.0\" encoding=\"utf-8\"?>\n<svg xmlns=\"http://www.w3.org/2000/svg\" xmlns:xlink=\"http://www.w3.org/1999/xlink\" width=\"600\" height=\"400\" viewBox=\"0 0 2400 1600\">\n<defs>\n  <clipPath id=\"clip160\">\n    <rect x=\"0\" y=\"0\" width=\"2400\" height=\"1600\"/>\n  </clipPath>\n</defs>\n<path clip-path=\"url(#clip160)\" d=\"\nM0 1600 L2400 1600 L2400 0 L0 0  Z\n  \" fill=\"#ffffff\" fill-rule=\"evenodd\" fill-opacity=\"1\"/>\n<defs>\n  <clipPath id=\"clip161\">\n    <rect x=\"480\" y=\"0\" width=\"1681\" height=\"1600\"/>\n  </clipPath>\n</defs>\n<path clip-path=\"url(#clip160)\" d=\"\nM112.177 1486.45 L2352.76 1486.45 L2352.76 47.2441 L112.177 47.2441  Z\n  \" fill=\"#ffffff\" fill-rule=\"evenodd\" fill-opacity=\"1\"/>\n<defs>\n  <clipPath id=\"clip162\">\n    <rect x=\"112\" y=\"47\" width=\"2242\" height=\"1440\"/>\n  </clipPath>\n</defs>\n<polyline clip-path=\"url(#clip162)\" style=\"stroke:#000000; stroke-linecap:round; stroke-linejoin:round; stroke-width:2; stroke-opacity:0.1; fill:none\" points=\"\n  175.59,1486.45 175.59,47.2441 \n  \"/>\n<polyline clip-path=\"url(#clip162)\" style=\"stroke:#000000; stroke-linecap:round; stroke-linejoin:round; stroke-width:2; stroke-opacity:0.1; fill:none\" points=\"\n  704.028,1486.45 704.028,47.2441 \n  \"/>\n<polyline clip-path=\"url(#clip162)\" style=\"stroke:#000000; stroke-linecap:round; stroke-linejoin:round; stroke-width:2; stroke-opacity:0.1; fill:none\" points=\"\n  1232.47,1486.45 1232.47,47.2441 \n  \"/>\n<polyline clip-path=\"url(#clip162)\" style=\"stroke:#000000; stroke-linecap:round; stroke-linejoin:round; stroke-width:2; stroke-opacity:0.1; fill:none\" points=\"\n  1760.9,1486.45 1760.9,47.2441 \n  \"/>\n<polyline clip-path=\"url(#clip162)\" style=\"stroke:#000000; stroke-linecap:round; stroke-linejoin:round; stroke-width:2; stroke-opacity:0.1; fill:none\" points=\"\n  2289.34,1486.45 2289.34,47.2441 \n  \"/>\n<polyline clip-path=\"url(#clip160)\" style=\"stroke:#000000; stroke-linecap:round; stroke-linejoin:round; stroke-width:4; stroke-opacity:1; fill:none\" points=\"\n  112.177,1486.45 2352.76,1486.45 \n  \"/>\n<polyline clip-path=\"url(#clip160)\" style=\"stroke:#000000; stroke-linecap:round; stroke-linejoin:round; stroke-width:4; stroke-opacity:1; fill:none\" points=\"\n  175.59,1486.45 175.59,1467.55 \n  \"/>\n<polyline clip-path=\"url(#clip160)\" style=\"stroke:#000000; stroke-linecap:round; stroke-linejoin:round; stroke-width:4; stroke-opacity:1; fill:none\" points=\"\n  704.028,1486.45 704.028,1467.55 \n  \"/>\n<polyline clip-path=\"url(#clip160)\" style=\"stroke:#000000; stroke-linecap:round; stroke-linejoin:round; stroke-width:4; stroke-opacity:1; fill:none\" points=\"\n  1232.47,1486.45 1232.47,1467.55 \n  \"/>\n<polyline clip-path=\"url(#clip160)\" style=\"stroke:#000000; stroke-linecap:round; stroke-linejoin:round; stroke-width:4; stroke-opacity:1; fill:none\" points=\"\n  1760.9,1486.45 1760.9,1467.55 \n  \"/>\n<polyline clip-path=\"url(#clip160)\" style=\"stroke:#000000; stroke-linecap:round; stroke-linejoin:round; stroke-width:4; stroke-opacity:1; fill:none\" points=\"\n  2289.34,1486.45 2289.34,1467.55 \n  \"/>\n<path clip-path=\"url(#clip160)\" d=\"M137.893 1517.37 Q134.282 1517.37 132.453 1520.93 Q130.648 1524.47 130.648 1531.6 Q130.648 1538.71 132.453 1542.27 Q134.282 1545.82 137.893 1545.82 Q141.527 1545.82 143.333 1542.27 Q145.162 1538.71 145.162 1531.6 Q145.162 1524.47 143.333 1520.93 Q141.527 1517.37 137.893 1517.37 M137.893 1513.66 Q143.703 1513.66 146.759 1518.27 Q149.838 1522.85 149.838 1531.6 Q149.838 1540.33 146.759 1544.94 Q143.703 1549.52 137.893 1549.52 Q132.083 1549.52 129.004 1544.94 Q125.949 1540.33 125.949 1531.6 Q125.949 1522.85 129.004 1518.27 Q132.083 1513.66 137.893 1513.66 Z\" fill=\"#000000\" fill-rule=\"evenodd\" fill-opacity=\"1\" /><path clip-path=\"url(#clip160)\" d=\"M158.055 1542.97 L162.939 1542.97 L162.939 1548.85 L158.055 1548.85 L158.055 1542.97 Z\" fill=\"#000000\" fill-rule=\"evenodd\" fill-opacity=\"1\" /><path clip-path=\"url(#clip160)\" d=\"M183.124 1517.37 Q179.513 1517.37 177.685 1520.93 Q175.879 1524.47 175.879 1531.6 Q175.879 1538.71 177.685 1542.27 Q179.513 1545.82 183.124 1545.82 Q186.759 1545.82 188.564 1542.27 Q190.393 1538.71 190.393 1531.6 Q190.393 1524.47 188.564 1520.93 Q186.759 1517.37 183.124 1517.37 M183.124 1513.66 Q188.935 1513.66 191.99 1518.27 Q195.069 1522.85 195.069 1531.6 Q195.069 1540.33 191.99 1544.94 Q188.935 1549.52 183.124 1549.52 Q177.314 1549.52 174.236 1544.94 Q171.18 1540.33 171.18 1531.6 Q171.18 1522.85 174.236 1518.27 Q177.314 1513.66 183.124 1513.66 Z\" fill=\"#000000\" fill-rule=\"evenodd\" fill-opacity=\"1\" /><path clip-path=\"url(#clip160)\" d=\"M213.286 1517.37 Q209.675 1517.37 207.847 1520.93 Q206.041 1524.47 206.041 1531.6 Q206.041 1538.71 207.847 1542.27 Q209.675 1545.82 213.286 1545.82 Q216.921 1545.82 218.726 1542.27 Q220.555 1538.71 220.555 1531.6 Q220.555 1524.47 218.726 1520.93 Q216.921 1517.37 213.286 1517.37 M213.286 1513.66 Q219.096 1513.66 222.152 1518.27 Q225.231 1522.85 225.231 1531.6 Q225.231 1540.33 222.152 1544.94 Q219.096 1549.52 213.286 1549.52 Q207.476 1549.52 204.397 1544.94 Q201.342 1540.33 201.342 1531.6 Q201.342 1522.85 204.397 1518.27 Q207.476 1513.66 213.286 1513.66 Z\" fill=\"#000000\" fill-rule=\"evenodd\" fill-opacity=\"1\" /><path clip-path=\"url(#clip160)\" d=\"M666.829 1517.37 Q663.218 1517.37 661.39 1520.93 Q659.584 1524.47 659.584 1531.6 Q659.584 1538.71 661.39 1542.27 Q663.218 1545.82 666.829 1545.82 Q670.464 1545.82 672.269 1542.27 Q674.098 1538.71 674.098 1531.6 Q674.098 1524.47 672.269 1520.93 Q670.464 1517.37 666.829 1517.37 M666.829 1513.66 Q672.639 1513.66 675.695 1518.27 Q678.774 1522.85 678.774 1531.6 Q678.774 1540.33 675.695 1544.94 Q672.639 1549.52 666.829 1549.52 Q661.019 1549.52 657.94 1544.94 Q654.885 1540.33 654.885 1531.6 Q654.885 1522.85 657.94 1518.27 Q661.019 1513.66 666.829 1513.66 Z\" fill=\"#000000\" fill-rule=\"evenodd\" fill-opacity=\"1\" /><path clip-path=\"url(#clip160)\" d=\"M686.991 1542.97 L691.875 1542.97 L691.875 1548.85 L686.991 1548.85 L686.991 1542.97 Z\" fill=\"#000000\" fill-rule=\"evenodd\" fill-opacity=\"1\" /><path clip-path=\"url(#clip160)\" d=\"M706.088 1544.91 L722.408 1544.91 L722.408 1548.85 L700.463 1548.85 L700.463 1544.91 Q703.125 1542.16 707.709 1537.53 Q712.315 1532.88 713.496 1531.53 Q715.741 1529.01 716.621 1527.27 Q717.523 1525.51 717.523 1523.82 Q717.523 1521.07 715.579 1519.33 Q713.658 1517.6 710.556 1517.6 Q708.357 1517.6 705.903 1518.36 Q703.473 1519.13 700.695 1520.68 L700.695 1515.95 Q703.519 1514.82 705.973 1514.24 Q708.426 1513.66 710.463 1513.66 Q715.834 1513.66 719.028 1516.35 Q722.223 1519.03 722.223 1523.52 Q722.223 1525.65 721.412 1527.57 Q720.625 1529.47 718.519 1532.07 Q717.94 1532.74 714.838 1535.95 Q711.736 1539.15 706.088 1544.91 Z\" fill=\"#000000\" fill-rule=\"evenodd\" fill-opacity=\"1\" /><path clip-path=\"url(#clip160)\" d=\"M732.269 1514.29 L750.625 1514.29 L750.625 1518.22 L736.551 1518.22 L736.551 1526.7 Q737.57 1526.35 738.588 1526.19 Q739.607 1526 740.625 1526 Q746.412 1526 749.792 1529.17 Q753.171 1532.34 753.171 1537.76 Q753.171 1543.34 749.699 1546.44 Q746.227 1549.52 739.908 1549.52 Q737.732 1549.52 735.463 1549.15 Q733.218 1548.78 730.81 1548.04 L730.81 1543.34 Q732.894 1544.47 735.116 1545.03 Q737.338 1545.58 739.815 1545.58 Q743.82 1545.58 746.158 1543.48 Q748.496 1541.37 748.496 1537.76 Q748.496 1534.15 746.158 1532.04 Q743.82 1529.94 739.815 1529.94 Q737.94 1529.94 736.065 1530.35 Q734.213 1530.77 732.269 1531.65 L732.269 1514.29 Z\" fill=\"#000000\" fill-rule=\"evenodd\" fill-opacity=\"1\" /><path clip-path=\"url(#clip160)\" d=\"M1194.77 1517.37 Q1191.16 1517.37 1189.33 1520.93 Q1187.52 1524.47 1187.52 1531.6 Q1187.52 1538.71 1189.33 1542.27 Q1191.16 1545.82 1194.77 1545.82 Q1198.4 1545.82 1200.21 1542.27 Q1202.04 1538.71 1202.04 1531.6 Q1202.04 1524.47 1200.21 1520.93 Q1198.4 1517.37 1194.77 1517.37 M1194.77 1513.66 Q1200.58 1513.66 1203.64 1518.27 Q1206.71 1522.85 1206.71 1531.6 Q1206.71 1540.33 1203.64 1544.94 Q1200.58 1549.52 1194.77 1549.52 Q1188.96 1549.52 1185.88 1544.94 Q1182.83 1540.33 1182.83 1531.6 Q1182.83 1522.85 1185.88 1518.27 Q1188.96 1513.66 1194.77 1513.66 Z\" fill=\"#000000\" fill-rule=\"evenodd\" fill-opacity=\"1\" /><path clip-path=\"url(#clip160)\" d=\"M1214.93 1542.97 L1219.82 1542.97 L1219.82 1548.85 L1214.93 1548.85 L1214.93 1542.97 Z\" fill=\"#000000\" fill-rule=\"evenodd\" fill-opacity=\"1\" /><path clip-path=\"url(#clip160)\" d=\"M1230.05 1514.29 L1248.4 1514.29 L1248.4 1518.22 L1234.33 1518.22 L1234.33 1526.7 Q1235.35 1526.35 1236.37 1526.19 Q1237.39 1526 1238.4 1526 Q1244.19 1526 1247.57 1529.17 Q1250.95 1532.34 1250.95 1537.76 Q1250.95 1543.34 1247.48 1546.44 Q1244.01 1549.52 1237.69 1549.52 Q1235.51 1549.52 1233.24 1549.15 Q1231 1548.78 1228.59 1548.04 L1228.59 1543.34 Q1230.67 1544.47 1232.89 1545.03 Q1235.12 1545.58 1237.59 1545.58 Q1241.6 1545.58 1243.94 1543.48 Q1246.27 1541.37 1246.27 1537.76 Q1246.27 1534.15 1243.94 1532.04 Q1241.6 1529.94 1237.59 1529.94 Q1235.72 1529.94 1233.84 1530.35 Q1231.99 1530.77 1230.05 1531.65 L1230.05 1514.29 Z\" fill=\"#000000\" fill-rule=\"evenodd\" fill-opacity=\"1\" /><path clip-path=\"url(#clip160)\" d=\"M1270.16 1517.37 Q1266.55 1517.37 1264.72 1520.93 Q1262.92 1524.47 1262.92 1531.6 Q1262.92 1538.71 1264.72 1542.27 Q1266.55 1545.82 1270.16 1545.82 Q1273.8 1545.82 1275.6 1542.27 Q1277.43 1538.71 1277.43 1531.6 Q1277.43 1524.47 1275.6 1520.93 Q1273.8 1517.37 1270.16 1517.37 M1270.16 1513.66 Q1275.97 1513.66 1279.03 1518.27 Q1282.11 1522.85 1282.11 1531.6 Q1282.11 1540.33 1279.03 1544.94 Q1275.97 1549.52 1270.16 1549.52 Q1264.35 1549.52 1261.27 1544.94 Q1258.22 1540.33 1258.22 1531.6 Q1258.22 1522.85 1261.27 1518.27 Q1264.35 1513.66 1270.16 1513.66 Z\" fill=\"#000000\" fill-rule=\"evenodd\" fill-opacity=\"1\" /><path clip-path=\"url(#clip160)\" d=\"M1723.71 1517.37 Q1720.09 1517.37 1718.27 1520.93 Q1716.46 1524.47 1716.46 1531.6 Q1716.46 1538.71 1718.27 1542.27 Q1720.09 1545.82 1723.71 1545.82 Q1727.34 1545.82 1729.15 1542.27 Q1730.97 1538.71 1730.97 1531.6 Q1730.97 1524.47 1729.15 1520.93 Q1727.34 1517.37 1723.71 1517.37 M1723.71 1513.66 Q1729.52 1513.66 1732.57 1518.27 Q1735.65 1522.85 1735.65 1531.6 Q1735.65 1540.33 1732.57 1544.94 Q1729.52 1549.52 1723.71 1549.52 Q1717.9 1549.52 1714.82 1544.94 Q1711.76 1540.33 1711.76 1531.6 Q1711.76 1522.85 1714.82 1518.27 Q1717.9 1513.66 1723.71 1513.66 Z\" fill=\"#000000\" fill-rule=\"evenodd\" fill-opacity=\"1\" /><path clip-path=\"url(#clip160)\" d=\"M1743.87 1542.97 L1748.75 1542.97 L1748.75 1548.85 L1743.87 1548.85 L1743.87 1542.97 Z\" fill=\"#000000\" fill-rule=\"evenodd\" fill-opacity=\"1\" /><path clip-path=\"url(#clip160)\" d=\"M1757.76 1514.29 L1779.98 1514.29 L1779.98 1516.28 L1767.43 1548.85 L1762.55 1548.85 L1774.35 1518.22 L1757.76 1518.22 L1757.76 1514.29 Z\" fill=\"#000000\" fill-rule=\"evenodd\" fill-opacity=\"1\" /><path clip-path=\"url(#clip160)\" d=\"M1789.15 1514.29 L1807.5 1514.29 L1807.5 1518.22 L1793.43 1518.22 L1793.43 1526.7 Q1794.45 1526.35 1795.46 1526.19 Q1796.48 1526 1797.5 1526 Q1803.29 1526 1806.67 1529.17 Q1810.05 1532.34 1810.05 1537.76 Q1810.05 1543.34 1806.58 1546.44 Q1803.1 1549.52 1796.78 1549.52 Q1794.61 1549.52 1792.34 1549.15 Q1790.09 1548.78 1787.69 1548.04 L1787.69 1543.34 Q1789.77 1544.47 1791.99 1545.03 Q1794.21 1545.58 1796.69 1545.58 Q1800.7 1545.58 1803.03 1543.48 Q1805.37 1541.37 1805.37 1537.76 Q1805.37 1534.15 1803.03 1532.04 Q1800.7 1529.94 1796.69 1529.94 Q1794.82 1529.94 1792.94 1530.35 Q1791.09 1530.77 1789.15 1531.65 L1789.15 1514.29 Z\" fill=\"#000000\" fill-rule=\"evenodd\" fill-opacity=\"1\" /><path clip-path=\"url(#clip160)\" d=\"M2241.42 1544.91 L2249.05 1544.91 L2249.05 1518.55 L2240.74 1520.21 L2240.74 1515.95 L2249.01 1514.29 L2253.68 1514.29 L2253.68 1544.91 L2261.32 1544.91 L2261.32 1548.85 L2241.42 1548.85 L2241.42 1544.91 Z\" fill=\"#000000\" fill-rule=\"evenodd\" fill-opacity=\"1\" /><path clip-path=\"url(#clip160)\" d=\"M2270.77 1542.97 L2275.65 1542.97 L2275.65 1548.85 L2270.77 1548.85 L2270.77 1542.97 Z\" fill=\"#000000\" fill-rule=\"evenodd\" fill-opacity=\"1\" /><path clip-path=\"url(#clip160)\" d=\"M2295.84 1517.37 Q2292.23 1517.37 2290.4 1520.93 Q2288.59 1524.47 2288.59 1531.6 Q2288.59 1538.71 2290.4 1542.27 Q2292.23 1545.82 2295.84 1545.82 Q2299.47 1545.82 2301.28 1542.27 Q2303.1 1538.71 2303.1 1531.6 Q2303.1 1524.47 2301.28 1520.93 Q2299.47 1517.37 2295.84 1517.37 M2295.84 1513.66 Q2301.65 1513.66 2304.7 1518.27 Q2307.78 1522.85 2307.78 1531.6 Q2307.78 1540.33 2304.7 1544.94 Q2301.65 1549.52 2295.84 1549.52 Q2290.03 1549.52 2286.95 1544.94 Q2283.89 1540.33 2283.89 1531.6 Q2283.89 1522.85 2286.95 1518.27 Q2290.03 1513.66 2295.84 1513.66 Z\" fill=\"#000000\" fill-rule=\"evenodd\" fill-opacity=\"1\" /><path clip-path=\"url(#clip160)\" d=\"M2326 1517.37 Q2322.39 1517.37 2320.56 1520.93 Q2318.75 1524.47 2318.75 1531.6 Q2318.75 1538.71 2320.56 1542.27 Q2322.39 1545.82 2326 1545.82 Q2329.63 1545.82 2331.44 1542.27 Q2333.27 1538.71 2333.27 1531.6 Q2333.27 1524.47 2331.44 1520.93 Q2329.63 1517.37 2326 1517.37 M2326 1513.66 Q2331.81 1513.66 2334.86 1518.27 Q2337.94 1522.85 2337.94 1531.6 Q2337.94 1540.33 2334.86 1544.94 Q2331.81 1549.52 2326 1549.52 Q2320.19 1549.52 2317.11 1544.94 Q2314.05 1540.33 2314.05 1531.6 Q2314.05 1522.85 2317.11 1518.27 Q2320.19 1513.66 2326 1513.66 Z\" fill=\"#000000\" fill-rule=\"evenodd\" fill-opacity=\"1\" /><polyline clip-path=\"url(#clip162)\" style=\"stroke:#000000; stroke-linecap:round; stroke-linejoin:round; stroke-width:2; stroke-opacity:0.1; fill:none\" points=\"\n  112.177,1445.72 2352.76,1445.72 \n  \"/>\n<polyline clip-path=\"url(#clip162)\" style=\"stroke:#000000; stroke-linecap:round; stroke-linejoin:round; stroke-width:2; stroke-opacity:0.1; fill:none\" points=\"\n  112.177,1106.28 2352.76,1106.28 \n  \"/>\n<polyline clip-path=\"url(#clip162)\" style=\"stroke:#000000; stroke-linecap:round; stroke-linejoin:round; stroke-width:2; stroke-opacity:0.1; fill:none\" points=\"\n  112.177,766.846 2352.76,766.846 \n  \"/>\n<polyline clip-path=\"url(#clip162)\" style=\"stroke:#000000; stroke-linecap:round; stroke-linejoin:round; stroke-width:2; stroke-opacity:0.1; fill:none\" points=\"\n  112.177,427.411 2352.76,427.411 \n  \"/>\n<polyline clip-path=\"url(#clip162)\" style=\"stroke:#000000; stroke-linecap:round; stroke-linejoin:round; stroke-width:2; stroke-opacity:0.1; fill:none\" points=\"\n  112.177,87.9763 2352.76,87.9763 \n  \"/>\n<polyline clip-path=\"url(#clip160)\" style=\"stroke:#000000; stroke-linecap:round; stroke-linejoin:round; stroke-width:4; stroke-opacity:1; fill:none\" points=\"\n  112.177,1486.45 112.177,47.2441 \n  \"/>\n<polyline clip-path=\"url(#clip160)\" style=\"stroke:#000000; stroke-linecap:round; stroke-linejoin:round; stroke-width:4; stroke-opacity:1; fill:none\" points=\"\n  112.177,1445.72 131.075,1445.72 \n  \"/>\n<polyline clip-path=\"url(#clip160)\" style=\"stroke:#000000; stroke-linecap:round; stroke-linejoin:round; stroke-width:4; stroke-opacity:1; fill:none\" points=\"\n  112.177,1106.28 131.075,1106.28 \n  \"/>\n<polyline clip-path=\"url(#clip160)\" style=\"stroke:#000000; stroke-linecap:round; stroke-linejoin:round; stroke-width:4; stroke-opacity:1; fill:none\" points=\"\n  112.177,766.846 131.075,766.846 \n  \"/>\n<polyline clip-path=\"url(#clip160)\" style=\"stroke:#000000; stroke-linecap:round; stroke-linejoin:round; stroke-width:4; stroke-opacity:1; fill:none\" points=\"\n  112.177,427.411 131.075,427.411 \n  \"/>\n<polyline clip-path=\"url(#clip160)\" style=\"stroke:#000000; stroke-linecap:round; stroke-linejoin:round; stroke-width:4; stroke-opacity:1; fill:none\" points=\"\n  112.177,87.9763 131.075,87.9763 \n  \"/>\n<path clip-path=\"url(#clip160)\" d=\"M64.2328 1431.51 Q60.6217 1431.51 58.793 1435.08 Q56.9875 1438.62 56.9875 1445.75 Q56.9875 1452.86 58.793 1456.42 Q60.6217 1459.96 64.2328 1459.96 Q67.867 1459.96 69.6726 1456.42 Q71.5013 1452.86 71.5013 1445.75 Q71.5013 1438.62 69.6726 1435.08 Q67.867 1431.51 64.2328 1431.51 M64.2328 1427.81 Q70.0429 1427.81 73.0985 1432.42 Q76.1772 1437 76.1772 1445.75 Q76.1772 1454.48 73.0985 1459.08 Q70.0429 1463.67 64.2328 1463.67 Q58.4226 1463.67 55.344 1459.08 Q52.2884 1454.48 52.2884 1445.75 Q52.2884 1437 55.344 1432.42 Q58.4226 1427.81 64.2328 1427.81 Z\" fill=\"#000000\" fill-rule=\"evenodd\" fill-opacity=\"1\" /><path clip-path=\"url(#clip160)\" d=\"M56.2699 1119.63 L63.9087 1119.63 L63.9087 1093.26 L55.5986 1094.93 L55.5986 1090.67 L63.8624 1089 L68.5383 1089 L68.5383 1119.63 L76.1772 1119.63 L76.1772 1123.56 L56.2699 1123.56 L56.2699 1119.63 Z\" fill=\"#000000\" fill-rule=\"evenodd\" fill-opacity=\"1\" /><path clip-path=\"url(#clip160)\" d=\"M59.8578 780.191 L76.1772 780.191 L76.1772 784.126 L54.2328 784.126 L54.2328 780.191 Q56.8949 777.436 61.4782 772.807 Q66.0846 768.154 67.2652 766.811 Q69.5105 764.288 70.3902 762.552 Q71.2929 760.793 71.2929 759.103 Q71.2929 756.348 69.3485 754.612 Q67.4272 752.876 64.3254 752.876 Q62.1263 752.876 59.6726 753.64 Q57.2421 754.404 54.4643 755.955 L54.4643 751.233 Q57.2884 750.098 59.7421 749.52 Q62.1958 748.941 64.2328 748.941 Q69.6031 748.941 72.7976 751.626 Q75.992 754.311 75.992 758.802 Q75.992 760.932 75.1818 762.853 Q74.3948 764.751 72.2883 767.344 Q71.7096 768.015 68.6078 771.233 Q65.5059 774.427 59.8578 780.191 Z\" fill=\"#000000\" fill-rule=\"evenodd\" fill-opacity=\"1\" /><path clip-path=\"url(#clip160)\" d=\"M69.0476 426.057 Q72.404 426.775 74.279 429.043 Q76.1772 431.312 76.1772 434.645 Q76.1772 439.761 72.6587 442.562 Q69.1402 445.362 62.6587 445.362 Q60.4828 445.362 58.168 444.923 Q55.8764 444.506 53.4227 443.649 L53.4227 439.136 Q55.3671 440.27 57.6819 440.849 Q59.9967 441.427 62.5198 441.427 Q66.918 441.427 69.2096 439.691 Q71.5244 437.955 71.5244 434.645 Q71.5244 431.589 69.3717 429.876 Q67.242 428.14 63.4226 428.14 L59.3949 428.14 L59.3949 424.298 L63.6078 424.298 Q67.0569 424.298 68.8855 422.932 Q70.7142 421.543 70.7142 418.951 Q70.7142 416.289 68.8161 414.876 Q66.9411 413.441 63.4226 413.441 Q61.5013 413.441 59.3023 413.858 Q57.1032 414.275 54.4643 415.154 L54.4643 410.988 Q57.1264 410.247 59.4412 409.877 Q61.7791 409.506 63.8393 409.506 Q69.1633 409.506 72.2652 411.937 Q75.367 414.344 75.367 418.464 Q75.367 421.335 73.7235 423.326 Q72.08 425.293 69.0476 426.057 Z\" fill=\"#000000\" fill-rule=\"evenodd\" fill-opacity=\"1\" /><path clip-path=\"url(#clip160)\" d=\"M66.5939 74.7703 L54.7884 93.2193 L66.5939 93.2193 L66.5939 74.7703 M65.367 70.6963 L71.2466 70.6963 L71.2466 93.2193 L76.1772 93.2193 L76.1772 97.1082 L71.2466 97.1082 L71.2466 105.256 L66.5939 105.256 L66.5939 97.1082 L50.9921 97.1082 L50.9921 92.5943 L65.367 70.6963 Z\" fill=\"#000000\" fill-rule=\"evenodd\" fill-opacity=\"1\" /><circle clip-path=\"url(#clip162)\" cx=\"175.59\" cy=\"1445.72\" r=\"14.4\" fill=\"#009af9\" fill-rule=\"evenodd\" fill-opacity=\"1\" stroke=\"#000000\" stroke-opacity=\"1\" stroke-width=\"3.2\"/>\n<circle clip-path=\"url(#clip162)\" cx=\"175.59\" cy=\"87.9763\" r=\"14.4\" fill=\"#009af9\" fill-rule=\"evenodd\" fill-opacity=\"1\" stroke=\"#000000\" stroke-opacity=\"1\" stroke-width=\"3.2\"/>\n<circle clip-path=\"url(#clip162)\" cx=\"2164.62\" cy=\"781.406\" r=\"14.4\" fill=\"#e26f46\" fill-rule=\"evenodd\" fill-opacity=\"1\" stroke=\"#000000\" stroke-opacity=\"1\" stroke-width=\"3.2\"/>\n<polyline clip-path=\"url(#clip162)\" style=\"stroke:#3da44d; stroke-linecap:round; stroke-linejoin:round; stroke-width:4; stroke-opacity:1; fill:none\" points=\"\n  175.59,766.846 2289.34,766.846 \n  \"/>\n<path clip-path=\"url(#clip160)\" d=\"\nM1759.89 302.578 L2278.07 302.578 L2278.07 95.2176 L1759.89 95.2176  Z\n  \" fill=\"#ffffff\" fill-rule=\"evenodd\" fill-opacity=\"1\"/>\n<polyline clip-path=\"url(#clip160)\" style=\"stroke:#000000; stroke-linecap:round; stroke-linejoin:round; stroke-width:4; stroke-opacity:1; fill:none\" points=\"\n  1759.89,302.578 2278.07,302.578 2278.07,95.2176 1759.89,95.2176 1759.89,302.578 \n  \"/>\n<circle clip-path=\"url(#clip160)\" cx=\"1859.47\" cy=\"147.058\" r=\"23.04\" fill=\"#009af9\" fill-rule=\"evenodd\" fill-opacity=\"1\" stroke=\"#000000\" stroke-opacity=\"1\" stroke-width=\"5.12\"/>\n<path clip-path=\"url(#clip160)\" d=\"M1963.73 133.62 L1963.73 160.495 L1969.38 160.495 Q1976.53 160.495 1979.84 157.254 Q1983.18 154.014 1983.18 147.023 Q1983.18 140.078 1979.84 136.861 Q1976.53 133.62 1969.38 133.62 L1963.73 133.62 M1959.06 129.778 L1968.66 129.778 Q1978.71 129.778 1983.41 133.967 Q1988.11 138.134 1988.11 147.023 Q1988.11 155.958 1983.38 160.148 Q1978.66 164.338 1968.66 164.338 L1959.06 164.338 L1959.06 129.778 Z\" fill=\"#000000\" fill-rule=\"evenodd\" fill-opacity=\"1\" /><path clip-path=\"url(#clip160)\" d=\"M1995.38 138.412 L1999.63 138.412 L1999.63 164.338 L1995.38 164.338 L1995.38 138.412 M1995.38 128.319 L1999.63 128.319 L1999.63 133.713 L1995.38 133.713 L1995.38 128.319 Z\" fill=\"#000000\" fill-rule=\"evenodd\" fill-opacity=\"1\" /><path clip-path=\"url(#clip160)\" d=\"M2025.07 139.176 L2025.07 143.203 Q2023.27 142.277 2021.32 141.815 Q2019.38 141.352 2017.3 141.352 Q2014.12 141.352 2012.53 142.324 Q2010.95 143.296 2010.95 145.24 Q2010.95 146.722 2012.09 147.578 Q2013.22 148.412 2016.65 149.176 L2018.11 149.5 Q2022.64 150.472 2024.54 152.254 Q2026.46 154.014 2026.46 157.185 Q2026.46 160.796 2023.59 162.902 Q2020.75 165.009 2015.75 165.009 Q2013.66 165.009 2011.39 164.592 Q2009.15 164.199 2006.65 163.388 L2006.65 158.99 Q2009.01 160.217 2011.3 160.842 Q2013.59 161.444 2015.84 161.444 Q2018.85 161.444 2020.47 160.426 Q2022.09 159.384 2022.09 157.509 Q2022.09 155.773 2020.91 154.847 Q2019.75 153.921 2015.79 153.064 L2014.31 152.717 Q2010.35 151.884 2008.59 150.171 Q2006.83 148.435 2006.83 145.426 Q2006.83 141.768 2009.43 139.778 Q2012.02 137.787 2016.79 137.787 Q2019.15 137.787 2021.23 138.134 Q2023.31 138.481 2025.07 139.176 Z\" fill=\"#000000\" fill-rule=\"evenodd\" fill-opacity=\"1\" /><path clip-path=\"url(#clip160)\" d=\"M2037.37 160.449 L2037.37 174.199 L2033.08 174.199 L2033.08 138.412 L2037.37 138.412 L2037.37 142.347 Q2038.71 140.032 2040.75 138.921 Q2042.81 137.787 2045.65 137.787 Q2050.37 137.787 2053.31 141.537 Q2056.28 145.287 2056.28 151.398 Q2056.28 157.509 2053.31 161.259 Q2050.37 165.009 2045.65 165.009 Q2042.81 165.009 2040.75 163.898 Q2038.71 162.763 2037.37 160.449 M2051.86 151.398 Q2051.86 146.699 2049.91 144.037 Q2047.99 141.352 2044.61 141.352 Q2041.23 141.352 2039.29 144.037 Q2037.37 146.699 2037.37 151.398 Q2037.37 156.097 2039.29 158.782 Q2041.23 161.444 2044.61 161.444 Q2047.99 161.444 2049.91 158.782 Q2051.86 156.097 2051.86 151.398 Z\" fill=\"#000000\" fill-rule=\"evenodd\" fill-opacity=\"1\" /><path clip-path=\"url(#clip160)\" d=\"M2073.38 141.398 Q2069.96 141.398 2067.97 144.083 Q2065.98 146.745 2065.98 151.398 Q2065.98 156.051 2067.94 158.736 Q2069.93 161.398 2073.38 161.398 Q2076.79 161.398 2078.78 158.713 Q2080.77 156.027 2080.77 151.398 Q2080.77 146.791 2078.78 144.106 Q2076.79 141.398 2073.38 141.398 M2073.38 137.787 Q2078.94 137.787 2082.11 141.398 Q2085.28 145.009 2085.28 151.398 Q2085.28 157.764 2082.11 161.398 Q2078.94 165.009 2073.38 165.009 Q2067.81 165.009 2064.63 161.398 Q2061.49 157.764 2061.49 151.398 Q2061.49 145.009 2064.63 141.398 Q2067.81 137.787 2073.38 137.787 Z\" fill=\"#000000\" fill-rule=\"evenodd\" fill-opacity=\"1\" /><path clip-path=\"url(#clip160)\" d=\"M2108.87 139.176 L2108.87 143.203 Q2107.06 142.277 2105.12 141.815 Q2103.18 141.352 2101.09 141.352 Q2097.92 141.352 2096.32 142.324 Q2094.75 143.296 2094.75 145.24 Q2094.75 146.722 2095.88 147.578 Q2097.02 148.412 2100.44 149.176 L2101.9 149.5 Q2106.44 150.472 2108.34 152.254 Q2110.26 154.014 2110.26 157.185 Q2110.26 160.796 2107.39 162.902 Q2104.54 165.009 2099.54 165.009 Q2097.46 165.009 2095.19 164.592 Q2092.94 164.199 2090.44 163.388 L2090.44 158.99 Q2092.81 160.217 2095.1 160.842 Q2097.39 161.444 2099.63 161.444 Q2102.64 161.444 2104.26 160.426 Q2105.88 159.384 2105.88 157.509 Q2105.88 155.773 2104.7 154.847 Q2103.55 153.921 2099.59 153.064 L2098.11 152.717 Q2094.15 151.884 2092.39 150.171 Q2090.63 148.435 2090.63 145.426 Q2090.63 141.768 2093.22 139.778 Q2095.81 137.787 2100.58 137.787 Q2102.94 137.787 2105.03 138.134 Q2107.11 138.481 2108.87 139.176 Z\" fill=\"#000000\" fill-rule=\"evenodd\" fill-opacity=\"1\" /><path clip-path=\"url(#clip160)\" d=\"M2117.04 138.412 L2121.3 138.412 L2121.3 164.338 L2117.04 164.338 L2117.04 138.412 M2117.04 128.319 L2121.3 128.319 L2121.3 133.713 L2117.04 133.713 L2117.04 128.319 Z\" fill=\"#000000\" fill-rule=\"evenodd\" fill-opacity=\"1\" /><path clip-path=\"url(#clip160)\" d=\"M2134.43 131.051 L2134.43 138.412 L2143.2 138.412 L2143.2 141.722 L2134.43 141.722 L2134.43 155.796 Q2134.43 158.967 2135.28 159.87 Q2136.16 160.773 2138.82 160.773 L2143.2 160.773 L2143.2 164.338 L2138.82 164.338 Q2133.89 164.338 2132.02 162.509 Q2130.14 160.657 2130.14 155.796 L2130.14 141.722 L2127.02 141.722 L2127.02 138.412 L2130.14 138.412 L2130.14 131.051 L2134.43 131.051 Z\" fill=\"#000000\" fill-rule=\"evenodd\" fill-opacity=\"1\" /><path clip-path=\"url(#clip160)\" d=\"M2148.8 138.412 L2153.06 138.412 L2153.06 164.338 L2148.8 164.338 L2148.8 138.412 M2148.8 128.319 L2153.06 128.319 L2153.06 133.713 L2148.8 133.713 L2148.8 128.319 Z\" fill=\"#000000\" fill-rule=\"evenodd\" fill-opacity=\"1\" /><path clip-path=\"url(#clip160)\" d=\"M2158.92 138.412 L2163.43 138.412 L2171.53 160.171 L2179.63 138.412 L2184.15 138.412 L2174.43 164.338 L2168.64 164.338 L2158.92 138.412 Z\" fill=\"#000000\" fill-rule=\"evenodd\" fill-opacity=\"1\" /><path clip-path=\"url(#clip160)\" d=\"M2200.07 141.398 Q2196.65 141.398 2194.66 144.083 Q2192.67 146.745 2192.67 151.398 Q2192.67 156.051 2194.63 158.736 Q2196.62 161.398 2200.07 161.398 Q2203.48 161.398 2205.47 158.713 Q2207.46 156.027 2207.46 151.398 Q2207.46 146.791 2205.47 144.106 Q2203.48 141.398 2200.07 141.398 M2200.07 137.787 Q2205.63 137.787 2208.8 141.398 Q2211.97 145.009 2211.97 151.398 Q2211.97 157.764 2208.8 161.398 Q2205.63 165.009 2200.07 165.009 Q2194.49 165.009 2191.32 161.398 Q2188.17 157.764 2188.17 151.398 Q2188.17 145.009 2191.32 141.398 Q2194.49 137.787 2200.07 137.787 Z\" fill=\"#000000\" fill-rule=\"evenodd\" fill-opacity=\"1\" /><path clip-path=\"url(#clip160)\" d=\"M2235.56 139.176 L2235.56 143.203 Q2233.75 142.277 2231.81 141.815 Q2229.86 141.352 2227.78 141.352 Q2224.61 141.352 2223.01 142.324 Q2221.44 143.296 2221.44 145.24 Q2221.44 146.722 2222.57 147.578 Q2223.71 148.412 2227.13 149.176 L2228.59 149.5 Q2233.13 150.472 2235.03 152.254 Q2236.95 154.014 2236.95 157.185 Q2236.95 160.796 2234.08 162.902 Q2231.23 165.009 2226.23 165.009 Q2224.15 165.009 2221.88 164.592 Q2219.63 164.199 2217.13 163.388 L2217.13 158.99 Q2219.49 160.217 2221.79 160.842 Q2224.08 161.444 2226.32 161.444 Q2229.33 161.444 2230.95 160.426 Q2232.57 159.384 2232.57 157.509 Q2232.57 155.773 2231.39 154.847 Q2230.23 153.921 2226.28 153.064 L2224.8 152.717 Q2220.84 151.884 2219.08 150.171 Q2217.32 148.435 2217.32 145.426 Q2217.32 141.768 2219.91 139.778 Q2222.5 137.787 2227.27 137.787 Q2229.63 137.787 2231.72 138.134 Q2233.8 138.481 2235.56 139.176 Z\" fill=\"#000000\" fill-rule=\"evenodd\" fill-opacity=\"1\" /><circle clip-path=\"url(#clip160)\" cx=\"1859.47\" cy=\"198.898\" r=\"23.04\" fill=\"#e26f46\" fill-rule=\"evenodd\" fill-opacity=\"1\" stroke=\"#000000\" stroke-opacity=\"1\" stroke-width=\"5.12\"/>\n<path clip-path=\"url(#clip160)\" d=\"M1975.44 199.974 Q1976.95 200.483 1978.36 202.15 Q1979.8 203.817 1981.23 206.733 L1985.98 216.178 L1980.95 216.178 L1976.53 207.312 Q1974.82 203.84 1973.2 202.705 Q1971.6 201.571 1968.82 201.571 L1963.73 201.571 L1963.73 216.178 L1959.06 216.178 L1959.06 181.618 L1969.61 181.618 Q1975.54 181.618 1978.45 184.094 Q1981.37 186.571 1981.37 191.571 Q1981.37 194.835 1979.84 196.988 Q1978.34 199.141 1975.44 199.974 M1963.73 185.46 L1963.73 197.729 L1969.61 197.729 Q1972.99 197.729 1974.7 196.178 Q1976.44 194.604 1976.44 191.571 Q1976.44 188.539 1974.7 187.011 Q1972.99 185.46 1969.61 185.46 L1963.73 185.46 Z\" fill=\"#000000\" fill-rule=\"evenodd\" fill-opacity=\"1\" /><path clip-path=\"url(#clip160)\" d=\"M1999.73 193.238 Q1996.3 193.238 1994.31 195.923 Q1992.32 198.585 1992.32 203.238 Q1992.32 207.891 1994.29 210.576 Q1996.28 213.238 1999.73 213.238 Q2003.13 213.238 2005.12 210.553 Q2007.11 207.867 2007.11 203.238 Q2007.11 198.631 2005.12 195.946 Q2003.13 193.238 1999.73 193.238 M1999.73 189.627 Q2005.28 189.627 2008.45 193.238 Q2011.62 196.849 2011.62 203.238 Q2011.62 209.604 2008.45 213.238 Q2005.28 216.849 1999.73 216.849 Q1994.15 216.849 1990.98 213.238 Q1987.83 209.604 1987.83 203.238 Q1987.83 196.849 1990.98 193.238 Q1994.15 189.627 1999.73 189.627 Z\" fill=\"#000000\" fill-rule=\"evenodd\" fill-opacity=\"1\" /><path clip-path=\"url(#clip160)\" d=\"M2022.9 182.891 L2022.9 190.252 L2031.67 190.252 L2031.67 193.562 L2022.9 193.562 L2022.9 207.636 Q2022.9 210.807 2023.75 211.71 Q2024.63 212.613 2027.3 212.613 L2031.67 212.613 L2031.67 216.178 L2027.3 216.178 Q2022.37 216.178 2020.49 214.349 Q2018.62 212.497 2018.62 207.636 L2018.62 193.562 L2015.49 193.562 L2015.49 190.252 L2018.62 190.252 L2018.62 182.891 L2022.9 182.891 Z\" fill=\"#000000\" fill-rule=\"evenodd\" fill-opacity=\"1\" /><path clip-path=\"url(#clip160)\" d=\"M2059.45 202.15 L2059.45 204.233 L2039.87 204.233 Q2040.14 208.631 2042.5 210.946 Q2044.89 213.238 2049.12 213.238 Q2051.58 213.238 2053.87 212.636 Q2056.18 212.034 2058.45 210.83 L2058.45 214.858 Q2056.16 215.83 2053.75 216.34 Q2051.35 216.849 2048.87 216.849 Q2042.67 216.849 2039.03 213.238 Q2035.42 209.627 2035.42 203.469 Q2035.42 197.104 2038.85 193.377 Q2042.3 189.627 2048.13 189.627 Q2053.36 189.627 2056.39 193.006 Q2059.45 196.363 2059.45 202.15 M2055.19 200.9 Q2055.14 197.405 2053.22 195.321 Q2051.32 193.238 2048.18 193.238 Q2044.61 193.238 2042.46 195.252 Q2040.33 197.266 2040 200.923 L2055.19 200.9 Z\" fill=\"#000000\" fill-rule=\"evenodd\" fill-opacity=\"1\" /><path clip-path=\"url(#clip160)\" d=\"M2078.22 203.145 Q2073.06 203.145 2071.07 204.326 Q2069.08 205.506 2069.08 208.354 Q2069.08 210.622 2070.56 211.965 Q2072.06 213.284 2074.63 213.284 Q2078.18 213.284 2080.31 210.784 Q2082.46 208.261 2082.46 204.094 L2082.46 203.145 L2078.22 203.145 M2086.72 201.386 L2086.72 216.178 L2082.46 216.178 L2082.46 212.242 Q2081 214.603 2078.82 215.738 Q2076.65 216.849 2073.5 216.849 Q2069.52 216.849 2067.16 214.627 Q2064.82 212.381 2064.82 208.631 Q2064.82 204.256 2067.74 202.034 Q2070.68 199.812 2076.49 199.812 L2082.46 199.812 L2082.46 199.395 Q2082.46 196.455 2080.51 194.858 Q2078.59 193.238 2075.1 193.238 Q2072.87 193.238 2070.77 193.77 Q2068.66 194.303 2066.72 195.367 L2066.72 191.432 Q2069.06 190.53 2071.25 190.09 Q2073.45 189.627 2075.54 189.627 Q2081.16 189.627 2083.94 192.543 Q2086.72 195.46 2086.72 201.386 Z\" fill=\"#000000\" fill-rule=\"evenodd\" fill-opacity=\"1\" /><path clip-path=\"url(#clip160)\" d=\"M2112.55 194.187 L2112.55 180.159 L2116.81 180.159 L2116.81 216.178 L2112.55 216.178 L2112.55 212.289 Q2111.21 214.603 2109.15 215.738 Q2107.11 216.849 2104.24 216.849 Q2099.54 216.849 2096.58 213.099 Q2093.64 209.349 2093.64 203.238 Q2093.64 197.127 2096.58 193.377 Q2099.54 189.627 2104.24 189.627 Q2107.11 189.627 2109.15 190.761 Q2111.21 191.872 2112.55 194.187 M2098.04 203.238 Q2098.04 207.937 2099.96 210.622 Q2101.9 213.284 2105.28 213.284 Q2108.66 213.284 2110.61 210.622 Q2112.55 207.937 2112.55 203.238 Q2112.55 198.539 2110.61 195.877 Q2108.66 193.192 2105.28 193.192 Q2101.9 193.192 2099.96 195.877 Q2098.04 198.539 2098.04 203.238 Z\" fill=\"#000000\" fill-rule=\"evenodd\" fill-opacity=\"1\" /><path clip-path=\"url(#clip160)\" d=\"M2135.63 193.238 Q2132.2 193.238 2130.21 195.923 Q2128.22 198.585 2128.22 203.238 Q2128.22 207.891 2130.19 210.576 Q2132.18 213.238 2135.63 213.238 Q2139.03 213.238 2141.02 210.553 Q2143.01 207.867 2143.01 203.238 Q2143.01 198.631 2141.02 195.946 Q2139.03 193.238 2135.63 193.238 M2135.63 189.627 Q2141.18 189.627 2144.36 193.238 Q2147.53 196.849 2147.53 203.238 Q2147.53 209.604 2144.36 213.238 Q2141.18 216.849 2135.63 216.849 Q2130.05 216.849 2126.88 213.238 Q2123.73 209.604 2123.73 203.238 Q2123.73 196.849 2126.88 193.238 Q2130.05 189.627 2135.63 189.627 Z\" fill=\"#000000\" fill-rule=\"evenodd\" fill-opacity=\"1\" /><path clip-path=\"url(#clip160)\" d=\"M2169.61 194.233 Q2168.89 193.817 2168.04 193.631 Q2167.2 193.423 2166.18 193.423 Q2162.57 193.423 2160.63 195.784 Q2158.71 198.122 2158.71 202.52 L2158.71 216.178 L2154.43 216.178 L2154.43 190.252 L2158.71 190.252 L2158.71 194.28 Q2160.05 191.918 2162.2 190.784 Q2164.36 189.627 2167.43 189.627 Q2167.87 189.627 2168.41 189.696 Q2168.94 189.743 2169.59 189.858 L2169.61 194.233 Z\" fill=\"#000000\" fill-rule=\"evenodd\" fill-opacity=\"1\" /><polyline clip-path=\"url(#clip160)\" style=\"stroke:#3da44d; stroke-linecap:round; stroke-linejoin:round; stroke-width:4; stroke-opacity:1; fill:none\" points=\"\n  1784.79,250.738 1934.16,250.738 \n  \"/>\n<path clip-path=\"url(#clip160)\" d=\"M1959.06 233.458 L1963.73 233.458 L1963.73 268.018 L1959.06 268.018 L1959.06 233.458 Z\" fill=\"#000000\" fill-rule=\"evenodd\" fill-opacity=\"1\" /><path clip-path=\"url(#clip160)\" d=\"M1994.4 252.369 L1994.4 268.018 L1990.14 268.018 L1990.14 252.508 Q1990.14 248.828 1988.71 246.999 Q1987.27 245.17 1984.4 245.17 Q1980.95 245.17 1978.96 247.37 Q1976.97 249.569 1976.97 253.365 L1976.97 268.018 L1972.69 268.018 L1972.69 242.092 L1976.97 242.092 L1976.97 246.12 Q1978.5 243.782 1980.56 242.624 Q1982.64 241.467 1985.35 241.467 Q1989.82 241.467 1992.11 244.245 Q1994.4 246.999 1994.4 252.369 Z\" fill=\"#000000\" fill-rule=\"evenodd\" fill-opacity=\"1\" /><path clip-path=\"url(#clip160)\" d=\"M2007.11 234.731 L2007.11 242.092 L2015.88 242.092 L2015.88 245.402 L2007.11 245.402 L2007.11 259.476 Q2007.11 262.647 2007.97 263.55 Q2008.85 264.453 2011.51 264.453 L2015.88 264.453 L2015.88 268.018 L2011.51 268.018 Q2006.58 268.018 2004.7 266.189 Q2002.83 264.337 2002.83 259.476 L2002.83 245.402 L1999.7 245.402 L1999.7 242.092 L2002.83 242.092 L2002.83 234.731 L2007.11 234.731 Z\" fill=\"#000000\" fill-rule=\"evenodd\" fill-opacity=\"1\" /><path clip-path=\"url(#clip160)\" d=\"M2043.66 253.99 L2043.66 256.073 L2024.08 256.073 Q2024.36 260.471 2026.72 262.786 Q2029.1 265.078 2033.34 265.078 Q2035.79 265.078 2038.08 264.476 Q2040.4 263.874 2042.67 262.67 L2042.67 266.698 Q2040.37 267.67 2037.97 268.18 Q2035.56 268.689 2033.08 268.689 Q2026.88 268.689 2023.25 265.078 Q2019.63 261.467 2019.63 255.309 Q2019.63 248.944 2023.06 245.217 Q2026.51 241.467 2032.34 241.467 Q2037.57 241.467 2040.61 244.846 Q2043.66 248.203 2043.66 253.99 M2039.4 252.74 Q2039.36 249.245 2037.44 247.161 Q2035.54 245.078 2032.39 245.078 Q2028.82 245.078 2026.67 247.092 Q2024.54 249.106 2024.22 252.763 L2039.4 252.74 Z\" fill=\"#000000\" fill-rule=\"evenodd\" fill-opacity=\"1\" /><path clip-path=\"url(#clip160)\" d=\"M2065.68 246.073 Q2064.96 245.657 2064.1 245.471 Q2063.27 245.263 2062.25 245.263 Q2058.64 245.263 2056.69 247.624 Q2054.77 249.962 2054.77 254.36 L2054.77 268.018 L2050.49 268.018 L2050.49 242.092 L2054.77 242.092 L2054.77 246.12 Q2056.12 243.758 2058.27 242.624 Q2060.42 241.467 2063.5 241.467 Q2063.94 241.467 2064.47 241.536 Q2065 241.583 2065.65 241.698 L2065.68 246.073 Z\" fill=\"#000000\" fill-rule=\"evenodd\" fill-opacity=\"1\" /><path clip-path=\"url(#clip160)\" d=\"M2083.27 231.999 L2083.27 235.541 L2079.19 235.541 Q2076.9 235.541 2076 236.467 Q2075.12 237.393 2075.12 239.8 L2075.12 242.092 L2082.13 242.092 L2082.13 245.402 L2075.12 245.402 L2075.12 268.018 L2070.84 268.018 L2070.84 245.402 L2066.76 245.402 L2066.76 242.092 L2070.84 242.092 L2070.84 240.286 Q2070.84 235.958 2072.85 233.99 Q2074.87 231.999 2079.24 231.999 L2083.27 231.999 Z\" fill=\"#000000\" fill-rule=\"evenodd\" fill-opacity=\"1\" /><path clip-path=\"url(#clip160)\" d=\"M2109.01 253.99 L2109.01 256.073 L2089.43 256.073 Q2089.7 260.471 2092.06 262.786 Q2094.45 265.078 2098.68 265.078 Q2101.14 265.078 2103.43 264.476 Q2105.74 263.874 2108.01 262.67 L2108.01 266.698 Q2105.72 267.67 2103.31 268.18 Q2100.91 268.689 2098.43 268.689 Q2092.23 268.689 2088.59 265.078 Q2084.98 261.467 2084.98 255.309 Q2084.98 248.944 2088.41 245.217 Q2091.86 241.467 2097.69 241.467 Q2102.92 241.467 2105.95 244.846 Q2109.01 248.203 2109.01 253.99 M2104.75 252.74 Q2104.7 249.245 2102.78 247.161 Q2100.88 245.078 2097.74 245.078 Q2094.17 245.078 2092.02 247.092 Q2089.89 249.106 2089.56 252.763 L2104.75 252.74 Z\" fill=\"#000000\" fill-rule=\"evenodd\" fill-opacity=\"1\" /><path clip-path=\"url(#clip160)\" d=\"M2131.02 246.073 Q2130.3 245.657 2129.45 245.471 Q2128.62 245.263 2127.6 245.263 Q2123.99 245.263 2122.04 247.624 Q2120.12 249.962 2120.12 254.36 L2120.12 268.018 L2115.84 268.018 L2115.84 242.092 L2120.12 242.092 L2120.12 246.12 Q2121.46 243.758 2123.62 242.624 Q2125.77 241.467 2128.85 241.467 Q2129.29 241.467 2129.82 241.536 Q2130.35 241.583 2131 241.698 L2131.02 246.073 Z\" fill=\"#000000\" fill-rule=\"evenodd\" fill-opacity=\"1\" /><path clip-path=\"url(#clip160)\" d=\"M2156.62 253.99 L2156.62 256.073 L2137.04 256.073 Q2137.32 260.471 2139.68 262.786 Q2142.06 265.078 2146.3 265.078 Q2148.75 265.078 2151.05 264.476 Q2153.36 263.874 2155.63 262.67 L2155.63 266.698 Q2153.34 267.67 2150.93 268.18 Q2148.52 268.689 2146.05 268.689 Q2139.84 268.689 2136.21 265.078 Q2132.6 261.467 2132.6 255.309 Q2132.6 248.944 2136.02 245.217 Q2139.47 241.467 2145.3 241.467 Q2150.54 241.467 2153.57 244.846 Q2156.62 248.203 2156.62 253.99 M2152.36 252.74 Q2152.32 249.245 2150.4 247.161 Q2148.5 245.078 2145.35 245.078 Q2141.79 245.078 2139.63 247.092 Q2137.5 249.106 2137.18 252.763 L2152.36 252.74 Z\" fill=\"#000000\" fill-rule=\"evenodd\" fill-opacity=\"1\" /><path clip-path=\"url(#clip160)\" d=\"M2185.17 252.369 L2185.17 268.018 L2180.91 268.018 L2180.91 252.508 Q2180.91 248.828 2179.47 246.999 Q2178.04 245.17 2175.17 245.17 Q2171.72 245.17 2169.73 247.37 Q2167.74 249.569 2167.74 253.365 L2167.74 268.018 L2163.45 268.018 L2163.45 242.092 L2167.74 242.092 L2167.74 246.12 Q2169.26 243.782 2171.32 242.624 Q2173.41 241.467 2176.11 241.467 Q2180.58 241.467 2182.87 244.245 Q2185.17 246.999 2185.17 252.369 Z\" fill=\"#000000\" fill-rule=\"evenodd\" fill-opacity=\"1\" /><path clip-path=\"url(#clip160)\" d=\"M2212.32 243.087 L2212.32 247.069 Q2210.51 246.073 2208.68 245.587 Q2206.88 245.078 2205.03 245.078 Q2200.88 245.078 2198.59 247.717 Q2196.3 250.332 2196.3 255.078 Q2196.3 259.823 2198.59 262.462 Q2200.88 265.078 2205.03 265.078 Q2206.88 265.078 2208.68 264.592 Q2210.51 264.082 2212.32 263.087 L2212.32 267.022 Q2210.54 267.856 2208.61 268.272 Q2206.72 268.689 2204.56 268.689 Q2198.71 268.689 2195.26 265.008 Q2191.81 261.328 2191.81 255.078 Q2191.81 248.735 2195.28 245.101 Q2198.78 241.467 2204.84 241.467 Q2206.81 241.467 2208.68 241.883 Q2210.56 242.277 2212.32 243.087 Z\" fill=\"#000000\" fill-rule=\"evenodd\" fill-opacity=\"1\" /><path clip-path=\"url(#clip160)\" d=\"M2219.73 242.092 L2223.98 242.092 L2223.98 268.018 L2219.73 268.018 L2219.73 242.092 M2219.73 231.999 L2223.98 231.999 L2223.98 237.393 L2219.73 237.393 L2219.73 231.999 Z\" fill=\"#000000\" fill-rule=\"evenodd\" fill-opacity=\"1\" /><path clip-path=\"url(#clip160)\" d=\"M2244.68 254.985 Q2239.52 254.985 2237.53 256.166 Q2235.54 257.346 2235.54 260.194 Q2235.54 262.462 2237.02 263.805 Q2238.52 265.124 2241.09 265.124 Q2244.63 265.124 2246.76 262.624 Q2248.92 260.101 2248.92 255.934 L2248.92 254.985 L2244.68 254.985 M2253.17 253.226 L2253.17 268.018 L2248.92 268.018 L2248.92 264.082 Q2247.46 266.443 2245.28 267.578 Q2243.11 268.689 2239.96 268.689 Q2235.98 268.689 2233.61 266.467 Q2231.28 264.221 2231.28 260.471 Q2231.28 256.096 2234.19 253.874 Q2237.13 251.652 2242.94 251.652 L2248.92 251.652 L2248.92 251.235 Q2248.92 248.295 2246.97 246.698 Q2245.05 245.078 2241.55 245.078 Q2239.33 245.078 2237.23 245.61 Q2235.12 246.143 2233.17 247.207 L2233.17 243.272 Q2235.51 242.37 2237.71 241.93 Q2239.91 241.467 2241.99 241.467 Q2247.62 241.467 2250.4 244.383 Q2253.17 247.3 2253.17 253.226 Z\" fill=\"#000000\" fill-rule=\"evenodd\" fill-opacity=\"1\" /></svg>\n",
      "text/html": [
       "<?xml version=\"1.0\" encoding=\"utf-8\"?>\n",
       "<svg xmlns=\"http://www.w3.org/2000/svg\" xmlns:xlink=\"http://www.w3.org/1999/xlink\" width=\"600\" height=\"400\" viewBox=\"0 0 2400 1600\">\n",
       "<defs>\n",
       "  <clipPath id=\"clip210\">\n",
       "    <rect x=\"0\" y=\"0\" width=\"2400\" height=\"1600\"/>\n",
       "  </clipPath>\n",
       "</defs>\n",
       "<path clip-path=\"url(#clip210)\" d=\"\n",
       "M0 1600 L2400 1600 L2400 0 L0 0  Z\n",
       "  \" fill=\"#ffffff\" fill-rule=\"evenodd\" fill-opacity=\"1\"/>\n",
       "<defs>\n",
       "  <clipPath id=\"clip211\">\n",
       "    <rect x=\"480\" y=\"0\" width=\"1681\" height=\"1600\"/>\n",
       "  </clipPath>\n",
       "</defs>\n",
       "<path clip-path=\"url(#clip210)\" d=\"\n",
       "M112.177 1486.45 L2352.76 1486.45 L2352.76 47.2441 L112.177 47.2441  Z\n",
       "  \" fill=\"#ffffff\" fill-rule=\"evenodd\" fill-opacity=\"1\"/>\n",
       "<defs>\n",
       "  <clipPath id=\"clip212\">\n",
       "    <rect x=\"112\" y=\"47\" width=\"2242\" height=\"1440\"/>\n",
       "  </clipPath>\n",
       "</defs>\n",
       "<polyline clip-path=\"url(#clip212)\" style=\"stroke:#000000; stroke-linecap:round; stroke-linejoin:round; stroke-width:2; stroke-opacity:0.1; fill:none\" points=\"\n",
       "  175.59,1486.45 175.59,47.2441 \n",
       "  \"/>\n",
       "<polyline clip-path=\"url(#clip212)\" style=\"stroke:#000000; stroke-linecap:round; stroke-linejoin:round; stroke-width:2; stroke-opacity:0.1; fill:none\" points=\"\n",
       "  704.028,1486.45 704.028,47.2441 \n",
       "  \"/>\n",
       "<polyline clip-path=\"url(#clip212)\" style=\"stroke:#000000; stroke-linecap:round; stroke-linejoin:round; stroke-width:2; stroke-opacity:0.1; fill:none\" points=\"\n",
       "  1232.47,1486.45 1232.47,47.2441 \n",
       "  \"/>\n",
       "<polyline clip-path=\"url(#clip212)\" style=\"stroke:#000000; stroke-linecap:round; stroke-linejoin:round; stroke-width:2; stroke-opacity:0.1; fill:none\" points=\"\n",
       "  1760.9,1486.45 1760.9,47.2441 \n",
       "  \"/>\n",
       "<polyline clip-path=\"url(#clip212)\" style=\"stroke:#000000; stroke-linecap:round; stroke-linejoin:round; stroke-width:2; stroke-opacity:0.1; fill:none\" points=\"\n",
       "  2289.34,1486.45 2289.34,47.2441 \n",
       "  \"/>\n",
       "<polyline clip-path=\"url(#clip210)\" style=\"stroke:#000000; stroke-linecap:round; stroke-linejoin:round; stroke-width:4; stroke-opacity:1; fill:none\" points=\"\n",
       "  112.177,1486.45 2352.76,1486.45 \n",
       "  \"/>\n",
       "<polyline clip-path=\"url(#clip210)\" style=\"stroke:#000000; stroke-linecap:round; stroke-linejoin:round; stroke-width:4; stroke-opacity:1; fill:none\" points=\"\n",
       "  175.59,1486.45 175.59,1467.55 \n",
       "  \"/>\n",
       "<polyline clip-path=\"url(#clip210)\" style=\"stroke:#000000; stroke-linecap:round; stroke-linejoin:round; stroke-width:4; stroke-opacity:1; fill:none\" points=\"\n",
       "  704.028,1486.45 704.028,1467.55 \n",
       "  \"/>\n",
       "<polyline clip-path=\"url(#clip210)\" style=\"stroke:#000000; stroke-linecap:round; stroke-linejoin:round; stroke-width:4; stroke-opacity:1; fill:none\" points=\"\n",
       "  1232.47,1486.45 1232.47,1467.55 \n",
       "  \"/>\n",
       "<polyline clip-path=\"url(#clip210)\" style=\"stroke:#000000; stroke-linecap:round; stroke-linejoin:round; stroke-width:4; stroke-opacity:1; fill:none\" points=\"\n",
       "  1760.9,1486.45 1760.9,1467.55 \n",
       "  \"/>\n",
       "<polyline clip-path=\"url(#clip210)\" style=\"stroke:#000000; stroke-linecap:round; stroke-linejoin:round; stroke-width:4; stroke-opacity:1; fill:none\" points=\"\n",
       "  2289.34,1486.45 2289.34,1467.55 \n",
       "  \"/>\n",
       "<path clip-path=\"url(#clip210)\" d=\"M137.893 1517.37 Q134.282 1517.37 132.453 1520.93 Q130.648 1524.47 130.648 1531.6 Q130.648 1538.71 132.453 1542.27 Q134.282 1545.82 137.893 1545.82 Q141.527 1545.82 143.333 1542.27 Q145.162 1538.71 145.162 1531.6 Q145.162 1524.47 143.333 1520.93 Q141.527 1517.37 137.893 1517.37 M137.893 1513.66 Q143.703 1513.66 146.759 1518.27 Q149.838 1522.85 149.838 1531.6 Q149.838 1540.33 146.759 1544.94 Q143.703 1549.52 137.893 1549.52 Q132.083 1549.52 129.004 1544.94 Q125.949 1540.33 125.949 1531.6 Q125.949 1522.85 129.004 1518.27 Q132.083 1513.66 137.893 1513.66 Z\" fill=\"#000000\" fill-rule=\"evenodd\" fill-opacity=\"1\" /><path clip-path=\"url(#clip210)\" d=\"M158.055 1542.97 L162.939 1542.97 L162.939 1548.85 L158.055 1548.85 L158.055 1542.97 Z\" fill=\"#000000\" fill-rule=\"evenodd\" fill-opacity=\"1\" /><path clip-path=\"url(#clip210)\" d=\"M183.124 1517.37 Q179.513 1517.37 177.685 1520.93 Q175.879 1524.47 175.879 1531.6 Q175.879 1538.71 177.685 1542.27 Q179.513 1545.82 183.124 1545.82 Q186.759 1545.82 188.564 1542.27 Q190.393 1538.71 190.393 1531.6 Q190.393 1524.47 188.564 1520.93 Q186.759 1517.37 183.124 1517.37 M183.124 1513.66 Q188.935 1513.66 191.99 1518.27 Q195.069 1522.85 195.069 1531.6 Q195.069 1540.33 191.99 1544.94 Q188.935 1549.52 183.124 1549.52 Q177.314 1549.52 174.236 1544.94 Q171.18 1540.33 171.18 1531.6 Q171.18 1522.85 174.236 1518.27 Q177.314 1513.66 183.124 1513.66 Z\" fill=\"#000000\" fill-rule=\"evenodd\" fill-opacity=\"1\" /><path clip-path=\"url(#clip210)\" d=\"M213.286 1517.37 Q209.675 1517.37 207.847 1520.93 Q206.041 1524.47 206.041 1531.6 Q206.041 1538.71 207.847 1542.27 Q209.675 1545.82 213.286 1545.82 Q216.921 1545.82 218.726 1542.27 Q220.555 1538.71 220.555 1531.6 Q220.555 1524.47 218.726 1520.93 Q216.921 1517.37 213.286 1517.37 M213.286 1513.66 Q219.096 1513.66 222.152 1518.27 Q225.231 1522.85 225.231 1531.6 Q225.231 1540.33 222.152 1544.94 Q219.096 1549.52 213.286 1549.52 Q207.476 1549.52 204.397 1544.94 Q201.342 1540.33 201.342 1531.6 Q201.342 1522.85 204.397 1518.27 Q207.476 1513.66 213.286 1513.66 Z\" fill=\"#000000\" fill-rule=\"evenodd\" fill-opacity=\"1\" /><path clip-path=\"url(#clip210)\" d=\"M666.829 1517.37 Q663.218 1517.37 661.39 1520.93 Q659.584 1524.47 659.584 1531.6 Q659.584 1538.71 661.39 1542.27 Q663.218 1545.82 666.829 1545.82 Q670.464 1545.82 672.269 1542.27 Q674.098 1538.71 674.098 1531.6 Q674.098 1524.47 672.269 1520.93 Q670.464 1517.37 666.829 1517.37 M666.829 1513.66 Q672.639 1513.66 675.695 1518.27 Q678.774 1522.85 678.774 1531.6 Q678.774 1540.33 675.695 1544.94 Q672.639 1549.52 666.829 1549.52 Q661.019 1549.52 657.94 1544.94 Q654.885 1540.33 654.885 1531.6 Q654.885 1522.85 657.94 1518.27 Q661.019 1513.66 666.829 1513.66 Z\" fill=\"#000000\" fill-rule=\"evenodd\" fill-opacity=\"1\" /><path clip-path=\"url(#clip210)\" d=\"M686.991 1542.97 L691.875 1542.97 L691.875 1548.85 L686.991 1548.85 L686.991 1542.97 Z\" fill=\"#000000\" fill-rule=\"evenodd\" fill-opacity=\"1\" /><path clip-path=\"url(#clip210)\" d=\"M706.088 1544.91 L722.408 1544.91 L722.408 1548.85 L700.463 1548.85 L700.463 1544.91 Q703.125 1542.16 707.709 1537.53 Q712.315 1532.88 713.496 1531.53 Q715.741 1529.01 716.621 1527.27 Q717.523 1525.51 717.523 1523.82 Q717.523 1521.07 715.579 1519.33 Q713.658 1517.6 710.556 1517.6 Q708.357 1517.6 705.903 1518.36 Q703.473 1519.13 700.695 1520.68 L700.695 1515.95 Q703.519 1514.82 705.973 1514.24 Q708.426 1513.66 710.463 1513.66 Q715.834 1513.66 719.028 1516.35 Q722.223 1519.03 722.223 1523.52 Q722.223 1525.65 721.412 1527.57 Q720.625 1529.47 718.519 1532.07 Q717.94 1532.74 714.838 1535.95 Q711.736 1539.15 706.088 1544.91 Z\" fill=\"#000000\" fill-rule=\"evenodd\" fill-opacity=\"1\" /><path clip-path=\"url(#clip210)\" d=\"M732.269 1514.29 L750.625 1514.29 L750.625 1518.22 L736.551 1518.22 L736.551 1526.7 Q737.57 1526.35 738.588 1526.19 Q739.607 1526 740.625 1526 Q746.412 1526 749.792 1529.17 Q753.171 1532.34 753.171 1537.76 Q753.171 1543.34 749.699 1546.44 Q746.227 1549.52 739.908 1549.52 Q737.732 1549.52 735.463 1549.15 Q733.218 1548.78 730.81 1548.04 L730.81 1543.34 Q732.894 1544.47 735.116 1545.03 Q737.338 1545.58 739.815 1545.58 Q743.82 1545.58 746.158 1543.48 Q748.496 1541.37 748.496 1537.76 Q748.496 1534.15 746.158 1532.04 Q743.82 1529.94 739.815 1529.94 Q737.94 1529.94 736.065 1530.35 Q734.213 1530.77 732.269 1531.65 L732.269 1514.29 Z\" fill=\"#000000\" fill-rule=\"evenodd\" fill-opacity=\"1\" /><path clip-path=\"url(#clip210)\" d=\"M1194.77 1517.37 Q1191.16 1517.37 1189.33 1520.93 Q1187.52 1524.47 1187.52 1531.6 Q1187.52 1538.71 1189.33 1542.27 Q1191.16 1545.82 1194.77 1545.82 Q1198.4 1545.82 1200.21 1542.27 Q1202.04 1538.71 1202.04 1531.6 Q1202.04 1524.47 1200.21 1520.93 Q1198.4 1517.37 1194.77 1517.37 M1194.77 1513.66 Q1200.58 1513.66 1203.64 1518.27 Q1206.71 1522.85 1206.71 1531.6 Q1206.71 1540.33 1203.64 1544.94 Q1200.58 1549.52 1194.77 1549.52 Q1188.96 1549.52 1185.88 1544.94 Q1182.83 1540.33 1182.83 1531.6 Q1182.83 1522.85 1185.88 1518.27 Q1188.96 1513.66 1194.77 1513.66 Z\" fill=\"#000000\" fill-rule=\"evenodd\" fill-opacity=\"1\" /><path clip-path=\"url(#clip210)\" d=\"M1214.93 1542.97 L1219.82 1542.97 L1219.82 1548.85 L1214.93 1548.85 L1214.93 1542.97 Z\" fill=\"#000000\" fill-rule=\"evenodd\" fill-opacity=\"1\" /><path clip-path=\"url(#clip210)\" d=\"M1230.05 1514.29 L1248.4 1514.29 L1248.4 1518.22 L1234.33 1518.22 L1234.33 1526.7 Q1235.35 1526.35 1236.37 1526.19 Q1237.39 1526 1238.4 1526 Q1244.19 1526 1247.57 1529.17 Q1250.95 1532.34 1250.95 1537.76 Q1250.95 1543.34 1247.48 1546.44 Q1244.01 1549.52 1237.69 1549.52 Q1235.51 1549.52 1233.24 1549.15 Q1231 1548.78 1228.59 1548.04 L1228.59 1543.34 Q1230.67 1544.47 1232.89 1545.03 Q1235.12 1545.58 1237.59 1545.58 Q1241.6 1545.58 1243.94 1543.48 Q1246.27 1541.37 1246.27 1537.76 Q1246.27 1534.15 1243.94 1532.04 Q1241.6 1529.94 1237.59 1529.94 Q1235.72 1529.94 1233.84 1530.35 Q1231.99 1530.77 1230.05 1531.65 L1230.05 1514.29 Z\" fill=\"#000000\" fill-rule=\"evenodd\" fill-opacity=\"1\" /><path clip-path=\"url(#clip210)\" d=\"M1270.16 1517.37 Q1266.55 1517.37 1264.72 1520.93 Q1262.92 1524.47 1262.92 1531.6 Q1262.92 1538.71 1264.72 1542.27 Q1266.55 1545.82 1270.16 1545.82 Q1273.8 1545.82 1275.6 1542.27 Q1277.43 1538.71 1277.43 1531.6 Q1277.43 1524.47 1275.6 1520.93 Q1273.8 1517.37 1270.16 1517.37 M1270.16 1513.66 Q1275.97 1513.66 1279.03 1518.27 Q1282.11 1522.85 1282.11 1531.6 Q1282.11 1540.33 1279.03 1544.94 Q1275.97 1549.52 1270.16 1549.52 Q1264.35 1549.52 1261.27 1544.94 Q1258.22 1540.33 1258.22 1531.6 Q1258.22 1522.85 1261.27 1518.27 Q1264.35 1513.66 1270.16 1513.66 Z\" fill=\"#000000\" fill-rule=\"evenodd\" fill-opacity=\"1\" /><path clip-path=\"url(#clip210)\" d=\"M1723.71 1517.37 Q1720.09 1517.37 1718.27 1520.93 Q1716.46 1524.47 1716.46 1531.6 Q1716.46 1538.71 1718.27 1542.27 Q1720.09 1545.82 1723.71 1545.82 Q1727.34 1545.82 1729.15 1542.27 Q1730.97 1538.71 1730.97 1531.6 Q1730.97 1524.47 1729.15 1520.93 Q1727.34 1517.37 1723.71 1517.37 M1723.71 1513.66 Q1729.52 1513.66 1732.57 1518.27 Q1735.65 1522.85 1735.65 1531.6 Q1735.65 1540.33 1732.57 1544.94 Q1729.52 1549.52 1723.71 1549.52 Q1717.9 1549.52 1714.82 1544.94 Q1711.76 1540.33 1711.76 1531.6 Q1711.76 1522.85 1714.82 1518.27 Q1717.9 1513.66 1723.71 1513.66 Z\" fill=\"#000000\" fill-rule=\"evenodd\" fill-opacity=\"1\" /><path clip-path=\"url(#clip210)\" d=\"M1743.87 1542.97 L1748.75 1542.97 L1748.75 1548.85 L1743.87 1548.85 L1743.87 1542.97 Z\" fill=\"#000000\" fill-rule=\"evenodd\" fill-opacity=\"1\" /><path clip-path=\"url(#clip210)\" d=\"M1757.76 1514.29 L1779.98 1514.29 L1779.98 1516.28 L1767.43 1548.85 L1762.55 1548.85 L1774.35 1518.22 L1757.76 1518.22 L1757.76 1514.29 Z\" fill=\"#000000\" fill-rule=\"evenodd\" fill-opacity=\"1\" /><path clip-path=\"url(#clip210)\" d=\"M1789.15 1514.29 L1807.5 1514.29 L1807.5 1518.22 L1793.43 1518.22 L1793.43 1526.7 Q1794.45 1526.35 1795.46 1526.19 Q1796.48 1526 1797.5 1526 Q1803.29 1526 1806.67 1529.17 Q1810.05 1532.34 1810.05 1537.76 Q1810.05 1543.34 1806.58 1546.44 Q1803.1 1549.52 1796.78 1549.52 Q1794.61 1549.52 1792.34 1549.15 Q1790.09 1548.78 1787.69 1548.04 L1787.69 1543.34 Q1789.77 1544.47 1791.99 1545.03 Q1794.21 1545.58 1796.69 1545.58 Q1800.7 1545.58 1803.03 1543.48 Q1805.37 1541.37 1805.37 1537.76 Q1805.37 1534.15 1803.03 1532.04 Q1800.7 1529.94 1796.69 1529.94 Q1794.82 1529.94 1792.94 1530.35 Q1791.09 1530.77 1789.15 1531.65 L1789.15 1514.29 Z\" fill=\"#000000\" fill-rule=\"evenodd\" fill-opacity=\"1\" /><path clip-path=\"url(#clip210)\" d=\"M2241.42 1544.91 L2249.05 1544.91 L2249.05 1518.55 L2240.74 1520.21 L2240.74 1515.95 L2249.01 1514.29 L2253.68 1514.29 L2253.68 1544.91 L2261.32 1544.91 L2261.32 1548.85 L2241.42 1548.85 L2241.42 1544.91 Z\" fill=\"#000000\" fill-rule=\"evenodd\" fill-opacity=\"1\" /><path clip-path=\"url(#clip210)\" d=\"M2270.77 1542.97 L2275.65 1542.97 L2275.65 1548.85 L2270.77 1548.85 L2270.77 1542.97 Z\" fill=\"#000000\" fill-rule=\"evenodd\" fill-opacity=\"1\" /><path clip-path=\"url(#clip210)\" d=\"M2295.84 1517.37 Q2292.23 1517.37 2290.4 1520.93 Q2288.59 1524.47 2288.59 1531.6 Q2288.59 1538.71 2290.4 1542.27 Q2292.23 1545.82 2295.84 1545.82 Q2299.47 1545.82 2301.28 1542.27 Q2303.1 1538.71 2303.1 1531.6 Q2303.1 1524.47 2301.28 1520.93 Q2299.47 1517.37 2295.84 1517.37 M2295.84 1513.66 Q2301.65 1513.66 2304.7 1518.27 Q2307.78 1522.85 2307.78 1531.6 Q2307.78 1540.33 2304.7 1544.94 Q2301.65 1549.52 2295.84 1549.52 Q2290.03 1549.52 2286.95 1544.94 Q2283.89 1540.33 2283.89 1531.6 Q2283.89 1522.85 2286.95 1518.27 Q2290.03 1513.66 2295.84 1513.66 Z\" fill=\"#000000\" fill-rule=\"evenodd\" fill-opacity=\"1\" /><path clip-path=\"url(#clip210)\" d=\"M2326 1517.37 Q2322.39 1517.37 2320.56 1520.93 Q2318.75 1524.47 2318.75 1531.6 Q2318.75 1538.71 2320.56 1542.27 Q2322.39 1545.82 2326 1545.82 Q2329.63 1545.82 2331.44 1542.27 Q2333.27 1538.71 2333.27 1531.6 Q2333.27 1524.47 2331.44 1520.93 Q2329.63 1517.37 2326 1517.37 M2326 1513.66 Q2331.81 1513.66 2334.86 1518.27 Q2337.94 1522.85 2337.94 1531.6 Q2337.94 1540.33 2334.86 1544.94 Q2331.81 1549.52 2326 1549.52 Q2320.19 1549.52 2317.11 1544.94 Q2314.05 1540.33 2314.05 1531.6 Q2314.05 1522.85 2317.11 1518.27 Q2320.19 1513.66 2326 1513.66 Z\" fill=\"#000000\" fill-rule=\"evenodd\" fill-opacity=\"1\" /><polyline clip-path=\"url(#clip212)\" style=\"stroke:#000000; stroke-linecap:round; stroke-linejoin:round; stroke-width:2; stroke-opacity:0.1; fill:none\" points=\"\n",
       "  112.177,1445.72 2352.76,1445.72 \n",
       "  \"/>\n",
       "<polyline clip-path=\"url(#clip212)\" style=\"stroke:#000000; stroke-linecap:round; stroke-linejoin:round; stroke-width:2; stroke-opacity:0.1; fill:none\" points=\"\n",
       "  112.177,1106.28 2352.76,1106.28 \n",
       "  \"/>\n",
       "<polyline clip-path=\"url(#clip212)\" style=\"stroke:#000000; stroke-linecap:round; stroke-linejoin:round; stroke-width:2; stroke-opacity:0.1; fill:none\" points=\"\n",
       "  112.177,766.846 2352.76,766.846 \n",
       "  \"/>\n",
       "<polyline clip-path=\"url(#clip212)\" style=\"stroke:#000000; stroke-linecap:round; stroke-linejoin:round; stroke-width:2; stroke-opacity:0.1; fill:none\" points=\"\n",
       "  112.177,427.411 2352.76,427.411 \n",
       "  \"/>\n",
       "<polyline clip-path=\"url(#clip212)\" style=\"stroke:#000000; stroke-linecap:round; stroke-linejoin:round; stroke-width:2; stroke-opacity:0.1; fill:none\" points=\"\n",
       "  112.177,87.9763 2352.76,87.9763 \n",
       "  \"/>\n",
       "<polyline clip-path=\"url(#clip210)\" style=\"stroke:#000000; stroke-linecap:round; stroke-linejoin:round; stroke-width:4; stroke-opacity:1; fill:none\" points=\"\n",
       "  112.177,1486.45 112.177,47.2441 \n",
       "  \"/>\n",
       "<polyline clip-path=\"url(#clip210)\" style=\"stroke:#000000; stroke-linecap:round; stroke-linejoin:round; stroke-width:4; stroke-opacity:1; fill:none\" points=\"\n",
       "  112.177,1445.72 131.075,1445.72 \n",
       "  \"/>\n",
       "<polyline clip-path=\"url(#clip210)\" style=\"stroke:#000000; stroke-linecap:round; stroke-linejoin:round; stroke-width:4; stroke-opacity:1; fill:none\" points=\"\n",
       "  112.177,1106.28 131.075,1106.28 \n",
       "  \"/>\n",
       "<polyline clip-path=\"url(#clip210)\" style=\"stroke:#000000; stroke-linecap:round; stroke-linejoin:round; stroke-width:4; stroke-opacity:1; fill:none\" points=\"\n",
       "  112.177,766.846 131.075,766.846 \n",
       "  \"/>\n",
       "<polyline clip-path=\"url(#clip210)\" style=\"stroke:#000000; stroke-linecap:round; stroke-linejoin:round; stroke-width:4; stroke-opacity:1; fill:none\" points=\"\n",
       "  112.177,427.411 131.075,427.411 \n",
       "  \"/>\n",
       "<polyline clip-path=\"url(#clip210)\" style=\"stroke:#000000; stroke-linecap:round; stroke-linejoin:round; stroke-width:4; stroke-opacity:1; fill:none\" points=\"\n",
       "  112.177,87.9763 131.075,87.9763 \n",
       "  \"/>\n",
       "<path clip-path=\"url(#clip210)\" d=\"M64.2328 1431.51 Q60.6217 1431.51 58.793 1435.08 Q56.9875 1438.62 56.9875 1445.75 Q56.9875 1452.86 58.793 1456.42 Q60.6217 1459.96 64.2328 1459.96 Q67.867 1459.96 69.6726 1456.42 Q71.5013 1452.86 71.5013 1445.75 Q71.5013 1438.62 69.6726 1435.08 Q67.867 1431.51 64.2328 1431.51 M64.2328 1427.81 Q70.0429 1427.81 73.0985 1432.42 Q76.1772 1437 76.1772 1445.75 Q76.1772 1454.48 73.0985 1459.08 Q70.0429 1463.67 64.2328 1463.67 Q58.4226 1463.67 55.344 1459.08 Q52.2884 1454.48 52.2884 1445.75 Q52.2884 1437 55.344 1432.42 Q58.4226 1427.81 64.2328 1427.81 Z\" fill=\"#000000\" fill-rule=\"evenodd\" fill-opacity=\"1\" /><path clip-path=\"url(#clip210)\" d=\"M56.2699 1119.63 L63.9087 1119.63 L63.9087 1093.26 L55.5986 1094.93 L55.5986 1090.67 L63.8624 1089 L68.5383 1089 L68.5383 1119.63 L76.1772 1119.63 L76.1772 1123.56 L56.2699 1123.56 L56.2699 1119.63 Z\" fill=\"#000000\" fill-rule=\"evenodd\" fill-opacity=\"1\" /><path clip-path=\"url(#clip210)\" d=\"M59.8578 780.191 L76.1772 780.191 L76.1772 784.126 L54.2328 784.126 L54.2328 780.191 Q56.8949 777.436 61.4782 772.807 Q66.0846 768.154 67.2652 766.811 Q69.5105 764.288 70.3902 762.552 Q71.2929 760.793 71.2929 759.103 Q71.2929 756.348 69.3485 754.612 Q67.4272 752.876 64.3254 752.876 Q62.1263 752.876 59.6726 753.64 Q57.2421 754.404 54.4643 755.955 L54.4643 751.233 Q57.2884 750.098 59.7421 749.52 Q62.1958 748.941 64.2328 748.941 Q69.6031 748.941 72.7976 751.626 Q75.992 754.311 75.992 758.802 Q75.992 760.932 75.1818 762.853 Q74.3948 764.751 72.2883 767.344 Q71.7096 768.015 68.6078 771.233 Q65.5059 774.427 59.8578 780.191 Z\" fill=\"#000000\" fill-rule=\"evenodd\" fill-opacity=\"1\" /><path clip-path=\"url(#clip210)\" d=\"M69.0476 426.057 Q72.404 426.775 74.279 429.043 Q76.1772 431.312 76.1772 434.645 Q76.1772 439.761 72.6587 442.562 Q69.1402 445.362 62.6587 445.362 Q60.4828 445.362 58.168 444.923 Q55.8764 444.506 53.4227 443.649 L53.4227 439.136 Q55.3671 440.27 57.6819 440.849 Q59.9967 441.427 62.5198 441.427 Q66.918 441.427 69.2096 439.691 Q71.5244 437.955 71.5244 434.645 Q71.5244 431.589 69.3717 429.876 Q67.242 428.14 63.4226 428.14 L59.3949 428.14 L59.3949 424.298 L63.6078 424.298 Q67.0569 424.298 68.8855 422.932 Q70.7142 421.543 70.7142 418.951 Q70.7142 416.289 68.8161 414.876 Q66.9411 413.441 63.4226 413.441 Q61.5013 413.441 59.3023 413.858 Q57.1032 414.275 54.4643 415.154 L54.4643 410.988 Q57.1264 410.247 59.4412 409.877 Q61.7791 409.506 63.8393 409.506 Q69.1633 409.506 72.2652 411.937 Q75.367 414.344 75.367 418.464 Q75.367 421.335 73.7235 423.326 Q72.08 425.293 69.0476 426.057 Z\" fill=\"#000000\" fill-rule=\"evenodd\" fill-opacity=\"1\" /><path clip-path=\"url(#clip210)\" d=\"M66.5939 74.7703 L54.7884 93.2193 L66.5939 93.2193 L66.5939 74.7703 M65.367 70.6963 L71.2466 70.6963 L71.2466 93.2193 L76.1772 93.2193 L76.1772 97.1082 L71.2466 97.1082 L71.2466 105.256 L66.5939 105.256 L66.5939 97.1082 L50.9921 97.1082 L50.9921 92.5943 L65.367 70.6963 Z\" fill=\"#000000\" fill-rule=\"evenodd\" fill-opacity=\"1\" /><circle clip-path=\"url(#clip212)\" cx=\"175.59\" cy=\"1445.72\" r=\"14.4\" fill=\"#009af9\" fill-rule=\"evenodd\" fill-opacity=\"1\" stroke=\"#000000\" stroke-opacity=\"1\" stroke-width=\"3.2\"/>\n",
       "<circle clip-path=\"url(#clip212)\" cx=\"175.59\" cy=\"87.9763\" r=\"14.4\" fill=\"#009af9\" fill-rule=\"evenodd\" fill-opacity=\"1\" stroke=\"#000000\" stroke-opacity=\"1\" stroke-width=\"3.2\"/>\n",
       "<circle clip-path=\"url(#clip212)\" cx=\"2164.62\" cy=\"781.406\" r=\"14.4\" fill=\"#e26f46\" fill-rule=\"evenodd\" fill-opacity=\"1\" stroke=\"#000000\" stroke-opacity=\"1\" stroke-width=\"3.2\"/>\n",
       "<polyline clip-path=\"url(#clip212)\" style=\"stroke:#3da44d; stroke-linecap:round; stroke-linejoin:round; stroke-width:4; stroke-opacity:1; fill:none\" points=\"\n",
       "  175.59,766.846 2289.34,766.846 \n",
       "  \"/>\n",
       "<path clip-path=\"url(#clip210)\" d=\"\n",
       "M1759.89 302.578 L2278.07 302.578 L2278.07 95.2176 L1759.89 95.2176  Z\n",
       "  \" fill=\"#ffffff\" fill-rule=\"evenodd\" fill-opacity=\"1\"/>\n",
       "<polyline clip-path=\"url(#clip210)\" style=\"stroke:#000000; stroke-linecap:round; stroke-linejoin:round; stroke-width:4; stroke-opacity:1; fill:none\" points=\"\n",
       "  1759.89,302.578 2278.07,302.578 2278.07,95.2176 1759.89,95.2176 1759.89,302.578 \n",
       "  \"/>\n",
       "<circle clip-path=\"url(#clip210)\" cx=\"1859.47\" cy=\"147.058\" r=\"23.04\" fill=\"#009af9\" fill-rule=\"evenodd\" fill-opacity=\"1\" stroke=\"#000000\" stroke-opacity=\"1\" stroke-width=\"5.12\"/>\n",
       "<path clip-path=\"url(#clip210)\" d=\"M1963.73 133.62 L1963.73 160.495 L1969.38 160.495 Q1976.53 160.495 1979.84 157.254 Q1983.18 154.014 1983.18 147.023 Q1983.18 140.078 1979.84 136.861 Q1976.53 133.62 1969.38 133.62 L1963.73 133.62 M1959.06 129.778 L1968.66 129.778 Q1978.71 129.778 1983.41 133.967 Q1988.11 138.134 1988.11 147.023 Q1988.11 155.958 1983.38 160.148 Q1978.66 164.338 1968.66 164.338 L1959.06 164.338 L1959.06 129.778 Z\" fill=\"#000000\" fill-rule=\"evenodd\" fill-opacity=\"1\" /><path clip-path=\"url(#clip210)\" d=\"M1995.38 138.412 L1999.63 138.412 L1999.63 164.338 L1995.38 164.338 L1995.38 138.412 M1995.38 128.319 L1999.63 128.319 L1999.63 133.713 L1995.38 133.713 L1995.38 128.319 Z\" fill=\"#000000\" fill-rule=\"evenodd\" fill-opacity=\"1\" /><path clip-path=\"url(#clip210)\" d=\"M2025.07 139.176 L2025.07 143.203 Q2023.27 142.277 2021.32 141.815 Q2019.38 141.352 2017.3 141.352 Q2014.12 141.352 2012.53 142.324 Q2010.95 143.296 2010.95 145.24 Q2010.95 146.722 2012.09 147.578 Q2013.22 148.412 2016.65 149.176 L2018.11 149.5 Q2022.64 150.472 2024.54 152.254 Q2026.46 154.014 2026.46 157.185 Q2026.46 160.796 2023.59 162.902 Q2020.75 165.009 2015.75 165.009 Q2013.66 165.009 2011.39 164.592 Q2009.15 164.199 2006.65 163.388 L2006.65 158.99 Q2009.01 160.217 2011.3 160.842 Q2013.59 161.444 2015.84 161.444 Q2018.85 161.444 2020.47 160.426 Q2022.09 159.384 2022.09 157.509 Q2022.09 155.773 2020.91 154.847 Q2019.75 153.921 2015.79 153.064 L2014.31 152.717 Q2010.35 151.884 2008.59 150.171 Q2006.83 148.435 2006.83 145.426 Q2006.83 141.768 2009.43 139.778 Q2012.02 137.787 2016.79 137.787 Q2019.15 137.787 2021.23 138.134 Q2023.31 138.481 2025.07 139.176 Z\" fill=\"#000000\" fill-rule=\"evenodd\" fill-opacity=\"1\" /><path clip-path=\"url(#clip210)\" d=\"M2037.37 160.449 L2037.37 174.199 L2033.08 174.199 L2033.08 138.412 L2037.37 138.412 L2037.37 142.347 Q2038.71 140.032 2040.75 138.921 Q2042.81 137.787 2045.65 137.787 Q2050.37 137.787 2053.31 141.537 Q2056.28 145.287 2056.28 151.398 Q2056.28 157.509 2053.31 161.259 Q2050.37 165.009 2045.65 165.009 Q2042.81 165.009 2040.75 163.898 Q2038.71 162.763 2037.37 160.449 M2051.86 151.398 Q2051.86 146.699 2049.91 144.037 Q2047.99 141.352 2044.61 141.352 Q2041.23 141.352 2039.29 144.037 Q2037.37 146.699 2037.37 151.398 Q2037.37 156.097 2039.29 158.782 Q2041.23 161.444 2044.61 161.444 Q2047.99 161.444 2049.91 158.782 Q2051.86 156.097 2051.86 151.398 Z\" fill=\"#000000\" fill-rule=\"evenodd\" fill-opacity=\"1\" /><path clip-path=\"url(#clip210)\" d=\"M2073.38 141.398 Q2069.96 141.398 2067.97 144.083 Q2065.98 146.745 2065.98 151.398 Q2065.98 156.051 2067.94 158.736 Q2069.93 161.398 2073.38 161.398 Q2076.79 161.398 2078.78 158.713 Q2080.77 156.027 2080.77 151.398 Q2080.77 146.791 2078.78 144.106 Q2076.79 141.398 2073.38 141.398 M2073.38 137.787 Q2078.94 137.787 2082.11 141.398 Q2085.28 145.009 2085.28 151.398 Q2085.28 157.764 2082.11 161.398 Q2078.94 165.009 2073.38 165.009 Q2067.81 165.009 2064.63 161.398 Q2061.49 157.764 2061.49 151.398 Q2061.49 145.009 2064.63 141.398 Q2067.81 137.787 2073.38 137.787 Z\" fill=\"#000000\" fill-rule=\"evenodd\" fill-opacity=\"1\" /><path clip-path=\"url(#clip210)\" d=\"M2108.87 139.176 L2108.87 143.203 Q2107.06 142.277 2105.12 141.815 Q2103.18 141.352 2101.09 141.352 Q2097.92 141.352 2096.32 142.324 Q2094.75 143.296 2094.75 145.24 Q2094.75 146.722 2095.88 147.578 Q2097.02 148.412 2100.44 149.176 L2101.9 149.5 Q2106.44 150.472 2108.34 152.254 Q2110.26 154.014 2110.26 157.185 Q2110.26 160.796 2107.39 162.902 Q2104.54 165.009 2099.54 165.009 Q2097.46 165.009 2095.19 164.592 Q2092.94 164.199 2090.44 163.388 L2090.44 158.99 Q2092.81 160.217 2095.1 160.842 Q2097.39 161.444 2099.63 161.444 Q2102.64 161.444 2104.26 160.426 Q2105.88 159.384 2105.88 157.509 Q2105.88 155.773 2104.7 154.847 Q2103.55 153.921 2099.59 153.064 L2098.11 152.717 Q2094.15 151.884 2092.39 150.171 Q2090.63 148.435 2090.63 145.426 Q2090.63 141.768 2093.22 139.778 Q2095.81 137.787 2100.58 137.787 Q2102.94 137.787 2105.03 138.134 Q2107.11 138.481 2108.87 139.176 Z\" fill=\"#000000\" fill-rule=\"evenodd\" fill-opacity=\"1\" /><path clip-path=\"url(#clip210)\" d=\"M2117.04 138.412 L2121.3 138.412 L2121.3 164.338 L2117.04 164.338 L2117.04 138.412 M2117.04 128.319 L2121.3 128.319 L2121.3 133.713 L2117.04 133.713 L2117.04 128.319 Z\" fill=\"#000000\" fill-rule=\"evenodd\" fill-opacity=\"1\" /><path clip-path=\"url(#clip210)\" d=\"M2134.43 131.051 L2134.43 138.412 L2143.2 138.412 L2143.2 141.722 L2134.43 141.722 L2134.43 155.796 Q2134.43 158.967 2135.28 159.87 Q2136.16 160.773 2138.82 160.773 L2143.2 160.773 L2143.2 164.338 L2138.82 164.338 Q2133.89 164.338 2132.02 162.509 Q2130.14 160.657 2130.14 155.796 L2130.14 141.722 L2127.02 141.722 L2127.02 138.412 L2130.14 138.412 L2130.14 131.051 L2134.43 131.051 Z\" fill=\"#000000\" fill-rule=\"evenodd\" fill-opacity=\"1\" /><path clip-path=\"url(#clip210)\" d=\"M2148.8 138.412 L2153.06 138.412 L2153.06 164.338 L2148.8 164.338 L2148.8 138.412 M2148.8 128.319 L2153.06 128.319 L2153.06 133.713 L2148.8 133.713 L2148.8 128.319 Z\" fill=\"#000000\" fill-rule=\"evenodd\" fill-opacity=\"1\" /><path clip-path=\"url(#clip210)\" d=\"M2158.92 138.412 L2163.43 138.412 L2171.53 160.171 L2179.63 138.412 L2184.15 138.412 L2174.43 164.338 L2168.64 164.338 L2158.92 138.412 Z\" fill=\"#000000\" fill-rule=\"evenodd\" fill-opacity=\"1\" /><path clip-path=\"url(#clip210)\" d=\"M2200.07 141.398 Q2196.65 141.398 2194.66 144.083 Q2192.67 146.745 2192.67 151.398 Q2192.67 156.051 2194.63 158.736 Q2196.62 161.398 2200.07 161.398 Q2203.48 161.398 2205.47 158.713 Q2207.46 156.027 2207.46 151.398 Q2207.46 146.791 2205.47 144.106 Q2203.48 141.398 2200.07 141.398 M2200.07 137.787 Q2205.63 137.787 2208.8 141.398 Q2211.97 145.009 2211.97 151.398 Q2211.97 157.764 2208.8 161.398 Q2205.63 165.009 2200.07 165.009 Q2194.49 165.009 2191.32 161.398 Q2188.17 157.764 2188.17 151.398 Q2188.17 145.009 2191.32 141.398 Q2194.49 137.787 2200.07 137.787 Z\" fill=\"#000000\" fill-rule=\"evenodd\" fill-opacity=\"1\" /><path clip-path=\"url(#clip210)\" d=\"M2235.56 139.176 L2235.56 143.203 Q2233.75 142.277 2231.81 141.815 Q2229.86 141.352 2227.78 141.352 Q2224.61 141.352 2223.01 142.324 Q2221.44 143.296 2221.44 145.24 Q2221.44 146.722 2222.57 147.578 Q2223.71 148.412 2227.13 149.176 L2228.59 149.5 Q2233.13 150.472 2235.03 152.254 Q2236.95 154.014 2236.95 157.185 Q2236.95 160.796 2234.08 162.902 Q2231.23 165.009 2226.23 165.009 Q2224.15 165.009 2221.88 164.592 Q2219.63 164.199 2217.13 163.388 L2217.13 158.99 Q2219.49 160.217 2221.79 160.842 Q2224.08 161.444 2226.32 161.444 Q2229.33 161.444 2230.95 160.426 Q2232.57 159.384 2232.57 157.509 Q2232.57 155.773 2231.39 154.847 Q2230.23 153.921 2226.28 153.064 L2224.8 152.717 Q2220.84 151.884 2219.08 150.171 Q2217.32 148.435 2217.32 145.426 Q2217.32 141.768 2219.91 139.778 Q2222.5 137.787 2227.27 137.787 Q2229.63 137.787 2231.72 138.134 Q2233.8 138.481 2235.56 139.176 Z\" fill=\"#000000\" fill-rule=\"evenodd\" fill-opacity=\"1\" /><circle clip-path=\"url(#clip210)\" cx=\"1859.47\" cy=\"198.898\" r=\"23.04\" fill=\"#e26f46\" fill-rule=\"evenodd\" fill-opacity=\"1\" stroke=\"#000000\" stroke-opacity=\"1\" stroke-width=\"5.12\"/>\n",
       "<path clip-path=\"url(#clip210)\" d=\"M1975.44 199.974 Q1976.95 200.483 1978.36 202.15 Q1979.8 203.817 1981.23 206.733 L1985.98 216.178 L1980.95 216.178 L1976.53 207.312 Q1974.82 203.84 1973.2 202.705 Q1971.6 201.571 1968.82 201.571 L1963.73 201.571 L1963.73 216.178 L1959.06 216.178 L1959.06 181.618 L1969.61 181.618 Q1975.54 181.618 1978.45 184.094 Q1981.37 186.571 1981.37 191.571 Q1981.37 194.835 1979.84 196.988 Q1978.34 199.141 1975.44 199.974 M1963.73 185.46 L1963.73 197.729 L1969.61 197.729 Q1972.99 197.729 1974.7 196.178 Q1976.44 194.604 1976.44 191.571 Q1976.44 188.539 1974.7 187.011 Q1972.99 185.46 1969.61 185.46 L1963.73 185.46 Z\" fill=\"#000000\" fill-rule=\"evenodd\" fill-opacity=\"1\" /><path clip-path=\"url(#clip210)\" d=\"M1999.73 193.238 Q1996.3 193.238 1994.31 195.923 Q1992.32 198.585 1992.32 203.238 Q1992.32 207.891 1994.29 210.576 Q1996.28 213.238 1999.73 213.238 Q2003.13 213.238 2005.12 210.553 Q2007.11 207.867 2007.11 203.238 Q2007.11 198.631 2005.12 195.946 Q2003.13 193.238 1999.73 193.238 M1999.73 189.627 Q2005.28 189.627 2008.45 193.238 Q2011.62 196.849 2011.62 203.238 Q2011.62 209.604 2008.45 213.238 Q2005.28 216.849 1999.73 216.849 Q1994.15 216.849 1990.98 213.238 Q1987.83 209.604 1987.83 203.238 Q1987.83 196.849 1990.98 193.238 Q1994.15 189.627 1999.73 189.627 Z\" fill=\"#000000\" fill-rule=\"evenodd\" fill-opacity=\"1\" /><path clip-path=\"url(#clip210)\" d=\"M2022.9 182.891 L2022.9 190.252 L2031.67 190.252 L2031.67 193.562 L2022.9 193.562 L2022.9 207.636 Q2022.9 210.807 2023.75 211.71 Q2024.63 212.613 2027.3 212.613 L2031.67 212.613 L2031.67 216.178 L2027.3 216.178 Q2022.37 216.178 2020.49 214.349 Q2018.62 212.497 2018.62 207.636 L2018.62 193.562 L2015.49 193.562 L2015.49 190.252 L2018.62 190.252 L2018.62 182.891 L2022.9 182.891 Z\" fill=\"#000000\" fill-rule=\"evenodd\" fill-opacity=\"1\" /><path clip-path=\"url(#clip210)\" d=\"M2059.45 202.15 L2059.45 204.233 L2039.87 204.233 Q2040.14 208.631 2042.5 210.946 Q2044.89 213.238 2049.12 213.238 Q2051.58 213.238 2053.87 212.636 Q2056.18 212.034 2058.45 210.83 L2058.45 214.858 Q2056.16 215.83 2053.75 216.34 Q2051.35 216.849 2048.87 216.849 Q2042.67 216.849 2039.03 213.238 Q2035.42 209.627 2035.42 203.469 Q2035.42 197.104 2038.85 193.377 Q2042.3 189.627 2048.13 189.627 Q2053.36 189.627 2056.39 193.006 Q2059.45 196.363 2059.45 202.15 M2055.19 200.9 Q2055.14 197.405 2053.22 195.321 Q2051.32 193.238 2048.18 193.238 Q2044.61 193.238 2042.46 195.252 Q2040.33 197.266 2040 200.923 L2055.19 200.9 Z\" fill=\"#000000\" fill-rule=\"evenodd\" fill-opacity=\"1\" /><path clip-path=\"url(#clip210)\" d=\"M2078.22 203.145 Q2073.06 203.145 2071.07 204.326 Q2069.08 205.506 2069.08 208.354 Q2069.08 210.622 2070.56 211.965 Q2072.06 213.284 2074.63 213.284 Q2078.18 213.284 2080.31 210.784 Q2082.46 208.261 2082.46 204.094 L2082.46 203.145 L2078.22 203.145 M2086.72 201.386 L2086.72 216.178 L2082.46 216.178 L2082.46 212.242 Q2081 214.603 2078.82 215.738 Q2076.65 216.849 2073.5 216.849 Q2069.52 216.849 2067.16 214.627 Q2064.82 212.381 2064.82 208.631 Q2064.82 204.256 2067.74 202.034 Q2070.68 199.812 2076.49 199.812 L2082.46 199.812 L2082.46 199.395 Q2082.46 196.455 2080.51 194.858 Q2078.59 193.238 2075.1 193.238 Q2072.87 193.238 2070.77 193.77 Q2068.66 194.303 2066.72 195.367 L2066.72 191.432 Q2069.06 190.53 2071.25 190.09 Q2073.45 189.627 2075.54 189.627 Q2081.16 189.627 2083.94 192.543 Q2086.72 195.46 2086.72 201.386 Z\" fill=\"#000000\" fill-rule=\"evenodd\" fill-opacity=\"1\" /><path clip-path=\"url(#clip210)\" d=\"M2112.55 194.187 L2112.55 180.159 L2116.81 180.159 L2116.81 216.178 L2112.55 216.178 L2112.55 212.289 Q2111.21 214.603 2109.15 215.738 Q2107.11 216.849 2104.24 216.849 Q2099.54 216.849 2096.58 213.099 Q2093.64 209.349 2093.64 203.238 Q2093.64 197.127 2096.58 193.377 Q2099.54 189.627 2104.24 189.627 Q2107.11 189.627 2109.15 190.761 Q2111.21 191.872 2112.55 194.187 M2098.04 203.238 Q2098.04 207.937 2099.96 210.622 Q2101.9 213.284 2105.28 213.284 Q2108.66 213.284 2110.61 210.622 Q2112.55 207.937 2112.55 203.238 Q2112.55 198.539 2110.61 195.877 Q2108.66 193.192 2105.28 193.192 Q2101.9 193.192 2099.96 195.877 Q2098.04 198.539 2098.04 203.238 Z\" fill=\"#000000\" fill-rule=\"evenodd\" fill-opacity=\"1\" /><path clip-path=\"url(#clip210)\" d=\"M2135.63 193.238 Q2132.2 193.238 2130.21 195.923 Q2128.22 198.585 2128.22 203.238 Q2128.22 207.891 2130.19 210.576 Q2132.18 213.238 2135.63 213.238 Q2139.03 213.238 2141.02 210.553 Q2143.01 207.867 2143.01 203.238 Q2143.01 198.631 2141.02 195.946 Q2139.03 193.238 2135.63 193.238 M2135.63 189.627 Q2141.18 189.627 2144.36 193.238 Q2147.53 196.849 2147.53 203.238 Q2147.53 209.604 2144.36 213.238 Q2141.18 216.849 2135.63 216.849 Q2130.05 216.849 2126.88 213.238 Q2123.73 209.604 2123.73 203.238 Q2123.73 196.849 2126.88 193.238 Q2130.05 189.627 2135.63 189.627 Z\" fill=\"#000000\" fill-rule=\"evenodd\" fill-opacity=\"1\" /><path clip-path=\"url(#clip210)\" d=\"M2169.61 194.233 Q2168.89 193.817 2168.04 193.631 Q2167.2 193.423 2166.18 193.423 Q2162.57 193.423 2160.63 195.784 Q2158.71 198.122 2158.71 202.52 L2158.71 216.178 L2154.43 216.178 L2154.43 190.252 L2158.71 190.252 L2158.71 194.28 Q2160.05 191.918 2162.2 190.784 Q2164.36 189.627 2167.43 189.627 Q2167.87 189.627 2168.41 189.696 Q2168.94 189.743 2169.59 189.858 L2169.61 194.233 Z\" fill=\"#000000\" fill-rule=\"evenodd\" fill-opacity=\"1\" /><polyline clip-path=\"url(#clip210)\" style=\"stroke:#3da44d; stroke-linecap:round; stroke-linejoin:round; stroke-width:4; stroke-opacity:1; fill:none\" points=\"\n",
       "  1784.79,250.738 1934.16,250.738 \n",
       "  \"/>\n",
       "<path clip-path=\"url(#clip210)\" d=\"M1959.06 233.458 L1963.73 233.458 L1963.73 268.018 L1959.06 268.018 L1959.06 233.458 Z\" fill=\"#000000\" fill-rule=\"evenodd\" fill-opacity=\"1\" /><path clip-path=\"url(#clip210)\" d=\"M1994.4 252.369 L1994.4 268.018 L1990.14 268.018 L1990.14 252.508 Q1990.14 248.828 1988.71 246.999 Q1987.27 245.17 1984.4 245.17 Q1980.95 245.17 1978.96 247.37 Q1976.97 249.569 1976.97 253.365 L1976.97 268.018 L1972.69 268.018 L1972.69 242.092 L1976.97 242.092 L1976.97 246.12 Q1978.5 243.782 1980.56 242.624 Q1982.64 241.467 1985.35 241.467 Q1989.82 241.467 1992.11 244.245 Q1994.4 246.999 1994.4 252.369 Z\" fill=\"#000000\" fill-rule=\"evenodd\" fill-opacity=\"1\" /><path clip-path=\"url(#clip210)\" d=\"M2007.11 234.731 L2007.11 242.092 L2015.88 242.092 L2015.88 245.402 L2007.11 245.402 L2007.11 259.476 Q2007.11 262.647 2007.97 263.55 Q2008.85 264.453 2011.51 264.453 L2015.88 264.453 L2015.88 268.018 L2011.51 268.018 Q2006.58 268.018 2004.7 266.189 Q2002.83 264.337 2002.83 259.476 L2002.83 245.402 L1999.7 245.402 L1999.7 242.092 L2002.83 242.092 L2002.83 234.731 L2007.11 234.731 Z\" fill=\"#000000\" fill-rule=\"evenodd\" fill-opacity=\"1\" /><path clip-path=\"url(#clip210)\" d=\"M2043.66 253.99 L2043.66 256.073 L2024.08 256.073 Q2024.36 260.471 2026.72 262.786 Q2029.1 265.078 2033.34 265.078 Q2035.79 265.078 2038.08 264.476 Q2040.4 263.874 2042.67 262.67 L2042.67 266.698 Q2040.37 267.67 2037.97 268.18 Q2035.56 268.689 2033.08 268.689 Q2026.88 268.689 2023.25 265.078 Q2019.63 261.467 2019.63 255.309 Q2019.63 248.944 2023.06 245.217 Q2026.51 241.467 2032.34 241.467 Q2037.57 241.467 2040.61 244.846 Q2043.66 248.203 2043.66 253.99 M2039.4 252.74 Q2039.36 249.245 2037.44 247.161 Q2035.54 245.078 2032.39 245.078 Q2028.82 245.078 2026.67 247.092 Q2024.54 249.106 2024.22 252.763 L2039.4 252.74 Z\" fill=\"#000000\" fill-rule=\"evenodd\" fill-opacity=\"1\" /><path clip-path=\"url(#clip210)\" d=\"M2065.68 246.073 Q2064.96 245.657 2064.1 245.471 Q2063.27 245.263 2062.25 245.263 Q2058.64 245.263 2056.69 247.624 Q2054.77 249.962 2054.77 254.36 L2054.77 268.018 L2050.49 268.018 L2050.49 242.092 L2054.77 242.092 L2054.77 246.12 Q2056.12 243.758 2058.27 242.624 Q2060.42 241.467 2063.5 241.467 Q2063.94 241.467 2064.47 241.536 Q2065 241.583 2065.65 241.698 L2065.68 246.073 Z\" fill=\"#000000\" fill-rule=\"evenodd\" fill-opacity=\"1\" /><path clip-path=\"url(#clip210)\" d=\"M2083.27 231.999 L2083.27 235.541 L2079.19 235.541 Q2076.9 235.541 2076 236.467 Q2075.12 237.393 2075.12 239.8 L2075.12 242.092 L2082.13 242.092 L2082.13 245.402 L2075.12 245.402 L2075.12 268.018 L2070.84 268.018 L2070.84 245.402 L2066.76 245.402 L2066.76 242.092 L2070.84 242.092 L2070.84 240.286 Q2070.84 235.958 2072.85 233.99 Q2074.87 231.999 2079.24 231.999 L2083.27 231.999 Z\" fill=\"#000000\" fill-rule=\"evenodd\" fill-opacity=\"1\" /><path clip-path=\"url(#clip210)\" d=\"M2109.01 253.99 L2109.01 256.073 L2089.43 256.073 Q2089.7 260.471 2092.06 262.786 Q2094.45 265.078 2098.68 265.078 Q2101.14 265.078 2103.43 264.476 Q2105.74 263.874 2108.01 262.67 L2108.01 266.698 Q2105.72 267.67 2103.31 268.18 Q2100.91 268.689 2098.43 268.689 Q2092.23 268.689 2088.59 265.078 Q2084.98 261.467 2084.98 255.309 Q2084.98 248.944 2088.41 245.217 Q2091.86 241.467 2097.69 241.467 Q2102.92 241.467 2105.95 244.846 Q2109.01 248.203 2109.01 253.99 M2104.75 252.74 Q2104.7 249.245 2102.78 247.161 Q2100.88 245.078 2097.74 245.078 Q2094.17 245.078 2092.02 247.092 Q2089.89 249.106 2089.56 252.763 L2104.75 252.74 Z\" fill=\"#000000\" fill-rule=\"evenodd\" fill-opacity=\"1\" /><path clip-path=\"url(#clip210)\" d=\"M2131.02 246.073 Q2130.3 245.657 2129.45 245.471 Q2128.62 245.263 2127.6 245.263 Q2123.99 245.263 2122.04 247.624 Q2120.12 249.962 2120.12 254.36 L2120.12 268.018 L2115.84 268.018 L2115.84 242.092 L2120.12 242.092 L2120.12 246.12 Q2121.46 243.758 2123.62 242.624 Q2125.77 241.467 2128.85 241.467 Q2129.29 241.467 2129.82 241.536 Q2130.35 241.583 2131 241.698 L2131.02 246.073 Z\" fill=\"#000000\" fill-rule=\"evenodd\" fill-opacity=\"1\" /><path clip-path=\"url(#clip210)\" d=\"M2156.62 253.99 L2156.62 256.073 L2137.04 256.073 Q2137.32 260.471 2139.68 262.786 Q2142.06 265.078 2146.3 265.078 Q2148.75 265.078 2151.05 264.476 Q2153.36 263.874 2155.63 262.67 L2155.63 266.698 Q2153.34 267.67 2150.93 268.18 Q2148.52 268.689 2146.05 268.689 Q2139.84 268.689 2136.21 265.078 Q2132.6 261.467 2132.6 255.309 Q2132.6 248.944 2136.02 245.217 Q2139.47 241.467 2145.3 241.467 Q2150.54 241.467 2153.57 244.846 Q2156.62 248.203 2156.62 253.99 M2152.36 252.74 Q2152.32 249.245 2150.4 247.161 Q2148.5 245.078 2145.35 245.078 Q2141.79 245.078 2139.63 247.092 Q2137.5 249.106 2137.18 252.763 L2152.36 252.74 Z\" fill=\"#000000\" fill-rule=\"evenodd\" fill-opacity=\"1\" /><path clip-path=\"url(#clip210)\" d=\"M2185.17 252.369 L2185.17 268.018 L2180.91 268.018 L2180.91 252.508 Q2180.91 248.828 2179.47 246.999 Q2178.04 245.17 2175.17 245.17 Q2171.72 245.17 2169.73 247.37 Q2167.74 249.569 2167.74 253.365 L2167.74 268.018 L2163.45 268.018 L2163.45 242.092 L2167.74 242.092 L2167.74 246.12 Q2169.26 243.782 2171.32 242.624 Q2173.41 241.467 2176.11 241.467 Q2180.58 241.467 2182.87 244.245 Q2185.17 246.999 2185.17 252.369 Z\" fill=\"#000000\" fill-rule=\"evenodd\" fill-opacity=\"1\" /><path clip-path=\"url(#clip210)\" d=\"M2212.32 243.087 L2212.32 247.069 Q2210.51 246.073 2208.68 245.587 Q2206.88 245.078 2205.03 245.078 Q2200.88 245.078 2198.59 247.717 Q2196.3 250.332 2196.3 255.078 Q2196.3 259.823 2198.59 262.462 Q2200.88 265.078 2205.03 265.078 Q2206.88 265.078 2208.68 264.592 Q2210.51 264.082 2212.32 263.087 L2212.32 267.022 Q2210.54 267.856 2208.61 268.272 Q2206.72 268.689 2204.56 268.689 Q2198.71 268.689 2195.26 265.008 Q2191.81 261.328 2191.81 255.078 Q2191.81 248.735 2195.28 245.101 Q2198.78 241.467 2204.84 241.467 Q2206.81 241.467 2208.68 241.883 Q2210.56 242.277 2212.32 243.087 Z\" fill=\"#000000\" fill-rule=\"evenodd\" fill-opacity=\"1\" /><path clip-path=\"url(#clip210)\" d=\"M2219.73 242.092 L2223.98 242.092 L2223.98 268.018 L2219.73 268.018 L2219.73 242.092 M2219.73 231.999 L2223.98 231.999 L2223.98 237.393 L2219.73 237.393 L2219.73 231.999 Z\" fill=\"#000000\" fill-rule=\"evenodd\" fill-opacity=\"1\" /><path clip-path=\"url(#clip210)\" d=\"M2244.68 254.985 Q2239.52 254.985 2237.53 256.166 Q2235.54 257.346 2235.54 260.194 Q2235.54 262.462 2237.02 263.805 Q2238.52 265.124 2241.09 265.124 Q2244.63 265.124 2246.76 262.624 Q2248.92 260.101 2248.92 255.934 L2248.92 254.985 L2244.68 254.985 M2253.17 253.226 L2253.17 268.018 L2248.92 268.018 L2248.92 264.082 Q2247.46 266.443 2245.28 267.578 Q2243.11 268.689 2239.96 268.689 Q2235.98 268.689 2233.61 266.467 Q2231.28 264.221 2231.28 260.471 Q2231.28 256.096 2234.19 253.874 Q2237.13 251.652 2242.94 251.652 L2248.92 251.652 L2248.92 251.235 Q2248.92 248.295 2246.97 246.698 Q2245.05 245.078 2241.55 245.078 Q2239.33 245.078 2237.23 245.61 Q2235.12 246.143 2233.17 247.207 L2233.17 243.272 Q2235.51 242.37 2237.71 241.93 Q2239.91 241.467 2241.99 241.467 Q2247.62 241.467 2250.4 244.383 Q2253.17 247.3 2253.17 253.226 Z\" fill=\"#000000\" fill-rule=\"evenodd\" fill-opacity=\"1\" /></svg>\n"
      ]
     },
     "metadata": {},
     "output_type": "display_data"
    }
   ],
   "source": [
    "using Plots\n",
    "\n",
    "scatter([dispositivos[1][1],dispositivos[2][1],],[dispositivos[1][2],dispositivos[2][2]], label=\"Dispositivos\")\n",
    "scatter!([JuMP.value.(x)],[JuMP.value.(y)], label=\"Roteador\")\n",
    "plot!([interferencias[1][1][1],interferencias[1][2][1]],[interferencias[1][1][2],interferencias[1][2][2]],label=\"Interferencia\")"
   ]
  },
  {
   "cell_type": "code",
   "execution_count": 43,
   "metadata": {},
   "outputs": [
    {
     "name": "stdout",
     "output_type": "stream",
     "text": [
      "Any[0.5656854390813344, 0]\n",
      "0.4000000099929012\n"
     ]
    }
   ],
   "source": [
    "println(force(JuMP.value.(x),JuMP.value.(y),-1))\n",
    "println(force(JuMP.value.(x),JuMP.value.(y),1))"
   ]
  },
  {
   "attachments": {},
   "cell_type": "markdown",
   "metadata": {
    "collapsed": true
   },
   "source": [
    "## 5. Conclusão ##\n",
    "\n",
    "Finalizando, podemos perceber que nosso projeto levou ao desenvolvimento de um mecânismo muito útil, tanto para profissionais de rede, quanto para clientes de operadoras que buscam a configuração que lhes dará o melhor funcionamento da rede em seu imóvel. Conseguimos determinar o melhor posicionamento possível para um roteador em um estabelecimento, considerando casos com e sem interferências ao sinal.\n",
    "\n",
    "Acreditamos que a direção à ser seguida para melhor desenvolvimento do trabalho seria a complexificar ainda mais nossos cenários. Até agora consideramos apenas fontes de interferência como barreiras metálicas e espelhos que barram o sinal, podemos, no futúro, levar em consideração interferências trazidas por outros sinais, como de aparelhos micro-ondas que atuam em bandas de frequências semelhantes aos de alguns roteadores, no caso de 2.4Ghz. Além disso podemos adicionar novos elementos como repetidores de sinais, dispositivos móveis conectados à rede, fazendo uma analise probabilista dos cômodos em que esses dispositivos se encontrariam na maior parte do tempo."
   ]
  },
  {
   "attachments": {},
   "cell_type": "markdown",
   "metadata": {},
   "source": [
    "## 6. Referências bibliográficas ##\n",
    "\n",
    "[Optimization Models and Methods for Planning Wireless Mesh Networks](https://www.researchgate.net/publication/220447584_Optimization_Models_and_Methods_for_Planning_Wireless_Mesh_Networks)\n",
    "\n",
    "[Redes Mesh](https://blog.intelbras.com.br/o-que-e-rede-mesh-e-quais-suas-vantagens/)\n",
    "\n",
    "[WLAN](https://pt.wikipedia.org/wiki/Rede_de_área_local_sem_fio)"
   ]
  }
 ],
 "metadata": {
  "@webio": {
   "lastCommId": null,
   "lastKernelId": null
  },
  "kernelspec": {
   "display_name": "Julia 1.8.0",
   "language": "julia",
   "name": "julia-1.8"
  },
  "language_info": {
   "file_extension": ".jl",
   "mimetype": "application/julia",
   "name": "julia",
   "version": "1.8.0"
  }
 },
 "nbformat": 4,
 "nbformat_minor": 1
}
