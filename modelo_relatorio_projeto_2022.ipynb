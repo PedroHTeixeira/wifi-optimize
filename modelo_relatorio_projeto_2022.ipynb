{
 "cells": [
  {
   "cell_type": "code",
   "execution_count": 103,
   "metadata": {},
   "outputs": [],
   "source": [
    "using JuMP\n"
   ]
  },
  {
   "cell_type": "code",
   "execution_count": 104,
   "metadata": {},
   "outputs": [
    {
     "name": "stderr",
     "output_type": "stream",
     "text": [
      "\u001b[32m\u001b[1m   Resolving\u001b[22m\u001b[39m package versions...\n",
      "\u001b[32m\u001b[1m  No Changes\u001b[22m\u001b[39m to `~/.julia/environments/v1.8/Project.toml`\n",
      "\u001b[32m\u001b[1m  No Changes\u001b[22m\u001b[39m to `~/.julia/environments/v1.8/Manifest.toml`\n"
     ]
    }
   ],
   "source": [
    "import Pkg\n",
    "Pkg.add(\"Ipopt\")"
   ]
  },
  {
   "cell_type": "code",
   "execution_count": 11,
   "metadata": {},
   "outputs": [
    {
     "name": "stderr",
     "output_type": "stream",
     "text": [
      "\u001b[32m\u001b[1m    Updating\u001b[22m\u001b[39m registry at `~/.julia/registries/General.toml`\n"
     ]
    },
    {
     "name": "stderr",
     "output_type": "stream",
     "text": [
      "\u001b[32m\u001b[1m   Resolving\u001b[22m\u001b[39m package versions...\n"
     ]
    },
    {
     "name": "stderr",
     "output_type": "stream",
     "text": [
      "\u001b[32m\u001b[1m   Installed\u001b[22m\u001b[39m JpegTurbo_jll ──────────────── v2.1.2+0\n",
      "\u001b[32m\u001b[1m   Installed\u001b[22m\u001b[39m x265_jll ───────────────────── v3.5.0+0\n",
      "\u001b[32m\u001b[1m   Installed\u001b[22m\u001b[39m libfdk_aac_jll ─────────────── v2.0.2+0\n",
      "\u001b[32m\u001b[1m   Installed\u001b[22m\u001b[39m Libmount_jll ───────────────── v2.35.0+0\n",
      "\u001b[32m\u001b[1m   Installed\u001b[22m\u001b[39m GR_jll ─────────────────────── v0.71.3+0\n",
      "\u001b[32m\u001b[1m   Installed\u001b[22m\u001b[39m LERC_jll ───────────────────── v3.0.0+1\n",
      "\u001b[32m\u001b[1m   Installed\u001b[22m\u001b[39m Opus_jll ───────────────────── v1.3.2+0\n",
      "\u001b[32m\u001b[1m   Installed\u001b[22m\u001b[39m LoggingExtras ──────────────── v1.0.0\n"
     ]
    },
    {
     "name": "stderr",
     "output_type": "stream",
     "text": [
      "\u001b[32m\u001b[1m   Installed\u001b[22m\u001b[39m Grisu ──────────────────────── v1.0.2\n"
     ]
    },
    {
     "name": "stderr",
     "output_type": "stream",
     "text": [
      "\u001b[32m\u001b[1m   Installed\u001b[22m\u001b[39m Formatting ─────────────────── v0.4.2\n",
      "\u001b[32m\u001b[1m   Installed\u001b[22m\u001b[39m Measures ───────────────────── v0.3.2\n",
      "\u001b[32m\u001b[1m   Installed\u001b[22m\u001b[39m RelocatableFolders ─────────── v1.0.0\n",
      "\u001b[32m\u001b[1m   Installed\u001b[22m\u001b[39m Xorg_xkbcomp_jll ───────────── v1.4.2+4\n"
     ]
    },
    {
     "name": "stderr",
     "output_type": "stream",
     "text": [
      "\u001b[32m\u001b[1m   Installed\u001b[22m\u001b[39m Xorg_xcb_util_wm_jll ───────── v0.4.1+1\n"
     ]
    },
    {
     "name": "stderr",
     "output_type": "stream",
     "text": [
      "\u001b[32m\u001b[1m   Installed\u001b[22m\u001b[39m PlotUtils ──────────────────── v1.3.2\n",
      "\u001b[32m\u001b[1m   Installed\u001b[22m\u001b[39m RecipesPipeline ────────────── v0.6.11\n",
      "\u001b[32m\u001b[1m   Installed\u001b[22m\u001b[39m Xorg_xcb_util_image_jll ────── v0.4.0+1\n",
      "\u001b[32m\u001b[1m   Installed\u001b[22m\u001b[39m OpenSSL ────────────────────── v1.3.2\n",
      "\u001b[32m\u001b[1m   Installed\u001b[22m\u001b[39m Xorg_libpthread_stubs_jll ──── v0.1.0+3\n",
      "\u001b[32m\u001b[1m   Installed\u001b[22m\u001b[39m Contour ────────────────────── v0.6.2\n"
     ]
    },
    {
     "name": "stderr",
     "output_type": "stream",
     "text": [
      "\u001b[32m\u001b[1m   Installed\u001b[22m\u001b[39m Xorg_xcb_util_jll ──────────── v0.4.0+1\n",
      "\u001b[32m\u001b[1m   Installed\u001b[22m\u001b[39m Libgpg_error_jll ───────────── v1.42.0+0\n",
      "\u001b[32m\u001b[1m   Installed\u001b[22m\u001b[39m Cairo_jll ──────────────────── v1.16.1+1\n",
      "\u001b[32m\u001b[1m   Installed\u001b[22m\u001b[39m Fontconfig_jll ─────────────── v2.13.93+0\n"
     ]
    },
    {
     "name": "stderr",
     "output_type": "stream",
     "text": [
      "\u001b[32m\u001b[1m   Installed\u001b[22m\u001b[39m Xorg_libxkbfile_jll ────────── v1.1.0+4\n",
      "\u001b[32m\u001b[1m   Installed\u001b[22m\u001b[39m HTTP ───────────────────────── v1.6.3\n",
      "\u001b[32m\u001b[1m   Installed\u001b[22m\u001b[39m Xorg_libXinerama_jll ───────── v1.1.4+4\n"
     ]
    },
    {
     "name": "stderr",
     "output_type": "stream",
     "text": [
      "\u001b[32m\u001b[1m   Installed\u001b[22m\u001b[39m Xorg_libXau_jll ────────────── v1.0.9+4\n",
      "\u001b[32m\u001b[1m   Installed\u001b[22m\u001b[39m Qt5Base_jll ────────────────── v5.15.3+2\n",
      "\u001b[32m\u001b[1m   Installed\u001b[22m\u001b[39m FFMPEG ─────────────────────── v0.4.1\n"
     ]
    },
    {
     "name": "stderr",
     "output_type": "stream",
     "text": [
      "\u001b[32m\u001b[1m   Installed\u001b[22m\u001b[39m Missings ───────────────────── v1.1.0\n",
      "\u001b[32m\u001b[1m   Installed\u001b[22m\u001b[39m Showoff ────────────────────── v1.0.3\n",
      "\u001b[32m\u001b[1m   Installed\u001b[22m\u001b[39m Xorg_xcb_util_keysyms_jll ──── v0.4.0+1\n"
     ]
    },
    {
     "name": "stderr",
     "output_type": "stream",
     "text": [
      "\u001b[32m\u001b[1m   Installed\u001b[22m\u001b[39m xkbcommon_jll ──────────────── v1.4.1+0\n",
      "\u001b[32m\u001b[1m   Installed\u001b[22m\u001b[39m SimpleBufferStream ─────────── v1.1.0\n",
      "\u001b[32m\u001b[1m   Installed\u001b[22m\u001b[39m HarfBuzz_jll ───────────────── v2.8.1+1\n",
      "\u001b[32m\u001b[1m   Installed\u001b[22m\u001b[39m Pipe ───────────────────────── v1.3.0\n",
      "\u001b[32m\u001b[1m   Installed\u001b[22m\u001b[39m LZO_jll ────────────────────── v2.10.1+0\n",
      "\u001b[32m\u001b[1m   Installed\u001b[22m\u001b[39m PlotThemes ─────────────────── v3.1.0\n"
     ]
    },
    {
     "name": "stderr",
     "output_type": "stream",
     "text": [
      "\u001b[32m\u001b[1m   Installed\u001b[22m\u001b[39m fzf_jll ────────────────────── v0.29.0+0\n",
      "\u001b[32m\u001b[1m   Installed\u001b[22m\u001b[39m FriBidi_jll ────────────────── v1.0.10+0\n",
      "\u001b[32m\u001b[1m   Installed\u001b[22m\u001b[39m x264_jll ───────────────────── v2021.5.5+0\n",
      "\u001b[32m\u001b[1m   Installed\u001b[22m\u001b[39m GLFW_jll ───────────────────── v3.3.8+0\n",
      "\u001b[32m\u001b[1m   Installed\u001b[22m\u001b[39m UnicodeFun ─────────────────── v0.4.1\n"
     ]
    },
    {
     "name": "stderr",
     "output_type": "stream",
     "text": [
      "\u001b[32m\u001b[1m   Installed\u001b[22m\u001b[39m MbedTLS ────────────────────── v1.1.7\n"
     ]
    },
    {
     "name": "stderr",
     "output_type": "stream",
     "text": [
      "\u001b[32m\u001b[1m   Installed\u001b[22m\u001b[39m FreeType2_jll ──────────────── v2.10.4+0\n",
      "\u001b[32m\u001b[1m   Installed\u001b[22m\u001b[39m JLFzf ──────────────────────── v0.1.5\n",
      "\u001b[32m\u001b[1m   Installed\u001b[22m\u001b[39m StatsAPI ───────────────────── v1.5.0\n"
     ]
    },
    {
     "name": "stderr",
     "output_type": "stream",
     "text": [
      "\u001b[32m\u001b[1m   Installed\u001b[22m\u001b[39m Xorg_libxcb_jll ────────────── v1.13.0+3\n",
      "\u001b[32m\u001b[1m   Installed\u001b[22m\u001b[39m libpng_jll ─────────────────── v1.6.38+0\n"
     ]
    },
    {
     "name": "stderr",
     "output_type": "stream",
     "text": [
      "\u001b[32m\u001b[1m   Installed\u001b[22m\u001b[39m libaom_jll ─────────────────── v3.4.0+0\n",
      "\u001b[32m\u001b[1m   Installed\u001b[22m\u001b[39m StatsBase ──────────────────── v0.33.21\n"
     ]
    },
    {
     "name": "stderr",
     "output_type": "stream",
     "text": [
      "\u001b[32m\u001b[1m   Installed\u001b[22m\u001b[39m Scratch ────────────────────── v1.1.1\n",
      "\u001b[32m\u001b[1m   Installed\u001b[22m\u001b[39m Xorg_libXext_jll ───────────── v1.3.4+4\n"
     ]
    },
    {
     "name": "stderr",
     "output_type": "stream",
     "text": [
      "\u001b[32m\u001b[1m   Installed\u001b[22m\u001b[39m TensorCore ─────────────────── v0.1.1\n"
     ]
    },
    {
     "name": "stderr",
     "output_type": "stream",
     "text": [
      "\u001b[32m\u001b[1m   Installed\u001b[22m\u001b[39m Zstd_jll ───────────────────── v1.5.2+0\n",
      "\u001b[32m\u001b[1m   Installed\u001b[22m\u001b[39m Expat_jll ──────────────────── v2.4.8+0\n",
      "\u001b[32m\u001b[1m   Installed\u001b[22m\u001b[39m Libtiff_jll ────────────────── v4.4.0+0\n",
      "\u001b[32m\u001b[1m   Installed\u001b[22m\u001b[39m ColorVectorSpace ───────────── v0.9.10\n",
      "\u001b[32m\u001b[1m   Installed\u001b[22m\u001b[39m Plots ──────────────────────── v1.38.1\n"
     ]
    },
    {
     "name": "stderr",
     "output_type": "stream",
     "text": [
      "\u001b[32m\u001b[1m   Installed\u001b[22m\u001b[39m Xorg_libXrender_jll ────────── v0.9.10+4\n",
      "\u001b[32m\u001b[1m   Installed\u001b[22m\u001b[39m Libffi_jll ─────────────────── v3.2.2+1\n",
      "\u001b[32m\u001b[1m   Installed\u001b[22m\u001b[39m Xorg_libXi_jll ─────────────── v1.7.10+4\n",
      "\u001b[32m\u001b[1m   Installed\u001b[22m\u001b[39m Ogg_jll ────────────────────── v1.3.5+1\n",
      "\u001b[32m\u001b[1m   Installed\u001b[22m\u001b[39m XSLT_jll ───────────────────── v1.1.34+0\n",
      "\u001b[32m\u001b[1m   Installed\u001b[22m\u001b[39m Xorg_libXcursor_jll ────────── v1.2.0+4\n"
     ]
    },
    {
     "name": "stderr",
     "output_type": "stream",
     "text": [
      "\u001b[32m\u001b[1m   Installed\u001b[22m\u001b[39m Libuuid_jll ────────────────── v2.36.0+0\n",
      "\u001b[32m\u001b[1m   Installed\u001b[22m\u001b[39m Wayland_protocols_jll ──────── v1.25.0+0\n"
     ]
    },
    {
     "name": "stderr",
     "output_type": "stream",
     "text": [
      "\u001b[32m\u001b[1m   Installed\u001b[22m\u001b[39m Xorg_xcb_util_renderutil_jll ─ v0.3.9+1\n",
      "\u001b[32m\u001b[1m   Installed\u001b[22m\u001b[39m Pixman_jll ─────────────────── v0.40.1+0\n",
      "\u001b[32m\u001b[1m   Installed\u001b[22m\u001b[39m Graphite2_jll ──────────────── v1.3.14+0\n",
      "\u001b[32m\u001b[1m   Installed\u001b[22m\u001b[39m libass_jll ─────────────────── v0.15.1+0\n"
     ]
    },
    {
     "name": "stderr",
     "output_type": "stream",
     "text": [
      "\u001b[32m\u001b[1m   Installed\u001b[22m\u001b[39m XML2_jll ───────────────────── v2.10.3+0\n"
     ]
    },
    {
     "name": "stderr",
     "output_type": "stream",
     "text": [
      "\u001b[32m\u001b[1m   Installed\u001b[22m\u001b[39m Gettext_jll ────────────────── v0.21.0+0\n",
      "\u001b[32m\u001b[1m   Installed\u001b[22m\u001b[39m Wayland_jll ────────────────── v1.21.0+0\n",
      "\u001b[32m\u001b[1m   Installed\u001b[22m\u001b[39m Xorg_xtrans_jll ────────────── v1.4.0+3\n",
      "\u001b[32m\u001b[1m   Installed\u001b[22m\u001b[39m OpenSSL_jll ────────────────── v1.1.19+0\n",
      "\u001b[32m\u001b[1m   Installed\u001b[22m\u001b[39m Latexify ───────────────────── v0.15.17\n",
      "\u001b[32m\u001b[1m   Installed\u001b[22m\u001b[39m BitFlags ───────────────────── v0.1.7\n"
     ]
    },
    {
     "name": "stderr",
     "output_type": "stream",
     "text": [
      "\u001b[32m\u001b[1m   Installed\u001b[22m\u001b[39m FFMPEG_jll ─────────────────── v4.4.2+2\n",
      "\u001b[32m\u001b[1m   Installed\u001b[22m\u001b[39m Xorg_libXrandr_jll ─────────── v1.5.2+4\n",
      "\u001b[32m\u001b[1m   Installed\u001b[22m\u001b[39m RecipesBase ────────────────── v1.3.2\n",
      "\u001b[32m\u001b[1m   Installed\u001b[22m\u001b[39m Libgcrypt_jll ──────────────── v1.8.7+0\n",
      "\u001b[32m\u001b[1m   Installed\u001b[22m\u001b[39m DataAPI ────────────────────── v1.14.0\n",
      "\u001b[32m\u001b[1m   Installed\u001b[22m\u001b[39m Xorg_xkeyboard_config_jll ──── v2.27.0+4\n"
     ]
    },
    {
     "name": "stderr",
     "output_type": "stream",
     "text": [
      "\u001b[32m\u001b[1m   Installed\u001b[22m\u001b[39m Xorg_libXfixes_jll ─────────── v5.0.3+4\n",
      "\u001b[32m\u001b[1m   Installed\u001b[22m\u001b[39m LAME_jll ───────────────────── v3.100.1+0\n",
      "\u001b[32m\u001b[1m   Installed\u001b[22m\u001b[39m Glib_jll ───────────────────── v2.74.0+2\n",
      "\u001b[32m\u001b[1m   Installed\u001b[22m\u001b[39m Libiconv_jll ───────────────── v1.16.1+2\n",
      "\u001b[32m\u001b[1m   Installed\u001b[22m\u001b[39m IniFile ────────────────────── v0.5.1\n",
      "\u001b[32m\u001b[1m   Installed\u001b[22m\u001b[39m URIs ───────────────────────── v1.4.1\n"
     ]
    },
    {
     "name": "stderr",
     "output_type": "stream",
     "text": [
      "\u001b[32m\u001b[1m   Installed\u001b[22m\u001b[39m libvorbis_jll ──────────────── v1.3.7+1\n",
      "\u001b[32m\u001b[1m   Installed\u001b[22m\u001b[39m Libglvnd_jll ───────────────── v1.6.0+0\n",
      "\u001b[32m\u001b[1m   Installed\u001b[22m\u001b[39m Xorg_libXdmcp_jll ──────────── v1.1.3+4\n",
      "\u001b[32m\u001b[1m   Installed\u001b[22m\u001b[39m Xorg_libX11_jll ────────────── v1.6.9+4\n",
      "\u001b[32m\u001b[1m   Installed\u001b[22m\u001b[39m SortingAlgorithms ──────────── v1.1.0\n",
      "\u001b[32m\u001b[1m   Installed\u001b[22m\u001b[39m Unzip ──────────────────────── v0.2.0\n"
     ]
    },
    {
     "name": "stderr",
     "output_type": "stream",
     "text": [
      "\u001b[32m\u001b[1m   Installed\u001b[22m\u001b[39m ColorSchemes ───────────────── v3.20.0\n"
     ]
    },
    {
     "name": "stderr",
     "output_type": "stream",
     "text": [
      "\u001b[32m\u001b[1m   Installed\u001b[22m\u001b[39m GR ─────────────────────────── v0.71.3\n"
     ]
    },
    {
     "name": "stderr",
     "output_type": "stream",
     "text": [
      "\u001b[32m\u001b[1m    Updating\u001b[22m\u001b[39m `~/.julia/environments/v1.8/Project.toml`\n",
      " \u001b[90m [91a5bcdd] \u001b[39m\u001b[92m+ Plots v1.38.1\u001b[39m\n",
      "\u001b[32m\u001b[1m    Updating\u001b[22m\u001b[39m `~/.julia/environments/v1.8/Manifest.toml`\n"
     ]
    },
    {
     "name": "stderr",
     "output_type": "stream",
     "text": [
      " \u001b[90m [d1d4a3ce] \u001b[39m\u001b[92m+ BitFlags v0.1.7\u001b[39m\n",
      " \u001b[90m [35d6a980] \u001b[39m\u001b[92m+ ColorSchemes v3.20.0\u001b[39m\n",
      " \u001b[90m [c3611d14] \u001b[39m\u001b[92m+ ColorVectorSpace v0.9.10\u001b[39m\n",
      " \u001b[90m [d38c429a] \u001b[39m\u001b[92m+ Contour v0.6.2\u001b[39m\n",
      " \u001b[90m [9a962f9c] \u001b[39m\u001b[92m+ DataAPI v1.14.0\u001b[39m\n",
      " \u001b[90m [c87230d0] \u001b[39m\u001b[92m+ FFMPEG v0.4.1\u001b[39m\n",
      " \u001b[90m [59287772] \u001b[39m\u001b[92m+ Formatting v0.4.2\u001b[39m\n",
      " \u001b[90m [28b8d3ca] \u001b[39m\u001b[92m+ GR v0.71.3\u001b[39m\n",
      " \u001b[90m [42e2da0e] \u001b[39m\u001b[92m+ Grisu v1.0.2\u001b[39m\n",
      " \u001b[90m [cd3eb016] \u001b[39m\u001b[92m+ HTTP v1.6.3\u001b[39m\n",
      " \u001b[90m [83e8ac13] \u001b[39m\u001b[92m+ IniFile v0.5.1\u001b[39m\n",
      " \u001b[90m [1019f520] \u001b[39m\u001b[92m+ JLFzf v0.1.5\u001b[39m\n",
      " \u001b[90m [23fbe1c1] \u001b[39m\u001b[92m+ Latexify v0.15.17\u001b[39m\n",
      " \u001b[90m [e6f89c97] \u001b[39m\u001b[92m+ LoggingExtras v1.0.0\u001b[39m\n",
      " \u001b[90m [739be429] \u001b[39m\u001b[92m+ MbedTLS v1.1.7\u001b[39m\n",
      " \u001b[90m [442fdcdd] \u001b[39m\u001b[92m+ Measures v0.3.2\u001b[39m\n",
      " \u001b[90m [e1d29d7a] \u001b[39m\u001b[92m+ Missings v1.1.0\u001b[39m\n",
      " \u001b[90m [4d8831e6] \u001b[39m\u001b[92m+ OpenSSL v1.3.2\u001b[39m\n",
      " \u001b[90m [b98c9c47] \u001b[39m\u001b[92m+ Pipe v1.3.0\u001b[39m\n",
      " \u001b[90m [ccf2f8ad] \u001b[39m\u001b[92m+ PlotThemes v3.1.0\u001b[39m\n",
      " \u001b[90m [995b91a9] \u001b[39m\u001b[92m+ PlotUtils v1.3.2\u001b[39m\n",
      " \u001b[90m [91a5bcdd] \u001b[39m\u001b[92m+ Plots v1.38.1\u001b[39m\n",
      " \u001b[90m [3cdcf5f2] \u001b[39m\u001b[92m+ RecipesBase v1.3.2\u001b[39m\n",
      " \u001b[90m [01d81517] \u001b[39m\u001b[92m+ RecipesPipeline v0.6.11\u001b[39m\n",
      " \u001b[90m [05181044] \u001b[39m\u001b[92m+ RelocatableFolders v1.0.0\u001b[39m\n",
      " \u001b[90m [6c6a2e73] \u001b[39m\u001b[92m+ Scratch v1.1.1\u001b[39m\n",
      " \u001b[90m [992d4aef] \u001b[39m\u001b[92m+ Showoff v1.0.3\u001b[39m\n",
      " \u001b[90m [777ac1f9] \u001b[39m\u001b[92m+ SimpleBufferStream v1.1.0\u001b[39m\n",
      " \u001b[90m [a2af1166] \u001b[39m\u001b[92m+ SortingAlgorithms v1.1.0\u001b[39m\n",
      " \u001b[90m [82ae8749] \u001b[39m\u001b[92m+ StatsAPI v1.5.0\u001b[39m\n",
      " \u001b[90m [2913bbd2] \u001b[39m\u001b[92m+ StatsBase v0.33.21\u001b[39m\n",
      " \u001b[90m [62fd8b95] \u001b[39m\u001b[92m+ TensorCore v0.1.1\u001b[39m\n",
      " \u001b[90m [5c2747f8] \u001b[39m\u001b[92m+ URIs v1.4.1\u001b[39m\n",
      " \u001b[90m [1cfade01] \u001b[39m\u001b[92m+ UnicodeFun v0.4.1\u001b[39m\n",
      " \u001b[90m [41fe7b60] \u001b[39m\u001b[92m+ Unzip v0.2.0\u001b[39m\n",
      " \u001b[90m [83423d85] \u001b[39m\u001b[92m+ Cairo_jll v1.16.1+1\u001b[39m\n",
      " \u001b[90m [2e619515] \u001b[39m\u001b[92m+ Expat_jll v2.4.8+0\u001b[39m\n",
      " \u001b[90m [b22a6f82] \u001b[39m\u001b[92m+ FFMPEG_jll v4.4.2+2\u001b[39m\n",
      " \u001b[90m [a3f928ae] \u001b[39m\u001b[92m+ Fontconfig_jll v2.13.93+0\u001b[39m\n",
      " \u001b[90m [d7e528f0] \u001b[39m\u001b[92m+ FreeType2_jll v2.10.4+0\u001b[39m\n",
      " \u001b[90m [559328eb] \u001b[39m\u001b[92m+ FriBidi_jll v1.0.10+0\u001b[39m\n",
      " \u001b[90m [0656b61e] \u001b[39m\u001b[92m+ GLFW_jll v3.3.8+0\u001b[39m\n",
      " \u001b[90m [d2c73de3] \u001b[39m\u001b[92m+ GR_jll v0.71.3+0\u001b[39m\n",
      " \u001b[90m [78b55507] \u001b[39m\u001b[92m+ Gettext_jll v0.21.0+0\u001b[39m\n",
      " \u001b[90m [7746bdde] \u001b[39m\u001b[92m+ Glib_jll v2.74.0+2\u001b[39m\n",
      " \u001b[90m [3b182d85] \u001b[39m\u001b[92m+ Graphite2_jll v1.3.14+0\u001b[39m\n",
      " \u001b[90m [2e76f6c2] \u001b[39m\u001b[92m+ HarfBuzz_jll v2.8.1+1\u001b[39m\n",
      " \u001b[90m [aacddb02] \u001b[39m\u001b[92m+ JpegTurbo_jll v2.1.2+0\u001b[39m\n",
      " \u001b[90m [c1c5ebd0] \u001b[39m\u001b[92m+ LAME_jll v3.100.1+0\u001b[39m\n",
      " \u001b[90m [88015f11] \u001b[39m\u001b[92m+ LERC_jll v3.0.0+1\u001b[39m\n",
      " \u001b[90m [dd4b983a] \u001b[39m\u001b[92m+ LZO_jll v2.10.1+0\u001b[39m\n",
      "\u001b[33m⌅\u001b[39m\u001b[90m [e9f186c6] \u001b[39m\u001b[92m+ Libffi_jll v3.2.2+1\u001b[39m\n",
      " \u001b[90m [d4300ac3] \u001b[39m\u001b[92m+ Libgcrypt_jll v1.8.7+0\u001b[39m\n",
      " \u001b[90m [7e76a0d4] \u001b[39m\u001b[92m+ Libglvnd_jll v1.6.0+0\u001b[39m\n",
      " \u001b[90m [7add5ba3] \u001b[39m\u001b[92m+ Libgpg_error_jll v1.42.0+0\u001b[39m\n",
      " \u001b[90m [94ce4f54] \u001b[39m\u001b[92m+ Libiconv_jll v1.16.1+2\u001b[39m\n",
      " \u001b[90m [4b2f31a3] \u001b[39m\u001b[92m+ Libmount_jll v2.35.0+0\u001b[39m\n",
      " \u001b[90m [89763e89] \u001b[39m\u001b[92m+ Libtiff_jll v4.4.0+0\u001b[39m\n",
      " \u001b[90m [38a345b3] \u001b[39m\u001b[92m+ Libuuid_jll v2.36.0+0\u001b[39m\n",
      " \u001b[90m [e7412a2a] \u001b[39m\u001b[92m+ Ogg_jll v1.3.5+1\u001b[39m\n",
      " \u001b[90m [458c3c95] \u001b[39m\u001b[92m+ OpenSSL_jll v1.1.19+0\u001b[39m\n",
      " \u001b[90m [91d4177d] \u001b[39m\u001b[92m+ Opus_jll v1.3.2+0\u001b[39m\n",
      " \u001b[90m [30392449] \u001b[39m\u001b[92m+ Pixman_jll v0.40.1+0\u001b[39m\n",
      " \u001b[90m [ea2cea3b] \u001b[39m\u001b[92m+ Qt5Base_jll v5.15.3+2\u001b[39m\n",
      " \u001b[90m [a2964d1f] \u001b[39m\u001b[92m+ Wayland_jll v1.21.0+0\u001b[39m\n",
      " \u001b[90m [2381bf8a] \u001b[39m\u001b[92m+ Wayland_protocols_jll v1.25.0+0\u001b[39m\n",
      " \u001b[90m [02c8fc9c] \u001b[39m\u001b[92m+ XML2_jll v2.10.3+0\u001b[39m\n",
      " \u001b[90m [aed1982a] \u001b[39m\u001b[92m+ XSLT_jll v1.1.34+0\u001b[39m\n",
      " \u001b[90m [4f6342f7] \u001b[39m\u001b[92m+ Xorg_libX11_jll v1.6.9+4\u001b[39m\n",
      " \u001b[90m [0c0b7dd1] \u001b[39m\u001b[92m+ Xorg_libXau_jll v1.0.9+4\u001b[39m\n",
      " \u001b[90m [935fb764] \u001b[39m\u001b[92m+ Xorg_libXcursor_jll v1.2.0+4\u001b[39m\n",
      " \u001b[90m [a3789734] \u001b[39m\u001b[92m+ Xorg_libXdmcp_jll v1.1.3+4\u001b[39m\n",
      " \u001b[90m [1082639a] \u001b[39m\u001b[92m+ Xorg_libXext_jll v1.3.4+4\u001b[39m\n",
      " \u001b[90m [d091e8ba] \u001b[39m\u001b[92m+ Xorg_libXfixes_jll v5.0.3+4\u001b[39m\n",
      " \u001b[90m [a51aa0fd] \u001b[39m\u001b[92m+ Xorg_libXi_jll v1.7.10+4\u001b[39m\n",
      " \u001b[90m [d1454406] \u001b[39m\u001b[92m+ Xorg_libXinerama_jll v1.1.4+4\u001b[39m\n",
      " \u001b[90m [ec84b674] \u001b[39m\u001b[92m+ Xorg_libXrandr_jll v1.5.2+4\u001b[39m\n",
      " \u001b[90m [ea2f1a96] \u001b[39m\u001b[92m+ Xorg_libXrender_jll v0.9.10+4\u001b[39m\n",
      " \u001b[90m [14d82f49] \u001b[39m\u001b[92m+ Xorg_libpthread_stubs_jll v0.1.0+3\u001b[39m\n",
      " \u001b[90m [c7cfdc94] \u001b[39m\u001b[92m+ Xorg_libxcb_jll v1.13.0+3\u001b[39m\n",
      " \u001b[90m [cc61e674] \u001b[39m\u001b[92m+ Xorg_libxkbfile_jll v1.1.0+4\u001b[39m\n",
      " \u001b[90m [12413925] \u001b[39m\u001b[92m+ Xorg_xcb_util_image_jll v0.4.0+1\u001b[39m\n",
      " \u001b[90m [2def613f] \u001b[39m\u001b[92m+ Xorg_xcb_util_jll v0.4.0+1\u001b[39m\n",
      " \u001b[90m [975044d2] \u001b[39m\u001b[92m+ Xorg_xcb_util_keysyms_jll v0.4.0+1\u001b[39m\n",
      " \u001b[90m [0d47668e] \u001b[39m\u001b[92m+ Xorg_xcb_util_renderutil_jll v0.3.9+1\u001b[39m\n",
      " \u001b[90m [c22f9ab0] \u001b[39m\u001b[92m+ Xorg_xcb_util_wm_jll v0.4.1+1\u001b[39m\n",
      " \u001b[90m [35661453] \u001b[39m\u001b[92m+ Xorg_xkbcomp_jll v1.4.2+4\u001b[39m\n",
      " \u001b[90m [33bec58e] \u001b[39m\u001b[92m+ Xorg_xkeyboard_config_jll v2.27.0+4\u001b[39m\n",
      " \u001b[90m [c5fb5394] \u001b[39m\u001b[92m+ Xorg_xtrans_jll v1.4.0+3\u001b[39m\n",
      " \u001b[90m [3161d3a3] \u001b[39m\u001b[92m+ Zstd_jll v1.5.2+0\u001b[39m\n",
      "\u001b[33m⌅\u001b[39m\u001b[90m [214eeab7] \u001b[39m\u001b[92m+ fzf_jll v0.29.0+0\u001b[39m\n",
      " \u001b[90m [a4ae2306] \u001b[39m\u001b[92m+ libaom_jll v3.4.0+0\u001b[39m\n",
      " \u001b[90m [0ac62f75] \u001b[39m\u001b[92m+ libass_jll v0.15.1+0\u001b[39m\n",
      " \u001b[90m [f638f0a6] \u001b[39m\u001b[92m+ libfdk_aac_jll v2.0.2+0\u001b[39m\n",
      " \u001b[90m [b53b4c65] \u001b[39m\u001b[92m+ libpng_jll v1.6.38+0\u001b[39m\n",
      " \u001b[90m [f27f6e37] \u001b[39m\u001b[92m+ libvorbis_jll v1.3.7+1\u001b[39m\n",
      " \u001b[90m [1270edf5] \u001b[39m\u001b[92m+ x264_jll v2021.5.5+0\u001b[39m\n",
      " \u001b[90m [dfaa095f] \u001b[39m\u001b[92m+ x265_jll v3.5.0+0\u001b[39m\n",
      " \u001b[90m [d8fb68d0] \u001b[39m\u001b[92m+ xkbcommon_jll v1.4.1+0\u001b[39m\n",
      " \u001b[90m [efcefdf7] \u001b[39m\u001b[92m+ PCRE2_jll v10.40.0+0\u001b[39m\n",
      "\u001b[36m\u001b[1m        Info\u001b[22m\u001b[39m Packages marked with \u001b[33m⌅\u001b[39m have new versions available but cannot be upgraded. To see why use `status --outdated -m`\n"
     ]
    },
    {
     "name": "stderr",
     "output_type": "stream",
     "text": [
      "\u001b[32m\u001b[1mPrecompiling\u001b[22m\u001b[39m "
     ]
    },
    {
     "name": "stderr",
     "output_type": "stream",
     "text": [
      "project...\n"
     ]
    },
    {
     "name": "stderr",
     "output_type": "stream",
     "text": [
      "\u001b[32m  ✓ \u001b[39m\u001b[90mStatsAPI\u001b[39m\n",
      "\u001b[32m  ✓ \u001b[39m\u001b[90mPipe\u001b[39m\n",
      "\u001b[32m  ✓ \u001b[39m\u001b[90mIniFile\u001b[39m\n",
      "\u001b[32m  ✓ \u001b[39m\u001b[90mTensorCore\u001b[39m\n",
      "\u001b[32m  ✓ \u001b[39m\u001b[90mContour\u001b[39m\n"
     ]
    },
    {
     "name": "stderr",
     "output_type": "stream",
     "text": [
      "\u001b[32m  ✓ \u001b[39m\u001b[90mMeasures\u001b[39m\n"
     ]
    },
    {
     "name": "stderr",
     "output_type": "stream",
     "text": [
      "\u001b[32m  ✓ \u001b[39m\u001b[90mUnzip\u001b[39m\n"
     ]
    },
    {
     "name": "stderr",
     "output_type": "stream",
     "text": [
      "\u001b[32m  ✓ \u001b[39m\u001b[90mGrisu\u001b[39m\n"
     ]
    },
    {
     "name": "stderr",
     "output_type": "stream",
     "text": [
      "\u001b[32m  ✓ \u001b[39m\u001b[90mPCRE2_jll\u001b[39m\n"
     ]
    },
    {
     "name": "stderr",
     "output_type": "stream",
     "text": [
      "\u001b[32m  ✓ \u001b[39m\u001b[90mSimpleBufferStream\u001b[39m\n"
     ]
    },
    {
     "name": "stderr",
     "output_type": "stream",
     "text": [
      "\u001b[32m  ✓ \u001b[39m\u001b[90mURIs\u001b[39m\n",
      "\u001b[32m  ✓ \u001b[39m\u001b[90mFormatting\u001b[39m\n",
      "\u001b[32m  ✓ \u001b[39m\u001b[90mUnicodeFun\u001b[39m\n",
      "\u001b[32m  ✓ \u001b[39m\u001b[90mDataAPI\u001b[39m\n",
      "\u001b[32m  ✓ \u001b[39m\u001b[90mBitFlags\u001b[39m\n",
      "\u001b[32m  ✓ \u001b[39m\u001b[90mScratch\u001b[39m\n",
      "\u001b[32m  ✓ \u001b[39m\u001b[90mLoggingExtras\u001b[39m\n"
     ]
    },
    {
     "name": "stderr",
     "output_type": "stream",
     "text": [
      "\u001b[32m  ✓ \u001b[39m\u001b[90mMbedTLS\u001b[39m\n"
     ]
    },
    {
     "name": "stderr",
     "output_type": "stream",
     "text": [
      "\u001b[32m  ✓ \u001b[39m\u001b[90mRecipesBase\u001b[39m\n",
      "\u001b[32m  ✓ \u001b[39m\u001b[90mXorg_libXau_jll\u001b[39m\n"
     ]
    },
    {
     "name": "stderr",
     "output_type": "stream",
     "text": [
      "\u001b[32m  ✓ \u001b[39m\u001b[90mLibmount_jll\u001b[39m\n",
      "\u001b[32m  ✓ \u001b[39m\u001b[90mLAME_jll\u001b[39m\n"
     ]
    },
    {
     "name": "stderr",
     "output_type": "stream",
     "text": [
      "\u001b[32m  ✓ \u001b[39m\u001b[90mOpenSSL_jll\u001b[39m\n",
      "\u001b[32m  ✓ \u001b[39m\u001b[90mGraphite2_jll\u001b[39m\n",
      "\u001b[32m  ✓ \u001b[39m\u001b[90mlibfdk_aac_jll\u001b[39m\n"
     ]
    },
    {
     "name": "stderr",
     "output_type": "stream",
     "text": [
      "\u001b[32m  ✓ \u001b[39m\u001b[90mlibpng_jll\u001b[39m\n"
     ]
    },
    {
     "name": "stderr",
     "output_type": "stream",
     "text": [
      "\u001b[32m  ✓ \u001b[39m\u001b[90mPixman_jll\u001b[39m\n"
     ]
    },
    {
     "name": "stderr",
     "output_type": "stream",
     "text": [
      "\u001b[32m  ✓ \u001b[39m\u001b[90mJpegTurbo_jll\u001b[39m\n"
     ]
    },
    {
     "name": "stderr",
     "output_type": "stream",
     "text": [
      "\u001b[32m  ✓ \u001b[39m\u001b[90mLERC_jll\u001b[39m\n"
     ]
    },
    {
     "name": "stderr",
     "output_type": "stream",
     "text": [
      "\u001b[32m  ✓ \u001b[39m\u001b[90mXorg_libXdmcp_jll\u001b[39m\n"
     ]
    },
    {
     "name": "stderr",
     "output_type": "stream",
     "text": [
      "\u001b[32m  ✓ \u001b[39m\u001b[90mfzf_jll\u001b[39m\n"
     ]
    },
    {
     "name": "stderr",
     "output_type": "stream",
     "text": [
      "\u001b[32m  ✓ \u001b[39m\u001b[90mlibaom_jll\u001b[39m\n",
      "\u001b[32m  ✓ \u001b[39m\u001b[90mx264_jll\u001b[39m\n"
     ]
    },
    {
     "name": "stderr",
     "output_type": "stream",
     "text": [
      "\u001b[32m  ✓ \u001b[39m\u001b[90mOgg_jll\u001b[39m\n"
     ]
    },
    {
     "name": "stderr",
     "output_type": "stream",
     "text": [
      "\u001b[32m  ✓ \u001b[39m\u001b[90mx265_jll\u001b[39m\n"
     ]
    },
    {
     "name": "stderr",
     "output_type": "stream",
     "text": [
      "\u001b[32m  ✓ \u001b[39m\u001b[90mLZO_jll\u001b[39m\n"
     ]
    },
    {
     "name": "stderr",
     "output_type": "stream",
     "text": [
      "\u001b[32m  ✓ \u001b[39m\u001b[90mXorg_xtrans_jll\u001b[39m\n",
      "\u001b[32m  ✓ \u001b[39m\u001b[90mZstd_jll\u001b[39m\n"
     ]
    },
    {
     "name": "stderr",
     "output_type": "stream",
     "text": [
      "\u001b[32m  ✓ \u001b[39m\u001b[90mOpus_jll\u001b[39m\n"
     ]
    },
    {
     "name": "stderr",
     "output_type": "stream",
     "text": [
      "\u001b[32m  ✓ \u001b[39m\u001b[90mExpat_jll\u001b[39m\n",
      "\u001b[32m  ✓ \u001b[39m\u001b[90mLibffi_jll\u001b[39m\n"
     ]
    },
    {
     "name": "stderr",
     "output_type": "stream",
     "text": [
      "\u001b[32m  ✓ \u001b[39m\u001b[90mLibgpg_error_jll\u001b[39m\n"
     ]
    },
    {
     "name": "stderr",
     "output_type": "stream",
     "text": [
      "\u001b[32m  ✓ \u001b[39m\u001b[90mLibiconv_jll\u001b[39m\n",
      "\u001b[32m  ✓ \u001b[39m\u001b[90mWayland_protocols_jll\u001b[39m\n"
     ]
    },
    {
     "name": "stderr",
     "output_type": "stream",
     "text": [
      "\u001b[32m  ✓ \u001b[39m\u001b[90mXorg_libpthread_stubs_jll\u001b[39m\n",
      "\u001b[32m  ✓ \u001b[39m\u001b[90mFriBidi_jll\u001b[39m\n",
      "\u001b[32m  ✓ \u001b[39m\u001b[90mLibuuid_jll\u001b[39m\n",
      "\u001b[32m  ✓ \u001b[39m\u001b[90mShowoff\u001b[39m\n",
      "\u001b[32m  ✓ \u001b[39m\u001b[90mMissings\u001b[39m\n"
     ]
    },
    {
     "name": "stderr",
     "output_type": "stream",
     "text": [
      "\u001b[32m  ✓ \u001b[39m\u001b[90mFreeType2_jll\u001b[39m\n",
      "\u001b[32m  ✓ \u001b[39m\u001b[90mSortingAlgorithms\u001b[39m\n"
     ]
    },
    {
     "name": "stderr",
     "output_type": "stream",
     "text": [
      "\u001b[32m  ✓ \u001b[39m\u001b[90mRelocatableFolders\u001b[39m\n"
     ]
    },
    {
     "name": "stderr",
     "output_type": "stream",
     "text": [
      "\u001b[32m  ✓ \u001b[39m\u001b[90mlibvorbis_jll\u001b[39m\n"
     ]
    },
    {
     "name": "stderr",
     "output_type": "stream",
     "text": [
      "\u001b[32m  ✓ \u001b[39m\u001b[90mLibtiff_jll\u001b[39m\n"
     ]
    },
    {
     "name": "stderr",
     "output_type": "stream",
     "text": [
      "\u001b[32m  ✓ \u001b[39m\u001b[90mJLFzf\u001b[39m\n"
     ]
    },
    {
     "name": "stderr",
     "output_type": "stream",
     "text": [
      "\u001b[32m  ✓ \u001b[39m\u001b[90mXML2_jll\u001b[39m\n"
     ]
    },
    {
     "name": "stderr",
     "output_type": "stream",
     "text": [
      "\u001b[32m  ✓ \u001b[39m\u001b[90mLibgcrypt_jll\u001b[39m\n"
     ]
    },
    {
     "name": "stderr",
     "output_type": "stream",
     "text": [
      "\u001b[32m  ✓ \u001b[39m\u001b[90mFontconfig_jll\u001b[39m\n"
     ]
    },
    {
     "name": "stderr",
     "output_type": "stream",
     "text": [
      "\u001b[32m  ✓ \u001b[39m\u001b[90mGettext_jll\u001b[39m\n"
     ]
    },
    {
     "name": "stderr",
     "output_type": "stream",
     "text": [
      "\u001b[32m  ✓ \u001b[39m\u001b[90mWayland_jll\u001b[39m\n"
     ]
    },
    {
     "name": "stderr",
     "output_type": "stream",
     "text": [
      "\u001b[32m  ✓ \u001b[39m\u001b[90mXSLT_jll\u001b[39m\n"
     ]
    },
    {
     "name": "stderr",
     "output_type": "stream",
     "text": [
      "\u001b[32m  ✓ \u001b[39m\u001b[90mGlib_jll\u001b[39m\n"
     ]
    },
    {
     "name": "stderr",
     "output_type": "stream",
     "text": [
      "\u001b[32m  ✓ \u001b[39m\u001b[90mXorg_libxcb_jll\u001b[39m\n"
     ]
    },
    {
     "name": "stderr",
     "output_type": "stream",
     "text": [
      "\u001b[32m  ✓ \u001b[39m\u001b[90mOpenSSL\u001b[39m\n"
     ]
    },
    {
     "name": "stderr",
     "output_type": "stream",
     "text": [
      "\u001b[32m  ✓ \u001b[39m\u001b[90mXorg_xcb_util_jll\u001b[39m\n"
     ]
    },
    {
     "name": "stderr",
     "output_type": "stream",
     "text": [
      "\u001b[32m  ✓ \u001b[39m\u001b[90mXorg_libX11_jll\u001b[39m\n"
     ]
    },
    {
     "name": "stderr",
     "output_type": "stream",
     "text": [
      "\u001b[32m  ✓ \u001b[39m\u001b[90mLatexify\u001b[39m\n"
     ]
    },
    {
     "name": "stderr",
     "output_type": "stream",
     "text": [
      "\u001b[32m  ✓ \u001b[39m\u001b[90mXorg_xcb_util_keysyms_jll\u001b[39m\n"
     ]
    },
    {
     "name": "stderr",
     "output_type": "stream",
     "text": [
      "\u001b[32m  ✓ \u001b[39m\u001b[90mXorg_xcb_util_renderutil_jll\u001b[39m\n"
     ]
    },
    {
     "name": "stderr",
     "output_type": "stream",
     "text": [
      "\u001b[32m  ✓ \u001b[39m\u001b[90mXorg_xcb_util_wm_jll\u001b[39m\n"
     ]
    },
    {
     "name": "stderr",
     "output_type": "stream",
     "text": [
      "\u001b[32m  ✓ \u001b[39m\u001b[90mXorg_libXrender_jll\u001b[39m\n"
     ]
    },
    {
     "name": "stderr",
     "output_type": "stream",
     "text": [
      "\u001b[32m  ✓ \u001b[39m\u001b[90mXorg_xcb_util_image_jll\u001b[39m\n"
     ]
    },
    {
     "name": "stderr",
     "output_type": "stream",
     "text": [
      "\u001b[32m  ✓ \u001b[39m\u001b[90mStatsBase\u001b[39m\n"
     ]
    },
    {
     "name": "stderr",
     "output_type": "stream",
     "text": [
      "\u001b[32m  ✓ \u001b[39m\u001b[90mXorg_libXext_jll\u001b[39m\n"
     ]
    },
    {
     "name": "stderr",
     "output_type": "stream",
     "text": [
      "\u001b[32m  ✓ \u001b[39m\u001b[90mXorg_libXfixes_jll\u001b[39m\n"
     ]
    },
    {
     "name": "stderr",
     "output_type": "stream",
     "text": [
      "\u001b[32m  ✓ \u001b[39m\u001b[90mXorg_libxkbfile_jll\u001b[39m\n"
     ]
    },
    {
     "name": "stderr",
     "output_type": "stream",
     "text": [
      "\u001b[32m  ✓ \u001b[39m\u001b[90mXorg_libXrandr_jll\u001b[39m\n"
     ]
    },
    {
     "name": "stderr",
     "output_type": "stream",
     "text": [
      "\u001b[32m  ✓ \u001b[39m\u001b[90mLibglvnd_jll\u001b[39m\n",
      "\u001b[32m  ✓ \u001b[39m\u001b[90mXorg_libXinerama_jll\u001b[39m\n"
     ]
    },
    {
     "name": "stderr",
     "output_type": "stream",
     "text": [
      "\u001b[32m  ✓ \u001b[39m\u001b[90mColorVectorSpace\u001b[39m\n"
     ]
    },
    {
     "name": "stderr",
     "output_type": "stream",
     "text": [
      "\u001b[32m  ✓ \u001b[39m\u001b[90mCairo_jll\u001b[39m\n"
     ]
    },
    {
     "name": "stderr",
     "output_type": "stream",
     "text": [
      "\u001b[32m  ✓ \u001b[39m\u001b[90mXorg_libXcursor_jll\u001b[39m\n"
     ]
    },
    {
     "name": "stderr",
     "output_type": "stream",
     "text": [
      "\u001b[32m  ✓ \u001b[39m\u001b[90mXorg_libXi_jll\u001b[39m\n"
     ]
    },
    {
     "name": "stderr",
     "output_type": "stream",
     "text": [
      "\u001b[32m  ✓ \u001b[39m\u001b[90mXorg_xkbcomp_jll\u001b[39m\n"
     ]
    },
    {
     "name": "stderr",
     "output_type": "stream",
     "text": [
      "\u001b[32m  ✓ \u001b[39m\u001b[90mHarfBuzz_jll\u001b[39m\n"
     ]
    },
    {
     "name": "stderr",
     "output_type": "stream",
     "text": [
      "\u001b[32m  ✓ \u001b[39m\u001b[90mGLFW_jll\u001b[39m\n"
     ]
    },
    {
     "name": "stderr",
     "output_type": "stream",
     "text": [
      "\u001b[32m  ✓ \u001b[39m\u001b[90mXorg_xkeyboard_config_jll\u001b[39m\n"
     ]
    },
    {
     "name": "stderr",
     "output_type": "stream",
     "text": [
      "\u001b[32m  ✓ \u001b[39m\u001b[90mlibass_jll\u001b[39m\n"
     ]
    },
    {
     "name": "stderr",
     "output_type": "stream",
     "text": [
      "\u001b[32m  ✓ \u001b[39m\u001b[90mxkbcommon_jll\u001b[39m\n"
     ]
    },
    {
     "name": "stderr",
     "output_type": "stream",
     "text": [
      "\u001b[32m  ✓ \u001b[39m\u001b[90mFFMPEG_jll\u001b[39m\n"
     ]
    },
    {
     "name": "stderr",
     "output_type": "stream",
     "text": [
      "\u001b[32m  ✓ \u001b[39m\u001b[90mQt5Base_jll\u001b[39m\n"
     ]
    },
    {
     "name": "stderr",
     "output_type": "stream",
     "text": [
      "\u001b[32m  ✓ \u001b[39m\u001b[90mFFMPEG\u001b[39m\n"
     ]
    },
    {
     "name": "stderr",
     "output_type": "stream",
     "text": [
      "\u001b[32m  ✓ \u001b[39m\u001b[90mHTTP\u001b[39m\n"
     ]
    },
    {
     "name": "stderr",
     "output_type": "stream",
     "text": [
      "\u001b[32m  ✓ \u001b[39m\u001b[90mGR_jll\u001b[39m\n"
     ]
    },
    {
     "name": "stderr",
     "output_type": "stream",
     "text": [
      "\u001b[32m  ✓ \u001b[39m\u001b[90mGR\u001b[39m\n"
     ]
    },
    {
     "name": "stderr",
     "output_type": "stream",
     "text": [
      "\u001b[32m  ✓ \u001b[39m\u001b[90mColorSchemes\u001b[39m\n"
     ]
    },
    {
     "name": "stderr",
     "output_type": "stream",
     "text": [
      "\u001b[32m  ✓ \u001b[39m\u001b[90mPlotUtils\u001b[39m\n"
     ]
    },
    {
     "name": "stderr",
     "output_type": "stream",
     "text": [
      "\u001b[32m  ✓ \u001b[39m\u001b[90mPlotThemes\u001b[39m\n"
     ]
    },
    {
     "name": "stderr",
     "output_type": "stream",
     "text": [
      "\u001b[32m  ✓ \u001b[39m\u001b[90mRecipesPipeline\u001b[39m\n"
     ]
    },
    {
     "name": "stderr",
     "output_type": "stream",
     "text": [
      "\u001b[32m  ✓ \u001b[39mPlots\n"
     ]
    },
    {
     "name": "stdout",
     "output_type": "stream",
     "text": [
      "\n",
      "******************************************************************************\n",
      "This program contains Ipopt, a library for large-scale nonlinear optimization.\n",
      " Ipopt is released as open source code under the Eclipse Public License (EPL).\n",
      "         For more information visit https://github.com/coin-or/Ipopt\n",
      "******************************************************************************\n",
      "\n",
      "This is Ipopt version 3.14.4, running with linear solver MUMPS 5.4.1.\n",
      "\n",
      "Number of nonzeros in equality constraint Jacobian...:        0\n",
      "Number of nonzeros in inequality constraint Jacobian.:        2\n",
      "Number of nonzeros in Lagrangian Hessian.............:        0\n",
      "\n"
     ]
    },
    {
     "name": "stderr",
     "output_type": "stream",
     "text": [
      "  100 dependencies successfully precompiled in 243 seconds. 62 already precompiled.\n"
     ]
    }
   ],
   "source": [
    "import Pkg\n",
    "Pkg.add(\"Plots\")"
   ]
  },
  {
   "attachments": {},
   "cell_type": "markdown",
   "metadata": {},
   "source": [
    "### COM361 &mdash; Introdução a Otimização &mdash; 2022, Prof. Amit ###\n",
    "\n",
    "# Otimização de Wifi #\n",
    "\n",
    "#### Pedro Henrique de Jesus Teixeira (pedroteixeir@poli.ufrj.br), Diego Nunes Gonçalves Freitas (diegongfreitas@poli.ufrj.br)\n",
    "\n",
    "*****\n",
    "\n",
    "### Índice\n",
    "\n",
    "1. [Introdução](#1.-Introdução)\n",
    "1. [Modelo Matemático](#2.-Modelo Mathemático)\n",
    "1. [Solução](#3.-Solução)\n",
    "1. [Resultados e Discussão](#4.-Resultados-e-discussão)\n",
    "  1. [Subseção Opcional](#4.A.-Acrescente-subseções-se-necessário)\n",
    "1. [Conclusão](#5.-Conclusão)\n",
    "1. [Referências bibliográficas] (#6.-Referências bibliográficas)"
   ]
  },
  {
   "cell_type": "markdown",
   "metadata": {
    "collapsed": true
   },
   "source": [
    "## 1. Introdução ##\n",
    "\n",
    "O projeto a ser apresentado ao longo desse relatório consiste em um mecânismo de otimização do posicionamento de um roteador wifi em um estabelecimento ou residência. Faremos isso porcurando o melhor ponto de instalação de um roteador objetivando a maximização da força do sinal que chega aos dispositivos conectados. \n",
    "\n",
    "É muito comum perceber cômodos de sua casa em que o sinal wifi chega muito enfraquecido ou simplesmente não chega, chamaremos essas regiões de Zonas Mortas. Denominamos de Zonas Críticas os cômodos nos quais há um dispositivo conectado a rede. Além de maximizar o sinal em cada dispositivo conectado precisamos, também, eliminar a possibilidade de formação de Zonas Mortas em Zonas Críticas. A complexidade dos cenários de teste do nosso algoritmo cresce gradualmente, conforme aumentamos a planta do imóvel e adicionamos fontes de interferência como espelhos, madeira, móveis metálicos, etc. \n",
    "\n",
    "O primeiro padrão de conexão wifi surgiu em 1997. Com o passar dos anos essa tecnologia se popularizou e, nos dias atuais, quase todo estabelecimento ou residência possui uma rede de internet via Wifi. Com a expansão dessa tecnologia suas qualidades e defeitos foram ficando mais evidentes. Um dos mais evidentes defeitos é a grande dependência do funcionamento ótimo da rede ao posicionamento do roteador wifi. Se mal posicionado em uma residência, o roteador pode acabar entregando, aos seus dispositivos conectados, porcentagens incrivelmente pequenas do sinal original. \n",
    "\n",
    "Nosso projeto tratará sobre redes [WLAN](https://pt.wikipedia.org/wiki/Rede_de_área_local_sem_fio), ou seja, redes de area local sem fio que usam ondas de rádio para fazer a conexão entre os dispositivos. Para fins de simplificação, os dados relacionados à perda de sinal ao longo da distância e por meio de interferências foram sintetizados e previamente estabelecidos.\n",
    "\n",
    "A partir desse ponto apresentaremos o desenvolvimento do projeto, começando pelo modelo matématico na seção 2. Em seguida, na seção 3, apresentamos nossa solução de otimização, desenvolvida em Julia 1.8.0, possível de ser rodada nesse notebook Jupyter. Na seção 4, evidenciamos nossos resultados para cada cenário, variando em graus de complexidade, através de plots simulando um ambiente de rede. Na seção 5, finalizamos a apresentação do projeto apresentando nossas conclusões acerca dos resultados obtidos e dos métodos utilizados, ressaltando aspectos passíveis de melhorias. Por fim, na seção 6, apresentamos as referencias biubliográficas utilizadas ao longo do desenvolvimento do projeto."
   ]
  },
  {
   "attachments": {},
   "cell_type": "markdown",
   "metadata": {},
   "source": [
    "## 2. Modelo matemático ##\n",
    "Para abordar melhor nosso problema representamos o ambiente do imóvel trabalhado como uma matriz $A_{mXn}$. Começaremos apresentando nossas variáveis\n",
    "de decisão. \n",
    "\n",
    "Denominamos $C_{ij}$, um posição da matriz em que há um dispositivo conectado a rede, sendo $c$ o número de dispositivos.\n",
    "\n",
    "Denominamos $R_{ij}$, uma posição da matriz em que há um roteador.\n",
    "\n",
    "O valor registrado em cada posição da matriz determinará o que esta presente naquele local da forma:\n",
    "$$\n",
    "a_{ij} = \n",
    "\\begin{cases}\n",
    "2, \\text{ caso haja um roteador naquele local}\\\\\n",
    "1, \\text{ caso haja um dispositivo conectato naquele local}\\\\\n",
    "0, \\text{ caso não haja nada relacionado a rede naquele local}\n",
    "\\end{cases}\n",
    "$$\n",
    "\n",
    "Sopomos então que, a distância $d$ entre um roteador e um dispositivo, dada por:\n",
    "$$\n",
    "d = R_{ij} - C_{ij}\n",
    "$$\n",
    "influencia linearmente na força $f_{ij}$ do sinal que chega ao dispositivo na posição ij, da seguinte forma.\n",
    "$$\n",
    "f_{ij} = 1 - 0.2d \n",
    "$$\n",
    "\n",
    "Primeiramente a posição de cada dispositivo sera dada aleatoriamente na matriz. \n",
    "\n",
    "Nosso objetivo será encontrar a posição para o roteador que maximize a soma das forças do sinal em cada dispositivo. \n",
    "\n",
    "Além disso, evitaremos grandes variações para a força do sinal em cada dispositivo, limitando o desvio padrão entre eles, sendo esse denominado $\\sigma_f$.\n",
    "\n",
    "Exemplificando o posicionamento ótimo de um roteador para um caso simples:\n",
    "$$\n",
    "\\begin{bmatrix}\n",
    "  1 & 0 & 0 & 2 & 0 & 0 & 1\\\\\n",
    "  0 & 0 & 0 & 0 & 0 & 0 & 0\\\\\n",
    "  0 & 0 & 0 & 0 & 0 & 0 & 0\\\\\n",
    "  0 & 0 & 0 & 0 & 0 & 0 & 0\\\\\n",
    "  0 & 0 & 0 & 0 & 0 & 0 & 0\\\\\n",
    "  0 & 0 & 0 & 0 & 0 & 0 & 0\\\\\n",
    "  0 & 0 & 0 & 0 & 0 & 0 & 0\n",
    "\\end{bmatrix}\n",
    "$$\n",
    "\n",
    "Dessa forma, nosso problema de otimização em forma padrão fica assim:\n",
    "$$\n",
    "\\begin{aligned}\n",
    "\\underset{x \\in \\mathbb{R^n}}{\\text{maximize}}\\qquad& \\sum_{k=0}^{c}{f_k(d)} \\\\\n",
    "\\text{sujeito a:}\\qquad& \\sigma_{f(d)} \\le 0,4\\\\\n",
    "& d > 0\n",
    "\\end{aligned}\n",
    "$$\n",
    "\n",
    "Vamos trabalhar ainda com casos em que há objetos no estabelecimento que causem interferência no sinal, gerando Zonas mortas. Para isso iremos alterar um pouco nosso cenário:\n",
    "\n",
    "$$\n",
    "a_{ij} = \n",
    "\\begin{cases}\n",
    "3, \\text{ caso haja uma fonte de interferência naquele local}\\\\\n",
    "2, \\text{ caso haja um roteador naquele local}\\\\\n",
    "1, \\text{ caso haja um dispositivo conectato naquele local}\\\\\n",
    "0, \\text{ caso não haja nada relacionado a rede naquele local}\n",
    "\\end{cases}\n",
    "$$\n",
    "\n",
    "Exemplificando, agora, o posicionamento ótimo de um roteador para um caso com interferência:\n",
    "\n",
    "Se mantivermos o roteador na mesma posição um dos dispositivos ficaria em uma zona morta\n",
    "$$\n",
    "\\begin{bmatrix}\n",
    "  1 & 0 & 0 & 2 & 3 & 0 & 1\\\\\n",
    "  0 & 0 & 0 & 0 & 3 & 0 & 0\\\\\n",
    "  0 & 0 & 0 & 0 & 0 & 0 & 0\\\\\n",
    "  0 & 0 & 0 & 0 & 0 & 0 & 0\\\\\n",
    "  0 & 0 & 0 & 0 & 0 & 0 & 0\\\\\n",
    "  0 & 0 & 0 & 0 & 0 & 0 & 0\\\\\n",
    "  0 & 0 & 0 & 0 & 0 & 0 & 0\n",
    "\\end{bmatrix}\n",
    "$$\n",
    "Para solucionar esse problema o roteador deve ser movido de forma a alterar a região de Zona morta, da seguinte forma:\n",
    "$$\n",
    "\\begin{bmatrix}\n",
    "  1 & 0 & 0 & 0 & 3 & 0 & 1\\\\\n",
    "  0 & 0 & 0 & 0 & 3 & 0 & 0\\\\\n",
    "  0 & 0 & 0 & 0 & 0 & 0 & 0\\\\\n",
    "  0 & 0 & 0 & 2 & 0 & 0 & 0\\\\\n",
    "  0 & 0 & 0 & 0 & 0 & 0 & 0\\\\\n",
    "  0 & 0 & 0 & 0 & 0 & 0 & 0\\\\\n",
    "  0 & 0 & 0 & 0 & 0 & 0 & 0\n",
    "\\end{bmatrix}\n",
    "$$\n",
    "\n",
    "Isso encerra o modelo matemático do nosso projeto. Em seguida apresentaremos nossa solução.\n",
    "\n"
   ]
  },
  {
   "attachments": {},
   "cell_type": "markdown",
   "metadata": {
    "collapsed": true
   },
   "source": [
    "## 3. Solução ##\n",
    "\n",
    "Nesta seção, coloque seu código em Julia + JuMP e resolva o problema proposto. Seu código deve ser limpo (não macarrônico!), de fácil leitura, bem comentado e anotado e deve compilar sem erros em Julia 1.x, x $\\geq 1$! Não valem códigos em outras linguagens. **Vou rodar seu código para avaliar seu projeto**. Sugiro a utilização de múltiplos blocos de códigos separados por blocos de texto (células Markdown) explicando as várias partes da sua solução. Sugiro também a resolução de várias versões do seu problema, com modelos e hipóteses diferentes.\n",
    "\n",
    "É permitido chamar pacotes externos, mas evite a utilização de bibliotecas exóticas (pois, em geral, não rodam em todas as versões de Julia, e terei que instalar a mesma versão que você usou, ou rodar na plataforma Google Colab, que gostaria de evitar)."
   ]
  },
  {
   "cell_type": "code",
   "execution_count": 39,
   "metadata": {},
   "outputs": [
    {
     "name": "stdout",
     "output_type": "stream",
     "text": [
      "This is Ipopt version 3.14.4, running with linear solver MUMPS 5.4.1.\n",
      "\n",
      "Number of nonzeros in equality constraint Jacobian...:        0\n",
      "Number of nonzeros in inequality constraint Jacobian.:        2\n",
      "Number of nonzeros in Lagrangian Hessian.............:        0\n",
      "\n",
      "Total number of variables............................:        2\n",
      "                     variables with only lower bounds:        0\n",
      "                variables with lower and upper bounds:        2\n",
      "                     variables with only upper bounds:        0\n",
      "Total number of equality constraints.................:        0\n",
      "Total number of inequality constraints...............:        1\n",
      "        inequality constraints with only lower bounds:        0\n",
      "   inequality constraints with lower and upper bounds:        0\n",
      "        inequality constraints with only upper bounds:        1\n",
      "\n",
      "iter    objective    inf_pr   inf_du lg(mu)  ||d||  lg(rg) alpha_du alpha_pr  ls\n",
      "   0  9.9717158e-01 3.05e-01 4.06e-02   0.0 0.00e+00    -  0.00e+00 0.00e+00   0\n",
      "   1  9.3691985e-01 0.00e+00 1.45e+02   0.2 1.73e+00    -  7.07e-02 1.00e+00f  1\n",
      "   2  8.5387093e-01 0.00e+00 2.78e-01   0.7 5.79e-01    -  1.00e+00 1.00e+00f  1\n",
      "   3  8.8118388e-01 0.00e+00 1.50e-02  -1.2 1.31e-01    -  9.56e-01 1.00e+00h  1\n",
      "   4  1.0337973e+00 0.00e+00 1.23e-01  -1.5 1.19e+00    -  9.96e-01 5.00e-01f  2\n",
      "   5  1.0837099e+00 0.00e+00 1.32e-01  -2.6 9.44e-01    -  9.95e-01 2.50e-01f  3\n",
      "   6  1.1023486e+00 0.00e+00 1.14e-01  -3.1 7.89e-01    -  1.00e+00 1.25e-01h  4\n",
      "   7  1.1067225e+00 0.00e+00 1.12e-01  -3.8 7.77e-01    -  1.00e+00 3.12e-02h  6\n",
      "   8  1.1089882e+00 0.00e+00 1.14e-01  -3.9 8.17e-01    -  1.00e+00 1.56e-02h  7\n",
      "   9  1.1101590e+00 0.00e+00 1.21e-01  -4.0 8.51e-01    -  1.00e+00 7.81e-03h  8\n",
      "iter    objective    inf_pr   inf_du lg(mu)  ||d||  lg(rg) alpha_du alpha_pr  ls\n",
      "  10  1.1107590e+00 0.00e+00 1.26e-01  -4.1 8.76e-01    -  1.00e+00 3.91e-03h  9\n",
      "  11  1.1107973e+00 0.00e+00 1.30e-01  -4.1 8.96e-01    -  1.00e+00 2.44e-04h 13\n",
      "  12  1.1108168e+00 0.00e+00 1.32e-01  -4.2 9.12e-01    -  1.00e+00 1.22e-04h 14\n",
      "  13  1.1108217e+00 0.00e+00 1.34e-01  -4.2 9.25e-01    -  1.00e+00 3.05e-05h 16\n",
      "  14  1.1108242e+00 0.00e+00 1.35e-01  -4.2 9.35e-01    -  1.00e+00 1.53e-05h 17\n",
      "  15  1.1108249e+00 0.00e+00 1.36e-01  -4.2 9.42e-01    -  1.00e+00 3.81e-06h 19\n",
      "  16  1.1108249e+00 0.00e+00 1.34e-01  -2.2 9.28e-01    -  1.00e+00 2.38e-07h 23\n",
      "  17  1.1108249e+00 0.00e+00 1.30e-01  -2.2 9.02e-01    -  1.00e+00 1.19e-07h 24\n",
      "  18  1.1108249e+00 0.00e+00 1.28e-01  -2.2 8.88e-01    -  1.00e+00 2.98e-08h 26\n",
      "  19  1.1108249e+00 0.00e+00 1.27e-01  -2.2 8.77e-01    -  1.00e+00 1.49e-08h 27\n",
      "iter    objective    inf_pr   inf_du lg(mu)  ||d||  lg(rg) alpha_du alpha_pr  ls\n",
      "  20  1.1108249e+00 0.00e+00 1.26e-01  -2.2 8.70e-01    -  1.00e+00 7.45e-09h 28\n",
      "  21  1.1108249e+00 0.00e+00 1.25e-01  -2.2 8.65e-01    -  1.00e+00 1.86e-09h 30\n",
      "  22  1.1108249e+00 0.00e+00 1.25e-01  -2.2 8.62e-01    -  1.00e+00 9.31e-10h 31\n",
      "  23r 1.1108249e+00 0.00e+00 9.98e+02  -2.2 0.00e+00    -  0.00e+00 7.28e-12R 38\n",
      "  24r 1.1108194e+00 0.00e+00 1.82e-02  -1.6 1.93e+00    -  1.00e+00 1.74e-03f  1\n",
      "  25  1.1108245e+00 0.00e+00 1.65e-01  -2.6 1.13e+00    -  1.00e+00 2.59e-05h 16\n",
      "  26  1.1108248e+00 0.00e+00 1.64e-01  -4.0 1.12e+00    -  1.00e+00 1.63e-06h 20\n",
      "  27  1.1108248e+00 0.00e+00 1.61e-01  -2.7 1.10e+00    -  1.00e+00 1.05e-07h 24\n",
      "  28  1.1108248e+00 0.00e+00 1.57e-01  -2.7 1.08e+00    -  1.00e+00 1.34e-08h 27\n",
      "  29  1.1108248e+00 0.00e+00 1.54e-01  -2.7 1.06e+00    -  1.00e+00 6.83e-09h 28\n",
      "iter    objective    inf_pr   inf_du lg(mu)  ||d||  lg(rg) alpha_du alpha_pr  ls\n",
      "  30  1.1108248e+00 0.00e+00 1.50e-01  -2.7 1.03e+00    -  1.00e+00 1.75e-09h 30\n",
      "  31  1.1108248e+00 0.00e+00 1.48e-01  -2.7 1.01e+00    -  1.00e+00 4.45e-10h 32\n",
      "  32  1.1108248e+00 0.00e+00 1.45e-01  -2.7 9.95e-01    -  1.00e+00 2.27e-10h 33\n",
      "  33  1.1108248e+00 0.00e+00 1.43e-01  -2.7 9.80e-01    -  1.00e+00 1.15e-10h 34\n",
      "  34  1.1108248e+00 0.00e+00 1.41e-01  -2.7 9.68e-01    -  1.00e+00 1.46e-11h 37\n",
      "  35r 1.1108248e+00 0.00e+00 9.44e+02  -2.7 0.00e+00    -  0.00e+00 5.68e-14R 45\n",
      "  36r 1.1108226e+00 0.00e+00 2.34e-04  -3.5 6.18e-04    -  1.00e+00 5.65e-02f  1\n",
      "  37  1.1108238e+00 0.00e+00 1.72e-01  -3.2 1.08e+00    -  1.00e+00 6.81e-06f 18\n",
      "  38  1.1108240e+00 0.00e+00 1.71e-01  -3.1 1.15e+00    -  1.00e+00 8.03e-07h 21\n",
      "  39  1.1108240e+00 0.00e+00 1.69e-01  -3.1 1.16e+00    -  1.00e+00 5.00e-08h 25\n",
      "iter    objective    inf_pr   inf_du lg(mu)  ||d||  lg(rg) alpha_du alpha_pr  ls\n",
      "  40  1.1108240e+00 0.00e+00 1.67e-01  -3.1 1.15e+00    -  1.00e+00 1.26e-08h 27\n",
      "  41  1.1108240e+00 0.00e+00 1.65e-01  -3.1 1.13e+00    -  1.00e+00 1.59e-09h 30\n",
      "  42  1.1108240e+00 0.00e+00 1.63e-01  -3.1 1.12e+00    -  1.00e+00 2.02e-10h 33\n",
      "  43  1.1108240e+00 0.00e+00 1.60e-01  -3.1 1.10e+00    -  1.00e+00 1.28e-11h 37\n",
      "  44  1.1108240e+00 0.00e+00 1.58e-01  -3.1 1.08e+00    -  1.00e+00 6.51e-12h 38\n",
      "  45  1.1108240e+00 0.00e+00 1.55e-01  -3.1 1.06e+00    -  1.00e+00 3.31e-12h 39\n",
      "  46  1.1108240e+00 0.00e+00 1.53e-01  -3.1 1.05e+00    -  1.00e+00 1.68e-12h 40\n",
      "  47  1.1108240e+00 0.00e+00 1.50e-01  -3.1 1.03e+00    -  1.00e+00 8.54e-13h 41\n",
      "  48  5.8484293e-01 1.35e-02 2.00e-01  -3.1 1.02e+00    -  1.00e+00 9.52e-01w  1\n",
      "  49  6.6284110e-01 6.87e-02 1.99e-01  -3.1 4.74e-01    -  1.00e+00 8.24e-01w  1\n",
      "iter    objective    inf_pr   inf_du lg(mu)  ||d||  lg(rg) alpha_du alpha_pr  ls\n",
      "  50  4.5307524e-01 0.00e+00 9.57e-05  -3.1 1.05e+00    -  1.00e+00 1.00e+00w  1\n",
      "  51r 1.1108240e+00 0.00e+00 3.16e+02  -3.1 0.00e+00    -  0.00e+00 4.54e-07R 21\n",
      "  52r 1.1107976e+00 0.00e+00 1.76e-04  -3.6 1.79e-04    -  1.00e+00 8.58e-01f  1\n",
      "  53  1.1108028e+00 0.00e+00 1.72e-01  -3.1 8.28e+01    -  2.14e-02 3.57e-07f 16\n",
      "  54  1.1108054e+00 0.00e+00 1.71e-01  -3.1 1.02e+00    -  1.00e+00 1.44e-05f 17\n",
      "  55  1.1108067e+00 0.00e+00 1.70e-01  -3.1 1.08e+00    -  1.00e+00 6.88e-06f 18\n",
      "  56  1.1108073e+00 0.00e+00 1.69e-01  -3.1 1.10e+00    -  1.00e+00 3.35e-06h 19\n",
      "  57  1.1108075e+00 0.00e+00 1.67e-01  -3.1 1.11e+00    -  1.00e+00 8.31e-07h 21\n",
      "  58  1.1108075e+00 0.00e+00 1.65e-01  -3.1 1.11e+00    -  1.00e+00 1.04e-07h 24\n",
      "  59  1.1108075e+00 0.00e+00 1.63e-01  -3.1 1.11e+00    -  1.00e+00 6.53e-09h 28\n",
      "iter    objective    inf_pr   inf_du lg(mu)  ||d||  lg(rg) alpha_du alpha_pr  ls\n",
      "  60  1.1108075e+00 0.00e+00 1.60e-01  -3.1 1.10e+00    -  1.00e+00 3.30e-09h 29\n",
      "  61  1.1108075e+00 0.00e+00 1.58e-01  -3.1 1.08e+00    -  1.00e+00 1.67e-09h 30\n",
      "  62  1.1108075e+00 0.00e+00 1.55e-01  -3.1 1.06e+00    -  1.00e+00 1.06e-10h 34\n",
      "  63  5.9256082e-01 1.90e-02 2.00e-01  -3.1 1.05e+00    -  1.00e+00 9.25e-01w  1\n",
      "  64  6.6991949e-01 7.37e-02 1.99e-01  -3.1 4.74e-01    -  1.00e+00 8.18e-01w  1\n",
      "  65  4.5393254e-01 0.00e+00 4.76e-04  -3.1 1.08e+00    -  1.00e+00 1.00e+00w  1\n",
      "  66r 1.1108075e+00 0.00e+00 2.15e+02  -3.1 0.00e+00    -  0.00e+00 4.41e-07R 21\n",
      "  67r 1.1107823e+00 0.00e+00 1.48e-04  -3.7 1.50e-04    -  1.00e+00 9.75e-01f  1\n",
      "  68  1.1107875e+00 0.00e+00 1.72e-01  -3.1 7.55e+01    -  2.35e-02 3.92e-07f 16\n",
      "  69  1.1107901e+00 0.00e+00 1.71e-01  -3.1 1.02e+00    -  1.00e+00 1.44e-05f 17\n",
      "iter    objective    inf_pr   inf_du lg(mu)  ||d||  lg(rg) alpha_du alpha_pr  ls\n",
      "  70  1.1107914e+00 0.00e+00 1.70e-01  -3.1 1.08e+00    -  1.00e+00 6.88e-06f 18\n",
      "  71  1.1107917e+00 0.00e+00 1.69e-01  -3.1 1.10e+00    -  1.00e+00 1.68e-06h 20\n",
      "  72  1.1107918e+00 0.00e+00 1.67e-01  -3.1 1.11e+00    -  1.00e+00 1.04e-07h 24\n",
      "  73  1.1107918e+00 0.00e+00 1.65e-01  -3.1 1.11e+00    -  1.00e+00 5.20e-08h 25\n",
      "  74  1.1107918e+00 0.00e+00 1.63e-01  -3.1 1.11e+00    -  1.00e+00 1.63e-09h 30\n",
      "  75  1.1107918e+00 0.00e+00 1.60e-01  -3.1 1.10e+00    -  1.00e+00 4.12e-10h 32\n",
      "  76  1.1107918e+00 0.00e+00 1.58e-01  -3.1 1.08e+00    -  1.00e+00 2.09e-10h 33\n",
      "  77  1.1107918e+00 0.00e+00 1.55e-01  -3.1 1.06e+00    -  1.00e+00 5.30e-11h 35\n",
      "  78  5.9267438e-01 1.91e-02 2.00e-01  -3.1 1.05e+00    -  1.00e+00 9.25e-01w  1\n",
      "  79  6.7004335e-01 7.38e-02 1.99e-01  -3.1 4.74e-01    -  1.00e+00 8.18e-01w  1\n",
      "iter    objective    inf_pr   inf_du lg(mu)  ||d||  lg(rg) alpha_du alpha_pr  ls\n",
      "  80  4.5394920e-01 0.00e+00 4.95e-04  -3.1 1.08e+00    -  1.00e+00 1.00e+00w  1\n",
      "  81r 1.1107918e+00 0.00e+00 1.73e+02  -3.1 0.00e+00    -  0.00e+00 4.41e-07R 21\n",
      "  82r 1.1107659e+00 0.00e+00 1.48e-04  -3.7 1.50e-04    -  1.00e+00 1.00e+00f  1\n",
      "  83  1.1107711e+00 0.00e+00 1.72e-01  -3.1 7.56e+01    -  2.35e-02 3.92e-07f 16\n",
      "  84  1.1107737e+00 0.00e+00 1.71e-01  -3.1 1.02e+00    -  1.00e+00 1.44e-05f 17\n",
      "  85  1.1107750e+00 0.00e+00 1.70e-01  -3.1 1.08e+00    -  1.00e+00 6.88e-06f 18\n",
      "  86  1.1107753e+00 0.00e+00 1.69e-01  -3.1 1.10e+00    -  1.00e+00 1.68e-06h 20\n",
      "  87  1.1107755e+00 0.00e+00 1.67e-01  -3.1 1.11e+00    -  1.00e+00 8.31e-07h 21\n",
      "  88  1.1107757e+00 0.00e+00 1.65e-01  -3.1 1.11e+00    -  1.00e+00 8.32e-07h 21\n",
      "  89  1.1107757e+00 0.00e+00 1.63e-01  -3.1 1.11e+00    -  1.00e+00 1.31e-08h 27\n",
      "iter    objective    inf_pr   inf_du lg(mu)  ||d||  lg(rg) alpha_du alpha_pr  ls\n",
      "  90  1.1107757e+00 0.00e+00 1.60e-01  -3.1 1.10e+00    -  1.00e+00 1.65e-09h 30\n",
      "  91  1.1107757e+00 0.00e+00 1.58e-01  -3.1 1.08e+00    -  1.00e+00 2.09e-10h 33\n",
      "  92  1.1107757e+00 0.00e+00 1.55e-01  -3.1 1.06e+00    -  1.00e+00 1.06e-10h 34\n",
      "  93  5.9272295e-01 1.91e-02 2.00e-01  -3.1 1.05e+00    -  1.00e+00 9.25e-01w  1\n",
      "  94  6.7009384e-01 7.38e-02 1.99e-01  -3.1 4.74e-01    -  1.00e+00 8.18e-01w  1\n",
      "  95  4.5395638e-01 0.00e+00 4.98e-04  -3.1 1.08e+00    -  1.00e+00 1.00e+00w  1\n",
      "  96r 1.1107757e+00 0.00e+00 1.40e+02  -3.1 0.00e+00    -  0.00e+00 4.41e-07R 21\n",
      "  97r 1.1107498e+00 0.00e+00 1.48e-04  -3.7 1.50e-04    -  1.00e+00 1.00e+00f  1\n",
      "  98  1.1107550e+00 0.00e+00 1.72e-01  -3.1 7.56e+01    -  2.35e-02 3.92e-07f 16\n",
      "  99  1.1107576e+00 0.00e+00 1.71e-01  -3.1 1.03e+00    -  1.00e+00 1.44e-05f 17\n",
      "iter    objective    inf_pr   inf_du lg(mu)  ||d||  lg(rg) alpha_du alpha_pr  ls\n",
      " 100  1.1107589e+00 0.00e+00 1.70e-01  -3.1 1.08e+00    -  1.00e+00 6.88e-06f 18\n",
      " 101  1.1107592e+00 0.00e+00 1.69e-01  -3.1 1.10e+00    -  1.00e+00 1.68e-06h 20\n",
      " 102  1.1107594e+00 0.00e+00 1.67e-01  -3.1 1.11e+00    -  1.00e+00 8.31e-07h 21\n",
      " 103  1.1107595e+00 0.00e+00 1.65e-01  -3.1 1.11e+00    -  1.00e+00 8.31e-07h 21\n",
      " 104  1.1107595e+00 0.00e+00 1.63e-01  -3.1 1.11e+00    -  1.00e+00 1.31e-08h 27\n",
      " 105  1.1107595e+00 0.00e+00 1.60e-01  -3.1 1.10e+00    -  1.00e+00 8.24e-10h 31\n",
      " 106  1.1107595e+00 0.00e+00 1.58e-01  -3.1 1.08e+00    -  1.00e+00 1.31e-11h 37\n",
      " 107  1.1107595e+00 0.00e+00 1.55e-01  -3.1 1.06e+00    -  1.00e+00 1.66e-12h 40\n",
      " 108  5.9276275e-01 1.91e-02 2.00e-01  -3.1 1.05e+00    -  1.00e+00 9.25e-01w  1\n",
      " 109  6.7013685e-01 7.39e-02 1.99e-01  -3.1 4.74e-01    -  1.00e+00 8.18e-01w  1\n",
      "iter    objective    inf_pr   inf_du lg(mu)  ||d||  lg(rg) alpha_du alpha_pr  ls\n",
      " 110  4.5396265e-01 0.00e+00 5.00e-04  -3.1 1.08e+00    -  1.00e+00 1.00e+00w  1\n",
      " 111r 1.1107595e+00 0.00e+00 1.11e+02  -3.1 0.00e+00    -  0.00e+00 4.41e-07R 21\n",
      " 112r 1.1107337e+00 0.00e+00 1.48e-04  -3.7 1.50e-04    -  1.00e+00 1.00e+00f  1\n",
      " 113  1.1107389e+00 0.00e+00 1.72e-01  -3.1 7.56e+01    -  2.35e-02 3.92e-07f 16\n",
      " 114  1.1107415e+00 0.00e+00 1.72e-01  -3.1 1.03e+00    -  1.00e+00 1.44e-05f 17\n",
      " 115  1.1107428e+00 0.00e+00 1.70e-01  -3.1 1.08e+00    -  1.00e+00 6.88e-06f 18\n",
      " 116  1.1107431e+00 0.00e+00 1.69e-01  -3.1 1.10e+00    -  1.00e+00 1.68e-06f 20\n",
      " 117  1.1107433e+00 0.00e+00 1.67e-01  -3.1 1.11e+00    -  1.00e+00 8.31e-07h 21\n",
      " 118  1.1107434e+00 0.00e+00 1.65e-01  -3.1 1.11e+00    -  1.00e+00 8.31e-07h 21\n",
      " 119  1.1107434e+00 0.00e+00 1.63e-01  -3.1 1.11e+00    -  1.00e+00 1.31e-08h 27\n",
      "iter    objective    inf_pr   inf_du lg(mu)  ||d||  lg(rg) alpha_du alpha_pr  ls\n",
      " 120  1.1107434e+00 0.00e+00 1.60e-01  -3.1 1.10e+00    -  1.00e+00 2.06e-10h 33\n",
      " 121  1.1107434e+00 0.00e+00 1.58e-01  -3.1 1.08e+00    -  1.00e+00 1.04e-10h 34\n",
      " 122  1.1107434e+00 0.00e+00 1.55e-01  -3.1 1.06e+00    -  1.00e+00 5.30e-11h 35\n",
      " 123  5.9282421e-01 1.92e-02 2.00e-01  -3.1 1.05e+00    -  1.00e+00 9.25e-01w  1\n",
      " 124  6.7019833e-01 7.39e-02 1.99e-01  -3.1 4.74e-01    -  1.00e+00 8.18e-01w  1\n",
      " 125  4.5397123e-01 0.00e+00 5.05e-04  -3.1 1.08e+00    -  1.00e+00 1.00e+00w  1\n",
      " 126r 1.1107434e+00 0.00e+00 8.52e+01  -3.1 0.00e+00    -  0.00e+00 4.41e-07R 21\n",
      " 127r 1.1107175e+00 0.00e+00 1.48e-04  -3.7 1.50e-04    -  1.00e+00 1.00e+00f  1\n",
      " 128  1.1107228e+00 0.00e+00 1.72e-01  -3.1 7.56e+01    -  2.35e-02 3.91e-07f 16\n",
      " 129  1.1107254e+00 0.00e+00 1.72e-01  -3.1 1.03e+00    -  1.00e+00 1.44e-05f 17\n",
      "iter    objective    inf_pr   inf_du lg(mu)  ||d||  lg(rg) alpha_du alpha_pr  ls\n",
      " 130  1.1107267e+00 0.00e+00 1.70e-01  -3.1 1.08e+00    -  1.00e+00 6.88e-06f 18\n",
      " 131  1.1107270e+00 0.00e+00 1.69e-01  -3.1 1.10e+00    -  1.00e+00 1.68e-06f 20\n",
      " 132  1.1107272e+00 0.00e+00 1.67e-01  -3.1 1.11e+00    -  1.00e+00 8.31e-07h 21\n",
      " 133  1.1107273e+00 0.00e+00 1.65e-01  -3.1 1.11e+00    -  1.00e+00 8.31e-07h 21\n",
      " 134  1.1107273e+00 0.00e+00 1.63e-01  -3.1 1.11e+00    -  1.00e+00 6.53e-09h 28\n",
      " 135  1.1107273e+00 0.00e+00 1.60e-01  -3.1 1.10e+00    -  1.00e+00 3.30e-09h 29\n",
      " 136  1.1107273e+00 0.00e+00 1.58e-01  -3.1 1.08e+00    -  1.00e+00 1.67e-09h 30\n",
      " 137  1.1107273e+00 0.00e+00 1.55e-01  -3.1 1.06e+00    -  1.00e+00 8.48e-10h 31\n",
      " 138  5.9287306e-01 1.92e-02 2.00e-01  -3.1 1.05e+00    -  1.00e+00 9.25e-01w  1\n",
      " 139  6.7024907e-01 7.39e-02 1.99e-01  -3.1 4.74e-01    -  1.00e+00 8.18e-01w  1\n",
      "iter    objective    inf_pr   inf_du lg(mu)  ||d||  lg(rg) alpha_du alpha_pr  ls\n",
      " 140  4.5397847e-01 0.00e+00 5.09e-04  -3.1 1.08e+00    -  1.00e+00 1.00e+00w  1\n",
      " 141r 1.1107273e+00 0.00e+00 6.53e+01  -3.1 0.00e+00    -  0.00e+00 4.41e-07R 21\n",
      " 142r 1.1107014e+00 0.00e+00 1.48e-04  -3.7 1.50e-04    -  1.00e+00 1.00e+00f  1\n",
      " 143  1.1107067e+00 0.00e+00 1.72e-01  -3.1 7.56e+01    -  2.34e-02 3.91e-07f 16\n",
      " 144  1.1107093e+00 0.00e+00 1.72e-01  -3.1 1.03e+00    -  1.00e+00 1.44e-05f 17\n",
      " 145  1.1107106e+00 0.00e+00 1.70e-01  -3.1 1.08e+00    -  1.00e+00 6.88e-06f 18\n",
      " 146  1.1107109e+00 0.00e+00 1.69e-01  -3.1 1.10e+00    -  1.00e+00 1.68e-06f 20\n",
      " 147  1.1107110e+00 0.00e+00 1.67e-01  -3.1 1.11e+00    -  1.00e+00 8.31e-07f 21\n",
      " 148  1.1107112e+00 0.00e+00 1.65e-01  -3.1 1.11e+00    -  1.00e+00 8.31e-07f 21\n",
      " 149  1.1107112e+00 0.00e+00 1.63e-01  -3.1 1.11e+00    -  1.00e+00 6.53e-09h 28\n",
      "iter    objective    inf_pr   inf_du lg(mu)  ||d||  lg(rg) alpha_du alpha_pr  ls\n",
      " 150  1.1107112e+00 0.00e+00 1.60e-01  -3.1 1.10e+00    -  1.00e+00 6.59e-09h 28\n",
      " 151  1.1107112e+00 0.00e+00 1.58e-01  -3.1 1.08e+00    -  1.00e+00 5.22e-11h 35\n",
      " 152  1.1107112e+00 0.00e+00 1.55e-01  -3.1 1.06e+00    -  1.00e+00 1.33e-11h 37\n",
      " 153  5.9292635e-01 1.93e-02 2.00e-01  -3.1 1.05e+00    -  1.00e+00 9.25e-01w  1\n",
      " 154  6.7030357e-01 7.40e-02 1.99e-01  -3.1 4.74e-01    -  1.00e+00 8.18e-01w  1\n",
      " 155  4.5398620e-01 0.00e+00 5.13e-04  -3.1 1.08e+00    -  1.00e+00 1.00e+00w  1\n",
      " 156r 1.1107112e+00 0.00e+00 4.85e+01  -3.1 0.00e+00    -  0.00e+00 4.41e-07R 21\n",
      " 157r 1.1106853e+00 0.00e+00 1.48e-04  -3.7 1.50e-04    -  1.00e+00 1.00e+00f  1\n",
      " 158  1.1106905e+00 0.00e+00 1.72e-01  -3.1 7.56e+01    -  2.34e-02 3.91e-07f 16\n",
      " 159  1.1106931e+00 0.00e+00 1.72e-01  -3.1 1.03e+00    -  1.00e+00 1.44e-05f 17\n",
      "iter    objective    inf_pr   inf_du lg(mu)  ||d||  lg(rg) alpha_du alpha_pr  ls\n",
      " 160  1.1106944e+00 0.00e+00 1.70e-01  -3.1 1.08e+00    -  1.00e+00 6.87e-06f 18\n",
      " 161  1.1106948e+00 0.00e+00 1.69e-01  -3.1 1.10e+00    -  1.00e+00 1.68e-06f 20\n",
      " 162  1.1106949e+00 0.00e+00 1.67e-01  -3.1 1.11e+00    -  1.00e+00 8.31e-07f 21\n",
      " 163  1.1106951e+00 0.00e+00 1.65e-01  -3.1 1.11e+00    -  1.00e+00 8.31e-07f 21\n",
      " 164  1.1106951e+00 0.00e+00 1.63e-01  -3.1 1.11e+00    -  1.00e+00 6.53e-09h 28\n",
      " 165  1.1106951e+00 0.00e+00 1.60e-01  -3.1 1.10e+00    -  1.00e+00 3.30e-09h 29\n",
      " 166  1.1106951e+00 0.00e+00 1.58e-01  -3.1 1.08e+00    -  1.00e+00 1.67e-09h 30\n",
      " 167  1.1106951e+00 0.00e+00 1.55e-01  -3.1 1.06e+00    -  1.00e+00 4.24e-10h 32\n",
      " 168  5.9297258e-01 1.93e-02 2.00e-01  -3.1 1.05e+00    -  1.00e+00 9.25e-01w  1\n",
      " 169  6.7035208e-01 7.40e-02 1.99e-01  -3.1 4.74e-01    -  1.00e+00 8.18e-01w  1\n",
      "iter    objective    inf_pr   inf_du lg(mu)  ||d||  lg(rg) alpha_du alpha_pr  ls\n",
      " 170  4.5399317e-01 0.00e+00 5.16e-04  -3.1 1.08e+00    -  1.00e+00 1.00e+00w  1\n",
      " 171r 1.1106951e+00 0.00e+00 3.69e+01  -3.1 0.00e+00    -  0.00e+00 4.41e-07R 21\n",
      " 172r 1.1106692e+00 0.00e+00 1.48e-04  -3.7 1.50e-04    -  1.00e+00 1.00e+00f  1\n",
      " 173  1.1106744e+00 0.00e+00 1.72e-01  -3.1 7.57e+01    -  2.34e-02 3.91e-07f 16\n",
      " 174  1.1106770e+00 0.00e+00 1.72e-01  -3.1 1.03e+00    -  1.00e+00 1.44e-05f 17\n",
      " 175  1.1106783e+00 0.00e+00 1.70e-01  -3.1 1.08e+00    -  1.00e+00 6.87e-06f 18\n",
      " 176  1.1106786e+00 0.00e+00 1.69e-01  -3.1 1.10e+00    -  1.00e+00 1.68e-06f 20\n",
      " 177  1.1106788e+00 0.00e+00 1.67e-01  -3.1 1.11e+00    -  1.00e+00 8.31e-07f 21\n",
      " 178  1.1106790e+00 0.00e+00 1.65e-01  -3.1 1.11e+00    -  1.00e+00 8.31e-07f 21\n",
      " 179  1.1106790e+00 0.00e+00 1.63e-01  -3.1 1.11e+00    -  1.00e+00 6.53e-09h 28\n",
      "iter    objective    inf_pr   inf_du lg(mu)  ||d||  lg(rg) alpha_du alpha_pr  ls\n",
      " 180  1.1106790e+00 0.00e+00 1.60e-01  -3.1 1.10e+00    -  1.00e+00 3.30e-09h 29\n",
      " 181  1.1106790e+00 0.00e+00 1.58e-01  -3.1 1.08e+00    -  1.00e+00 1.67e-09h 30\n",
      " 182  1.1106790e+00 0.00e+00 1.55e-01  -3.1 1.06e+00    -  1.00e+00 2.12e-10h 33\n",
      " 183  5.9302250e-01 1.93e-02 2.00e-01  -3.1 1.05e+00    -  1.00e+00 9.25e-01w  1\n",
      " 184  6.7040372e-01 7.40e-02 1.99e-01  -3.1 4.75e-01    -  1.00e+00 8.17e-01w  1\n",
      " 185  4.5400055e-01 0.00e+00 5.19e-04  -3.1 1.08e+00    -  1.00e+00 1.00e+00w  1\n",
      " 186r 1.1106790e+00 0.00e+00 2.68e+01  -3.1 0.00e+00    -  0.00e+00 4.41e-07R 21\n",
      " 187r 1.1106531e+00 0.00e+00 1.48e-04  -3.7 1.50e-04    -  1.00e+00 1.00e+00f  1\n",
      " 188  1.1106583e+00 0.00e+00 1.72e-01  -3.1 7.57e+01    -  2.34e-02 3.91e-07f 16\n",
      " 189  1.1106609e+00 0.00e+00 1.72e-01  -3.1 1.03e+00    -  1.00e+00 1.44e-05f 17\n",
      "iter    objective    inf_pr   inf_du lg(mu)  ||d||  lg(rg) alpha_du alpha_pr  ls\n",
      " 190  1.1106622e+00 0.00e+00 1.70e-01  -3.1 1.08e+00    -  1.00e+00 6.87e-06f 18\n",
      " 191  1.1106625e+00 0.00e+00 1.69e-01  -3.1 1.10e+00    -  1.00e+00 1.68e-06f 20\n",
      " 192  1.1106627e+00 0.00e+00 1.67e-01  -3.1 1.11e+00    -  1.00e+00 8.31e-07f 21\n",
      " 193  1.1106629e+00 0.00e+00 1.65e-01  -3.1 1.11e+00    -  1.00e+00 8.31e-07f 21\n",
      " 194  1.1106629e+00 0.00e+00 1.63e-01  -3.1 1.11e+00    -  1.00e+00 6.53e-09h 28\n",
      " 195  1.1106629e+00 0.00e+00 1.60e-01  -3.1 1.10e+00    -  1.00e+00 3.30e-09h 29\n",
      " 196  1.1106629e+00 0.00e+00 1.58e-01  -3.1 1.08e+00    -  1.00e+00 8.36e-10h 31\n",
      " 197  1.1106629e+00 0.00e+00 1.55e-01  -3.1 1.06e+00    -  1.00e+00 4.24e-10h 32\n",
      " 198  5.9307194e-01 1.94e-02 2.00e-01  -3.1 1.05e+00    -  1.00e+00 9.25e-01w  1\n",
      " 199  6.7045495e-01 7.41e-02 1.99e-01  -3.1 4.75e-01    -  1.00e+00 8.17e-01w  1\n",
      "iter    objective    inf_pr   inf_du lg(mu)  ||d||  lg(rg) alpha_du alpha_pr  ls\n",
      " 200  4.5400789e-01 0.00e+00 5.22e-04  -3.1 1.08e+00    -  1.00e+00 1.00e+00w  1\n",
      " 201r 1.1106629e+00 0.00e+00 2.06e+01  -3.1 0.00e+00    -  0.00e+00 4.41e-07R 21\n",
      " 202r 1.1106369e+00 0.00e+00 1.48e-04  -3.7 1.50e-04    -  1.00e+00 1.00e+00f  1\n",
      " 203  1.1106422e+00 0.00e+00 1.72e-01  -3.1 7.57e+01    -  2.34e-02 3.91e-07f 16\n",
      " 204  1.1106448e+00 0.00e+00 1.72e-01  -3.1 1.03e+00    -  1.00e+00 1.44e-05f 17\n",
      " 205  1.1106461e+00 0.00e+00 1.70e-01  -3.1 1.08e+00    -  1.00e+00 6.87e-06f 18\n",
      " 206  1.1106464e+00 0.00e+00 1.69e-01  -3.1 1.10e+00    -  1.00e+00 1.68e-06f 20\n",
      " 207  1.1106466e+00 0.00e+00 1.67e-01  -3.1 1.11e+00    -  1.00e+00 8.31e-07f 21\n",
      " 208  1.1106467e+00 0.00e+00 1.65e-01  -3.1 1.11e+00    -  1.00e+00 8.31e-07f 21\n",
      " 209  1.1106467e+00 0.00e+00 1.63e-01  -3.1 1.11e+00    -  1.00e+00 6.52e-09h 28\n",
      "iter    objective    inf_pr   inf_du lg(mu)  ||d||  lg(rg) alpha_du alpha_pr  ls\n",
      " 210  1.1106467e+00 0.00e+00 1.60e-01  -3.1 1.10e+00    -  1.00e+00 3.30e-09h 29\n",
      " 211  1.1106467e+00 0.00e+00 1.58e-01  -3.1 1.08e+00    -  1.00e+00 8.36e-10h 31\n",
      " 212  1.1106467e+00 0.00e+00 1.55e-01  -3.1 1.07e+00    -  1.00e+00 2.12e-10h 33\n",
      " 213  5.9312186e-01 1.94e-02 2.00e-01  -3.1 1.05e+00    -  1.00e+00 9.25e-01w  1\n",
      " 214  6.7050659e-01 7.41e-02 1.99e-01  -3.1 4.75e-01    -  1.00e+00 8.17e-01w  1\n",
      " 215  4.5401528e-01 0.00e+00 5.26e-04  -3.1 1.08e+00    -  1.00e+00 1.00e+00w  1\n",
      " 216r 1.1106467e+00 0.00e+00 1.47e+01  -3.1 0.00e+00    -  0.00e+00 4.41e-07R 21\n",
      " 217r 1.1106208e+00 0.00e+00 1.48e-04  -3.7 1.50e-04    -  1.00e+00 1.00e+00f  1\n",
      " 218  1.1106260e+00 0.00e+00 1.72e-01  -3.1 7.57e+01    -  2.34e-02 3.91e-07f 16\n",
      " 219  1.1106287e+00 0.00e+00 1.72e-01  -3.1 1.03e+00    -  1.00e+00 1.44e-05f 17\n",
      "iter    objective    inf_pr   inf_du lg(mu)  ||d||  lg(rg) alpha_du alpha_pr  ls\n",
      " 220  1.1106300e+00 0.00e+00 1.70e-01  -3.1 1.08e+00    -  1.00e+00 6.87e-06f 18\n",
      " 221  1.1106303e+00 0.00e+00 1.69e-01  -3.1 1.10e+00    -  1.00e+00 1.68e-06f 20\n",
      " 222  1.1106304e+00 0.00e+00 1.67e-01  -3.1 1.11e+00    -  1.00e+00 8.31e-07f 21\n",
      " 223  1.1106306e+00 0.00e+00 1.65e-01  -3.1 1.11e+00    -  1.00e+00 8.31e-07f 21\n",
      " 224  1.1106306e+00 0.00e+00 1.63e-01  -3.1 1.11e+00    -  1.00e+00 6.52e-09h 28\n",
      " 225  1.1106306e+00 0.00e+00 1.60e-01  -3.1 1.10e+00    -  1.00e+00 3.30e-09h 29\n",
      " 226  1.1106306e+00 0.00e+00 1.58e-01  -3.1 1.08e+00    -  1.00e+00 4.18e-10h 32\n",
      " 227  1.1106306e+00 0.00e+00 1.55e-01  -3.1 1.07e+00    -  1.00e+00 2.12e-10h 33\n",
      " 228  5.9317161e-01 1.94e-02 2.00e-01  -3.1 1.05e+00    -  1.00e+00 9.25e-01w  1\n",
      " 229  6.7055810e-01 7.42e-02 1.99e-01  -3.1 4.75e-01    -  1.00e+00 8.17e-01w  1\n",
      "iter    objective    inf_pr   inf_du lg(mu)  ||d||  lg(rg) alpha_du alpha_pr  ls\n",
      " 230  4.5402267e-01 0.00e+00 5.29e-04  -3.1 1.08e+00    -  1.00e+00 1.00e+00w  1\n",
      " 231r 1.1106306e+00 0.00e+00 1.15e+01  -3.1 0.00e+00    -  0.00e+00 4.41e-07R 21\n",
      " 232r 1.1106047e+00 0.00e+00 1.48e-04  -3.7 1.50e-04    -  1.00e+00 1.00e+00f  1\n",
      " 233  1.1106099e+00 0.00e+00 1.72e-01  -3.1 7.57e+01    -  2.34e-02 3.91e-07f 16\n",
      " 234  1.1106125e+00 0.00e+00 1.72e-01  -3.1 1.03e+00    -  1.00e+00 1.44e-05f 17\n",
      " 235  1.1106138e+00 0.00e+00 1.70e-01  -3.1 1.08e+00    -  1.00e+00 6.87e-06f 18\n",
      " 236  1.1106142e+00 0.00e+00 1.69e-01  -3.1 1.10e+00    -  1.00e+00 1.68e-06f 20\n",
      " 237  1.1106143e+00 0.00e+00 1.67e-01  -3.1 1.11e+00    -  1.00e+00 8.31e-07f 21\n",
      " 238  1.1106145e+00 0.00e+00 1.65e-01  -3.1 1.11e+00    -  1.00e+00 8.31e-07f 21\n",
      " 239  1.1106145e+00 0.00e+00 1.63e-01  -3.1 1.11e+00    -  1.00e+00 6.52e-09h 28\n",
      "iter    objective    inf_pr   inf_du lg(mu)  ||d||  lg(rg) alpha_du alpha_pr  ls\n",
      " 240  1.1106145e+00 0.00e+00 1.60e-01  -3.1 1.10e+00    -  1.00e+00 3.30e-09h 29\n",
      " 241  1.1106145e+00 0.00e+00 1.58e-01  -3.1 1.08e+00    -  1.00e+00 1.04e-10h 34\n",
      " 242  1.1106145e+00 0.00e+00 1.55e-01  -3.1 1.07e+00    -  1.00e+00 1.33e-11h 37\n",
      " 243  5.9321608e-01 1.95e-02 2.00e-01  -3.1 1.05e+00    -  1.00e+00 9.25e-01w  1\n",
      " 244  6.7060506e-01 7.42e-02 1.99e-01  -3.1 4.75e-01    -  1.00e+00 8.17e-01w  1\n",
      " 245  4.5402949e-01 0.00e+00 5.32e-04  -3.1 1.08e+00    -  1.00e+00 1.00e+00w  1\n",
      " 246r 1.1106145e+00 0.00e+00 7.92e+00  -3.1 0.00e+00    -  0.00e+00 4.41e-07R 21\n",
      " 247r 1.1105886e+00 0.00e+00 1.48e-04  -3.7 1.50e-04    -  1.00e+00 1.00e+00f  1\n",
      " 248  1.1105938e+00 0.00e+00 1.73e-01  -3.1 7.57e+01    -  2.34e-02 3.91e-07f 16\n",
      " 249  1.1105964e+00 0.00e+00 1.72e-01  -3.1 1.03e+00    -  1.00e+00 1.44e-05f 17\n",
      "iter    objective    inf_pr   inf_du lg(mu)  ||d||  lg(rg) alpha_du alpha_pr  ls\n",
      " 250  1.1105977e+00 0.00e+00 1.70e-01  -3.1 1.08e+00    -  1.00e+00 6.87e-06f 18\n",
      " 251  1.1105980e+00 0.00e+00 1.69e-01  -3.1 1.10e+00    -  1.00e+00 1.68e-06f 20\n",
      " 252  1.1105982e+00 0.00e+00 1.67e-01  -3.1 1.11e+00    -  1.00e+00 8.31e-07f 21\n",
      " 253  1.1105984e+00 0.00e+00 1.65e-01  -3.1 1.11e+00    -  1.00e+00 8.31e-07f 21\n",
      " 254  1.1105984e+00 0.00e+00 1.63e-01  -3.1 1.11e+00    -  1.00e+00 6.52e-09h 28\n",
      " 255  1.1105984e+00 0.00e+00 1.60e-01  -3.1 1.10e+00    -  1.00e+00 1.65e-09h 30\n",
      " 256  1.1105984e+00 0.00e+00 1.58e-01  -3.1 1.08e+00    -  1.00e+00 8.36e-10h 31\n",
      " 257  1.1105984e+00 0.00e+00 1.55e-01  -3.1 1.07e+00    -  1.00e+00 4.24e-10h 32\n",
      " 258  5.9327102e-01 1.95e-02 2.00e-01  -3.1 1.05e+00    -  1.00e+00 9.25e-01w  1\n",
      " 259  6.7066101e-01 7.42e-02 1.99e-01  -3.1 4.75e-01    -  1.00e+00 8.17e-01w  1\n",
      "iter    objective    inf_pr   inf_du lg(mu)  ||d||  lg(rg) alpha_du alpha_pr  ls\n",
      " 260  4.5403745e-01 0.00e+00 5.36e-04  -3.1 1.08e+00    -  1.00e+00 1.00e+00w  1\n",
      " 261r 1.1105984e+00 0.00e+00 6.49e+00  -3.1 0.00e+00    -  0.00e+00 4.41e-07R 21\n",
      " 262r 1.1105724e+00 0.00e+00 1.48e-04  -3.7 1.50e-04    -  1.00e+00 1.00e+00f  1\n",
      " 263  1.1105777e+00 0.00e+00 1.73e-01  -3.1 7.58e+01    -  2.34e-02 3.91e-07f 16\n",
      " 264  1.1105803e+00 0.00e+00 1.72e-01  -3.1 1.03e+00    -  1.00e+00 1.44e-05f 17\n",
      " 265  1.1105816e+00 0.00e+00 1.70e-01  -3.1 1.08e+00    -  1.00e+00 6.87e-06f 18\n",
      " 266  1.1105819e+00 0.00e+00 1.69e-01  -3.1 1.10e+00    -  1.00e+00 1.68e-06f 20\n",
      " 267  1.1105821e+00 0.00e+00 1.67e-01  -3.1 1.11e+00    -  1.00e+00 8.31e-07f 21\n",
      " 268  1.1105822e+00 0.00e+00 1.65e-01  -3.1 1.11e+00    -  1.00e+00 8.31e-07f 21\n",
      " 269  1.1105822e+00 0.00e+00 1.63e-01  -3.1 1.11e+00    -  1.00e+00 6.52e-09h 28\n",
      "iter    objective    inf_pr   inf_du lg(mu)  ||d||  lg(rg) alpha_du alpha_pr  ls\n",
      " 270  1.1105822e+00 0.00e+00 1.60e-01  -3.1 1.10e+00    -  1.00e+00 1.65e-09h 30\n",
      " 271  1.1105822e+00 0.00e+00 1.58e-01  -3.1 1.08e+00    -  1.00e+00 8.36e-10h 31\n",
      " 272  1.1105822e+00 0.00e+00 1.55e-01  -3.1 1.07e+00    -  1.00e+00 2.12e-10h 33\n",
      " 273  5.9332118e-01 1.95e-02 2.00e-01  -3.1 1.05e+00    -  1.00e+00 9.25e-01w  1\n",
      " 274  6.7071287e-01 7.43e-02 1.99e-01  -3.1 4.75e-01    -  1.00e+00 8.17e-01w  1\n",
      " 275  4.5404491e-01 0.00e+00 5.40e-04  -3.1 1.08e+00    -  1.00e+00 1.00e+00w  1\n",
      " 276r 1.1105822e+00 0.00e+00 4.19e+00  -3.1 0.00e+00    -  0.00e+00 4.41e-07R 21\n",
      " 277r 1.1105563e+00 0.00e+00 1.48e-04  -3.7 1.50e-04    -  1.00e+00 1.00e+00f  1\n",
      " 278  1.1105615e+00 0.00e+00 1.73e-01  -3.1 7.58e+01    -  2.34e-02 3.91e-07f 16\n",
      " 279  1.1105641e+00 0.00e+00 1.72e-01  -3.1 1.03e+00    -  1.00e+00 1.44e-05f 17\n",
      "iter    objective    inf_pr   inf_du lg(mu)  ||d||  lg(rg) alpha_du alpha_pr  ls\n",
      " 280  1.1105654e+00 0.00e+00 1.70e-01  -3.1 1.08e+00    -  1.00e+00 6.87e-06f 18\n",
      " 281  1.1105658e+00 0.00e+00 1.69e-01  -3.1 1.10e+00    -  1.00e+00 1.68e-06f 20\n",
      " 282  1.1105659e+00 0.00e+00 1.67e-01  -3.1 1.11e+00    -  1.00e+00 8.30e-07f 21\n",
      " 283  1.1105661e+00 0.00e+00 1.65e-01  -3.1 1.11e+00    -  1.00e+00 8.31e-07f 21\n",
      " 284  1.1105661e+00 0.00e+00 1.63e-01  -3.1 1.11e+00    -  1.00e+00 6.52e-09h 28\n",
      " 285  1.1105661e+00 0.00e+00 1.60e-01  -3.1 1.10e+00    -  1.00e+00 1.65e-09h 30\n",
      " 286  1.1105661e+00 0.00e+00 1.58e-01  -3.1 1.08e+00    -  1.00e+00 4.18e-10h 32\n",
      " 287  1.1105661e+00 0.00e+00 1.55e-01  -3.1 1.07e+00    -  1.00e+00 1.06e-10h 34\n",
      " 288  5.9337025e-01 1.96e-02 2.00e-01  -3.1 1.05e+00    -  1.00e+00 9.25e-01w  1\n",
      " 289  6.7076378e-01 7.43e-02 1.99e-01  -3.1 4.75e-01    -  1.00e+00 8.17e-01w  1\n",
      "iter    objective    inf_pr   inf_du lg(mu)  ||d||  lg(rg) alpha_du alpha_pr  ls\n",
      " 290  4.5405225e-01 0.00e+00 5.43e-04  -3.1 1.08e+00    -  1.00e+00 1.00e+00w  1\n",
      " 291r 1.1105661e+00 0.00e+00 3.73e+00  -3.1 0.00e+00    -  0.00e+00 4.41e-07R 21\n",
      " 292r 1.1105402e+00 0.00e+00 1.48e-04  -3.7 1.50e-04    -  1.00e+00 1.00e+00f  1\n",
      " 293  1.1105454e+00 0.00e+00 1.73e-01  -3.1 7.58e+01    -  2.34e-02 3.91e-07f 16\n",
      " 294  1.1105480e+00 0.00e+00 1.72e-01  -3.1 1.03e+00    -  1.00e+00 1.44e-05f 17\n",
      " 295  1.1105493e+00 0.00e+00 1.70e-01  -3.1 1.08e+00    -  1.00e+00 6.87e-06f 18\n",
      " 296  1.1105496e+00 0.00e+00 1.69e-01  -3.1 1.10e+00    -  1.00e+00 1.68e-06f 20\n",
      " 297  1.1105498e+00 0.00e+00 1.67e-01  -3.1 1.11e+00    -  1.00e+00 8.30e-07f 21\n",
      " 298  1.1105500e+00 0.00e+00 1.65e-01  -3.1 1.11e+00    -  1.00e+00 8.31e-07f 21\n",
      " 299  1.1105500e+00 0.00e+00 1.63e-01  -3.1 1.11e+00    -  1.00e+00 6.52e-09h 28\n",
      "iter    objective    inf_pr   inf_du lg(mu)  ||d||  lg(rg) alpha_du alpha_pr  ls\n",
      " 300  1.1105500e+00 0.00e+00 1.60e-01  -3.1 1.10e+00    -  1.00e+00 1.65e-09h 30\n",
      " 301  1.1105500e+00 0.00e+00 1.58e-01  -3.1 1.08e+00    -  1.00e+00 2.09e-10h 33\n",
      " 302  1.1105500e+00 0.00e+00 1.55e-01  -3.1 1.07e+00    -  1.00e+00 2.65e-11h 36\n",
      " 303  5.9342257e-01 1.96e-02 2.00e-01  -3.1 1.05e+00    -  1.00e+00 9.25e-01w  1\n",
      " 304  6.7081748e-01 7.43e-02 1.99e-01  -3.1 4.75e-01    -  1.00e+00 8.17e-01w  1\n",
      " 305  4.5405995e-01 0.00e+00 5.47e-04  -3.1 1.08e+00    -  1.00e+00 1.00e+00w  1\n",
      " 306r 1.1105500e+00 0.00e+00 2.15e+00  -3.1 0.00e+00    -  0.00e+00 4.41e-07R 21\n",
      " 307r 1.1105240e+00 0.00e+00 1.48e-04  -3.7 1.50e-04    -  1.00e+00 1.00e+00f  1\n",
      " 308r 5.4504845e-01 0.00e+00 5.85e-08  -9.0 1.44e-04    -  1.00e+00 1.00e+00f  1\n",
      " 309r 5.4504813e-01 0.00e+00 1.29e-08  -9.0 3.71e-01    -  1.00e+00 1.00e+00h  1\n",
      "iter    objective    inf_pr   inf_du lg(mu)  ||d||  lg(rg) alpha_du alpha_pr  ls\n",
      " 310  5.4520922e-01 0.00e+00 1.66e-01  -3.1 2.95e+01    -  6.59e-02 2.73e-05f  8\n",
      " 311  5.4552890e-01 0.00e+00 2.86e-03  -3.1 1.48e+00    -  1.00e+00 1.03e-03f  7\n",
      " 312  5.6547821e-01 0.00e+00 3.63e-04  -4.4 9.75e-02    -  9.88e-01 9.73e-01f  1\n",
      " 313  5.6560383e-01 0.00e+00 5.04e-05  -4.1 2.85e-03    -  1.00e+00 1.00e+00h  1\n",
      " 314  5.6568543e-01 0.00e+00 1.47e-08 -10.1 4.10e-04    -  1.00e+00 1.00e+00h  1\n",
      " 315  5.6568544e-01 0.00e+00 6.52e-12 -11.0 8.27e-07    -  1.00e+00 1.00e+00h  1\n",
      "\n",
      "Number of Iterations....: 315\n",
      "\n",
      "                                   (scaled)                 (unscaled)\n",
      "Objective...............:  -5.6568543908133440e-01    5.6568543908133440e-01\n",
      "Dual infeasibility......:   6.5249806951410279e-12    6.5249806951410279e-12\n",
      "Constraint violation....:   0.0000000000000000e+00    0.0000000000000000e+00\n",
      "Variable bound violation:   0.0000000000000000e+00    0.0000000000000000e+00\n",
      "Complementarity.........:   1.0008899264658257e-11    1.0008899264658257e-11\n",
      "Overall NLP error.......:   1.0008899264658257e-11    1.0008899264658257e-11\n",
      "\n",
      "\n",
      "Number of objective function evaluations             = 6123\n",
      "Number of objective gradient evaluations             = 332\n",
      "Number of equality constraint evaluations            = 0\n",
      "Number of inequality constraint evaluations          = 6141\n",
      "Number of equality constraint Jacobian evaluations   = 0\n",
      "Number of inequality constraint Jacobian evaluations = 336\n",
      "Number of Lagrangian Hessian evaluations             = 0\n",
      "Total seconds in IPOPT                               = 4.350\n",
      "\n",
      "EXIT: Optimal Solution Found.\n",
      "x =0.9409944555659439"
     ]
    },
    {
     "name": "stdout",
     "output_type": "stream",
     "text": [
      "\n",
      "y =1.9571044632935377\n"
     ]
    }
   ],
   "source": [
    "# Este nosso modelo matematico\n",
    "using JuMP, Ipopt, Statistics, LinearAlgebra, PolygonOps\n",
    "\n",
    "m = Model(Ipopt.Optimizer)\n",
    "apartamento = zeros(4,4)\n",
    "interferencias = false                                                  # esta é matriz que define o tamanho do apartamento\n",
    "interferencias = [ [[0,2] , [1,2]]]                                    # posições bidimensionais das interferencias\n",
    "dispositivos = [[0,0],[0,4]]\n",
    "\n",
    "function in_low_circle(x,y,x_dev,y_dev)\n",
    "    for interferencia in interferencias\n",
    "        oa = [interferencia[1][1] - x, interferencia[1][2] - y, 0 ]\n",
    "        op = [x_dev - x, y_dev - y, 0   ]\n",
    "        ab = [interferencia[2][1] - interferencia[1][1], interferencia[2][2]- interferencia[1][2], 0]\n",
    "        ap = [x_dev - interferencia[1][1],  y_dev - interferencia[1][2], 0  ]\n",
    "        ob = [interferencia[2][1] - x,interferencia[2][2] - y, 0 ]\n",
    "        if cross(oa,op)[3] <=0 && cross(ab,ap)[3] >=0 && cross(ob,op)[3] >=0\n",
    "            return 1\n",
    "        end\n",
    "    end\n",
    "    return 0\n",
    "end\n",
    "function interference(x,y,x_dev,y_dev)\n",
    "    for interferencia in interferencias\n",
    "        proj_1 = [(5*cos(atan(interferencia[1][2]/interferencia[1][1])))+x, (5*sin(atan(interferencia[1][2]/interferencia[1][1])))+y] \n",
    "        proj_2 = [(5*cos(atan(interferencia[2][2]/interferencia[2][1])))+x, (5*sin(atan(interferencia[2][2]/interferencia[2][1])))+y]\n",
    "        if inpolygon([x_dev,y_dev],[interferencia[1],interferencia[2],proj_2,proj_1,interferencia[1]]) == 1\n",
    "            return 1\n",
    "        end\n",
    "    end\n",
    "    return 0\n",
    "end \n",
    "\n",
    "function force(x,y, std_dev)\n",
    "    forca = []\n",
    "    for i in dispositivos\n",
    "        distancia = sqrt((x-i[1])^2+(y-i[2])^2) # a distancia entre o roteador e os dispositivos ´pode ser calculado pela distancia euclidiana\n",
    "        f_= 1-0.2*distancia                     # a forca do sinal definida pela funcao apresentada no modelo matematico\n",
    "        if f_ < 0\n",
    "            f_ = 0                              # não é possivel ter sinais negativos\n",
    "        else\n",
    "            if interference(x,y,i[1],i[2]) == 1 || in_low_circle(x,y,i[1],i[2]) == 1\n",
    "                f_ = 0\n",
    "            end\n",
    "        end\n",
    "        push!(forca,f_)\n",
    "    end\n",
    "    if std_dev == 1\n",
    "        return Statistics.std(forca)\n",
    "    elseif std_dev == -1\n",
    "        return forca\n",
    "    else\n",
    "        return sum(forca)\n",
    "    end\n",
    "end\n",
    "\n",
    "register(m, :interference, 4, interference, autodiff=true)\n",
    "register(m, :force, 3, force, autodiff=true)\n",
    "@variable(m, 0 <= x <= size(apartamento)[1])                            # as posições devem ser positivas\n",
    "@variable(m, 0 <= y <= size(apartamento)[2])                            # as posições devem ser positivas e os roteadores da matriz não podem ser posicionados fora dos limites do apartamento\n",
    "@NLconstraint(m, force(x,y,1)<= 0.4)\n",
    "@NLconstraint(m, )\n",
    "@NLobjective(m, Max, force(x,y,0))                 # queremos maximizar a soma do sinal de wifi\n",
    "\n",
    "optimize!(m)\n",
    "\n",
    "println(\"x =\", JuMP.value.(x))     # imprime o resultado na tela\n",
    "println(\"y =\", JuMP.value.(y))     # imprime o resultado na tela\n"
   ]
  },
  {
   "cell_type": "markdown",
   "metadata": {},
   "source": [
    "**Tenha certeza de que seu código compila corretamente! Rodarei seu código!**"
   ]
  },
  {
   "attachments": {},
   "cell_type": "markdown",
   "metadata": {
    "collapsed": true
   },
   "source": [
    "## 4. Resultados e discussão ##\n",
    "\n",
    "Neste seção, os resultados obtidos serão exibidos e discutidos. Mostre figuras, gráficos, imagens, curvas de compromisso, e o que mais puder melhor ilustrar seus resultados. A discussão deverá explicar o que significam os resultados e como interpretá-los. As limitações da sua abordagem/modelo também devem ser colocadas, bem como uma análise da sensibilidade dos resultados em relação às hipóteses feitas.\n",
    "\n",
    "\n",
    "Utilize plots (veja exemplos  `PyPlot` [aqui](https://gist.github.com/gizmaa/7214002))\n",
    "\n",
    "Aqui está um exemplo de uma tabela (em Markdown):\n",
    "\n",
    "| Tabelas        | São           | Boas  |\n",
    "| ------------- |:-------------:| -----:|\n",
    "| col 3 é      | alinhado à direita |\\$1600 |\n",
    "| col 2 é      | centrado      |  \\$12 |\n",
    "| texto | também serve      |   \\$1 |\n",
    "\n",
    "### 4.A. Modelo visual da posição dos objetos\n"
   ]
  },
  {
   "cell_type": "code",
   "execution_count": 41,
   "metadata": {},
   "outputs": [
    {
     "name": "stdout",
     "output_type": "stream",
     "text": [
      "Any[0.5656854390813344, 0]\n"
     ]
    },
    {
     "name": "stdout",
     "output_type": "stream",
     "text": [
      "0.4000000099929012\n"
     ]
    }
   ],
   "source": [
    "using Plots\n",
    "\n",
    "scatter([dispositivos[1][1],dispositivos[2][1],],[dispositivos[1][2],dispositivos[2][2]], label=\"Dispositivos\")\n",
    "scatter!([JuMP.value.(x)],[JuMP.value.(y)], label=\"Roteador\")\n",
    "plot!([interferencias[1][1][1],interferencias[1][2][1]],[interferencias[1][1][2],interferencias[1][2][2]],label=\"Interferencia\")\n",
    "println(force(JuMP.value.(x),JuMP.value.(y),-1))\n",
    "println(force(JuMP.value.(x),JuMP.value.(y),1))"
   ]
  },
  {
   "attachments": {},
   "cell_type": "markdown",
   "metadata": {
    "collapsed": true
   },
   "source": [
    "## 5. Conclusão ##\n",
    "\n",
    "Finalizando, podemos perceber que nosso projeto levou ao desenvolvimento de um mecânismo muito útil, tanto para profissionais de rede, quanto para clientes de operadoras que buscam a configuração que lhes dará o melhor funcionamento da rede em seu imóvel. Conseguimos determinar o melhor posicionamento possível para um roteador em um estabelecimento, considerando casos com e sem interferências ao sinal.\n",
    "\n",
    "Acreditamos que a direção à ser seguida para melhor desenvolvimento do trabalho seria a complexificar ainda mais nossos cenários. Até agora consideramos apenas fontes de interferência como barreiras metálicas e espelhos que barram o sinal, podemos, no futúro, levar em consideração interferências trazidas por outros sinais, como de aparelhos micro-ondas que atuam em bandas de frequências semelhantes aos de alguns roteadores, no caso de 2.4Ghz. Além disso podemos adicionar novos elementos como repetidores de sinais, dispositivos móveis conectados à rede, fazendo uma analise probabilista dos cômodos em que esses dispositivos se encontrariam na maior parte do tempo."
   ]
  },
  {
   "attachments": {},
   "cell_type": "markdown",
   "metadata": {},
   "source": [
    "## 6. Referências bibliográficas ##\n",
    "\n",
    "[Optimization Models and Methods for Planning Wireless Mesh Networks](https://www.researchgate.net/publication/220447584_Optimization_Models_and_Methods_for_Planning_Wireless_Mesh_Networks)\n",
    "\n",
    "[Redes Mesh](https://blog.intelbras.com.br/o-que-e-rede-mesh-e-quais-suas-vantagens/)\n",
    "\n",
    "[WLAN](https://pt.wikipedia.org/wiki/Rede_de_área_local_sem_fio)"
   ]
  }
 ],
 "metadata": {
  "@webio": {
   "lastCommId": null,
   "lastKernelId": null
  },
  "kernelspec": {
   "display_name": "Julia 1.8.0",
   "language": "julia",
   "name": "julia-1.8"
  },
  "language_info": {
   "file_extension": ".jl",
   "mimetype": "application/julia",
   "name": "julia",
   "version": "1.8.0"
  }
 },
 "nbformat": 4,
 "nbformat_minor": 1
}
