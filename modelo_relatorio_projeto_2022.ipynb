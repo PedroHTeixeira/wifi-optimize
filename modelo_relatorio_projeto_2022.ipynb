{
 "cells": [
  {
   "cell_type": "code",
   "execution_count": 103,
   "metadata": {},
   "outputs": [],
   "source": [
    "using JuMP\n"
   ]
  },
  {
   "cell_type": "code",
   "execution_count": 104,
   "metadata": {},
   "outputs": [
    {
     "name": "stderr",
     "output_type": "stream",
     "text": [
      "\u001b[32m\u001b[1m   Resolving\u001b[22m\u001b[39m package versions...\n",
      "\u001b[32m\u001b[1m  No Changes\u001b[22m\u001b[39m to `~/.julia/environments/v1.8/Project.toml`\n",
      "\u001b[32m\u001b[1m  No Changes\u001b[22m\u001b[39m to `~/.julia/environments/v1.8/Manifest.toml`\n"
     ]
    }
   ],
   "source": [
    "import Pkg\n",
    "Pkg.add(\"Ipopt\")"
   ]
  },
  {
   "cell_type": "code",
   "execution_count": 11,
   "metadata": {},
   "outputs": [
    {
     "name": "stderr",
     "output_type": "stream",
     "text": [
      "\u001b[32m\u001b[1m    Updating\u001b[22m\u001b[39m registry at `~/.julia/registries/General.toml`\n"
     ]
    },
    {
     "name": "stderr",
     "output_type": "stream",
     "text": [
      "\u001b[32m\u001b[1m   Resolving\u001b[22m\u001b[39m package versions...\n"
     ]
    },
    {
     "name": "stderr",
     "output_type": "stream",
     "text": [
      "\u001b[32m\u001b[1m   Installed\u001b[22m\u001b[39m JpegTurbo_jll ──────────────── v2.1.2+0\n",
      "\u001b[32m\u001b[1m   Installed\u001b[22m\u001b[39m x265_jll ───────────────────── v3.5.0+0\n",
      "\u001b[32m\u001b[1m   Installed\u001b[22m\u001b[39m libfdk_aac_jll ─────────────── v2.0.2+0\n",
      "\u001b[32m\u001b[1m   Installed\u001b[22m\u001b[39m Libmount_jll ───────────────── v2.35.0+0\n",
      "\u001b[32m\u001b[1m   Installed\u001b[22m\u001b[39m GR_jll ─────────────────────── v0.71.3+0\n",
      "\u001b[32m\u001b[1m   Installed\u001b[22m\u001b[39m LERC_jll ───────────────────── v3.0.0+1\n",
      "\u001b[32m\u001b[1m   Installed\u001b[22m\u001b[39m Opus_jll ───────────────────── v1.3.2+0\n",
      "\u001b[32m\u001b[1m   Installed\u001b[22m\u001b[39m LoggingExtras ──────────────── v1.0.0\n"
     ]
    },
    {
     "name": "stderr",
     "output_type": "stream",
     "text": [
      "\u001b[32m\u001b[1m   Installed\u001b[22m\u001b[39m Grisu ──────────────────────── v1.0.2\n"
     ]
    },
    {
     "name": "stderr",
     "output_type": "stream",
     "text": [
      "\u001b[32m\u001b[1m   Installed\u001b[22m\u001b[39m Formatting ─────────────────── v0.4.2\n",
      "\u001b[32m\u001b[1m   Installed\u001b[22m\u001b[39m Measures ───────────────────── v0.3.2\n",
      "\u001b[32m\u001b[1m   Installed\u001b[22m\u001b[39m RelocatableFolders ─────────── v1.0.0\n",
      "\u001b[32m\u001b[1m   Installed\u001b[22m\u001b[39m Xorg_xkbcomp_jll ───────────── v1.4.2+4\n"
     ]
    },
    {
     "name": "stderr",
     "output_type": "stream",
     "text": [
      "\u001b[32m\u001b[1m   Installed\u001b[22m\u001b[39m Xorg_xcb_util_wm_jll ───────── v0.4.1+1\n"
     ]
    },
    {
     "name": "stderr",
     "output_type": "stream",
     "text": [
      "\u001b[32m\u001b[1m   Installed\u001b[22m\u001b[39m PlotUtils ──────────────────── v1.3.2\n",
      "\u001b[32m\u001b[1m   Installed\u001b[22m\u001b[39m RecipesPipeline ────────────── v0.6.11\n",
      "\u001b[32m\u001b[1m   Installed\u001b[22m\u001b[39m Xorg_xcb_util_image_jll ────── v0.4.0+1\n",
      "\u001b[32m\u001b[1m   Installed\u001b[22m\u001b[39m OpenSSL ────────────────────── v1.3.2\n",
      "\u001b[32m\u001b[1m   Installed\u001b[22m\u001b[39m Xorg_libpthread_stubs_jll ──── v0.1.0+3\n",
      "\u001b[32m\u001b[1m   Installed\u001b[22m\u001b[39m Contour ────────────────────── v0.6.2\n"
     ]
    },
    {
     "name": "stderr",
     "output_type": "stream",
     "text": [
      "\u001b[32m\u001b[1m   Installed\u001b[22m\u001b[39m Xorg_xcb_util_jll ──────────── v0.4.0+1\n",
      "\u001b[32m\u001b[1m   Installed\u001b[22m\u001b[39m Libgpg_error_jll ───────────── v1.42.0+0\n",
      "\u001b[32m\u001b[1m   Installed\u001b[22m\u001b[39m Cairo_jll ──────────────────── v1.16.1+1\n",
      "\u001b[32m\u001b[1m   Installed\u001b[22m\u001b[39m Fontconfig_jll ─────────────── v2.13.93+0\n"
     ]
    },
    {
     "name": "stderr",
     "output_type": "stream",
     "text": [
      "\u001b[32m\u001b[1m   Installed\u001b[22m\u001b[39m Xorg_libxkbfile_jll ────────── v1.1.0+4\n",
      "\u001b[32m\u001b[1m   Installed\u001b[22m\u001b[39m HTTP ───────────────────────── v1.6.3\n",
      "\u001b[32m\u001b[1m   Installed\u001b[22m\u001b[39m Xorg_libXinerama_jll ───────── v1.1.4+4\n"
     ]
    },
    {
     "name": "stderr",
     "output_type": "stream",
     "text": [
      "\u001b[32m\u001b[1m   Installed\u001b[22m\u001b[39m Xorg_libXau_jll ────────────── v1.0.9+4\n",
      "\u001b[32m\u001b[1m   Installed\u001b[22m\u001b[39m Qt5Base_jll ────────────────── v5.15.3+2\n",
      "\u001b[32m\u001b[1m   Installed\u001b[22m\u001b[39m FFMPEG ─────────────────────── v0.4.1\n"
     ]
    },
    {
     "name": "stderr",
     "output_type": "stream",
     "text": [
      "\u001b[32m\u001b[1m   Installed\u001b[22m\u001b[39m Missings ───────────────────── v1.1.0\n",
      "\u001b[32m\u001b[1m   Installed\u001b[22m\u001b[39m Showoff ────────────────────── v1.0.3\n",
      "\u001b[32m\u001b[1m   Installed\u001b[22m\u001b[39m Xorg_xcb_util_keysyms_jll ──── v0.4.0+1\n"
     ]
    },
    {
     "name": "stderr",
     "output_type": "stream",
     "text": [
      "\u001b[32m\u001b[1m   Installed\u001b[22m\u001b[39m xkbcommon_jll ──────────────── v1.4.1+0\n",
      "\u001b[32m\u001b[1m   Installed\u001b[22m\u001b[39m SimpleBufferStream ─────────── v1.1.0\n",
      "\u001b[32m\u001b[1m   Installed\u001b[22m\u001b[39m HarfBuzz_jll ───────────────── v2.8.1+1\n",
      "\u001b[32m\u001b[1m   Installed\u001b[22m\u001b[39m Pipe ───────────────────────── v1.3.0\n",
      "\u001b[32m\u001b[1m   Installed\u001b[22m\u001b[39m LZO_jll ────────────────────── v2.10.1+0\n",
      "\u001b[32m\u001b[1m   Installed\u001b[22m\u001b[39m PlotThemes ─────────────────── v3.1.0\n"
     ]
    },
    {
     "name": "stderr",
     "output_type": "stream",
     "text": [
      "\u001b[32m\u001b[1m   Installed\u001b[22m\u001b[39m fzf_jll ────────────────────── v0.29.0+0\n",
      "\u001b[32m\u001b[1m   Installed\u001b[22m\u001b[39m FriBidi_jll ────────────────── v1.0.10+0\n",
      "\u001b[32m\u001b[1m   Installed\u001b[22m\u001b[39m x264_jll ───────────────────── v2021.5.5+0\n",
      "\u001b[32m\u001b[1m   Installed\u001b[22m\u001b[39m GLFW_jll ───────────────────── v3.3.8+0\n",
      "\u001b[32m\u001b[1m   Installed\u001b[22m\u001b[39m UnicodeFun ─────────────────── v0.4.1\n"
     ]
    },
    {
     "name": "stderr",
     "output_type": "stream",
     "text": [
      "\u001b[32m\u001b[1m   Installed\u001b[22m\u001b[39m MbedTLS ────────────────────── v1.1.7\n"
     ]
    },
    {
     "name": "stderr",
     "output_type": "stream",
     "text": [
      "\u001b[32m\u001b[1m   Installed\u001b[22m\u001b[39m FreeType2_jll ──────────────── v2.10.4+0\n",
      "\u001b[32m\u001b[1m   Installed\u001b[22m\u001b[39m JLFzf ──────────────────────── v0.1.5\n",
      "\u001b[32m\u001b[1m   Installed\u001b[22m\u001b[39m StatsAPI ───────────────────── v1.5.0\n"
     ]
    },
    {
     "name": "stderr",
     "output_type": "stream",
     "text": [
      "\u001b[32m\u001b[1m   Installed\u001b[22m\u001b[39m Xorg_libxcb_jll ────────────── v1.13.0+3\n",
      "\u001b[32m\u001b[1m   Installed\u001b[22m\u001b[39m libpng_jll ─────────────────── v1.6.38+0\n"
     ]
    },
    {
     "name": "stderr",
     "output_type": "stream",
     "text": [
      "\u001b[32m\u001b[1m   Installed\u001b[22m\u001b[39m libaom_jll ─────────────────── v3.4.0+0\n",
      "\u001b[32m\u001b[1m   Installed\u001b[22m\u001b[39m StatsBase ──────────────────── v0.33.21\n"
     ]
    },
    {
     "name": "stderr",
     "output_type": "stream",
     "text": [
      "\u001b[32m\u001b[1m   Installed\u001b[22m\u001b[39m Scratch ────────────────────── v1.1.1\n",
      "\u001b[32m\u001b[1m   Installed\u001b[22m\u001b[39m Xorg_libXext_jll ───────────── v1.3.4+4\n"
     ]
    },
    {
     "name": "stderr",
     "output_type": "stream",
     "text": [
      "\u001b[32m\u001b[1m   Installed\u001b[22m\u001b[39m TensorCore ─────────────────── v0.1.1\n"
     ]
    },
    {
     "name": "stderr",
     "output_type": "stream",
     "text": [
      "\u001b[32m\u001b[1m   Installed\u001b[22m\u001b[39m Zstd_jll ───────────────────── v1.5.2+0\n",
      "\u001b[32m\u001b[1m   Installed\u001b[22m\u001b[39m Expat_jll ──────────────────── v2.4.8+0\n",
      "\u001b[32m\u001b[1m   Installed\u001b[22m\u001b[39m Libtiff_jll ────────────────── v4.4.0+0\n",
      "\u001b[32m\u001b[1m   Installed\u001b[22m\u001b[39m ColorVectorSpace ───────────── v0.9.10\n",
      "\u001b[32m\u001b[1m   Installed\u001b[22m\u001b[39m Plots ──────────────────────── v1.38.1\n"
     ]
    },
    {
     "name": "stderr",
     "output_type": "stream",
     "text": [
      "\u001b[32m\u001b[1m   Installed\u001b[22m\u001b[39m Xorg_libXrender_jll ────────── v0.9.10+4\n",
      "\u001b[32m\u001b[1m   Installed\u001b[22m\u001b[39m Libffi_jll ─────────────────── v3.2.2+1\n",
      "\u001b[32m\u001b[1m   Installed\u001b[22m\u001b[39m Xorg_libXi_jll ─────────────── v1.7.10+4\n",
      "\u001b[32m\u001b[1m   Installed\u001b[22m\u001b[39m Ogg_jll ────────────────────── v1.3.5+1\n",
      "\u001b[32m\u001b[1m   Installed\u001b[22m\u001b[39m XSLT_jll ───────────────────── v1.1.34+0\n",
      "\u001b[32m\u001b[1m   Installed\u001b[22m\u001b[39m Xorg_libXcursor_jll ────────── v1.2.0+4\n"
     ]
    },
    {
     "name": "stderr",
     "output_type": "stream",
     "text": [
      "\u001b[32m\u001b[1m   Installed\u001b[22m\u001b[39m Libuuid_jll ────────────────── v2.36.0+0\n",
      "\u001b[32m\u001b[1m   Installed\u001b[22m\u001b[39m Wayland_protocols_jll ──────── v1.25.0+0\n"
     ]
    },
    {
     "name": "stderr",
     "output_type": "stream",
     "text": [
      "\u001b[32m\u001b[1m   Installed\u001b[22m\u001b[39m Xorg_xcb_util_renderutil_jll ─ v0.3.9+1\n",
      "\u001b[32m\u001b[1m   Installed\u001b[22m\u001b[39m Pixman_jll ─────────────────── v0.40.1+0\n",
      "\u001b[32m\u001b[1m   Installed\u001b[22m\u001b[39m Graphite2_jll ──────────────── v1.3.14+0\n",
      "\u001b[32m\u001b[1m   Installed\u001b[22m\u001b[39m libass_jll ─────────────────── v0.15.1+0\n"
     ]
    },
    {
     "name": "stderr",
     "output_type": "stream",
     "text": [
      "\u001b[32m\u001b[1m   Installed\u001b[22m\u001b[39m XML2_jll ───────────────────── v2.10.3+0\n"
     ]
    },
    {
     "name": "stderr",
     "output_type": "stream",
     "text": [
      "\u001b[32m\u001b[1m   Installed\u001b[22m\u001b[39m Gettext_jll ────────────────── v0.21.0+0\n",
      "\u001b[32m\u001b[1m   Installed\u001b[22m\u001b[39m Wayland_jll ────────────────── v1.21.0+0\n",
      "\u001b[32m\u001b[1m   Installed\u001b[22m\u001b[39m Xorg_xtrans_jll ────────────── v1.4.0+3\n",
      "\u001b[32m\u001b[1m   Installed\u001b[22m\u001b[39m OpenSSL_jll ────────────────── v1.1.19+0\n",
      "\u001b[32m\u001b[1m   Installed\u001b[22m\u001b[39m Latexify ───────────────────── v0.15.17\n",
      "\u001b[32m\u001b[1m   Installed\u001b[22m\u001b[39m BitFlags ───────────────────── v0.1.7\n"
     ]
    },
    {
     "name": "stderr",
     "output_type": "stream",
     "text": [
      "\u001b[32m\u001b[1m   Installed\u001b[22m\u001b[39m FFMPEG_jll ─────────────────── v4.4.2+2\n",
      "\u001b[32m\u001b[1m   Installed\u001b[22m\u001b[39m Xorg_libXrandr_jll ─────────── v1.5.2+4\n",
      "\u001b[32m\u001b[1m   Installed\u001b[22m\u001b[39m RecipesBase ────────────────── v1.3.2\n",
      "\u001b[32m\u001b[1m   Installed\u001b[22m\u001b[39m Libgcrypt_jll ──────────────── v1.8.7+0\n",
      "\u001b[32m\u001b[1m   Installed\u001b[22m\u001b[39m DataAPI ────────────────────── v1.14.0\n",
      "\u001b[32m\u001b[1m   Installed\u001b[22m\u001b[39m Xorg_xkeyboard_config_jll ──── v2.27.0+4\n"
     ]
    },
    {
     "name": "stderr",
     "output_type": "stream",
     "text": [
      "\u001b[32m\u001b[1m   Installed\u001b[22m\u001b[39m Xorg_libXfixes_jll ─────────── v5.0.3+4\n",
      "\u001b[32m\u001b[1m   Installed\u001b[22m\u001b[39m LAME_jll ───────────────────── v3.100.1+0\n",
      "\u001b[32m\u001b[1m   Installed\u001b[22m\u001b[39m Glib_jll ───────────────────── v2.74.0+2\n",
      "\u001b[32m\u001b[1m   Installed\u001b[22m\u001b[39m Libiconv_jll ───────────────── v1.16.1+2\n",
      "\u001b[32m\u001b[1m   Installed\u001b[22m\u001b[39m IniFile ────────────────────── v0.5.1\n",
      "\u001b[32m\u001b[1m   Installed\u001b[22m\u001b[39m URIs ───────────────────────── v1.4.1\n"
     ]
    },
    {
     "name": "stderr",
     "output_type": "stream",
     "text": [
      "\u001b[32m\u001b[1m   Installed\u001b[22m\u001b[39m libvorbis_jll ──────────────── v1.3.7+1\n",
      "\u001b[32m\u001b[1m   Installed\u001b[22m\u001b[39m Libglvnd_jll ───────────────── v1.6.0+0\n",
      "\u001b[32m\u001b[1m   Installed\u001b[22m\u001b[39m Xorg_libXdmcp_jll ──────────── v1.1.3+4\n",
      "\u001b[32m\u001b[1m   Installed\u001b[22m\u001b[39m Xorg_libX11_jll ────────────── v1.6.9+4\n",
      "\u001b[32m\u001b[1m   Installed\u001b[22m\u001b[39m SortingAlgorithms ──────────── v1.1.0\n",
      "\u001b[32m\u001b[1m   Installed\u001b[22m\u001b[39m Unzip ──────────────────────── v0.2.0\n"
     ]
    },
    {
     "name": "stderr",
     "output_type": "stream",
     "text": [
      "\u001b[32m\u001b[1m   Installed\u001b[22m\u001b[39m ColorSchemes ───────────────── v3.20.0\n"
     ]
    },
    {
     "name": "stderr",
     "output_type": "stream",
     "text": [
      "\u001b[32m\u001b[1m   Installed\u001b[22m\u001b[39m GR ─────────────────────────── v0.71.3\n"
     ]
    },
    {
     "name": "stderr",
     "output_type": "stream",
     "text": [
      "\u001b[32m\u001b[1m    Updating\u001b[22m\u001b[39m `~/.julia/environments/v1.8/Project.toml`\n",
      " \u001b[90m [91a5bcdd] \u001b[39m\u001b[92m+ Plots v1.38.1\u001b[39m\n",
      "\u001b[32m\u001b[1m    Updating\u001b[22m\u001b[39m `~/.julia/environments/v1.8/Manifest.toml`\n"
     ]
    },
    {
     "name": "stderr",
     "output_type": "stream",
     "text": [
      " \u001b[90m [d1d4a3ce] \u001b[39m\u001b[92m+ BitFlags v0.1.7\u001b[39m\n",
      " \u001b[90m [35d6a980] \u001b[39m\u001b[92m+ ColorSchemes v3.20.0\u001b[39m\n",
      " \u001b[90m [c3611d14] \u001b[39m\u001b[92m+ ColorVectorSpace v0.9.10\u001b[39m\n",
      " \u001b[90m [d38c429a] \u001b[39m\u001b[92m+ Contour v0.6.2\u001b[39m\n",
      " \u001b[90m [9a962f9c] \u001b[39m\u001b[92m+ DataAPI v1.14.0\u001b[39m\n",
      " \u001b[90m [c87230d0] \u001b[39m\u001b[92m+ FFMPEG v0.4.1\u001b[39m\n",
      " \u001b[90m [59287772] \u001b[39m\u001b[92m+ Formatting v0.4.2\u001b[39m\n",
      " \u001b[90m [28b8d3ca] \u001b[39m\u001b[92m+ GR v0.71.3\u001b[39m\n",
      " \u001b[90m [42e2da0e] \u001b[39m\u001b[92m+ Grisu v1.0.2\u001b[39m\n",
      " \u001b[90m [cd3eb016] \u001b[39m\u001b[92m+ HTTP v1.6.3\u001b[39m\n",
      " \u001b[90m [83e8ac13] \u001b[39m\u001b[92m+ IniFile v0.5.1\u001b[39m\n",
      " \u001b[90m [1019f520] \u001b[39m\u001b[92m+ JLFzf v0.1.5\u001b[39m\n",
      " \u001b[90m [23fbe1c1] \u001b[39m\u001b[92m+ Latexify v0.15.17\u001b[39m\n",
      " \u001b[90m [e6f89c97] \u001b[39m\u001b[92m+ LoggingExtras v1.0.0\u001b[39m\n",
      " \u001b[90m [739be429] \u001b[39m\u001b[92m+ MbedTLS v1.1.7\u001b[39m\n",
      " \u001b[90m [442fdcdd] \u001b[39m\u001b[92m+ Measures v0.3.2\u001b[39m\n",
      " \u001b[90m [e1d29d7a] \u001b[39m\u001b[92m+ Missings v1.1.0\u001b[39m\n",
      " \u001b[90m [4d8831e6] \u001b[39m\u001b[92m+ OpenSSL v1.3.2\u001b[39m\n",
      " \u001b[90m [b98c9c47] \u001b[39m\u001b[92m+ Pipe v1.3.0\u001b[39m\n",
      " \u001b[90m [ccf2f8ad] \u001b[39m\u001b[92m+ PlotThemes v3.1.0\u001b[39m\n",
      " \u001b[90m [995b91a9] \u001b[39m\u001b[92m+ PlotUtils v1.3.2\u001b[39m\n",
      " \u001b[90m [91a5bcdd] \u001b[39m\u001b[92m+ Plots v1.38.1\u001b[39m\n",
      " \u001b[90m [3cdcf5f2] \u001b[39m\u001b[92m+ RecipesBase v1.3.2\u001b[39m\n",
      " \u001b[90m [01d81517] \u001b[39m\u001b[92m+ RecipesPipeline v0.6.11\u001b[39m\n",
      " \u001b[90m [05181044] \u001b[39m\u001b[92m+ RelocatableFolders v1.0.0\u001b[39m\n",
      " \u001b[90m [6c6a2e73] \u001b[39m\u001b[92m+ Scratch v1.1.1\u001b[39m\n",
      " \u001b[90m [992d4aef] \u001b[39m\u001b[92m+ Showoff v1.0.3\u001b[39m\n",
      " \u001b[90m [777ac1f9] \u001b[39m\u001b[92m+ SimpleBufferStream v1.1.0\u001b[39m\n",
      " \u001b[90m [a2af1166] \u001b[39m\u001b[92m+ SortingAlgorithms v1.1.0\u001b[39m\n",
      " \u001b[90m [82ae8749] \u001b[39m\u001b[92m+ StatsAPI v1.5.0\u001b[39m\n",
      " \u001b[90m [2913bbd2] \u001b[39m\u001b[92m+ StatsBase v0.33.21\u001b[39m\n",
      " \u001b[90m [62fd8b95] \u001b[39m\u001b[92m+ TensorCore v0.1.1\u001b[39m\n",
      " \u001b[90m [5c2747f8] \u001b[39m\u001b[92m+ URIs v1.4.1\u001b[39m\n",
      " \u001b[90m [1cfade01] \u001b[39m\u001b[92m+ UnicodeFun v0.4.1\u001b[39m\n",
      " \u001b[90m [41fe7b60] \u001b[39m\u001b[92m+ Unzip v0.2.0\u001b[39m\n",
      " \u001b[90m [83423d85] \u001b[39m\u001b[92m+ Cairo_jll v1.16.1+1\u001b[39m\n",
      " \u001b[90m [2e619515] \u001b[39m\u001b[92m+ Expat_jll v2.4.8+0\u001b[39m\n",
      " \u001b[90m [b22a6f82] \u001b[39m\u001b[92m+ FFMPEG_jll v4.4.2+2\u001b[39m\n",
      " \u001b[90m [a3f928ae] \u001b[39m\u001b[92m+ Fontconfig_jll v2.13.93+0\u001b[39m\n",
      " \u001b[90m [d7e528f0] \u001b[39m\u001b[92m+ FreeType2_jll v2.10.4+0\u001b[39m\n",
      " \u001b[90m [559328eb] \u001b[39m\u001b[92m+ FriBidi_jll v1.0.10+0\u001b[39m\n",
      " \u001b[90m [0656b61e] \u001b[39m\u001b[92m+ GLFW_jll v3.3.8+0\u001b[39m\n",
      " \u001b[90m [d2c73de3] \u001b[39m\u001b[92m+ GR_jll v0.71.3+0\u001b[39m\n",
      " \u001b[90m [78b55507] \u001b[39m\u001b[92m+ Gettext_jll v0.21.0+0\u001b[39m\n",
      " \u001b[90m [7746bdde] \u001b[39m\u001b[92m+ Glib_jll v2.74.0+2\u001b[39m\n",
      " \u001b[90m [3b182d85] \u001b[39m\u001b[92m+ Graphite2_jll v1.3.14+0\u001b[39m\n",
      " \u001b[90m [2e76f6c2] \u001b[39m\u001b[92m+ HarfBuzz_jll v2.8.1+1\u001b[39m\n",
      " \u001b[90m [aacddb02] \u001b[39m\u001b[92m+ JpegTurbo_jll v2.1.2+0\u001b[39m\n",
      " \u001b[90m [c1c5ebd0] \u001b[39m\u001b[92m+ LAME_jll v3.100.1+0\u001b[39m\n",
      " \u001b[90m [88015f11] \u001b[39m\u001b[92m+ LERC_jll v3.0.0+1\u001b[39m\n",
      " \u001b[90m [dd4b983a] \u001b[39m\u001b[92m+ LZO_jll v2.10.1+0\u001b[39m\n",
      "\u001b[33m⌅\u001b[39m\u001b[90m [e9f186c6] \u001b[39m\u001b[92m+ Libffi_jll v3.2.2+1\u001b[39m\n",
      " \u001b[90m [d4300ac3] \u001b[39m\u001b[92m+ Libgcrypt_jll v1.8.7+0\u001b[39m\n",
      " \u001b[90m [7e76a0d4] \u001b[39m\u001b[92m+ Libglvnd_jll v1.6.0+0\u001b[39m\n",
      " \u001b[90m [7add5ba3] \u001b[39m\u001b[92m+ Libgpg_error_jll v1.42.0+0\u001b[39m\n",
      " \u001b[90m [94ce4f54] \u001b[39m\u001b[92m+ Libiconv_jll v1.16.1+2\u001b[39m\n",
      " \u001b[90m [4b2f31a3] \u001b[39m\u001b[92m+ Libmount_jll v2.35.0+0\u001b[39m\n",
      " \u001b[90m [89763e89] \u001b[39m\u001b[92m+ Libtiff_jll v4.4.0+0\u001b[39m\n",
      " \u001b[90m [38a345b3] \u001b[39m\u001b[92m+ Libuuid_jll v2.36.0+0\u001b[39m\n",
      " \u001b[90m [e7412a2a] \u001b[39m\u001b[92m+ Ogg_jll v1.3.5+1\u001b[39m\n",
      " \u001b[90m [458c3c95] \u001b[39m\u001b[92m+ OpenSSL_jll v1.1.19+0\u001b[39m\n",
      " \u001b[90m [91d4177d] \u001b[39m\u001b[92m+ Opus_jll v1.3.2+0\u001b[39m\n",
      " \u001b[90m [30392449] \u001b[39m\u001b[92m+ Pixman_jll v0.40.1+0\u001b[39m\n",
      " \u001b[90m [ea2cea3b] \u001b[39m\u001b[92m+ Qt5Base_jll v5.15.3+2\u001b[39m\n",
      " \u001b[90m [a2964d1f] \u001b[39m\u001b[92m+ Wayland_jll v1.21.0+0\u001b[39m\n",
      " \u001b[90m [2381bf8a] \u001b[39m\u001b[92m+ Wayland_protocols_jll v1.25.0+0\u001b[39m\n",
      " \u001b[90m [02c8fc9c] \u001b[39m\u001b[92m+ XML2_jll v2.10.3+0\u001b[39m\n",
      " \u001b[90m [aed1982a] \u001b[39m\u001b[92m+ XSLT_jll v1.1.34+0\u001b[39m\n",
      " \u001b[90m [4f6342f7] \u001b[39m\u001b[92m+ Xorg_libX11_jll v1.6.9+4\u001b[39m\n",
      " \u001b[90m [0c0b7dd1] \u001b[39m\u001b[92m+ Xorg_libXau_jll v1.0.9+4\u001b[39m\n",
      " \u001b[90m [935fb764] \u001b[39m\u001b[92m+ Xorg_libXcursor_jll v1.2.0+4\u001b[39m\n",
      " \u001b[90m [a3789734] \u001b[39m\u001b[92m+ Xorg_libXdmcp_jll v1.1.3+4\u001b[39m\n",
      " \u001b[90m [1082639a] \u001b[39m\u001b[92m+ Xorg_libXext_jll v1.3.4+4\u001b[39m\n",
      " \u001b[90m [d091e8ba] \u001b[39m\u001b[92m+ Xorg_libXfixes_jll v5.0.3+4\u001b[39m\n",
      " \u001b[90m [a51aa0fd] \u001b[39m\u001b[92m+ Xorg_libXi_jll v1.7.10+4\u001b[39m\n",
      " \u001b[90m [d1454406] \u001b[39m\u001b[92m+ Xorg_libXinerama_jll v1.1.4+4\u001b[39m\n",
      " \u001b[90m [ec84b674] \u001b[39m\u001b[92m+ Xorg_libXrandr_jll v1.5.2+4\u001b[39m\n",
      " \u001b[90m [ea2f1a96] \u001b[39m\u001b[92m+ Xorg_libXrender_jll v0.9.10+4\u001b[39m\n",
      " \u001b[90m [14d82f49] \u001b[39m\u001b[92m+ Xorg_libpthread_stubs_jll v0.1.0+3\u001b[39m\n",
      " \u001b[90m [c7cfdc94] \u001b[39m\u001b[92m+ Xorg_libxcb_jll v1.13.0+3\u001b[39m\n",
      " \u001b[90m [cc61e674] \u001b[39m\u001b[92m+ Xorg_libxkbfile_jll v1.1.0+4\u001b[39m\n",
      " \u001b[90m [12413925] \u001b[39m\u001b[92m+ Xorg_xcb_util_image_jll v0.4.0+1\u001b[39m\n",
      " \u001b[90m [2def613f] \u001b[39m\u001b[92m+ Xorg_xcb_util_jll v0.4.0+1\u001b[39m\n",
      " \u001b[90m [975044d2] \u001b[39m\u001b[92m+ Xorg_xcb_util_keysyms_jll v0.4.0+1\u001b[39m\n",
      " \u001b[90m [0d47668e] \u001b[39m\u001b[92m+ Xorg_xcb_util_renderutil_jll v0.3.9+1\u001b[39m\n",
      " \u001b[90m [c22f9ab0] \u001b[39m\u001b[92m+ Xorg_xcb_util_wm_jll v0.4.1+1\u001b[39m\n",
      " \u001b[90m [35661453] \u001b[39m\u001b[92m+ Xorg_xkbcomp_jll v1.4.2+4\u001b[39m\n",
      " \u001b[90m [33bec58e] \u001b[39m\u001b[92m+ Xorg_xkeyboard_config_jll v2.27.0+4\u001b[39m\n",
      " \u001b[90m [c5fb5394] \u001b[39m\u001b[92m+ Xorg_xtrans_jll v1.4.0+3\u001b[39m\n",
      " \u001b[90m [3161d3a3] \u001b[39m\u001b[92m+ Zstd_jll v1.5.2+0\u001b[39m\n",
      "\u001b[33m⌅\u001b[39m\u001b[90m [214eeab7] \u001b[39m\u001b[92m+ fzf_jll v0.29.0+0\u001b[39m\n",
      " \u001b[90m [a4ae2306] \u001b[39m\u001b[92m+ libaom_jll v3.4.0+0\u001b[39m\n",
      " \u001b[90m [0ac62f75] \u001b[39m\u001b[92m+ libass_jll v0.15.1+0\u001b[39m\n",
      " \u001b[90m [f638f0a6] \u001b[39m\u001b[92m+ libfdk_aac_jll v2.0.2+0\u001b[39m\n",
      " \u001b[90m [b53b4c65] \u001b[39m\u001b[92m+ libpng_jll v1.6.38+0\u001b[39m\n",
      " \u001b[90m [f27f6e37] \u001b[39m\u001b[92m+ libvorbis_jll v1.3.7+1\u001b[39m\n",
      " \u001b[90m [1270edf5] \u001b[39m\u001b[92m+ x264_jll v2021.5.5+0\u001b[39m\n",
      " \u001b[90m [dfaa095f] \u001b[39m\u001b[92m+ x265_jll v3.5.0+0\u001b[39m\n",
      " \u001b[90m [d8fb68d0] \u001b[39m\u001b[92m+ xkbcommon_jll v1.4.1+0\u001b[39m\n",
      " \u001b[90m [efcefdf7] \u001b[39m\u001b[92m+ PCRE2_jll v10.40.0+0\u001b[39m\n",
      "\u001b[36m\u001b[1m        Info\u001b[22m\u001b[39m Packages marked with \u001b[33m⌅\u001b[39m have new versions available but cannot be upgraded. To see why use `status --outdated -m`\n"
     ]
    },
    {
     "name": "stderr",
     "output_type": "stream",
     "text": [
      "\u001b[32m\u001b[1mPrecompiling\u001b[22m\u001b[39m "
     ]
    },
    {
     "name": "stderr",
     "output_type": "stream",
     "text": [
      "project...\n"
     ]
    },
    {
     "name": "stderr",
     "output_type": "stream",
     "text": [
      "\u001b[32m  ✓ \u001b[39m\u001b[90mStatsAPI\u001b[39m\n",
      "\u001b[32m  ✓ \u001b[39m\u001b[90mPipe\u001b[39m\n",
      "\u001b[32m  ✓ \u001b[39m\u001b[90mIniFile\u001b[39m\n",
      "\u001b[32m  ✓ \u001b[39m\u001b[90mTensorCore\u001b[39m\n",
      "\u001b[32m  ✓ \u001b[39m\u001b[90mContour\u001b[39m\n"
     ]
    },
    {
     "name": "stderr",
     "output_type": "stream",
     "text": [
      "\u001b[32m  ✓ \u001b[39m\u001b[90mMeasures\u001b[39m\n"
     ]
    },
    {
     "name": "stderr",
     "output_type": "stream",
     "text": [
      "\u001b[32m  ✓ \u001b[39m\u001b[90mUnzip\u001b[39m\n"
     ]
    },
    {
     "name": "stderr",
     "output_type": "stream",
     "text": [
      "\u001b[32m  ✓ \u001b[39m\u001b[90mGrisu\u001b[39m\n"
     ]
    },
    {
     "name": "stderr",
     "output_type": "stream",
     "text": [
      "\u001b[32m  ✓ \u001b[39m\u001b[90mPCRE2_jll\u001b[39m\n"
     ]
    },
    {
     "name": "stderr",
     "output_type": "stream",
     "text": [
      "\u001b[32m  ✓ \u001b[39m\u001b[90mSimpleBufferStream\u001b[39m\n"
     ]
    },
    {
     "name": "stderr",
     "output_type": "stream",
     "text": [
      "\u001b[32m  ✓ \u001b[39m\u001b[90mURIs\u001b[39m\n",
      "\u001b[32m  ✓ \u001b[39m\u001b[90mFormatting\u001b[39m\n",
      "\u001b[32m  ✓ \u001b[39m\u001b[90mUnicodeFun\u001b[39m\n",
      "\u001b[32m  ✓ \u001b[39m\u001b[90mDataAPI\u001b[39m\n",
      "\u001b[32m  ✓ \u001b[39m\u001b[90mBitFlags\u001b[39m\n",
      "\u001b[32m  ✓ \u001b[39m\u001b[90mScratch\u001b[39m\n",
      "\u001b[32m  ✓ \u001b[39m\u001b[90mLoggingExtras\u001b[39m\n"
     ]
    },
    {
     "name": "stderr",
     "output_type": "stream",
     "text": [
      "\u001b[32m  ✓ \u001b[39m\u001b[90mMbedTLS\u001b[39m\n"
     ]
    },
    {
     "name": "stderr",
     "output_type": "stream",
     "text": [
      "\u001b[32m  ✓ \u001b[39m\u001b[90mRecipesBase\u001b[39m\n",
      "\u001b[32m  ✓ \u001b[39m\u001b[90mXorg_libXau_jll\u001b[39m\n"
     ]
    },
    {
     "name": "stderr",
     "output_type": "stream",
     "text": [
      "\u001b[32m  ✓ \u001b[39m\u001b[90mLibmount_jll\u001b[39m\n",
      "\u001b[32m  ✓ \u001b[39m\u001b[90mLAME_jll\u001b[39m\n"
     ]
    },
    {
     "name": "stderr",
     "output_type": "stream",
     "text": [
      "\u001b[32m  ✓ \u001b[39m\u001b[90mOpenSSL_jll\u001b[39m\n",
      "\u001b[32m  ✓ \u001b[39m\u001b[90mGraphite2_jll\u001b[39m\n",
      "\u001b[32m  ✓ \u001b[39m\u001b[90mlibfdk_aac_jll\u001b[39m\n"
     ]
    },
    {
     "name": "stderr",
     "output_type": "stream",
     "text": [
      "\u001b[32m  ✓ \u001b[39m\u001b[90mlibpng_jll\u001b[39m\n"
     ]
    },
    {
     "name": "stderr",
     "output_type": "stream",
     "text": [
      "\u001b[32m  ✓ \u001b[39m\u001b[90mPixman_jll\u001b[39m\n"
     ]
    },
    {
     "name": "stderr",
     "output_type": "stream",
     "text": [
      "\u001b[32m  ✓ \u001b[39m\u001b[90mJpegTurbo_jll\u001b[39m\n"
     ]
    },
    {
     "name": "stderr",
     "output_type": "stream",
     "text": [
      "\u001b[32m  ✓ \u001b[39m\u001b[90mLERC_jll\u001b[39m\n"
     ]
    },
    {
     "name": "stderr",
     "output_type": "stream",
     "text": [
      "\u001b[32m  ✓ \u001b[39m\u001b[90mXorg_libXdmcp_jll\u001b[39m\n"
     ]
    },
    {
     "name": "stderr",
     "output_type": "stream",
     "text": [
      "\u001b[32m  ✓ \u001b[39m\u001b[90mfzf_jll\u001b[39m\n"
     ]
    },
    {
     "name": "stderr",
     "output_type": "stream",
     "text": [
      "\u001b[32m  ✓ \u001b[39m\u001b[90mlibaom_jll\u001b[39m\n",
      "\u001b[32m  ✓ \u001b[39m\u001b[90mx264_jll\u001b[39m\n"
     ]
    },
    {
     "name": "stderr",
     "output_type": "stream",
     "text": [
      "\u001b[32m  ✓ \u001b[39m\u001b[90mOgg_jll\u001b[39m\n"
     ]
    },
    {
     "name": "stderr",
     "output_type": "stream",
     "text": [
      "\u001b[32m  ✓ \u001b[39m\u001b[90mx265_jll\u001b[39m\n"
     ]
    },
    {
     "name": "stderr",
     "output_type": "stream",
     "text": [
      "\u001b[32m  ✓ \u001b[39m\u001b[90mLZO_jll\u001b[39m\n"
     ]
    },
    {
     "name": "stderr",
     "output_type": "stream",
     "text": [
      "\u001b[32m  ✓ \u001b[39m\u001b[90mXorg_xtrans_jll\u001b[39m\n",
      "\u001b[32m  ✓ \u001b[39m\u001b[90mZstd_jll\u001b[39m\n"
     ]
    },
    {
     "name": "stderr",
     "output_type": "stream",
     "text": [
      "\u001b[32m  ✓ \u001b[39m\u001b[90mOpus_jll\u001b[39m\n"
     ]
    },
    {
     "name": "stderr",
     "output_type": "stream",
     "text": [
      "\u001b[32m  ✓ \u001b[39m\u001b[90mExpat_jll\u001b[39m\n",
      "\u001b[32m  ✓ \u001b[39m\u001b[90mLibffi_jll\u001b[39m\n"
     ]
    },
    {
     "name": "stderr",
     "output_type": "stream",
     "text": [
      "\u001b[32m  ✓ \u001b[39m\u001b[90mLibgpg_error_jll\u001b[39m\n"
     ]
    },
    {
     "name": "stderr",
     "output_type": "stream",
     "text": [
      "\u001b[32m  ✓ \u001b[39m\u001b[90mLibiconv_jll\u001b[39m\n",
      "\u001b[32m  ✓ \u001b[39m\u001b[90mWayland_protocols_jll\u001b[39m\n"
     ]
    },
    {
     "name": "stderr",
     "output_type": "stream",
     "text": [
      "\u001b[32m  ✓ \u001b[39m\u001b[90mXorg_libpthread_stubs_jll\u001b[39m\n",
      "\u001b[32m  ✓ \u001b[39m\u001b[90mFriBidi_jll\u001b[39m\n",
      "\u001b[32m  ✓ \u001b[39m\u001b[90mLibuuid_jll\u001b[39m\n",
      "\u001b[32m  ✓ \u001b[39m\u001b[90mShowoff\u001b[39m\n",
      "\u001b[32m  ✓ \u001b[39m\u001b[90mMissings\u001b[39m\n"
     ]
    },
    {
     "name": "stderr",
     "output_type": "stream",
     "text": [
      "\u001b[32m  ✓ \u001b[39m\u001b[90mFreeType2_jll\u001b[39m\n",
      "\u001b[32m  ✓ \u001b[39m\u001b[90mSortingAlgorithms\u001b[39m\n"
     ]
    },
    {
     "name": "stderr",
     "output_type": "stream",
     "text": [
      "\u001b[32m  ✓ \u001b[39m\u001b[90mRelocatableFolders\u001b[39m\n"
     ]
    },
    {
     "name": "stderr",
     "output_type": "stream",
     "text": [
      "\u001b[32m  ✓ \u001b[39m\u001b[90mlibvorbis_jll\u001b[39m\n"
     ]
    },
    {
     "name": "stderr",
     "output_type": "stream",
     "text": [
      "\u001b[32m  ✓ \u001b[39m\u001b[90mLibtiff_jll\u001b[39m\n"
     ]
    },
    {
     "name": "stderr",
     "output_type": "stream",
     "text": [
      "\u001b[32m  ✓ \u001b[39m\u001b[90mJLFzf\u001b[39m\n"
     ]
    },
    {
     "name": "stderr",
     "output_type": "stream",
     "text": [
      "\u001b[32m  ✓ \u001b[39m\u001b[90mXML2_jll\u001b[39m\n"
     ]
    },
    {
     "name": "stderr",
     "output_type": "stream",
     "text": [
      "\u001b[32m  ✓ \u001b[39m\u001b[90mLibgcrypt_jll\u001b[39m\n"
     ]
    },
    {
     "name": "stderr",
     "output_type": "stream",
     "text": [
      "\u001b[32m  ✓ \u001b[39m\u001b[90mFontconfig_jll\u001b[39m\n"
     ]
    },
    {
     "name": "stderr",
     "output_type": "stream",
     "text": [
      "\u001b[32m  ✓ \u001b[39m\u001b[90mGettext_jll\u001b[39m\n"
     ]
    },
    {
     "name": "stderr",
     "output_type": "stream",
     "text": [
      "\u001b[32m  ✓ \u001b[39m\u001b[90mWayland_jll\u001b[39m\n"
     ]
    },
    {
     "name": "stderr",
     "output_type": "stream",
     "text": [
      "\u001b[32m  ✓ \u001b[39m\u001b[90mXSLT_jll\u001b[39m\n"
     ]
    },
    {
     "name": "stderr",
     "output_type": "stream",
     "text": [
      "\u001b[32m  ✓ \u001b[39m\u001b[90mGlib_jll\u001b[39m\n"
     ]
    },
    {
     "name": "stderr",
     "output_type": "stream",
     "text": [
      "\u001b[32m  ✓ \u001b[39m\u001b[90mXorg_libxcb_jll\u001b[39m\n"
     ]
    },
    {
     "name": "stderr",
     "output_type": "stream",
     "text": [
      "\u001b[32m  ✓ \u001b[39m\u001b[90mOpenSSL\u001b[39m\n"
     ]
    },
    {
     "name": "stderr",
     "output_type": "stream",
     "text": [
      "\u001b[32m  ✓ \u001b[39m\u001b[90mXorg_xcb_util_jll\u001b[39m\n"
     ]
    },
    {
     "name": "stderr",
     "output_type": "stream",
     "text": [
      "\u001b[32m  ✓ \u001b[39m\u001b[90mXorg_libX11_jll\u001b[39m\n"
     ]
    },
    {
     "name": "stderr",
     "output_type": "stream",
     "text": [
      "\u001b[32m  ✓ \u001b[39m\u001b[90mLatexify\u001b[39m\n"
     ]
    },
    {
     "name": "stderr",
     "output_type": "stream",
     "text": [
      "\u001b[32m  ✓ \u001b[39m\u001b[90mXorg_xcb_util_keysyms_jll\u001b[39m\n"
     ]
    },
    {
     "name": "stderr",
     "output_type": "stream",
     "text": [
      "\u001b[32m  ✓ \u001b[39m\u001b[90mXorg_xcb_util_renderutil_jll\u001b[39m\n"
     ]
    },
    {
     "name": "stderr",
     "output_type": "stream",
     "text": [
      "\u001b[32m  ✓ \u001b[39m\u001b[90mXorg_xcb_util_wm_jll\u001b[39m\n"
     ]
    },
    {
     "name": "stderr",
     "output_type": "stream",
     "text": [
      "\u001b[32m  ✓ \u001b[39m\u001b[90mXorg_libXrender_jll\u001b[39m\n"
     ]
    },
    {
     "name": "stderr",
     "output_type": "stream",
     "text": [
      "\u001b[32m  ✓ \u001b[39m\u001b[90mXorg_xcb_util_image_jll\u001b[39m\n"
     ]
    },
    {
     "name": "stderr",
     "output_type": "stream",
     "text": [
      "\u001b[32m  ✓ \u001b[39m\u001b[90mStatsBase\u001b[39m\n"
     ]
    },
    {
     "name": "stderr",
     "output_type": "stream",
     "text": [
      "\u001b[32m  ✓ \u001b[39m\u001b[90mXorg_libXext_jll\u001b[39m\n"
     ]
    },
    {
     "name": "stderr",
     "output_type": "stream",
     "text": [
      "\u001b[32m  ✓ \u001b[39m\u001b[90mXorg_libXfixes_jll\u001b[39m\n"
     ]
    },
    {
     "name": "stderr",
     "output_type": "stream",
     "text": [
      "\u001b[32m  ✓ \u001b[39m\u001b[90mXorg_libxkbfile_jll\u001b[39m\n"
     ]
    },
    {
     "name": "stderr",
     "output_type": "stream",
     "text": [
      "\u001b[32m  ✓ \u001b[39m\u001b[90mXorg_libXrandr_jll\u001b[39m\n"
     ]
    },
    {
     "name": "stderr",
     "output_type": "stream",
     "text": [
      "\u001b[32m  ✓ \u001b[39m\u001b[90mLibglvnd_jll\u001b[39m\n",
      "\u001b[32m  ✓ \u001b[39m\u001b[90mXorg_libXinerama_jll\u001b[39m\n"
     ]
    },
    {
     "name": "stderr",
     "output_type": "stream",
     "text": [
      "\u001b[32m  ✓ \u001b[39m\u001b[90mColorVectorSpace\u001b[39m\n"
     ]
    },
    {
     "name": "stderr",
     "output_type": "stream",
     "text": [
      "\u001b[32m  ✓ \u001b[39m\u001b[90mCairo_jll\u001b[39m\n"
     ]
    },
    {
     "name": "stderr",
     "output_type": "stream",
     "text": [
      "\u001b[32m  ✓ \u001b[39m\u001b[90mXorg_libXcursor_jll\u001b[39m\n"
     ]
    },
    {
     "name": "stderr",
     "output_type": "stream",
     "text": [
      "\u001b[32m  ✓ \u001b[39m\u001b[90mXorg_libXi_jll\u001b[39m\n"
     ]
    },
    {
     "name": "stderr",
     "output_type": "stream",
     "text": [
      "\u001b[32m  ✓ \u001b[39m\u001b[90mXorg_xkbcomp_jll\u001b[39m\n"
     ]
    },
    {
     "name": "stderr",
     "output_type": "stream",
     "text": [
      "\u001b[32m  ✓ \u001b[39m\u001b[90mHarfBuzz_jll\u001b[39m\n"
     ]
    },
    {
     "name": "stderr",
     "output_type": "stream",
     "text": [
      "\u001b[32m  ✓ \u001b[39m\u001b[90mGLFW_jll\u001b[39m\n"
     ]
    },
    {
     "name": "stderr",
     "output_type": "stream",
     "text": [
      "\u001b[32m  ✓ \u001b[39m\u001b[90mXorg_xkeyboard_config_jll\u001b[39m\n"
     ]
    },
    {
     "name": "stderr",
     "output_type": "stream",
     "text": [
      "\u001b[32m  ✓ \u001b[39m\u001b[90mlibass_jll\u001b[39m\n"
     ]
    },
    {
     "name": "stderr",
     "output_type": "stream",
     "text": [
      "\u001b[32m  ✓ \u001b[39m\u001b[90mxkbcommon_jll\u001b[39m\n"
     ]
    },
    {
     "name": "stderr",
     "output_type": "stream",
     "text": [
      "\u001b[32m  ✓ \u001b[39m\u001b[90mFFMPEG_jll\u001b[39m\n"
     ]
    },
    {
     "name": "stderr",
     "output_type": "stream",
     "text": [
      "\u001b[32m  ✓ \u001b[39m\u001b[90mQt5Base_jll\u001b[39m\n"
     ]
    },
    {
     "name": "stderr",
     "output_type": "stream",
     "text": [
      "\u001b[32m  ✓ \u001b[39m\u001b[90mFFMPEG\u001b[39m\n"
     ]
    },
    {
     "name": "stderr",
     "output_type": "stream",
     "text": [
      "\u001b[32m  ✓ \u001b[39m\u001b[90mHTTP\u001b[39m\n"
     ]
    },
    {
     "name": "stderr",
     "output_type": "stream",
     "text": [
      "\u001b[32m  ✓ \u001b[39m\u001b[90mGR_jll\u001b[39m\n"
     ]
    },
    {
     "name": "stderr",
     "output_type": "stream",
     "text": [
      "\u001b[32m  ✓ \u001b[39m\u001b[90mGR\u001b[39m\n"
     ]
    },
    {
     "name": "stderr",
     "output_type": "stream",
     "text": [
      "\u001b[32m  ✓ \u001b[39m\u001b[90mColorSchemes\u001b[39m\n"
     ]
    },
    {
     "name": "stderr",
     "output_type": "stream",
     "text": [
      "\u001b[32m  ✓ \u001b[39m\u001b[90mPlotUtils\u001b[39m\n"
     ]
    },
    {
     "name": "stderr",
     "output_type": "stream",
     "text": [
      "\u001b[32m  ✓ \u001b[39m\u001b[90mPlotThemes\u001b[39m\n"
     ]
    },
    {
     "name": "stderr",
     "output_type": "stream",
     "text": [
      "\u001b[32m  ✓ \u001b[39m\u001b[90mRecipesPipeline\u001b[39m\n"
     ]
    },
    {
     "name": "stderr",
     "output_type": "stream",
     "text": [
      "\u001b[32m  ✓ \u001b[39mPlots\n"
     ]
    },
    {
     "name": "stdout",
     "output_type": "stream",
     "text": [
      "\n",
      "******************************************************************************\n",
      "This program contains Ipopt, a library for large-scale nonlinear optimization.\n",
      " Ipopt is released as open source code under the Eclipse Public License (EPL).\n",
      "         For more information visit https://github.com/coin-or/Ipopt\n",
      "******************************************************************************\n",
      "\n",
      "This is Ipopt version 3.14.4, running with linear solver MUMPS 5.4.1.\n",
      "\n",
      "Number of nonzeros in equality constraint Jacobian...:        0\n",
      "Number of nonzeros in inequality constraint Jacobian.:        2\n",
      "Number of nonzeros in Lagrangian Hessian.............:        0\n",
      "\n"
     ]
    },
    {
     "name": "stderr",
     "output_type": "stream",
     "text": [
      "  100 dependencies successfully precompiled in 243 seconds. 62 already precompiled.\n"
     ]
    }
   ],
   "source": [
    "import Pkg\n",
    "Pkg.add(\"Plots\")"
   ]
  },
  {
   "attachments": {},
   "cell_type": "markdown",
   "metadata": {},
   "source": [
    "### COM361 &mdash; Introdução a Otimização &mdash; 2022, Prof. Amit ###\n",
    "\n",
    "# Otimização de Wifi #\n",
    "\n",
    "#### Pedro Henrique de Jesus Teixeira (pedroteixeir@poli.ufrj.br), Diego Nunes Gonçalves Freitas (diegongfreitas@poli.ufrj.br)\n",
    "\n",
    "*****\n",
    "\n",
    "### Índice\n",
    "\n",
    "1. [Introdução](#1.-Introdução)\n",
    "1. [Modelo Matemático](#2.-Modelo Mathemático)\n",
    "1. [Solução](#3.-Solução)\n",
    "1. [Resultados e Discussão](#4.-Resultados-e-discussão)\n",
    "  1. [Subseção Opcional](#4.A.-Acrescente-subseções-se-necessário)\n",
    "1. [Conclusão](#5.-Conclusão)\n",
    "1. [Referências bibliográficas] (#6.-Referências bibliográficas)"
   ]
  },
  {
   "cell_type": "markdown",
   "metadata": {
    "collapsed": true
   },
   "source": [
    "## 1. Introdução ##\n",
    "\n",
    "O projeto a ser apresentado ao longo desse relatório consiste em um mecânismo de otimização do posicionamento de um roteador wifi em um estabelecimento ou residência. Faremos isso porcurando o melhor ponto de instalação de um roteador objetivando a maximização da força do sinal que chega aos dispositivos conectados. \n",
    "\n",
    "É muito comum perceber cômodos de sua casa em que o sinal wifi chega muito enfraquecido ou simplesmente não chega, chamaremos essas regiões de Zonas Mortas. Denominamos de Zonas Críticas os cômodos nos quais há um dispositivo conectado a rede. Além de maximizar o sinal em cada dispositivo conectado precisamos, também, eliminar a possibilidade de formação de Zonas Mortas em Zonas Críticas. A complexidade dos cenários de teste do nosso algoritmo cresce gradualmente, conforme aumentamos a planta do imóvel e adicionamos fontes de interferência como espelhos, madeira, móveis metálicos, etc. \n",
    "\n",
    "O primeiro padrão de conexão wifi surgiu em 1997. Com o passar dos anos essa tecnologia se popularizou e, nos dias atuais, quase todo estabelecimento ou residência possui uma rede de internet via Wifi. Com a expansão dessa tecnologia suas qualidades e defeitos foram ficando mais evidentes. Um dos mais evidentes defeitos é a grande dependência do funcionamento ótimo da rede ao posicionamento do roteador wifi. Se mal posicionado em uma residência, o roteador pode acabar entregando, aos seus dispositivos conectados, porcentagens incrivelmente pequenas do sinal original. \n",
    "\n",
    "Nosso projeto tratará sobre redes [WLAN](https://pt.wikipedia.org/wiki/Rede_de_área_local_sem_fio), ou seja, redes de area local sem fio que usam ondas de rádio para fazer a conexão entre os dispositivos. Para fins de simplificação, os dados relacionados à perda de sinal ao longo da distância e por meio de interferências foram sintetizados e previamente estabelecidos.\n",
    "\n",
    "A partir desse ponto apresentaremos o desenvolvimento do projeto, começando pelo modelo matématico na seção 2. Em seguida, na seção 3, apresentamos nossa solução de otimização, desenvolvida em Julia 1.8.0, possível de ser rodada nesse notebook Jupyter. Na seção 4, evidenciamos nossos resultados para cada cenário, variando em graus de complexidade, através de plots simulando um ambiente de rede. Na seção 5, finalizamos a apresentação do projeto apresentando nossas conclusões acerca dos resultados obtidos e dos métodos utilizados, ressaltando aspectos passíveis de melhorias. Por fim, na seção 6, apresentamos as referencias biubliográficas utilizadas ao longo do desenvolvimento do projeto."
   ]
  },
  {
   "attachments": {},
   "cell_type": "markdown",
   "metadata": {},
   "source": [
    "## 2. Modelo matemático ##\n",
    "Para abordar melhor nosso problema representamos o ambiente do imóvel trabalhado como uma matriz $A_{mXn}$. Começaremos apresentando nossas variáveis\n",
    "de decisão. \n",
    "\n",
    "Denominamos $C_{ij}$, um posição da matriz em que há um dispositivo conectado a rede, sendo $c$ o número de dispositivos.\n",
    "\n",
    "Denominamos $R_{ij}$, uma posição da matriz em que há um roteador.\n",
    "\n",
    "O valor registrado em cada posição da matriz determinará o que esta presente naquele local da forma:\n",
    "$$\n",
    "a_{ij} = \n",
    "\\begin{cases}\n",
    "2, \\text{ caso haja um roteador naquele local}\\\\\n",
    "1, \\text{ caso haja um dispositivo conectato naquele local}\\\\\n",
    "0, \\text{ caso não haja nada relacionado a rede naquele local}\n",
    "\\end{cases}\n",
    "$$\n",
    "\n",
    "Sopomos então que, a distância $d$ entre um roteador e um dispositivo, dada por:\n",
    "$$\n",
    "d = R_{ij} - C_{ij}\n",
    "$$\n",
    "influencia linearmente na força $f_{ij}$ do sinal que chega ao dispositivo na posição ij, da seguinte forma.\n",
    "$$\n",
    "f_{ij} = 1 - 0.2d \n",
    "$$\n",
    "\n",
    "Primeiramente a posição de cada dispositivo sera dada aleatoriamente na matriz. \n",
    "\n",
    "Nosso objetivo será encontrar a posição para o roteador que maximize a soma das forças do sinal em cada dispositivo. \n",
    "\n",
    "Além disso, evitaremos grandes variações para a força do sinal em cada dispositivo, limitando o desvio padrão entre eles, sendo esse denominado $\\sigma_f$.\n",
    "\n",
    "Exemplificando o posicionamento ótimo de um roteador para um caso simples:\n",
    "$$\n",
    "\\begin{bmatrix}\n",
    "  1 & 0 & 0 & 2 & 0 & 0 & 1\\\\\n",
    "  0 & 0 & 0 & 0 & 0 & 0 & 0\\\\\n",
    "  0 & 0 & 0 & 0 & 0 & 0 & 0\\\\\n",
    "  0 & 0 & 0 & 0 & 0 & 0 & 0\\\\\n",
    "  0 & 0 & 0 & 0 & 0 & 0 & 0\\\\\n",
    "  0 & 0 & 0 & 0 & 0 & 0 & 0\\\\\n",
    "  0 & 0 & 0 & 0 & 0 & 0 & 0\n",
    "\\end{bmatrix}\n",
    "$$\n",
    "\n",
    "Dessa forma, nosso problema de otimização em forma padrão fica assim:\n",
    "$$\n",
    "\\begin{aligned}\n",
    "\\underset{x \\in \\mathbb{R^n}}{\\text{maximize}}\\qquad& \\sum_{k=0}^{c}{f_k(d)} \\\\\n",
    "\\text{sujeito a:}\\qquad& \\sigma_{f(d)} \\le 0,4\\\\\n",
    "& d > 0\n",
    "\\end{aligned}\n",
    "$$\n",
    "\n",
    "Vamos trabalhar ainda com casos em que há objetos no estabelecimento que causem interferência no sinal, gerando Zonas mortas. Para isso iremos alterar um pouco nosso cenário:\n",
    "\n",
    "$$\n",
    "a_{ij} = \n",
    "\\begin{cases}\n",
    "3, \\text{ caso haja uma fonte de interferência naquele local}\\\\\n",
    "2, \\text{ caso haja um roteador naquele local}\\\\\n",
    "1, \\text{ caso haja um dispositivo conectato naquele local}\\\\\n",
    "0, \\text{ caso não haja nada relacionado a rede naquele local}\n",
    "\\end{cases}\n",
    "$$\n",
    "\n",
    "Exemplificando, agora, o posicionamento ótimo de um roteador para um caso com interferência:\n",
    "\n",
    "Se mantivermos o roteador na mesma posição um dos dispositivos ficaria em uma zona morta\n",
    "$$\n",
    "\\begin{bmatrix}\n",
    "  1 & 0 & 0 & 2 & 3 & 0 & 1\\\\\n",
    "  0 & 0 & 0 & 0 & 3 & 0 & 0\\\\\n",
    "  0 & 0 & 0 & 0 & 0 & 0 & 0\\\\\n",
    "  0 & 0 & 0 & 0 & 0 & 0 & 0\\\\\n",
    "  0 & 0 & 0 & 0 & 0 & 0 & 0\\\\\n",
    "  0 & 0 & 0 & 0 & 0 & 0 & 0\\\\\n",
    "  0 & 0 & 0 & 0 & 0 & 0 & 0\n",
    "\\end{bmatrix}\n",
    "$$\n",
    "Para solucionar esse problema o roteador deve ser movido de forma a alterar a região de Zona morta, da seguinte forma:\n",
    "$$\n",
    "\\begin{bmatrix}\n",
    "  1 & 0 & 0 & 0 & 3 & 0 & 1\\\\\n",
    "  0 & 0 & 0 & 0 & 3 & 0 & 0\\\\\n",
    "  0 & 0 & 0 & 0 & 0 & 0 & 0\\\\\n",
    "  0 & 0 & 0 & 2 & 0 & 0 & 0\\\\\n",
    "  0 & 0 & 0 & 0 & 0 & 0 & 0\\\\\n",
    "  0 & 0 & 0 & 0 & 0 & 0 & 0\\\\\n",
    "  0 & 0 & 0 & 0 & 0 & 0 & 0\n",
    "\\end{bmatrix}\n",
    "$$\n",
    "\n",
    "Isso encerra o modelo matemático do nosso projeto. Em seguida apresentaremos nossa solução.\n",
    "\n"
   ]
  },
  {
   "attachments": {},
   "cell_type": "markdown",
   "metadata": {
    "collapsed": true
   },
   "source": [
    "## 3. Solução ##\n",
    "\n",
    "Nesta seção, coloque seu código em Julia + JuMP e resolva o problema proposto. Seu código deve ser limpo (não macarrônico!), de fácil leitura, bem comentado e anotado e deve compilar sem erros em Julia 1.x, x $\\geq 1$! Não valem códigos em outras linguagens. **Vou rodar seu código para avaliar seu projeto**. Sugiro a utilização de múltiplos blocos de códigos separados por blocos de texto (células Markdown) explicando as várias partes da sua solução. Sugiro também a resolução de várias versões do seu problema, com modelos e hipóteses diferentes.\n",
    "\n",
    "É permitido chamar pacotes externos, mas evite a utilização de bibliotecas exóticas (pois, em geral, não rodam em todas as versões de Julia, e terei que instalar a mesma versão que você usou, ou rodar na plataforma Google Colab, que gostaria de evitar)."
   ]
  },
  {
   "cell_type": "code",
   "execution_count": 42,
   "metadata": {},
   "outputs": [
    {
     "name": "stdout",
     "output_type": "stream",
     "text": [
      "This is Ipopt version 3.14.4, running with linear solver MUMPS 5.4.1.\n",
      "\n",
      "Number of nonzeros in equality constraint Jacobian...:        0\n",
      "Number of nonzeros in inequality constraint Jacobian.:        2\n",
      "Number of nonzeros in Lagrangian Hessian.............:        0\n",
      "\n",
      "Total number of variables............................:        2\n",
      "                     variables with only lower bounds:        0\n",
      "                variables with lower and upper bounds:        2\n",
      "                     variables with only upper bounds:        0\n",
      "Total number of equality constraints.................:        0\n",
      "Total number of inequality constraints...............:        1\n",
      "        inequality constraints with only lower bounds:        0\n",
      "   inequality constraints with lower and upper bounds:        0\n",
      "        inequality constraints with only upper bounds:        1\n",
      "\n",
      "iter    objective    inf_pr   inf_du lg(mu)  ||d||  lg(rg) alpha_du alpha_pr  ls\n",
      "   0  9.9717158e-01 6.05e-01 4.06e-02   0.0 0.00e+00    -  0.00e+00 0.00e+00   0\n",
      "   1  9.9690149e-01 6.05e-01 7.63e+00  -5.8 6.03e-01    -  1.45e-01 1.64e-02h  1\n",
      "   2  4.7682717e-01 6.37e-02 4.41e+01  -0.9 3.09e+00    -  1.78e-01 1.00e+00f  1\n",
      "   3  4.8786930e-01 6.03e-02 3.57e+01  -1.8 1.43e-01    -  8.72e-01 2.14e-01h  1\n",
      "   4  5.8613635e-01 0.00e+00 5.23e-01  -2.2 5.08e-01    -  1.00e+00 1.00e+00f  1\n",
      "   5  6.9516418e-01 0.00e+00 3.18e-01  -1.9 3.34e-01    -  9.64e-01 1.00e+00f  1\n",
      "   6  8.6823527e-01 5.14e-01 1.25e-01  -1.5 5.81e+00    -  3.20e-01 4.33e-01f  1\n",
      "   7  8.3019713e-01 4.87e-01 3.82e-01  -1.7 1.14e+00    -  1.00e+00 3.58e-01h  1\n",
      "   8  6.6584144e-01 2.34e-01 1.23e+00   0.3 1.43e+01    -  1.20e-01 2.26e-01f  1\n",
      "   9  8.4097148e-01 4.95e-01 1.45e-01  -0.5 3.86e+00    -  1.00e+00 1.00e+00f  1\n",
      "iter    objective    inf_pr   inf_du lg(mu)  ||d||  lg(rg) alpha_du alpha_pr  ls\n",
      "  10  8.1282792e-01 4.75e-01 1.07e+00  -1.2 5.73e-01    -  6.96e-01 2.65e-01h  1\n",
      "  11  1.8336528e-01 2.95e-02 5.70e-01  -1.0 3.51e+00    -  8.49e-01 8.68e-01h  1\n",
      "  12  5.4824738e-01 0.00e+00 4.75e-01  -1.0 9.50e-01    -  1.00e+00 1.00e+00f  1\n",
      "  13  7.6968388e-01 0.00e+00 6.69e-01  -1.7 7.00e-01    -  6.11e-01 1.00e+00f  1\n",
      "  14  1.0717951e+00 0.00e+00 4.75e-01  -1.5 5.73e+00    -  7.09e-01 2.00e-01f  2\n",
      "  15  1.0866161e+00 0.00e+00 2.65e-01  -1.9 1.48e+00    -  9.78e-01 4.88e-02f  5\n",
      "  16  1.0879645e+00 0.00e+00 4.70e-01  -1.6 8.75e-01    -  9.52e-01 7.81e-03h  8\n",
      "  17  0.0000000e+00 0.00e+00 8.84e-02  -2.0 1.03e+00    -  8.33e-01 1.00e+00H  1\n",
      "  18  0.0000000e+00 0.00e+00 1.27e-02  -2.1 7.22e-02    -  1.00e+00 1.00e+00h  1\n",
      "  19  0.0000000e+00 0.00e+00 2.23e-04  -4.3 8.49e-04    -  9.97e-01 1.00e+00f  1\n",
      "iter    objective    inf_pr   inf_du lg(mu)  ||d||  lg(rg) alpha_du alpha_pr  ls\n",
      "  20  0.0000000e+00 0.00e+00 2.59e-04  -4.2 1.20e-03    -  1.00e+00 1.00e+00f  1\n",
      "  21  0.0000000e+00 0.00e+00 1.99e-06  -6.3 1.99e-06    -  1.00e+00 1.00e+00f  1\n",
      "  22  0.0000000e+00 0.00e+00 3.96e-09  -9.0 3.96e-09    -  1.00e+00 1.00e+00f  1\n",
      "\n",
      "Number of Iterations....: 22\n",
      "\n",
      "                                   (scaled)                 (unscaled)\n",
      "Objective...............:  -0.0000000000000000e+00    0.0000000000000000e+00\n",
      "Dual infeasibility......:   3.9614647220901154e-09    3.9614647220901154e-09\n",
      "Constraint violation....:   0.0000000000000000e+00    0.0000000000000000e+00\n",
      "Variable bound violation:   0.0000000000000000e+00    0.0000000000000000e+00\n",
      "Complementarity.........:   9.0909138678113304e-10    9.0909138678113304e-10\n",
      "Overall NLP error.......:   3.9614647220901154e-09    3.9614647220901154e-09\n",
      "\n",
      "\n",
      "Number of objective function evaluations             = 48\n",
      "Number of objective gradient evaluations             = 23\n",
      "Number of equality constraint evaluations            = 0\n",
      "Number of inequality constraint evaluations          = 48\n",
      "Number of equality constraint Jacobian evaluations   = 0\n",
      "Number of inequality constraint Jacobian evaluations = 23\n",
      "Number of Lagrangian Hessian evaluations             = 0\n",
      "Total seconds in IPOPT                               = 0.514\n",
      "\n",
      "EXIT: Optimal Solution Found.\n",
      "x =0.2163589128044099\n",
      "y =2.8068405226779927\n"
     ]
    }
   ],
   "source": [
    "# Este nosso modelo matematico\n",
    "using JuMP, Ipopt, Statistics, LinearAlgebra, PolygonOps\n",
    "\n",
    "m = Model(Ipopt.Optimizer)\n",
    "apartamento = zeros(4,4)\n",
    "interferencias = false                                                  # esta é matriz que define o tamanho do apartamento\n",
    "interferencias = [ [[0,2] , [1,2]]]                                     # posições bidimensionais das interferencias\n",
    "dispositivos = [[0,0],[0,4]]\n",
    "decaimento = 0.2\n",
    "alcance = 1/decaimento\n",
    "\n",
    "function projection(x,y)\n",
    "    for interferencia in interferencias\n",
    "        u = [interferencia[1][1], interferencia[2][1]]\n",
    "        v = [interferencia[1][2], interferencia[2][2]]\n",
    "    \n",
    "        candidatop1x_1 = x + alcance*(u[1]-x)/(sqrt((u[1]-x)^2+(v[1]-y)^2))\n",
    "        candidatop1x_2 = x - alcance*(u[1]-x)/(sqrt((u[1]-x)^2+(v[1]-y)^2))\n",
    "        \n",
    "        if u[1]==x\n",
    "            proj_1x = x\n",
    "        elseif  u[1] < x \n",
    "            if candidatop1x_1 < u[1]\n",
    "                proj_1x = candidatop1x_1\n",
    "            else\n",
    "                proj_1x = candidatop1x_2\n",
    "            end \n",
    "        else\n",
    "            if candidatop1x_1 > u[1]\n",
    "                proj_1x = candidatop1x_1\n",
    "            else\n",
    "                proj_1x = candidatop1x_2\n",
    "            end\n",
    "        end\n",
    "        proj_1y = y + ((proj_1x-x)*(v[1]-y))/(u[1]-x)\n",
    "        proj_1 = [proj_1x,proj_1y]\n",
    "\n",
    "        candidatop2x_1 = x + alcance*(u[2]-x)/(sqrt((u[2]-x)^2+(v[2]-y)^2))\n",
    "        candidatop2x_2 = x - alcance*(u[2]-x)/(sqrt((u[2]-x)^2+(v[2]-y)^2))\n",
    "        \n",
    "        if u[2] == x\n",
    "            proj_2x = x\n",
    "        elseif  u[2] < x \n",
    "            if candidatop2x_1 < u[2]\n",
    "                proj_2x = candidatop2x_1\n",
    "            else\n",
    "                proj_2x = candidatop2x_2\n",
    "            end \n",
    "        else\n",
    "            if candidatop2x_1 > u[2]\n",
    "                proj_2x = candidatop2x_1\n",
    "            else\n",
    "                proj_2x = candidatop2x_2\n",
    "            end\n",
    "        end\n",
    "        proj_2y = y + ((proj_2x-x)*(v[2]-y))/(u[2]-x)\n",
    "        proj_2 = [proj_2x,proj_2y]\n",
    "        return proj_1, proj_2\n",
    "    end\n",
    "end\n",
    "\n",
    "function in_low_circle(x,y,x_dev,y_dev)\n",
    "    for interferencia in interferencias\n",
    "        proj_1, proj_2 = projection(x,y)\n",
    "        oa = [proj_1[1] - x, proj_1[2] - y, 0 ]\n",
    "        op = [x_dev - x, y_dev - y, 0   ]\n",
    "        ab = [proj_2[1] - proj_1[1], proj_2[2]- proj_1[2], 0]\n",
    "        ap = [x_dev - proj_1[1],  y_dev - proj_1[2], 0  ]\n",
    "        ob = [proj_2[1] - x,proj_2[2] - y, 0 ]\n",
    "        if cross(oa,op)[3] <=0 && cross(ab,ap)[3] >=0 && cross(ob,op)[3] >=0\n",
    "            return 1\n",
    "        end\n",
    "    end\n",
    "    return 0\n",
    "end\n",
    "\n",
    "function in_polygon(x,y,x_dev,y_dev)\n",
    "    for interferencia in interferencias\n",
    "        proj_1, proj_2 = projection(x,y)\n",
    "        if inpolygon([x_dev,y_dev],[interferencia[1],interferencia[2],proj_2,proj_1,interferencia[1]]) == 1\n",
    "            return 1\n",
    "        end\n",
    "    end\n",
    "    return 0\n",
    "end \n",
    "\n",
    "function force(x,y, std_dev)\n",
    "    forca = []\n",
    "    for i in dispositivos\n",
    "        distancia = sqrt((x-i[1])^2+(y-i[2])^2) # a distancia entre o roteador e os dispositivos ´pode ser calculado pela distancia euclidiana\n",
    "        f_= 1.0-decaimento*distancia                     # a forca do sinal definida pela funcao apresentada no modelo matematico\n",
    "        if f_ < 0.0\n",
    "            f_ = 0.0                              # não é possivel ter sinais negativos\n",
    "        else\n",
    "            if in_polygon(x,y,i[1],i[2]) == 1 \n",
    "                f_ = 0.0\n",
    "            #elseif in_low_circle(x,y,i[1],i[2]) == 1\n",
    "            #    f_ = 0.0\n",
    "            end\n",
    "        end\n",
    "        push!(forca,f_)\n",
    "    end\n",
    "    if std_dev == 1\n",
    "        return Statistics.std(forca)\n",
    "    # elseif std_dev == 2\n",
    "    #     for i in forca\n",
    "    #         mult = 1*forca[i]\n",
    "    #         print(\"multiplicação de forças: \", mult)\n",
    "    #         return mult\n",
    "    #     end\n",
    "    elseif std_dev == -1\n",
    "        return forca\n",
    "    else\n",
    "        return sum(forca)\n",
    "    end\n",
    "end\n",
    "\n",
    "register(m, :force, 3, force, autodiff=true)\n",
    "@variable(m, 0 <= x <= size(apartamento)[1])                            # as posições devem ser positivas\n",
    "@variable(m, 0 <= y <= size(apartamento)[2])                            # as posições devem ser positivas e os roteadores da matriz não podem ser posicionados fora dos limites do apartamento\n",
    "@NLconstraint(m, force(x,y,1)<= 0.1)\n",
    "#@NLconstraint(m, force(x,y,2) != 0)\n",
    "@NLobjective(m, Max, force(x,y,0))                 # queremos maximizar a soma do sinal de wifi\n",
    "\n",
    "optimize!(m)\n",
    "\n",
    "println(\"x =\", JuMP.value.(x))     # imprime o resultado na tela\n",
    "println(\"y =\", JuMP.value.(y))     # imprime o resultado na tela\n"
   ]
  },
  {
   "cell_type": "markdown",
   "metadata": {},
   "source": [
    "**Tenha certeza de que seu código compila corretamente! Rodarei seu código!**"
   ]
  },
  {
   "attachments": {},
   "cell_type": "markdown",
   "metadata": {
    "collapsed": true
   },
   "source": [
    "## 4. Resultados e discussão ##\n",
    "\n",
    "Neste seção, os resultados obtidos serão exibidos e discutidos. Mostre figuras, gráficos, imagens, curvas de compromisso, e o que mais puder melhor ilustrar seus resultados. A discussão deverá explicar o que significam os resultados e como interpretá-los. As limitações da sua abordagem/modelo também devem ser colocadas, bem como uma análise da sensibilidade dos resultados em relação às hipóteses feitas.\n",
    "\n",
    "\n",
    "Utilize plots (veja exemplos  `PyPlot` [aqui](https://gist.github.com/gizmaa/7214002))\n",
    "\n",
    "Aqui está um exemplo de uma tabela (em Markdown):\n",
    "\n",
    "| Tabelas        | São           | Boas  |\n",
    "| ------------- |:-------------:| -----:|\n",
    "| col 3 é      | alinhado à direita |\\$1600 |\n",
    "| col 2 é      | centrado      |  \\$12 |\n",
    "| texto | também serve      |   \\$1 |\n",
    "\n",
    "### 4.A. Modelo visual da posição dos objetos\n"
   ]
  },
  {
   "cell_type": "code",
   "execution_count": 43,
   "metadata": {},
   "outputs": [
    {
     "data": {
      "image/svg+xml": "<?xml version=\"1.0\" encoding=\"utf-8\"?>\n<svg xmlns=\"http://www.w3.org/2000/svg\" xmlns:xlink=\"http://www.w3.org/1999/xlink\" width=\"600\" height=\"400\" viewBox=\"0 0 2400 1600\">\n<defs>\n  <clipPath id=\"clip240\">\n    <rect x=\"0\" y=\"0\" width=\"2400\" height=\"1600\"/>\n  </clipPath>\n</defs>\n<path clip-path=\"url(#clip240)\" d=\"\nM0 1600 L2400 1600 L2400 0 L0 0  Z\n  \" fill=\"#ffffff\" fill-rule=\"evenodd\" fill-opacity=\"1\"/>\n<defs>\n  <clipPath id=\"clip241\">\n    <rect x=\"480\" y=\"0\" width=\"1681\" height=\"1600\"/>\n  </clipPath>\n</defs>\n<path clip-path=\"url(#clip240)\" d=\"\nM112.177 1486.45 L2352.76 1486.45 L2352.76 47.2441 L112.177 47.2441  Z\n  \" fill=\"#ffffff\" fill-rule=\"evenodd\" fill-opacity=\"1\"/>\n<defs>\n  <clipPath id=\"clip242\">\n    <rect x=\"112\" y=\"47\" width=\"2242\" height=\"1440\"/>\n  </clipPath>\n</defs>\n<polyline clip-path=\"url(#clip242)\" style=\"stroke:#000000; stroke-linecap:round; stroke-linejoin:round; stroke-width:2; stroke-opacity:0.1; fill:none\" points=\"\n  175.59,1486.45 175.59,47.2441 \n  \"/>\n<polyline clip-path=\"url(#clip242)\" style=\"stroke:#000000; stroke-linecap:round; stroke-linejoin:round; stroke-width:2; stroke-opacity:0.1; fill:none\" points=\"\n  704.028,1486.45 704.028,47.2441 \n  \"/>\n<polyline clip-path=\"url(#clip242)\" style=\"stroke:#000000; stroke-linecap:round; stroke-linejoin:round; stroke-width:2; stroke-opacity:0.1; fill:none\" points=\"\n  1232.47,1486.45 1232.47,47.2441 \n  \"/>\n<polyline clip-path=\"url(#clip242)\" style=\"stroke:#000000; stroke-linecap:round; stroke-linejoin:round; stroke-width:2; stroke-opacity:0.1; fill:none\" points=\"\n  1760.9,1486.45 1760.9,47.2441 \n  \"/>\n<polyline clip-path=\"url(#clip242)\" style=\"stroke:#000000; stroke-linecap:round; stroke-linejoin:round; stroke-width:2; stroke-opacity:0.1; fill:none\" points=\"\n  2289.34,1486.45 2289.34,47.2441 \n  \"/>\n<polyline clip-path=\"url(#clip240)\" style=\"stroke:#000000; stroke-linecap:round; stroke-linejoin:round; stroke-width:4; stroke-opacity:1; fill:none\" points=\"\n  112.177,1486.45 2352.76,1486.45 \n  \"/>\n<polyline clip-path=\"url(#clip240)\" style=\"stroke:#000000; stroke-linecap:round; stroke-linejoin:round; stroke-width:4; stroke-opacity:1; fill:none\" points=\"\n  175.59,1486.45 175.59,1467.55 \n  \"/>\n<polyline clip-path=\"url(#clip240)\" style=\"stroke:#000000; stroke-linecap:round; stroke-linejoin:round; stroke-width:4; stroke-opacity:1; fill:none\" points=\"\n  704.028,1486.45 704.028,1467.55 \n  \"/>\n<polyline clip-path=\"url(#clip240)\" style=\"stroke:#000000; stroke-linecap:round; stroke-linejoin:round; stroke-width:4; stroke-opacity:1; fill:none\" points=\"\n  1232.47,1486.45 1232.47,1467.55 \n  \"/>\n<polyline clip-path=\"url(#clip240)\" style=\"stroke:#000000; stroke-linecap:round; stroke-linejoin:round; stroke-width:4; stroke-opacity:1; fill:none\" points=\"\n  1760.9,1486.45 1760.9,1467.55 \n  \"/>\n<polyline clip-path=\"url(#clip240)\" style=\"stroke:#000000; stroke-linecap:round; stroke-linejoin:round; stroke-width:4; stroke-opacity:1; fill:none\" points=\"\n  2289.34,1486.45 2289.34,1467.55 \n  \"/>\n<path clip-path=\"url(#clip240)\" d=\"M175.59 1517.37 Q171.979 1517.37 170.15 1520.93 Q168.344 1524.47 168.344 1531.6 Q168.344 1538.71 170.15 1542.27 Q171.979 1545.82 175.59 1545.82 Q179.224 1545.82 181.03 1542.27 Q182.858 1538.71 182.858 1531.6 Q182.858 1524.47 181.03 1520.93 Q179.224 1517.37 175.59 1517.37 M175.59 1513.66 Q181.4 1513.66 184.455 1518.27 Q187.534 1522.85 187.534 1531.6 Q187.534 1540.33 184.455 1544.94 Q181.4 1549.52 175.59 1549.52 Q169.78 1549.52 166.701 1544.94 Q163.645 1540.33 163.645 1531.6 Q163.645 1522.85 166.701 1518.27 Q169.78 1513.66 175.59 1513.66 Z\" fill=\"#000000\" fill-rule=\"evenodd\" fill-opacity=\"1\" /><path clip-path=\"url(#clip240)\" d=\"M694.41 1544.91 L702.049 1544.91 L702.049 1518.55 L693.739 1520.21 L693.739 1515.95 L702.003 1514.29 L706.679 1514.29 L706.679 1544.91 L714.317 1544.91 L714.317 1548.85 L694.41 1548.85 L694.41 1544.91 Z\" fill=\"#000000\" fill-rule=\"evenodd\" fill-opacity=\"1\" /><path clip-path=\"url(#clip240)\" d=\"M1227.12 1544.91 L1243.44 1544.91 L1243.44 1548.85 L1221.49 1548.85 L1221.49 1544.91 Q1224.16 1542.16 1228.74 1537.53 Q1233.35 1532.88 1234.53 1531.53 Q1236.77 1529.01 1237.65 1527.27 Q1238.55 1525.51 1238.55 1523.82 Q1238.55 1521.07 1236.61 1519.33 Q1234.69 1517.6 1231.59 1517.6 Q1229.39 1517.6 1226.93 1518.36 Q1224.5 1519.13 1221.73 1520.68 L1221.73 1515.95 Q1224.55 1514.82 1227 1514.24 Q1229.46 1513.66 1231.49 1513.66 Q1236.86 1513.66 1240.06 1516.35 Q1243.25 1519.03 1243.25 1523.52 Q1243.25 1525.65 1242.44 1527.57 Q1241.66 1529.47 1239.55 1532.07 Q1238.97 1532.74 1235.87 1535.95 Q1232.77 1539.15 1227.12 1544.91 Z\" fill=\"#000000\" fill-rule=\"evenodd\" fill-opacity=\"1\" /><path clip-path=\"url(#clip240)\" d=\"M1765.15 1530.21 Q1768.51 1530.93 1770.38 1533.2 Q1772.28 1535.47 1772.28 1538.8 Q1772.28 1543.92 1768.76 1546.72 Q1765.25 1549.52 1758.76 1549.52 Q1756.59 1549.52 1754.27 1549.08 Q1751.98 1548.66 1749.53 1547.81 L1749.53 1543.29 Q1751.47 1544.43 1753.79 1545.01 Q1756.1 1545.58 1758.62 1545.58 Q1763.02 1545.58 1765.31 1543.85 Q1767.63 1542.11 1767.63 1538.8 Q1767.63 1535.75 1765.48 1534.03 Q1763.35 1532.3 1759.53 1532.3 L1755.5 1532.3 L1755.5 1528.45 L1759.71 1528.45 Q1763.16 1528.45 1764.99 1527.09 Q1766.82 1525.7 1766.82 1523.11 Q1766.82 1520.45 1764.92 1519.03 Q1763.05 1517.6 1759.53 1517.6 Q1757.61 1517.6 1755.41 1518.01 Q1753.21 1518.43 1750.57 1519.31 L1750.57 1515.14 Q1753.23 1514.4 1755.55 1514.03 Q1757.88 1513.66 1759.94 1513.66 Q1765.27 1513.66 1768.37 1516.09 Q1771.47 1518.5 1771.47 1522.62 Q1771.47 1525.49 1769.83 1527.48 Q1768.18 1529.45 1765.15 1530.21 Z\" fill=\"#000000\" fill-rule=\"evenodd\" fill-opacity=\"1\" /><path clip-path=\"url(#clip240)\" d=\"M2292.35 1518.36 L2280.55 1536.81 L2292.35 1536.81 L2292.35 1518.36 M2291.13 1514.29 L2297.01 1514.29 L2297.01 1536.81 L2301.94 1536.81 L2301.94 1540.7 L2297.01 1540.7 L2297.01 1548.85 L2292.35 1548.85 L2292.35 1540.7 L2276.75 1540.7 L2276.75 1536.19 L2291.13 1514.29 Z\" fill=\"#000000\" fill-rule=\"evenodd\" fill-opacity=\"1\" /><polyline clip-path=\"url(#clip242)\" style=\"stroke:#000000; stroke-linecap:round; stroke-linejoin:round; stroke-width:2; stroke-opacity:0.1; fill:none\" points=\"\n  112.177,1445.72 2352.76,1445.72 \n  \"/>\n<polyline clip-path=\"url(#clip242)\" style=\"stroke:#000000; stroke-linecap:round; stroke-linejoin:round; stroke-width:2; stroke-opacity:0.1; fill:none\" points=\"\n  112.177,1106.28 2352.76,1106.28 \n  \"/>\n<polyline clip-path=\"url(#clip242)\" style=\"stroke:#000000; stroke-linecap:round; stroke-linejoin:round; stroke-width:2; stroke-opacity:0.1; fill:none\" points=\"\n  112.177,766.846 2352.76,766.846 \n  \"/>\n<polyline clip-path=\"url(#clip242)\" style=\"stroke:#000000; stroke-linecap:round; stroke-linejoin:round; stroke-width:2; stroke-opacity:0.1; fill:none\" points=\"\n  112.177,427.411 2352.76,427.411 \n  \"/>\n<polyline clip-path=\"url(#clip242)\" style=\"stroke:#000000; stroke-linecap:round; stroke-linejoin:round; stroke-width:2; stroke-opacity:0.1; fill:none\" points=\"\n  112.177,87.9763 2352.76,87.9763 \n  \"/>\n<polyline clip-path=\"url(#clip240)\" style=\"stroke:#000000; stroke-linecap:round; stroke-linejoin:round; stroke-width:4; stroke-opacity:1; fill:none\" points=\"\n  112.177,1486.45 112.177,47.2441 \n  \"/>\n<polyline clip-path=\"url(#clip240)\" style=\"stroke:#000000; stroke-linecap:round; stroke-linejoin:round; stroke-width:4; stroke-opacity:1; fill:none\" points=\"\n  112.177,1445.72 131.075,1445.72 \n  \"/>\n<polyline clip-path=\"url(#clip240)\" style=\"stroke:#000000; stroke-linecap:round; stroke-linejoin:round; stroke-width:4; stroke-opacity:1; fill:none\" points=\"\n  112.177,1106.28 131.075,1106.28 \n  \"/>\n<polyline clip-path=\"url(#clip240)\" style=\"stroke:#000000; stroke-linecap:round; stroke-linejoin:round; stroke-width:4; stroke-opacity:1; fill:none\" points=\"\n  112.177,766.846 131.075,766.846 \n  \"/>\n<polyline clip-path=\"url(#clip240)\" style=\"stroke:#000000; stroke-linecap:round; stroke-linejoin:round; stroke-width:4; stroke-opacity:1; fill:none\" points=\"\n  112.177,427.411 131.075,427.411 \n  \"/>\n<polyline clip-path=\"url(#clip240)\" style=\"stroke:#000000; stroke-linecap:round; stroke-linejoin:round; stroke-width:4; stroke-opacity:1; fill:none\" points=\"\n  112.177,87.9763 131.075,87.9763 \n  \"/>\n<path clip-path=\"url(#clip240)\" d=\"M64.2328 1431.51 Q60.6217 1431.51 58.793 1435.08 Q56.9875 1438.62 56.9875 1445.75 Q56.9875 1452.86 58.793 1456.42 Q60.6217 1459.96 64.2328 1459.96 Q67.867 1459.96 69.6726 1456.42 Q71.5013 1452.86 71.5013 1445.75 Q71.5013 1438.62 69.6726 1435.08 Q67.867 1431.51 64.2328 1431.51 M64.2328 1427.81 Q70.0429 1427.81 73.0985 1432.42 Q76.1772 1437 76.1772 1445.75 Q76.1772 1454.48 73.0985 1459.08 Q70.0429 1463.67 64.2328 1463.67 Q58.4226 1463.67 55.344 1459.08 Q52.2884 1454.48 52.2884 1445.75 Q52.2884 1437 55.344 1432.42 Q58.4226 1427.81 64.2328 1427.81 Z\" fill=\"#000000\" fill-rule=\"evenodd\" fill-opacity=\"1\" /><path clip-path=\"url(#clip240)\" d=\"M56.2699 1119.63 L63.9087 1119.63 L63.9087 1093.26 L55.5986 1094.93 L55.5986 1090.67 L63.8624 1089 L68.5383 1089 L68.5383 1119.63 L76.1772 1119.63 L76.1772 1123.56 L56.2699 1123.56 L56.2699 1119.63 Z\" fill=\"#000000\" fill-rule=\"evenodd\" fill-opacity=\"1\" /><path clip-path=\"url(#clip240)\" d=\"M59.8578 780.191 L76.1772 780.191 L76.1772 784.126 L54.2328 784.126 L54.2328 780.191 Q56.8949 777.436 61.4782 772.807 Q66.0846 768.154 67.2652 766.811 Q69.5105 764.288 70.3902 762.552 Q71.2929 760.793 71.2929 759.103 Q71.2929 756.348 69.3485 754.612 Q67.4272 752.876 64.3254 752.876 Q62.1263 752.876 59.6726 753.64 Q57.2421 754.404 54.4643 755.955 L54.4643 751.233 Q57.2884 750.098 59.7421 749.52 Q62.1958 748.941 64.2328 748.941 Q69.6031 748.941 72.7976 751.626 Q75.992 754.311 75.992 758.802 Q75.992 760.932 75.1818 762.853 Q74.3948 764.751 72.2883 767.344 Q71.7096 768.015 68.6078 771.233 Q65.5059 774.427 59.8578 780.191 Z\" fill=\"#000000\" fill-rule=\"evenodd\" fill-opacity=\"1\" /><path clip-path=\"url(#clip240)\" d=\"M69.0476 426.057 Q72.404 426.775 74.279 429.043 Q76.1772 431.312 76.1772 434.645 Q76.1772 439.761 72.6587 442.562 Q69.1402 445.362 62.6587 445.362 Q60.4828 445.362 58.168 444.923 Q55.8764 444.506 53.4227 443.649 L53.4227 439.136 Q55.3671 440.27 57.6819 440.849 Q59.9967 441.427 62.5198 441.427 Q66.918 441.427 69.2096 439.691 Q71.5244 437.955 71.5244 434.645 Q71.5244 431.589 69.3717 429.876 Q67.242 428.14 63.4226 428.14 L59.3949 428.14 L59.3949 424.298 L63.6078 424.298 Q67.0569 424.298 68.8855 422.932 Q70.7142 421.543 70.7142 418.951 Q70.7142 416.289 68.8161 414.876 Q66.9411 413.441 63.4226 413.441 Q61.5013 413.441 59.3023 413.858 Q57.1032 414.275 54.4643 415.154 L54.4643 410.988 Q57.1264 410.247 59.4412 409.877 Q61.7791 409.506 63.8393 409.506 Q69.1633 409.506 72.2652 411.937 Q75.367 414.344 75.367 418.464 Q75.367 421.335 73.7235 423.326 Q72.08 425.293 69.0476 426.057 Z\" fill=\"#000000\" fill-rule=\"evenodd\" fill-opacity=\"1\" /><path clip-path=\"url(#clip240)\" d=\"M66.5939 74.7703 L54.7884 93.2193 L66.5939 93.2193 L66.5939 74.7703 M65.367 70.6963 L71.2466 70.6963 L71.2466 93.2193 L76.1772 93.2193 L76.1772 97.1082 L71.2466 97.1082 L71.2466 105.256 L66.5939 105.256 L66.5939 97.1082 L50.9921 97.1082 L50.9921 92.5943 L65.367 70.6963 Z\" fill=\"#000000\" fill-rule=\"evenodd\" fill-opacity=\"1\" /><path clip-path=\"url(#clip242)\" d=\"\nM175.59 1445.72 L2289.34 1445.72 L2289.34 87.9763 L175.59 87.9763 L175.59 1445.72  Z\n  \" fill=\"#009af9\" fill-rule=\"evenodd\" fill-opacity=\"0.2\"/>\n<polyline clip-path=\"url(#clip242)\" style=\"stroke:#000000; stroke-linecap:round; stroke-linejoin:round; stroke-width:4; stroke-opacity:0.2; fill:none\" points=\"\n  175.59,1445.72 2289.34,1445.72 2289.34,87.9763 175.59,87.9763 175.59,1445.72 \n  \"/>\n<circle clip-path=\"url(#clip242)\" cx=\"175.59\" cy=\"1445.72\" r=\"14.4\" fill=\"#e26f46\" fill-rule=\"evenodd\" fill-opacity=\"1\" stroke=\"#000000\" stroke-opacity=\"1\" stroke-width=\"3.2\"/>\n<circle clip-path=\"url(#clip242)\" cx=\"175.59\" cy=\"87.9763\" r=\"14.4\" fill=\"#3da44d\" fill-rule=\"evenodd\" fill-opacity=\"1\" stroke=\"#000000\" stroke-opacity=\"1\" stroke-width=\"3.2\"/>\n<circle clip-path=\"url(#clip242)\" cx=\"175.59\" cy=\"766.846\" r=\"14.4\" fill=\"#c271d2\" fill-rule=\"evenodd\" fill-opacity=\"1\" stroke=\"#000000\" stroke-opacity=\"1\" stroke-width=\"3.2\"/>\n<circle clip-path=\"url(#clip242)\" cx=\"704.028\" cy=\"766.846\" r=\"14.4\" fill=\"#c271d2\" fill-rule=\"evenodd\" fill-opacity=\"1\" stroke=\"#000000\" stroke-opacity=\"1\" stroke-width=\"3.2\"/>\n<polyline clip-path=\"url(#clip242)\" style=\"stroke:#ac8d18; stroke-linecap:round; stroke-linejoin:round; stroke-width:4; stroke-opacity:1; fill:none\" points=\"\n  175.59,766.846 704.028,766.846 \n  \"/>\n<circle clip-path=\"url(#clip242)\" cx=\"289.922\" cy=\"492.976\" r=\"14.4\" fill=\"#00a9ad\" fill-rule=\"evenodd\" fill-opacity=\"1\" stroke=\"#000000\" stroke-opacity=\"1\" stroke-width=\"3.2\"/>\n<path clip-path=\"url(#clip240)\" d=\"\nM1745.29 458.098 L2278.07 458.098 L2278.07 95.2176 L1745.29 95.2176  Z\n  \" fill=\"#ffffff\" fill-rule=\"evenodd\" fill-opacity=\"1\"/>\n<polyline clip-path=\"url(#clip240)\" style=\"stroke:#000000; stroke-linecap:round; stroke-linejoin:round; stroke-width:4; stroke-opacity:1; fill:none\" points=\"\n  1745.29,458.098 2278.07,458.098 2278.07,95.2176 1745.29,95.2176 1745.29,458.098 \n  \"/>\n<path clip-path=\"url(#clip240)\" d=\"\nM1770.18 167.794 L1919.55 167.794 L1919.55 126.322 L1770.18 126.322 L1770.18 167.794  Z\n  \" fill=\"#009af9\" fill-rule=\"evenodd\" fill-opacity=\"0.2\"/>\n<polyline clip-path=\"url(#clip240)\" style=\"stroke:#000000; stroke-linecap:round; stroke-linejoin:round; stroke-width:4; stroke-opacity:1; fill:none\" points=\"\n  1770.18,167.794 1919.55,167.794 1919.55,126.322 1770.18,126.322 1770.18,167.794 \n  \"/>\n<path clip-path=\"url(#clip240)\" d=\"M1960.28 134.384 L1953.94 151.583 L1966.65 151.583 L1960.28 134.384 M1957.64 129.778 L1962.94 129.778 L1976.12 164.338 L1971.25 164.338 L1968.11 155.472 L1952.53 155.472 L1949.38 164.338 L1944.45 164.338 L1957.64 129.778 Z\" fill=\"#000000\" fill-rule=\"evenodd\" fill-opacity=\"1\" /><path clip-path=\"url(#clip240)\" d=\"M1985.1 160.449 L1985.1 174.199 L1980.81 174.199 L1980.81 138.412 L1985.1 138.412 L1985.1 142.347 Q1986.44 140.032 1988.48 138.921 Q1990.54 137.787 1993.38 137.787 Q1998.11 137.787 2001.05 141.537 Q2004.01 145.287 2004.01 151.398 Q2004.01 157.509 2001.05 161.259 Q1998.11 165.009 1993.38 165.009 Q1990.54 165.009 1988.48 163.898 Q1986.44 162.763 1985.1 160.449 M1999.59 151.398 Q1999.59 146.699 1997.64 144.037 Q1995.72 141.352 1992.34 141.352 Q1988.96 141.352 1987.02 144.037 Q1985.1 146.699 1985.1 151.398 Q1985.1 156.097 1987.02 158.782 Q1988.96 161.444 1992.34 161.444 Q1995.72 161.444 1997.64 158.782 Q1999.59 156.097 1999.59 151.398 Z\" fill=\"#000000\" fill-rule=\"evenodd\" fill-opacity=\"1\" /><path clip-path=\"url(#clip240)\" d=\"M2022.85 151.305 Q2017.69 151.305 2015.7 152.486 Q2013.71 153.666 2013.71 156.514 Q2013.71 158.782 2015.19 160.125 Q2016.69 161.444 2019.26 161.444 Q2022.81 161.444 2024.94 158.944 Q2027.09 156.421 2027.09 152.254 L2027.09 151.305 L2022.85 151.305 M2031.35 149.546 L2031.35 164.338 L2027.09 164.338 L2027.09 160.402 Q2025.63 162.763 2023.45 163.898 Q2021.28 165.009 2018.13 165.009 Q2014.15 165.009 2011.79 162.787 Q2009.45 160.541 2009.45 156.791 Q2009.45 152.416 2012.37 150.194 Q2015.31 147.972 2021.12 147.972 L2027.09 147.972 L2027.09 147.555 Q2027.09 144.615 2025.14 143.018 Q2023.22 141.398 2019.73 141.398 Q2017.5 141.398 2015.4 141.93 Q2013.29 142.463 2011.35 143.527 L2011.35 139.592 Q2013.69 138.69 2015.88 138.25 Q2018.08 137.787 2020.17 137.787 Q2025.79 137.787 2028.57 140.703 Q2031.35 143.62 2031.35 149.546 Z\" fill=\"#000000\" fill-rule=\"evenodd\" fill-opacity=\"1\" /><path clip-path=\"url(#clip240)\" d=\"M2055.14 142.393 Q2054.43 141.977 2053.57 141.791 Q2052.74 141.583 2051.72 141.583 Q2048.11 141.583 2046.16 143.944 Q2044.24 146.282 2044.24 150.68 L2044.24 164.338 L2039.96 164.338 L2039.96 138.412 L2044.24 138.412 L2044.24 142.44 Q2045.58 140.078 2047.74 138.944 Q2049.89 137.787 2052.97 137.787 Q2053.41 137.787 2053.94 137.856 Q2054.47 137.903 2055.12 138.018 L2055.14 142.393 Z\" fill=\"#000000\" fill-rule=\"evenodd\" fill-opacity=\"1\" /><path clip-path=\"url(#clip240)\" d=\"M2063.82 131.051 L2063.82 138.412 L2072.6 138.412 L2072.6 141.722 L2063.82 141.722 L2063.82 155.796 Q2063.82 158.967 2064.68 159.87 Q2065.56 160.773 2068.22 160.773 L2072.6 160.773 L2072.6 164.338 L2068.22 164.338 Q2063.29 164.338 2061.42 162.509 Q2059.54 160.657 2059.54 155.796 L2059.54 141.722 L2056.42 141.722 L2056.42 138.412 L2059.54 138.412 L2059.54 131.051 L2063.82 131.051 Z\" fill=\"#000000\" fill-rule=\"evenodd\" fill-opacity=\"1\" /><path clip-path=\"url(#clip240)\" d=\"M2089.98 151.305 Q2084.82 151.305 2082.83 152.486 Q2080.84 153.666 2080.84 156.514 Q2080.84 158.782 2082.32 160.125 Q2083.82 161.444 2086.39 161.444 Q2089.93 161.444 2092.06 158.944 Q2094.22 156.421 2094.22 152.254 L2094.22 151.305 L2089.98 151.305 M2098.48 149.546 L2098.48 164.338 L2094.22 164.338 L2094.22 160.402 Q2092.76 162.763 2090.58 163.898 Q2088.41 165.009 2085.26 165.009 Q2081.28 165.009 2078.92 162.787 Q2076.58 160.541 2076.58 156.791 Q2076.58 152.416 2079.5 150.194 Q2082.43 147.972 2088.24 147.972 L2094.22 147.972 L2094.22 147.555 Q2094.22 144.615 2092.27 143.018 Q2090.35 141.398 2086.86 141.398 Q2084.63 141.398 2082.53 141.93 Q2080.42 142.463 2078.48 143.527 L2078.48 139.592 Q2080.81 138.69 2083.01 138.25 Q2085.21 137.787 2087.3 137.787 Q2092.92 137.787 2095.7 140.703 Q2098.48 143.62 2098.48 149.546 Z\" fill=\"#000000\" fill-rule=\"evenodd\" fill-opacity=\"1\" /><path clip-path=\"url(#clip240)\" d=\"M2127.43 143.389 Q2129.03 140.518 2131.25 139.153 Q2133.48 137.787 2136.49 137.787 Q2140.54 137.787 2142.74 140.634 Q2144.93 143.458 2144.93 148.689 L2144.93 164.338 L2140.65 164.338 L2140.65 148.828 Q2140.65 145.102 2139.33 143.296 Q2138.01 141.49 2135.3 141.49 Q2131.99 141.49 2130.07 143.69 Q2128.15 145.889 2128.15 149.685 L2128.15 164.338 L2123.87 164.338 L2123.87 148.828 Q2123.87 145.078 2122.55 143.296 Q2121.23 141.49 2118.48 141.49 Q2115.21 141.49 2113.29 143.713 Q2111.37 145.912 2111.37 149.685 L2111.37 164.338 L2107.09 164.338 L2107.09 138.412 L2111.37 138.412 L2111.37 142.44 Q2112.83 140.055 2114.87 138.921 Q2116.9 137.787 2119.7 137.787 Q2122.53 137.787 2124.49 139.222 Q2126.49 140.657 2127.43 143.389 Z\" fill=\"#000000\" fill-rule=\"evenodd\" fill-opacity=\"1\" /><path clip-path=\"url(#clip240)\" d=\"M2175.61 150.31 L2175.61 152.393 L2156.02 152.393 Q2156.3 156.791 2158.66 159.106 Q2161.05 161.398 2165.28 161.398 Q2167.74 161.398 2170.03 160.796 Q2172.34 160.194 2174.61 158.99 L2174.61 163.018 Q2172.32 163.99 2169.91 164.5 Q2167.5 165.009 2165.03 165.009 Q2158.82 165.009 2155.19 161.398 Q2151.58 157.787 2151.58 151.629 Q2151.58 145.264 2155 141.537 Q2158.45 137.787 2164.29 137.787 Q2169.52 137.787 2172.55 141.166 Q2175.61 144.523 2175.61 150.31 M2171.35 149.06 Q2171.3 145.565 2169.38 143.481 Q2167.48 141.398 2164.33 141.398 Q2160.77 141.398 2158.61 143.412 Q2156.49 145.426 2156.16 149.083 L2171.35 149.06 Z\" fill=\"#000000\" fill-rule=\"evenodd\" fill-opacity=\"1\" /><path clip-path=\"url(#clip240)\" d=\"M2204.15 148.689 L2204.15 164.338 L2199.89 164.338 L2199.89 148.828 Q2199.89 145.148 2198.45 143.319 Q2197.02 141.49 2194.15 141.49 Q2190.7 141.49 2188.71 143.69 Q2186.72 145.889 2186.72 149.685 L2186.72 164.338 L2182.43 164.338 L2182.43 138.412 L2186.72 138.412 L2186.72 142.44 Q2188.24 140.102 2190.3 138.944 Q2192.39 137.787 2195.1 137.787 Q2199.56 137.787 2201.86 140.565 Q2204.15 143.319 2204.15 148.689 Z\" fill=\"#000000\" fill-rule=\"evenodd\" fill-opacity=\"1\" /><path clip-path=\"url(#clip240)\" d=\"M2216.86 131.051 L2216.86 138.412 L2225.63 138.412 L2225.63 141.722 L2216.86 141.722 L2216.86 155.796 Q2216.86 158.967 2217.71 159.87 Q2218.59 160.773 2221.25 160.773 L2225.63 160.773 L2225.63 164.338 L2221.25 164.338 Q2216.32 164.338 2214.45 162.509 Q2212.57 160.657 2212.57 155.796 L2212.57 141.722 L2209.45 141.722 L2209.45 138.412 L2212.57 138.412 L2212.57 131.051 L2216.86 131.051 Z\" fill=\"#000000\" fill-rule=\"evenodd\" fill-opacity=\"1\" /><path clip-path=\"url(#clip240)\" d=\"M2241.28 141.398 Q2237.85 141.398 2235.86 144.083 Q2233.87 146.745 2233.87 151.398 Q2233.87 156.051 2235.84 158.736 Q2237.83 161.398 2241.28 161.398 Q2244.68 161.398 2246.67 158.713 Q2248.66 156.027 2248.66 151.398 Q2248.66 146.791 2246.67 144.106 Q2244.68 141.398 2241.28 141.398 M2241.28 137.787 Q2246.83 137.787 2250 141.398 Q2253.17 145.009 2253.17 151.398 Q2253.17 157.764 2250 161.398 Q2246.83 165.009 2241.28 165.009 Q2235.7 165.009 2232.53 161.398 Q2229.38 157.764 2229.38 151.398 Q2229.38 145.009 2232.53 141.398 Q2235.7 137.787 2241.28 137.787 Z\" fill=\"#000000\" fill-rule=\"evenodd\" fill-opacity=\"1\" /><circle clip-path=\"url(#clip240)\" cx=\"1844.87\" cy=\"198.898\" r=\"23.04\" fill=\"#e26f46\" fill-rule=\"evenodd\" fill-opacity=\"1\" stroke=\"#000000\" stroke-opacity=\"1\" stroke-width=\"5.12\"/>\n<path clip-path=\"url(#clip240)\" d=\"M1949.13 185.46 L1949.13 212.335 L1954.77 212.335 Q1961.93 212.335 1965.24 209.094 Q1968.57 205.854 1968.57 198.863 Q1968.57 191.918 1965.24 188.701 Q1961.93 185.46 1954.77 185.46 L1949.13 185.46 M1944.45 181.618 L1954.06 181.618 Q1964.1 181.618 1968.8 185.807 Q1973.5 189.974 1973.5 198.863 Q1973.5 207.798 1968.78 211.988 Q1964.06 216.178 1954.06 216.178 L1944.45 216.178 L1944.45 181.618 Z\" fill=\"#000000\" fill-rule=\"evenodd\" fill-opacity=\"1\" /><path clip-path=\"url(#clip240)\" d=\"M1980.77 190.252 L1985.03 190.252 L1985.03 216.178 L1980.77 216.178 L1980.77 190.252 M1980.77 180.159 L1985.03 180.159 L1985.03 185.553 L1980.77 185.553 L1980.77 180.159 Z\" fill=\"#000000\" fill-rule=\"evenodd\" fill-opacity=\"1\" /><path clip-path=\"url(#clip240)\" d=\"M2010.47 191.016 L2010.47 195.043 Q2008.66 194.117 2006.72 193.655 Q2004.77 193.192 2002.69 193.192 Q1999.52 193.192 1997.92 194.164 Q1996.35 195.136 1996.35 197.08 Q1996.35 198.562 1997.48 199.418 Q1998.62 200.252 2002.04 201.016 L2003.5 201.34 Q2008.04 202.312 2009.94 204.094 Q2011.86 205.854 2011.86 209.025 Q2011.86 212.636 2008.99 214.742 Q2006.14 216.849 2001.14 216.849 Q1999.06 216.849 1996.79 216.432 Q1994.54 216.039 1992.04 215.228 L1992.04 210.83 Q1994.4 212.057 1996.69 212.682 Q1998.99 213.284 2001.23 213.284 Q2004.24 213.284 2005.86 212.266 Q2007.48 211.224 2007.48 209.349 Q2007.48 207.613 2006.3 206.687 Q2005.14 205.761 2001.19 204.904 L1999.7 204.557 Q1995.75 203.724 1993.99 202.011 Q1992.23 200.275 1992.23 197.266 Q1992.23 193.608 1994.82 191.618 Q1997.41 189.627 2002.18 189.627 Q2004.54 189.627 2006.63 189.974 Q2008.71 190.321 2010.47 191.016 Z\" fill=\"#000000\" fill-rule=\"evenodd\" fill-opacity=\"1\" /><path clip-path=\"url(#clip240)\" d=\"M2022.76 212.289 L2022.76 226.039 L2018.48 226.039 L2018.48 190.252 L2022.76 190.252 L2022.76 194.187 Q2024.1 191.872 2026.14 190.761 Q2028.2 189.627 2031.05 189.627 Q2035.77 189.627 2038.71 193.377 Q2041.67 197.127 2041.67 203.238 Q2041.67 209.349 2038.71 213.099 Q2035.77 216.849 2031.05 216.849 Q2028.2 216.849 2026.14 215.738 Q2024.1 214.603 2022.76 212.289 M2037.25 203.238 Q2037.25 198.539 2035.31 195.877 Q2033.38 193.192 2030 193.192 Q2026.62 193.192 2024.68 195.877 Q2022.76 198.539 2022.76 203.238 Q2022.76 207.937 2024.68 210.622 Q2026.62 213.284 2030 213.284 Q2033.38 213.284 2035.31 210.622 Q2037.25 207.937 2037.25 203.238 Z\" fill=\"#000000\" fill-rule=\"evenodd\" fill-opacity=\"1\" /><path clip-path=\"url(#clip240)\" d=\"M2058.78 193.238 Q2055.35 193.238 2053.36 195.923 Q2051.37 198.585 2051.37 203.238 Q2051.37 207.891 2053.34 210.576 Q2055.33 213.238 2058.78 213.238 Q2062.18 213.238 2064.17 210.553 Q2066.16 207.867 2066.16 203.238 Q2066.16 198.631 2064.17 195.946 Q2062.18 193.238 2058.78 193.238 M2058.78 189.627 Q2064.33 189.627 2067.5 193.238 Q2070.68 196.849 2070.68 203.238 Q2070.68 209.604 2067.5 213.238 Q2064.33 216.849 2058.78 216.849 Q2053.2 216.849 2050.03 213.238 Q2046.88 209.604 2046.88 203.238 Q2046.88 196.849 2050.03 193.238 Q2053.2 189.627 2058.78 189.627 Z\" fill=\"#000000\" fill-rule=\"evenodd\" fill-opacity=\"1\" /><path clip-path=\"url(#clip240)\" d=\"M2094.26 191.016 L2094.26 195.043 Q2092.46 194.117 2090.51 193.655 Q2088.57 193.192 2086.49 193.192 Q2083.31 193.192 2081.72 194.164 Q2080.14 195.136 2080.14 197.08 Q2080.14 198.562 2081.28 199.418 Q2082.41 200.252 2085.84 201.016 L2087.3 201.34 Q2091.83 202.312 2093.73 204.094 Q2095.65 205.854 2095.65 209.025 Q2095.65 212.636 2092.78 214.742 Q2089.93 216.849 2084.93 216.849 Q2082.85 216.849 2080.58 216.432 Q2078.34 216.039 2075.84 215.228 L2075.84 210.83 Q2078.2 212.057 2080.49 212.682 Q2082.78 213.284 2085.03 213.284 Q2088.04 213.284 2089.66 212.266 Q2091.28 211.224 2091.28 209.349 Q2091.28 207.613 2090.1 206.687 Q2088.94 205.761 2084.98 204.904 L2083.5 204.557 Q2079.54 203.724 2077.78 202.011 Q2076.02 200.275 2076.02 197.266 Q2076.02 193.608 2078.62 191.618 Q2081.21 189.627 2085.98 189.627 Q2088.34 189.627 2090.42 189.974 Q2092.5 190.321 2094.26 191.016 Z\" fill=\"#000000\" fill-rule=\"evenodd\" fill-opacity=\"1\" /><path clip-path=\"url(#clip240)\" d=\"M2102.43 190.252 L2106.69 190.252 L2106.69 216.178 L2102.43 216.178 L2102.43 190.252 M2102.43 180.159 L2106.69 180.159 L2106.69 185.553 L2102.43 185.553 L2102.43 180.159 Z\" fill=\"#000000\" fill-rule=\"evenodd\" fill-opacity=\"1\" /><path clip-path=\"url(#clip240)\" d=\"M2119.82 182.891 L2119.82 190.252 L2128.59 190.252 L2128.59 193.562 L2119.82 193.562 L2119.82 207.636 Q2119.82 210.807 2120.68 211.71 Q2121.55 212.613 2124.22 212.613 L2128.59 212.613 L2128.59 216.178 L2124.22 216.178 Q2119.29 216.178 2117.41 214.349 Q2115.54 212.497 2115.54 207.636 L2115.54 193.562 L2112.41 193.562 L2112.41 190.252 L2115.54 190.252 L2115.54 182.891 L2119.82 182.891 Z\" fill=\"#000000\" fill-rule=\"evenodd\" fill-opacity=\"1\" /><path clip-path=\"url(#clip240)\" d=\"M2134.19 190.252 L2138.45 190.252 L2138.45 216.178 L2134.19 216.178 L2134.19 190.252 M2134.19 180.159 L2138.45 180.159 L2138.45 185.553 L2134.19 185.553 L2134.19 180.159 Z\" fill=\"#000000\" fill-rule=\"evenodd\" fill-opacity=\"1\" /><path clip-path=\"url(#clip240)\" d=\"M2144.31 190.252 L2148.82 190.252 L2156.93 212.011 L2165.03 190.252 L2169.54 190.252 L2159.82 216.178 L2154.03 216.178 L2144.31 190.252 Z\" fill=\"#000000\" fill-rule=\"evenodd\" fill-opacity=\"1\" /><path clip-path=\"url(#clip240)\" d=\"M2185.47 193.238 Q2182.04 193.238 2180.05 195.923 Q2178.06 198.585 2178.06 203.238 Q2178.06 207.891 2180.03 210.576 Q2182.02 213.238 2185.47 213.238 Q2188.87 213.238 2190.86 210.553 Q2192.85 207.867 2192.85 203.238 Q2192.85 198.631 2190.86 195.946 Q2188.87 193.238 2185.47 193.238 M2185.47 189.627 Q2191.02 189.627 2194.19 193.238 Q2197.36 196.849 2197.36 203.238 Q2197.36 209.604 2194.19 213.238 Q2191.02 216.849 2185.47 216.849 Q2179.89 216.849 2176.72 213.238 Q2173.57 209.604 2173.57 203.238 Q2173.57 196.849 2176.72 193.238 Q2179.89 189.627 2185.47 189.627 Z\" fill=\"#000000\" fill-rule=\"evenodd\" fill-opacity=\"1\" /><path clip-path=\"url(#clip240)\" d=\"M2230.1 184.696 Q2226.48 184.696 2224.66 188.261 Q2222.85 191.803 2222.85 198.932 Q2222.85 206.039 2224.66 209.604 Q2226.48 213.145 2230.1 213.145 Q2233.73 213.145 2235.54 209.604 Q2237.36 206.039 2237.36 198.932 Q2237.36 191.803 2235.54 188.261 Q2233.73 184.696 2230.1 184.696 M2230.1 180.993 Q2235.91 180.993 2238.96 185.599 Q2242.04 190.182 2242.04 198.932 Q2242.04 207.659 2238.96 212.266 Q2235.91 216.849 2230.1 216.849 Q2224.29 216.849 2221.21 212.266 Q2218.15 207.659 2218.15 198.932 Q2218.15 190.182 2221.21 185.599 Q2224.29 180.993 2230.1 180.993 Z\" fill=\"#000000\" fill-rule=\"evenodd\" fill-opacity=\"1\" /><circle clip-path=\"url(#clip240)\" cx=\"1844.87\" cy=\"250.738\" r=\"23.04\" fill=\"#3da44d\" fill-rule=\"evenodd\" fill-opacity=\"1\" stroke=\"#000000\" stroke-opacity=\"1\" stroke-width=\"5.12\"/>\n<path clip-path=\"url(#clip240)\" d=\"M1949.13 237.3 L1949.13 264.175 L1954.77 264.175 Q1961.93 264.175 1965.24 260.934 Q1968.57 257.694 1968.57 250.703 Q1968.57 243.758 1965.24 240.541 Q1961.93 237.3 1954.77 237.3 L1949.13 237.3 M1944.45 233.458 L1954.06 233.458 Q1964.1 233.458 1968.8 237.647 Q1973.5 241.814 1973.5 250.703 Q1973.5 259.638 1968.78 263.828 Q1964.06 268.018 1954.06 268.018 L1944.45 268.018 L1944.45 233.458 Z\" fill=\"#000000\" fill-rule=\"evenodd\" fill-opacity=\"1\" /><path clip-path=\"url(#clip240)\" d=\"M1980.77 242.092 L1985.03 242.092 L1985.03 268.018 L1980.77 268.018 L1980.77 242.092 M1980.77 231.999 L1985.03 231.999 L1985.03 237.393 L1980.77 237.393 L1980.77 231.999 Z\" fill=\"#000000\" fill-rule=\"evenodd\" fill-opacity=\"1\" /><path clip-path=\"url(#clip240)\" d=\"M2010.47 242.856 L2010.47 246.883 Q2008.66 245.957 2006.72 245.495 Q2004.77 245.032 2002.69 245.032 Q1999.52 245.032 1997.92 246.004 Q1996.35 246.976 1996.35 248.92 Q1996.35 250.402 1997.48 251.258 Q1998.62 252.092 2002.04 252.856 L2003.5 253.18 Q2008.04 254.152 2009.94 255.934 Q2011.86 257.694 2011.86 260.865 Q2011.86 264.476 2008.99 266.582 Q2006.14 268.689 2001.14 268.689 Q1999.06 268.689 1996.79 268.272 Q1994.54 267.879 1992.04 267.068 L1992.04 262.67 Q1994.4 263.897 1996.69 264.522 Q1998.99 265.124 2001.23 265.124 Q2004.24 265.124 2005.86 264.106 Q2007.48 263.064 2007.48 261.189 Q2007.48 259.453 2006.3 258.527 Q2005.14 257.601 2001.19 256.744 L1999.7 256.397 Q1995.75 255.564 1993.99 253.851 Q1992.23 252.115 1992.23 249.106 Q1992.23 245.448 1994.82 243.458 Q1997.41 241.467 2002.18 241.467 Q2004.54 241.467 2006.63 241.814 Q2008.71 242.161 2010.47 242.856 Z\" fill=\"#000000\" fill-rule=\"evenodd\" fill-opacity=\"1\" /><path clip-path=\"url(#clip240)\" d=\"M2022.76 264.129 L2022.76 277.879 L2018.48 277.879 L2018.48 242.092 L2022.76 242.092 L2022.76 246.027 Q2024.1 243.712 2026.14 242.601 Q2028.2 241.467 2031.05 241.467 Q2035.77 241.467 2038.71 245.217 Q2041.67 248.967 2041.67 255.078 Q2041.67 261.189 2038.71 264.939 Q2035.77 268.689 2031.05 268.689 Q2028.2 268.689 2026.14 267.578 Q2024.1 266.443 2022.76 264.129 M2037.25 255.078 Q2037.25 250.379 2035.31 247.717 Q2033.38 245.032 2030 245.032 Q2026.62 245.032 2024.68 247.717 Q2022.76 250.379 2022.76 255.078 Q2022.76 259.777 2024.68 262.462 Q2026.62 265.124 2030 265.124 Q2033.38 265.124 2035.31 262.462 Q2037.25 259.777 2037.25 255.078 Z\" fill=\"#000000\" fill-rule=\"evenodd\" fill-opacity=\"1\" /><path clip-path=\"url(#clip240)\" d=\"M2058.78 245.078 Q2055.35 245.078 2053.36 247.763 Q2051.37 250.425 2051.37 255.078 Q2051.37 259.731 2053.34 262.416 Q2055.33 265.078 2058.78 265.078 Q2062.18 265.078 2064.17 262.393 Q2066.16 259.707 2066.16 255.078 Q2066.16 250.471 2064.17 247.786 Q2062.18 245.078 2058.78 245.078 M2058.78 241.467 Q2064.33 241.467 2067.5 245.078 Q2070.68 248.689 2070.68 255.078 Q2070.68 261.444 2067.5 265.078 Q2064.33 268.689 2058.78 268.689 Q2053.2 268.689 2050.03 265.078 Q2046.88 261.444 2046.88 255.078 Q2046.88 248.689 2050.03 245.078 Q2053.2 241.467 2058.78 241.467 Z\" fill=\"#000000\" fill-rule=\"evenodd\" fill-opacity=\"1\" /><path clip-path=\"url(#clip240)\" d=\"M2094.26 242.856 L2094.26 246.883 Q2092.46 245.957 2090.51 245.495 Q2088.57 245.032 2086.49 245.032 Q2083.31 245.032 2081.72 246.004 Q2080.14 246.976 2080.14 248.92 Q2080.14 250.402 2081.28 251.258 Q2082.41 252.092 2085.84 252.856 L2087.3 253.18 Q2091.83 254.152 2093.73 255.934 Q2095.65 257.694 2095.65 260.865 Q2095.65 264.476 2092.78 266.582 Q2089.93 268.689 2084.93 268.689 Q2082.85 268.689 2080.58 268.272 Q2078.34 267.879 2075.84 267.068 L2075.84 262.67 Q2078.2 263.897 2080.49 264.522 Q2082.78 265.124 2085.03 265.124 Q2088.04 265.124 2089.66 264.106 Q2091.28 263.064 2091.28 261.189 Q2091.28 259.453 2090.1 258.527 Q2088.94 257.601 2084.98 256.744 L2083.5 256.397 Q2079.54 255.564 2077.78 253.851 Q2076.02 252.115 2076.02 249.106 Q2076.02 245.448 2078.62 243.458 Q2081.21 241.467 2085.98 241.467 Q2088.34 241.467 2090.42 241.814 Q2092.5 242.161 2094.26 242.856 Z\" fill=\"#000000\" fill-rule=\"evenodd\" fill-opacity=\"1\" /><path clip-path=\"url(#clip240)\" d=\"M2102.43 242.092 L2106.69 242.092 L2106.69 268.018 L2102.43 268.018 L2102.43 242.092 M2102.43 231.999 L2106.69 231.999 L2106.69 237.393 L2102.43 237.393 L2102.43 231.999 Z\" fill=\"#000000\" fill-rule=\"evenodd\" fill-opacity=\"1\" /><path clip-path=\"url(#clip240)\" d=\"M2119.82 234.731 L2119.82 242.092 L2128.59 242.092 L2128.59 245.402 L2119.82 245.402 L2119.82 259.476 Q2119.82 262.647 2120.68 263.55 Q2121.55 264.453 2124.22 264.453 L2128.59 264.453 L2128.59 268.018 L2124.22 268.018 Q2119.29 268.018 2117.41 266.189 Q2115.54 264.337 2115.54 259.476 L2115.54 245.402 L2112.41 245.402 L2112.41 242.092 L2115.54 242.092 L2115.54 234.731 L2119.82 234.731 Z\" fill=\"#000000\" fill-rule=\"evenodd\" fill-opacity=\"1\" /><path clip-path=\"url(#clip240)\" d=\"M2134.19 242.092 L2138.45 242.092 L2138.45 268.018 L2134.19 268.018 L2134.19 242.092 M2134.19 231.999 L2138.45 231.999 L2138.45 237.393 L2134.19 237.393 L2134.19 231.999 Z\" fill=\"#000000\" fill-rule=\"evenodd\" fill-opacity=\"1\" /><path clip-path=\"url(#clip240)\" d=\"M2144.31 242.092 L2148.82 242.092 L2156.93 263.851 L2165.03 242.092 L2169.54 242.092 L2159.82 268.018 L2154.03 268.018 L2144.31 242.092 Z\" fill=\"#000000\" fill-rule=\"evenodd\" fill-opacity=\"1\" /><path clip-path=\"url(#clip240)\" d=\"M2185.47 245.078 Q2182.04 245.078 2180.05 247.763 Q2178.06 250.425 2178.06 255.078 Q2178.06 259.731 2180.03 262.416 Q2182.02 265.078 2185.47 265.078 Q2188.87 265.078 2190.86 262.393 Q2192.85 259.707 2192.85 255.078 Q2192.85 250.471 2190.86 247.786 Q2188.87 245.078 2185.47 245.078 M2185.47 241.467 Q2191.02 241.467 2194.19 245.078 Q2197.36 248.689 2197.36 255.078 Q2197.36 261.444 2194.19 265.078 Q2191.02 268.689 2185.47 268.689 Q2179.89 268.689 2176.72 265.078 Q2173.57 261.444 2173.57 255.078 Q2173.57 248.689 2176.72 245.078 Q2179.89 241.467 2185.47 241.467 Z\" fill=\"#000000\" fill-rule=\"evenodd\" fill-opacity=\"1\" /><path clip-path=\"url(#clip240)\" d=\"M2220.91 264.082 L2228.55 264.082 L2228.55 237.717 L2220.23 239.383 L2220.23 235.124 L2228.5 233.458 L2233.17 233.458 L2233.17 264.082 L2240.81 264.082 L2240.81 268.018 L2220.91 268.018 L2220.91 264.082 Z\" fill=\"#000000\" fill-rule=\"evenodd\" fill-opacity=\"1\" /><circle clip-path=\"url(#clip240)\" cx=\"1844.87\" cy=\"302.578\" r=\"23.04\" fill=\"#c271d2\" fill-rule=\"evenodd\" fill-opacity=\"1\" stroke=\"#000000\" stroke-opacity=\"1\" stroke-width=\"5.12\"/>\n<path clip-path=\"url(#clip240)\" d=\"M1944.45 285.298 L1949.13 285.298 L1949.13 319.858 L1944.45 319.858 L1944.45 285.298 Z\" fill=\"#000000\" fill-rule=\"evenodd\" fill-opacity=\"1\" /><path clip-path=\"url(#clip240)\" d=\"M1979.8 304.209 L1979.8 319.858 L1975.54 319.858 L1975.54 304.348 Q1975.54 300.668 1974.1 298.839 Q1972.67 297.01 1969.8 297.01 Q1966.35 297.01 1964.36 299.21 Q1962.37 301.409 1962.37 305.205 L1962.37 319.858 L1958.08 319.858 L1958.08 293.932 L1962.37 293.932 L1962.37 297.96 Q1963.89 295.622 1965.95 294.464 Q1968.04 293.307 1970.75 293.307 Q1975.21 293.307 1977.5 296.085 Q1979.8 298.839 1979.8 304.209 Z\" fill=\"#000000\" fill-rule=\"evenodd\" fill-opacity=\"1\" /><path clip-path=\"url(#clip240)\" d=\"M1992.5 286.571 L1992.5 293.932 L2001.28 293.932 L2001.28 297.242 L1992.5 297.242 L1992.5 311.316 Q1992.5 314.487 1993.36 315.39 Q1994.24 316.293 1996.9 316.293 L2001.28 316.293 L2001.28 319.858 L1996.9 319.858 Q1991.97 319.858 1990.1 318.029 Q1988.22 316.177 1988.22 311.316 L1988.22 297.242 L1985.1 297.242 L1985.1 293.932 L1988.22 293.932 L1988.22 286.571 L1992.5 286.571 Z\" fill=\"#000000\" fill-rule=\"evenodd\" fill-opacity=\"1\" /><path clip-path=\"url(#clip240)\" d=\"M2029.06 305.83 L2029.06 307.913 L2009.47 307.913 Q2009.75 312.311 2012.11 314.626 Q2014.5 316.918 2018.73 316.918 Q2021.19 316.918 2023.48 316.316 Q2025.79 315.714 2028.06 314.51 L2028.06 318.538 Q2025.77 319.51 2023.36 320.02 Q2020.95 320.529 2018.48 320.529 Q2012.27 320.529 2008.64 316.918 Q2005.03 313.307 2005.03 307.149 Q2005.03 300.784 2008.45 297.057 Q2011.9 293.307 2017.74 293.307 Q2022.97 293.307 2026 296.686 Q2029.06 300.043 2029.06 305.83 M2024.8 304.58 Q2024.75 301.085 2022.83 299.001 Q2020.93 296.918 2017.78 296.918 Q2014.22 296.918 2012.06 298.932 Q2009.94 300.946 2009.61 304.603 L2024.8 304.58 Z\" fill=\"#000000\" fill-rule=\"evenodd\" fill-opacity=\"1\" /><path clip-path=\"url(#clip240)\" d=\"M2051.07 297.913 Q2050.35 297.497 2049.5 297.311 Q2048.66 297.103 2047.64 297.103 Q2044.03 297.103 2042.09 299.464 Q2040.17 301.802 2040.17 306.2 L2040.17 319.858 L2035.88 319.858 L2035.88 293.932 L2040.17 293.932 L2040.17 297.96 Q2041.51 295.598 2043.66 294.464 Q2045.81 293.307 2048.89 293.307 Q2049.33 293.307 2049.87 293.376 Q2050.4 293.423 2051.05 293.538 L2051.07 297.913 Z\" fill=\"#000000\" fill-rule=\"evenodd\" fill-opacity=\"1\" /><path clip-path=\"url(#clip240)\" d=\"M2068.66 283.839 L2068.66 287.381 L2064.59 287.381 Q2062.3 287.381 2061.39 288.307 Q2060.51 289.233 2060.51 291.64 L2060.51 293.932 L2067.53 293.932 L2067.53 297.242 L2060.51 297.242 L2060.51 319.858 L2056.23 319.858 L2056.23 297.242 L2052.16 297.242 L2052.16 293.932 L2056.23 293.932 L2056.23 292.126 Q2056.23 287.798 2058.25 285.83 Q2060.26 283.839 2064.63 283.839 L2068.66 283.839 Z\" fill=\"#000000\" fill-rule=\"evenodd\" fill-opacity=\"1\" /><path clip-path=\"url(#clip240)\" d=\"M2094.4 305.83 L2094.4 307.913 L2074.82 307.913 Q2075.1 312.311 2077.46 314.626 Q2079.84 316.918 2084.08 316.918 Q2086.53 316.918 2088.82 316.316 Q2091.14 315.714 2093.41 314.51 L2093.41 318.538 Q2091.12 319.51 2088.71 320.02 Q2086.3 320.529 2083.82 320.529 Q2077.62 320.529 2073.99 316.918 Q2070.37 313.307 2070.37 307.149 Q2070.37 300.784 2073.8 297.057 Q2077.25 293.307 2083.08 293.307 Q2088.31 293.307 2091.35 296.686 Q2094.4 300.043 2094.4 305.83 M2090.14 304.58 Q2090.1 301.085 2088.18 299.001 Q2086.28 296.918 2083.13 296.918 Q2079.56 296.918 2077.41 298.932 Q2075.28 300.946 2074.96 304.603 L2090.14 304.58 Z\" fill=\"#000000\" fill-rule=\"evenodd\" fill-opacity=\"1\" /><path clip-path=\"url(#clip240)\" d=\"M2116.42 297.913 Q2115.7 297.497 2114.84 297.311 Q2114.01 297.103 2112.99 297.103 Q2109.38 297.103 2107.43 299.464 Q2105.51 301.802 2105.51 306.2 L2105.51 319.858 L2101.23 319.858 L2101.23 293.932 L2105.51 293.932 L2105.51 297.96 Q2106.86 295.598 2109.01 294.464 Q2111.16 293.307 2114.24 293.307 Q2114.68 293.307 2115.21 293.376 Q2115.74 293.423 2116.39 293.538 L2116.42 297.913 Z\" fill=\"#000000\" fill-rule=\"evenodd\" fill-opacity=\"1\" /><path clip-path=\"url(#clip240)\" d=\"M2142.02 305.83 L2142.02 307.913 L2122.43 307.913 Q2122.71 312.311 2125.07 314.626 Q2127.46 316.918 2131.69 316.918 Q2134.15 316.918 2136.44 316.316 Q2138.75 315.714 2141.02 314.51 L2141.02 318.538 Q2138.73 319.51 2136.32 320.02 Q2133.92 320.529 2131.44 320.529 Q2125.24 320.529 2121.6 316.918 Q2117.99 313.307 2117.99 307.149 Q2117.99 300.784 2121.42 297.057 Q2124.87 293.307 2130.7 293.307 Q2135.93 293.307 2138.96 296.686 Q2142.02 300.043 2142.02 305.83 M2137.76 304.58 Q2137.71 301.085 2135.79 299.001 Q2133.89 296.918 2130.74 296.918 Q2127.18 296.918 2125.03 298.932 Q2122.9 300.946 2122.57 304.603 L2137.76 304.58 Z\" fill=\"#000000\" fill-rule=\"evenodd\" fill-opacity=\"1\" /><path clip-path=\"url(#clip240)\" d=\"M2170.56 304.209 L2170.56 319.858 L2166.3 319.858 L2166.3 304.348 Q2166.3 300.668 2164.86 298.839 Q2163.43 297.01 2160.56 297.01 Q2157.11 297.01 2155.12 299.21 Q2153.13 301.409 2153.13 305.205 L2153.13 319.858 L2148.85 319.858 L2148.85 293.932 L2153.13 293.932 L2153.13 297.96 Q2154.66 295.622 2156.72 294.464 Q2158.8 293.307 2161.51 293.307 Q2165.98 293.307 2168.27 296.085 Q2170.56 298.839 2170.56 304.209 Z\" fill=\"#000000\" fill-rule=\"evenodd\" fill-opacity=\"1\" /><path clip-path=\"url(#clip240)\" d=\"M2197.71 294.927 L2197.71 298.909 Q2195.91 297.913 2194.08 297.427 Q2192.27 296.918 2190.42 296.918 Q2186.28 296.918 2183.99 299.557 Q2181.69 302.172 2181.69 306.918 Q2181.69 311.663 2183.99 314.302 Q2186.28 316.918 2190.42 316.918 Q2192.27 316.918 2194.08 316.432 Q2195.91 315.922 2197.71 314.927 L2197.71 318.862 Q2195.93 319.696 2194.01 320.112 Q2192.11 320.529 2189.96 320.529 Q2184.1 320.529 2180.65 316.848 Q2177.2 313.168 2177.2 306.918 Q2177.2 300.575 2180.68 296.941 Q2184.17 293.307 2190.24 293.307 Q2192.2 293.307 2194.08 293.723 Q2195.95 294.117 2197.71 294.927 Z\" fill=\"#000000\" fill-rule=\"evenodd\" fill-opacity=\"1\" /><path clip-path=\"url(#clip240)\" d=\"M2205.12 293.932 L2209.38 293.932 L2209.38 319.858 L2205.12 319.858 L2205.12 293.932 M2205.12 283.839 L2209.38 283.839 L2209.38 289.233 L2205.12 289.233 L2205.12 283.839 Z\" fill=\"#000000\" fill-rule=\"evenodd\" fill-opacity=\"1\" /><path clip-path=\"url(#clip240)\" d=\"M2230.07 306.825 Q2224.91 306.825 2222.92 308.006 Q2220.93 309.186 2220.93 312.034 Q2220.93 314.302 2222.41 315.645 Q2223.92 316.964 2226.48 316.964 Q2230.03 316.964 2232.16 314.464 Q2234.31 311.941 2234.31 307.774 L2234.31 306.825 L2230.07 306.825 M2238.57 305.066 L2238.57 319.858 L2234.31 319.858 L2234.31 315.922 Q2232.85 318.283 2230.67 319.418 Q2228.5 320.529 2225.35 320.529 Q2221.37 320.529 2219.01 318.307 Q2216.67 316.061 2216.67 312.311 Q2216.67 307.936 2219.59 305.714 Q2222.53 303.492 2228.34 303.492 L2234.31 303.492 L2234.31 303.075 Q2234.31 300.135 2232.36 298.538 Q2230.44 296.918 2226.95 296.918 Q2224.73 296.918 2222.62 297.45 Q2220.51 297.983 2218.57 299.047 L2218.57 295.112 Q2220.91 294.21 2223.11 293.77 Q2225.3 293.307 2227.39 293.307 Q2233.01 293.307 2235.79 296.223 Q2238.57 299.14 2238.57 305.066 Z\" fill=\"#000000\" fill-rule=\"evenodd\" fill-opacity=\"1\" /><polyline clip-path=\"url(#clip240)\" style=\"stroke:#ac8d18; stroke-linecap:round; stroke-linejoin:round; stroke-width:4; stroke-opacity:1; fill:none\" points=\"\n  1770.18,354.418 1919.55,354.418 \n  \"/>\n<path clip-path=\"url(#clip240)\" d=\"M1944.45 337.138 L1949.13 337.138 L1949.13 371.698 L1944.45 371.698 L1944.45 337.138 Z\" fill=\"#000000\" fill-rule=\"evenodd\" fill-opacity=\"1\" /><path clip-path=\"url(#clip240)\" d=\"M1979.8 356.049 L1979.8 371.698 L1975.54 371.698 L1975.54 356.188 Q1975.54 352.508 1974.1 350.679 Q1972.67 348.85 1969.8 348.85 Q1966.35 348.85 1964.36 351.05 Q1962.37 353.249 1962.37 357.045 L1962.37 371.698 L1958.08 371.698 L1958.08 345.772 L1962.37 345.772 L1962.37 349.8 Q1963.89 347.462 1965.95 346.304 Q1968.04 345.147 1970.75 345.147 Q1975.21 345.147 1977.5 347.925 Q1979.8 350.679 1979.8 356.049 Z\" fill=\"#000000\" fill-rule=\"evenodd\" fill-opacity=\"1\" /><path clip-path=\"url(#clip240)\" d=\"M1992.5 338.411 L1992.5 345.772 L2001.28 345.772 L2001.28 349.082 L1992.5 349.082 L1992.5 363.156 Q1992.5 366.327 1993.36 367.23 Q1994.24 368.133 1996.9 368.133 L2001.28 368.133 L2001.28 371.698 L1996.9 371.698 Q1991.97 371.698 1990.1 369.869 Q1988.22 368.017 1988.22 363.156 L1988.22 349.082 L1985.1 349.082 L1985.1 345.772 L1988.22 345.772 L1988.22 338.411 L1992.5 338.411 Z\" fill=\"#000000\" fill-rule=\"evenodd\" fill-opacity=\"1\" /><path clip-path=\"url(#clip240)\" d=\"M2029.06 357.67 L2029.06 359.753 L2009.47 359.753 Q2009.75 364.151 2012.11 366.466 Q2014.5 368.758 2018.73 368.758 Q2021.19 368.758 2023.48 368.156 Q2025.79 367.554 2028.06 366.35 L2028.06 370.378 Q2025.77 371.35 2023.36 371.86 Q2020.95 372.369 2018.48 372.369 Q2012.27 372.369 2008.64 368.758 Q2005.03 365.147 2005.03 358.989 Q2005.03 352.624 2008.45 348.897 Q2011.9 345.147 2017.74 345.147 Q2022.97 345.147 2026 348.526 Q2029.06 351.883 2029.06 357.67 M2024.8 356.42 Q2024.75 352.925 2022.83 350.841 Q2020.93 348.758 2017.78 348.758 Q2014.22 348.758 2012.06 350.772 Q2009.94 352.786 2009.61 356.443 L2024.8 356.42 Z\" fill=\"#000000\" fill-rule=\"evenodd\" fill-opacity=\"1\" /><path clip-path=\"url(#clip240)\" d=\"M2051.07 349.753 Q2050.35 349.337 2049.5 349.151 Q2048.66 348.943 2047.64 348.943 Q2044.03 348.943 2042.09 351.304 Q2040.17 353.642 2040.17 358.04 L2040.17 371.698 L2035.88 371.698 L2035.88 345.772 L2040.17 345.772 L2040.17 349.8 Q2041.51 347.438 2043.66 346.304 Q2045.81 345.147 2048.89 345.147 Q2049.33 345.147 2049.87 345.216 Q2050.4 345.263 2051.05 345.378 L2051.07 349.753 Z\" fill=\"#000000\" fill-rule=\"evenodd\" fill-opacity=\"1\" /><path clip-path=\"url(#clip240)\" d=\"M2068.66 335.679 L2068.66 339.221 L2064.59 339.221 Q2062.3 339.221 2061.39 340.147 Q2060.51 341.073 2060.51 343.48 L2060.51 345.772 L2067.53 345.772 L2067.53 349.082 L2060.51 349.082 L2060.51 371.698 L2056.23 371.698 L2056.23 349.082 L2052.16 349.082 L2052.16 345.772 L2056.23 345.772 L2056.23 343.966 Q2056.23 339.638 2058.25 337.67 Q2060.26 335.679 2064.63 335.679 L2068.66 335.679 Z\" fill=\"#000000\" fill-rule=\"evenodd\" fill-opacity=\"1\" /><path clip-path=\"url(#clip240)\" d=\"M2094.4 357.67 L2094.4 359.753 L2074.82 359.753 Q2075.1 364.151 2077.46 366.466 Q2079.84 368.758 2084.08 368.758 Q2086.53 368.758 2088.82 368.156 Q2091.14 367.554 2093.41 366.35 L2093.41 370.378 Q2091.12 371.35 2088.71 371.86 Q2086.3 372.369 2083.82 372.369 Q2077.62 372.369 2073.99 368.758 Q2070.37 365.147 2070.37 358.989 Q2070.37 352.624 2073.8 348.897 Q2077.25 345.147 2083.08 345.147 Q2088.31 345.147 2091.35 348.526 Q2094.4 351.883 2094.4 357.67 M2090.14 356.42 Q2090.1 352.925 2088.18 350.841 Q2086.28 348.758 2083.13 348.758 Q2079.56 348.758 2077.41 350.772 Q2075.28 352.786 2074.96 356.443 L2090.14 356.42 Z\" fill=\"#000000\" fill-rule=\"evenodd\" fill-opacity=\"1\" /><path clip-path=\"url(#clip240)\" d=\"M2116.42 349.753 Q2115.7 349.337 2114.84 349.151 Q2114.01 348.943 2112.99 348.943 Q2109.38 348.943 2107.43 351.304 Q2105.51 353.642 2105.51 358.04 L2105.51 371.698 L2101.23 371.698 L2101.23 345.772 L2105.51 345.772 L2105.51 349.8 Q2106.86 347.438 2109.01 346.304 Q2111.16 345.147 2114.24 345.147 Q2114.68 345.147 2115.21 345.216 Q2115.74 345.263 2116.39 345.378 L2116.42 349.753 Z\" fill=\"#000000\" fill-rule=\"evenodd\" fill-opacity=\"1\" /><path clip-path=\"url(#clip240)\" d=\"M2142.02 357.67 L2142.02 359.753 L2122.43 359.753 Q2122.71 364.151 2125.07 366.466 Q2127.46 368.758 2131.69 368.758 Q2134.15 368.758 2136.44 368.156 Q2138.75 367.554 2141.02 366.35 L2141.02 370.378 Q2138.73 371.35 2136.32 371.86 Q2133.92 372.369 2131.44 372.369 Q2125.24 372.369 2121.6 368.758 Q2117.99 365.147 2117.99 358.989 Q2117.99 352.624 2121.42 348.897 Q2124.87 345.147 2130.7 345.147 Q2135.93 345.147 2138.96 348.526 Q2142.02 351.883 2142.02 357.67 M2137.76 356.42 Q2137.71 352.925 2135.79 350.841 Q2133.89 348.758 2130.74 348.758 Q2127.18 348.758 2125.03 350.772 Q2122.9 352.786 2122.57 356.443 L2137.76 356.42 Z\" fill=\"#000000\" fill-rule=\"evenodd\" fill-opacity=\"1\" /><path clip-path=\"url(#clip240)\" d=\"M2170.56 356.049 L2170.56 371.698 L2166.3 371.698 L2166.3 356.188 Q2166.3 352.508 2164.86 350.679 Q2163.43 348.85 2160.56 348.85 Q2157.11 348.85 2155.12 351.05 Q2153.13 353.249 2153.13 357.045 L2153.13 371.698 L2148.85 371.698 L2148.85 345.772 L2153.13 345.772 L2153.13 349.8 Q2154.66 347.462 2156.72 346.304 Q2158.8 345.147 2161.51 345.147 Q2165.98 345.147 2168.27 347.925 Q2170.56 350.679 2170.56 356.049 Z\" fill=\"#000000\" fill-rule=\"evenodd\" fill-opacity=\"1\" /><path clip-path=\"url(#clip240)\" d=\"M2197.71 346.767 L2197.71 350.749 Q2195.91 349.753 2194.08 349.267 Q2192.27 348.758 2190.42 348.758 Q2186.28 348.758 2183.99 351.397 Q2181.69 354.012 2181.69 358.758 Q2181.69 363.503 2183.99 366.142 Q2186.28 368.758 2190.42 368.758 Q2192.27 368.758 2194.08 368.272 Q2195.91 367.762 2197.71 366.767 L2197.71 370.702 Q2195.93 371.536 2194.01 371.952 Q2192.11 372.369 2189.96 372.369 Q2184.1 372.369 2180.65 368.688 Q2177.2 365.008 2177.2 358.758 Q2177.2 352.415 2180.68 348.781 Q2184.17 345.147 2190.24 345.147 Q2192.2 345.147 2194.08 345.563 Q2195.95 345.957 2197.71 346.767 Z\" fill=\"#000000\" fill-rule=\"evenodd\" fill-opacity=\"1\" /><path clip-path=\"url(#clip240)\" d=\"M2205.12 345.772 L2209.38 345.772 L2209.38 371.698 L2205.12 371.698 L2205.12 345.772 M2205.12 335.679 L2209.38 335.679 L2209.38 341.073 L2205.12 341.073 L2205.12 335.679 Z\" fill=\"#000000\" fill-rule=\"evenodd\" fill-opacity=\"1\" /><path clip-path=\"url(#clip240)\" d=\"M2230.07 358.665 Q2224.91 358.665 2222.92 359.846 Q2220.93 361.026 2220.93 363.874 Q2220.93 366.142 2222.41 367.485 Q2223.92 368.804 2226.48 368.804 Q2230.03 368.804 2232.16 366.304 Q2234.31 363.781 2234.31 359.614 L2234.31 358.665 L2230.07 358.665 M2238.57 356.906 L2238.57 371.698 L2234.31 371.698 L2234.31 367.762 Q2232.85 370.123 2230.67 371.258 Q2228.5 372.369 2225.35 372.369 Q2221.37 372.369 2219.01 370.147 Q2216.67 367.901 2216.67 364.151 Q2216.67 359.776 2219.59 357.554 Q2222.53 355.332 2228.34 355.332 L2234.31 355.332 L2234.31 354.915 Q2234.31 351.975 2232.36 350.378 Q2230.44 348.758 2226.95 348.758 Q2224.73 348.758 2222.62 349.29 Q2220.51 349.823 2218.57 350.887 L2218.57 346.952 Q2220.91 346.05 2223.11 345.61 Q2225.3 345.147 2227.39 345.147 Q2233.01 345.147 2235.79 348.063 Q2238.57 350.98 2238.57 356.906 Z\" fill=\"#000000\" fill-rule=\"evenodd\" fill-opacity=\"1\" /><circle clip-path=\"url(#clip240)\" cx=\"1844.87\" cy=\"406.258\" r=\"23.04\" fill=\"#00a9ad\" fill-rule=\"evenodd\" fill-opacity=\"1\" stroke=\"#000000\" stroke-opacity=\"1\" stroke-width=\"5.12\"/>\n<path clip-path=\"url(#clip240)\" d=\"M1960.84 407.334 Q1962.34 407.843 1963.75 409.51 Q1965.19 411.177 1966.63 414.093 L1971.37 423.538 L1966.35 423.538 L1961.93 414.672 Q1960.21 411.2 1958.59 410.065 Q1957 408.931 1954.22 408.931 L1949.13 408.931 L1949.13 423.538 L1944.45 423.538 L1944.45 388.978 L1955 388.978 Q1960.93 388.978 1963.85 391.454 Q1966.76 393.931 1966.76 398.931 Q1966.76 402.195 1965.24 404.348 Q1963.73 406.501 1960.84 407.334 M1949.13 392.82 L1949.13 405.089 L1955 405.089 Q1958.38 405.089 1960.1 403.538 Q1961.83 401.964 1961.83 398.931 Q1961.83 395.899 1960.1 394.371 Q1958.38 392.82 1955 392.82 L1949.13 392.82 Z\" fill=\"#000000\" fill-rule=\"evenodd\" fill-opacity=\"1\" /><path clip-path=\"url(#clip240)\" d=\"M1985.12 400.598 Q1981.69 400.598 1979.7 403.283 Q1977.71 405.945 1977.71 410.598 Q1977.71 415.251 1979.68 417.936 Q1981.67 420.598 1985.12 420.598 Q1988.52 420.598 1990.51 417.913 Q1992.5 415.227 1992.5 410.598 Q1992.5 405.991 1990.51 403.306 Q1988.52 400.598 1985.12 400.598 M1985.12 396.987 Q1990.68 396.987 1993.85 400.598 Q1997.02 404.209 1997.02 410.598 Q1997.02 416.964 1993.85 420.598 Q1990.68 424.209 1985.12 424.209 Q1979.54 424.209 1976.37 420.598 Q1973.22 416.964 1973.22 410.598 Q1973.22 404.209 1976.37 400.598 Q1979.54 396.987 1985.12 396.987 Z\" fill=\"#000000\" fill-rule=\"evenodd\" fill-opacity=\"1\" /><path clip-path=\"url(#clip240)\" d=\"M2008.29 390.251 L2008.29 397.612 L2017.06 397.612 L2017.06 400.922 L2008.29 400.922 L2008.29 414.996 Q2008.29 418.167 2009.15 419.07 Q2010.03 419.973 2012.69 419.973 L2017.06 419.973 L2017.06 423.538 L2012.69 423.538 Q2007.76 423.538 2005.88 421.709 Q2004.01 419.857 2004.01 414.996 L2004.01 400.922 L2000.88 400.922 L2000.88 397.612 L2004.01 397.612 L2004.01 390.251 L2008.29 390.251 Z\" fill=\"#000000\" fill-rule=\"evenodd\" fill-opacity=\"1\" /><path clip-path=\"url(#clip240)\" d=\"M2044.84 409.51 L2044.84 411.593 L2025.26 411.593 Q2025.54 415.991 2027.9 418.306 Q2030.28 420.598 2034.52 420.598 Q2036.97 420.598 2039.26 419.996 Q2041.58 419.394 2043.85 418.19 L2043.85 422.218 Q2041.56 423.19 2039.15 423.7 Q2036.74 424.209 2034.26 424.209 Q2028.06 424.209 2024.43 420.598 Q2020.81 416.987 2020.81 410.829 Q2020.81 404.464 2024.24 400.737 Q2027.69 396.987 2033.52 396.987 Q2038.75 396.987 2041.79 400.366 Q2044.84 403.723 2044.84 409.51 M2040.58 408.26 Q2040.54 404.765 2038.62 402.681 Q2036.72 400.598 2033.57 400.598 Q2030 400.598 2027.85 402.612 Q2025.72 404.626 2025.4 408.283 L2040.58 408.26 Z\" fill=\"#000000\" fill-rule=\"evenodd\" fill-opacity=\"1\" /><path clip-path=\"url(#clip240)\" d=\"M2063.62 410.505 Q2058.45 410.505 2056.46 411.686 Q2054.47 412.866 2054.47 415.714 Q2054.47 417.982 2055.95 419.325 Q2057.46 420.644 2060.03 420.644 Q2063.57 420.644 2065.7 418.144 Q2067.85 415.621 2067.85 411.454 L2067.85 410.505 L2063.62 410.505 M2072.11 408.746 L2072.11 423.538 L2067.85 423.538 L2067.85 419.602 Q2066.39 421.963 2064.22 423.098 Q2062.04 424.209 2058.89 424.209 Q2054.91 424.209 2052.55 421.987 Q2050.21 419.741 2050.21 415.991 Q2050.21 411.616 2053.13 409.394 Q2056.07 407.172 2061.88 407.172 L2067.85 407.172 L2067.85 406.755 Q2067.85 403.815 2065.91 402.218 Q2063.99 400.598 2060.49 400.598 Q2058.27 400.598 2056.16 401.13 Q2054.06 401.663 2052.11 402.727 L2052.11 398.792 Q2054.45 397.89 2056.65 397.45 Q2058.85 396.987 2060.93 396.987 Q2066.56 396.987 2069.33 399.903 Q2072.11 402.82 2072.11 408.746 Z\" fill=\"#000000\" fill-rule=\"evenodd\" fill-opacity=\"1\" /><path clip-path=\"url(#clip240)\" d=\"M2097.94 401.547 L2097.94 387.519 L2102.2 387.519 L2102.2 423.538 L2097.94 423.538 L2097.94 419.649 Q2096.6 421.963 2094.54 423.098 Q2092.5 424.209 2089.63 424.209 Q2084.93 424.209 2081.97 420.459 Q2079.03 416.709 2079.03 410.598 Q2079.03 404.487 2081.97 400.737 Q2084.93 396.987 2089.63 396.987 Q2092.5 396.987 2094.54 398.121 Q2096.6 399.232 2097.94 401.547 M2083.43 410.598 Q2083.43 415.297 2085.35 417.982 Q2087.3 420.644 2090.68 420.644 Q2094.06 420.644 2096 417.982 Q2097.94 415.297 2097.94 410.598 Q2097.94 405.899 2096 403.237 Q2094.06 400.552 2090.68 400.552 Q2087.3 400.552 2085.35 403.237 Q2083.43 405.899 2083.43 410.598 Z\" fill=\"#000000\" fill-rule=\"evenodd\" fill-opacity=\"1\" /><path clip-path=\"url(#clip240)\" d=\"M2121.02 400.598 Q2117.6 400.598 2115.61 403.283 Q2113.62 405.945 2113.62 410.598 Q2113.62 415.251 2115.58 417.936 Q2117.57 420.598 2121.02 420.598 Q2124.43 420.598 2126.42 417.913 Q2128.41 415.227 2128.41 410.598 Q2128.41 405.991 2126.42 403.306 Q2124.43 400.598 2121.02 400.598 M2121.02 396.987 Q2126.58 396.987 2129.75 400.598 Q2132.92 404.209 2132.92 410.598 Q2132.92 416.964 2129.75 420.598 Q2126.58 424.209 2121.02 424.209 Q2115.44 424.209 2112.27 420.598 Q2109.12 416.964 2109.12 410.598 Q2109.12 404.209 2112.27 400.598 Q2115.44 396.987 2121.02 396.987 Z\" fill=\"#000000\" fill-rule=\"evenodd\" fill-opacity=\"1\" /><path clip-path=\"url(#clip240)\" d=\"M2155 401.593 Q2154.29 401.177 2153.43 400.991 Q2152.6 400.783 2151.58 400.783 Q2147.97 400.783 2146.02 403.144 Q2144.1 405.482 2144.1 409.88 L2144.1 423.538 L2139.82 423.538 L2139.82 397.612 L2144.1 397.612 L2144.1 401.64 Q2145.44 399.278 2147.6 398.144 Q2149.75 396.987 2152.83 396.987 Q2153.27 396.987 2153.8 397.056 Q2154.33 397.103 2154.98 397.218 L2155 401.593 Z\" fill=\"#000000\" fill-rule=\"evenodd\" fill-opacity=\"1\" /></svg>\n"
     },
     "execution_count": 43,
     "metadata": {},
     "output_type": "execute_result"
    }
   ],
   "source": [
    "using Plots\n",
    "rectangle(w, h, x, y) = Shape(x .+ [0,w,w,0], y .+ [0,0,h,h])\n",
    "plot(rectangle(4,4,0,0), label=\"Apartamento\", opacity=.2)\n",
    "i=0\n",
    "for dispositivo in dispositivos \n",
    "    scatter!([dispositivo[1]],[dispositivo[2]], label=\"Dispositivo \"*string(i))\n",
    "    i+=1\n",
    "end\n",
    "for interferencia in interferencias\n",
    "    scatter!([interferencia[1][1],interferencia[2][1]],[interferencia[1][2],interferencia[2][2]],label=\"Interferencia\")\n",
    "    plot!([interferencia[1][1],interferencia[2][1]],[interferencia[1][2],interferencia[2][2]],label=\"Interferencia\")\n",
    "end\n",
    "scatter!([JuMP.value.(x)],[JuMP.value.(y)], label=\"Roteador\")"
   ]
  },
  {
   "cell_type": "code",
   "execution_count": 44,
   "metadata": {},
   "outputs": [
    {
     "name": "stdout",
     "output_type": "stream",
     "text": [
      "Any[0.0, 0.0]\n",
      "0.0\n"
     ]
    }
   ],
   "source": [
    "println(force(JuMP.value.(x),JuMP.value.(y),-1))\n",
    "println(force(JuMP.value.(x),JuMP.value.(y),1))"
   ]
  },
  {
   "cell_type": "code",
   "execution_count": 45,
   "metadata": {},
   "outputs": [
    {
     "data": {
      "image/svg+xml": "<?xml version=\"1.0\" encoding=\"utf-8\"?>\n<svg xmlns=\"http://www.w3.org/2000/svg\" xmlns:xlink=\"http://www.w3.org/1999/xlink\" width=\"600\" height=\"400\" viewBox=\"0 0 2400 1600\">\n<defs>\n  <clipPath id=\"clip280\">\n    <rect x=\"0\" y=\"0\" width=\"2400\" height=\"1600\"/>\n  </clipPath>\n</defs>\n<path clip-path=\"url(#clip280)\" d=\"\nM0 1600 L2400 1600 L2400 0 L0 0  Z\n  \" fill=\"#ffffff\" fill-rule=\"evenodd\" fill-opacity=\"1\"/>\n<defs>\n  <clipPath id=\"clip281\">\n    <rect x=\"480\" y=\"0\" width=\"1681\" height=\"1600\"/>\n  </clipPath>\n</defs>\n<path clip-path=\"url(#clip280)\" d=\"\nM156.112 1486.45 L2352.76 1486.45 L2352.76 47.2441 L156.112 47.2441  Z\n  \" fill=\"#ffffff\" fill-rule=\"evenodd\" fill-opacity=\"1\"/>\n<defs>\n  <clipPath id=\"clip282\">\n    <rect x=\"156\" y=\"47\" width=\"2198\" height=\"1440\"/>\n  </clipPath>\n</defs>\n<polyline clip-path=\"url(#clip282)\" style=\"stroke:#000000; stroke-linecap:round; stroke-linejoin:round; stroke-width:2; stroke-opacity:0.1; fill:none\" points=\"\n  380.671,1486.45 380.671,47.2441 \n  \"/>\n<polyline clip-path=\"url(#clip282)\" style=\"stroke:#000000; stroke-linecap:round; stroke-linejoin:round; stroke-width:2; stroke-opacity:0.1; fill:none\" points=\"\n  795.134,1486.45 795.134,47.2441 \n  \"/>\n<polyline clip-path=\"url(#clip282)\" style=\"stroke:#000000; stroke-linecap:round; stroke-linejoin:round; stroke-width:2; stroke-opacity:0.1; fill:none\" points=\"\n  1209.6,1486.45 1209.6,47.2441 \n  \"/>\n<polyline clip-path=\"url(#clip282)\" style=\"stroke:#000000; stroke-linecap:round; stroke-linejoin:round; stroke-width:2; stroke-opacity:0.1; fill:none\" points=\"\n  1624.06,1486.45 1624.06,47.2441 \n  \"/>\n<polyline clip-path=\"url(#clip282)\" style=\"stroke:#000000; stroke-linecap:round; stroke-linejoin:round; stroke-width:2; stroke-opacity:0.1; fill:none\" points=\"\n  2038.52,1486.45 2038.52,47.2441 \n  \"/>\n<polyline clip-path=\"url(#clip280)\" style=\"stroke:#000000; stroke-linecap:round; stroke-linejoin:round; stroke-width:4; stroke-opacity:1; fill:none\" points=\"\n  156.112,1486.45 2352.76,1486.45 \n  \"/>\n<polyline clip-path=\"url(#clip280)\" style=\"stroke:#000000; stroke-linecap:round; stroke-linejoin:round; stroke-width:4; stroke-opacity:1; fill:none\" points=\"\n  380.671,1486.45 380.671,1467.55 \n  \"/>\n<polyline clip-path=\"url(#clip280)\" style=\"stroke:#000000; stroke-linecap:round; stroke-linejoin:round; stroke-width:4; stroke-opacity:1; fill:none\" points=\"\n  795.134,1486.45 795.134,1467.55 \n  \"/>\n<polyline clip-path=\"url(#clip280)\" style=\"stroke:#000000; stroke-linecap:round; stroke-linejoin:round; stroke-width:4; stroke-opacity:1; fill:none\" points=\"\n  1209.6,1486.45 1209.6,1467.55 \n  \"/>\n<polyline clip-path=\"url(#clip280)\" style=\"stroke:#000000; stroke-linecap:round; stroke-linejoin:round; stroke-width:4; stroke-opacity:1; fill:none\" points=\"\n  1624.06,1486.45 1624.06,1467.55 \n  \"/>\n<polyline clip-path=\"url(#clip280)\" style=\"stroke:#000000; stroke-linecap:round; stroke-linejoin:round; stroke-width:4; stroke-opacity:1; fill:none\" points=\"\n  2038.52,1486.45 2038.52,1467.55 \n  \"/>\n<path clip-path=\"url(#clip280)\" d=\"M349.572 1532.02 L379.248 1532.02 L379.248 1535.95 L349.572 1535.95 L349.572 1532.02 Z\" fill=\"#000000\" fill-rule=\"evenodd\" fill-opacity=\"1\" /><path clip-path=\"url(#clip280)\" d=\"M402.187 1518.36 L390.382 1536.81 L402.187 1536.81 L402.187 1518.36 M400.961 1514.29 L406.84 1514.29 L406.84 1536.81 L411.771 1536.81 L411.771 1540.7 L406.84 1540.7 L406.84 1548.85 L402.187 1548.85 L402.187 1540.7 L386.586 1540.7 L386.586 1536.19 L400.961 1514.29 Z\" fill=\"#000000\" fill-rule=\"evenodd\" fill-opacity=\"1\" /><path clip-path=\"url(#clip280)\" d=\"M765.077 1532.02 L794.753 1532.02 L794.753 1535.95 L765.077 1535.95 L765.077 1532.02 Z\" fill=\"#000000\" fill-rule=\"evenodd\" fill-opacity=\"1\" /><path clip-path=\"url(#clip280)\" d=\"M808.873 1544.91 L825.192 1544.91 L825.192 1548.85 L803.248 1548.85 L803.248 1544.91 Q805.91 1542.16 810.493 1537.53 Q815.1 1532.88 816.28 1531.53 Q818.526 1529.01 819.405 1527.27 Q820.308 1525.51 820.308 1523.82 Q820.308 1521.07 818.364 1519.33 Q816.442 1517.6 813.34 1517.6 Q811.141 1517.6 808.688 1518.36 Q806.257 1519.13 803.479 1520.68 L803.479 1515.95 Q806.303 1514.82 808.757 1514.24 Q811.211 1513.66 813.248 1513.66 Q818.618 1513.66 821.813 1516.35 Q825.007 1519.03 825.007 1523.52 Q825.007 1525.65 824.197 1527.57 Q823.41 1529.47 821.303 1532.07 Q820.725 1532.74 817.623 1535.95 Q814.521 1539.15 808.873 1544.91 Z\" fill=\"#000000\" fill-rule=\"evenodd\" fill-opacity=\"1\" /><path clip-path=\"url(#clip280)\" d=\"M1209.6 1517.37 Q1205.99 1517.37 1204.16 1520.93 Q1202.35 1524.47 1202.35 1531.6 Q1202.35 1538.71 1204.16 1542.27 Q1205.99 1545.82 1209.6 1545.82 Q1213.23 1545.82 1215.04 1542.27 Q1216.87 1538.71 1216.87 1531.6 Q1216.87 1524.47 1215.04 1520.93 Q1213.23 1517.37 1209.6 1517.37 M1209.6 1513.66 Q1215.41 1513.66 1218.46 1518.27 Q1221.54 1522.85 1221.54 1531.6 Q1221.54 1540.33 1218.46 1544.94 Q1215.41 1549.52 1209.6 1549.52 Q1203.79 1549.52 1200.71 1544.94 Q1197.65 1540.33 1197.65 1531.6 Q1197.65 1522.85 1200.71 1518.27 Q1203.79 1513.66 1209.6 1513.66 Z\" fill=\"#000000\" fill-rule=\"evenodd\" fill-opacity=\"1\" /><path clip-path=\"url(#clip280)\" d=\"M1618.71 1544.91 L1635.03 1544.91 L1635.03 1548.85 L1613.09 1548.85 L1613.09 1544.91 Q1615.75 1542.16 1620.33 1537.53 Q1624.94 1532.88 1626.12 1531.53 Q1628.37 1529.01 1629.25 1527.27 Q1630.15 1525.51 1630.15 1523.82 Q1630.15 1521.07 1628.2 1519.33 Q1626.28 1517.6 1623.18 1517.6 Q1620.98 1517.6 1618.53 1518.36 Q1616.1 1519.13 1613.32 1520.68 L1613.32 1515.95 Q1616.14 1514.82 1618.6 1514.24 Q1621.05 1513.66 1623.09 1513.66 Q1628.46 1513.66 1631.65 1516.35 Q1634.85 1519.03 1634.85 1523.52 Q1634.85 1525.65 1634.04 1527.57 Q1633.25 1529.47 1631.14 1532.07 Q1630.57 1532.74 1627.46 1535.95 Q1624.36 1539.15 1618.71 1544.91 Z\" fill=\"#000000\" fill-rule=\"evenodd\" fill-opacity=\"1\" /><path clip-path=\"url(#clip280)\" d=\"M2041.53 1518.36 L2029.73 1536.81 L2041.53 1536.81 L2041.53 1518.36 M2040.31 1514.29 L2046.19 1514.29 L2046.19 1536.81 L2051.12 1536.81 L2051.12 1540.7 L2046.19 1540.7 L2046.19 1548.85 L2041.53 1548.85 L2041.53 1540.7 L2025.93 1540.7 L2025.93 1536.19 L2040.31 1514.29 Z\" fill=\"#000000\" fill-rule=\"evenodd\" fill-opacity=\"1\" /><polyline clip-path=\"url(#clip282)\" style=\"stroke:#000000; stroke-linecap:round; stroke-linejoin:round; stroke-width:2; stroke-opacity:0.1; fill:none\" points=\"\n  156.112,1147.95 2352.76,1147.95 \n  \"/>\n<polyline clip-path=\"url(#clip282)\" style=\"stroke:#000000; stroke-linecap:round; stroke-linejoin:round; stroke-width:2; stroke-opacity:0.1; fill:none\" points=\"\n  156.112,808.514 2352.76,808.514 \n  \"/>\n<polyline clip-path=\"url(#clip282)\" style=\"stroke:#000000; stroke-linecap:round; stroke-linejoin:round; stroke-width:2; stroke-opacity:0.1; fill:none\" points=\"\n  156.112,469.076 2352.76,469.076 \n  \"/>\n<polyline clip-path=\"url(#clip282)\" style=\"stroke:#000000; stroke-linecap:round; stroke-linejoin:round; stroke-width:2; stroke-opacity:0.1; fill:none\" points=\"\n  156.112,129.638 2352.76,129.638 \n  \"/>\n<polyline clip-path=\"url(#clip280)\" style=\"stroke:#000000; stroke-linecap:round; stroke-linejoin:round; stroke-width:4; stroke-opacity:1; fill:none\" points=\"\n  156.112,1486.45 156.112,47.2441 \n  \"/>\n<polyline clip-path=\"url(#clip280)\" style=\"stroke:#000000; stroke-linecap:round; stroke-linejoin:round; stroke-width:4; stroke-opacity:1; fill:none\" points=\"\n  156.112,1147.95 175.01,1147.95 \n  \"/>\n<polyline clip-path=\"url(#clip280)\" style=\"stroke:#000000; stroke-linecap:round; stroke-linejoin:round; stroke-width:4; stroke-opacity:1; fill:none\" points=\"\n  156.112,808.514 175.01,808.514 \n  \"/>\n<polyline clip-path=\"url(#clip280)\" style=\"stroke:#000000; stroke-linecap:round; stroke-linejoin:round; stroke-width:4; stroke-opacity:1; fill:none\" points=\"\n  156.112,469.076 175.01,469.076 \n  \"/>\n<polyline clip-path=\"url(#clip280)\" style=\"stroke:#000000; stroke-linecap:round; stroke-linejoin:round; stroke-width:4; stroke-opacity:1; fill:none\" points=\"\n  156.112,129.638 175.01,129.638 \n  \"/>\n<path clip-path=\"url(#clip280)\" d=\"M62.9365 1133.75 Q59.3254 1133.75 57.4967 1137.32 Q55.6912 1140.86 55.6912 1147.99 Q55.6912 1155.09 57.4967 1158.66 Q59.3254 1162.2 62.9365 1162.2 Q66.5707 1162.2 68.3763 1158.66 Q70.205 1155.09 70.205 1147.99 Q70.205 1140.86 68.3763 1137.32 Q66.5707 1133.75 62.9365 1133.75 M62.9365 1130.05 Q68.7467 1130.05 71.8022 1134.65 Q74.8809 1139.24 74.8809 1147.99 Q74.8809 1156.71 71.8022 1161.32 Q68.7467 1165.9 62.9365 1165.9 Q57.1264 1165.9 54.0477 1161.32 Q50.9921 1156.71 50.9921 1147.99 Q50.9921 1139.24 54.0477 1134.65 Q57.1264 1130.05 62.9365 1130.05 Z\" fill=\"#000000\" fill-rule=\"evenodd\" fill-opacity=\"1\" /><path clip-path=\"url(#clip280)\" d=\"M83.0984 1159.35 L87.9827 1159.35 L87.9827 1165.23 L83.0984 1165.23 L83.0984 1159.35 Z\" fill=\"#000000\" fill-rule=\"evenodd\" fill-opacity=\"1\" /><path clip-path=\"url(#clip280)\" d=\"M108.168 1133.75 Q104.557 1133.75 102.728 1137.32 Q100.922 1140.86 100.922 1147.99 Q100.922 1155.09 102.728 1158.66 Q104.557 1162.2 108.168 1162.2 Q111.802 1162.2 113.608 1158.66 Q115.436 1155.09 115.436 1147.99 Q115.436 1140.86 113.608 1137.32 Q111.802 1133.75 108.168 1133.75 M108.168 1130.05 Q113.978 1130.05 117.033 1134.65 Q120.112 1139.24 120.112 1147.99 Q120.112 1156.71 117.033 1161.32 Q113.978 1165.9 108.168 1165.9 Q102.358 1165.9 99.2789 1161.32 Q96.2234 1156.71 96.2234 1147.99 Q96.2234 1139.24 99.2789 1134.65 Q102.358 1130.05 108.168 1130.05 Z\" fill=\"#000000\" fill-rule=\"evenodd\" fill-opacity=\"1\" /><path clip-path=\"url(#clip280)\" d=\"M57.9597 821.859 L74.279 821.859 L74.279 825.794 L52.3347 825.794 L52.3347 821.859 Q54.9967 819.104 59.58 814.475 Q64.1865 809.822 65.367 808.479 Q67.6124 805.956 68.492 804.22 Q69.3948 802.461 69.3948 800.771 Q69.3948 798.016 67.4504 796.28 Q65.5291 794.544 62.4272 794.544 Q60.2282 794.544 57.7745 795.308 Q55.344 796.072 52.5662 797.623 L52.5662 792.901 Q55.3903 791.766 57.8439 791.188 Q60.2976 790.609 62.3347 790.609 Q67.705 790.609 70.8994 793.294 Q74.0939 795.979 74.0939 800.47 Q74.0939 802.6 73.2837 804.521 Q72.4966 806.419 70.3902 809.012 Q69.8115 809.683 66.7096 812.901 Q63.6078 816.095 57.9597 821.859 Z\" fill=\"#000000\" fill-rule=\"evenodd\" fill-opacity=\"1\" /><path clip-path=\"url(#clip280)\" d=\"M84.0938 819.914 L88.978 819.914 L88.978 825.794 L84.0938 825.794 L84.0938 819.914 Z\" fill=\"#000000\" fill-rule=\"evenodd\" fill-opacity=\"1\" /><path clip-path=\"url(#clip280)\" d=\"M99.2095 791.234 L117.566 791.234 L117.566 795.169 L103.492 795.169 L103.492 803.641 Q104.51 803.294 105.529 803.132 Q106.547 802.947 107.566 802.947 Q113.353 802.947 116.733 806.118 Q120.112 809.29 120.112 814.706 Q120.112 820.285 116.64 823.387 Q113.168 826.465 106.848 826.465 Q104.672 826.465 102.404 826.095 Q100.159 825.725 97.7511 824.984 L97.7511 820.285 Q99.8345 821.419 102.057 821.975 Q104.279 822.53 106.756 822.53 Q110.76 822.53 113.098 820.424 Q115.436 818.317 115.436 814.706 Q115.436 811.095 113.098 808.989 Q110.76 806.882 106.756 806.882 Q104.881 806.882 103.006 807.299 Q101.154 807.715 99.2095 808.595 L99.2095 791.234 Z\" fill=\"#000000\" fill-rule=\"evenodd\" fill-opacity=\"1\" /><path clip-path=\"url(#clip280)\" d=\"M52.9829 451.796 L71.3392 451.796 L71.3392 455.731 L57.2652 455.731 L57.2652 464.203 Q58.2838 463.856 59.3023 463.694 Q60.3208 463.509 61.3393 463.509 Q67.1263 463.509 70.5059 466.68 Q73.8855 469.851 73.8855 475.268 Q73.8855 480.847 70.4133 483.948 Q66.9411 487.027 60.6217 487.027 Q58.4458 487.027 56.1773 486.657 Q53.9319 486.286 51.5245 485.546 L51.5245 480.847 Q53.6079 481.981 55.8301 482.536 Q58.0523 483.092 60.5291 483.092 Q64.5337 483.092 66.8717 480.986 Q69.2096 478.879 69.2096 475.268 Q69.2096 471.657 66.8717 469.55 Q64.5337 467.444 60.5291 467.444 Q58.6541 467.444 56.7791 467.861 Q54.9273 468.277 52.9829 469.157 L52.9829 451.796 Z\" fill=\"#000000\" fill-rule=\"evenodd\" fill-opacity=\"1\" /><path clip-path=\"url(#clip280)\" d=\"M83.0984 480.476 L87.9827 480.476 L87.9827 486.356 L83.0984 486.356 L83.0984 480.476 Z\" fill=\"#000000\" fill-rule=\"evenodd\" fill-opacity=\"1\" /><path clip-path=\"url(#clip280)\" d=\"M108.168 454.875 Q104.557 454.875 102.728 458.439 Q100.922 461.981 100.922 469.111 Q100.922 476.217 102.728 479.782 Q104.557 483.323 108.168 483.323 Q111.802 483.323 113.608 479.782 Q115.436 476.217 115.436 469.111 Q115.436 461.981 113.608 458.439 Q111.802 454.875 108.168 454.875 M108.168 451.171 Q113.978 451.171 117.033 455.777 Q120.112 460.361 120.112 469.111 Q120.112 477.837 117.033 482.444 Q113.978 487.027 108.168 487.027 Q102.358 487.027 99.2789 482.444 Q96.2234 477.837 96.2234 469.111 Q96.2234 460.361 99.2789 455.777 Q102.358 451.171 108.168 451.171 Z\" fill=\"#000000\" fill-rule=\"evenodd\" fill-opacity=\"1\" /><path clip-path=\"url(#clip280)\" d=\"M52.7514 112.358 L74.9735 112.358 L74.9735 114.348 L62.4272 146.918 L57.543 146.918 L69.3485 116.293 L52.7514 116.293 L52.7514 112.358 Z\" fill=\"#000000\" fill-rule=\"evenodd\" fill-opacity=\"1\" /><path clip-path=\"url(#clip280)\" d=\"M84.0938 141.038 L88.978 141.038 L88.978 146.918 L84.0938 146.918 L84.0938 141.038 Z\" fill=\"#000000\" fill-rule=\"evenodd\" fill-opacity=\"1\" /><path clip-path=\"url(#clip280)\" d=\"M99.2095 112.358 L117.566 112.358 L117.566 116.293 L103.492 116.293 L103.492 124.765 Q104.51 124.418 105.529 124.256 Q106.547 124.071 107.566 124.071 Q113.353 124.071 116.733 127.242 Q120.112 130.413 120.112 135.83 Q120.112 141.408 116.64 144.51 Q113.168 147.589 106.848 147.589 Q104.672 147.589 102.404 147.219 Q100.159 146.848 97.7511 146.107 L97.7511 141.408 Q99.8345 142.543 102.057 143.098 Q104.279 143.654 106.756 143.654 Q110.76 143.654 113.098 141.547 Q115.436 139.441 115.436 135.83 Q115.436 132.219 113.098 130.112 Q110.76 128.006 106.756 128.006 Q104.881 128.006 103.006 128.422 Q101.154 128.839 99.2095 129.719 L99.2095 112.358 Z\" fill=\"#000000\" fill-rule=\"evenodd\" fill-opacity=\"1\" /><path clip-path=\"url(#clip282)\" d=\"\nM1209.6 1147.95 L2038.52 1147.95 L2038.52 604.851 L1209.6 604.851 L1209.6 1147.95  Z\n  \" fill=\"#009af9\" fill-rule=\"evenodd\" fill-opacity=\"0.2\"/>\n<polyline clip-path=\"url(#clip282)\" style=\"stroke:#000000; stroke-linecap:round; stroke-linejoin:round; stroke-width:4; stroke-opacity:0.2; fill:none\" points=\"\n  1209.6,1147.95 2038.52,1147.95 2038.52,604.851 1209.6,604.851 1209.6,1147.95 \n  \"/>\n<circle clip-path=\"url(#clip282)\" cx=\"1209.6\" cy=\"1147.95\" r=\"14.4\" fill=\"#e26f46\" fill-rule=\"evenodd\" fill-opacity=\"1\" stroke=\"#000000\" stroke-opacity=\"1\" stroke-width=\"3.2\"/>\n<circle clip-path=\"url(#clip282)\" cx=\"1209.6\" cy=\"604.851\" r=\"14.4\" fill=\"#3da44d\" fill-rule=\"evenodd\" fill-opacity=\"1\" stroke=\"#000000\" stroke-opacity=\"1\" stroke-width=\"3.2\"/>\n<circle clip-path=\"url(#clip282)\" cx=\"1209.6\" cy=\"876.402\" r=\"14.4\" fill=\"#c271d2\" fill-rule=\"evenodd\" fill-opacity=\"1\" stroke=\"#000000\" stroke-opacity=\"1\" stroke-width=\"3.2\"/>\n<circle clip-path=\"url(#clip282)\" cx=\"1416.83\" cy=\"876.402\" r=\"14.4\" fill=\"#c271d2\" fill-rule=\"evenodd\" fill-opacity=\"1\" stroke=\"#000000\" stroke-opacity=\"1\" stroke-width=\"3.2\"/>\n<polyline clip-path=\"url(#clip282)\" style=\"stroke:#ac8d18; stroke-linecap:round; stroke-linejoin:round; stroke-width:4; stroke-opacity:1; fill:none\" points=\"\n  1209.6,876.402 1416.83,876.402 \n  \"/>\n<circle clip-path=\"url(#clip282)\" cx=\"1254.43\" cy=\"766.853\" r=\"14.4\" fill=\"#00a9ad\" fill-rule=\"evenodd\" fill-opacity=\"1\" stroke=\"#000000\" stroke-opacity=\"1\" stroke-width=\"3.2\"/>\n<polyline clip-path=\"url(#clip282)\" style=\"stroke:#ed5d92; stroke-linecap:round; stroke-linejoin:round; stroke-width:4; stroke-opacity:1; fill:none\" points=\"\n  1254.43,87.9763 1267.48,88.0301 1280.52,88.1915 1293.57,88.4606 1306.6,88.8372 1319.63,89.3213 1332.64,89.9128 1345.64,90.6116 1358.63,91.4177 1371.6,92.3308 \n  1384.56,93.3509 1397.49,94.4777 1410.4,95.7112 1423.29,97.0511 1436.15,98.4971 1448.98,100.049 1461.77,101.707 1474.54,103.47 1487.27,105.338 1499.97,107.312 \n  1512.62,109.39 1525.24,111.572 1537.81,113.858 1550.33,116.247 1562.81,118.74 1575.24,121.335 1587.62,124.033 1599.95,126.832 1612.22,129.734 1624.44,132.736 \n  1636.6,135.838 1648.69,139.041 1660.73,142.343 1672.7,145.745 1684.6,149.244 1696.43,152.842 1708.2,156.537 1719.89,160.329 1731.51,164.217 1743.06,168.2 \n  1754.52,172.279 1765.91,176.451 1777.21,180.717 1788.44,185.077 1799.57,189.528 1810.63,194.071 1821.59,198.705 1832.46,203.429 1843.25,208.242 1853.93,213.143 \n  1864.53,218.133 1875.02,223.21 1885.42,228.372 1895.72,233.62 1905.92,238.953 1916.01,244.369 1926,249.868 1935.88,255.45 1945.66,261.112 1955.32,266.854 \n  1964.87,272.676 1974.31,278.576 1983.64,284.553 1992.85,290.607 2001.95,296.737 2010.92,302.941 2019.78,309.218 2028.51,315.568 2037.12,321.99 2045.61,328.482 \n  2053.97,335.043 2062.21,341.673 2070.31,348.371 2078.29,355.135 2086.14,361.964 2093.85,368.857 2101.43,375.814 2108.88,382.832 2116.19,389.911 2123.37,397.05 \n  2130.41,404.248 2137.31,411.503 2144.07,418.815 2150.68,426.181 2157.16,433.602 2163.49,441.076 2169.68,448.601 2175.72,456.177 2181.62,463.801 2187.37,471.474 \n  2192.98,479.194 2198.43,486.96 2203.73,494.769 2208.89,502.622 2213.89,510.517 2218.74,518.452 2223.44,526.427 2227.98,534.44 2232.37,542.49 2236.6,550.575 \n  2240.68,558.695 2244.6,566.848 2248.37,575.032 2251.98,583.247 2255.43,591.491 2258.72,599.762 2261.85,608.06 2264.82,616.384 2267.63,624.731 2270.28,633.101 \n  2272.77,641.492 2275.1,649.903 2277.27,658.332 2279.27,666.778 2281.11,675.241 2282.79,683.718 2284.31,692.208 2285.66,700.71 2286.85,709.222 2287.88,717.744 \n  2288.74,726.273 2289.44,734.809 2289.97,743.35 2290.34,751.895 2290.55,760.442 2290.59,768.99 2290.46,777.537 2290.18,786.083 2289.72,794.626 2289.11,803.165 \n  2288.33,811.698 2287.38,820.223 2286.28,828.74 2285.01,837.248 2283.57,845.744 2281.97,854.228 2280.21,862.698 2278.29,871.152 2276.2,879.59 2273.96,888.011 \n  2271.55,896.412 2268.98,904.792 2266.25,913.151 2263.35,921.486 2260.3,929.797 2257.09,938.082 2253.72,946.34 2250.19,954.57 2246.51,962.77 2242.66,970.938 \n  2238.66,979.074 2234.51,987.177 2230.19,995.245 2225.73,1003.28 2221.11,1011.27 2216.33,1019.23 2211.41,1027.14 2206.33,1035.01 2201.1,1042.85 2195.72,1050.63 \n  2190.19,1058.38 2184.52,1066.07 2178.69,1073.72 2172.72,1081.32 2166.6,1088.87 2160.34,1096.37 2153.94,1103.82 2147.39,1111.21 2140.7,1118.55 2133.87,1125.84 \n  2126.91,1133.06 2119.8,1140.23 2112.56,1147.34 2105.17,1154.39 2097.66,1161.38 2090.01,1168.3 2082.23,1175.16 2074.32,1181.96 2066.28,1188.69 2058.1,1195.36 \n  2049.81,1201.95 2041.38,1208.48 2032.83,1214.94 2024.16,1221.32 2015.36,1227.64 2006.45,1233.88 1997.41,1240.04 1988.26,1246.13 1978.99,1252.15 1969.61,1258.09 \n  1960.11,1263.95 1950.5,1269.73 1940.78,1275.43 1930.95,1281.06 1921.02,1286.6 1910.98,1292.05 1900.83,1297.43 1890.58,1302.72 1880.24,1307.93 1869.79,1313.04 \n  1859.24,1318.08 1848.6,1323.02 1837.87,1327.88 1827.04,1332.65 1816.12,1337.33 1805.11,1341.92 1794.02,1346.41 1782.84,1350.82 1771.57,1355.13 1760.22,1359.35 \n  1748.8,1363.48 1737.29,1367.51 1725.71,1371.44 1714.06,1375.28 1702.33,1379.03 1690.53,1382.67 1678.66,1386.22 1666.72,1389.67 1654.72,1393.03 1642.65,1396.28 \n  1630.53,1399.43 1618.34,1402.48 1606.1,1405.44 1593.8,1408.29 1581.44,1411.03 1569.04,1413.68 1556.58,1416.22 1544.08,1418.67 1531.53,1421 1518.93,1423.24 \n  1506.3,1425.37 1493.62,1427.39 1480.91,1429.31 1468.16,1431.13 1455.38,1432.84 1442.56,1434.45 1429.72,1435.94 1416.85,1437.34 1403.95,1438.62 1391.03,1439.8 \n  1378.08,1440.88 1365.12,1441.84 1352.14,1442.7 1339.14,1443.46 1326.13,1444.1 1313.11,1444.64 1300.08,1445.07 1287.05,1445.39 1274,1445.61 1260.96,1445.72 \n  1247.91,1445.72 1234.86,1445.61 1221.82,1445.39 1208.78,1445.07 1195.75,1444.64 1182.73,1444.1 1169.72,1443.46 1156.73,1442.7 1143.75,1441.84 1130.78,1440.88 \n  1117.84,1439.8 1104.92,1438.62 1092.02,1437.34 1079.15,1435.94 1066.3,1434.45 1053.49,1432.84 1040.71,1431.13 1027.96,1429.31 1015.24,1427.39 1002.57,1425.37 \n  989.934,1423.24 977.341,1421 964.791,1418.67 952.288,1416.22 939.832,1413.68 927.427,1411.03 915.073,1408.29 902.773,1405.44 890.529,1402.48 878.342,1399.43 \n  866.215,1396.28 854.15,1393.03 842.148,1389.67 830.211,1386.22 818.342,1382.67 806.542,1379.03 794.813,1375.28 783.157,1371.44 771.575,1367.51 760.07,1363.48 \n  748.643,1359.35 737.297,1355.13 726.033,1350.82 714.852,1346.41 703.757,1341.92 692.749,1337.33 681.83,1332.65 671.002,1327.88 660.267,1323.02 649.625,1318.08 \n  639.08,1313.04 628.632,1307.93 618.284,1302.72 608.036,1297.43 597.891,1292.05 587.849,1286.6 577.914,1281.06 568.086,1275.43 558.366,1269.73 548.757,1263.95 \n  539.26,1258.09 529.876,1252.15 520.607,1246.13 511.455,1240.04 502.42,1233.88 493.505,1227.64 484.71,1221.32 476.037,1214.94 467.487,1208.48 459.063,1201.95 \n  450.764,1195.36 442.593,1188.69 434.551,1181.96 426.638,1175.16 418.857,1168.3 411.208,1161.38 403.693,1154.39 396.313,1147.34 389.069,1140.23 381.962,1133.06 \n  374.993,1125.84 368.164,1118.55 361.475,1111.21 354.928,1103.82 348.524,1096.37 342.263,1088.87 336.147,1081.32 330.176,1073.72 324.352,1066.07 318.676,1058.38 \n  313.147,1050.63 307.768,1042.85 302.539,1035.01 297.461,1027.14 292.535,1019.23 287.761,1011.27 283.141,1003.28 278.674,995.245 274.362,987.177 270.206,979.074 \n  266.205,970.938 262.362,962.77 258.675,954.57 255.147,946.34 251.777,938.082 248.565,929.797 245.514,921.486 242.622,913.151 239.891,904.792 237.32,896.412 \n  234.911,888.011 232.663,879.59 230.578,871.152 228.655,862.698 226.894,854.228 225.296,845.744 223.862,837.248 222.591,828.74 221.483,820.223 220.539,811.698 \n  219.759,803.165 219.144,794.626 218.692,786.083 218.404,777.537 218.281,768.99 218.322,760.442 218.528,751.895 218.897,743.35 219.431,734.809 220.129,726.273 \n  220.991,717.744 222.016,709.222 223.206,700.71 224.559,692.208 226.075,683.718 227.754,675.241 229.596,666.778 231.6,658.332 233.767,649.903 236.095,641.492 \n  238.585,633.101 241.236,624.731 244.048,616.384 247.02,608.06 250.151,599.762 253.442,591.491 256.891,583.247 260.499,575.032 264.264,566.848 268.186,558.695 \n  272.265,550.575 276.499,542.49 280.888,534.44 285.432,526.427 290.129,518.452 294.979,510.517 299.981,502.622 305.135,494.769 310.439,486.96 315.893,479.194 \n  321.495,471.474 327.246,463.801 333.143,456.177 339.187,448.601 345.376,441.076 351.708,433.602 358.184,426.181 364.802,418.815 371.561,411.503 378.46,404.248 \n  385.498,397.05 392.674,389.911 399.986,382.832 407.434,375.814 415.016,368.857 422.731,361.964 430.578,355.135 438.556,348.371 446.663,341.673 454.898,335.043 \n  463.259,328.482 471.747,321.99 480.358,315.568 489.092,309.218 497.947,302.941 506.923,296.737 516.017,290.607 525.227,284.553 534.554,278.576 543.995,272.676 \n  553.548,266.854 563.212,261.112 572.986,255.45 582.868,249.868 592.857,244.369 602.95,238.953 613.147,233.62 623.445,228.372 633.844,223.21 644.341,218.133 \n  654.934,213.143 665.623,208.242 676.405,203.429 687.278,198.705 698.242,194.071 709.293,189.528 720.432,185.077 731.654,180.717 742.96,176.451 754.347,172.279 \n  765.813,168.2 777.356,164.217 788.975,160.329 800.668,156.537 812.433,152.842 824.268,149.244 836.171,145.745 848.141,142.343 860.175,139.041 872.271,135.838 \n  884.428,132.736 896.644,129.734 908.916,126.832 921.243,124.033 933.623,121.335 946.054,118.74 958.534,116.247 971.061,113.858 983.632,111.572 996.247,109.39 \n  1008.9,107.312 1021.6,105.338 1034.33,103.47 1047.09,101.707 1059.89,100.049 1072.72,98.4971 1085.58,97.0511 1098.47,95.7112 1111.38,94.4777 1124.31,93.3509 \n  1137.26,92.3308 1150.24,91.4177 1163.22,90.6116 1176.23,89.9128 1189.24,89.3213 1202.27,88.8372 1215.3,88.4606 1228.34,88.1915 1241.39,88.0301 1254.43,87.9763 \n  \n  \"/>\n<circle clip-path=\"url(#clip282)\" cx=\"986.064\" cy=\"1422.56\" r=\"14.4\" fill=\"#c68125\" fill-rule=\"evenodd\" fill-opacity=\"1\" stroke=\"#000000\" stroke-opacity=\"1\" stroke-width=\"3.2\"/>\n<circle clip-path=\"url(#clip282)\" cx=\"1976.34\" cy=\"1253.84\" r=\"14.4\" fill=\"#c68125\" fill-rule=\"evenodd\" fill-opacity=\"1\" stroke=\"#000000\" stroke-opacity=\"1\" stroke-width=\"3.2\"/>\n<polyline clip-path=\"url(#clip282)\" style=\"stroke:#00a98d; stroke-linecap:round; stroke-linejoin:round; stroke-width:4; stroke-opacity:1; fill:none\" points=\"\n  1254.43,766.853 986.064,1422.56 \n  \"/>\n<polyline clip-path=\"url(#clip282)\" style=\"stroke:#8e971d; stroke-linecap:round; stroke-linejoin:round; stroke-width:4; stroke-opacity:1; fill:none\" points=\"\n  1254.43,766.853 1976.34,1253.84 \n  \"/>\n<polyline clip-path=\"url(#clip282)\" style=\"stroke:#00a8cb; stroke-linecap:round; stroke-linejoin:round; stroke-width:4; stroke-opacity:1; fill:none\" points=\"\n  1209.6,876.402 1416.83,876.402 1976.34,1253.84 986.064,1422.56 1209.6,876.402 \n  \"/>\n<circle clip-path=\"url(#clip282)\" cx=\"1254.43\" cy=\"766.853\" r=\"14.4\" fill=\"#9b7fe8\" fill-rule=\"evenodd\" fill-opacity=\"1\" stroke=\"#000000\" stroke-opacity=\"1\" stroke-width=\"3.2\"/>\n<path clip-path=\"url(#clip280)\" d=\"\nM229.334 1438.47 L1032.1 1438.47 L1032.1 764.554 L229.334 764.554  Z\n  \" fill=\"#ffffff\" fill-rule=\"evenodd\" fill-opacity=\"1\"/>\n<polyline clip-path=\"url(#clip280)\" style=\"stroke:#000000; stroke-linecap:round; stroke-linejoin:round; stroke-width:4; stroke-opacity:1; fill:none\" points=\"\n  229.334,1438.47 1032.1,1438.47 1032.1,764.554 229.334,764.554 229.334,1438.47 \n  \"/>\n<path clip-path=\"url(#clip280)\" d=\"\nM253.741 837.13 L400.184 837.13 L400.184 795.658 L253.741 795.658 L253.741 837.13  Z\n  \" fill=\"#009af9\" fill-rule=\"evenodd\" fill-opacity=\"0.2\"/>\n<polyline clip-path=\"url(#clip280)\" style=\"stroke:#000000; stroke-linecap:round; stroke-linejoin:round; stroke-width:4; stroke-opacity:1; fill:none\" points=\"\n  253.741,837.13 400.184,837.13 400.184,795.658 253.741,795.658 253.741,837.13 \n  \"/>\n<path clip-path=\"url(#clip280)\" d=\"M440.424 803.721 L434.082 820.92 L446.79 820.92 L440.424 803.721 M437.785 799.114 L443.086 799.114 L456.257 833.674 L451.396 833.674 L448.248 824.809 L432.669 824.809 L429.521 833.674 L424.591 833.674 L437.785 799.114 Z\" fill=\"#000000\" fill-rule=\"evenodd\" fill-opacity=\"1\" /><path clip-path=\"url(#clip280)\" d=\"M465.239 829.786 L465.239 843.535 L460.956 843.535 L460.956 807.749 L465.239 807.749 L465.239 811.684 Q466.581 809.369 468.618 808.258 Q470.679 807.124 473.526 807.124 Q478.248 807.124 481.188 810.874 Q484.151 814.624 484.151 820.735 Q484.151 826.846 481.188 830.596 Q478.248 834.346 473.526 834.346 Q470.679 834.346 468.618 833.235 Q466.581 832.1 465.239 829.786 M479.729 820.735 Q479.729 816.036 477.785 813.374 Q475.864 810.688 472.484 810.688 Q469.104 810.688 467.16 813.374 Q465.239 816.036 465.239 820.735 Q465.239 825.434 467.16 828.119 Q469.104 830.781 472.484 830.781 Q475.864 830.781 477.785 828.119 Q479.729 825.434 479.729 820.735 Z\" fill=\"#000000\" fill-rule=\"evenodd\" fill-opacity=\"1\" /><path clip-path=\"url(#clip280)\" d=\"M502.993 820.642 Q497.831 820.642 495.84 821.823 Q493.85 823.003 493.85 825.85 Q493.85 828.119 495.331 829.461 Q496.836 830.781 499.405 830.781 Q502.947 830.781 505.076 828.281 Q507.229 825.758 507.229 821.591 L507.229 820.642 L502.993 820.642 M511.488 818.883 L511.488 833.674 L507.229 833.674 L507.229 829.739 Q505.771 832.1 503.595 833.235 Q501.419 834.346 498.271 834.346 Q494.29 834.346 491.928 832.123 Q489.59 829.878 489.59 826.128 Q489.59 821.753 492.507 819.531 Q495.447 817.309 501.257 817.309 L507.229 817.309 L507.229 816.892 Q507.229 813.952 505.285 812.355 Q503.364 810.735 499.868 810.735 Q497.646 810.735 495.54 811.267 Q493.433 811.8 491.489 812.864 L491.489 808.929 Q493.827 808.026 496.026 807.587 Q498.225 807.124 500.308 807.124 Q505.933 807.124 508.711 810.04 Q511.488 812.957 511.488 818.883 Z\" fill=\"#000000\" fill-rule=\"evenodd\" fill-opacity=\"1\" /><path clip-path=\"url(#clip280)\" d=\"M535.285 811.73 Q534.567 811.313 533.711 811.128 Q532.877 810.92 531.859 810.92 Q528.248 810.92 526.303 813.281 Q524.382 815.619 524.382 820.017 L524.382 833.674 L520.1 833.674 L520.1 807.749 L524.382 807.749 L524.382 811.776 Q525.725 809.415 527.877 808.281 Q530.03 807.124 533.109 807.124 Q533.549 807.124 534.081 807.193 Q534.613 807.239 535.262 807.355 L535.285 811.73 Z\" fill=\"#000000\" fill-rule=\"evenodd\" fill-opacity=\"1\" /><path clip-path=\"url(#clip280)\" d=\"M543.965 800.388 L543.965 807.749 L552.738 807.749 L552.738 811.059 L543.965 811.059 L543.965 825.133 Q543.965 828.304 544.822 829.207 Q545.701 830.11 548.363 830.11 L552.738 830.11 L552.738 833.674 L548.363 833.674 Q543.433 833.674 541.558 831.846 Q539.683 829.994 539.683 825.133 L539.683 811.059 L536.558 811.059 L536.558 807.749 L539.683 807.749 L539.683 800.388 L543.965 800.388 Z\" fill=\"#000000\" fill-rule=\"evenodd\" fill-opacity=\"1\" /><path clip-path=\"url(#clip280)\" d=\"M570.122 820.642 Q564.96 820.642 562.97 821.823 Q560.979 823.003 560.979 825.85 Q560.979 828.119 562.46 829.461 Q563.965 830.781 566.534 830.781 Q570.076 830.781 572.206 828.281 Q574.359 825.758 574.359 821.591 L574.359 820.642 L570.122 820.642 M578.618 818.883 L578.618 833.674 L574.359 833.674 L574.359 829.739 Q572.9 832.1 570.724 833.235 Q568.548 834.346 565.4 834.346 Q561.419 834.346 559.058 832.123 Q556.72 829.878 556.72 826.128 Q556.72 821.753 559.636 819.531 Q562.576 817.309 568.386 817.309 L574.359 817.309 L574.359 816.892 Q574.359 813.952 572.414 812.355 Q570.493 810.735 566.997 810.735 Q564.775 810.735 562.669 811.267 Q560.562 811.8 558.618 812.864 L558.618 808.929 Q560.956 808.026 563.155 807.587 Q565.354 807.124 567.437 807.124 Q573.062 807.124 575.84 810.04 Q578.618 812.957 578.618 818.883 Z\" fill=\"#000000\" fill-rule=\"evenodd\" fill-opacity=\"1\" /><path clip-path=\"url(#clip280)\" d=\"M607.576 812.725 Q609.173 809.855 611.395 808.489 Q613.618 807.124 616.627 807.124 Q620.678 807.124 622.877 809.971 Q625.076 812.795 625.076 818.026 L625.076 833.674 L620.793 833.674 L620.793 818.165 Q620.793 814.438 619.474 812.633 Q618.155 810.827 615.446 810.827 Q612.136 810.827 610.215 813.026 Q608.294 815.225 608.294 819.022 L608.294 833.674 L604.011 833.674 L604.011 818.165 Q604.011 814.415 602.692 812.633 Q601.372 810.827 598.618 810.827 Q595.354 810.827 593.432 813.05 Q591.511 815.249 591.511 819.022 L591.511 833.674 L587.229 833.674 L587.229 807.749 L591.511 807.749 L591.511 811.776 Q592.97 809.392 595.007 808.258 Q597.044 807.124 599.845 807.124 Q602.669 807.124 604.636 808.559 Q606.627 809.994 607.576 812.725 Z\" fill=\"#000000\" fill-rule=\"evenodd\" fill-opacity=\"1\" /><path clip-path=\"url(#clip280)\" d=\"M655.747 819.647 L655.747 821.73 L636.164 821.73 Q636.442 826.128 638.803 828.443 Q641.187 830.735 645.423 830.735 Q647.877 830.735 650.168 830.133 Q652.483 829.531 654.752 828.327 L654.752 832.355 Q652.46 833.327 650.053 833.836 Q647.645 834.346 645.168 834.346 Q638.965 834.346 635.33 830.735 Q631.719 827.124 631.719 820.966 Q631.719 814.6 635.145 810.874 Q638.594 807.124 644.428 807.124 Q649.659 807.124 652.691 810.503 Q655.747 813.86 655.747 819.647 M651.488 818.397 Q651.441 814.901 649.52 812.818 Q647.622 810.735 644.474 810.735 Q640.909 810.735 638.756 812.749 Q636.627 814.762 636.303 818.42 L651.488 818.397 Z\" fill=\"#000000\" fill-rule=\"evenodd\" fill-opacity=\"1\" /><path clip-path=\"url(#clip280)\" d=\"M684.288 818.026 L684.288 833.674 L680.029 833.674 L680.029 818.165 Q680.029 814.485 678.594 812.656 Q677.159 810.827 674.289 810.827 Q670.839 810.827 668.849 813.026 Q666.858 815.225 666.858 819.022 L666.858 833.674 L662.576 833.674 L662.576 807.749 L666.858 807.749 L666.858 811.776 Q668.386 809.438 670.446 808.281 Q672.529 807.124 675.238 807.124 Q679.705 807.124 681.997 809.901 Q684.288 812.656 684.288 818.026 Z\" fill=\"#000000\" fill-rule=\"evenodd\" fill-opacity=\"1\" /><path clip-path=\"url(#clip280)\" d=\"M696.997 800.388 L696.997 807.749 L705.77 807.749 L705.77 811.059 L696.997 811.059 L696.997 825.133 Q696.997 828.304 697.853 829.207 Q698.733 830.11 701.395 830.11 L705.77 830.11 L705.77 833.674 L701.395 833.674 Q696.464 833.674 694.589 831.846 Q692.714 829.994 692.714 825.133 L692.714 811.059 L689.589 811.059 L689.589 807.749 L692.714 807.749 L692.714 800.388 L696.997 800.388 Z\" fill=\"#000000\" fill-rule=\"evenodd\" fill-opacity=\"1\" /><path clip-path=\"url(#clip280)\" d=\"M721.418 810.735 Q717.992 810.735 716.001 813.42 Q714.011 816.082 714.011 820.735 Q714.011 825.387 715.978 828.073 Q717.969 830.735 721.418 830.735 Q724.821 830.735 726.811 828.049 Q728.802 825.364 728.802 820.735 Q728.802 816.128 726.811 813.443 Q724.821 810.735 721.418 810.735 M721.418 807.124 Q726.973 807.124 730.145 810.735 Q733.316 814.346 733.316 820.735 Q733.316 827.1 730.145 830.735 Q726.973 834.346 721.418 834.346 Q715.839 834.346 712.668 830.735 Q709.52 827.1 709.52 820.735 Q709.52 814.346 712.668 810.735 Q715.839 807.124 721.418 807.124 Z\" fill=\"#000000\" fill-rule=\"evenodd\" fill-opacity=\"1\" /><circle clip-path=\"url(#clip280)\" cx=\"326.962\" cy=\"868.234\" r=\"23.04\" fill=\"#e26f46\" fill-rule=\"evenodd\" fill-opacity=\"1\" stroke=\"#000000\" stroke-opacity=\"1\" stroke-width=\"5.12\"/>\n<path clip-path=\"url(#clip280)\" d=\"M429.267 854.797 L429.267 881.672 L434.915 881.672 Q442.068 881.672 445.378 878.431 Q448.711 875.19 448.711 868.2 Q448.711 861.255 445.378 858.038 Q442.068 854.797 434.915 854.797 L429.267 854.797 M424.591 850.954 L434.197 850.954 Q444.243 850.954 448.943 855.144 Q453.642 859.311 453.642 868.2 Q453.642 877.135 448.919 881.325 Q444.197 885.514 434.197 885.514 L424.591 885.514 L424.591 850.954 Z\" fill=\"#000000\" fill-rule=\"evenodd\" fill-opacity=\"1\" /><path clip-path=\"url(#clip280)\" d=\"M460.91 859.589 L465.169 859.589 L465.169 885.514 L460.91 885.514 L460.91 859.589 M460.91 849.496 L465.169 849.496 L465.169 854.89 L460.91 854.89 L460.91 849.496 Z\" fill=\"#000000\" fill-rule=\"evenodd\" fill-opacity=\"1\" /><path clip-path=\"url(#clip280)\" d=\"M490.609 860.353 L490.609 864.38 Q488.803 863.454 486.859 862.991 Q484.915 862.528 482.831 862.528 Q479.66 862.528 478.063 863.501 Q476.489 864.473 476.489 866.417 Q476.489 867.899 477.623 868.755 Q478.757 869.589 482.183 870.352 L483.641 870.677 Q488.178 871.649 490.077 873.431 Q491.998 875.19 491.998 878.362 Q491.998 881.973 489.128 884.079 Q486.28 886.186 481.28 886.186 Q479.197 886.186 476.928 885.769 Q474.683 885.376 472.183 884.565 L472.183 880.167 Q474.544 881.394 476.836 882.019 Q479.128 882.621 481.373 882.621 Q484.382 882.621 486.003 881.602 Q487.623 880.561 487.623 878.686 Q487.623 876.95 486.442 876.024 Q485.285 875.098 481.327 874.241 L479.845 873.894 Q475.887 873.061 474.128 871.348 Q472.368 869.612 472.368 866.602 Q472.368 862.945 474.961 860.954 Q477.553 858.964 482.322 858.964 Q484.683 858.964 486.766 859.311 Q488.85 859.658 490.609 860.353 Z\" fill=\"#000000\" fill-rule=\"evenodd\" fill-opacity=\"1\" /><path clip-path=\"url(#clip280)\" d=\"M502.901 881.626 L502.901 895.375 L498.618 895.375 L498.618 859.589 L502.901 859.589 L502.901 863.524 Q504.243 861.209 506.28 860.098 Q508.34 858.964 511.188 858.964 Q515.91 858.964 518.85 862.714 Q521.813 866.464 521.813 872.575 Q521.813 878.686 518.85 882.436 Q515.91 886.186 511.188 886.186 Q508.34 886.186 506.28 885.075 Q504.243 883.94 502.901 881.626 M517.391 872.575 Q517.391 867.876 515.447 865.214 Q513.526 862.528 510.146 862.528 Q506.766 862.528 504.822 865.214 Q502.901 867.876 502.901 872.575 Q502.901 877.274 504.822 879.959 Q506.766 882.621 510.146 882.621 Q513.526 882.621 515.447 879.959 Q517.391 877.274 517.391 872.575 Z\" fill=\"#000000\" fill-rule=\"evenodd\" fill-opacity=\"1\" /><path clip-path=\"url(#clip280)\" d=\"M538.919 862.575 Q535.493 862.575 533.502 865.26 Q531.512 867.922 531.512 872.575 Q531.512 877.227 533.479 879.913 Q535.47 882.575 538.919 882.575 Q542.322 882.575 544.312 879.889 Q546.303 877.204 546.303 872.575 Q546.303 867.968 544.312 865.283 Q542.322 862.575 538.919 862.575 M538.919 858.964 Q544.474 858.964 547.646 862.575 Q550.817 866.186 550.817 872.575 Q550.817 878.94 547.646 882.575 Q544.474 886.186 538.919 886.186 Q533.34 886.186 530.169 882.575 Q527.021 878.94 527.021 872.575 Q527.021 866.186 530.169 862.575 Q533.34 858.964 538.919 858.964 Z\" fill=\"#000000\" fill-rule=\"evenodd\" fill-opacity=\"1\" /><path clip-path=\"url(#clip280)\" d=\"M574.405 860.353 L574.405 864.38 Q572.599 863.454 570.655 862.991 Q568.71 862.528 566.627 862.528 Q563.456 862.528 561.859 863.501 Q560.285 864.473 560.285 866.417 Q560.285 867.899 561.419 868.755 Q562.553 869.589 565.979 870.352 L567.437 870.677 Q571.974 871.649 573.872 873.431 Q575.794 875.19 575.794 878.362 Q575.794 881.973 572.923 884.079 Q570.076 886.186 565.076 886.186 Q562.993 886.186 560.724 885.769 Q558.479 885.376 555.979 884.565 L555.979 880.167 Q558.34 881.394 560.632 882.019 Q562.923 882.621 565.169 882.621 Q568.178 882.621 569.798 881.602 Q571.419 880.561 571.419 878.686 Q571.419 876.95 570.238 876.024 Q569.081 875.098 565.122 874.241 L563.641 873.894 Q559.683 873.061 557.923 871.348 Q556.164 869.612 556.164 866.602 Q556.164 862.945 558.757 860.954 Q561.349 858.964 566.118 858.964 Q568.479 858.964 570.562 859.311 Q572.646 859.658 574.405 860.353 Z\" fill=\"#000000\" fill-rule=\"evenodd\" fill-opacity=\"1\" /><path clip-path=\"url(#clip280)\" d=\"M582.576 859.589 L586.835 859.589 L586.835 885.514 L582.576 885.514 L582.576 859.589 M582.576 849.496 L586.835 849.496 L586.835 854.89 L582.576 854.89 L582.576 849.496 Z\" fill=\"#000000\" fill-rule=\"evenodd\" fill-opacity=\"1\" /><path clip-path=\"url(#clip280)\" d=\"M599.96 852.228 L599.96 859.589 L608.733 859.589 L608.733 862.899 L599.96 862.899 L599.96 876.973 Q599.96 880.144 600.817 881.047 Q601.696 881.95 604.358 881.95 L608.733 881.95 L608.733 885.514 L604.358 885.514 Q599.428 885.514 597.553 883.686 Q595.678 881.834 595.678 876.973 L595.678 862.899 L592.553 862.899 L592.553 859.589 L595.678 859.589 L595.678 852.228 L599.96 852.228 Z\" fill=\"#000000\" fill-rule=\"evenodd\" fill-opacity=\"1\" /><path clip-path=\"url(#clip280)\" d=\"M614.335 859.589 L618.594 859.589 L618.594 885.514 L614.335 885.514 L614.335 859.589 M614.335 849.496 L618.594 849.496 L618.594 854.89 L614.335 854.89 L614.335 849.496 Z\" fill=\"#000000\" fill-rule=\"evenodd\" fill-opacity=\"1\" /><path clip-path=\"url(#clip280)\" d=\"M624.451 859.589 L628.965 859.589 L637.067 881.348 L645.168 859.589 L649.682 859.589 L639.96 885.514 L634.173 885.514 L624.451 859.589 Z\" fill=\"#000000\" fill-rule=\"evenodd\" fill-opacity=\"1\" /><path clip-path=\"url(#clip280)\" d=\"M665.608 862.575 Q662.182 862.575 660.191 865.26 Q658.201 867.922 658.201 872.575 Q658.201 877.227 660.168 879.913 Q662.159 882.575 665.608 882.575 Q669.011 882.575 671.002 879.889 Q672.992 877.204 672.992 872.575 Q672.992 867.968 671.002 865.283 Q669.011 862.575 665.608 862.575 M665.608 858.964 Q671.164 858.964 674.335 862.575 Q677.506 866.186 677.506 872.575 Q677.506 878.94 674.335 882.575 Q671.164 886.186 665.608 886.186 Q660.029 886.186 656.858 882.575 Q653.71 878.94 653.71 872.575 Q653.71 866.186 656.858 862.575 Q660.029 858.964 665.608 858.964 Z\" fill=\"#000000\" fill-rule=\"evenodd\" fill-opacity=\"1\" /><path clip-path=\"url(#clip280)\" d=\"M710.237 854.033 Q706.626 854.033 704.798 857.598 Q702.992 861.14 702.992 868.269 Q702.992 875.376 704.798 878.94 Q706.626 882.482 710.237 882.482 Q713.872 882.482 715.677 878.94 Q717.506 875.376 717.506 868.269 Q717.506 861.14 715.677 857.598 Q713.872 854.033 710.237 854.033 M710.237 850.329 Q716.048 850.329 719.103 854.936 Q722.182 859.519 722.182 868.269 Q722.182 876.996 719.103 881.602 Q716.048 886.186 710.237 886.186 Q704.427 886.186 701.349 881.602 Q698.293 876.996 698.293 868.269 Q698.293 859.519 701.349 854.936 Q704.427 850.329 710.237 850.329 Z\" fill=\"#000000\" fill-rule=\"evenodd\" fill-opacity=\"1\" /><circle clip-path=\"url(#clip280)\" cx=\"326.962\" cy=\"920.074\" r=\"23.04\" fill=\"#3da44d\" fill-rule=\"evenodd\" fill-opacity=\"1\" stroke=\"#000000\" stroke-opacity=\"1\" stroke-width=\"5.12\"/>\n<path clip-path=\"url(#clip280)\" d=\"M429.267 906.637 L429.267 933.512 L434.915 933.512 Q442.068 933.512 445.378 930.271 Q448.711 927.03 448.711 920.04 Q448.711 913.095 445.378 909.878 Q442.068 906.637 434.915 906.637 L429.267 906.637 M424.591 902.794 L434.197 902.794 Q444.243 902.794 448.943 906.984 Q453.642 911.151 453.642 920.04 Q453.642 928.975 448.919 933.165 Q444.197 937.354 434.197 937.354 L424.591 937.354 L424.591 902.794 Z\" fill=\"#000000\" fill-rule=\"evenodd\" fill-opacity=\"1\" /><path clip-path=\"url(#clip280)\" d=\"M460.91 911.429 L465.169 911.429 L465.169 937.354 L460.91 937.354 L460.91 911.429 M460.91 901.336 L465.169 901.336 L465.169 906.73 L460.91 906.73 L460.91 901.336 Z\" fill=\"#000000\" fill-rule=\"evenodd\" fill-opacity=\"1\" /><path clip-path=\"url(#clip280)\" d=\"M490.609 912.193 L490.609 916.22 Q488.803 915.294 486.859 914.831 Q484.915 914.368 482.831 914.368 Q479.66 914.368 478.063 915.341 Q476.489 916.313 476.489 918.257 Q476.489 919.739 477.623 920.595 Q478.757 921.429 482.183 922.192 L483.641 922.517 Q488.178 923.489 490.077 925.271 Q491.998 927.03 491.998 930.202 Q491.998 933.813 489.128 935.919 Q486.28 938.026 481.28 938.026 Q479.197 938.026 476.928 937.609 Q474.683 937.216 472.183 936.405 L472.183 932.007 Q474.544 933.234 476.836 933.859 Q479.128 934.461 481.373 934.461 Q484.382 934.461 486.003 933.442 Q487.623 932.401 487.623 930.526 Q487.623 928.79 486.442 927.864 Q485.285 926.938 481.327 926.081 L479.845 925.734 Q475.887 924.901 474.128 923.188 Q472.368 921.452 472.368 918.442 Q472.368 914.785 474.961 912.794 Q477.553 910.804 482.322 910.804 Q484.683 910.804 486.766 911.151 Q488.85 911.498 490.609 912.193 Z\" fill=\"#000000\" fill-rule=\"evenodd\" fill-opacity=\"1\" /><path clip-path=\"url(#clip280)\" d=\"M502.901 933.466 L502.901 947.215 L498.618 947.215 L498.618 911.429 L502.901 911.429 L502.901 915.364 Q504.243 913.049 506.28 911.938 Q508.34 910.804 511.188 910.804 Q515.91 910.804 518.85 914.554 Q521.813 918.304 521.813 924.415 Q521.813 930.526 518.85 934.276 Q515.91 938.026 511.188 938.026 Q508.34 938.026 506.28 936.915 Q504.243 935.78 502.901 933.466 M517.391 924.415 Q517.391 919.716 515.447 917.054 Q513.526 914.368 510.146 914.368 Q506.766 914.368 504.822 917.054 Q502.901 919.716 502.901 924.415 Q502.901 929.114 504.822 931.799 Q506.766 934.461 510.146 934.461 Q513.526 934.461 515.447 931.799 Q517.391 929.114 517.391 924.415 Z\" fill=\"#000000\" fill-rule=\"evenodd\" fill-opacity=\"1\" /><path clip-path=\"url(#clip280)\" d=\"M538.919 914.415 Q535.493 914.415 533.502 917.1 Q531.512 919.762 531.512 924.415 Q531.512 929.067 533.479 931.753 Q535.47 934.415 538.919 934.415 Q542.322 934.415 544.312 931.729 Q546.303 929.044 546.303 924.415 Q546.303 919.808 544.312 917.123 Q542.322 914.415 538.919 914.415 M538.919 910.804 Q544.474 910.804 547.646 914.415 Q550.817 918.026 550.817 924.415 Q550.817 930.78 547.646 934.415 Q544.474 938.026 538.919 938.026 Q533.34 938.026 530.169 934.415 Q527.021 930.78 527.021 924.415 Q527.021 918.026 530.169 914.415 Q533.34 910.804 538.919 910.804 Z\" fill=\"#000000\" fill-rule=\"evenodd\" fill-opacity=\"1\" /><path clip-path=\"url(#clip280)\" d=\"M574.405 912.193 L574.405 916.22 Q572.599 915.294 570.655 914.831 Q568.71 914.368 566.627 914.368 Q563.456 914.368 561.859 915.341 Q560.285 916.313 560.285 918.257 Q560.285 919.739 561.419 920.595 Q562.553 921.429 565.979 922.192 L567.437 922.517 Q571.974 923.489 573.872 925.271 Q575.794 927.03 575.794 930.202 Q575.794 933.813 572.923 935.919 Q570.076 938.026 565.076 938.026 Q562.993 938.026 560.724 937.609 Q558.479 937.216 555.979 936.405 L555.979 932.007 Q558.34 933.234 560.632 933.859 Q562.923 934.461 565.169 934.461 Q568.178 934.461 569.798 933.442 Q571.419 932.401 571.419 930.526 Q571.419 928.79 570.238 927.864 Q569.081 926.938 565.122 926.081 L563.641 925.734 Q559.683 924.901 557.923 923.188 Q556.164 921.452 556.164 918.442 Q556.164 914.785 558.757 912.794 Q561.349 910.804 566.118 910.804 Q568.479 910.804 570.562 911.151 Q572.646 911.498 574.405 912.193 Z\" fill=\"#000000\" fill-rule=\"evenodd\" fill-opacity=\"1\" /><path clip-path=\"url(#clip280)\" d=\"M582.576 911.429 L586.835 911.429 L586.835 937.354 L582.576 937.354 L582.576 911.429 M582.576 901.336 L586.835 901.336 L586.835 906.73 L582.576 906.73 L582.576 901.336 Z\" fill=\"#000000\" fill-rule=\"evenodd\" fill-opacity=\"1\" /><path clip-path=\"url(#clip280)\" d=\"M599.96 904.068 L599.96 911.429 L608.733 911.429 L608.733 914.739 L599.96 914.739 L599.96 928.813 Q599.96 931.984 600.817 932.887 Q601.696 933.79 604.358 933.79 L608.733 933.79 L608.733 937.354 L604.358 937.354 Q599.428 937.354 597.553 935.526 Q595.678 933.674 595.678 928.813 L595.678 914.739 L592.553 914.739 L592.553 911.429 L595.678 911.429 L595.678 904.068 L599.96 904.068 Z\" fill=\"#000000\" fill-rule=\"evenodd\" fill-opacity=\"1\" /><path clip-path=\"url(#clip280)\" d=\"M614.335 911.429 L618.594 911.429 L618.594 937.354 L614.335 937.354 L614.335 911.429 M614.335 901.336 L618.594 901.336 L618.594 906.73 L614.335 906.73 L614.335 901.336 Z\" fill=\"#000000\" fill-rule=\"evenodd\" fill-opacity=\"1\" /><path clip-path=\"url(#clip280)\" d=\"M624.451 911.429 L628.965 911.429 L637.067 933.188 L645.168 911.429 L649.682 911.429 L639.96 937.354 L634.173 937.354 L624.451 911.429 Z\" fill=\"#000000\" fill-rule=\"evenodd\" fill-opacity=\"1\" /><path clip-path=\"url(#clip280)\" d=\"M665.608 914.415 Q662.182 914.415 660.191 917.1 Q658.201 919.762 658.201 924.415 Q658.201 929.067 660.168 931.753 Q662.159 934.415 665.608 934.415 Q669.011 934.415 671.002 931.729 Q672.992 929.044 672.992 924.415 Q672.992 919.808 671.002 917.123 Q669.011 914.415 665.608 914.415 M665.608 910.804 Q671.164 910.804 674.335 914.415 Q677.506 918.026 677.506 924.415 Q677.506 930.78 674.335 934.415 Q671.164 938.026 665.608 938.026 Q660.029 938.026 656.858 934.415 Q653.71 930.78 653.71 924.415 Q653.71 918.026 656.858 914.415 Q660.029 910.804 665.608 910.804 Z\" fill=\"#000000\" fill-rule=\"evenodd\" fill-opacity=\"1\" /><path clip-path=\"url(#clip280)\" d=\"M701.048 933.419 L708.687 933.419 L708.687 907.054 L700.376 908.72 L700.376 904.461 L708.64 902.794 L713.316 902.794 L713.316 933.419 L720.955 933.419 L720.955 937.354 L701.048 937.354 L701.048 933.419 Z\" fill=\"#000000\" fill-rule=\"evenodd\" fill-opacity=\"1\" /><circle clip-path=\"url(#clip280)\" cx=\"326.962\" cy=\"971.914\" r=\"23.04\" fill=\"#c271d2\" fill-rule=\"evenodd\" fill-opacity=\"1\" stroke=\"#000000\" stroke-opacity=\"1\" stroke-width=\"5.12\"/>\n<path clip-path=\"url(#clip280)\" d=\"M424.591 954.634 L429.267 954.634 L429.267 989.194 L424.591 989.194 L424.591 954.634 Z\" fill=\"#000000\" fill-rule=\"evenodd\" fill-opacity=\"1\" /><path clip-path=\"url(#clip280)\" d=\"M459.938 973.546 L459.938 989.194 L455.679 989.194 L455.679 973.685 Q455.679 970.005 454.243 968.176 Q452.808 966.347 449.938 966.347 Q446.489 966.347 444.498 968.546 Q442.507 970.745 442.507 974.542 L442.507 989.194 L438.225 989.194 L438.225 963.269 L442.507 963.269 L442.507 967.296 Q444.035 964.958 446.095 963.801 Q448.179 962.644 450.887 962.644 Q455.355 962.644 457.646 965.421 Q459.938 968.176 459.938 973.546 Z\" fill=\"#000000\" fill-rule=\"evenodd\" fill-opacity=\"1\" /><path clip-path=\"url(#clip280)\" d=\"M472.646 955.908 L472.646 963.269 L481.419 963.269 L481.419 966.579 L472.646 966.579 L472.646 980.653 Q472.646 983.824 473.503 984.727 Q474.382 985.63 477.044 985.63 L481.419 985.63 L481.419 989.194 L477.044 989.194 Q472.114 989.194 470.239 987.366 Q468.364 985.514 468.364 980.653 L468.364 966.579 L465.239 966.579 L465.239 963.269 L468.364 963.269 L468.364 955.908 L472.646 955.908 Z\" fill=\"#000000\" fill-rule=\"evenodd\" fill-opacity=\"1\" /><path clip-path=\"url(#clip280)\" d=\"M509.197 975.167 L509.197 977.25 L489.614 977.25 Q489.891 981.648 492.252 983.963 Q494.637 986.255 498.873 986.255 Q501.327 986.255 503.618 985.653 Q505.933 985.051 508.201 983.847 L508.201 987.875 Q505.91 988.847 503.502 989.356 Q501.095 989.866 498.618 989.866 Q492.415 989.866 488.78 986.255 Q485.169 982.644 485.169 976.486 Q485.169 970.12 488.595 966.394 Q492.044 962.644 497.877 962.644 Q503.109 962.644 506.141 966.023 Q509.197 969.38 509.197 975.167 M504.938 973.917 Q504.891 970.421 502.97 968.338 Q501.072 966.255 497.924 966.255 Q494.359 966.255 492.206 968.269 Q490.077 970.282 489.752 973.94 L504.938 973.917 Z\" fill=\"#000000\" fill-rule=\"evenodd\" fill-opacity=\"1\" /><path clip-path=\"url(#clip280)\" d=\"M531.211 967.25 Q530.493 966.833 529.637 966.648 Q528.803 966.44 527.785 966.44 Q524.174 966.44 522.229 968.801 Q520.308 971.139 520.308 975.537 L520.308 989.194 L516.026 989.194 L516.026 963.269 L520.308 963.269 L520.308 967.296 Q521.65 964.935 523.803 963.801 Q525.956 962.644 529.035 962.644 Q529.475 962.644 530.007 962.713 Q530.539 962.759 531.187 962.875 L531.211 967.25 Z\" fill=\"#000000\" fill-rule=\"evenodd\" fill-opacity=\"1\" /><path clip-path=\"url(#clip280)\" d=\"M548.803 953.176 L548.803 956.718 L544.729 956.718 Q542.437 956.718 541.535 957.644 Q540.655 958.57 540.655 960.977 L540.655 963.269 L547.669 963.269 L547.669 966.579 L540.655 966.579 L540.655 989.194 L536.373 989.194 L536.373 966.579 L532.299 966.579 L532.299 963.269 L536.373 963.269 L536.373 961.463 Q536.373 957.134 538.386 955.167 Q540.4 953.176 544.775 953.176 L548.803 953.176 Z\" fill=\"#000000\" fill-rule=\"evenodd\" fill-opacity=\"1\" /><path clip-path=\"url(#clip280)\" d=\"M574.544 975.167 L574.544 977.25 L554.96 977.25 Q555.238 981.648 557.599 983.963 Q559.984 986.255 564.22 986.255 Q566.673 986.255 568.965 985.653 Q571.28 985.051 573.548 983.847 L573.548 987.875 Q571.257 988.847 568.849 989.356 Q566.442 989.866 563.965 989.866 Q557.761 989.866 554.127 986.255 Q550.516 982.644 550.516 976.486 Q550.516 970.12 553.942 966.394 Q557.391 962.644 563.224 962.644 Q568.456 962.644 571.488 966.023 Q574.544 969.38 574.544 975.167 M570.284 973.917 Q570.238 970.421 568.317 968.338 Q566.419 966.255 563.271 966.255 Q559.706 966.255 557.553 968.269 Q555.423 970.282 555.099 973.94 L570.284 973.917 Z\" fill=\"#000000\" fill-rule=\"evenodd\" fill-opacity=\"1\" /><path clip-path=\"url(#clip280)\" d=\"M596.557 967.25 Q595.84 966.833 594.983 966.648 Q594.15 966.44 593.132 966.44 Q589.52 966.44 587.576 968.801 Q585.655 971.139 585.655 975.537 L585.655 989.194 L581.372 989.194 L581.372 963.269 L585.655 963.269 L585.655 967.296 Q586.997 964.935 589.15 963.801 Q591.303 962.644 594.382 962.644 Q594.821 962.644 595.354 962.713 Q595.886 962.759 596.534 962.875 L596.557 967.25 Z\" fill=\"#000000\" fill-rule=\"evenodd\" fill-opacity=\"1\" /><path clip-path=\"url(#clip280)\" d=\"M622.159 975.167 L622.159 977.25 L602.576 977.25 Q602.854 981.648 605.215 983.963 Q607.599 986.255 611.835 986.255 Q614.289 986.255 616.581 985.653 Q618.895 985.051 621.164 983.847 L621.164 987.875 Q618.872 988.847 616.465 989.356 Q614.057 989.866 611.581 989.866 Q605.377 989.866 601.743 986.255 Q598.132 982.644 598.132 976.486 Q598.132 970.12 601.557 966.394 Q605.007 962.644 610.84 962.644 Q616.071 962.644 619.104 966.023 Q622.159 969.38 622.159 975.167 M617.9 973.917 Q617.854 970.421 615.932 968.338 Q614.034 966.255 610.886 966.255 Q607.321 966.255 605.169 968.269 Q603.039 970.282 602.715 973.94 L617.9 973.917 Z\" fill=\"#000000\" fill-rule=\"evenodd\" fill-opacity=\"1\" /><path clip-path=\"url(#clip280)\" d=\"M650.701 973.546 L650.701 989.194 L646.441 989.194 L646.441 973.685 Q646.441 970.005 645.006 968.176 Q643.571 966.347 640.701 966.347 Q637.252 966.347 635.261 968.546 Q633.27 970.745 633.27 974.542 L633.27 989.194 L628.988 989.194 L628.988 963.269 L633.27 963.269 L633.27 967.296 Q634.798 964.958 636.858 963.801 Q638.942 962.644 641.65 962.644 Q646.117 962.644 648.409 965.421 Q650.701 968.176 650.701 973.546 Z\" fill=\"#000000\" fill-rule=\"evenodd\" fill-opacity=\"1\" /><path clip-path=\"url(#clip280)\" d=\"M677.853 964.264 L677.853 968.245 Q676.048 967.25 674.219 966.764 Q672.414 966.255 670.562 966.255 Q666.418 966.255 664.127 968.894 Q661.835 971.509 661.835 976.255 Q661.835 981 664.127 983.639 Q666.418 986.255 670.562 986.255 Q672.414 986.255 674.219 985.769 Q676.048 985.259 677.853 984.264 L677.853 988.199 Q676.071 989.032 674.15 989.449 Q672.252 989.866 670.099 989.866 Q664.242 989.866 660.793 986.185 Q657.344 982.505 657.344 976.255 Q657.344 969.912 660.816 966.278 Q664.312 962.644 670.377 962.644 Q672.344 962.644 674.219 963.06 Q676.094 963.454 677.853 964.264 Z\" fill=\"#000000\" fill-rule=\"evenodd\" fill-opacity=\"1\" /><path clip-path=\"url(#clip280)\" d=\"M685.261 963.269 L689.52 963.269 L689.52 989.194 L685.261 989.194 L685.261 963.269 M685.261 953.176 L689.52 953.176 L689.52 958.57 L685.261 958.57 L685.261 953.176 Z\" fill=\"#000000\" fill-rule=\"evenodd\" fill-opacity=\"1\" /><path clip-path=\"url(#clip280)\" d=\"M710.214 976.162 Q705.052 976.162 703.062 977.343 Q701.071 978.523 701.071 981.37 Q701.071 983.639 702.552 984.981 Q704.057 986.301 706.626 986.301 Q710.168 986.301 712.298 983.801 Q714.45 981.278 714.45 977.111 L714.45 976.162 L710.214 976.162 M718.71 974.403 L718.71 989.194 L714.45 989.194 L714.45 985.259 Q712.992 987.62 710.816 988.755 Q708.64 989.866 705.492 989.866 Q701.511 989.866 699.15 987.643 Q696.812 985.398 696.812 981.648 Q696.812 977.273 699.728 975.051 Q702.668 972.829 708.478 972.829 L714.45 972.829 L714.45 972.412 Q714.45 969.472 712.506 967.875 Q710.585 966.255 707.089 966.255 Q704.867 966.255 702.761 966.787 Q700.654 967.32 698.71 968.384 L698.71 964.449 Q701.048 963.546 703.247 963.107 Q705.446 962.644 707.529 962.644 Q713.154 962.644 715.932 965.56 Q718.71 968.477 718.71 974.403 Z\" fill=\"#000000\" fill-rule=\"evenodd\" fill-opacity=\"1\" /><polyline clip-path=\"url(#clip280)\" style=\"stroke:#ac8d18; stroke-linecap:round; stroke-linejoin:round; stroke-width:4; stroke-opacity:1; fill:none\" points=\"\n  253.741,1023.75 400.184,1023.75 \n  \"/>\n<path clip-path=\"url(#clip280)\" d=\"M424.591 1006.47 L429.267 1006.47 L429.267 1041.03 L424.591 1041.03 L424.591 1006.47 Z\" fill=\"#000000\" fill-rule=\"evenodd\" fill-opacity=\"1\" /><path clip-path=\"url(#clip280)\" d=\"M459.938 1025.39 L459.938 1041.03 L455.679 1041.03 L455.679 1025.53 Q455.679 1021.84 454.243 1020.02 Q452.808 1018.19 449.938 1018.19 Q446.489 1018.19 444.498 1020.39 Q442.507 1022.59 442.507 1026.38 L442.507 1041.03 L438.225 1041.03 L438.225 1015.11 L442.507 1015.11 L442.507 1019.14 Q444.035 1016.8 446.095 1015.64 Q448.179 1014.48 450.887 1014.48 Q455.355 1014.48 457.646 1017.26 Q459.938 1020.02 459.938 1025.39 Z\" fill=\"#000000\" fill-rule=\"evenodd\" fill-opacity=\"1\" /><path clip-path=\"url(#clip280)\" d=\"M472.646 1007.75 L472.646 1015.11 L481.419 1015.11 L481.419 1018.42 L472.646 1018.42 L472.646 1032.49 Q472.646 1035.66 473.503 1036.57 Q474.382 1037.47 477.044 1037.47 L481.419 1037.47 L481.419 1041.03 L477.044 1041.03 Q472.114 1041.03 470.239 1039.21 Q468.364 1037.35 468.364 1032.49 L468.364 1018.42 L465.239 1018.42 L465.239 1015.11 L468.364 1015.11 L468.364 1007.75 L472.646 1007.75 Z\" fill=\"#000000\" fill-rule=\"evenodd\" fill-opacity=\"1\" /><path clip-path=\"url(#clip280)\" d=\"M509.197 1027.01 L509.197 1029.09 L489.614 1029.09 Q489.891 1033.49 492.252 1035.8 Q494.637 1038.09 498.873 1038.09 Q501.327 1038.09 503.618 1037.49 Q505.933 1036.89 508.201 1035.69 L508.201 1039.71 Q505.91 1040.69 503.502 1041.2 Q501.095 1041.71 498.618 1041.71 Q492.415 1041.71 488.78 1038.09 Q485.169 1034.48 485.169 1028.33 Q485.169 1021.96 488.595 1018.23 Q492.044 1014.48 497.877 1014.48 Q503.109 1014.48 506.141 1017.86 Q509.197 1021.22 509.197 1027.01 M504.938 1025.76 Q504.891 1022.26 502.97 1020.18 Q501.072 1018.09 497.924 1018.09 Q494.359 1018.09 492.206 1020.11 Q490.077 1022.12 489.752 1025.78 L504.938 1025.76 Z\" fill=\"#000000\" fill-rule=\"evenodd\" fill-opacity=\"1\" /><path clip-path=\"url(#clip280)\" d=\"M531.211 1019.09 Q530.493 1018.67 529.637 1018.49 Q528.803 1018.28 527.785 1018.28 Q524.174 1018.28 522.229 1020.64 Q520.308 1022.98 520.308 1027.38 L520.308 1041.03 L516.026 1041.03 L516.026 1015.11 L520.308 1015.11 L520.308 1019.14 Q521.65 1016.78 523.803 1015.64 Q525.956 1014.48 529.035 1014.48 Q529.475 1014.48 530.007 1014.55 Q530.539 1014.6 531.187 1014.72 L531.211 1019.09 Z\" fill=\"#000000\" fill-rule=\"evenodd\" fill-opacity=\"1\" /><path clip-path=\"url(#clip280)\" d=\"M548.803 1005.02 L548.803 1008.56 L544.729 1008.56 Q542.437 1008.56 541.535 1009.48 Q540.655 1010.41 540.655 1012.82 L540.655 1015.11 L547.669 1015.11 L547.669 1018.42 L540.655 1018.42 L540.655 1041.03 L536.373 1041.03 L536.373 1018.42 L532.299 1018.42 L532.299 1015.11 L536.373 1015.11 L536.373 1013.3 Q536.373 1008.97 538.386 1007.01 Q540.4 1005.02 544.775 1005.02 L548.803 1005.02 Z\" fill=\"#000000\" fill-rule=\"evenodd\" fill-opacity=\"1\" /><path clip-path=\"url(#clip280)\" d=\"M574.544 1027.01 L574.544 1029.09 L554.96 1029.09 Q555.238 1033.49 557.599 1035.8 Q559.984 1038.09 564.22 1038.09 Q566.673 1038.09 568.965 1037.49 Q571.28 1036.89 573.548 1035.69 L573.548 1039.71 Q571.257 1040.69 568.849 1041.2 Q566.442 1041.71 563.965 1041.71 Q557.761 1041.71 554.127 1038.09 Q550.516 1034.48 550.516 1028.33 Q550.516 1021.96 553.942 1018.23 Q557.391 1014.48 563.224 1014.48 Q568.456 1014.48 571.488 1017.86 Q574.544 1021.22 574.544 1027.01 M570.284 1025.76 Q570.238 1022.26 568.317 1020.18 Q566.419 1018.09 563.271 1018.09 Q559.706 1018.09 557.553 1020.11 Q555.423 1022.12 555.099 1025.78 L570.284 1025.76 Z\" fill=\"#000000\" fill-rule=\"evenodd\" fill-opacity=\"1\" /><path clip-path=\"url(#clip280)\" d=\"M596.557 1019.09 Q595.84 1018.67 594.983 1018.49 Q594.15 1018.28 593.132 1018.28 Q589.52 1018.28 587.576 1020.64 Q585.655 1022.98 585.655 1027.38 L585.655 1041.03 L581.372 1041.03 L581.372 1015.11 L585.655 1015.11 L585.655 1019.14 Q586.997 1016.78 589.15 1015.64 Q591.303 1014.48 594.382 1014.48 Q594.821 1014.48 595.354 1014.55 Q595.886 1014.6 596.534 1014.72 L596.557 1019.09 Z\" fill=\"#000000\" fill-rule=\"evenodd\" fill-opacity=\"1\" /><path clip-path=\"url(#clip280)\" d=\"M622.159 1027.01 L622.159 1029.09 L602.576 1029.09 Q602.854 1033.49 605.215 1035.8 Q607.599 1038.09 611.835 1038.09 Q614.289 1038.09 616.581 1037.49 Q618.895 1036.89 621.164 1035.69 L621.164 1039.71 Q618.872 1040.69 616.465 1041.2 Q614.057 1041.71 611.581 1041.71 Q605.377 1041.71 601.743 1038.09 Q598.132 1034.48 598.132 1028.33 Q598.132 1021.96 601.557 1018.23 Q605.007 1014.48 610.84 1014.48 Q616.071 1014.48 619.104 1017.86 Q622.159 1021.22 622.159 1027.01 M617.9 1025.76 Q617.854 1022.26 615.932 1020.18 Q614.034 1018.09 610.886 1018.09 Q607.321 1018.09 605.169 1020.11 Q603.039 1022.12 602.715 1025.78 L617.9 1025.76 Z\" fill=\"#000000\" fill-rule=\"evenodd\" fill-opacity=\"1\" /><path clip-path=\"url(#clip280)\" d=\"M650.701 1025.39 L650.701 1041.03 L646.441 1041.03 L646.441 1025.53 Q646.441 1021.84 645.006 1020.02 Q643.571 1018.19 640.701 1018.19 Q637.252 1018.19 635.261 1020.39 Q633.27 1022.59 633.27 1026.38 L633.27 1041.03 L628.988 1041.03 L628.988 1015.11 L633.27 1015.11 L633.27 1019.14 Q634.798 1016.8 636.858 1015.64 Q638.942 1014.48 641.65 1014.48 Q646.117 1014.48 648.409 1017.26 Q650.701 1020.02 650.701 1025.39 Z\" fill=\"#000000\" fill-rule=\"evenodd\" fill-opacity=\"1\" /><path clip-path=\"url(#clip280)\" d=\"M677.853 1016.1 L677.853 1020.09 Q676.048 1019.09 674.219 1018.6 Q672.414 1018.09 670.562 1018.09 Q666.418 1018.09 664.127 1020.73 Q661.835 1023.35 661.835 1028.09 Q661.835 1032.84 664.127 1035.48 Q666.418 1038.09 670.562 1038.09 Q672.414 1038.09 674.219 1037.61 Q676.048 1037.1 677.853 1036.1 L677.853 1040.04 Q676.071 1040.87 674.15 1041.29 Q672.252 1041.71 670.099 1041.71 Q664.242 1041.71 660.793 1038.03 Q657.344 1034.34 657.344 1028.09 Q657.344 1021.75 660.816 1018.12 Q664.312 1014.48 670.377 1014.48 Q672.344 1014.48 674.219 1014.9 Q676.094 1015.29 677.853 1016.1 Z\" fill=\"#000000\" fill-rule=\"evenodd\" fill-opacity=\"1\" /><path clip-path=\"url(#clip280)\" d=\"M685.261 1015.11 L689.52 1015.11 L689.52 1041.03 L685.261 1041.03 L685.261 1015.11 M685.261 1005.02 L689.52 1005.02 L689.52 1010.41 L685.261 1010.41 L685.261 1005.02 Z\" fill=\"#000000\" fill-rule=\"evenodd\" fill-opacity=\"1\" /><path clip-path=\"url(#clip280)\" d=\"M710.214 1028 Q705.052 1028 703.062 1029.18 Q701.071 1030.36 701.071 1033.21 Q701.071 1035.48 702.552 1036.82 Q704.057 1038.14 706.626 1038.14 Q710.168 1038.14 712.298 1035.64 Q714.45 1033.12 714.45 1028.95 L714.45 1028 L710.214 1028 M718.71 1026.24 L718.71 1041.03 L714.45 1041.03 L714.45 1037.1 Q712.992 1039.46 710.816 1040.59 Q708.64 1041.71 705.492 1041.71 Q701.511 1041.71 699.15 1039.48 Q696.812 1037.24 696.812 1033.49 Q696.812 1029.11 699.728 1026.89 Q702.668 1024.67 708.478 1024.67 L714.45 1024.67 L714.45 1024.25 Q714.45 1021.31 712.506 1019.72 Q710.585 1018.09 707.089 1018.09 Q704.867 1018.09 702.761 1018.63 Q700.654 1019.16 698.71 1020.22 L698.71 1016.29 Q701.048 1015.39 703.247 1014.95 Q705.446 1014.48 707.529 1014.48 Q713.154 1014.48 715.932 1017.4 Q718.71 1020.32 718.71 1026.24 Z\" fill=\"#000000\" fill-rule=\"evenodd\" fill-opacity=\"1\" /><circle clip-path=\"url(#clip280)\" cx=\"326.962\" cy=\"1075.59\" r=\"23.04\" fill=\"#00a9ad\" fill-rule=\"evenodd\" fill-opacity=\"1\" stroke=\"#000000\" stroke-opacity=\"1\" stroke-width=\"5.12\"/>\n<path clip-path=\"url(#clip280)\" d=\"M440.98 1076.67 Q442.484 1077.18 443.896 1078.85 Q445.331 1080.51 446.767 1083.43 L451.512 1092.87 L446.489 1092.87 L442.068 1084.01 Q440.355 1080.54 438.734 1079.4 Q437.137 1078.27 434.359 1078.27 L429.267 1078.27 L429.267 1092.87 L424.591 1092.87 L424.591 1058.31 L435.146 1058.31 Q441.072 1058.31 443.989 1060.79 Q446.906 1063.27 446.906 1068.27 Q446.906 1071.53 445.378 1073.68 Q443.873 1075.84 440.98 1076.67 M429.267 1062.16 L429.267 1074.43 L435.146 1074.43 Q438.526 1074.43 440.239 1072.87 Q441.975 1071.3 441.975 1068.27 Q441.975 1065.24 440.239 1063.71 Q438.526 1062.16 435.146 1062.16 L429.267 1062.16 Z\" fill=\"#000000\" fill-rule=\"evenodd\" fill-opacity=\"1\" /><path clip-path=\"url(#clip280)\" d=\"M465.262 1069.93 Q461.836 1069.93 459.845 1072.62 Q457.855 1075.28 457.855 1079.93 Q457.855 1084.59 459.822 1087.27 Q461.813 1089.93 465.262 1089.93 Q468.665 1089.93 470.655 1087.25 Q472.646 1084.56 472.646 1079.93 Q472.646 1075.33 470.655 1072.64 Q468.665 1069.93 465.262 1069.93 M465.262 1066.32 Q470.817 1066.32 473.989 1069.93 Q477.16 1073.55 477.16 1079.93 Q477.16 1086.3 473.989 1089.93 Q470.817 1093.55 465.262 1093.55 Q459.683 1093.55 456.512 1089.93 Q453.364 1086.3 453.364 1079.93 Q453.364 1073.55 456.512 1069.93 Q459.683 1066.32 465.262 1066.32 Z\" fill=\"#000000\" fill-rule=\"evenodd\" fill-opacity=\"1\" /><path clip-path=\"url(#clip280)\" d=\"M488.433 1059.59 L488.433 1066.95 L497.206 1066.95 L497.206 1070.26 L488.433 1070.26 L488.433 1084.33 Q488.433 1087.5 489.29 1088.41 Q490.169 1089.31 492.831 1089.31 L497.206 1089.31 L497.206 1092.87 L492.831 1092.87 Q487.901 1092.87 486.026 1091.05 Q484.151 1089.19 484.151 1084.33 L484.151 1070.26 L481.026 1070.26 L481.026 1066.95 L484.151 1066.95 L484.151 1059.59 L488.433 1059.59 Z\" fill=\"#000000\" fill-rule=\"evenodd\" fill-opacity=\"1\" /><path clip-path=\"url(#clip280)\" d=\"M524.984 1078.85 L524.984 1080.93 L505.401 1080.93 Q505.678 1085.33 508.039 1087.64 Q510.424 1089.93 514.66 1089.93 Q517.113 1089.93 519.405 1089.33 Q521.72 1088.73 523.988 1087.53 L523.988 1091.55 Q521.697 1092.53 519.289 1093.04 Q516.882 1093.55 514.405 1093.55 Q508.201 1093.55 504.567 1089.93 Q500.956 1086.32 500.956 1080.17 Q500.956 1073.8 504.382 1070.07 Q507.831 1066.32 513.664 1066.32 Q518.896 1066.32 521.928 1069.7 Q524.984 1073.06 524.984 1078.85 M520.725 1077.6 Q520.678 1074.1 518.757 1072.02 Q516.859 1069.93 513.711 1069.93 Q510.146 1069.93 507.993 1071.95 Q505.864 1073.96 505.539 1077.62 L520.725 1077.6 Z\" fill=\"#000000\" fill-rule=\"evenodd\" fill-opacity=\"1\" /><path clip-path=\"url(#clip280)\" d=\"M543.757 1079.84 Q538.595 1079.84 536.604 1081.02 Q534.613 1082.2 534.613 1085.05 Q534.613 1087.32 536.095 1088.66 Q537.599 1089.98 540.169 1089.98 Q543.711 1089.98 545.84 1087.48 Q547.993 1084.96 547.993 1080.79 L547.993 1079.84 L543.757 1079.84 M552.252 1078.08 L552.252 1092.87 L547.993 1092.87 L547.993 1088.94 Q546.535 1091.3 544.359 1092.43 Q542.183 1093.55 539.035 1093.55 Q535.053 1093.55 532.692 1091.32 Q530.354 1089.08 530.354 1085.33 Q530.354 1080.95 533.271 1078.73 Q536.211 1076.51 542.021 1076.51 L547.993 1076.51 L547.993 1076.09 Q547.993 1073.15 546.048 1071.56 Q544.127 1069.93 540.632 1069.93 Q538.41 1069.93 536.303 1070.47 Q534.197 1071 532.252 1072.06 L532.252 1068.13 Q534.59 1067.23 536.789 1066.79 Q538.988 1066.32 541.072 1066.32 Q546.697 1066.32 549.474 1069.24 Q552.252 1072.16 552.252 1078.08 Z\" fill=\"#000000\" fill-rule=\"evenodd\" fill-opacity=\"1\" /><path clip-path=\"url(#clip280)\" d=\"M578.085 1070.88 L578.085 1056.86 L582.345 1056.86 L582.345 1092.87 L578.085 1092.87 L578.085 1088.99 Q576.743 1091.3 574.683 1092.43 Q572.646 1093.55 569.775 1093.55 Q565.076 1093.55 562.113 1089.8 Q559.173 1086.05 559.173 1079.93 Q559.173 1073.82 562.113 1070.07 Q565.076 1066.32 569.775 1066.32 Q572.646 1066.32 574.683 1067.46 Q576.743 1068.57 578.085 1070.88 M563.572 1079.93 Q563.572 1084.63 565.493 1087.32 Q567.437 1089.98 570.817 1089.98 Q574.196 1089.98 576.141 1087.32 Q578.085 1084.63 578.085 1079.93 Q578.085 1075.24 576.141 1072.57 Q574.196 1069.89 570.817 1069.89 Q567.437 1069.89 565.493 1072.57 Q563.572 1075.24 563.572 1079.93 Z\" fill=\"#000000\" fill-rule=\"evenodd\" fill-opacity=\"1\" /><path clip-path=\"url(#clip280)\" d=\"M601.164 1069.93 Q597.738 1069.93 595.747 1072.62 Q593.757 1075.28 593.757 1079.93 Q593.757 1084.59 595.724 1087.27 Q597.715 1089.93 601.164 1089.93 Q604.567 1089.93 606.557 1087.25 Q608.548 1084.56 608.548 1079.93 Q608.548 1075.33 606.557 1072.64 Q604.567 1069.93 601.164 1069.93 M601.164 1066.32 Q606.719 1066.32 609.891 1069.93 Q613.062 1073.55 613.062 1079.93 Q613.062 1086.3 609.891 1089.93 Q606.719 1093.55 601.164 1093.55 Q595.585 1093.55 592.414 1089.93 Q589.266 1086.3 589.266 1079.93 Q589.266 1073.55 592.414 1069.93 Q595.585 1066.32 601.164 1066.32 Z\" fill=\"#000000\" fill-rule=\"evenodd\" fill-opacity=\"1\" /><path clip-path=\"url(#clip280)\" d=\"M635.145 1070.93 Q634.428 1070.51 633.571 1070.33 Q632.738 1070.12 631.719 1070.12 Q628.108 1070.12 626.164 1072.48 Q624.243 1074.82 624.243 1079.22 L624.243 1092.87 L619.96 1092.87 L619.96 1066.95 L624.243 1066.95 L624.243 1070.98 Q625.585 1068.62 627.738 1067.48 Q629.891 1066.32 632.969 1066.32 Q633.409 1066.32 633.942 1066.39 Q634.474 1066.44 635.122 1066.56 L635.145 1070.93 Z\" fill=\"#000000\" fill-rule=\"evenodd\" fill-opacity=\"1\" /><polyline clip-path=\"url(#clip280)\" style=\"stroke:#ed5d92; stroke-linecap:round; stroke-linejoin:round; stroke-width:4; stroke-opacity:1; fill:none\" points=\"\n  253.741,1127.43 400.184,1127.43 \n  \"/>\n<path clip-path=\"url(#clip280)\" d=\"M446.836 1111.29 L446.836 1115.85 Q444.174 1114.58 441.813 1113.95 Q439.452 1113.33 437.253 1113.33 Q433.433 1113.33 431.35 1114.81 Q429.29 1116.29 429.29 1119.02 Q429.29 1121.31 430.656 1122.49 Q432.044 1123.65 435.887 1124.37 L438.711 1124.95 Q443.943 1125.94 446.419 1128.46 Q448.919 1130.96 448.919 1135.18 Q448.919 1140.2 445.54 1142.79 Q442.183 1145.39 435.679 1145.39 Q433.225 1145.39 430.447 1144.83 Q427.693 1144.27 424.73 1143.19 L424.73 1138.37 Q427.577 1139.97 430.308 1140.78 Q433.04 1141.59 435.679 1141.59 Q439.683 1141.59 441.859 1140.02 Q444.035 1138.44 444.035 1135.52 Q444.035 1132.98 442.461 1131.54 Q440.91 1130.11 437.345 1129.39 L434.498 1128.83 Q429.267 1127.79 426.929 1125.57 Q424.591 1123.35 424.591 1119.39 Q424.591 1114.81 427.808 1112.17 Q431.049 1109.53 436.72 1109.53 Q439.151 1109.53 441.674 1109.97 Q444.197 1110.41 446.836 1111.29 Z\" fill=\"#000000\" fill-rule=\"evenodd\" fill-opacity=\"1\" /><path clip-path=\"url(#clip280)\" d=\"M456.026 1118.79 L460.285 1118.79 L460.285 1144.71 L456.026 1144.71 L456.026 1118.79 M456.026 1108.7 L460.285 1108.7 L460.285 1114.09 L456.026 1114.09 L456.026 1108.7 Z\" fill=\"#000000\" fill-rule=\"evenodd\" fill-opacity=\"1\" /><path clip-path=\"url(#clip280)\" d=\"M490.748 1129.07 L490.748 1144.71 L486.489 1144.71 L486.489 1129.21 Q486.489 1125.52 485.053 1123.7 Q483.618 1121.87 480.748 1121.87 Q477.299 1121.87 475.308 1124.07 Q473.317 1126.27 473.317 1130.06 L473.317 1144.71 L469.035 1144.71 L469.035 1118.79 L473.317 1118.79 L473.317 1122.82 Q474.845 1120.48 476.905 1119.32 Q478.989 1118.16 481.697 1118.16 Q486.165 1118.16 488.456 1120.94 Q490.748 1123.7 490.748 1129.07 Z\" fill=\"#000000\" fill-rule=\"evenodd\" fill-opacity=\"1\" /><path clip-path=\"url(#clip280)\" d=\"M511.026 1131.68 Q505.864 1131.68 503.873 1132.86 Q501.882 1134.04 501.882 1136.89 Q501.882 1139.16 503.364 1140.5 Q504.868 1141.82 507.438 1141.82 Q510.979 1141.82 513.109 1139.32 Q515.262 1136.8 515.262 1132.63 L515.262 1131.68 L511.026 1131.68 M519.521 1129.92 L519.521 1144.71 L515.262 1144.71 L515.262 1140.78 Q513.803 1143.14 511.627 1144.27 Q509.451 1145.39 506.303 1145.39 Q502.322 1145.39 499.961 1143.16 Q497.623 1140.92 497.623 1137.17 Q497.623 1132.79 500.539 1130.57 Q503.479 1128.35 509.289 1128.35 L515.262 1128.35 L515.262 1127.93 Q515.262 1124.99 513.317 1123.4 Q511.396 1121.77 507.901 1121.77 Q505.678 1121.77 503.572 1122.31 Q501.465 1122.84 499.521 1123.9 L499.521 1119.97 Q501.859 1119.07 504.058 1118.63 Q506.257 1118.16 508.34 1118.16 Q513.965 1118.16 516.743 1121.08 Q519.521 1124 519.521 1129.92 Z\" fill=\"#000000\" fill-rule=\"evenodd\" fill-opacity=\"1\" /><path clip-path=\"url(#clip280)\" d=\"M528.294 1108.7 L532.553 1108.7 L532.553 1144.71 L528.294 1144.71 L528.294 1108.7 Z\" fill=\"#000000\" fill-rule=\"evenodd\" fill-opacity=\"1\" /><circle clip-path=\"url(#clip280)\" cx=\"326.962\" cy=\"1179.27\" r=\"23.04\" fill=\"#c68125\" fill-rule=\"evenodd\" fill-opacity=\"1\" stroke=\"#000000\" stroke-opacity=\"1\" stroke-width=\"5.12\"/>\n<path clip-path=\"url(#clip280)\" d=\"M429.267 1165.84 L429.267 1178.82 L435.146 1178.82 Q438.41 1178.82 440.193 1177.13 Q441.975 1175.44 441.975 1172.32 Q441.975 1169.22 440.193 1167.53 Q438.41 1165.84 435.146 1165.84 L429.267 1165.84 M424.591 1161.99 L435.146 1161.99 Q440.956 1161.99 443.919 1164.63 Q446.906 1167.25 446.906 1172.32 Q446.906 1177.43 443.919 1180.05 Q440.956 1182.67 435.146 1182.67 L429.267 1182.67 L429.267 1196.55 L424.591 1196.55 L424.591 1161.99 Z\" fill=\"#000000\" fill-rule=\"evenodd\" fill-opacity=\"1\" /><path clip-path=\"url(#clip280)\" d=\"M467.183 1174.61 Q466.466 1174.19 465.609 1174.01 Q464.776 1173.8 463.757 1173.8 Q460.146 1173.8 458.202 1176.16 Q456.28 1178.5 456.28 1182.9 L456.28 1196.55 L451.998 1196.55 L451.998 1170.63 L456.28 1170.63 L456.28 1174.66 Q457.623 1172.3 459.776 1171.16 Q461.929 1170 465.007 1170 Q465.447 1170 465.979 1170.07 Q466.512 1170.12 467.16 1170.24 L467.183 1174.61 Z\" fill=\"#000000\" fill-rule=\"evenodd\" fill-opacity=\"1\" /><path clip-path=\"url(#clip280)\" d=\"M480.655 1173.61 Q477.229 1173.61 475.239 1176.3 Q473.248 1178.96 473.248 1183.61 Q473.248 1188.27 475.216 1190.95 Q477.206 1193.61 480.655 1193.61 Q484.058 1193.61 486.049 1190.93 Q488.04 1188.24 488.04 1183.61 Q488.04 1179.01 486.049 1176.32 Q484.058 1173.61 480.655 1173.61 M480.655 1170 Q486.211 1170 489.382 1173.61 Q492.553 1177.23 492.553 1183.61 Q492.553 1189.98 489.382 1193.61 Q486.211 1197.23 480.655 1197.23 Q475.077 1197.23 471.905 1193.61 Q468.757 1189.98 468.757 1183.61 Q468.757 1177.23 471.905 1173.61 Q475.077 1170 480.655 1170 Z\" fill=\"#000000\" fill-rule=\"evenodd\" fill-opacity=\"1\" /><path clip-path=\"url(#clip280)\" d=\"M499.614 1170.63 L503.873 1170.63 L503.873 1197.02 Q503.873 1201.97 501.975 1204.19 Q500.1 1206.42 495.91 1206.42 L494.29 1206.42 L494.29 1202.8 L495.424 1202.8 Q497.854 1202.8 498.734 1201.67 Q499.614 1200.56 499.614 1197.02 L499.614 1170.63 M499.614 1160.54 L503.873 1160.54 L503.873 1165.93 L499.614 1165.93 L499.614 1160.54 Z\" fill=\"#000000\" fill-rule=\"evenodd\" fill-opacity=\"1\" /><path clip-path=\"url(#clip280)\" d=\"M534.961 1182.53 L534.961 1184.61 L515.377 1184.61 Q515.655 1189.01 518.016 1191.32 Q520.4 1193.61 524.637 1193.61 Q527.09 1193.61 529.382 1193.01 Q531.697 1192.41 533.965 1191.21 L533.965 1195.23 Q531.674 1196.21 529.266 1196.72 Q526.859 1197.23 524.382 1197.23 Q518.178 1197.23 514.544 1193.61 Q510.933 1190 510.933 1183.85 Q510.933 1177.48 514.359 1173.75 Q517.808 1170 523.641 1170 Q528.873 1170 531.905 1173.38 Q534.961 1176.74 534.961 1182.53 M530.701 1181.28 Q530.655 1177.78 528.734 1175.7 Q526.836 1173.61 523.688 1173.61 Q520.123 1173.61 517.97 1175.63 Q515.84 1177.64 515.516 1181.3 L530.701 1181.28 Z\" fill=\"#000000\" fill-rule=\"evenodd\" fill-opacity=\"1\" /><path clip-path=\"url(#clip280)\" d=\"M560.609 1171.62 L560.609 1175.61 Q558.803 1174.61 556.974 1174.12 Q555.169 1173.61 553.317 1173.61 Q549.173 1173.61 546.882 1176.25 Q544.59 1178.87 544.59 1183.61 Q544.59 1188.36 546.882 1191 Q549.173 1193.61 553.317 1193.61 Q555.169 1193.61 556.974 1193.13 Q558.803 1192.62 560.609 1191.62 L560.609 1195.56 Q558.826 1196.39 556.905 1196.81 Q555.007 1197.23 552.854 1197.23 Q546.998 1197.23 543.549 1193.55 Q540.099 1189.86 540.099 1183.61 Q540.099 1177.27 543.572 1173.64 Q547.067 1170 553.132 1170 Q555.099 1170 556.974 1170.42 Q558.849 1170.81 560.609 1171.62 M554.59 1196.55 Q555.863 1197.99 556.488 1199.19 Q557.113 1200.42 557.113 1201.53 Q557.113 1203.59 555.724 1204.63 Q554.335 1205.7 551.604 1205.7 Q550.539 1205.7 549.521 1205.56 Q548.525 1205.42 547.53 1205.14 L547.53 1202.11 Q548.317 1202.5 549.173 1202.67 Q550.03 1202.85 551.118 1202.85 Q552.484 1202.85 553.178 1202.3 Q553.873 1201.74 553.873 1200.67 Q553.873 1199.98 553.363 1198.96 Q552.877 1197.97 551.835 1196.55 L554.59 1196.55 Z\" fill=\"#000000\" fill-rule=\"evenodd\" fill-opacity=\"1\" /><path clip-path=\"url(#clip280)\" d=\"M579.798 1183.52 Q574.636 1183.52 572.646 1184.7 Q570.655 1185.88 570.655 1188.73 Q570.655 1191 572.136 1192.34 Q573.641 1193.66 576.21 1193.66 Q579.752 1193.66 581.882 1191.16 Q584.034 1188.64 584.034 1184.47 L584.034 1183.52 L579.798 1183.52 M588.294 1181.76 L588.294 1196.55 L584.034 1196.55 L584.034 1192.62 Q582.576 1194.98 580.4 1196.11 Q578.224 1197.23 575.076 1197.23 Q571.095 1197.23 568.734 1195 Q566.396 1192.76 566.396 1189.01 Q566.396 1184.63 569.312 1182.41 Q572.252 1180.19 578.062 1180.19 L584.034 1180.19 L584.034 1179.77 Q584.034 1176.83 582.09 1175.24 Q580.169 1173.61 576.673 1173.61 Q574.451 1173.61 572.345 1174.15 Q570.238 1174.68 568.294 1175.74 L568.294 1171.81 Q570.632 1170.91 572.831 1170.47 Q575.03 1170 577.113 1170 Q582.738 1170 585.516 1172.92 Q588.294 1175.84 588.294 1181.76 M577.206 1164.84 L575.886 1163.57 Q575.377 1163.11 574.984 1162.9 Q574.613 1162.67 574.312 1162.67 Q573.433 1162.67 573.016 1163.52 Q572.599 1164.36 572.553 1166.25 L569.659 1166.25 Q569.706 1163.13 570.886 1161.44 Q572.067 1159.73 574.173 1159.73 Q575.053 1159.73 575.794 1160.05 Q576.534 1160.37 577.391 1161.14 L578.71 1162.41 Q579.22 1162.87 579.59 1163.11 Q579.983 1163.31 580.284 1163.31 Q581.164 1163.31 581.581 1162.48 Q581.997 1161.62 582.044 1159.73 L584.937 1159.73 Q584.891 1162.85 583.71 1164.56 Q582.53 1166.25 580.423 1166.25 Q579.544 1166.25 578.803 1165.93 Q578.062 1165.61 577.206 1164.84 Z\" fill=\"#000000\" fill-rule=\"evenodd\" fill-opacity=\"1\" /><path clip-path=\"url(#clip280)\" d=\"M607.113 1173.61 Q603.687 1173.61 601.696 1176.3 Q599.706 1178.96 599.706 1183.61 Q599.706 1188.27 601.673 1190.95 Q603.664 1193.61 607.113 1193.61 Q610.516 1193.61 612.506 1190.93 Q614.497 1188.24 614.497 1183.61 Q614.497 1179.01 612.506 1176.32 Q610.516 1173.61 607.113 1173.61 M607.113 1170 Q612.669 1170 615.84 1173.61 Q619.011 1177.23 619.011 1183.61 Q619.011 1189.98 615.84 1193.61 Q612.669 1197.23 607.113 1197.23 Q601.534 1197.23 598.363 1193.61 Q595.215 1189.98 595.215 1183.61 Q595.215 1177.23 598.363 1173.61 Q601.534 1170 607.113 1170 Z\" fill=\"#000000\" fill-rule=\"evenodd\" fill-opacity=\"1\" /><polyline clip-path=\"url(#clip280)\" style=\"stroke:#00a98d; stroke-linecap:round; stroke-linejoin:round; stroke-width:4; stroke-opacity:1; fill:none\" points=\"\n  253.741,1231.11 400.184,1231.11 \n  \"/>\n<path clip-path=\"url(#clip280)\" d=\"M424.591 1213.83 L429.267 1213.83 L429.267 1244.46 L446.095 1244.46 L446.095 1248.39 L424.591 1248.39 L424.591 1213.83 Z\" fill=\"#000000\" fill-rule=\"evenodd\" fill-opacity=\"1\" /><path clip-path=\"url(#clip280)\" d=\"M450.818 1222.47 L455.077 1222.47 L455.077 1248.39 L450.818 1248.39 L450.818 1222.47 M450.818 1212.38 L455.077 1212.38 L455.077 1217.77 L450.818 1217.77 L450.818 1212.38 Z\" fill=\"#000000\" fill-rule=\"evenodd\" fill-opacity=\"1\" /><path clip-path=\"url(#clip280)\" d=\"M485.54 1232.75 L485.54 1248.39 L481.28 1248.39 L481.28 1232.89 Q481.28 1229.2 479.845 1227.38 Q478.41 1225.55 475.54 1225.55 Q472.091 1225.55 470.1 1227.75 Q468.109 1229.95 468.109 1233.74 L468.109 1248.39 L463.827 1248.39 L463.827 1222.47 L468.109 1222.47 L468.109 1226.5 Q469.637 1224.16 471.697 1223 Q473.78 1221.84 476.489 1221.84 Q480.956 1221.84 483.248 1224.62 Q485.54 1227.38 485.54 1232.75 Z\" fill=\"#000000\" fill-rule=\"evenodd\" fill-opacity=\"1\" /><path clip-path=\"url(#clip280)\" d=\"M515.586 1232.75 L515.586 1248.39 L511.326 1248.39 L511.326 1232.89 Q511.326 1229.2 509.891 1227.38 Q508.456 1225.55 505.586 1225.55 Q502.137 1225.55 500.146 1227.75 Q498.155 1229.95 498.155 1233.74 L498.155 1248.39 L493.873 1248.39 L493.873 1212.38 L498.155 1212.38 L498.155 1226.5 Q499.683 1224.16 501.743 1223 Q503.826 1221.84 506.535 1221.84 Q511.002 1221.84 513.294 1224.62 Q515.586 1227.38 515.586 1232.75 Z\" fill=\"#000000\" fill-rule=\"evenodd\" fill-opacity=\"1\" /><path clip-path=\"url(#clip280)\" d=\"M535.863 1235.36 Q530.701 1235.36 528.711 1236.54 Q526.72 1237.72 526.72 1240.57 Q526.72 1242.84 528.201 1244.18 Q529.706 1245.5 532.275 1245.5 Q535.817 1245.5 537.947 1243 Q540.099 1240.48 540.099 1236.31 L540.099 1235.36 L535.863 1235.36 M544.359 1233.6 L544.359 1248.39 L540.099 1248.39 L540.099 1244.46 Q538.641 1246.82 536.465 1247.95 Q534.289 1249.07 531.141 1249.07 Q527.16 1249.07 524.799 1246.84 Q522.461 1244.6 522.461 1240.85 Q522.461 1236.47 525.377 1234.25 Q528.317 1232.03 534.127 1232.03 L540.099 1232.03 L540.099 1231.61 Q540.099 1228.67 538.155 1227.08 Q536.234 1225.45 532.738 1225.45 Q530.516 1225.45 528.41 1225.99 Q526.303 1226.52 524.359 1227.58 L524.359 1223.65 Q526.697 1222.75 528.896 1222.31 Q531.095 1221.84 533.178 1221.84 Q538.803 1221.84 541.581 1224.76 Q544.359 1227.68 544.359 1233.6 Z\" fill=\"#000000\" fill-rule=\"evenodd\" fill-opacity=\"1\" /><path clip-path=\"url(#clip280)\" d=\"M585.261 1226.4 L585.261 1212.38 L589.52 1212.38 L589.52 1248.39 L585.261 1248.39 L585.261 1244.51 Q583.919 1246.82 581.858 1247.95 Q579.821 1249.07 576.951 1249.07 Q572.252 1249.07 569.289 1245.32 Q566.349 1241.57 566.349 1235.45 Q566.349 1229.34 569.289 1225.59 Q572.252 1221.84 576.951 1221.84 Q579.821 1221.84 581.858 1222.98 Q583.919 1224.09 585.261 1226.4 M570.747 1235.45 Q570.747 1240.15 572.669 1242.84 Q574.613 1245.5 577.993 1245.5 Q581.372 1245.5 583.317 1242.84 Q585.261 1240.15 585.261 1235.45 Q585.261 1230.76 583.317 1228.09 Q581.372 1225.41 577.993 1225.41 Q574.613 1225.41 572.669 1228.09 Q570.747 1230.76 570.747 1235.45 Z\" fill=\"#000000\" fill-rule=\"evenodd\" fill-opacity=\"1\" /><path clip-path=\"url(#clip280)\" d=\"M620.469 1234.37 L620.469 1236.45 L600.886 1236.45 Q601.164 1240.85 603.525 1243.16 Q605.909 1245.45 610.145 1245.45 Q612.599 1245.45 614.891 1244.85 Q617.206 1244.25 619.474 1243.05 L619.474 1247.07 Q617.182 1248.05 614.775 1248.56 Q612.368 1249.07 609.891 1249.07 Q603.687 1249.07 600.053 1245.45 Q596.442 1241.84 596.442 1235.69 Q596.442 1229.32 599.868 1225.59 Q603.317 1221.84 609.15 1221.84 Q614.381 1221.84 617.414 1225.22 Q620.469 1228.58 620.469 1234.37 M616.21 1233.12 Q616.164 1229.62 614.243 1227.54 Q612.344 1225.45 609.196 1225.45 Q605.632 1225.45 603.479 1227.47 Q601.349 1229.48 601.025 1233.14 L616.21 1233.12 Z\" fill=\"#000000\" fill-rule=\"evenodd\" fill-opacity=\"1\" /><path clip-path=\"url(#clip280)\" d=\"M642.529 1222.47 L646.789 1222.47 L646.789 1248.39 L642.529 1248.39 L642.529 1222.47 M642.529 1212.38 L646.789 1212.38 L646.789 1217.77 L642.529 1217.77 L642.529 1212.38 Z\" fill=\"#000000\" fill-rule=\"evenodd\" fill-opacity=\"1\" /><path clip-path=\"url(#clip280)\" d=\"M677.251 1232.75 L677.251 1248.39 L672.992 1248.39 L672.992 1232.89 Q672.992 1229.2 671.557 1227.38 Q670.122 1225.55 667.252 1225.55 Q663.802 1225.55 661.812 1227.75 Q659.821 1229.95 659.821 1233.74 L659.821 1248.39 L655.539 1248.39 L655.539 1222.47 L659.821 1222.47 L659.821 1226.5 Q661.349 1224.16 663.409 1223 Q665.492 1221.84 668.201 1221.84 Q672.668 1221.84 674.96 1224.62 Q677.251 1227.38 677.251 1232.75 Z\" fill=\"#000000\" fill-rule=\"evenodd\" fill-opacity=\"1\" /><path clip-path=\"url(#clip280)\" d=\"M689.96 1215.11 L689.96 1222.47 L698.733 1222.47 L698.733 1225.78 L689.96 1225.78 L689.96 1239.85 Q689.96 1243.02 690.816 1243.93 Q691.696 1244.83 694.358 1244.83 L698.733 1244.83 L698.733 1248.39 L694.358 1248.39 Q689.427 1248.39 687.552 1246.57 Q685.677 1244.71 685.677 1239.85 L685.677 1225.78 L682.552 1225.78 L682.552 1222.47 L685.677 1222.47 L685.677 1215.11 L689.96 1215.11 Z\" fill=\"#000000\" fill-rule=\"evenodd\" fill-opacity=\"1\" /><path clip-path=\"url(#clip280)\" d=\"M726.51 1234.37 L726.51 1236.45 L706.927 1236.45 Q707.205 1240.85 709.566 1243.16 Q711.95 1245.45 716.186 1245.45 Q718.64 1245.45 720.932 1244.85 Q723.247 1244.25 725.515 1243.05 L725.515 1247.07 Q723.223 1248.05 720.816 1248.56 Q718.409 1249.07 715.932 1249.07 Q709.728 1249.07 706.094 1245.45 Q702.483 1241.84 702.483 1235.69 Q702.483 1229.32 705.909 1225.59 Q709.358 1221.84 715.191 1221.84 Q720.423 1221.84 723.455 1225.22 Q726.51 1228.58 726.51 1234.37 M722.251 1233.12 Q722.205 1229.62 720.284 1227.54 Q718.386 1225.45 715.237 1225.45 Q711.673 1225.45 709.52 1227.47 Q707.39 1229.48 707.066 1233.14 L722.251 1233.12 Z\" fill=\"#000000\" fill-rule=\"evenodd\" fill-opacity=\"1\" /><path clip-path=\"url(#clip280)\" d=\"M748.524 1226.45 Q747.807 1226.03 746.95 1225.85 Q746.117 1225.64 745.098 1225.64 Q741.487 1225.64 739.543 1228 Q737.622 1230.34 737.622 1234.74 L737.622 1248.39 L733.339 1248.39 L733.339 1222.47 L737.622 1222.47 L737.622 1226.5 Q738.964 1224.14 741.117 1223 Q743.27 1221.84 746.348 1221.84 Q746.788 1221.84 747.321 1221.91 Q747.853 1221.96 748.501 1222.08 L748.524 1226.45 Z\" fill=\"#000000\" fill-rule=\"evenodd\" fill-opacity=\"1\" /><path clip-path=\"url(#clip280)\" d=\"M766.117 1212.38 L766.117 1215.92 L762.043 1215.92 Q759.751 1215.92 758.848 1216.84 Q757.969 1217.77 757.969 1220.18 L757.969 1222.47 L764.983 1222.47 L764.983 1225.78 L757.969 1225.78 L757.969 1248.39 L753.686 1248.39 L753.686 1225.78 L749.612 1225.78 L749.612 1222.47 L753.686 1222.47 L753.686 1220.66 Q753.686 1216.33 755.7 1214.37 Q757.714 1212.38 762.089 1212.38 L766.117 1212.38 Z\" fill=\"#000000\" fill-rule=\"evenodd\" fill-opacity=\"1\" /><path clip-path=\"url(#clip280)\" d=\"M791.857 1234.37 L791.857 1236.45 L772.274 1236.45 Q772.552 1240.85 774.913 1243.16 Q777.297 1245.45 781.533 1245.45 Q783.987 1245.45 786.279 1244.85 Q788.593 1244.25 790.862 1243.05 L790.862 1247.07 Q788.57 1248.05 786.163 1248.56 Q783.756 1249.07 781.279 1249.07 Q775.075 1249.07 771.441 1245.45 Q767.83 1241.84 767.83 1235.69 Q767.83 1229.32 771.256 1225.59 Q774.705 1221.84 780.538 1221.84 Q785.769 1221.84 788.802 1225.22 Q791.857 1228.58 791.857 1234.37 M787.598 1233.12 Q787.552 1229.62 785.631 1227.54 Q783.732 1225.45 780.584 1225.45 Q777.019 1225.45 774.867 1227.47 Q772.737 1229.48 772.413 1233.14 L787.598 1233.12 Z\" fill=\"#000000\" fill-rule=\"evenodd\" fill-opacity=\"1\" /><path clip-path=\"url(#clip280)\" d=\"M813.871 1226.45 Q813.154 1226.03 812.297 1225.85 Q811.464 1225.64 810.445 1225.64 Q806.834 1225.64 804.89 1228 Q802.968 1230.34 802.968 1234.74 L802.968 1248.39 L798.686 1248.39 L798.686 1222.47 L802.968 1222.47 L802.968 1226.5 Q804.311 1224.14 806.464 1223 Q808.617 1221.84 811.695 1221.84 Q812.135 1221.84 812.667 1221.91 Q813.2 1221.96 813.848 1222.08 L813.871 1226.45 Z\" fill=\"#000000\" fill-rule=\"evenodd\" fill-opacity=\"1\" /><path clip-path=\"url(#clip280)\" d=\"M839.473 1234.37 L839.473 1236.45 L819.89 1236.45 Q820.167 1240.85 822.528 1243.16 Q824.913 1245.45 829.149 1245.45 Q831.603 1245.45 833.894 1244.85 Q836.209 1244.25 838.477 1243.05 L838.477 1247.07 Q836.186 1248.05 833.778 1248.56 Q831.371 1249.07 828.894 1249.07 Q822.691 1249.07 819.056 1245.45 Q815.445 1241.84 815.445 1235.69 Q815.445 1229.32 818.871 1225.59 Q822.32 1221.84 828.153 1221.84 Q833.385 1221.84 836.417 1225.22 Q839.473 1228.58 839.473 1234.37 M835.214 1233.12 Q835.167 1229.62 833.246 1227.54 Q831.348 1225.45 828.2 1225.45 Q824.635 1225.45 822.482 1227.47 Q820.353 1229.48 820.029 1233.14 L835.214 1233.12 Z\" fill=\"#000000\" fill-rule=\"evenodd\" fill-opacity=\"1\" /><path clip-path=\"url(#clip280)\" d=\"M868.014 1232.75 L868.014 1248.39 L863.755 1248.39 L863.755 1232.89 Q863.755 1229.2 862.32 1227.38 Q860.885 1225.55 858.014 1225.55 Q854.565 1225.55 852.575 1227.75 Q850.584 1229.95 850.584 1233.74 L850.584 1248.39 L846.302 1248.39 L846.302 1222.47 L850.584 1222.47 L850.584 1226.5 Q852.112 1224.16 854.172 1223 Q856.255 1221.84 858.963 1221.84 Q863.431 1221.84 865.723 1224.62 Q868.014 1227.38 868.014 1232.75 Z\" fill=\"#000000\" fill-rule=\"evenodd\" fill-opacity=\"1\" /><path clip-path=\"url(#clip280)\" d=\"M895.167 1223.46 L895.167 1227.45 Q893.361 1226.45 891.533 1225.96 Q889.727 1225.45 887.875 1225.45 Q883.732 1225.45 881.44 1228.09 Q879.149 1230.71 879.149 1235.45 Q879.149 1240.2 881.44 1242.84 Q883.732 1245.45 887.875 1245.45 Q889.727 1245.45 891.533 1244.97 Q893.361 1244.46 895.167 1243.46 L895.167 1247.4 Q893.385 1248.23 891.463 1248.65 Q889.565 1249.07 887.412 1249.07 Q881.556 1249.07 878.107 1245.39 Q874.658 1241.7 874.658 1235.45 Q874.658 1229.11 878.13 1225.48 Q881.625 1221.84 887.69 1221.84 Q889.658 1221.84 891.533 1222.26 Q893.408 1222.65 895.167 1223.46 Z\" fill=\"#000000\" fill-rule=\"evenodd\" fill-opacity=\"1\" /><path clip-path=\"url(#clip280)\" d=\"M902.574 1222.47 L906.834 1222.47 L906.834 1248.39 L902.574 1248.39 L902.574 1222.47 M902.574 1212.38 L906.834 1212.38 L906.834 1217.77 L902.574 1217.77 L902.574 1212.38 Z\" fill=\"#000000\" fill-rule=\"evenodd\" fill-opacity=\"1\" /><path clip-path=\"url(#clip280)\" d=\"M927.528 1235.36 Q922.366 1235.36 920.375 1236.54 Q918.384 1237.72 918.384 1240.57 Q918.384 1242.84 919.866 1244.18 Q921.371 1245.5 923.94 1245.5 Q927.482 1245.5 929.611 1243 Q931.764 1240.48 931.764 1236.31 L931.764 1235.36 L927.528 1235.36 M936.023 1233.6 L936.023 1248.39 L931.764 1248.39 L931.764 1244.46 Q930.306 1246.82 928.13 1247.95 Q925.954 1249.07 922.806 1249.07 Q918.824 1249.07 916.463 1246.84 Q914.125 1244.6 914.125 1240.85 Q914.125 1236.47 917.042 1234.25 Q919.982 1232.03 925.792 1232.03 L931.764 1232.03 L931.764 1231.61 Q931.764 1228.67 929.82 1227.08 Q927.898 1225.45 924.403 1225.45 Q922.181 1225.45 920.074 1225.99 Q917.968 1226.52 916.023 1227.58 L916.023 1223.65 Q918.361 1222.75 920.56 1222.31 Q922.759 1221.84 924.843 1221.84 Q930.468 1221.84 933.245 1224.76 Q936.023 1227.68 936.023 1233.6 Z\" fill=\"#000000\" fill-rule=\"evenodd\" fill-opacity=\"1\" /><polyline clip-path=\"url(#clip280)\" style=\"stroke:#8e971d; stroke-linecap:round; stroke-linejoin:round; stroke-width:4; stroke-opacity:1; fill:none\" points=\"\n  253.741,1282.95 400.184,1282.95 \n  \"/>\n<path clip-path=\"url(#clip280)\" d=\"M424.591 1265.67 L429.267 1265.67 L429.267 1296.3 L446.095 1296.3 L446.095 1300.23 L424.591 1300.23 L424.591 1265.67 Z\" fill=\"#000000\" fill-rule=\"evenodd\" fill-opacity=\"1\" /><path clip-path=\"url(#clip280)\" d=\"M450.818 1274.31 L455.077 1274.31 L455.077 1300.23 L450.818 1300.23 L450.818 1274.31 M450.818 1264.22 L455.077 1264.22 L455.077 1269.61 L450.818 1269.61 L450.818 1264.22 Z\" fill=\"#000000\" fill-rule=\"evenodd\" fill-opacity=\"1\" /><path clip-path=\"url(#clip280)\" d=\"M485.54 1284.59 L485.54 1300.23 L481.28 1300.23 L481.28 1284.73 Q481.28 1281.04 479.845 1279.22 Q478.41 1277.39 475.54 1277.39 Q472.091 1277.39 470.1 1279.59 Q468.109 1281.79 468.109 1285.58 L468.109 1300.23 L463.827 1300.23 L463.827 1274.31 L468.109 1274.31 L468.109 1278.34 Q469.637 1276 471.697 1274.84 Q473.78 1273.68 476.489 1273.68 Q480.956 1273.68 483.248 1276.46 Q485.54 1279.22 485.54 1284.59 Z\" fill=\"#000000\" fill-rule=\"evenodd\" fill-opacity=\"1\" /><path clip-path=\"url(#clip280)\" d=\"M515.586 1284.59 L515.586 1300.23 L511.326 1300.23 L511.326 1284.73 Q511.326 1281.04 509.891 1279.22 Q508.456 1277.39 505.586 1277.39 Q502.137 1277.39 500.146 1279.59 Q498.155 1281.79 498.155 1285.58 L498.155 1300.23 L493.873 1300.23 L493.873 1264.22 L498.155 1264.22 L498.155 1278.34 Q499.683 1276 501.743 1274.84 Q503.826 1273.68 506.535 1273.68 Q511.002 1273.68 513.294 1276.46 Q515.586 1279.22 515.586 1284.59 Z\" fill=\"#000000\" fill-rule=\"evenodd\" fill-opacity=\"1\" /><path clip-path=\"url(#clip280)\" d=\"M535.863 1287.2 Q530.701 1287.2 528.711 1288.38 Q526.72 1289.56 526.72 1292.41 Q526.72 1294.68 528.201 1296.02 Q529.706 1297.34 532.275 1297.34 Q535.817 1297.34 537.947 1294.84 Q540.099 1292.32 540.099 1288.15 L540.099 1287.2 L535.863 1287.2 M544.359 1285.44 L544.359 1300.23 L540.099 1300.23 L540.099 1296.3 Q538.641 1298.66 536.465 1299.79 Q534.289 1300.91 531.141 1300.91 Q527.16 1300.91 524.799 1298.68 Q522.461 1296.44 522.461 1292.69 Q522.461 1288.31 525.377 1286.09 Q528.317 1283.87 534.127 1283.87 L540.099 1283.87 L540.099 1283.45 Q540.099 1280.51 538.155 1278.92 Q536.234 1277.29 532.738 1277.29 Q530.516 1277.29 528.41 1277.83 Q526.303 1278.36 524.359 1279.42 L524.359 1275.49 Q526.697 1274.59 528.896 1274.15 Q531.095 1273.68 533.178 1273.68 Q538.803 1273.68 541.581 1276.6 Q544.359 1279.52 544.359 1285.44 Z\" fill=\"#000000\" fill-rule=\"evenodd\" fill-opacity=\"1\" /><path clip-path=\"url(#clip280)\" d=\"M585.261 1278.24 L585.261 1264.22 L589.52 1264.22 L589.52 1300.23 L585.261 1300.23 L585.261 1296.35 Q583.919 1298.66 581.858 1299.79 Q579.821 1300.91 576.951 1300.91 Q572.252 1300.91 569.289 1297.16 Q566.349 1293.41 566.349 1287.29 Q566.349 1281.18 569.289 1277.43 Q572.252 1273.68 576.951 1273.68 Q579.821 1273.68 581.858 1274.82 Q583.919 1275.93 585.261 1278.24 M570.747 1287.29 Q570.747 1291.99 572.669 1294.68 Q574.613 1297.34 577.993 1297.34 Q581.372 1297.34 583.317 1294.68 Q585.261 1291.99 585.261 1287.29 Q585.261 1282.6 583.317 1279.93 Q581.372 1277.25 577.993 1277.25 Q574.613 1277.25 572.669 1279.93 Q570.747 1282.6 570.747 1287.29 Z\" fill=\"#000000\" fill-rule=\"evenodd\" fill-opacity=\"1\" /><path clip-path=\"url(#clip280)\" d=\"M620.469 1286.21 L620.469 1288.29 L600.886 1288.29 Q601.164 1292.69 603.525 1295 Q605.909 1297.29 610.145 1297.29 Q612.599 1297.29 614.891 1296.69 Q617.206 1296.09 619.474 1294.89 L619.474 1298.91 Q617.182 1299.89 614.775 1300.4 Q612.368 1300.91 609.891 1300.91 Q603.687 1300.91 600.053 1297.29 Q596.442 1293.68 596.442 1287.53 Q596.442 1281.16 599.868 1277.43 Q603.317 1273.68 609.15 1273.68 Q614.381 1273.68 617.414 1277.06 Q620.469 1280.42 620.469 1286.21 M616.21 1284.96 Q616.164 1281.46 614.243 1279.38 Q612.344 1277.29 609.196 1277.29 Q605.632 1277.29 603.479 1279.31 Q601.349 1281.32 601.025 1284.98 L616.21 1284.96 Z\" fill=\"#000000\" fill-rule=\"evenodd\" fill-opacity=\"1\" /><path clip-path=\"url(#clip280)\" d=\"M642.529 1274.31 L646.789 1274.31 L646.789 1300.23 L642.529 1300.23 L642.529 1274.31 M642.529 1264.22 L646.789 1264.22 L646.789 1269.61 L642.529 1269.61 L642.529 1264.22 Z\" fill=\"#000000\" fill-rule=\"evenodd\" fill-opacity=\"1\" /><path clip-path=\"url(#clip280)\" d=\"M677.251 1284.59 L677.251 1300.23 L672.992 1300.23 L672.992 1284.73 Q672.992 1281.04 671.557 1279.22 Q670.122 1277.39 667.252 1277.39 Q663.802 1277.39 661.812 1279.59 Q659.821 1281.79 659.821 1285.58 L659.821 1300.23 L655.539 1300.23 L655.539 1274.31 L659.821 1274.31 L659.821 1278.34 Q661.349 1276 663.409 1274.84 Q665.492 1273.68 668.201 1273.68 Q672.668 1273.68 674.96 1276.46 Q677.251 1279.22 677.251 1284.59 Z\" fill=\"#000000\" fill-rule=\"evenodd\" fill-opacity=\"1\" /><path clip-path=\"url(#clip280)\" d=\"M689.96 1266.95 L689.96 1274.31 L698.733 1274.31 L698.733 1277.62 L689.96 1277.62 L689.96 1291.69 Q689.96 1294.86 690.816 1295.77 Q691.696 1296.67 694.358 1296.67 L698.733 1296.67 L698.733 1300.23 L694.358 1300.23 Q689.427 1300.23 687.552 1298.41 Q685.677 1296.55 685.677 1291.69 L685.677 1277.62 L682.552 1277.62 L682.552 1274.31 L685.677 1274.31 L685.677 1266.95 L689.96 1266.95 Z\" fill=\"#000000\" fill-rule=\"evenodd\" fill-opacity=\"1\" /><path clip-path=\"url(#clip280)\" d=\"M726.51 1286.21 L726.51 1288.29 L706.927 1288.29 Q707.205 1292.69 709.566 1295 Q711.95 1297.29 716.186 1297.29 Q718.64 1297.29 720.932 1296.69 Q723.247 1296.09 725.515 1294.89 L725.515 1298.91 Q723.223 1299.89 720.816 1300.4 Q718.409 1300.91 715.932 1300.91 Q709.728 1300.91 706.094 1297.29 Q702.483 1293.68 702.483 1287.53 Q702.483 1281.16 705.909 1277.43 Q709.358 1273.68 715.191 1273.68 Q720.423 1273.68 723.455 1277.06 Q726.51 1280.42 726.51 1286.21 M722.251 1284.96 Q722.205 1281.46 720.284 1279.38 Q718.386 1277.29 715.237 1277.29 Q711.673 1277.29 709.52 1279.31 Q707.39 1281.32 707.066 1284.98 L722.251 1284.96 Z\" fill=\"#000000\" fill-rule=\"evenodd\" fill-opacity=\"1\" /><path clip-path=\"url(#clip280)\" d=\"M748.524 1278.29 Q747.807 1277.87 746.95 1277.69 Q746.117 1277.48 745.098 1277.48 Q741.487 1277.48 739.543 1279.84 Q737.622 1282.18 737.622 1286.58 L737.622 1300.23 L733.339 1300.23 L733.339 1274.31 L737.622 1274.31 L737.622 1278.34 Q738.964 1275.98 741.117 1274.84 Q743.27 1273.68 746.348 1273.68 Q746.788 1273.68 747.321 1273.75 Q747.853 1273.8 748.501 1273.92 L748.524 1278.29 Z\" fill=\"#000000\" fill-rule=\"evenodd\" fill-opacity=\"1\" /><path clip-path=\"url(#clip280)\" d=\"M766.117 1264.22 L766.117 1267.76 L762.043 1267.76 Q759.751 1267.76 758.848 1268.68 Q757.969 1269.61 757.969 1272.02 L757.969 1274.31 L764.983 1274.31 L764.983 1277.62 L757.969 1277.62 L757.969 1300.23 L753.686 1300.23 L753.686 1277.62 L749.612 1277.62 L749.612 1274.31 L753.686 1274.31 L753.686 1272.5 Q753.686 1268.17 755.7 1266.21 Q757.714 1264.22 762.089 1264.22 L766.117 1264.22 Z\" fill=\"#000000\" fill-rule=\"evenodd\" fill-opacity=\"1\" /><path clip-path=\"url(#clip280)\" d=\"M791.857 1286.21 L791.857 1288.29 L772.274 1288.29 Q772.552 1292.69 774.913 1295 Q777.297 1297.29 781.533 1297.29 Q783.987 1297.29 786.279 1296.69 Q788.593 1296.09 790.862 1294.89 L790.862 1298.91 Q788.57 1299.89 786.163 1300.4 Q783.756 1300.91 781.279 1300.91 Q775.075 1300.91 771.441 1297.29 Q767.83 1293.68 767.83 1287.53 Q767.83 1281.16 771.256 1277.43 Q774.705 1273.68 780.538 1273.68 Q785.769 1273.68 788.802 1277.06 Q791.857 1280.42 791.857 1286.21 M787.598 1284.96 Q787.552 1281.46 785.631 1279.38 Q783.732 1277.29 780.584 1277.29 Q777.019 1277.29 774.867 1279.31 Q772.737 1281.32 772.413 1284.98 L787.598 1284.96 Z\" fill=\"#000000\" fill-rule=\"evenodd\" fill-opacity=\"1\" /><path clip-path=\"url(#clip280)\" d=\"M813.871 1278.29 Q813.154 1277.87 812.297 1277.69 Q811.464 1277.48 810.445 1277.48 Q806.834 1277.48 804.89 1279.84 Q802.968 1282.18 802.968 1286.58 L802.968 1300.23 L798.686 1300.23 L798.686 1274.31 L802.968 1274.31 L802.968 1278.34 Q804.311 1275.98 806.464 1274.84 Q808.617 1273.68 811.695 1273.68 Q812.135 1273.68 812.667 1273.75 Q813.2 1273.8 813.848 1273.92 L813.871 1278.29 Z\" fill=\"#000000\" fill-rule=\"evenodd\" fill-opacity=\"1\" /><path clip-path=\"url(#clip280)\" d=\"M839.473 1286.21 L839.473 1288.29 L819.89 1288.29 Q820.167 1292.69 822.528 1295 Q824.913 1297.29 829.149 1297.29 Q831.603 1297.29 833.894 1296.69 Q836.209 1296.09 838.477 1294.89 L838.477 1298.91 Q836.186 1299.89 833.778 1300.4 Q831.371 1300.91 828.894 1300.91 Q822.691 1300.91 819.056 1297.29 Q815.445 1293.68 815.445 1287.53 Q815.445 1281.16 818.871 1277.43 Q822.32 1273.68 828.153 1273.68 Q833.385 1273.68 836.417 1277.06 Q839.473 1280.42 839.473 1286.21 M835.214 1284.96 Q835.167 1281.46 833.246 1279.38 Q831.348 1277.29 828.2 1277.29 Q824.635 1277.29 822.482 1279.31 Q820.353 1281.32 820.029 1284.98 L835.214 1284.96 Z\" fill=\"#000000\" fill-rule=\"evenodd\" fill-opacity=\"1\" /><path clip-path=\"url(#clip280)\" d=\"M868.014 1284.59 L868.014 1300.23 L863.755 1300.23 L863.755 1284.73 Q863.755 1281.04 862.32 1279.22 Q860.885 1277.39 858.014 1277.39 Q854.565 1277.39 852.575 1279.59 Q850.584 1281.79 850.584 1285.58 L850.584 1300.23 L846.302 1300.23 L846.302 1274.31 L850.584 1274.31 L850.584 1278.34 Q852.112 1276 854.172 1274.84 Q856.255 1273.68 858.963 1273.68 Q863.431 1273.68 865.723 1276.46 Q868.014 1279.22 868.014 1284.59 Z\" fill=\"#000000\" fill-rule=\"evenodd\" fill-opacity=\"1\" /><path clip-path=\"url(#clip280)\" d=\"M895.167 1275.3 L895.167 1279.29 Q893.361 1278.29 891.533 1277.8 Q889.727 1277.29 887.875 1277.29 Q883.732 1277.29 881.44 1279.93 Q879.149 1282.55 879.149 1287.29 Q879.149 1292.04 881.44 1294.68 Q883.732 1297.29 887.875 1297.29 Q889.727 1297.29 891.533 1296.81 Q893.361 1296.3 895.167 1295.3 L895.167 1299.24 Q893.385 1300.07 891.463 1300.49 Q889.565 1300.91 887.412 1300.91 Q881.556 1300.91 878.107 1297.23 Q874.658 1293.54 874.658 1287.29 Q874.658 1280.95 878.13 1277.32 Q881.625 1273.68 887.69 1273.68 Q889.658 1273.68 891.533 1274.1 Q893.408 1274.49 895.167 1275.3 Z\" fill=\"#000000\" fill-rule=\"evenodd\" fill-opacity=\"1\" /><path clip-path=\"url(#clip280)\" d=\"M902.574 1274.31 L906.834 1274.31 L906.834 1300.23 L902.574 1300.23 L902.574 1274.31 M902.574 1264.22 L906.834 1264.22 L906.834 1269.61 L902.574 1269.61 L902.574 1264.22 Z\" fill=\"#000000\" fill-rule=\"evenodd\" fill-opacity=\"1\" /><path clip-path=\"url(#clip280)\" d=\"M927.528 1287.2 Q922.366 1287.2 920.375 1288.38 Q918.384 1289.56 918.384 1292.41 Q918.384 1294.68 919.866 1296.02 Q921.371 1297.34 923.94 1297.34 Q927.482 1297.34 929.611 1294.84 Q931.764 1292.32 931.764 1288.15 L931.764 1287.2 L927.528 1287.2 M936.023 1285.44 L936.023 1300.23 L931.764 1300.23 L931.764 1296.3 Q930.306 1298.66 928.13 1299.79 Q925.954 1300.91 922.806 1300.91 Q918.824 1300.91 916.463 1298.68 Q914.125 1296.44 914.125 1292.69 Q914.125 1288.31 917.042 1286.09 Q919.982 1283.87 925.792 1283.87 L931.764 1283.87 L931.764 1283.45 Q931.764 1280.51 929.82 1278.92 Q927.898 1277.29 924.403 1277.29 Q922.181 1277.29 920.074 1277.83 Q917.968 1278.36 916.023 1279.42 L916.023 1275.49 Q918.361 1274.59 920.56 1274.15 Q922.759 1273.68 924.843 1273.68 Q930.468 1273.68 933.245 1276.6 Q936.023 1279.52 936.023 1285.44 Z\" fill=\"#000000\" fill-rule=\"evenodd\" fill-opacity=\"1\" /><polyline clip-path=\"url(#clip280)\" style=\"stroke:#00a8cb; stroke-linecap:round; stroke-linejoin:round; stroke-width:4; stroke-opacity:1; fill:none\" points=\"\n  253.741,1334.79 400.184,1334.79 \n  \"/>\n<path clip-path=\"url(#clip280)\" d=\"M429.267 1321.36 L429.267 1334.34 L435.146 1334.34 Q438.41 1334.34 440.193 1332.65 Q441.975 1330.96 441.975 1327.84 Q441.975 1324.74 440.193 1323.05 Q438.41 1321.36 435.146 1321.36 L429.267 1321.36 M424.591 1317.51 L435.146 1317.51 Q440.956 1317.51 443.919 1320.15 Q446.906 1322.77 446.906 1327.84 Q446.906 1332.95 443.919 1335.57 Q440.956 1338.19 435.146 1338.19 L429.267 1338.19 L429.267 1352.07 L424.591 1352.07 L424.591 1317.51 Z\" fill=\"#000000\" fill-rule=\"evenodd\" fill-opacity=\"1\" /><path clip-path=\"url(#clip280)\" d=\"M461.35 1329.13 Q457.924 1329.13 455.933 1331.82 Q453.943 1334.48 453.943 1339.13 Q453.943 1343.79 455.91 1346.47 Q457.901 1349.13 461.35 1349.13 Q464.753 1349.13 466.743 1346.45 Q468.734 1343.76 468.734 1339.13 Q468.734 1334.53 466.743 1331.84 Q464.753 1329.13 461.35 1329.13 M461.35 1325.52 Q466.905 1325.52 470.077 1329.13 Q473.248 1332.75 473.248 1339.13 Q473.248 1345.5 470.077 1349.13 Q466.905 1352.75 461.35 1352.75 Q455.771 1352.75 452.6 1349.13 Q449.452 1345.5 449.452 1339.13 Q449.452 1332.75 452.6 1329.13 Q455.771 1325.52 461.35 1325.52 Z\" fill=\"#000000\" fill-rule=\"evenodd\" fill-opacity=\"1\" /><path clip-path=\"url(#clip280)\" d=\"M480.308 1316.06 L484.567 1316.06 L484.567 1352.07 L480.308 1352.07 L480.308 1316.06 Z\" fill=\"#000000\" fill-rule=\"evenodd\" fill-opacity=\"1\" /><path clip-path=\"url(#clip280)\" d=\"M493.479 1326.15 L497.739 1326.15 L497.739 1352.07 L493.479 1352.07 L493.479 1326.15 M493.479 1316.06 L497.739 1316.06 L497.739 1321.45 L493.479 1321.45 L493.479 1316.06 Z\" fill=\"#000000\" fill-rule=\"evenodd\" fill-opacity=\"1\" /><path clip-path=\"url(#clip280)\" d=\"M523.711 1338.81 Q523.711 1334.18 521.789 1331.63 Q519.891 1329.09 516.442 1329.09 Q513.016 1329.09 511.095 1331.63 Q509.197 1334.18 509.197 1338.81 Q509.197 1343.42 511.095 1345.96 Q513.016 1348.51 516.442 1348.51 Q519.891 1348.51 521.789 1345.96 Q523.711 1343.42 523.711 1338.81 M527.97 1348.86 Q527.97 1355.48 525.03 1358.69 Q522.09 1361.94 516.026 1361.94 Q513.78 1361.94 511.789 1361.59 Q509.799 1361.26 507.924 1360.57 L507.924 1356.43 Q509.799 1357.44 511.627 1357.93 Q513.456 1358.42 515.354 1358.42 Q519.544 1358.42 521.627 1356.22 Q523.711 1354.04 523.711 1349.62 L523.711 1347.51 Q522.391 1349.81 520.331 1350.94 Q518.271 1352.07 515.401 1352.07 Q510.632 1352.07 507.715 1348.44 Q504.799 1344.81 504.799 1338.81 Q504.799 1332.79 507.715 1329.16 Q510.632 1325.52 515.401 1325.52 Q518.271 1325.52 520.331 1326.66 Q522.391 1327.79 523.711 1330.08 L523.711 1326.15 L527.97 1326.15 L527.97 1348.86 Z\" fill=\"#000000\" fill-rule=\"evenodd\" fill-opacity=\"1\" /><path clip-path=\"url(#clip280)\" d=\"M546.789 1329.13 Q543.363 1329.13 541.373 1331.82 Q539.382 1334.48 539.382 1339.13 Q539.382 1343.79 541.349 1346.47 Q543.34 1349.13 546.789 1349.13 Q550.192 1349.13 552.183 1346.45 Q554.173 1343.76 554.173 1339.13 Q554.173 1334.53 552.183 1331.84 Q550.192 1329.13 546.789 1329.13 M546.789 1325.52 Q552.345 1325.52 555.516 1329.13 Q558.687 1332.75 558.687 1339.13 Q558.687 1345.5 555.516 1349.13 Q552.345 1352.75 546.789 1352.75 Q541.211 1352.75 538.039 1349.13 Q534.891 1345.5 534.891 1339.13 Q534.891 1332.75 538.039 1329.13 Q541.211 1325.52 546.789 1325.52 Z\" fill=\"#000000\" fill-rule=\"evenodd\" fill-opacity=\"1\" /><path clip-path=\"url(#clip280)\" d=\"M587.298 1336.43 L587.298 1352.07 L583.039 1352.07 L583.039 1336.57 Q583.039 1332.88 581.604 1331.06 Q580.169 1329.23 577.298 1329.23 Q573.849 1329.23 571.859 1331.43 Q569.868 1333.63 569.868 1337.42 L569.868 1352.07 L565.585 1352.07 L565.585 1326.15 L569.868 1326.15 L569.868 1330.18 Q571.396 1327.84 573.456 1326.68 Q575.539 1325.52 578.247 1325.52 Q582.715 1325.52 585.007 1328.3 Q587.298 1331.06 587.298 1336.43 Z\" fill=\"#000000\" fill-rule=\"evenodd\" fill-opacity=\"1\" /><path clip-path=\"url(#clip280)\" d=\"M605.84 1329.13 Q602.414 1329.13 600.423 1331.82 Q598.432 1334.48 598.432 1339.13 Q598.432 1343.79 600.4 1346.47 Q602.391 1349.13 605.84 1349.13 Q609.243 1349.13 611.233 1346.45 Q613.224 1343.76 613.224 1339.13 Q613.224 1334.53 611.233 1331.84 Q609.243 1329.13 605.84 1329.13 M605.84 1325.52 Q611.395 1325.52 614.567 1329.13 Q617.738 1332.75 617.738 1339.13 Q617.738 1345.5 614.567 1349.13 Q611.395 1352.75 605.84 1352.75 Q600.261 1352.75 597.09 1349.13 Q593.942 1345.5 593.942 1339.13 Q593.942 1332.75 597.09 1329.13 Q600.261 1325.52 605.84 1325.52 Z\" fill=\"#000000\" fill-rule=\"evenodd\" fill-opacity=\"1\" /><path clip-path=\"url(#clip280)\" d=\"M656.928 1330.08 L656.928 1316.06 L661.187 1316.06 L661.187 1352.07 L656.928 1352.07 L656.928 1348.19 Q655.585 1350.5 653.525 1351.63 Q651.488 1352.75 648.617 1352.75 Q643.918 1352.75 640.955 1349 Q638.016 1345.25 638.016 1339.13 Q638.016 1333.02 640.955 1329.27 Q643.918 1325.52 648.617 1325.52 Q651.488 1325.52 653.525 1326.66 Q655.585 1327.77 656.928 1330.08 M642.414 1339.13 Q642.414 1343.83 644.335 1346.52 Q646.279 1349.18 649.659 1349.18 Q653.039 1349.18 654.983 1346.52 Q656.928 1343.83 656.928 1339.13 Q656.928 1334.44 654.983 1331.77 Q653.039 1329.09 649.659 1329.09 Q646.279 1329.09 644.335 1331.77 Q642.414 1334.44 642.414 1339.13 Z\" fill=\"#000000\" fill-rule=\"evenodd\" fill-opacity=\"1\" /><path clip-path=\"url(#clip280)\" d=\"M692.136 1338.05 L692.136 1340.13 L672.552 1340.13 Q672.83 1344.53 675.191 1346.84 Q677.576 1349.13 681.812 1349.13 Q684.265 1349.13 686.557 1348.53 Q688.872 1347.93 691.14 1346.73 L691.14 1350.75 Q688.849 1351.73 686.441 1352.24 Q684.034 1352.75 681.557 1352.75 Q675.353 1352.75 671.719 1349.13 Q668.108 1345.52 668.108 1339.37 Q668.108 1333 671.534 1329.27 Q674.983 1325.52 680.816 1325.52 Q686.048 1325.52 689.08 1328.9 Q692.136 1332.26 692.136 1338.05 M687.876 1336.8 Q687.83 1333.3 685.909 1331.22 Q684.011 1329.13 680.863 1329.13 Q677.298 1329.13 675.145 1331.15 Q673.015 1333.16 672.691 1336.82 L687.876 1336.8 Z\" fill=\"#000000\" fill-rule=\"evenodd\" fill-opacity=\"1\" /><path clip-path=\"url(#clip280)\" d=\"M714.196 1326.15 L718.455 1326.15 L718.455 1352.07 L714.196 1352.07 L714.196 1326.15 M714.196 1316.06 L718.455 1316.06 L718.455 1321.45 L714.196 1321.45 L714.196 1316.06 Z\" fill=\"#000000\" fill-rule=\"evenodd\" fill-opacity=\"1\" /><path clip-path=\"url(#clip280)\" d=\"M748.918 1336.43 L748.918 1352.07 L744.659 1352.07 L744.659 1336.57 Q744.659 1332.88 743.223 1331.06 Q741.788 1329.23 738.918 1329.23 Q735.469 1329.23 733.478 1331.43 Q731.487 1333.63 731.487 1337.42 L731.487 1352.07 L727.205 1352.07 L727.205 1326.15 L731.487 1326.15 L731.487 1330.18 Q733.015 1327.84 735.075 1326.68 Q737.159 1325.52 739.867 1325.52 Q744.334 1325.52 746.626 1328.3 Q748.918 1331.06 748.918 1336.43 Z\" fill=\"#000000\" fill-rule=\"evenodd\" fill-opacity=\"1\" /><path clip-path=\"url(#clip280)\" d=\"M761.626 1318.79 L761.626 1326.15 L770.399 1326.15 L770.399 1329.46 L761.626 1329.46 L761.626 1343.53 Q761.626 1346.7 762.483 1347.61 Q763.362 1348.51 766.024 1348.51 L770.399 1348.51 L770.399 1352.07 L766.024 1352.07 Q761.094 1352.07 759.219 1350.25 Q757.344 1348.39 757.344 1343.53 L757.344 1329.46 L754.219 1329.46 L754.219 1326.15 L757.344 1326.15 L757.344 1318.79 L761.626 1318.79 Z\" fill=\"#000000\" fill-rule=\"evenodd\" fill-opacity=\"1\" /><path clip-path=\"url(#clip280)\" d=\"M798.177 1338.05 L798.177 1340.13 L778.594 1340.13 Q778.871 1344.53 781.232 1346.84 Q783.617 1349.13 787.853 1349.13 Q790.306 1349.13 792.598 1348.53 Q794.913 1347.93 797.181 1346.73 L797.181 1350.75 Q794.89 1351.73 792.482 1352.24 Q790.075 1352.75 787.598 1352.75 Q781.394 1352.75 777.76 1349.13 Q774.149 1345.52 774.149 1339.37 Q774.149 1333 777.575 1329.27 Q781.024 1325.52 786.857 1325.52 Q792.089 1325.52 795.121 1328.9 Q798.177 1332.26 798.177 1338.05 M793.918 1336.8 Q793.871 1333.3 791.95 1331.22 Q790.052 1329.13 786.904 1329.13 Q783.339 1329.13 781.186 1331.15 Q779.057 1333.16 778.732 1336.82 L793.918 1336.8 Z\" fill=\"#000000\" fill-rule=\"evenodd\" fill-opacity=\"1\" /><path clip-path=\"url(#clip280)\" d=\"M820.191 1330.13 Q819.473 1329.71 818.616 1329.53 Q817.783 1329.32 816.765 1329.32 Q813.154 1329.32 811.209 1331.68 Q809.288 1334.02 809.288 1338.42 L809.288 1352.07 L805.005 1352.07 L805.005 1326.15 L809.288 1326.15 L809.288 1330.18 Q810.63 1327.82 812.783 1326.68 Q814.936 1325.52 818.015 1325.52 Q818.454 1325.52 818.987 1325.59 Q819.519 1325.64 820.167 1325.76 L820.191 1330.13 Z\" fill=\"#000000\" fill-rule=\"evenodd\" fill-opacity=\"1\" /><path clip-path=\"url(#clip280)\" d=\"M837.783 1316.06 L837.783 1319.6 L833.709 1319.6 Q831.417 1319.6 830.515 1320.52 Q829.635 1321.45 829.635 1323.86 L829.635 1326.15 L836.649 1326.15 L836.649 1329.46 L829.635 1329.46 L829.635 1352.07 L825.353 1352.07 L825.353 1329.46 L821.278 1329.46 L821.278 1326.15 L825.353 1326.15 L825.353 1324.34 Q825.353 1320.01 827.366 1318.05 Q829.38 1316.06 833.755 1316.06 L837.783 1316.06 Z\" fill=\"#000000\" fill-rule=\"evenodd\" fill-opacity=\"1\" /><path clip-path=\"url(#clip280)\" d=\"M863.524 1338.05 L863.524 1340.13 L843.94 1340.13 Q844.218 1344.53 846.579 1346.84 Q848.964 1349.13 853.2 1349.13 Q855.653 1349.13 857.945 1348.53 Q860.26 1347.93 862.528 1346.73 L862.528 1350.75 Q860.237 1351.73 857.829 1352.24 Q855.422 1352.75 852.945 1352.75 Q846.741 1352.75 843.107 1349.13 Q839.496 1345.52 839.496 1339.37 Q839.496 1333 842.922 1329.27 Q846.371 1325.52 852.204 1325.52 Q857.436 1325.52 860.468 1328.9 Q863.524 1332.26 863.524 1338.05 M859.264 1336.8 Q859.218 1333.3 857.297 1331.22 Q855.399 1329.13 852.251 1329.13 Q848.686 1329.13 846.533 1331.15 Q844.403 1333.16 844.079 1336.82 L859.264 1336.8 Z\" fill=\"#000000\" fill-rule=\"evenodd\" fill-opacity=\"1\" /><path clip-path=\"url(#clip280)\" d=\"M885.537 1330.13 Q884.82 1329.71 883.963 1329.53 Q883.13 1329.32 882.112 1329.32 Q878.5 1329.32 876.556 1331.68 Q874.635 1334.02 874.635 1338.42 L874.635 1352.07 L870.352 1352.07 L870.352 1326.15 L874.635 1326.15 L874.635 1330.18 Q875.977 1327.82 878.13 1326.68 Q880.283 1325.52 883.362 1325.52 Q883.801 1325.52 884.334 1325.59 Q884.866 1325.64 885.514 1325.76 L885.537 1330.13 Z\" fill=\"#000000\" fill-rule=\"evenodd\" fill-opacity=\"1\" /><path clip-path=\"url(#clip280)\" d=\"M911.139 1338.05 L911.139 1340.13 L891.556 1340.13 Q891.834 1344.53 894.195 1346.84 Q896.579 1349.13 900.815 1349.13 Q903.269 1349.13 905.56 1348.53 Q907.875 1347.93 910.144 1346.73 L910.144 1350.75 Q907.852 1351.73 905.445 1352.24 Q903.037 1352.75 900.56 1352.75 Q894.357 1352.75 890.723 1349.13 Q887.111 1345.52 887.111 1339.37 Q887.111 1333 890.537 1329.27 Q893.986 1325.52 899.82 1325.52 Q905.051 1325.52 908.084 1328.9 Q911.139 1332.26 911.139 1338.05 M906.88 1336.8 Q906.834 1333.3 904.912 1331.22 Q903.014 1329.13 899.866 1329.13 Q896.301 1329.13 894.148 1331.15 Q892.019 1333.16 891.695 1336.82 L906.88 1336.8 Z\" fill=\"#000000\" fill-rule=\"evenodd\" fill-opacity=\"1\" /><path clip-path=\"url(#clip280)\" d=\"M939.681 1336.43 L939.681 1352.07 L935.421 1352.07 L935.421 1336.57 Q935.421 1332.88 933.986 1331.06 Q932.551 1329.23 929.681 1329.23 Q926.232 1329.23 924.241 1331.43 Q922.25 1333.63 922.25 1337.42 L922.25 1352.07 L917.968 1352.07 L917.968 1326.15 L922.25 1326.15 L922.25 1330.18 Q923.778 1327.84 925.838 1326.68 Q927.921 1325.52 930.63 1325.52 Q935.097 1325.52 937.389 1328.3 Q939.681 1331.06 939.681 1336.43 Z\" fill=\"#000000\" fill-rule=\"evenodd\" fill-opacity=\"1\" /><path clip-path=\"url(#clip280)\" d=\"M966.833 1327.14 L966.833 1331.13 Q965.028 1330.13 963.199 1329.64 Q961.393 1329.13 959.542 1329.13 Q955.398 1329.13 953.106 1331.77 Q950.815 1334.39 950.815 1339.13 Q950.815 1343.88 953.106 1346.52 Q955.398 1349.13 959.542 1349.13 Q961.393 1349.13 963.199 1348.65 Q965.028 1348.14 966.833 1347.14 L966.833 1351.08 Q965.051 1351.91 963.13 1352.33 Q961.231 1352.75 959.079 1352.75 Q953.222 1352.75 949.773 1349.07 Q946.324 1345.38 946.324 1339.13 Q946.324 1332.79 949.796 1329.16 Q953.292 1325.52 959.356 1325.52 Q961.324 1325.52 963.199 1325.94 Q965.074 1326.33 966.833 1327.14 Z\" fill=\"#000000\" fill-rule=\"evenodd\" fill-opacity=\"1\" /><path clip-path=\"url(#clip280)\" d=\"M974.241 1326.15 L978.5 1326.15 L978.5 1352.07 L974.241 1352.07 L974.241 1326.15 M974.241 1316.06 L978.5 1316.06 L978.5 1321.45 L974.241 1321.45 L974.241 1316.06 Z\" fill=\"#000000\" fill-rule=\"evenodd\" fill-opacity=\"1\" /><path clip-path=\"url(#clip280)\" d=\"M999.194 1339.04 Q994.032 1339.04 992.041 1340.22 Q990.051 1341.4 990.051 1344.25 Q990.051 1346.52 991.532 1347.86 Q993.037 1349.18 995.606 1349.18 Q999.148 1349.18 1001.28 1346.68 Q1003.43 1344.16 1003.43 1339.99 L1003.43 1339.04 L999.194 1339.04 M1007.69 1337.28 L1007.69 1352.07 L1003.43 1352.07 L1003.43 1348.14 Q1001.97 1350.5 999.796 1351.63 Q997.62 1352.75 994.472 1352.75 Q990.491 1352.75 988.129 1350.52 Q985.792 1348.28 985.792 1344.53 Q985.792 1340.15 988.708 1337.93 Q991.648 1335.71 997.458 1335.71 L1003.43 1335.71 L1003.43 1335.29 Q1003.43 1332.35 1001.49 1330.76 Q999.565 1329.13 996.069 1329.13 Q993.847 1329.13 991.741 1329.67 Q989.634 1330.2 987.69 1331.26 L987.69 1327.33 Q990.028 1326.43 992.227 1325.99 Q994.426 1325.52 996.509 1325.52 Q1002.13 1325.52 1004.91 1328.44 Q1007.69 1331.36 1007.69 1337.28 Z\" fill=\"#000000\" fill-rule=\"evenodd\" fill-opacity=\"1\" /><circle clip-path=\"url(#clip280)\" cx=\"326.962\" cy=\"1386.63\" r=\"23.04\" fill=\"#9b7fe8\" fill-rule=\"evenodd\" fill-opacity=\"1\" stroke=\"#000000\" stroke-opacity=\"1\" stroke-width=\"5.12\"/>\n<path clip-path=\"url(#clip280)\" d=\"M440.98 1387.71 Q442.484 1388.22 443.896 1389.89 Q445.331 1391.55 446.767 1394.47 L451.512 1403.91 L446.489 1403.91 L442.068 1395.05 Q440.355 1391.58 438.734 1390.44 Q437.137 1389.31 434.359 1389.31 L429.267 1389.31 L429.267 1403.91 L424.591 1403.91 L424.591 1369.35 L435.146 1369.35 Q441.072 1369.35 443.989 1371.83 Q446.906 1374.31 446.906 1379.31 Q446.906 1382.57 445.378 1384.72 Q443.873 1386.88 440.98 1387.71 M429.267 1373.2 L429.267 1385.47 L435.146 1385.47 Q438.526 1385.47 440.239 1383.91 Q441.975 1382.34 441.975 1379.31 Q441.975 1376.28 440.239 1374.75 Q438.526 1373.2 435.146 1373.2 L429.267 1373.2 Z\" fill=\"#000000\" fill-rule=\"evenodd\" fill-opacity=\"1\" /><path clip-path=\"url(#clip280)\" d=\"M465.262 1380.97 Q461.836 1380.97 459.845 1383.66 Q457.855 1386.32 457.855 1390.97 Q457.855 1395.63 459.822 1398.31 Q461.813 1400.97 465.262 1400.97 Q468.665 1400.97 470.655 1398.29 Q472.646 1395.6 472.646 1390.97 Q472.646 1386.37 470.655 1383.68 Q468.665 1380.97 465.262 1380.97 M465.262 1377.36 Q470.817 1377.36 473.989 1380.97 Q477.16 1384.59 477.16 1390.97 Q477.16 1397.34 473.989 1400.97 Q470.817 1404.59 465.262 1404.59 Q459.683 1404.59 456.512 1400.97 Q453.364 1397.34 453.364 1390.97 Q453.364 1384.59 456.512 1380.97 Q459.683 1377.36 465.262 1377.36 Z\" fill=\"#000000\" fill-rule=\"evenodd\" fill-opacity=\"1\" /><path clip-path=\"url(#clip280)\" d=\"M488.433 1370.63 L488.433 1377.99 L497.206 1377.99 L497.206 1381.3 L488.433 1381.3 L488.433 1395.37 Q488.433 1398.54 489.29 1399.45 Q490.169 1400.35 492.831 1400.35 L497.206 1400.35 L497.206 1403.91 L492.831 1403.91 Q487.901 1403.91 486.026 1402.09 Q484.151 1400.23 484.151 1395.37 L484.151 1381.3 L481.026 1381.3 L481.026 1377.99 L484.151 1377.99 L484.151 1370.63 L488.433 1370.63 Z\" fill=\"#000000\" fill-rule=\"evenodd\" fill-opacity=\"1\" /><path clip-path=\"url(#clip280)\" d=\"M524.984 1389.89 L524.984 1391.97 L505.401 1391.97 Q505.678 1396.37 508.039 1398.68 Q510.424 1400.97 514.66 1400.97 Q517.113 1400.97 519.405 1400.37 Q521.72 1399.77 523.988 1398.57 L523.988 1402.59 Q521.697 1403.57 519.289 1404.08 Q516.882 1404.59 514.405 1404.59 Q508.201 1404.59 504.567 1400.97 Q500.956 1397.36 500.956 1391.21 Q500.956 1384.84 504.382 1381.11 Q507.831 1377.36 513.664 1377.36 Q518.896 1377.36 521.928 1380.74 Q524.984 1384.1 524.984 1389.89 M520.725 1388.64 Q520.678 1385.14 518.757 1383.06 Q516.859 1380.97 513.711 1380.97 Q510.146 1380.97 507.993 1382.99 Q505.864 1385 505.539 1388.66 L520.725 1388.64 Z\" fill=\"#000000\" fill-rule=\"evenodd\" fill-opacity=\"1\" /><path clip-path=\"url(#clip280)\" d=\"M543.757 1390.88 Q538.595 1390.88 536.604 1392.06 Q534.613 1393.24 534.613 1396.09 Q534.613 1398.36 536.095 1399.7 Q537.599 1401.02 540.169 1401.02 Q543.711 1401.02 545.84 1398.52 Q547.993 1396 547.993 1391.83 L547.993 1390.88 L543.757 1390.88 M552.252 1389.12 L552.252 1403.91 L547.993 1403.91 L547.993 1399.98 Q546.535 1402.34 544.359 1403.47 Q542.183 1404.59 539.035 1404.59 Q535.053 1404.59 532.692 1402.36 Q530.354 1400.12 530.354 1396.37 Q530.354 1391.99 533.271 1389.77 Q536.211 1387.55 542.021 1387.55 L547.993 1387.55 L547.993 1387.13 Q547.993 1384.19 546.048 1382.6 Q544.127 1380.97 540.632 1380.97 Q538.41 1380.97 536.303 1381.51 Q534.197 1382.04 532.252 1383.1 L532.252 1379.17 Q534.59 1378.27 536.789 1377.83 Q538.988 1377.36 541.072 1377.36 Q546.697 1377.36 549.474 1380.28 Q552.252 1383.2 552.252 1389.12 Z\" fill=\"#000000\" fill-rule=\"evenodd\" fill-opacity=\"1\" /><path clip-path=\"url(#clip280)\" d=\"M578.085 1381.92 L578.085 1367.9 L582.345 1367.9 L582.345 1403.91 L578.085 1403.91 L578.085 1400.03 Q576.743 1402.34 574.683 1403.47 Q572.646 1404.59 569.775 1404.59 Q565.076 1404.59 562.113 1400.84 Q559.173 1397.09 559.173 1390.97 Q559.173 1384.86 562.113 1381.11 Q565.076 1377.36 569.775 1377.36 Q572.646 1377.36 574.683 1378.5 Q576.743 1379.61 578.085 1381.92 M563.572 1390.97 Q563.572 1395.67 565.493 1398.36 Q567.437 1401.02 570.817 1401.02 Q574.196 1401.02 576.141 1398.36 Q578.085 1395.67 578.085 1390.97 Q578.085 1386.28 576.141 1383.61 Q574.196 1380.93 570.817 1380.93 Q567.437 1380.93 565.493 1383.61 Q563.572 1386.28 563.572 1390.97 Z\" fill=\"#000000\" fill-rule=\"evenodd\" fill-opacity=\"1\" /><path clip-path=\"url(#clip280)\" d=\"M601.164 1380.97 Q597.738 1380.97 595.747 1383.66 Q593.757 1386.32 593.757 1390.97 Q593.757 1395.63 595.724 1398.31 Q597.715 1400.97 601.164 1400.97 Q604.567 1400.97 606.557 1398.29 Q608.548 1395.6 608.548 1390.97 Q608.548 1386.37 606.557 1383.68 Q604.567 1380.97 601.164 1380.97 M601.164 1377.36 Q606.719 1377.36 609.891 1380.97 Q613.062 1384.59 613.062 1390.97 Q613.062 1397.34 609.891 1400.97 Q606.719 1404.59 601.164 1404.59 Q595.585 1404.59 592.414 1400.97 Q589.266 1397.34 589.266 1390.97 Q589.266 1384.59 592.414 1380.97 Q595.585 1377.36 601.164 1377.36 Z\" fill=\"#000000\" fill-rule=\"evenodd\" fill-opacity=\"1\" /><path clip-path=\"url(#clip280)\" d=\"M635.145 1381.97 Q634.428 1381.55 633.571 1381.37 Q632.738 1381.16 631.719 1381.16 Q628.108 1381.16 626.164 1383.52 Q624.243 1385.86 624.243 1390.26 L624.243 1403.91 L619.96 1403.91 L619.96 1377.99 L624.243 1377.99 L624.243 1382.02 Q625.585 1379.66 627.738 1378.52 Q629.891 1377.36 632.969 1377.36 Q633.409 1377.36 633.942 1377.43 Q634.474 1377.48 635.122 1377.6 L635.145 1381.97 Z\" fill=\"#000000\" fill-rule=\"evenodd\" fill-opacity=\"1\" /></svg>\n"
     },
     "execution_count": 45,
     "metadata": {},
     "output_type": "execute_result"
    }
   ],
   "source": [
    "using Plots\n",
    "function circleShape(x,y,r)\n",
    "    teta = LinRange(0,2*pi, 500)\n",
    "    x .+ r*sin.(teta), y .+ r*cos.(teta)\n",
    "end\n",
    "plot!(circleShape(JuMP.value.(x),JuMP.value.(y),5),label=\"Sinal\")\n",
    "for interferencia in interferencias\n",
    "    proj_1, proj_2 = projection(JuMP.value.(x),JuMP.value.(y))\n",
    "    scatter!([proj_1[1],proj_2[1]],[proj_1[2],proj_2[2]],label=\"Projeção\")\n",
    "    plot!([JuMP.value.(x),proj_1[1]],[JuMP.value.(y),proj_1[2]], label=\"Linha de interferencia\")\n",
    "    plot!([JuMP.value.(x),proj_2[1]],[JuMP.value.(y),proj_2[2]], label=\"Linha de interferencia\")\n",
    "    plot!([interferencia[1][1],interferencia[2][1],proj_2[1],proj_1[1],interferencia[1][1]],[interferencia[1][2],interferencia[2][2],proj_2[2],proj_1[2],interferencia[1][2]],label=\"Poligono de interferencia\")\n",
    "end\n",
    "scatter!([JuMP.value.(x)],[JuMP.value.(y)], label=\"Roteador\")"
   ]
  },
  {
   "cell_type": "code",
   "execution_count": 46,
   "metadata": {},
   "outputs": [
    {
     "name": "stdout",
     "output_type": "stream",
     "text": [
      "\n",
      "\n",
      "dentro do poligono[0, 0]\n",
      "\n",
      "dentro do setor circular[0, 4]"
     ]
    }
   ],
   "source": [
    "for i in dispositivos\n",
    "    distancia = sqrt((JuMP.value.(x)-i[1])^2+(JuMP.value.(y)-i[2])^2) # a distancia entre o roteador e os dispositivos ´pode ser calculado pela distancia euclidiana\n",
    "    f_= 1.0-decaimento*distancia                     # a forca do sinal definida pela funcao apresentada no modelo matematico\n",
    "    if f_ < 0.0\n",
    "        f_ = 0.0                              # não é possivel ter sinais negativos\n",
    "        print(\"\\n\\nlonge\")\n",
    "        print(i)\n",
    "    else\n",
    "        if in_polygon(JuMP.value.(x),JuMP.value.(y),i[1],i[2]) == 1 \n",
    "            f_ = 0.0\n",
    "            print(\"\\n\\ndentro do poligono\")\n",
    "            print(i)\n",
    "        elseif in_low_circle(JuMP.value.(x),JuMP.value.(y),i[1],i[2]) == 1\n",
    "            f_ = 0.0\n",
    "            print(\"\\n\\ndentro do setor circular\")\n",
    "            print(i)\n",
    "        end\n",
    "    end\n",
    "end"
   ]
  },
  {
   "attachments": {},
   "cell_type": "markdown",
   "metadata": {
    "collapsed": true
   },
   "source": [
    "## 5. Conclusão ##\n",
    "\n",
    "Finalizando, podemos perceber que nosso projeto levou ao desenvolvimento de um mecânismo muito útil, tanto para profissionais de rede, quanto para clientes de operadoras que buscam a configuração que lhes dará o melhor funcionamento da rede em seu imóvel. Conseguimos determinar o melhor posicionamento possível para um roteador em um estabelecimento, considerando casos com e sem interferências ao sinal.\n",
    "\n",
    "Acreditamos que a direção à ser seguida para melhor desenvolvimento do trabalho seria a complexificar ainda mais nossos cenários. Até agora consideramos apenas fontes de interferência como barreiras metálicas e espelhos que barram o sinal, podemos, no futúro, levar em consideração interferências trazidas por outros sinais, como de aparelhos micro-ondas que atuam em bandas de frequências semelhantes aos de alguns roteadores, no caso de 2.4Ghz. Além disso podemos adicionar novos elementos como repetidores de sinais, dispositivos móveis conectados à rede, fazendo uma analise probabilista dos cômodos em que esses dispositivos se encontrariam na maior parte do tempo."
   ]
  },
  {
   "attachments": {},
   "cell_type": "markdown",
   "metadata": {},
   "source": [
    "## 6. Referências bibliográficas ##\n",
    "\n",
    "[Optimization Models and Methods for Planning Wireless Mesh Networks](https://www.researchgate.net/publication/220447584_Optimization_Models_and_Methods_for_Planning_Wireless_Mesh_Networks)\n",
    "\n",
    "[Redes Mesh](https://blog.intelbras.com.br/o-que-e-rede-mesh-e-quais-suas-vantagens/)\n",
    "\n",
    "[WLAN](https://pt.wikipedia.org/wiki/Rede_de_área_local_sem_fio)"
   ]
  }
 ],
 "metadata": {
  "@webio": {
   "lastCommId": null,
   "lastKernelId": null
  },
  "kernelspec": {
   "display_name": "Julia 1.8.0",
   "language": "julia",
   "name": "julia-1.8"
  },
  "language_info": {
   "file_extension": ".jl",
   "mimetype": "application/julia",
   "name": "julia",
   "version": "1.8.0"
  }
 },
 "nbformat": 4,
 "nbformat_minor": 1
}
