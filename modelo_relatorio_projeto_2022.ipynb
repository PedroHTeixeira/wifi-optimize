{
 "cells": [
  {
   "cell_type": "code",
   "execution_count": 103,
   "metadata": {},
   "outputs": [],
   "source": [
    "using JuMP\n"
   ]
  },
  {
   "cell_type": "code",
   "execution_count": 104,
   "metadata": {},
   "outputs": [
    {
     "name": "stderr",
     "output_type": "stream",
     "text": [
      "\u001b[32m\u001b[1m   Resolving\u001b[22m\u001b[39m package versions...\n",
      "\u001b[32m\u001b[1m  No Changes\u001b[22m\u001b[39m to `~/.julia/environments/v1.8/Project.toml`\n",
      "\u001b[32m\u001b[1m  No Changes\u001b[22m\u001b[39m to `~/.julia/environments/v1.8/Manifest.toml`\n"
     ]
    }
   ],
   "source": [
    "import Pkg\n",
    "Pkg.add(\"Ipopt\")"
   ]
  },
  {
   "cell_type": "code",
   "execution_count": 11,
   "metadata": {},
   "outputs": [
    {
     "name": "stderr",
     "output_type": "stream",
     "text": [
      "\u001b[32m\u001b[1m    Updating\u001b[22m\u001b[39m registry at `~/.julia/registries/General.toml`\n"
     ]
    },
    {
     "name": "stderr",
     "output_type": "stream",
     "text": [
      "\u001b[32m\u001b[1m   Resolving\u001b[22m\u001b[39m package versions...\n"
     ]
    },
    {
     "name": "stderr",
     "output_type": "stream",
     "text": [
      "\u001b[32m\u001b[1m   Installed\u001b[22m\u001b[39m JpegTurbo_jll ──────────────── v2.1.2+0\n",
      "\u001b[32m\u001b[1m   Installed\u001b[22m\u001b[39m x265_jll ───────────────────── v3.5.0+0\n",
      "\u001b[32m\u001b[1m   Installed\u001b[22m\u001b[39m libfdk_aac_jll ─────────────── v2.0.2+0\n",
      "\u001b[32m\u001b[1m   Installed\u001b[22m\u001b[39m Libmount_jll ───────────────── v2.35.0+0\n",
      "\u001b[32m\u001b[1m   Installed\u001b[22m\u001b[39m GR_jll ─────────────────────── v0.71.3+0\n",
      "\u001b[32m\u001b[1m   Installed\u001b[22m\u001b[39m LERC_jll ───────────────────── v3.0.0+1\n",
      "\u001b[32m\u001b[1m   Installed\u001b[22m\u001b[39m Opus_jll ───────────────────── v1.3.2+0\n",
      "\u001b[32m\u001b[1m   Installed\u001b[22m\u001b[39m LoggingExtras ──────────────── v1.0.0\n"
     ]
    },
    {
     "name": "stderr",
     "output_type": "stream",
     "text": [
      "\u001b[32m\u001b[1m   Installed\u001b[22m\u001b[39m Grisu ──────────────────────── v1.0.2\n"
     ]
    },
    {
     "name": "stderr",
     "output_type": "stream",
     "text": [
      "\u001b[32m\u001b[1m   Installed\u001b[22m\u001b[39m Formatting ─────────────────── v0.4.2\n",
      "\u001b[32m\u001b[1m   Installed\u001b[22m\u001b[39m Measures ───────────────────── v0.3.2\n",
      "\u001b[32m\u001b[1m   Installed\u001b[22m\u001b[39m RelocatableFolders ─────────── v1.0.0\n",
      "\u001b[32m\u001b[1m   Installed\u001b[22m\u001b[39m Xorg_xkbcomp_jll ───────────── v1.4.2+4\n"
     ]
    },
    {
     "name": "stderr",
     "output_type": "stream",
     "text": [
      "\u001b[32m\u001b[1m   Installed\u001b[22m\u001b[39m Xorg_xcb_util_wm_jll ───────── v0.4.1+1\n"
     ]
    },
    {
     "name": "stderr",
     "output_type": "stream",
     "text": [
      "\u001b[32m\u001b[1m   Installed\u001b[22m\u001b[39m PlotUtils ──────────────────── v1.3.2\n",
      "\u001b[32m\u001b[1m   Installed\u001b[22m\u001b[39m RecipesPipeline ────────────── v0.6.11\n",
      "\u001b[32m\u001b[1m   Installed\u001b[22m\u001b[39m Xorg_xcb_util_image_jll ────── v0.4.0+1\n",
      "\u001b[32m\u001b[1m   Installed\u001b[22m\u001b[39m OpenSSL ────────────────────── v1.3.2\n",
      "\u001b[32m\u001b[1m   Installed\u001b[22m\u001b[39m Xorg_libpthread_stubs_jll ──── v0.1.0+3\n",
      "\u001b[32m\u001b[1m   Installed\u001b[22m\u001b[39m Contour ────────────────────── v0.6.2\n"
     ]
    },
    {
     "name": "stderr",
     "output_type": "stream",
     "text": [
      "\u001b[32m\u001b[1m   Installed\u001b[22m\u001b[39m Xorg_xcb_util_jll ──────────── v0.4.0+1\n",
      "\u001b[32m\u001b[1m   Installed\u001b[22m\u001b[39m Libgpg_error_jll ───────────── v1.42.0+0\n",
      "\u001b[32m\u001b[1m   Installed\u001b[22m\u001b[39m Cairo_jll ──────────────────── v1.16.1+1\n",
      "\u001b[32m\u001b[1m   Installed\u001b[22m\u001b[39m Fontconfig_jll ─────────────── v2.13.93+0\n"
     ]
    },
    {
     "name": "stderr",
     "output_type": "stream",
     "text": [
      "\u001b[32m\u001b[1m   Installed\u001b[22m\u001b[39m Xorg_libxkbfile_jll ────────── v1.1.0+4\n",
      "\u001b[32m\u001b[1m   Installed\u001b[22m\u001b[39m HTTP ───────────────────────── v1.6.3\n",
      "\u001b[32m\u001b[1m   Installed\u001b[22m\u001b[39m Xorg_libXinerama_jll ───────── v1.1.4+4\n"
     ]
    },
    {
     "name": "stderr",
     "output_type": "stream",
     "text": [
      "\u001b[32m\u001b[1m   Installed\u001b[22m\u001b[39m Xorg_libXau_jll ────────────── v1.0.9+4\n",
      "\u001b[32m\u001b[1m   Installed\u001b[22m\u001b[39m Qt5Base_jll ────────────────── v5.15.3+2\n",
      "\u001b[32m\u001b[1m   Installed\u001b[22m\u001b[39m FFMPEG ─────────────────────── v0.4.1\n"
     ]
    },
    {
     "name": "stderr",
     "output_type": "stream",
     "text": [
      "\u001b[32m\u001b[1m   Installed\u001b[22m\u001b[39m Missings ───────────────────── v1.1.0\n",
      "\u001b[32m\u001b[1m   Installed\u001b[22m\u001b[39m Showoff ────────────────────── v1.0.3\n",
      "\u001b[32m\u001b[1m   Installed\u001b[22m\u001b[39m Xorg_xcb_util_keysyms_jll ──── v0.4.0+1\n"
     ]
    },
    {
     "name": "stderr",
     "output_type": "stream",
     "text": [
      "\u001b[32m\u001b[1m   Installed\u001b[22m\u001b[39m xkbcommon_jll ──────────────── v1.4.1+0\n",
      "\u001b[32m\u001b[1m   Installed\u001b[22m\u001b[39m SimpleBufferStream ─────────── v1.1.0\n",
      "\u001b[32m\u001b[1m   Installed\u001b[22m\u001b[39m HarfBuzz_jll ───────────────── v2.8.1+1\n",
      "\u001b[32m\u001b[1m   Installed\u001b[22m\u001b[39m Pipe ───────────────────────── v1.3.0\n",
      "\u001b[32m\u001b[1m   Installed\u001b[22m\u001b[39m LZO_jll ────────────────────── v2.10.1+0\n",
      "\u001b[32m\u001b[1m   Installed\u001b[22m\u001b[39m PlotThemes ─────────────────── v3.1.0\n"
     ]
    },
    {
     "name": "stderr",
     "output_type": "stream",
     "text": [
      "\u001b[32m\u001b[1m   Installed\u001b[22m\u001b[39m fzf_jll ────────────────────── v0.29.0+0\n",
      "\u001b[32m\u001b[1m   Installed\u001b[22m\u001b[39m FriBidi_jll ────────────────── v1.0.10+0\n",
      "\u001b[32m\u001b[1m   Installed\u001b[22m\u001b[39m x264_jll ───────────────────── v2021.5.5+0\n",
      "\u001b[32m\u001b[1m   Installed\u001b[22m\u001b[39m GLFW_jll ───────────────────── v3.3.8+0\n",
      "\u001b[32m\u001b[1m   Installed\u001b[22m\u001b[39m UnicodeFun ─────────────────── v0.4.1\n"
     ]
    },
    {
     "name": "stderr",
     "output_type": "stream",
     "text": [
      "\u001b[32m\u001b[1m   Installed\u001b[22m\u001b[39m MbedTLS ────────────────────── v1.1.7\n"
     ]
    },
    {
     "name": "stderr",
     "output_type": "stream",
     "text": [
      "\u001b[32m\u001b[1m   Installed\u001b[22m\u001b[39m FreeType2_jll ──────────────── v2.10.4+0\n",
      "\u001b[32m\u001b[1m   Installed\u001b[22m\u001b[39m JLFzf ──────────────────────── v0.1.5\n",
      "\u001b[32m\u001b[1m   Installed\u001b[22m\u001b[39m StatsAPI ───────────────────── v1.5.0\n"
     ]
    },
    {
     "name": "stderr",
     "output_type": "stream",
     "text": [
      "\u001b[32m\u001b[1m   Installed\u001b[22m\u001b[39m Xorg_libxcb_jll ────────────── v1.13.0+3\n",
      "\u001b[32m\u001b[1m   Installed\u001b[22m\u001b[39m libpng_jll ─────────────────── v1.6.38+0\n"
     ]
    },
    {
     "name": "stderr",
     "output_type": "stream",
     "text": [
      "\u001b[32m\u001b[1m   Installed\u001b[22m\u001b[39m libaom_jll ─────────────────── v3.4.0+0\n",
      "\u001b[32m\u001b[1m   Installed\u001b[22m\u001b[39m StatsBase ──────────────────── v0.33.21\n"
     ]
    },
    {
     "name": "stderr",
     "output_type": "stream",
     "text": [
      "\u001b[32m\u001b[1m   Installed\u001b[22m\u001b[39m Scratch ────────────────────── v1.1.1\n",
      "\u001b[32m\u001b[1m   Installed\u001b[22m\u001b[39m Xorg_libXext_jll ───────────── v1.3.4+4\n"
     ]
    },
    {
     "name": "stderr",
     "output_type": "stream",
     "text": [
      "\u001b[32m\u001b[1m   Installed\u001b[22m\u001b[39m TensorCore ─────────────────── v0.1.1\n"
     ]
    },
    {
     "name": "stderr",
     "output_type": "stream",
     "text": [
      "\u001b[32m\u001b[1m   Installed\u001b[22m\u001b[39m Zstd_jll ───────────────────── v1.5.2+0\n",
      "\u001b[32m\u001b[1m   Installed\u001b[22m\u001b[39m Expat_jll ──────────────────── v2.4.8+0\n",
      "\u001b[32m\u001b[1m   Installed\u001b[22m\u001b[39m Libtiff_jll ────────────────── v4.4.0+0\n",
      "\u001b[32m\u001b[1m   Installed\u001b[22m\u001b[39m ColorVectorSpace ───────────── v0.9.10\n",
      "\u001b[32m\u001b[1m   Installed\u001b[22m\u001b[39m Plots ──────────────────────── v1.38.1\n"
     ]
    },
    {
     "name": "stderr",
     "output_type": "stream",
     "text": [
      "\u001b[32m\u001b[1m   Installed\u001b[22m\u001b[39m Xorg_libXrender_jll ────────── v0.9.10+4\n",
      "\u001b[32m\u001b[1m   Installed\u001b[22m\u001b[39m Libffi_jll ─────────────────── v3.2.2+1\n",
      "\u001b[32m\u001b[1m   Installed\u001b[22m\u001b[39m Xorg_libXi_jll ─────────────── v1.7.10+4\n",
      "\u001b[32m\u001b[1m   Installed\u001b[22m\u001b[39m Ogg_jll ────────────────────── v1.3.5+1\n",
      "\u001b[32m\u001b[1m   Installed\u001b[22m\u001b[39m XSLT_jll ───────────────────── v1.1.34+0\n",
      "\u001b[32m\u001b[1m   Installed\u001b[22m\u001b[39m Xorg_libXcursor_jll ────────── v1.2.0+4\n"
     ]
    },
    {
     "name": "stderr",
     "output_type": "stream",
     "text": [
      "\u001b[32m\u001b[1m   Installed\u001b[22m\u001b[39m Libuuid_jll ────────────────── v2.36.0+0\n",
      "\u001b[32m\u001b[1m   Installed\u001b[22m\u001b[39m Wayland_protocols_jll ──────── v1.25.0+0\n"
     ]
    },
    {
     "name": "stderr",
     "output_type": "stream",
     "text": [
      "\u001b[32m\u001b[1m   Installed\u001b[22m\u001b[39m Xorg_xcb_util_renderutil_jll ─ v0.3.9+1\n",
      "\u001b[32m\u001b[1m   Installed\u001b[22m\u001b[39m Pixman_jll ─────────────────── v0.40.1+0\n",
      "\u001b[32m\u001b[1m   Installed\u001b[22m\u001b[39m Graphite2_jll ──────────────── v1.3.14+0\n",
      "\u001b[32m\u001b[1m   Installed\u001b[22m\u001b[39m libass_jll ─────────────────── v0.15.1+0\n"
     ]
    },
    {
     "name": "stderr",
     "output_type": "stream",
     "text": [
      "\u001b[32m\u001b[1m   Installed\u001b[22m\u001b[39m XML2_jll ───────────────────── v2.10.3+0\n"
     ]
    },
    {
     "name": "stderr",
     "output_type": "stream",
     "text": [
      "\u001b[32m\u001b[1m   Installed\u001b[22m\u001b[39m Gettext_jll ────────────────── v0.21.0+0\n",
      "\u001b[32m\u001b[1m   Installed\u001b[22m\u001b[39m Wayland_jll ────────────────── v1.21.0+0\n",
      "\u001b[32m\u001b[1m   Installed\u001b[22m\u001b[39m Xorg_xtrans_jll ────────────── v1.4.0+3\n",
      "\u001b[32m\u001b[1m   Installed\u001b[22m\u001b[39m OpenSSL_jll ────────────────── v1.1.19+0\n",
      "\u001b[32m\u001b[1m   Installed\u001b[22m\u001b[39m Latexify ───────────────────── v0.15.17\n",
      "\u001b[32m\u001b[1m   Installed\u001b[22m\u001b[39m BitFlags ───────────────────── v0.1.7\n"
     ]
    },
    {
     "name": "stderr",
     "output_type": "stream",
     "text": [
      "\u001b[32m\u001b[1m   Installed\u001b[22m\u001b[39m FFMPEG_jll ─────────────────── v4.4.2+2\n",
      "\u001b[32m\u001b[1m   Installed\u001b[22m\u001b[39m Xorg_libXrandr_jll ─────────── v1.5.2+4\n",
      "\u001b[32m\u001b[1m   Installed\u001b[22m\u001b[39m RecipesBase ────────────────── v1.3.2\n",
      "\u001b[32m\u001b[1m   Installed\u001b[22m\u001b[39m Libgcrypt_jll ──────────────── v1.8.7+0\n",
      "\u001b[32m\u001b[1m   Installed\u001b[22m\u001b[39m DataAPI ────────────────────── v1.14.0\n",
      "\u001b[32m\u001b[1m   Installed\u001b[22m\u001b[39m Xorg_xkeyboard_config_jll ──── v2.27.0+4\n"
     ]
    },
    {
     "name": "stderr",
     "output_type": "stream",
     "text": [
      "\u001b[32m\u001b[1m   Installed\u001b[22m\u001b[39m Xorg_libXfixes_jll ─────────── v5.0.3+4\n",
      "\u001b[32m\u001b[1m   Installed\u001b[22m\u001b[39m LAME_jll ───────────────────── v3.100.1+0\n",
      "\u001b[32m\u001b[1m   Installed\u001b[22m\u001b[39m Glib_jll ───────────────────── v2.74.0+2\n",
      "\u001b[32m\u001b[1m   Installed\u001b[22m\u001b[39m Libiconv_jll ───────────────── v1.16.1+2\n",
      "\u001b[32m\u001b[1m   Installed\u001b[22m\u001b[39m IniFile ────────────────────── v0.5.1\n",
      "\u001b[32m\u001b[1m   Installed\u001b[22m\u001b[39m URIs ───────────────────────── v1.4.1\n"
     ]
    },
    {
     "name": "stderr",
     "output_type": "stream",
     "text": [
      "\u001b[32m\u001b[1m   Installed\u001b[22m\u001b[39m libvorbis_jll ──────────────── v1.3.7+1\n",
      "\u001b[32m\u001b[1m   Installed\u001b[22m\u001b[39m Libglvnd_jll ───────────────── v1.6.0+0\n",
      "\u001b[32m\u001b[1m   Installed\u001b[22m\u001b[39m Xorg_libXdmcp_jll ──────────── v1.1.3+4\n",
      "\u001b[32m\u001b[1m   Installed\u001b[22m\u001b[39m Xorg_libX11_jll ────────────── v1.6.9+4\n",
      "\u001b[32m\u001b[1m   Installed\u001b[22m\u001b[39m SortingAlgorithms ──────────── v1.1.0\n",
      "\u001b[32m\u001b[1m   Installed\u001b[22m\u001b[39m Unzip ──────────────────────── v0.2.0\n"
     ]
    },
    {
     "name": "stderr",
     "output_type": "stream",
     "text": [
      "\u001b[32m\u001b[1m   Installed\u001b[22m\u001b[39m ColorSchemes ───────────────── v3.20.0\n"
     ]
    },
    {
     "name": "stderr",
     "output_type": "stream",
     "text": [
      "\u001b[32m\u001b[1m   Installed\u001b[22m\u001b[39m GR ─────────────────────────── v0.71.3\n"
     ]
    },
    {
     "name": "stderr",
     "output_type": "stream",
     "text": [
      "\u001b[32m\u001b[1m    Updating\u001b[22m\u001b[39m `~/.julia/environments/v1.8/Project.toml`\n",
      " \u001b[90m [91a5bcdd] \u001b[39m\u001b[92m+ Plots v1.38.1\u001b[39m\n",
      "\u001b[32m\u001b[1m    Updating\u001b[22m\u001b[39m `~/.julia/environments/v1.8/Manifest.toml`\n"
     ]
    },
    {
     "name": "stderr",
     "output_type": "stream",
     "text": [
      " \u001b[90m [d1d4a3ce] \u001b[39m\u001b[92m+ BitFlags v0.1.7\u001b[39m\n",
      " \u001b[90m [35d6a980] \u001b[39m\u001b[92m+ ColorSchemes v3.20.0\u001b[39m\n",
      " \u001b[90m [c3611d14] \u001b[39m\u001b[92m+ ColorVectorSpace v0.9.10\u001b[39m\n",
      " \u001b[90m [d38c429a] \u001b[39m\u001b[92m+ Contour v0.6.2\u001b[39m\n",
      " \u001b[90m [9a962f9c] \u001b[39m\u001b[92m+ DataAPI v1.14.0\u001b[39m\n",
      " \u001b[90m [c87230d0] \u001b[39m\u001b[92m+ FFMPEG v0.4.1\u001b[39m\n",
      " \u001b[90m [59287772] \u001b[39m\u001b[92m+ Formatting v0.4.2\u001b[39m\n",
      " \u001b[90m [28b8d3ca] \u001b[39m\u001b[92m+ GR v0.71.3\u001b[39m\n",
      " \u001b[90m [42e2da0e] \u001b[39m\u001b[92m+ Grisu v1.0.2\u001b[39m\n",
      " \u001b[90m [cd3eb016] \u001b[39m\u001b[92m+ HTTP v1.6.3\u001b[39m\n",
      " \u001b[90m [83e8ac13] \u001b[39m\u001b[92m+ IniFile v0.5.1\u001b[39m\n",
      " \u001b[90m [1019f520] \u001b[39m\u001b[92m+ JLFzf v0.1.5\u001b[39m\n",
      " \u001b[90m [23fbe1c1] \u001b[39m\u001b[92m+ Latexify v0.15.17\u001b[39m\n",
      " \u001b[90m [e6f89c97] \u001b[39m\u001b[92m+ LoggingExtras v1.0.0\u001b[39m\n",
      " \u001b[90m [739be429] \u001b[39m\u001b[92m+ MbedTLS v1.1.7\u001b[39m\n",
      " \u001b[90m [442fdcdd] \u001b[39m\u001b[92m+ Measures v0.3.2\u001b[39m\n",
      " \u001b[90m [e1d29d7a] \u001b[39m\u001b[92m+ Missings v1.1.0\u001b[39m\n",
      " \u001b[90m [4d8831e6] \u001b[39m\u001b[92m+ OpenSSL v1.3.2\u001b[39m\n",
      " \u001b[90m [b98c9c47] \u001b[39m\u001b[92m+ Pipe v1.3.0\u001b[39m\n",
      " \u001b[90m [ccf2f8ad] \u001b[39m\u001b[92m+ PlotThemes v3.1.0\u001b[39m\n",
      " \u001b[90m [995b91a9] \u001b[39m\u001b[92m+ PlotUtils v1.3.2\u001b[39m\n",
      " \u001b[90m [91a5bcdd] \u001b[39m\u001b[92m+ Plots v1.38.1\u001b[39m\n",
      " \u001b[90m [3cdcf5f2] \u001b[39m\u001b[92m+ RecipesBase v1.3.2\u001b[39m\n",
      " \u001b[90m [01d81517] \u001b[39m\u001b[92m+ RecipesPipeline v0.6.11\u001b[39m\n",
      " \u001b[90m [05181044] \u001b[39m\u001b[92m+ RelocatableFolders v1.0.0\u001b[39m\n",
      " \u001b[90m [6c6a2e73] \u001b[39m\u001b[92m+ Scratch v1.1.1\u001b[39m\n",
      " \u001b[90m [992d4aef] \u001b[39m\u001b[92m+ Showoff v1.0.3\u001b[39m\n",
      " \u001b[90m [777ac1f9] \u001b[39m\u001b[92m+ SimpleBufferStream v1.1.0\u001b[39m\n",
      " \u001b[90m [a2af1166] \u001b[39m\u001b[92m+ SortingAlgorithms v1.1.0\u001b[39m\n",
      " \u001b[90m [82ae8749] \u001b[39m\u001b[92m+ StatsAPI v1.5.0\u001b[39m\n",
      " \u001b[90m [2913bbd2] \u001b[39m\u001b[92m+ StatsBase v0.33.21\u001b[39m\n",
      " \u001b[90m [62fd8b95] \u001b[39m\u001b[92m+ TensorCore v0.1.1\u001b[39m\n",
      " \u001b[90m [5c2747f8] \u001b[39m\u001b[92m+ URIs v1.4.1\u001b[39m\n",
      " \u001b[90m [1cfade01] \u001b[39m\u001b[92m+ UnicodeFun v0.4.1\u001b[39m\n",
      " \u001b[90m [41fe7b60] \u001b[39m\u001b[92m+ Unzip v0.2.0\u001b[39m\n",
      " \u001b[90m [83423d85] \u001b[39m\u001b[92m+ Cairo_jll v1.16.1+1\u001b[39m\n",
      " \u001b[90m [2e619515] \u001b[39m\u001b[92m+ Expat_jll v2.4.8+0\u001b[39m\n",
      " \u001b[90m [b22a6f82] \u001b[39m\u001b[92m+ FFMPEG_jll v4.4.2+2\u001b[39m\n",
      " \u001b[90m [a3f928ae] \u001b[39m\u001b[92m+ Fontconfig_jll v2.13.93+0\u001b[39m\n",
      " \u001b[90m [d7e528f0] \u001b[39m\u001b[92m+ FreeType2_jll v2.10.4+0\u001b[39m\n",
      " \u001b[90m [559328eb] \u001b[39m\u001b[92m+ FriBidi_jll v1.0.10+0\u001b[39m\n",
      " \u001b[90m [0656b61e] \u001b[39m\u001b[92m+ GLFW_jll v3.3.8+0\u001b[39m\n",
      " \u001b[90m [d2c73de3] \u001b[39m\u001b[92m+ GR_jll v0.71.3+0\u001b[39m\n",
      " \u001b[90m [78b55507] \u001b[39m\u001b[92m+ Gettext_jll v0.21.0+0\u001b[39m\n",
      " \u001b[90m [7746bdde] \u001b[39m\u001b[92m+ Glib_jll v2.74.0+2\u001b[39m\n",
      " \u001b[90m [3b182d85] \u001b[39m\u001b[92m+ Graphite2_jll v1.3.14+0\u001b[39m\n",
      " \u001b[90m [2e76f6c2] \u001b[39m\u001b[92m+ HarfBuzz_jll v2.8.1+1\u001b[39m\n",
      " \u001b[90m [aacddb02] \u001b[39m\u001b[92m+ JpegTurbo_jll v2.1.2+0\u001b[39m\n",
      " \u001b[90m [c1c5ebd0] \u001b[39m\u001b[92m+ LAME_jll v3.100.1+0\u001b[39m\n",
      " \u001b[90m [88015f11] \u001b[39m\u001b[92m+ LERC_jll v3.0.0+1\u001b[39m\n",
      " \u001b[90m [dd4b983a] \u001b[39m\u001b[92m+ LZO_jll v2.10.1+0\u001b[39m\n",
      "\u001b[33m⌅\u001b[39m\u001b[90m [e9f186c6] \u001b[39m\u001b[92m+ Libffi_jll v3.2.2+1\u001b[39m\n",
      " \u001b[90m [d4300ac3] \u001b[39m\u001b[92m+ Libgcrypt_jll v1.8.7+0\u001b[39m\n",
      " \u001b[90m [7e76a0d4] \u001b[39m\u001b[92m+ Libglvnd_jll v1.6.0+0\u001b[39m\n",
      " \u001b[90m [7add5ba3] \u001b[39m\u001b[92m+ Libgpg_error_jll v1.42.0+0\u001b[39m\n",
      " \u001b[90m [94ce4f54] \u001b[39m\u001b[92m+ Libiconv_jll v1.16.1+2\u001b[39m\n",
      " \u001b[90m [4b2f31a3] \u001b[39m\u001b[92m+ Libmount_jll v2.35.0+0\u001b[39m\n",
      " \u001b[90m [89763e89] \u001b[39m\u001b[92m+ Libtiff_jll v4.4.0+0\u001b[39m\n",
      " \u001b[90m [38a345b3] \u001b[39m\u001b[92m+ Libuuid_jll v2.36.0+0\u001b[39m\n",
      " \u001b[90m [e7412a2a] \u001b[39m\u001b[92m+ Ogg_jll v1.3.5+1\u001b[39m\n",
      " \u001b[90m [458c3c95] \u001b[39m\u001b[92m+ OpenSSL_jll v1.1.19+0\u001b[39m\n",
      " \u001b[90m [91d4177d] \u001b[39m\u001b[92m+ Opus_jll v1.3.2+0\u001b[39m\n",
      " \u001b[90m [30392449] \u001b[39m\u001b[92m+ Pixman_jll v0.40.1+0\u001b[39m\n",
      " \u001b[90m [ea2cea3b] \u001b[39m\u001b[92m+ Qt5Base_jll v5.15.3+2\u001b[39m\n",
      " \u001b[90m [a2964d1f] \u001b[39m\u001b[92m+ Wayland_jll v1.21.0+0\u001b[39m\n",
      " \u001b[90m [2381bf8a] \u001b[39m\u001b[92m+ Wayland_protocols_jll v1.25.0+0\u001b[39m\n",
      " \u001b[90m [02c8fc9c] \u001b[39m\u001b[92m+ XML2_jll v2.10.3+0\u001b[39m\n",
      " \u001b[90m [aed1982a] \u001b[39m\u001b[92m+ XSLT_jll v1.1.34+0\u001b[39m\n",
      " \u001b[90m [4f6342f7] \u001b[39m\u001b[92m+ Xorg_libX11_jll v1.6.9+4\u001b[39m\n",
      " \u001b[90m [0c0b7dd1] \u001b[39m\u001b[92m+ Xorg_libXau_jll v1.0.9+4\u001b[39m\n",
      " \u001b[90m [935fb764] \u001b[39m\u001b[92m+ Xorg_libXcursor_jll v1.2.0+4\u001b[39m\n",
      " \u001b[90m [a3789734] \u001b[39m\u001b[92m+ Xorg_libXdmcp_jll v1.1.3+4\u001b[39m\n",
      " \u001b[90m [1082639a] \u001b[39m\u001b[92m+ Xorg_libXext_jll v1.3.4+4\u001b[39m\n",
      " \u001b[90m [d091e8ba] \u001b[39m\u001b[92m+ Xorg_libXfixes_jll v5.0.3+4\u001b[39m\n",
      " \u001b[90m [a51aa0fd] \u001b[39m\u001b[92m+ Xorg_libXi_jll v1.7.10+4\u001b[39m\n",
      " \u001b[90m [d1454406] \u001b[39m\u001b[92m+ Xorg_libXinerama_jll v1.1.4+4\u001b[39m\n",
      " \u001b[90m [ec84b674] \u001b[39m\u001b[92m+ Xorg_libXrandr_jll v1.5.2+4\u001b[39m\n",
      " \u001b[90m [ea2f1a96] \u001b[39m\u001b[92m+ Xorg_libXrender_jll v0.9.10+4\u001b[39m\n",
      " \u001b[90m [14d82f49] \u001b[39m\u001b[92m+ Xorg_libpthread_stubs_jll v0.1.0+3\u001b[39m\n",
      " \u001b[90m [c7cfdc94] \u001b[39m\u001b[92m+ Xorg_libxcb_jll v1.13.0+3\u001b[39m\n",
      " \u001b[90m [cc61e674] \u001b[39m\u001b[92m+ Xorg_libxkbfile_jll v1.1.0+4\u001b[39m\n",
      " \u001b[90m [12413925] \u001b[39m\u001b[92m+ Xorg_xcb_util_image_jll v0.4.0+1\u001b[39m\n",
      " \u001b[90m [2def613f] \u001b[39m\u001b[92m+ Xorg_xcb_util_jll v0.4.0+1\u001b[39m\n",
      " \u001b[90m [975044d2] \u001b[39m\u001b[92m+ Xorg_xcb_util_keysyms_jll v0.4.0+1\u001b[39m\n",
      " \u001b[90m [0d47668e] \u001b[39m\u001b[92m+ Xorg_xcb_util_renderutil_jll v0.3.9+1\u001b[39m\n",
      " \u001b[90m [c22f9ab0] \u001b[39m\u001b[92m+ Xorg_xcb_util_wm_jll v0.4.1+1\u001b[39m\n",
      " \u001b[90m [35661453] \u001b[39m\u001b[92m+ Xorg_xkbcomp_jll v1.4.2+4\u001b[39m\n",
      " \u001b[90m [33bec58e] \u001b[39m\u001b[92m+ Xorg_xkeyboard_config_jll v2.27.0+4\u001b[39m\n",
      " \u001b[90m [c5fb5394] \u001b[39m\u001b[92m+ Xorg_xtrans_jll v1.4.0+3\u001b[39m\n",
      " \u001b[90m [3161d3a3] \u001b[39m\u001b[92m+ Zstd_jll v1.5.2+0\u001b[39m\n",
      "\u001b[33m⌅\u001b[39m\u001b[90m [214eeab7] \u001b[39m\u001b[92m+ fzf_jll v0.29.0+0\u001b[39m\n",
      " \u001b[90m [a4ae2306] \u001b[39m\u001b[92m+ libaom_jll v3.4.0+0\u001b[39m\n",
      " \u001b[90m [0ac62f75] \u001b[39m\u001b[92m+ libass_jll v0.15.1+0\u001b[39m\n",
      " \u001b[90m [f638f0a6] \u001b[39m\u001b[92m+ libfdk_aac_jll v2.0.2+0\u001b[39m\n",
      " \u001b[90m [b53b4c65] \u001b[39m\u001b[92m+ libpng_jll v1.6.38+0\u001b[39m\n",
      " \u001b[90m [f27f6e37] \u001b[39m\u001b[92m+ libvorbis_jll v1.3.7+1\u001b[39m\n",
      " \u001b[90m [1270edf5] \u001b[39m\u001b[92m+ x264_jll v2021.5.5+0\u001b[39m\n",
      " \u001b[90m [dfaa095f] \u001b[39m\u001b[92m+ x265_jll v3.5.0+0\u001b[39m\n",
      " \u001b[90m [d8fb68d0] \u001b[39m\u001b[92m+ xkbcommon_jll v1.4.1+0\u001b[39m\n",
      " \u001b[90m [efcefdf7] \u001b[39m\u001b[92m+ PCRE2_jll v10.40.0+0\u001b[39m\n",
      "\u001b[36m\u001b[1m        Info\u001b[22m\u001b[39m Packages marked with \u001b[33m⌅\u001b[39m have new versions available but cannot be upgraded. To see why use `status --outdated -m`\n"
     ]
    },
    {
     "name": "stderr",
     "output_type": "stream",
     "text": [
      "\u001b[32m\u001b[1mPrecompiling\u001b[22m\u001b[39m "
     ]
    },
    {
     "name": "stderr",
     "output_type": "stream",
     "text": [
      "project...\n"
     ]
    },
    {
     "name": "stderr",
     "output_type": "stream",
     "text": [
      "\u001b[32m  ✓ \u001b[39m\u001b[90mStatsAPI\u001b[39m\n",
      "\u001b[32m  ✓ \u001b[39m\u001b[90mPipe\u001b[39m\n",
      "\u001b[32m  ✓ \u001b[39m\u001b[90mIniFile\u001b[39m\n",
      "\u001b[32m  ✓ \u001b[39m\u001b[90mTensorCore\u001b[39m\n",
      "\u001b[32m  ✓ \u001b[39m\u001b[90mContour\u001b[39m\n"
     ]
    },
    {
     "name": "stderr",
     "output_type": "stream",
     "text": [
      "\u001b[32m  ✓ \u001b[39m\u001b[90mMeasures\u001b[39m\n"
     ]
    },
    {
     "name": "stderr",
     "output_type": "stream",
     "text": [
      "\u001b[32m  ✓ \u001b[39m\u001b[90mUnzip\u001b[39m\n"
     ]
    },
    {
     "name": "stderr",
     "output_type": "stream",
     "text": [
      "\u001b[32m  ✓ \u001b[39m\u001b[90mGrisu\u001b[39m\n"
     ]
    },
    {
     "name": "stderr",
     "output_type": "stream",
     "text": [
      "\u001b[32m  ✓ \u001b[39m\u001b[90mPCRE2_jll\u001b[39m\n"
     ]
    },
    {
     "name": "stderr",
     "output_type": "stream",
     "text": [
      "\u001b[32m  ✓ \u001b[39m\u001b[90mSimpleBufferStream\u001b[39m\n"
     ]
    },
    {
     "name": "stderr",
     "output_type": "stream",
     "text": [
      "\u001b[32m  ✓ \u001b[39m\u001b[90mURIs\u001b[39m\n",
      "\u001b[32m  ✓ \u001b[39m\u001b[90mFormatting\u001b[39m\n",
      "\u001b[32m  ✓ \u001b[39m\u001b[90mUnicodeFun\u001b[39m\n",
      "\u001b[32m  ✓ \u001b[39m\u001b[90mDataAPI\u001b[39m\n",
      "\u001b[32m  ✓ \u001b[39m\u001b[90mBitFlags\u001b[39m\n",
      "\u001b[32m  ✓ \u001b[39m\u001b[90mScratch\u001b[39m\n",
      "\u001b[32m  ✓ \u001b[39m\u001b[90mLoggingExtras\u001b[39m\n"
     ]
    },
    {
     "name": "stderr",
     "output_type": "stream",
     "text": [
      "\u001b[32m  ✓ \u001b[39m\u001b[90mMbedTLS\u001b[39m\n"
     ]
    },
    {
     "name": "stderr",
     "output_type": "stream",
     "text": [
      "\u001b[32m  ✓ \u001b[39m\u001b[90mRecipesBase\u001b[39m\n",
      "\u001b[32m  ✓ \u001b[39m\u001b[90mXorg_libXau_jll\u001b[39m\n"
     ]
    },
    {
     "name": "stderr",
     "output_type": "stream",
     "text": [
      "\u001b[32m  ✓ \u001b[39m\u001b[90mLibmount_jll\u001b[39m\n",
      "\u001b[32m  ✓ \u001b[39m\u001b[90mLAME_jll\u001b[39m\n"
     ]
    },
    {
     "name": "stderr",
     "output_type": "stream",
     "text": [
      "\u001b[32m  ✓ \u001b[39m\u001b[90mOpenSSL_jll\u001b[39m\n",
      "\u001b[32m  ✓ \u001b[39m\u001b[90mGraphite2_jll\u001b[39m\n",
      "\u001b[32m  ✓ \u001b[39m\u001b[90mlibfdk_aac_jll\u001b[39m\n"
     ]
    },
    {
     "name": "stderr",
     "output_type": "stream",
     "text": [
      "\u001b[32m  ✓ \u001b[39m\u001b[90mlibpng_jll\u001b[39m\n"
     ]
    },
    {
     "name": "stderr",
     "output_type": "stream",
     "text": [
      "\u001b[32m  ✓ \u001b[39m\u001b[90mPixman_jll\u001b[39m\n"
     ]
    },
    {
     "name": "stderr",
     "output_type": "stream",
     "text": [
      "\u001b[32m  ✓ \u001b[39m\u001b[90mJpegTurbo_jll\u001b[39m\n"
     ]
    },
    {
     "name": "stderr",
     "output_type": "stream",
     "text": [
      "\u001b[32m  ✓ \u001b[39m\u001b[90mLERC_jll\u001b[39m\n"
     ]
    },
    {
     "name": "stderr",
     "output_type": "stream",
     "text": [
      "\u001b[32m  ✓ \u001b[39m\u001b[90mXorg_libXdmcp_jll\u001b[39m\n"
     ]
    },
    {
     "name": "stderr",
     "output_type": "stream",
     "text": [
      "\u001b[32m  ✓ \u001b[39m\u001b[90mfzf_jll\u001b[39m\n"
     ]
    },
    {
     "name": "stderr",
     "output_type": "stream",
     "text": [
      "\u001b[32m  ✓ \u001b[39m\u001b[90mlibaom_jll\u001b[39m\n",
      "\u001b[32m  ✓ \u001b[39m\u001b[90mx264_jll\u001b[39m\n"
     ]
    },
    {
     "name": "stderr",
     "output_type": "stream",
     "text": [
      "\u001b[32m  ✓ \u001b[39m\u001b[90mOgg_jll\u001b[39m\n"
     ]
    },
    {
     "name": "stderr",
     "output_type": "stream",
     "text": [
      "\u001b[32m  ✓ \u001b[39m\u001b[90mx265_jll\u001b[39m\n"
     ]
    },
    {
     "name": "stderr",
     "output_type": "stream",
     "text": [
      "\u001b[32m  ✓ \u001b[39m\u001b[90mLZO_jll\u001b[39m\n"
     ]
    },
    {
     "name": "stderr",
     "output_type": "stream",
     "text": [
      "\u001b[32m  ✓ \u001b[39m\u001b[90mXorg_xtrans_jll\u001b[39m\n",
      "\u001b[32m  ✓ \u001b[39m\u001b[90mZstd_jll\u001b[39m\n"
     ]
    },
    {
     "name": "stderr",
     "output_type": "stream",
     "text": [
      "\u001b[32m  ✓ \u001b[39m\u001b[90mOpus_jll\u001b[39m\n"
     ]
    },
    {
     "name": "stderr",
     "output_type": "stream",
     "text": [
      "\u001b[32m  ✓ \u001b[39m\u001b[90mExpat_jll\u001b[39m\n",
      "\u001b[32m  ✓ \u001b[39m\u001b[90mLibffi_jll\u001b[39m\n"
     ]
    },
    {
     "name": "stderr",
     "output_type": "stream",
     "text": [
      "\u001b[32m  ✓ \u001b[39m\u001b[90mLibgpg_error_jll\u001b[39m\n"
     ]
    },
    {
     "name": "stderr",
     "output_type": "stream",
     "text": [
      "\u001b[32m  ✓ \u001b[39m\u001b[90mLibiconv_jll\u001b[39m\n",
      "\u001b[32m  ✓ \u001b[39m\u001b[90mWayland_protocols_jll\u001b[39m\n"
     ]
    },
    {
     "name": "stderr",
     "output_type": "stream",
     "text": [
      "\u001b[32m  ✓ \u001b[39m\u001b[90mXorg_libpthread_stubs_jll\u001b[39m\n",
      "\u001b[32m  ✓ \u001b[39m\u001b[90mFriBidi_jll\u001b[39m\n",
      "\u001b[32m  ✓ \u001b[39m\u001b[90mLibuuid_jll\u001b[39m\n",
      "\u001b[32m  ✓ \u001b[39m\u001b[90mShowoff\u001b[39m\n",
      "\u001b[32m  ✓ \u001b[39m\u001b[90mMissings\u001b[39m\n"
     ]
    },
    {
     "name": "stderr",
     "output_type": "stream",
     "text": [
      "\u001b[32m  ✓ \u001b[39m\u001b[90mFreeType2_jll\u001b[39m\n",
      "\u001b[32m  ✓ \u001b[39m\u001b[90mSortingAlgorithms\u001b[39m\n"
     ]
    },
    {
     "name": "stderr",
     "output_type": "stream",
     "text": [
      "\u001b[32m  ✓ \u001b[39m\u001b[90mRelocatableFolders\u001b[39m\n"
     ]
    },
    {
     "name": "stderr",
     "output_type": "stream",
     "text": [
      "\u001b[32m  ✓ \u001b[39m\u001b[90mlibvorbis_jll\u001b[39m\n"
     ]
    },
    {
     "name": "stderr",
     "output_type": "stream",
     "text": [
      "\u001b[32m  ✓ \u001b[39m\u001b[90mLibtiff_jll\u001b[39m\n"
     ]
    },
    {
     "name": "stderr",
     "output_type": "stream",
     "text": [
      "\u001b[32m  ✓ \u001b[39m\u001b[90mJLFzf\u001b[39m\n"
     ]
    },
    {
     "name": "stderr",
     "output_type": "stream",
     "text": [
      "\u001b[32m  ✓ \u001b[39m\u001b[90mXML2_jll\u001b[39m\n"
     ]
    },
    {
     "name": "stderr",
     "output_type": "stream",
     "text": [
      "\u001b[32m  ✓ \u001b[39m\u001b[90mLibgcrypt_jll\u001b[39m\n"
     ]
    },
    {
     "name": "stderr",
     "output_type": "stream",
     "text": [
      "\u001b[32m  ✓ \u001b[39m\u001b[90mFontconfig_jll\u001b[39m\n"
     ]
    },
    {
     "name": "stderr",
     "output_type": "stream",
     "text": [
      "\u001b[32m  ✓ \u001b[39m\u001b[90mGettext_jll\u001b[39m\n"
     ]
    },
    {
     "name": "stderr",
     "output_type": "stream",
     "text": [
      "\u001b[32m  ✓ \u001b[39m\u001b[90mWayland_jll\u001b[39m\n"
     ]
    },
    {
     "name": "stderr",
     "output_type": "stream",
     "text": [
      "\u001b[32m  ✓ \u001b[39m\u001b[90mXSLT_jll\u001b[39m\n"
     ]
    },
    {
     "name": "stderr",
     "output_type": "stream",
     "text": [
      "\u001b[32m  ✓ \u001b[39m\u001b[90mGlib_jll\u001b[39m\n"
     ]
    },
    {
     "name": "stderr",
     "output_type": "stream",
     "text": [
      "\u001b[32m  ✓ \u001b[39m\u001b[90mXorg_libxcb_jll\u001b[39m\n"
     ]
    },
    {
     "name": "stderr",
     "output_type": "stream",
     "text": [
      "\u001b[32m  ✓ \u001b[39m\u001b[90mOpenSSL\u001b[39m\n"
     ]
    },
    {
     "name": "stderr",
     "output_type": "stream",
     "text": [
      "\u001b[32m  ✓ \u001b[39m\u001b[90mXorg_xcb_util_jll\u001b[39m\n"
     ]
    },
    {
     "name": "stderr",
     "output_type": "stream",
     "text": [
      "\u001b[32m  ✓ \u001b[39m\u001b[90mXorg_libX11_jll\u001b[39m\n"
     ]
    },
    {
     "name": "stderr",
     "output_type": "stream",
     "text": [
      "\u001b[32m  ✓ \u001b[39m\u001b[90mLatexify\u001b[39m\n"
     ]
    },
    {
     "name": "stderr",
     "output_type": "stream",
     "text": [
      "\u001b[32m  ✓ \u001b[39m\u001b[90mXorg_xcb_util_keysyms_jll\u001b[39m\n"
     ]
    },
    {
     "name": "stderr",
     "output_type": "stream",
     "text": [
      "\u001b[32m  ✓ \u001b[39m\u001b[90mXorg_xcb_util_renderutil_jll\u001b[39m\n"
     ]
    },
    {
     "name": "stderr",
     "output_type": "stream",
     "text": [
      "\u001b[32m  ✓ \u001b[39m\u001b[90mXorg_xcb_util_wm_jll\u001b[39m\n"
     ]
    },
    {
     "name": "stderr",
     "output_type": "stream",
     "text": [
      "\u001b[32m  ✓ \u001b[39m\u001b[90mXorg_libXrender_jll\u001b[39m\n"
     ]
    },
    {
     "name": "stderr",
     "output_type": "stream",
     "text": [
      "\u001b[32m  ✓ \u001b[39m\u001b[90mXorg_xcb_util_image_jll\u001b[39m\n"
     ]
    },
    {
     "name": "stderr",
     "output_type": "stream",
     "text": [
      "\u001b[32m  ✓ \u001b[39m\u001b[90mStatsBase\u001b[39m\n"
     ]
    },
    {
     "name": "stderr",
     "output_type": "stream",
     "text": [
      "\u001b[32m  ✓ \u001b[39m\u001b[90mXorg_libXext_jll\u001b[39m\n"
     ]
    },
    {
     "name": "stderr",
     "output_type": "stream",
     "text": [
      "\u001b[32m  ✓ \u001b[39m\u001b[90mXorg_libXfixes_jll\u001b[39m\n"
     ]
    },
    {
     "name": "stderr",
     "output_type": "stream",
     "text": [
      "\u001b[32m  ✓ \u001b[39m\u001b[90mXorg_libxkbfile_jll\u001b[39m\n"
     ]
    },
    {
     "name": "stderr",
     "output_type": "stream",
     "text": [
      "\u001b[32m  ✓ \u001b[39m\u001b[90mXorg_libXrandr_jll\u001b[39m\n"
     ]
    },
    {
     "name": "stderr",
     "output_type": "stream",
     "text": [
      "\u001b[32m  ✓ \u001b[39m\u001b[90mLibglvnd_jll\u001b[39m\n",
      "\u001b[32m  ✓ \u001b[39m\u001b[90mXorg_libXinerama_jll\u001b[39m\n"
     ]
    },
    {
     "name": "stderr",
     "output_type": "stream",
     "text": [
      "\u001b[32m  ✓ \u001b[39m\u001b[90mColorVectorSpace\u001b[39m\n"
     ]
    },
    {
     "name": "stderr",
     "output_type": "stream",
     "text": [
      "\u001b[32m  ✓ \u001b[39m\u001b[90mCairo_jll\u001b[39m\n"
     ]
    },
    {
     "name": "stderr",
     "output_type": "stream",
     "text": [
      "\u001b[32m  ✓ \u001b[39m\u001b[90mXorg_libXcursor_jll\u001b[39m\n"
     ]
    },
    {
     "name": "stderr",
     "output_type": "stream",
     "text": [
      "\u001b[32m  ✓ \u001b[39m\u001b[90mXorg_libXi_jll\u001b[39m\n"
     ]
    },
    {
     "name": "stderr",
     "output_type": "stream",
     "text": [
      "\u001b[32m  ✓ \u001b[39m\u001b[90mXorg_xkbcomp_jll\u001b[39m\n"
     ]
    },
    {
     "name": "stderr",
     "output_type": "stream",
     "text": [
      "\u001b[32m  ✓ \u001b[39m\u001b[90mHarfBuzz_jll\u001b[39m\n"
     ]
    },
    {
     "name": "stderr",
     "output_type": "stream",
     "text": [
      "\u001b[32m  ✓ \u001b[39m\u001b[90mGLFW_jll\u001b[39m\n"
     ]
    },
    {
     "name": "stderr",
     "output_type": "stream",
     "text": [
      "\u001b[32m  ✓ \u001b[39m\u001b[90mXorg_xkeyboard_config_jll\u001b[39m\n"
     ]
    },
    {
     "name": "stderr",
     "output_type": "stream",
     "text": [
      "\u001b[32m  ✓ \u001b[39m\u001b[90mlibass_jll\u001b[39m\n"
     ]
    },
    {
     "name": "stderr",
     "output_type": "stream",
     "text": [
      "\u001b[32m  ✓ \u001b[39m\u001b[90mxkbcommon_jll\u001b[39m\n"
     ]
    },
    {
     "name": "stderr",
     "output_type": "stream",
     "text": [
      "\u001b[32m  ✓ \u001b[39m\u001b[90mFFMPEG_jll\u001b[39m\n"
     ]
    },
    {
     "name": "stderr",
     "output_type": "stream",
     "text": [
      "\u001b[32m  ✓ \u001b[39m\u001b[90mQt5Base_jll\u001b[39m\n"
     ]
    },
    {
     "name": "stderr",
     "output_type": "stream",
     "text": [
      "\u001b[32m  ✓ \u001b[39m\u001b[90mFFMPEG\u001b[39m\n"
     ]
    },
    {
     "name": "stderr",
     "output_type": "stream",
     "text": [
      "\u001b[32m  ✓ \u001b[39m\u001b[90mHTTP\u001b[39m\n"
     ]
    },
    {
     "name": "stderr",
     "output_type": "stream",
     "text": [
      "\u001b[32m  ✓ \u001b[39m\u001b[90mGR_jll\u001b[39m\n"
     ]
    },
    {
     "name": "stderr",
     "output_type": "stream",
     "text": [
      "\u001b[32m  ✓ \u001b[39m\u001b[90mGR\u001b[39m\n"
     ]
    },
    {
     "name": "stderr",
     "output_type": "stream",
     "text": [
      "\u001b[32m  ✓ \u001b[39m\u001b[90mColorSchemes\u001b[39m\n"
     ]
    },
    {
     "name": "stderr",
     "output_type": "stream",
     "text": [
      "\u001b[32m  ✓ \u001b[39m\u001b[90mPlotUtils\u001b[39m\n"
     ]
    },
    {
     "name": "stderr",
     "output_type": "stream",
     "text": [
      "\u001b[32m  ✓ \u001b[39m\u001b[90mPlotThemes\u001b[39m\n"
     ]
    },
    {
     "name": "stderr",
     "output_type": "stream",
     "text": [
      "\u001b[32m  ✓ \u001b[39m\u001b[90mRecipesPipeline\u001b[39m\n"
     ]
    },
    {
     "name": "stderr",
     "output_type": "stream",
     "text": [
      "\u001b[32m  ✓ \u001b[39mPlots\n"
     ]
    },
    {
     "name": "stdout",
     "output_type": "stream",
     "text": [
      "\n",
      "******************************************************************************\n",
      "This program contains Ipopt, a library for large-scale nonlinear optimization.\n",
      " Ipopt is released as open source code under the Eclipse Public License (EPL).\n",
      "         For more information visit https://github.com/coin-or/Ipopt\n",
      "******************************************************************************\n",
      "\n",
      "This is Ipopt version 3.14.4, running with linear solver MUMPS 5.4.1.\n",
      "\n",
      "Number of nonzeros in equality constraint Jacobian...:        0\n",
      "Number of nonzeros in inequality constraint Jacobian.:        2\n",
      "Number of nonzeros in Lagrangian Hessian.............:        0\n",
      "\n"
     ]
    },
    {
     "name": "stderr",
     "output_type": "stream",
     "text": [
      "  100 dependencies successfully precompiled in 243 seconds. 62 already precompiled.\n"
     ]
    }
   ],
   "source": [
    "import Pkg\n",
    "Pkg.add(\"Plots\")"
   ]
  },
  {
   "attachments": {},
   "cell_type": "markdown",
   "metadata": {},
   "source": [
    "### COM361 &mdash; Introdução a Otimização &mdash; 2022, Prof. Amit ###\n",
    "\n",
    "# Otimização de Wifi #\n",
    "\n",
    "#### Pedro Henrique de Jesus Teixeira (pedroteixeir@poli.ufrj.br), Diego Nunes Gonçalves Freitas (diegongfreitas@poli.ufrj.br)\n",
    "\n",
    "*****\n",
    "\n",
    "### Índice\n",
    "\n",
    "1. [Introdução](#1.-Introdução)\n",
    "1. [Modelo Matemático](#2.-Modelo Mathemático)\n",
    "1. [Solução](#3.-Solução)\n",
    "1. [Resultados e Discussão](#4.-Resultados-e-discussão)\n",
    "  1. [Subseção Opcional](#4.A.-Acrescente-subseções-se-necessário)\n",
    "1. [Conclusão](#5.-Conclusão)\n",
    "1. [Referências bibliográficas] (#6.-Referências bibliográficas)"
   ]
  },
  {
   "cell_type": "markdown",
   "metadata": {
    "collapsed": true
   },
   "source": [
    "## 1. Introdução ##\n",
    "\n",
    "O projeto a ser apresentado ao longo desse relatório consiste em um mecânismo de otimização do posicionamento de um roteador wifi em um estabelecimento ou residência. Faremos isso porcurando o melhor ponto de instalação de um roteador objetivando a maximização da força do sinal que chega aos dispositivos conectados. \n",
    "\n",
    "É muito comum perceber cômodos de sua casa em que o sinal wifi chega muito enfraquecido ou simplesmente não chega, chamaremos essas regiões de Zonas Mortas. Denominamos de Zonas Críticas os cômodos nos quais há um dispositivo conectado a rede. Além de maximizar o sinal em cada dispositivo conectado precisamos, também, eliminar a possibilidade de formação de Zonas Mortas em Zonas Críticas. A complexidade dos cenários de teste do nosso algoritmo cresce gradualmente, conforme aumentamos a planta do imóvel e adicionamos fontes de interferência como espelhos, madeira, móveis metálicos, etc. \n",
    "\n",
    "O primeiro padrão de conexão wifi surgiu em 1997. Com o passar dos anos essa tecnologia se popularizou e, nos dias atuais, quase todo estabelecimento ou residência possui uma rede de internet via Wifi. Com a expansão dessa tecnologia suas qualidades e defeitos foram ficando mais evidentes. Um dos mais evidentes defeitos é a grande dependência do funcionamento ótimo da rede ao posicionamento do roteador wifi. Se mal posicionado em uma residência, o roteador pode acabar entregando, aos seus dispositivos conectados, porcentagens incrivelmente pequenas do sinal original. \n",
    "\n",
    "Nosso projeto tratará sobre redes [WLAN](https://pt.wikipedia.org/wiki/Rede_de_área_local_sem_fio), ou seja, redes de area local sem fio que usam ondas de rádio para fazer a conexão entre os dispositivos. Para fins de simplificação, os dados relacionados à perda de sinal ao longo da distância e por meio de interferências foram sintetizados e previamente estabelecidos.\n",
    "\n",
    "A partir desse ponto apresentaremos o desenvolvimento do projeto, começando pelo modelo matématico na seção 2. Em seguida, na seção 3, apresentamos nossa solução de otimização, desenvolvida em Julia 1.8.0, possível de ser rodada nesse notebook Jupyter. Na seção 4, evidenciamos nossos resultados para cada cenário, variando em graus de complexidade, através de plots simulando um ambiente de rede. Na seção 5, finalizamos a apresentação do projeto apresentando nossas conclusões acerca dos resultados obtidos e dos métodos utilizados, ressaltando aspectos passíveis de melhorias. Por fim, na seção 6, apresentamos as referencias biubliográficas utilizadas ao longo do desenvolvimento do projeto."
   ]
  },
  {
   "attachments": {},
   "cell_type": "markdown",
   "metadata": {},
   "source": [
    "## 2. Modelo matemático ##\n",
    "Para abordar melhor nosso problema representamos o ambiente do imóvel trabalhado como uma matriz $A_{mXn}$. Começaremos apresentando nossas variáveis\n",
    "de decisão. \n",
    "\n",
    "Denominamos $C_{ij}$, um posição da matriz em que há um dispositivo conectado a rede, sendo $c$ o número de dispositivos.\n",
    "\n",
    "Denominamos $R_{ij}$, uma posição da matriz em que há um roteador.\n",
    "\n",
    "O valor registrado em cada posição da matriz determinará o que esta presente naquele local da forma:\n",
    "$$\n",
    "a_{ij} = \n",
    "\\begin{cases}\n",
    "2, \\text{ caso haja um roteador naquele local}\\\\\n",
    "1, \\text{ caso haja um dispositivo conectato naquele local}\\\\\n",
    "0, \\text{ caso não haja nada relacionado a rede naquele local}\n",
    "\\end{cases}\n",
    "$$\n",
    "\n",
    "Sopomos então que, a distância $d$ entre um roteador e um dispositivo, dada por:\n",
    "$$\n",
    "d = R_{ij} - C_{ij}\n",
    "$$\n",
    "influencia linearmente na força $f_{ij}$ do sinal que chega ao dispositivo na posição ij, da seguinte forma.\n",
    "$$\n",
    "f_{ij} = 1 - 0.2d \n",
    "$$\n",
    "\n",
    "Primeiramente a posição de cada dispositivo sera dada aleatoriamente na matriz. \n",
    "\n",
    "Nosso objetivo será encontrar a posição para o roteador que maximize a soma das forças do sinal em cada dispositivo. \n",
    "\n",
    "Além disso, evitaremos grandes variações para a força do sinal em cada dispositivo, limitando o desvio padrão entre eles, sendo esse denominado $\\sigma_f$.\n",
    "\n",
    "Exemplificando o posicionamento ótimo de um roteador para um caso simples:\n",
    "$$\n",
    "\\begin{bmatrix}\n",
    "  1 & 0 & 0 & 2 & 0 & 0 & 1\\\\\n",
    "  0 & 0 & 0 & 0 & 0 & 0 & 0\\\\\n",
    "  0 & 0 & 0 & 0 & 0 & 0 & 0\\\\\n",
    "  0 & 0 & 0 & 0 & 0 & 0 & 0\\\\\n",
    "  0 & 0 & 0 & 0 & 0 & 0 & 0\\\\\n",
    "  0 & 0 & 0 & 0 & 0 & 0 & 0\\\\\n",
    "  0 & 0 & 0 & 0 & 0 & 0 & 0\n",
    "\\end{bmatrix}\n",
    "$$\n",
    "\n",
    "Dessa forma, nosso problema de otimização em forma padrão fica assim:\n",
    "$$\n",
    "\\begin{aligned}\n",
    "\\underset{x \\in \\mathbb{R^n}}{\\text{maximize}}\\qquad& \\sum_{k=0}^{c}{f_k(d)} \\\\\n",
    "\\text{sujeito a:}\\qquad& \\sigma_{f(d)} \\le 0,4\\\\\n",
    "& d > 0\n",
    "\\end{aligned}\n",
    "$$\n",
    "\n",
    "Vamos trabalhar ainda com casos em que há objetos no estabelecimento que causem interferência no sinal, gerando Zonas mortas. Para isso iremos alterar um pouco nosso cenário:\n",
    "\n",
    "$$\n",
    "a_{ij} = \n",
    "\\begin{cases}\n",
    "3, \\text{ caso haja uma fonte de interferência naquele local}\\\\\n",
    "2, \\text{ caso haja um roteador naquele local}\\\\\n",
    "1, \\text{ caso haja um dispositivo conectato naquele local}\\\\\n",
    "0, \\text{ caso não haja nada relacionado a rede naquele local}\n",
    "\\end{cases}\n",
    "$$\n",
    "\n",
    "Exemplificando, agora, o posicionamento ótimo de um roteador para um caso com interferência:\n",
    "\n",
    "Se mantivermos o roteador na mesma posição um dos dispositivos ficaria em uma zona morta\n",
    "$$\n",
    "\\begin{bmatrix}\n",
    "  1 & 0 & 0 & 2 & 3 & 0 & 1\\\\\n",
    "  0 & 0 & 0 & 0 & 3 & 0 & 0\\\\\n",
    "  0 & 0 & 0 & 0 & 0 & 0 & 0\\\\\n",
    "  0 & 0 & 0 & 0 & 0 & 0 & 0\\\\\n",
    "  0 & 0 & 0 & 0 & 0 & 0 & 0\\\\\n",
    "  0 & 0 & 0 & 0 & 0 & 0 & 0\\\\\n",
    "  0 & 0 & 0 & 0 & 0 & 0 & 0\n",
    "\\end{bmatrix}\n",
    "$$\n",
    "Para solucionar esse problema o roteador deve ser movido de forma a alterar a região de Zona morta, da seguinte forma:\n",
    "$$\n",
    "\\begin{bmatrix}\n",
    "  1 & 0 & 0 & 0 & 3 & 0 & 1\\\\\n",
    "  0 & 0 & 0 & 0 & 3 & 0 & 0\\\\\n",
    "  0 & 0 & 0 & 0 & 0 & 0 & 0\\\\\n",
    "  0 & 0 & 0 & 2 & 0 & 0 & 0\\\\\n",
    "  0 & 0 & 0 & 0 & 0 & 0 & 0\\\\\n",
    "  0 & 0 & 0 & 0 & 0 & 0 & 0\\\\\n",
    "  0 & 0 & 0 & 0 & 0 & 0 & 0\n",
    "\\end{bmatrix}\n",
    "$$\n",
    "\n",
    "Isso encerra o modelo matemático do nosso projeto. Em seguida apresentaremos nossa solução.\n",
    "\n"
   ]
  },
  {
   "attachments": {},
   "cell_type": "markdown",
   "metadata": {
    "collapsed": true
   },
   "source": [
    "## 3. Solução ##\n",
    "\n",
    "Nesta seção, coloque seu código em Julia + JuMP e resolva o problema proposto. Seu código deve ser limpo (não macarrônico!), de fácil leitura, bem comentado e anotado e deve compilar sem erros em Julia 1.x, x $\\geq 1$! Não valem códigos em outras linguagens. **Vou rodar seu código para avaliar seu projeto**. Sugiro a utilização de múltiplos blocos de códigos separados por blocos de texto (células Markdown) explicando as várias partes da sua solução. Sugiro também a resolução de várias versões do seu problema, com modelos e hipóteses diferentes.\n",
    "\n",
    "É permitido chamar pacotes externos, mas evite a utilização de bibliotecas exóticas (pois, em geral, não rodam em todas as versões de Julia, e terei que instalar a mesma versão que você usou, ou rodar na plataforma Google Colab, que gostaria de evitar)."
   ]
  },
  {
   "cell_type": "code",
   "execution_count": 79,
   "metadata": {},
   "outputs": [
    {
     "name": "stdout",
     "output_type": "stream",
     "text": [
      "This is Ipopt version 3.14.4, running with linear solver MUMPS 5.4.1.\n",
      "\n",
      "Number of nonzeros in equality constraint Jacobian...:        0\n",
      "Number of nonzeros in inequality constraint Jacobian.:        2\n",
      "Number of nonzeros in Lagrangian Hessian.............:        0\n",
      "\n",
      "Total number of variables............................:        2\n",
      "                     variables with only lower bounds:        0\n",
      "                variables with lower and upper bounds:        2\n",
      "                     variables with only upper bounds:        0\n",
      "Total number of equality constraints.................:        0\n",
      "Total number of inequality constraints...............:        1\n",
      "        inequality constraints with only lower bounds:        0\n",
      "   inequality constraints with lower and upper bounds:        0\n",
      "        inequality constraints with only upper bounds:        1\n",
      "\n",
      "iter    objective    inf_pr   inf_du lg(mu)  ||d||  lg(rg) alpha_du alpha_pr  ls\n",
      "   0  9.9717158e-01 6.05e-01 4.06e-02   0.0 0.00e+00    -  0.00e+00 0.00e+00   0\n",
      "   1  9.9690149e-01 6.05e-01 7.63e+00  -5.8 6.03e-01    -  1.45e-01 1.64e-02h  1\n",
      "   2  4.7682717e-01 6.37e-02 4.41e+01  -0.9 3.09e+00    -  1.78e-01 1.00e+00f  1\n",
      "   3  4.8786930e-01 6.03e-02 3.57e+01  -1.8 1.43e-01    -  8.72e-01 2.14e-01h  1\n",
      "   4  5.8613635e-01 0.00e+00 5.23e-01  -2.2 5.08e-01    -  1.00e+00 1.00e+00f  1\n",
      "   5  6.9516418e-01 0.00e+00 3.18e-01  -1.9 3.34e-01    -  9.64e-01 1.00e+00f  1\n",
      "   6  8.6823527e-01 5.14e-01 1.25e-01  -1.5 5.81e+00    -  3.20e-01 4.33e-01f  1\n",
      "   7  8.3019713e-01 4.87e-01 3.82e-01  -1.7 1.14e+00    -  1.00e+00 3.58e-01h  1\n",
      "   8  6.6584144e-01 2.34e-01 1.23e+00   0.3 1.43e+01    -  1.20e-01 2.26e-01f  1\n",
      "   9  8.4097148e-01 4.95e-01 1.45e-01  -0.5 3.86e+00    -  1.00e+00 1.00e+00f  1\n",
      "iter    objective    inf_pr   inf_du lg(mu)  ||d||  lg(rg) alpha_du alpha_pr  ls\n",
      "  10  8.1282792e-01 4.75e-01 1.07e+00  -1.2 5.73e-01    -  6.96e-01 2.65e-01h  1\n",
      "  11  1.8336528e-01 2.95e-02 5.70e-01  -1.0 3.51e+00    -  8.49e-01 8.68e-01h  1\n",
      "  12  5.4824738e-01 0.00e+00 4.75e-01  -1.0 9.50e-01    -  1.00e+00 1.00e+00f  1\n",
      "  13  7.6968388e-01 0.00e+00 6.69e-01  -1.7 7.00e-01    -  6.11e-01 1.00e+00f  1\n",
      "  14  1.0717951e+00 0.00e+00 4.75e-01  -1.5 5.73e+00    -  7.09e-01 2.00e-01f  2\n",
      "  15  1.0866161e+00 0.00e+00 2.65e-01  -1.9 1.48e+00    -  9.78e-01 4.88e-02f  5\n",
      "  16  1.0879645e+00 0.00e+00 4.70e-01  -1.6 8.75e-01    -  9.52e-01 7.81e-03h  8\n",
      "  17  1.0883309e+00 0.00e+00 3.28e-01  -2.0 1.03e+00    -  8.45e-01 1.95e-03h 10\n",
      "  18  1.0884947e+00 0.00e+00 4.69e-01  -1.7 8.50e-01    -  9.80e-01 9.77e-04h 11\n",
      "  19  1.0885904e+00 0.00e+00 2.88e-01  -2.0 1.15e+00    -  8.98e-01 4.88e-04h 12\n",
      "iter    objective    inf_pr   inf_du lg(mu)  ||d||  lg(rg) alpha_du alpha_pr  ls\n",
      "  20  1.1947200e+00 4.35e-01 1.30e-01  -1.6 8.31e-01    -  1.00e+00 1.00e+00F  1\n",
      "  21  7.5001748e-01 4.30e-01 5.12e-01  -0.7 5.01e+00    -  2.90e-01 7.71e-01f  1\n",
      "  22  1.1222330e+00 1.92e-01 5.43e-01  -0.7 5.25e+00    -  1.00e+00 5.89e-01h  1\n",
      "  23  9.5880858e-01 1.28e-01 3.68e+00  -0.9 2.18e+00    -  3.24e-01 1.00e+00f  1\n",
      "  24  9.8572014e-01 4.71e-02 6.77e-01  -0.5 4.35e-01    -  9.29e-01 8.93e-01h  1\n",
      "  25  1.0512386e+00 9.11e-03 6.63e-01  -1.2 5.08e-01    -  9.93e-01 5.00e-01f  2\n",
      "  26  1.0382213e+00 1.03e-02 1.69e+00  -1.2 7.36e-01    -  8.96e-01 5.84e-01H  1\n",
      "  27  1.0791455e+00 0.00e+00 1.61e-01  -1.2 1.84e-01    -  1.00e+00 1.00e+00f  1\n",
      "  28  1.1265479e+00 0.00e+00 1.69e-01  -1.7 1.02e+00    -  9.87e-01 2.50e-01f  3\n",
      "  29  1.1270001e+00 0.00e+00 2.13e-01  -2.6 7.08e-01    -  1.00e+00 3.91e-03h  9\n",
      "iter    objective    inf_pr   inf_du lg(mu)  ||d||  lg(rg) alpha_du alpha_pr  ls\n",
      "  30  1.1270010e+00 0.00e+00 1.99e-01  -3.2 7.23e-01    -  1.00e+00 7.63e-06h 18\n",
      "  31  1.1270010e+00 0.00e+00 1.08e-01  -2.1 7.66e-01    -  1.00e+00 2.38e-07h 23\n",
      "  32  1.1270010e+00 0.00e+00 2.13e-01  -2.1 6.66e-01    -  7.51e-01 5.96e-08h 25\n",
      "  33  1.1270010e+00 0.00e+00 1.07e-01  -2.1 8.68e-01    -  1.00e+00 1.49e-08h 27\n",
      "  34  1.1270010e+00 0.00e+00 2.13e-01  -2.1 6.48e-01    -  7.94e-01 7.45e-09h 28\n",
      "  35  1.1270010e+00 0.00e+00 1.09e-01  -2.1 1.01e+00    -  1.00e+00 9.31e-10h 31\n",
      "  36  1.1270010e+00 0.00e+00 2.13e-01  -2.1 6.73e-01    -  8.48e-01 2.33e-10h 33\n",
      "  37r 1.1270010e+00 0.00e+00 9.97e+02  -2.1 0.00e+00    -  0.00e+00 3.64e-12R 39\n",
      "  38r 1.1270005e+00 0.00e+00 1.15e-03  -2.8 8.33e-01    -  1.00e+00 2.93e-03f  1\n",
      "  39  1.1270008e+00 0.00e+00 1.49e-01  -2.6 9.49e-01    -  1.00e+00 1.73e-06h 20\n",
      "iter    objective    inf_pr   inf_du lg(mu)  ||d||  lg(rg) alpha_du alpha_pr  ls\n",
      "  40  1.1270009e+00 0.00e+00 1.46e-01  -2.6 9.30e-01    -  1.00e+00 8.87e-07h 21\n",
      "  41  1.1270009e+00 0.00e+00 1.42e-01  -2.6 9.03e-01    -  1.00e+00 2.28e-07h 23\n",
      "  42  1.1270010e+00 0.00e+00 1.39e-01  -2.6 8.81e-01    -  1.00e+00 1.17e-07h 24\n",
      "  43  1.1270010e+00 0.00e+00 1.36e-01  -2.6 8.62e-01    -  1.00e+00 5.96e-08h 25\n",
      "  44  1.1270010e+00 0.00e+00 1.34e-01  -2.6 8.46e-01    -  1.00e+00 1.49e-08h 27\n",
      "  45  1.1270010e+00 0.00e+00 1.32e-01  -2.6 8.34e-01    -  1.00e+00 4.66e-10h 32\n",
      "  46  1.1270010e+00 0.00e+00 1.30e-01  -2.6 8.24e-01    -  1.00e+00 5.82e-11h 35\n",
      "  47  1.1270010e+00 0.00e+00 1.29e-01  -2.6 8.16e-01    -  1.00e+00 1.46e-11h 37\n",
      "  48  1.1270010e+00 0.00e+00 1.28e-01  -2.6 8.10e-01    -  1.00e+00 3.64e-12h 39\n",
      "  49  1.1270010e+00 0.00e+00 1.27e-01  -2.6 8.06e-01    -  1.00e+00 1.82e-12h 40\n",
      "iter    objective    inf_pr   inf_du lg(mu)  ||d||  lg(rg) alpha_du alpha_pr  ls\n",
      "  50  5.8584488e-01 3.14e-01 1.95e-01  -2.6 8.02e-01    -  1.00e+00 1.00e+00w  1\n",
      "  51  5.9994600e-01 3.24e-01 1.91e-01  -2.6 4.49e-01    -  1.00e+00 1.59e-01w  1\n",
      "  52  1.1881534e+00 4.56e-01 3.75e-01  -2.6 2.36e+00    -  7.53e-01 8.46e-01f  1\n",
      "  53  7.2611178e-01 4.13e-01 2.71e-01  -2.2 2.69e+00    -  4.25e-01 1.00e+00h  1\n",
      "  54  7.0846909e-01 2.25e-01 8.21e-01  -2.1 2.55e+00    -  1.00e+00 1.00e+00h  1\n",
      "  55  6.6702812e-01 0.00e+00 8.45e-01  -2.1 1.37e+00    -  1.35e-01 1.00e+00h  1\n",
      "  56  7.9038237e-01 0.00e+00 2.98e-01  -2.1 4.04e-01    -  1.00e+00 1.00e+00h  1\n",
      "  57  1.0814208e+00 0.00e+00 1.94e-01  -2.1 6.08e+00    -  1.07e-01 1.82e-01f  2\n",
      "  58  1.1075945e+00 0.00e+00 2.02e-01  -2.1 2.08e+00    -  1.00e+00 6.71e-02h  4\n",
      "  59  1.1182160e+00 0.00e+00 1.43e-01  -2.1 1.09e+00    -  1.00e+00 5.61e-02h  5\n",
      "iter    objective    inf_pr   inf_du lg(mu)  ||d||  lg(rg) alpha_du alpha_pr  ls\n",
      "  60  1.1187982e+00 0.00e+00 1.36e-01  -2.1 8.59e-01    -  1.00e+00 3.91e-03h  9\n",
      "  61  1.1194006e+00 0.00e+00 1.28e-01  -2.1 9.13e-01    -  1.00e+00 3.91e-03h  9\n",
      "  62  1.1194342e+00 0.00e+00 1.24e-01  -2.1 8.15e-01    -  1.00e+00 2.44e-04h 13\n",
      "  63  1.1194425e+00 0.00e+00 1.22e-01  -2.1 7.99e-01    -  1.00e+00 6.10e-05h 15\n",
      "  64  1.1194465e+00 0.00e+00 1.21e-01  -2.1 7.80e-01    -  1.00e+00 3.05e-05h 16\n",
      "  65  1.1194486e+00 0.00e+00 1.20e-01  -2.1 7.84e-01    -  1.00e+00 1.53e-05h 17\n",
      "  66  1.1194496e+00 0.00e+00 1.20e-01  -2.1 7.65e-01    -  1.00e+00 7.63e-06h 18\n",
      "  67  6.4902116e-01 3.59e-01 1.82e-01  -2.1 7.91e-01    -  1.00e+00 1.00e+00w  1\n",
      "  68  6.7511740e-01 3.77e-01 2.66e-01  -2.1 5.86e-01    -  1.00e+00 2.67e-01w  1\n",
      "  69  1.1764706e+00 4.45e-01 3.89e-01  -2.1 2.76e+00    -  5.36e-01 8.55e-01f  1\n",
      "iter    objective    inf_pr   inf_du lg(mu)  ||d||  lg(rg) alpha_du alpha_pr  ls\n",
      "  70  7.2280115e-01 4.11e-01 2.41e-03  -1.9 2.64e+00    -  1.00e+00 1.00e+00h  1\n",
      "  71  1.1284477e+00 1.83e-02 1.82e+00  -2.1 2.63e+00    -  1.00e+00 4.24e-01h  1\n",
      "  72  1.1367572e+00 1.74e-02 1.80e+00  -2.4 1.18e+00    -  1.00e+00 4.44e-02h  5\n",
      "  73  1.1386733e+00 1.64e-02 2.67e+00  -1.2 1.11e+00    -  1.00e+00 1.10e-02f  7\n",
      "  74  1.1389099e+00 1.62e-02 2.59e+00  -2.8 9.27e-01    -  7.66e-01 1.63e-03h 10\n",
      "  75  1.1389692e+00 1.62e-02 2.67e+00  -2.0 9.22e-01    -  1.00e+00 4.09e-04h 12\n",
      "  76  1.1389765e+00 1.62e-02 2.65e+00  -3.0 7.63e-01    -  8.31e-01 6.10e-05h 15\n",
      "  77  1.1389784e+00 1.62e-02 1.07e+00  -1.7 3.17e+00    -  1.00e+00 3.71e-06h 17\n",
      "  78  1.1389787e+00 1.62e-02 2.38e+00  -1.7 9.22e-02    -  1.00e+00 3.05e-05h 16\n",
      "  79  1.1389788e+00 1.62e-02 1.47e+00  -1.7 3.28e-01    -  1.00e+00 3.81e-06h 19\n",
      "iter    objective    inf_pr   inf_du lg(mu)  ||d||  lg(rg) alpha_du alpha_pr  ls\n",
      "  80  1.1389788e+00 1.62e-02 2.20e+00  -1.7 1.40e-01    -  1.00e+00 1.91e-06h 20\n",
      "  81  1.1389788e+00 1.62e-02 1.83e+00  -1.7 2.35e-01    -  1.00e+00 2.38e-07h 23\n",
      "  82  1.1389788e+00 1.62e-02 2.10e+00  -1.7 1.66e-01    -  1.00e+00 2.98e-08h 26\n",
      "  83  1.1389788e+00 1.62e-02 1.94e+00  -1.7 2.07e-01    -  1.00e+00 1.49e-08h 27\n",
      "  84  1.1389788e+00 1.62e-02 2.04e+00  -1.7 1.80e-01    -  1.00e+00 7.45e-09h 28\n",
      "  85  1.1389788e+00 1.62e-02 1.98e+00  -1.7 1.97e-01    -  1.00e+00 1.86e-09h 30\n",
      "  86  1.1389788e+00 1.62e-02 2.02e+00  -1.7 1.85e-01    -  1.00e+00 4.66e-10h 32\n",
      "  87  5.3068303e-01 2.75e-01 1.02e-01  -1.7 1.92e-01    -  1.00e+00 1.00e+00w  1\n",
      "  88  4.9842781e-01 2.52e-01 3.12e+00  -1.7 9.23e-01    -  1.00e+00 1.77e-01w  1\n",
      "  89  8.7955512e-01 3.01e-01 4.30e-01  -1.7 1.68e+00    -  1.00e+00 9.36e-01w  1\n",
      "iter    objective    inf_pr   inf_du lg(mu)  ||d||  lg(rg) alpha_du alpha_pr  ls\n",
      "  90  5.3068303e-01 2.75e-01 1.02e-01  -1.7 2.03e+00    -  1.00e+00 1.00e+00s 21\n",
      "  91  3.8989672e-01 1.76e-01 3.59e-02  -1.7 1.88e+00    -  4.11e-01 4.11e-01s 21\n",
      "  92  1.0991564e+00 4.00e-01 4.40e-01  -2.5 1.26e+00    -  7.91e-01 7.70e-01h  1\n",
      "  93  3.3726337e-01 1.27e-01 6.43e-01  -2.5 2.85e+00    -  4.74e-02 1.00e+00h  1\n",
      "  94  7.7447212e-01 0.00e+00 7.81e-01  -2.5 1.54e+00    -  1.00e+00 8.48e-01f  1\n",
      "  95  1.0720219e+00 0.00e+00 2.40e+00  -2.5 2.93e+00    -  1.00e+00 3.89e-01f  2\n",
      "  96  1.1252599e+00 0.00e+00 2.14e+00  -2.5 2.54e+00    -  1.23e-01 1.13e-01f  3\n",
      "  97  1.1275100e+00 0.00e+00 1.18e+00  -2.5 2.00e+00    -  1.00e+00 6.76e-03h  7\n",
      "  98  1.1290210e+00 0.00e+00 2.08e+00  -2.5 6.05e-01    -  5.22e-01 1.56e-02h  7\n",
      "  99  1.1292934e+00 0.00e+00 2.02e+00  -2.5 1.59e+00    -  1.00e+00 1.03e-03h 10\n",
      "iter    objective    inf_pr   inf_du lg(mu)  ||d||  lg(rg) alpha_du alpha_pr  ls\n",
      " 100  1.1293566e+00 0.00e+00 2.08e+00  -2.5 7.99e-01    -  1.11e-01 4.88e-04h 12\n",
      " 101  1.1293742e+00 0.00e+00 1.95e+00  -2.5 6.56e+00    -  3.32e-01 2.11e-05h 14\n",
      " 102  1.1293875e+00 0.00e+00 2.08e+00  -2.5 6.79e-01    -  2.98e-01 1.22e-04h 14\n",
      " 103  1.1293919e+00 0.00e+00 1.73e+00  -2.5 3.95e+00    -  1.00e+00 1.16e-05h 16\n",
      " 104  1.1293929e+00 0.00e+00 2.08e+00  -2.5 3.95e-01    -  6.52e-01 1.53e-05h 17\n",
      " 105  8.8990014e-01 5.29e-01 5.19e-01  -2.5 2.38e+00    -  9.20e-01 7.35e-01w  1\n",
      " 106  9.9735285e-01 6.05e-01 1.62e-01  -2.5 2.16e+00    -  1.00e+00 2.53e-01w  1\n",
      " 107  9.8985702e-01 6.00e-01 5.15e-02  -2.5 7.10e-01    -  2.24e-01 1.84e-01w  1\n",
      " 108  1.1293930e+00 0.00e+00 1.92e+00  -2.5 3.57e+00    -  9.20e-01 7.01e-07h 20\n",
      " 109  1.1293931e+00 0.00e+00 1.96e+00  -2.5 5.35e-01    -  1.00e+00 4.77e-07h 22\n",
      "iter    objective    inf_pr   inf_du lg(mu)  ||d||  lg(rg) alpha_du alpha_pr  ls\n",
      " 110  1.1293931e+00 0.00e+00 2.08e+00  -2.5 5.76e-01    -  4.12e-01 2.98e-08h 26\n",
      " 111  1.1293931e+00 0.00e+00 1.54e+00  -2.5 1.22e+00    -  1.00e+00 5.96e-09h 28\n",
      " 112  1.1293931e+00 0.00e+00 2.08e+00  -2.5 5.14e-01    -  6.59e-01 7.45e-09h 28\n",
      " 113  1.1293931e+00 0.00e+00 1.75e+00  -2.5 9.68e-01    -  1.00e+00 8.95e-10h 31\n",
      " 114  5.3097498e-01 2.75e-01 6.92e-01  -2.5 5.88e-01    -  6.04e-01 6.04e-01s 35\n",
      " 115  5.3451478e-01 2.78e-01 6.69e-01  -2.5 5.96e-01    -  3.30e-02 3.30e-02s 35\n",
      " 116  1.1539069e+00 4.30e-01 4.96e-01  -2.5 3.49e+00    -  5.84e-01 0.00e+00S 35\n",
      " 117  1.1781408e+00 2.60e-01 3.04e-01  -2.5 2.15e+00    -  1.35e-02 3.13e-01h  2\n",
      " 118  4.4833998e-01 2.17e-01 4.11e-01  -3.8 1.14e+00    -  1.00e+00 5.00e-01h  2\n",
      " 119  4.4581529e-01 2.15e-01 7.11e-01  -2.5 2.48e-01    -  1.00e+00 1.68e-01h  1\n",
      "iter    objective    inf_pr   inf_du lg(mu)  ||d||  lg(rg) alpha_du alpha_pr  ls\n",
      " 120  1.0907962e+00 3.97e-01 3.89e-01  -2.5 1.52e+00    -  1.00e+00 8.19e-01h  1\n",
      " 121  5.5292575e-01 8.84e-02 3.47e-01  -2.5 2.33e+00    -  1.60e-02 1.00e+00h  1\n",
      " 122  6.1137679e-01 3.32e-01 1.99e-01  -2.5 4.29e+00    -  5.68e-01 6.60e-01f  1\n",
      " 123  5.6130379e-01 2.97e-01 3.40e-01  -2.5 2.14e+00    -  2.50e-01 1.16e-01h  1\n",
      " 124  1.0564829e+00 3.78e-01 3.84e-01  -2.5 2.11e+00    -  1.00e+00 8.56e-01f  1\n",
      " 125  1.0087988e+00 2.54e-01 1.07e+00  -2.5 1.48e+00    -  7.27e-03 3.21e-01h  1\n",
      " 126  1.0390539e+00 0.00e+00 2.20e-01  -2.5 1.28e+00    -  9.36e-01 1.00e+00f  1\n",
      " 127  1.1055611e+00 0.00e+00 1.75e-01  -2.5 2.00e+00    -  1.00e+00 1.65e-01f  3\n",
      " 128  1.1164197e+00 0.00e+00 2.04e-01  -2.5 1.36e+00    -  8.50e-01 4.55e-02h  5\n",
      " 129  1.1217637e+00 0.00e+00 2.60e-01  -2.5 2.27e+00    -  7.78e-01 2.80e-02h  6\n",
      "iter    objective    inf_pr   inf_du lg(mu)  ||d||  lg(rg) alpha_du alpha_pr  ls\n",
      " 130  1.1219067e+00 0.00e+00 2.14e-01  -2.5 8.87e-01    -  8.73e-01 9.77e-04h 11\n",
      " 131  1.1219161e+00 0.00e+00 1.48e-01  -2.5 1.01e+00    -  1.00e+00 5.53e-05h 15\n",
      " 132  1.1219184e+00 0.00e+00 2.15e-01  -2.5 9.52e-01    -  7.80e-01 1.44e-05h 17\n",
      " 133  1.1219184e+00 0.00e+00 1.41e-01  -2.5 1.11e+00    -  1.00e+00 3.54e-09h 29\n",
      " 134  1.1219184e+00 0.00e+00 2.15e-01  -2.5 9.09e-01    -  8.04e-01 1.84e-09h 30\n",
      " 135r 1.1219184e+00 0.00e+00 9.99e+02  -1.6 0.00e+00    -  0.00e+00 5.79e-11R 35\n",
      " 136r 1.1219170e+00 0.00e+00 8.66e-03  -1.9 2.79e+01    -  1.00e+00 9.90e-04f  1\n",
      " 137  1.1219181e+00 0.00e+00 1.59e-01  -2.5 1.04e+00    -  1.00e+00 6.62e-06h 18\n",
      " 138  1.1219182e+00 0.00e+00 1.55e-01  -2.5 1.01e+00    -  1.00e+00 4.24e-07h 22\n",
      " 139  1.1219182e+00 0.00e+00 1.51e-01  -2.5 9.81e-01    -  1.00e+00 6.82e-09h 28\n",
      "iter    objective    inf_pr   inf_du lg(mu)  ||d||  lg(rg) alpha_du alpha_pr  ls\n",
      " 140  1.1219182e+00 0.00e+00 1.46e-01  -2.5 9.53e-01    -  1.00e+00 3.51e-09h 29\n",
      " 141  1.1219182e+00 0.00e+00 1.42e-01  -2.5 9.28e-01    -  1.00e+00 1.80e-09h 30\n",
      " 142  1.1219182e+00 0.00e+00 1.39e-01  -2.5 9.05e-01    -  1.00e+00 9.24e-10h 31\n",
      " 143  1.1219182e+00 0.00e+00 1.36e-01  -2.5 8.86e-01    -  1.00e+00 4.66e-10h 32\n",
      " 144  1.1219182e+00 0.00e+00 1.34e-01  -2.5 8.71e-01    -  1.00e+00 1.16e-10h 34\n",
      " 145  1.1219182e+00 0.00e+00 1.32e-01  -2.5 8.59e-01    -  1.00e+00 2.91e-11h 36\n",
      " 146r 1.1219182e+00 0.00e+00 9.89e+02  -2.5 0.00e+00    -  0.00e+00 9.09e-13R 41\n",
      " 147r 1.1219170e+00 0.00e+00 6.71e-04  -3.1 2.40e-02    -  1.00e+00 1.11e-02f  1\n",
      " 148  1.1219175e+00 0.00e+00 1.61e-01  -3.0 9.88e-01    -  1.00e+00 3.45e-06h 19\n",
      " 149  1.1219178e+00 0.00e+00 1.59e-01  -2.8 1.03e+00    -  1.00e+00 1.66e-06h 20\n",
      "iter    objective    inf_pr   inf_du lg(mu)  ||d||  lg(rg) alpha_du alpha_pr  ls\n",
      " 150  1.1219179e+00 0.00e+00 1.56e-01  -2.8 1.02e+00    -  1.00e+00 4.19e-07h 22\n",
      " 151  1.1219179e+00 0.00e+00 1.53e-01  -2.8 1.00e+00    -  1.00e+00 1.07e-07h 24\n",
      " 152  1.1219179e+00 0.00e+00 1.50e-01  -2.8 9.83e-01    -  1.00e+00 2.73e-08h 26\n",
      " 153  1.1219179e+00 0.00e+00 1.47e-01  -2.8 9.63e-01    -  1.00e+00 3.48e-09h 29\n",
      " 154  1.1219179e+00 0.00e+00 1.44e-01  -2.8 9.45e-01    -  1.00e+00 1.77e-09h 30\n",
      " 155  1.1219179e+00 0.00e+00 1.42e-01  -2.8 9.28e-01    -  1.00e+00 9.03e-10h 31\n",
      " 156  1.1219179e+00 0.00e+00 1.40e-01  -2.8 9.14e-01    -  1.00e+00 4.59e-10h 32\n",
      " 157  1.1219179e+00 0.00e+00 1.38e-01  -2.8 9.02e-01    -  1.00e+00 2.90e-11h 36\n",
      " 158  1.1219179e+00 0.00e+00 1.36e-01  -2.8 8.91e-01    -  1.00e+00 7.28e-12h 38\n",
      " 159  5.8065320e-01 3.11e-01 1.97e-01  -2.8 8.83e-01    -  1.00e+00 1.00e+00w  1\n",
      "iter    objective    inf_pr   inf_du lg(mu)  ||d||  lg(rg) alpha_du alpha_pr  ls\n",
      " 160  5.9324381e-01 3.19e-01 1.93e-01  -2.8 4.35e-01    -  1.00e+00 1.53e-01w  1\n",
      " 161  1.1946324e+00 4.61e-01 3.71e-01  -2.8 2.32e+00    -  7.81e-01 8.47e-01f  1\n",
      " 162  6.2384719e-01 3.41e-01 6.24e-01  -2.4 2.68e+00    -  5.18e-02 7.95e-01h  1\n",
      " 163  9.8293064e-01 3.44e-01 2.80e+00  -3.0 2.33e+00    -  2.59e-01 9.15e-01h  1\n",
      " 164  9.1818655e-01 9.98e-02 1.47e+00  -3.0 1.61e+00    -  1.00e+00 6.47e-01h  1\n",
      " 165  8.9680257e-01 1.90e-04 1.31e+00  -3.0 4.67e-01    -  6.92e-01 1.00e+00h  1\n",
      " 166  1.1145188e+00 0.00e+00 1.74e-01  -3.0 3.96e+00    -  5.34e-01 2.36e-01f  2\n",
      " 167  1.1337737e+00 0.00e+00 5.77e-01  -3.0 1.62e+00    -  8.22e-01 7.21e-02f  4\n",
      " 168  1.1338372e+00 0.00e+00 5.76e-01  -4.1 1.06e+00    -  7.92e-01 3.73e-04h 12\n",
      " 169  1.1338532e+00 0.00e+00 5.77e-01  -3.6 1.03e+00    -  1.00e+00 9.58e-05h 14\n",
      "iter    objective    inf_pr   inf_du lg(mu)  ||d||  lg(rg) alpha_du alpha_pr  ls\n",
      " 170  1.1338612e+00 0.00e+00 5.75e-01  -3.9 1.02e+00    -  1.00e+00 4.84e-05h 15\n",
      " 171  1.1338622e+00 0.00e+00 5.76e-01  -3.4 1.01e+00    -  1.00e+00 6.13e-06h 18\n",
      " 172  1.1338624e+00 0.00e+00 2.15e-01  -2.9 3.67e+00    -  1.00e+00 4.54e-07h 21\n",
      " 173  1.1338625e+00 0.00e+00 5.76e-01  -2.9 7.49e-01    -  8.82e-01 9.54e-07h 21\n",
      " 174  1.1338625e+00 0.00e+00 3.62e-01  -2.9 3.99e+00    -  4.26e-01 1.41e-07h 23\n",
      " 175  1.1338625e+00 0.00e+00 5.77e-01  -2.9 8.79e-01    -  7.78e-01 2.77e-08h 26\n",
      " 176  1.1338625e+00 0.00e+00 4.19e-01  -2.9 1.11e+01    -  1.54e-01 1.58e-09h 28\n",
      " 177  1.1338625e+00 0.00e+00 5.77e-01  -2.9 8.37e-01    -  7.19e-01 7.27e-09h 28\n",
      " 178  1.1338625e+00 0.00e+00 4.19e-01  -2.9 1.33e+01    -  1.29e-01 8.26e-11h 32\n",
      " 179r 1.1338625e+00 0.00e+00 9.99e+02  -2.4 0.00e+00    -  0.00e+00 1.46e-11R 37\n",
      "iter    objective    inf_pr   inf_du lg(mu)  ||d||  lg(rg) alpha_du alpha_pr  ls\n",
      " 180r 1.1337778e+00 0.00e+00 6.35e+02  -0.3 3.89e+00    -  2.51e-02 1.14e-03f  1\n",
      " 181  1.1338979e+00 0.00e+00 1.53e-01  -3.5 7.90e-01    -  9.89e-01 9.77e-04h 11\n",
      " 182  1.1339593e+00 0.00e+00 1.52e-01  -4.1 9.51e-01    -  1.00e+00 4.16e-04h 12\n",
      " 183  1.1339669e+00 0.00e+00 1.52e-01  -4.6 9.47e-01    -  1.00e+00 5.22e-05h 15\n",
      " 184  1.1339708e+00 0.00e+00 1.52e-01  -5.4 9.44e-01    -  1.00e+00 2.61e-05h 16\n",
      " 185  1.1339708e+00 0.00e+00 1.51e-01  -5.3 9.41e-01    -  1.00e+00 1.02e-07h 24\n",
      " 186  1.1339708e+00 0.00e+00 1.50e-01  -3.3 9.28e-01    -  1.00e+00 6.56e-09h 28\n",
      " 187  1.1339708e+00 0.00e+00 1.49e-01  -3.3 9.21e-01    -  1.00e+00 3.30e-09h 29\n",
      " 188  1.1339708e+00 0.00e+00 1.47e-01  -3.3 9.13e-01    -  1.00e+00 1.67e-09h 30\n",
      " 189  1.1339708e+00 0.00e+00 1.46e-01  -3.3 9.04e-01    -  1.00e+00 8.42e-10h 31\n",
      "iter    objective    inf_pr   inf_du lg(mu)  ||d||  lg(rg) alpha_du alpha_pr  ls\n",
      " 190  1.1339708e+00 0.00e+00 1.45e-01  -3.3 8.95e-01    -  1.00e+00 4.25e-10h 32\n",
      " 191  1.1339708e+00 0.00e+00 1.43e-01  -3.3 8.86e-01    -  1.00e+00 2.15e-10h 33\n",
      " 192  1.1339708e+00 0.00e+00 1.42e-01  -3.3 8.76e-01    -  1.00e+00 1.36e-11h 37\n",
      " 193  1.1339708e+00 0.00e+00 1.40e-01  -3.3 8.67e-01    -  1.00e+00 3.43e-12h 39\n",
      " 194r 1.1339708e+00 0.00e+00 9.88e+02  -3.3 0.00e+00    -  0.00e+00 1.08e-13R 44\n",
      " 195r 1.1339706e+00 0.00e+00 2.48e-04  -3.9 3.57e-03    -  1.00e+00 1.20e-02f  1\n",
      " 196  1.1339706e+00 0.00e+00 1.53e-01  -3.9 8.39e-01    -  1.00e+00 5.75e-08h 25\n",
      " 197  1.1339706e+00 0.00e+00 1.53e-01  -3.7 9.60e-01    -  1.00e+00 1.27e-08h 27\n",
      " 198  1.1339706e+00 0.00e+00 1.53e-01  -3.7 9.55e-01    -  1.00e+00 3.19e-09h 29\n",
      " 199  1.1339706e+00 0.00e+00 1.52e-01  -3.7 9.52e-01    -  1.00e+00 2.00e-10h 33\n",
      "iter    objective    inf_pr   inf_du lg(mu)  ||d||  lg(rg) alpha_du alpha_pr  ls\n",
      " 200  1.1339706e+00 0.00e+00 1.52e-01  -3.7 9.48e-01    -  1.00e+00 1.00e-10h 34\n",
      " 201  1.1339706e+00 0.00e+00 1.51e-01  -3.7 9.44e-01    -  1.00e+00 3.15e-12h 39\n",
      " 202  1.1339706e+00 0.00e+00 1.50e-01  -3.7 9.40e-01    -  1.00e+00 1.58e-12h 40\n",
      " 203  1.1339706e+00 0.00e+00 1.49e-01  -3.7 9.34e-01    -  1.00e+00 7.95e-13h 41\n",
      " 204  1.1339706e+00 0.00e+00 1.49e-01  -3.7 9.29e-01    -  1.00e+00 4.00e-13h 42\n",
      " 205  1.1339706e+00 0.00e+00 1.48e-01  -3.7 9.22e-01    -  1.00e+00 1.01e-13h 44\n",
      " 206  1.1339706e+00 0.00e+00 1.47e-01  -3.7 9.17e-01    -  1.00e+00 2.53e-14h 46\n",
      " 207  5.3919888e-01 2.81e-01 1.96e-01  -3.7 9.10e-01    -  1.00e+00 8.98e-01w  1\n",
      " 208  5.3942515e-01 2.81e-01 1.16e+00  -3.7 2.95e-01    -  1.00e+00 2.22e-02w  1\n",
      " 209  1.1980944e+00 4.64e-01 3.72e-01  -3.7 1.99e+00    -  1.00e+00 8.52e-01f  1\n",
      "iter    objective    inf_pr   inf_du lg(mu)  ||d||  lg(rg) alpha_du alpha_pr  ls\n",
      " 210  7.9518807e-01 4.62e-01 1.81e-01  -3.1 3.00e+00    -  6.50e-01 1.00e+00h  1\n",
      " 211  1.8916688e-01 3.38e-02 8.14e-01  -1.1 4.85e+00    -  1.00e+00 7.76e-01h  1\n",
      " 212  2.7674385e-01 0.00e+00 1.26e+00  -1.1 1.22e+00    -  5.20e-01 4.23e-01h  1\n",
      " 213  3.3088576e-01 0.00e+00 2.61e+00  -1.1 1.62e-01    -  7.30e-01 1.00e+00f  1\n",
      " 214  5.0251944e-01 0.00e+00 4.65e-01  -1.1 4.66e-01    -  1.00e+00 1.00e+00f  1\n",
      " 215  5.9883209e-01 0.00e+00 3.21e-01  -1.8 2.86e-01    -  7.99e-01 1.00e+00f  1\n",
      " 216  7.1240821e-01 4.04e-01 2.60e-01  -1.8 8.58e+00    -  4.88e-01 3.42e-01F  1\n",
      " 217  5.9343232e-01 3.20e-01 4.24e-01  -1.8 2.26e+00    -  3.67e-01 2.59e-01h  1\n",
      " 218  9.7179443e-01 3.36e-01 3.82e-01  -1.8 2.26e+00    -  1.00e+00 8.67e-01h  1\n",
      " 219  9.4323228e-01 0.00e+00 9.56e-01  -1.8 1.90e+00    -  4.29e-02 1.00e+00f  1\n",
      "iter    objective    inf_pr   inf_du lg(mu)  ||d||  lg(rg) alpha_du alpha_pr  ls\n",
      " 220  1.0830106e+00 0.00e+00 1.68e-01  -1.8 6.21e-01    -  9.74e-01 1.00e+00h  1\n",
      " 221  1.1107847e+00 0.00e+00 1.27e-01  -1.8 4.09e+00    -  4.28e-01 7.23e-02f  4\n",
      " 222  1.1133785e+00 0.00e+00 1.15e-01  -2.7 1.09e+00    -  8.25e-01 1.38e-02h  7\n",
      " 223  1.1136573e+00 0.00e+00 1.21e-01  -2.7 8.26e-01    -  1.00e+00 1.95e-03h 10\n",
      " 224  1.1137997e+00 0.00e+00 1.25e-01  -2.7 8.45e-01    -  1.00e+00 9.77e-04h 11\n",
      " 225  1.1138360e+00 0.00e+00 1.27e-01  -2.7 8.62e-01    -  1.00e+00 2.44e-04h 13\n",
      " 226  1.1138452e+00 0.00e+00 1.29e-01  -2.7 8.74e-01    -  1.00e+00 6.10e-05h 15\n",
      " 227  1.1138498e+00 0.00e+00 1.31e-01  -2.7 8.82e-01    -  1.00e+00 3.05e-05h 16\n",
      " 228  1.1138510e+00 0.00e+00 1.32e-01  -2.7 8.89e-01    -  1.00e+00 7.63e-06h 18\n",
      " 229  1.1138513e+00 0.00e+00 1.32e-01  -2.7 8.93e-01    -  1.00e+00 1.91e-06h 20\n",
      "iter    objective    inf_pr   inf_du lg(mu)  ||d||  lg(rg) alpha_du alpha_pr  ls\n",
      " 230  1.1138514e+00 0.00e+00 1.33e-01  -2.7 8.96e-01    -  1.00e+00 9.54e-07h 21\n",
      " 231  1.1138515e+00 0.00e+00 1.33e-01  -2.7 8.99e-01    -  1.00e+00 4.77e-07h 22\n",
      " 232  5.9891656e-01 3.23e-01 1.97e-01  -2.7 9.01e-01    -  1.00e+00 1.00e+00w  1\n",
      " 233  6.1751963e-01 3.37e-01 1.94e-01  -2.7 4.86e-01    -  1.00e+00 1.92e-01w  1\n",
      " 234  1.1935506e+00 4.55e-01 3.65e-01  -2.7 2.41e+00    -  6.99e-01 8.56e-01f  1\n",
      " 235  6.5585206e-01 3.64e-01 5.61e-02  -2.5 2.26e+00    -  1.00e+00 1.00e+00h  1\n",
      " 236  1.1348473e+00 4.18e-01 7.77e-01  -2.0 2.57e+00    -  1.00e+00 8.82e-01h  1\n",
      " 237  5.8258933e-01 1.00e-01 2.08e+00  -2.0 2.40e+00    -  5.17e-02 1.00e+00h  1\n",
      " 238  9.5136617e-01 0.00e+00 2.45e-01  -2.0 1.05e+00    -  1.00e+00 1.00e+00f  1\n",
      " 239  1.0509626e+00 0.00e+00 2.92e-01  -2.0 1.98e+00    -  4.10e-01 2.11e-01f  3\n",
      "iter    objective    inf_pr   inf_du lg(mu)  ||d||  lg(rg) alpha_du alpha_pr  ls\n",
      " 240  1.0843628e+00 0.00e+00 1.73e-01  -2.0 2.56e+00    -  5.26e-01 8.20e-02f  4\n",
      " 241  1.0974577e+00 0.00e+00 3.05e-01  -2.0 1.24e+00    -  8.11e-01 5.57e-02h  5\n",
      " 242  1.1033684e+00 0.00e+00 1.70e-01  -2.0 1.16e+00    -  1.00e+00 2.79e-02h  6\n",
      " 243  1.1037220e+00 0.00e+00 2.42e-01  -2.0 2.19e+00    -  1.00e+00 8.95e-04h 10\n",
      " 244  1.1038466e+00 0.00e+00 1.98e-01  -2.0 7.08e-01    -  1.00e+00 9.77e-04h 11\n",
      " 245  1.1038808e+00 0.00e+00 2.21e-01  -2.0 7.77e-01    -  1.00e+00 2.44e-04h 13\n",
      " 246  1.1038853e+00 0.00e+00 2.12e-01  -2.0 8.15e-01    -  1.00e+00 3.05e-05h 16\n",
      " 247  1.1038854e+00 0.00e+00 2.19e-01  -2.0 8.36e-01    -  1.00e+00 9.54e-07h 21\n",
      " 248  1.1038855e+00 0.00e+00 2.17e-01  -2.0 8.48e-01    -  1.00e+00 4.77e-07h 22\n",
      " 249  5.6283251e-01 2.98e-01 1.95e-01  -2.0 8.60e-01    -  1.00e+00 1.00e+00w  1\n",
      "iter    objective    inf_pr   inf_du lg(mu)  ||d||  lg(rg) alpha_du alpha_pr  ls\n",
      " 250  5.8424195e-01 3.13e-01 1.86e-01  -2.0 4.95e-01    -  1.00e+00 2.90e-01w  1\n",
      " 251  1.1488391e+00 4.27e-01 3.72e-01  -2.0 2.47e+00    -  7.66e-01 7.71e-01w  1\n",
      " 252r 1.1038855e+00 0.00e+00 9.99e+02  -1.6 0.00e+00    -  0.00e+00 4.77e-07R 21\n",
      " 253r 1.1036413e+00 0.00e+00 1.26e+00   0.3 2.36e+01    -  1.00e+00 1.08e-03f  1\n",
      " 254  1.1038179e+00 0.00e+00 1.65e-01  -2.0 1.64e+00    -  5.49e-01 5.95e-04h 11\n",
      " 255  1.1039061e+00 0.00e+00 1.55e-01  -2.0 1.10e+00    -  1.00e+00 4.46e-04h 12\n",
      " 256  1.1039498e+00 0.00e+00 1.46e-01  -2.0 9.93e-01    -  1.00e+00 2.44e-04h 13\n",
      " 257  1.1039552e+00 0.00e+00 1.38e-01  -2.0 9.77e-01    -  1.00e+00 3.05e-05h 16\n",
      " 258  1.1039577e+00 0.00e+00 1.33e-01  -2.0 9.19e-01    -  1.00e+00 1.53e-05h 17\n",
      " 259  1.1039579e+00 0.00e+00 1.29e-01  -2.0 9.08e-01    -  1.00e+00 9.54e-07h 21\n",
      "iter    objective    inf_pr   inf_du lg(mu)  ||d||  lg(rg) alpha_du alpha_pr  ls\n",
      " 260  1.1039580e+00 0.00e+00 1.26e-01  -2.0 8.80e-01    -  1.00e+00 4.77e-07h 22\n",
      " 261  1.1039580e+00 0.00e+00 1.25e-01  -2.0 8.77e-01    -  1.00e+00 5.96e-08h 25\n",
      " 262  1.1039580e+00 0.00e+00 1.24e-01  -2.0 8.64e-01    -  1.00e+00 3.73e-09h 29\n",
      " 263  1.1039580e+00 0.00e+00 1.23e-01  -2.0 8.64e-01    -  1.00e+00 1.86e-09h 30\n",
      " 264  5.3920056e-01 2.81e-01 1.94e-01  -2.0 8.58e-01    -  1.00e+00 1.00e+00w  1\n",
      " 265  5.6611262e-01 3.00e-01 1.85e-01  -2.0 5.12e-01    -  1.00e+00 3.38e-01w  1\n",
      " 266  1.1431324e+00 4.24e-01 3.72e-01  -2.0 2.37e+00    -  8.32e-01 7.67e-01w  1\n",
      " 267r 1.1039580e+00 0.00e+00 9.62e+02  -2.0 0.00e+00    -  0.00e+00 4.77e-07R 21\n",
      " 268r 1.1039552e+00 0.00e+00 7.31e-04  -3.2 6.74e-03    -  1.00e+00 3.72e-02f  1\n",
      " 269  1.1039607e+00 0.00e+00 1.63e-01  -2.0 2.12e+00    -  5.31e-01 1.44e-05f 16\n",
      "iter    objective    inf_pr   inf_du lg(mu)  ||d||  lg(rg) alpha_du alpha_pr  ls\n",
      " 270  1.1039614e+00 0.00e+00 1.53e-01  -2.0 1.08e+00    -  1.00e+00 3.52e-06h 19\n",
      " 271  1.1039616e+00 0.00e+00 1.44e-01  -2.0 9.88e-01    -  1.00e+00 9.54e-07h 21\n",
      " 272  1.1039616e+00 0.00e+00 1.36e-01  -2.0 9.66e-01    -  1.00e+00 1.19e-07h 24\n",
      " 273  1.1039616e+00 0.00e+00 1.32e-01  -2.0 9.14e-01    -  1.00e+00 1.86e-09h 30\n",
      " 274  1.1039616e+00 0.00e+00 1.28e-01  -2.0 9.02e-01    -  1.00e+00 4.66e-10h 32\n",
      " 275  1.1039616e+00 0.00e+00 1.26e-01  -2.0 8.78e-01    -  1.00e+00 2.33e-10h 33\n",
      " 276  1.1039616e+00 0.00e+00 1.24e-01  -2.0 8.74e-01    -  1.00e+00 1.16e-10h 34\n",
      " 277  1.1039616e+00 0.00e+00 1.23e-01  -2.0 8.64e-01    -  1.00e+00 2.91e-11h 36\n",
      " 278  1.1039616e+00 0.00e+00 1.23e-01  -2.0 8.63e-01    -  1.00e+00 7.28e-12h 38\n",
      " 279  5.3904725e-01 2.81e-01 1.94e-01  -2.0 8.58e-01    -  1.00e+00 1.00e+00w  1\n",
      "iter    objective    inf_pr   inf_du lg(mu)  ||d||  lg(rg) alpha_du alpha_pr  ls\n",
      " 280  5.6588427e-01 3.00e-01 1.85e-01  -2.0 5.12e-01    -  1.00e+00 3.38e-01w  1\n",
      " 281  1.1429043e+00 4.24e-01 3.72e-01  -2.0 2.37e+00    -  8.33e-01 7.68e-01w  1\n",
      " 282r 1.1039616e+00 0.00e+00 1.16e+02  -2.0 0.00e+00    -  0.00e+00 4.77e-07R 21\n",
      " 283r 1.1038924e+00 0.00e+00 1.65e-03  -3.2 1.69e-03    -  1.00e+00 9.35e-01f  1\n",
      " 284  1.1040685e+00 0.00e+00 1.63e-01  -2.0 2.14e+00    -  5.31e-01 4.57e-04f 11\n",
      " 285  1.1041125e+00 0.00e+00 1.52e-01  -2.0 1.08e+00    -  1.00e+00 2.25e-04f 13\n",
      " 286  1.1041342e+00 0.00e+00 1.44e-01  -2.0 9.87e-01    -  1.00e+00 1.22e-04f 14\n",
      " 287  1.1041448e+00 0.00e+00 1.36e-01  -2.0 9.65e-01    -  1.00e+00 6.10e-05f 15\n",
      " 288  1.1041473e+00 0.00e+00 1.31e-01  -2.0 9.13e-01    -  1.00e+00 1.53e-05h 17\n",
      " 289  1.1041485e+00 0.00e+00 1.28e-01  -2.0 9.01e-01    -  1.00e+00 7.63e-06h 18\n",
      "iter    objective    inf_pr   inf_du lg(mu)  ||d||  lg(rg) alpha_du alpha_pr  ls\n",
      " 290  1.1041491e+00 0.00e+00 1.26e-01  -2.0 8.77e-01    -  1.00e+00 3.81e-06h 19\n",
      " 291  1.1041494e+00 0.00e+00 1.24e-01  -2.0 8.73e-01    -  1.00e+00 1.91e-06h 20\n",
      " 292  1.1041496e+00 0.00e+00 1.23e-01  -2.0 8.62e-01    -  1.00e+00 9.54e-07h 21\n",
      " 293  1.1041497e+00 0.00e+00 1.23e-01  -2.0 8.62e-01    -  1.00e+00 4.77e-07h 22\n",
      " 294  5.3868946e-01 2.81e-01 1.94e-01  -2.0 8.57e-01    -  1.00e+00 1.00e+00w  1\n",
      " 295  5.6558936e-01 3.00e-01 1.85e-01  -2.0 5.13e-01    -  1.00e+00 3.39e-01w  1\n",
      " 296  1.1428951e+00 4.24e-01 3.72e-01  -2.0 2.37e+00    -  8.34e-01 7.67e-01w  1\n",
      " 297r 1.1041497e+00 0.00e+00 9.55e+01  -2.0 0.00e+00    -  0.00e+00 4.77e-07R 21\n",
      " 298r 1.1040787e+00 0.00e+00 1.63e-03  -3.2 1.68e-03    -  1.00e+00 9.58e-01f  1\n",
      " 299  1.1042545e+00 0.00e+00 1.62e-01  -2.0 2.14e+00    -  5.32e-01 4.57e-04f 11\n",
      "iter    objective    inf_pr   inf_du lg(mu)  ||d||  lg(rg) alpha_du alpha_pr  ls\n",
      " 300  1.1043422e+00 0.00e+00 1.52e-01  -2.0 1.08e+00    -  1.00e+00 4.51e-04f 12\n",
      " 301  1.1043429e+00 0.00e+00 1.44e-01  -2.0 9.85e-01    -  1.00e+00 3.81e-06h 19\n",
      " 302  1.1043429e+00 0.00e+00 1.36e-01  -2.0 9.63e-01    -  1.00e+00 1.19e-07h 24\n",
      " 303  1.1043429e+00 0.00e+00 1.31e-01  -2.0 9.12e-01    -  1.00e+00 5.96e-08h 25\n",
      " 304  1.1043430e+00 0.00e+00 1.28e-01  -2.0 8.99e-01    -  1.00e+00 1.49e-08h 27\n",
      " 305  1.1043430e+00 0.00e+00 1.26e-01  -2.0 8.76e-01    -  1.00e+00 3.73e-09h 29\n",
      " 306  1.1043430e+00 0.00e+00 1.24e-01  -2.0 8.71e-01    -  1.00e+00 1.86e-09h 30\n",
      " 307  1.1043430e+00 0.00e+00 1.23e-01  -2.0 8.61e-01    -  1.00e+00 4.66e-10h 32\n",
      " 308  1.1043430e+00 0.00e+00 1.23e-01  -2.0 8.60e-01    -  1.00e+00 2.33e-10h 33\n",
      " 309  5.3831898e-01 2.81e-01 1.94e-01  -2.0 8.56e-01    -  1.00e+00 1.00e+00w  1\n",
      "iter    objective    inf_pr   inf_du lg(mu)  ||d||  lg(rg) alpha_du alpha_pr  ls\n",
      " 310  5.6528744e-01 3.00e-01 1.85e-01  -2.0 5.13e-01    -  1.00e+00 3.40e-01w  1\n",
      " 311  1.1428931e+00 4.24e-01 3.72e-01  -2.0 2.37e+00    -  8.35e-01 7.67e-01w  1\n",
      " 312r 1.1043430e+00 0.00e+00 8.32e+01  -2.0 0.00e+00    -  0.00e+00 4.77e-07R 21\n",
      " 313r 1.1042709e+00 0.00e+00 1.62e-03  -3.2 1.67e-03    -  1.00e+00 9.71e-01f  1\n",
      " 314  1.1044464e+00 0.00e+00 1.62e-01  -2.0 2.14e+00    -  5.33e-01 4.56e-04f 11\n",
      " 315  1.1045339e+00 0.00e+00 1.52e-01  -2.0 1.08e+00    -  1.00e+00 4.51e-04f 12\n",
      " 316  1.1045366e+00 0.00e+00 1.43e-01  -2.0 9.84e-01    -  1.00e+00 1.53e-05h 17\n",
      " 317  1.1045373e+00 0.00e+00 1.36e-01  -2.0 9.61e-01    -  1.00e+00 3.81e-06h 19\n",
      " 318  1.1045376e+00 0.00e+00 1.31e-01  -2.0 9.10e-01    -  1.00e+00 1.91e-06h 20\n",
      " 319  1.1045377e+00 0.00e+00 1.27e-01  -2.0 8.98e-01    -  1.00e+00 2.38e-07h 23\n",
      "iter    objective    inf_pr   inf_du lg(mu)  ||d||  lg(rg) alpha_du alpha_pr  ls\n",
      " 320  1.1045377e+00 0.00e+00 1.25e-01  -2.0 8.74e-01    -  1.00e+00 1.19e-07h 24\n",
      " 321  1.1045377e+00 0.00e+00 1.24e-01  -2.0 8.70e-01    -  1.00e+00 2.98e-08h 26\n",
      " 322  1.1045377e+00 0.00e+00 1.23e-01  -2.0 8.60e-01    -  1.00e+00 7.45e-09h 28\n",
      " 323  1.1045377e+00 0.00e+00 1.22e-01  -2.0 8.59e-01    -  1.00e+00 1.86e-09h 30\n",
      " 324  5.3794801e-01 2.80e-01 1.94e-01  -2.0 8.55e-01    -  1.00e+00 1.00e+00w  1\n",
      " 325  5.6498479e-01 3.00e-01 1.85e-01  -2.0 5.13e-01    -  1.00e+00 3.41e-01w  1\n",
      " 326  1.1428911e+00 4.24e-01 3.72e-01  -2.0 2.37e+00    -  8.36e-01 7.67e-01w  1\n",
      " 327r 1.1045377e+00 0.00e+00 7.32e+01  -2.0 0.00e+00    -  0.00e+00 4.77e-07R 21\n",
      " 328r 1.1044648e+00 0.00e+00 1.61e-03  -3.2 1.66e-03    -  1.00e+00 9.83e-01f  1\n",
      " 329r 1.1045601e+00 0.00e+00 3.95e-06  -9.0 5.38e-04    -  9.99e-01 9.99e-01f  1\n",
      "iter    objective    inf_pr   inf_du lg(mu)  ||d||  lg(rg) alpha_du alpha_pr  ls\n",
      " 330  1.1046476e+00 0.00e+00 1.59e-01  -2.0 2.07e+00    -  6.69e-01 2.35e-04f 12\n",
      " 331  1.1046483e+00 0.00e+00 1.50e-01  -2.0 1.06e+00    -  1.00e+00 3.57e-06f 19\n",
      " 332  1.1046486e+00 0.00e+00 1.41e-01  -2.0 9.87e-01    -  1.00e+00 1.91e-06f 20\n",
      " 333  1.1046486e+00 0.00e+00 1.34e-01  -2.0 9.52e-01    -  1.00e+00 5.96e-08h 25\n",
      " 334  1.1046486e+00 0.00e+00 1.29e-01  -2.0 9.08e-01    -  1.00e+00 2.98e-08h 26\n",
      " 335  1.1046486e+00 0.00e+00 1.26e-01  -2.0 8.94e-01    -  1.00e+00 3.73e-09h 29\n",
      " 336  1.1046486e+00 0.00e+00 1.24e-01  -2.0 8.73e-01    -  1.00e+00 1.86e-09h 30\n",
      " 337  1.1046486e+00 0.00e+00 1.23e-01  -2.0 8.69e-01    -  1.00e+00 9.31e-10h 31\n",
      " 338  1.1046486e+00 0.00e+00 1.22e-01  -2.0 8.59e-01    -  1.00e+00 1.46e-11h 37\n",
      " 339  1.1046486e+00 0.00e+00 1.22e-01  -2.0 8.60e-01    -  1.00e+00 3.64e-12h 39\n",
      "iter    objective    inf_pr   inf_du lg(mu)  ||d||  lg(rg) alpha_du alpha_pr  ls\n",
      " 340  5.3146357e-01 2.76e-01 1.95e-01  -2.0 8.55e-01    -  1.00e+00 1.00e+00w  1\n",
      " 341  5.6073305e-01 2.96e-01 1.86e-01  -2.0 5.19e-01    -  1.00e+00 3.53e-01w  1\n",
      " 342  1.1419732e+00 4.23e-01 3.69e-01  -2.0 2.37e+00    -  8.41e-01 7.56e-01w  1\n",
      " 343r 1.1046486e+00 0.00e+00 6.42e-01  -2.0 0.00e+00    -  0.00e+00 4.77e-07R 21\n",
      " 344r 1.1045738e+00 0.00e+00 1.62e-03  -3.2 1.67e-03    -  1.00e+00 1.00e+00f  1\n",
      " 345r 1.1046716e+00 0.00e+00 4.01e-06  -9.0 5.51e-04    -  9.99e-01 9.99e-01f  1\n",
      " 346r 1.1046197e+00 0.00e+00 4.76e-09  -9.0 2.89e-04    -  1.00e+00 1.00e+00h  1\n",
      " 347  1.1047071e+00 0.00e+00 1.59e-01  -2.0 2.11e+00    -  6.68e-01 2.30e-04f 12\n",
      " 348  1.1047508e+00 0.00e+00 1.49e-01  -2.0 1.06e+00    -  1.00e+00 2.29e-04f 13\n",
      " 349  1.1047616e+00 0.00e+00 1.41e-01  -2.0 9.86e-01    -  1.00e+00 6.10e-05f 15\n",
      "iter    objective    inf_pr   inf_du lg(mu)  ||d||  lg(rg) alpha_du alpha_pr  ls\n",
      " 350  1.1047629e+00 0.00e+00 1.34e-01  -2.0 9.50e-01    -  1.00e+00 7.63e-06f 18\n",
      " 351  1.1047635e+00 0.00e+00 1.29e-01  -2.0 9.07e-01    -  1.00e+00 3.81e-06f 19\n",
      " 352  1.1047638e+00 0.00e+00 1.26e-01  -2.0 8.93e-01    -  1.00e+00 1.91e-06f 20\n",
      " 353  1.1047639e+00 0.00e+00 1.24e-01  -2.0 8.72e-01    -  1.00e+00 9.54e-07f 21\n",
      " 354  1.1047640e+00 0.00e+00 1.23e-01  -2.0 8.68e-01    -  1.00e+00 4.77e-07f 22\n",
      " 355  1.1047641e+00 0.00e+00 1.22e-01  -2.0 8.59e-01    -  1.00e+00 2.38e-07f 23\n",
      " 356  1.1047641e+00 0.00e+00 1.22e-01  -2.0 8.59e-01    -  1.00e+00 5.96e-08f 25\n",
      " 357  5.3122273e-01 2.76e-01 1.95e-01  -2.0 8.54e-01    -  1.00e+00 1.00e+00w  1\n",
      " 358  5.6051488e-01 2.96e-01 1.86e-01  -2.0 5.20e-01    -  1.00e+00 3.53e-01w  1\n",
      " 359  1.1419207e+00 4.23e-01 3.69e-01  -2.0 2.37e+00    -  8.42e-01 7.56e-01w  1\n",
      "iter    objective    inf_pr   inf_du lg(mu)  ||d||  lg(rg) alpha_du alpha_pr  ls\n",
      " 360r 1.1047641e+00 0.00e+00 3.03e-01  -2.0 0.00e+00    -  0.00e+00 4.77e-07R 21\n",
      " 361r 1.1047036e+00 0.00e+00 1.24e-03  -3.3 1.34e-03    -  9.99e-01 1.00e+00f  1\n",
      " 362r 1.1047827e+00 0.00e+00 2.59e-06  -9.0 4.56e-04    -  9.99e-01 1.00e+00f  1\n",
      " 363r 1.1047370e+00 0.00e+00 4.29e-09  -9.0 2.54e-04    -  1.00e+00 1.00e+00h  1\n",
      " 364  1.1048243e+00 0.00e+00 1.59e-01  -2.0 2.11e+00    -  6.68e-01 2.30e-04f 12\n",
      " 365  1.1048461e+00 0.00e+00 1.49e-01  -2.0 1.06e+00    -  1.00e+00 1.14e-04f 14\n",
      " 366  1.1048515e+00 0.00e+00 1.41e-01  -2.0 9.85e-01    -  1.00e+00 3.05e-05f 16\n",
      " 367  1.1048541e+00 0.00e+00 1.34e-01  -2.0 9.50e-01    -  1.00e+00 1.53e-05f 17\n",
      " 368  1.1048553e+00 0.00e+00 1.29e-01  -2.0 9.06e-01    -  1.00e+00 7.63e-06f 18\n",
      " 369  1.1048554e+00 0.00e+00 1.26e-01  -2.0 8.92e-01    -  1.00e+00 4.77e-07f 22\n",
      "iter    objective    inf_pr   inf_du lg(mu)  ||d||  lg(rg) alpha_du alpha_pr  ls\n",
      " 370  1.1048554e+00 0.00e+00 1.24e-01  -2.0 8.71e-01    -  1.00e+00 2.38e-07f 23\n",
      " 371  1.1048554e+00 0.00e+00 1.23e-01  -2.0 8.68e-01    -  1.00e+00 1.19e-07f 24\n",
      " 372  1.1048555e+00 0.00e+00 1.22e-01  -2.0 8.58e-01    -  1.00e+00 5.96e-08f 25\n",
      " 373  1.1048555e+00 0.00e+00 1.21e-01  -2.0 8.58e-01    -  1.00e+00 1.49e-08h 27\n",
      " 374  5.3104237e-01 2.76e-01 1.95e-01  -2.0 8.53e-01    -  1.00e+00 1.00e+00w  1\n",
      " 375  5.6036030e-01 2.96e-01 1.86e-01  -2.0 5.20e-01    -  1.00e+00 3.54e-01w  1\n",
      " 376  1.1419092e+00 4.23e-01 3.69e-01  -2.0 2.37e+00    -  8.43e-01 7.56e-01w  1\n",
      " 377r 1.1048555e+00 0.00e+00 2.41e-01  -2.0 0.00e+00    -  0.00e+00 4.77e-07R 21\n",
      " 378r 1.1047950e+00 0.00e+00 1.25e-03  -3.3 1.34e-03    -  9.99e-01 1.00e+00f  1\n",
      " 379r 1.1048740e+00 0.00e+00 2.59e-06  -9.0 4.54e-04    -  9.99e-01 9.99e-01f  1\n",
      "iter    objective    inf_pr   inf_du lg(mu)  ||d||  lg(rg) alpha_du alpha_pr  ls\n",
      " 380r 1.1048284e+00 0.00e+00 4.28e-09  -9.0 2.54e-04    -  1.00e+00 1.00e+00h  1\n",
      " 381  1.1049156e+00 0.00e+00 1.59e-01  -2.0 2.11e+00    -  6.69e-01 2.30e-04f 12\n",
      " 382  1.1049374e+00 0.00e+00 1.49e-01  -2.0 1.06e+00    -  1.00e+00 1.14e-04f 14\n",
      " 383  1.1049428e+00 0.00e+00 1.40e-01  -2.0 9.84e-01    -  1.00e+00 3.05e-05f 16\n",
      " 384  1.1049454e+00 0.00e+00 1.34e-01  -2.0 9.49e-01    -  1.00e+00 1.53e-05f 17\n",
      " 385  1.1049460e+00 0.00e+00 1.29e-01  -2.0 9.06e-01    -  1.00e+00 3.81e-06f 19\n",
      " 386  1.1049463e+00 0.00e+00 1.26e-01  -2.0 8.92e-01    -  1.00e+00 1.91e-06f 20\n",
      " 387  1.1049464e+00 0.00e+00 1.24e-01  -2.0 8.71e-01    -  1.00e+00 4.77e-07f 22\n",
      " 388  1.1049465e+00 0.00e+00 1.23e-01  -2.0 8.67e-01    -  1.00e+00 4.77e-07f 22\n",
      " 389  1.1049465e+00 0.00e+00 1.22e-01  -2.0 8.57e-01    -  1.00e+00 9.31e-10h 31\n",
      "iter    objective    inf_pr   inf_du lg(mu)  ||d||  lg(rg) alpha_du alpha_pr  ls\n",
      " 390  1.1049465e+00 0.00e+00 1.21e-01  -2.0 8.58e-01    -  1.00e+00 4.66e-10h 32\n",
      " 391  5.3086343e-01 2.75e-01 1.95e-01  -2.0 8.53e-01    -  1.00e+00 1.00e+00w  1\n",
      " 392  5.6020693e-01 2.96e-01 1.86e-01  -2.0 5.20e-01    -  1.00e+00 3.54e-01w  1\n",
      " 393  1.1418982e+00 4.23e-01 3.69e-01  -2.0 2.37e+00    -  8.43e-01 7.55e-01w  1\n",
      " 394r 1.1049465e+00 0.00e+00 2.41e-01  -2.0 0.00e+00    -  0.00e+00 4.77e-07R 21\n",
      " 395r 1.1048860e+00 0.00e+00 1.25e-03  -3.3 1.34e-03    -  9.99e-01 1.00e+00f  1\n",
      " 396r 1.1049651e+00 0.00e+00 2.57e-06  -9.0 4.53e-04    -  9.99e-01 9.99e-01f  1\n",
      " 397r 1.1049194e+00 0.00e+00 4.30e-09  -9.0 2.54e-04    -  1.00e+00 1.00e+00h  1\n",
      " 398  1.1050065e+00 0.00e+00 1.59e-01  -2.0 2.11e+00    -  6.69e-01 2.30e-04f 12\n",
      " 399  1.1050283e+00 0.00e+00 1.49e-01  -2.0 1.06e+00    -  1.00e+00 1.15e-04f 14\n",
      "iter    objective    inf_pr   inf_du lg(mu)  ||d||  lg(rg) alpha_du alpha_pr  ls\n",
      " 400  1.1050337e+00 0.00e+00 1.40e-01  -2.0 9.83e-01    -  1.00e+00 3.05e-05f 16\n",
      " 401  1.1050363e+00 0.00e+00 1.33e-01  -2.0 9.48e-01    -  1.00e+00 1.53e-05f 17\n",
      " 402  1.1050369e+00 0.00e+00 1.29e-01  -2.0 9.05e-01    -  1.00e+00 3.81e-06f 19\n",
      " 403  1.1050370e+00 0.00e+00 1.26e-01  -2.0 8.91e-01    -  1.00e+00 9.54e-07f 21\n",
      " 404  1.1050371e+00 0.00e+00 1.24e-01  -2.0 8.70e-01    -  1.00e+00 4.77e-07f 22\n",
      " 405  1.1050372e+00 0.00e+00 1.22e-01  -2.0 8.67e-01    -  1.00e+00 2.38e-07f 23\n",
      " 406  1.1050372e+00 0.00e+00 1.22e-01  -2.0 8.57e-01    -  1.00e+00 5.96e-08f 25\n",
      " 407  1.1050372e+00 0.00e+00 1.21e-01  -2.0 8.57e-01    -  1.00e+00 2.98e-08h 26\n",
      " 408  5.3068532e-01 2.75e-01 1.95e-01  -2.0 8.52e-01    -  1.00e+00 1.00e+00w  1\n",
      " 409  5.6005440e-01 2.96e-01 1.86e-01  -2.0 5.20e-01    -  1.00e+00 3.55e-01w  1\n",
      "iter    objective    inf_pr   inf_du lg(mu)  ||d||  lg(rg) alpha_du alpha_pr  ls\n",
      " 410  1.1418874e+00 4.23e-01 3.69e-01  -2.0 2.37e+00    -  8.44e-01 7.55e-01w  1\n",
      " 411r 1.1050372e+00 0.00e+00 2.41e-01  -2.0 0.00e+00    -  0.00e+00 4.77e-07R 21\n",
      " 412r 1.1049767e+00 0.00e+00 1.24e-03  -3.3 1.33e-03    -  9.99e-01 1.00e+00f  1\n",
      " 413r 1.1050557e+00 0.00e+00 2.55e-06  -9.0 4.52e-04    -  9.99e-01 1.00e+00f  1\n",
      " 414r 1.1050100e+00 0.00e+00 4.31e-09  -9.0 2.55e-04    -  1.00e+00 1.00e+00h  1\n",
      " 415  1.1050970e+00 0.00e+00 1.59e-01  -2.0 2.11e+00    -  6.70e-01 2.30e-04f 12\n",
      " 416  1.1051188e+00 0.00e+00 1.49e-01  -2.0 1.06e+00    -  1.00e+00 1.15e-04f 14\n",
      " 417  1.1051242e+00 0.00e+00 1.40e-01  -2.0 9.82e-01    -  1.00e+00 3.05e-05f 16\n",
      " 418  1.1051267e+00 0.00e+00 1.33e-01  -2.0 9.47e-01    -  1.00e+00 1.53e-05f 17\n",
      " 419  1.1051274e+00 0.00e+00 1.29e-01  -2.0 9.04e-01    -  1.00e+00 3.81e-06f 19\n",
      "iter    objective    inf_pr   inf_du lg(mu)  ||d||  lg(rg) alpha_du alpha_pr  ls\n",
      " 420  1.1051274e+00 0.00e+00 1.26e-01  -2.0 8.90e-01    -  1.00e+00 4.77e-07f 22\n",
      " 421  1.1051275e+00 0.00e+00 1.24e-01  -2.0 8.70e-01    -  1.00e+00 2.38e-07f 23\n",
      " 422  1.1051275e+00 0.00e+00 1.22e-01  -2.0 8.66e-01    -  1.00e+00 7.45e-09h 28\n",
      " 423  1.1051275e+00 0.00e+00 1.22e-01  -2.0 8.56e-01    -  1.00e+00 9.31e-10h 31\n",
      " 424  1.1051275e+00 0.00e+00 1.21e-01  -2.0 8.57e-01    -  1.00e+00 5.82e-11h 35\n",
      " 425  5.3050698e-01 2.75e-01 1.95e-01  -2.0 8.52e-01    -  1.00e+00 1.00e+00w  1\n",
      " 426  5.5990204e-01 2.96e-01 1.86e-01  -2.0 5.20e-01    -  1.00e+00 3.55e-01w  1\n",
      " 427  1.1418774e+00 4.23e-01 3.69e-01  -2.0 2.37e+00    -  8.44e-01 7.55e-01w  1\n",
      " 428r 1.1051275e+00 0.00e+00 2.41e-01  -2.0 0.00e+00    -  0.00e+00 4.77e-07R 21\n",
      " 429r 1.1050670e+00 0.00e+00 1.24e-03  -3.3 1.33e-03    -  9.99e-01 1.00e+00f  1\n",
      "iter    objective    inf_pr   inf_du lg(mu)  ||d||  lg(rg) alpha_du alpha_pr  ls\n",
      " 430r 1.1051461e+00 0.00e+00 2.53e-06  -9.0 4.50e-04    -  9.99e-01 1.00e+00f  1\n",
      " 431r 1.1051002e+00 0.00e+00 4.33e-09  -9.0 2.55e-04    -  1.00e+00 1.00e+00h  1\n",
      " 432  1.1051872e+00 0.00e+00 1.59e-01  -2.0 2.11e+00    -  6.70e-01 2.29e-04f 12\n",
      " 433  1.1052089e+00 0.00e+00 1.49e-01  -2.0 1.06e+00    -  1.00e+00 1.15e-04f 14\n",
      " 434  1.1052143e+00 0.00e+00 1.40e-01  -2.0 9.81e-01    -  1.00e+00 3.05e-05f 16\n",
      " 435  1.1052169e+00 0.00e+00 1.33e-01  -2.0 9.46e-01    -  1.00e+00 1.53e-05f 17\n",
      " 436  1.1052172e+00 0.00e+00 1.29e-01  -2.0 9.04e-01    -  1.00e+00 1.91e-06f 20\n",
      " 437  1.1052173e+00 0.00e+00 1.25e-01  -2.0 8.90e-01    -  1.00e+00 9.54e-07f 21\n",
      " 438  1.1052174e+00 0.00e+00 1.24e-01  -2.0 8.69e-01    -  1.00e+00 4.77e-07f 22\n",
      " 439  1.1052174e+00 0.00e+00 1.22e-01  -2.0 8.65e-01    -  1.00e+00 1.19e-07f 24\n",
      "iter    objective    inf_pr   inf_du lg(mu)  ||d||  lg(rg) alpha_du alpha_pr  ls\n",
      " 440  1.1052174e+00 0.00e+00 1.22e-01  -2.0 8.56e-01    -  1.00e+00 5.96e-08f 25\n",
      " 441  1.1052174e+00 0.00e+00 1.21e-01  -2.0 8.56e-01    -  1.00e+00 2.98e-08h 26\n",
      " 442  5.3033204e-01 2.75e-01 1.95e-01  -2.0 8.51e-01    -  1.00e+00 1.00e+00w  1\n",
      " 443  5.5975219e-01 2.96e-01 1.86e-01  -2.0 5.20e-01    -  1.00e+00 3.56e-01w  1\n",
      " 444  1.1418669e+00 4.23e-01 3.69e-01  -2.0 2.37e+00    -  8.45e-01 7.55e-01w  1\n",
      " 445r 1.1052174e+00 0.00e+00 2.41e-01  -2.0 0.00e+00    -  0.00e+00 4.77e-07R 21\n",
      " 446r 1.1051569e+00 0.00e+00 1.23e-03  -3.3 1.32e-03    -  9.99e-01 1.00e+00f  1\n",
      " 447r 1.1052360e+00 0.00e+00 2.51e-06  -9.0 4.49e-04    -  9.99e-01 1.00e+00f  1\n",
      " 448r 1.1051901e+00 0.00e+00 4.34e-09  -9.0 2.56e-04    -  1.00e+00 1.00e+00h  1\n",
      " 449  1.1052770e+00 0.00e+00 1.58e-01  -2.0 2.11e+00    -  6.70e-01 2.29e-04f 12\n",
      "iter    objective    inf_pr   inf_du lg(mu)  ||d||  lg(rg) alpha_du alpha_pr  ls\n",
      " 450  1.1052987e+00 0.00e+00 1.49e-01  -2.0 1.06e+00    -  1.00e+00 1.15e-04f 14\n",
      " 451  1.1053041e+00 0.00e+00 1.40e-01  -2.0 9.81e-01    -  1.00e+00 3.05e-05f 16\n",
      " 452  1.1053066e+00 0.00e+00 1.33e-01  -2.0 9.46e-01    -  1.00e+00 1.53e-05f 17\n",
      " 453  1.1053070e+00 0.00e+00 1.29e-01  -2.0 9.03e-01    -  1.00e+00 1.91e-06f 20\n",
      " 454  1.1053070e+00 0.00e+00 1.25e-01  -2.0 8.89e-01    -  1.00e+00 4.77e-07f 22\n",
      " 455  1.1053070e+00 0.00e+00 1.24e-01  -2.0 8.69e-01    -  1.00e+00 5.96e-08f 25\n",
      " 456  1.1053070e+00 0.00e+00 1.22e-01  -2.0 8.65e-01    -  1.00e+00 2.98e-08h 26\n",
      " 457  1.1053070e+00 0.00e+00 1.22e-01  -2.0 8.55e-01    -  1.00e+00 3.73e-09h 29\n",
      " 458  1.1053070e+00 0.00e+00 1.21e-01  -2.0 8.55e-01    -  1.00e+00 1.86e-09h 30\n",
      " 459  5.3015678e-01 2.75e-01 1.95e-01  -2.0 8.51e-01    -  1.00e+00 1.00e+00w  1\n",
      "iter    objective    inf_pr   inf_du lg(mu)  ||d||  lg(rg) alpha_du alpha_pr  ls\n",
      " 460  5.5960242e-01 2.96e-01 1.86e-01  -2.0 5.20e-01    -  1.00e+00 3.56e-01w  1\n",
      " 461  1.1418571e+00 4.23e-01 3.69e-01  -2.0 2.37e+00    -  8.46e-01 7.55e-01w  1\n",
      " 462r 1.1053070e+00 0.00e+00 2.41e-01  -2.0 0.00e+00    -  0.00e+00 4.77e-07R 21\n",
      " 463r 1.1052465e+00 0.00e+00 1.23e-03  -3.3 1.32e-03    -  9.99e-01 1.00e+00f  1\n",
      " 464r 1.1053256e+00 0.00e+00 2.50e-06  -9.0 4.47e-04    -  9.99e-01 1.00e+00f  1\n",
      " 465r 1.1052797e+00 0.00e+00 4.35e-09  -9.0 2.57e-04    -  1.00e+00 1.00e+00h  1\n",
      " 466  1.1053665e+00 0.00e+00 1.58e-01  -2.0 2.11e+00    -  6.71e-01 2.29e-04f 12\n",
      " 467  1.1053881e+00 0.00e+00 1.49e-01  -2.0 1.06e+00    -  1.00e+00 1.15e-04f 14\n",
      " 468  1.1053935e+00 0.00e+00 1.40e-01  -2.0 9.80e-01    -  1.00e+00 3.05e-05f 16\n",
      " 469  1.1053961e+00 0.00e+00 1.33e-01  -2.0 9.45e-01    -  1.00e+00 1.53e-05f 17\n",
      "iter    objective    inf_pr   inf_du lg(mu)  ||d||  lg(rg) alpha_du alpha_pr  ls\n",
      " 470  1.1053962e+00 0.00e+00 1.29e-01  -2.0 9.02e-01    -  1.00e+00 9.54e-07f 21\n",
      " 471  1.1053963e+00 0.00e+00 1.25e-01  -2.0 8.88e-01    -  1.00e+00 4.77e-07f 22\n",
      " 472  1.1053963e+00 0.00e+00 1.24e-01  -2.0 8.68e-01    -  1.00e+00 2.98e-08h 26\n",
      " 473  1.1053963e+00 0.00e+00 1.22e-01  -2.0 8.64e-01    -  1.00e+00 3.73e-09h 29\n",
      " 474  1.1053963e+00 0.00e+00 1.22e-01  -2.0 8.55e-01    -  1.00e+00 9.31e-10h 31\n",
      " 475  1.1053963e+00 0.00e+00 1.21e-01  -2.0 8.55e-01    -  1.00e+00 2.33e-10h 33\n",
      " 476  5.2998246e-01 2.75e-01 1.95e-01  -2.0 8.50e-01    -  1.00e+00 1.00e+00w  1\n",
      " 477  5.5945354e-01 2.96e-01 1.86e-01  -2.0 5.21e-01    -  1.00e+00 3.56e-01w  1\n",
      " 478  1.1418476e+00 4.23e-01 3.69e-01  -2.0 2.37e+00    -  8.46e-01 7.55e-01w  1\n",
      " 479r 1.1053963e+00 0.00e+00 2.41e-01  -2.0 0.00e+00    -  0.00e+00 4.77e-07R 21\n",
      "iter    objective    inf_pr   inf_du lg(mu)  ||d||  lg(rg) alpha_du alpha_pr  ls\n",
      " 480r 1.1053358e+00 0.00e+00 1.23e-03  -3.3 1.32e-03    -  9.99e-01 1.00e+00f  1\n",
      " 481r 1.1054149e+00 0.00e+00 2.48e-06  -9.0 4.46e-04    -  9.99e-01 1.00e+00f  1\n",
      " 482  1.1054582e+00 0.00e+00 1.58e-01  -2.0 2.11e+00    -  6.71e-01 1.14e-04f 13\n",
      " 483  1.1054799e+00 0.00e+00 1.49e-01  -2.0 1.05e+00    -  1.00e+00 1.15e-04f 14\n",
      " 484  1.1054826e+00 0.00e+00 1.40e-01  -2.0 9.79e-01    -  1.00e+00 1.53e-05f 17\n",
      " 485  1.1054838e+00 0.00e+00 1.33e-01  -2.0 9.44e-01    -  1.00e+00 7.63e-06f 18\n",
      " 486  1.1054845e+00 0.00e+00 1.29e-01  -2.0 9.02e-01    -  1.00e+00 3.81e-06f 19\n",
      " 487  1.1054851e+00 0.00e+00 1.25e-01  -2.0 8.88e-01    -  1.00e+00 3.81e-06f 19\n",
      " 488  1.1054851e+00 0.00e+00 1.24e-01  -2.0 8.67e-01    -  1.00e+00 5.96e-08h 25\n",
      " 489  1.1054851e+00 0.00e+00 1.22e-01  -2.0 8.64e-01    -  1.00e+00 2.98e-08h 26\n",
      "iter    objective    inf_pr   inf_du lg(mu)  ||d||  lg(rg) alpha_du alpha_pr  ls\n",
      " 490  1.1054851e+00 0.00e+00 1.22e-01  -2.0 8.54e-01    -  1.00e+00 1.49e-08h 27\n",
      " 491  1.1054851e+00 0.00e+00 1.21e-01  -2.0 8.54e-01    -  1.00e+00 7.45e-09h 28\n",
      " 492  5.2980877e-01 2.75e-01 1.95e-01  -2.0 8.50e-01    -  1.00e+00 1.00e+00w  1\n",
      " 493  5.5930579e-01 2.95e-01 1.86e-01  -2.0 5.21e-01    -  1.00e+00 3.57e-01w  1\n",
      " 494  1.1418381e+00 4.23e-01 3.69e-01  -2.0 2.37e+00    -  8.47e-01 7.55e-01w  1\n",
      " 495r 1.1054851e+00 0.00e+00 4.80e-01  -2.0 0.00e+00    -  0.00e+00 4.77e-07R 21\n",
      " 496r 1.1054103e+00 0.00e+00 1.65e-03  -3.2 1.62e-03    -  1.00e+00 1.00e+00f  1\n",
      " 497r 1.1054118e+00 0.00e+00 6.22e-06  -9.0 3.23e-04    -  9.99e-01 9.99e-01h  1\n",
      " 498r 1.1054853e+00 0.00e+00 8.67e-09  -9.0 4.85e-04    -  9.99e-01 1.00e+00h  1\n",
      " 499r 1.1055005e+00 0.00e+00 1.13e-09 -10.3 4.19e-04    -  1.00e+00 1.00e+00h  1\n",
      "iter    objective    inf_pr   inf_du lg(mu)  ||d||  lg(rg) alpha_du alpha_pr  ls\n",
      " 500r 1.1054927e+00 0.00e+00 6.04e-10 -10.3 2.90e-04    -  1.00e+00 1.00e+00h  1\n",
      " 501  1.1055144e+00 0.00e+00 1.58e-01  -2.0 2.11e+00    -  6.71e-01 5.72e-05f 14\n",
      " 502  1.1055252e+00 0.00e+00 1.49e-01  -2.0 1.05e+00    -  1.00e+00 5.74e-05f 15\n",
      " 503  1.1055279e+00 0.00e+00 1.40e-01  -2.0 9.78e-01    -  1.00e+00 1.53e-05f 17\n",
      " 504  1.1055280e+00 0.00e+00 1.33e-01  -2.0 9.44e-01    -  1.00e+00 9.54e-07f 21\n",
      " 505  1.1055281e+00 0.00e+00 1.29e-01  -2.0 9.01e-01    -  1.00e+00 2.38e-07f 23\n",
      " 506  1.1055281e+00 0.00e+00 1.25e-01  -2.0 8.87e-01    -  1.00e+00 2.98e-08f 26\n",
      " 507  1.1055281e+00 0.00e+00 1.23e-01  -2.0 8.67e-01    -  1.00e+00 1.49e-08f 27\n",
      " 508  1.1055281e+00 0.00e+00 1.22e-01  -2.0 8.63e-01    -  1.00e+00 2.33e-10h 33\n",
      " 509  1.1055281e+00 0.00e+00 1.22e-01  -2.0 8.54e-01    -  1.00e+00 1.46e-11h 37\n",
      "iter    objective    inf_pr   inf_du lg(mu)  ||d||  lg(rg) alpha_du alpha_pr  ls\n",
      " 510  1.1055281e+00 0.00e+00 1.21e-01  -2.0 8.54e-01    -  1.00e+00 3.64e-12h 39\n",
      " 511  5.2973255e-01 2.75e-01 1.95e-01  -2.0 8.50e-01    -  1.00e+00 1.00e+00w  1\n",
      " 512  5.5923896e-01 2.95e-01 1.86e-01  -2.0 5.21e-01    -  1.00e+00 3.57e-01w  1\n",
      " 513  1.1418246e+00 4.23e-01 3.69e-01  -2.0 2.37e+00    -  8.47e-01 7.55e-01w  1\n",
      " 514r 1.1055281e+00 0.00e+00 5.79e-02  -2.0 0.00e+00    -  0.00e+00 4.77e-07R 21\n",
      " 515r 1.1055050e+00 0.00e+00 5.16e-04  -3.7 5.01e-04    -  9.93e-01 1.00e+00f  1\n",
      " 516r 1.1055052e+00 0.00e+00 1.05e-07  -9.0 1.44e-06    -  1.00e+00 1.00e+00h  1\n",
      " 517r 1.1055053e+00 0.00e+00 3.37e-09  -9.0 9.26e-08    -  1.00e+00 1.00e+00h  1\n",
      " 518  1.1055486e+00 0.00e+00 1.58e-01  -2.0 2.12e+00    -  6.71e-01 1.14e-04f 13\n",
      " 519  1.1055702e+00 0.00e+00 5.13e-02  -2.0 5.30e+00    -  1.00e+00 2.28e-05f 14\n",
      "iter    objective    inf_pr   inf_du lg(mu)  ||d||  lg(rg) alpha_du alpha_pr  ls\n",
      " 520  1.1055771e+00 0.00e+00 9.12e-02  -2.0 6.37e-01    -  1.00e+00 6.10e-05h 15\n",
      " 521  1.1055782e+00 0.00e+00 1.06e-01  -3.1 7.59e-01    -  8.57e-01 7.63e-06h 18\n",
      " 522  1.1055787e+00 0.00e+00 1.18e-01  -3.1 8.26e-01    -  1.00e+00 3.81e-06h 19\n",
      " 523  1.1055788e+00 0.00e+00 1.25e-01  -3.1 8.73e-01    -  1.00e+00 1.49e-08h 27\n",
      " 524  1.1055788e+00 0.00e+00 1.29e-01  -3.1 9.04e-01    -  1.00e+00 7.45e-09h 28\n",
      " 525  1.1055788e+00 0.00e+00 1.32e-01  -3.1 9.25e-01    -  1.00e+00 1.86e-09h 30\n",
      " 526  1.1055788e+00 0.00e+00 1.34e-01  -3.1 9.40e-01    -  1.00e+00 9.31e-10h 31\n",
      " 527  1.1055788e+00 0.00e+00 1.35e-01  -3.1 9.51e-01    -  1.00e+00 4.66e-10h 32\n",
      " 528  1.1055788e+00 0.00e+00 1.36e-01  -3.1 9.58e-01    -  1.00e+00 2.33e-10h 33\n",
      " 529  1.1055788e+00 0.00e+00 1.37e-01  -3.1 9.63e-01    -  1.00e+00 1.16e-10h 34\n",
      "iter    objective    inf_pr   inf_du lg(mu)  ||d||  lg(rg) alpha_du alpha_pr  ls\n",
      " 530r 1.1055788e+00 0.00e+00 9.74e+02  -3.1 0.00e+00    -  0.00e+00 5.68e-14R 45\n",
      " 531r 5.5278229e-01 2.91e-01 4.52e-03  -3.3 1.29e-03    -  1.00e+00 2.62e-02f  1\n",
      " 532r 1.1050753e+00 0.00e+00 1.18e-01  -1.9 3.89e-01    -  1.00e+00 2.54e-01h  1\n",
      " 533r 1.1002016e+00 0.00e+00 8.42e-02  -1.8 1.02e-01    -  1.00e+00 1.00e+00f  1\n",
      " 534r 1.1015814e+00 0.00e+00 5.47e-03  -3.6 7.56e-03    -  1.00e+00 1.00e+00h  1\n",
      " 535  1.1030165e+00 0.00e+00 1.79e-01  -3.1 1.73e+00    -  1.00e+00 4.57e-03f  8\n",
      " 536  1.1037252e+00 0.00e+00 1.78e-01  -3.1 1.25e+00    -  1.00e+00 3.15e-03f  9\n",
      " 537  1.1040774e+00 0.00e+00 1.76e-01  -3.1 1.23e+00    -  1.00e+00 1.59e-03f 10\n",
      " 538  1.1042530e+00 0.00e+00 1.74e-01  -3.1 1.22e+00    -  1.00e+00 8.00e-04f 11\n",
      " 539  1.1042968e+00 0.00e+00 1.72e-01  -3.1 1.20e+00    -  1.00e+00 2.02e-04f 13\n",
      "iter    objective    inf_pr   inf_du lg(mu)  ||d||  lg(rg) alpha_du alpha_pr  ls\n",
      " 540  1.1043187e+00 0.00e+00 1.70e-01  -3.1 1.19e+00    -  1.00e+00 1.02e-04f 14\n",
      " 541  1.1043297e+00 0.00e+00 1.67e-01  -3.1 1.17e+00    -  1.00e+00 5.20e-05f 15\n",
      " 542  1.1043352e+00 0.00e+00 1.64e-01  -3.1 1.15e+00    -  1.00e+00 2.64e-05f 16\n",
      " 543  1.1043379e+00 0.00e+00 1.61e-01  -3.1 1.13e+00    -  1.00e+00 1.34e-05f 17\n",
      " 544  1.1043386e+00 0.00e+00 1.59e-01  -3.1 1.11e+00    -  1.00e+00 3.42e-06f 19\n",
      " 545  5.9538655e-01 3.21e-01 1.99e-01  -3.1 1.09e+00    -  1.00e+00 9.12e-01w  1\n",
      " 546  6.1550637e-01 3.35e-01 1.97e-01  -3.1 4.94e-01    -  1.00e+00 2.11e-01w  1\n",
      " 547  5.7236831e-01 3.05e-01 9.10e-01  -3.1 2.30e+00    -  7.36e-01 9.36e-02w  1\n",
      " 548  1.1944429e+00 4.57e-01 3.66e-01  -3.1 2.16e+00    -  1.00e+00 8.54e-01f  1\n",
      " 549  5.6459380e-01 2.99e-01 8.00e-02  -2.5 1.92e+00    -  1.00e+00 1.00e+00h  1\n",
      "iter    objective    inf_pr   inf_du lg(mu)  ||d||  lg(rg) alpha_du alpha_pr  ls\n",
      " 550  6.4365286e-01 2.00e-01 1.76e+00  -1.9 1.73e+00    -  3.54e-01 1.00e+00h  1\n",
      " 551  5.3642906e-01 0.00e+00 1.07e+00  -1.9 1.17e+00    -  2.23e-01 1.00e+00h  1\n",
      " 552  1.1008631e+00 0.00e+00 9.29e-01  -1.9 2.00e+00    -  7.07e-01 1.00e+00f  1\n",
      " 553  1.1128228e+00 0.00e+00 1.34e+00  -1.9 1.45e+00    -  1.00e+00 5.37e-02f  5\n",
      " 554  1.1228173e+00 0.00e+00 9.58e-01  -1.9 9.74e-01    -  1.00e+00 6.06e-02h  5\n",
      " 555  1.1233206e+00 0.00e+00 9.07e-01  -1.9 7.78e-01    -  1.00e+00 3.91e-03h  9\n",
      " 556  1.1235502e+00 0.00e+00 9.00e-01  -1.9 7.08e-01    -  1.00e+00 1.95e-03h 10\n",
      " 557  1.1235779e+00 0.00e+00 8.95e-01  -1.9 6.83e-01    -  1.00e+00 2.44e-04h 13\n",
      " 558  1.1235915e+00 0.00e+00 8.95e-01  -1.9 6.69e-01    -  1.00e+00 1.22e-04h 14\n",
      " 559  1.1235932e+00 0.00e+00 8.93e-01  -1.9 6.63e-01    -  1.00e+00 1.53e-05h 17\n",
      "iter    objective    inf_pr   inf_du lg(mu)  ||d||  lg(rg) alpha_du alpha_pr  ls\n",
      " 560  1.1235940e+00 0.00e+00 8.94e-01  -1.9 6.59e-01    -  1.00e+00 7.63e-06h 18\n",
      " 561  1.1235940e+00 0.00e+00 8.92e-01  -1.9 6.57e-01    -  1.00e+00 1.19e-07h 24\n",
      " 562  1.1235940e+00 0.00e+00 8.93e-01  -1.9 6.56e-01    -  1.00e+00 1.49e-08h 27\n",
      " 563  5.9832248e-01 3.23e-01 1.80e-01  -1.9 6.55e-01    -  1.00e+00 1.00e+00w  1\n",
      " 564  6.1173900e-01 3.33e-01 5.08e-01  -1.9 4.65e-01    -  1.00e+00 2.01e-01w  1\n",
      " 565  1.1288907e+00 4.14e-01 3.97e-01  -1.9 2.45e+00    -  7.17e-01 8.35e-01w  1\n",
      " 566r 1.1235940e+00 0.00e+00 9.99e+02  -1.8 0.00e+00    -  0.00e+00 4.77e-07R 21\n",
      " 567r 1.1233692e+00 0.00e+00 6.17e+02   0.2 1.31e+01    -  5.32e-02 1.12e-03f  1\n",
      " 568  1.1235108e+00 0.00e+00 3.22e-01  -1.9 1.58e+00    -  1.00e+00 5.44e-04h 11\n",
      " 569  1.1235735e+00 0.00e+00 1.20e-01  -1.9 7.77e-01    -  1.00e+00 4.88e-04h 12\n",
      "iter    objective    inf_pr   inf_du lg(mu)  ||d||  lg(rg) alpha_du alpha_pr  ls\n",
      " 570  1.1236049e+00 0.00e+00 1.21e-01  -2.9 7.81e-01    -  8.80e-01 2.44e-04h 13\n",
      " 571  1.1236130e+00 0.00e+00 1.24e-01  -2.9 8.03e-01    -  1.00e+00 6.10e-05h 15\n",
      " 572  1.1236171e+00 0.00e+00 1.26e-01  -2.9 8.14e-01    -  1.00e+00 3.05e-05h 16\n",
      " 573  1.1236176e+00 0.00e+00 1.27e-01  -2.9 8.24e-01    -  1.00e+00 3.81e-06h 19\n",
      " 574  1.1236179e+00 0.00e+00 1.28e-01  -2.9 8.30e-01    -  1.00e+00 1.91e-06h 20\n",
      " 575  1.1236180e+00 0.00e+00 1.29e-01  -2.9 8.35e-01    -  1.00e+00 9.54e-07h 21\n",
      " 576  1.1236181e+00 0.00e+00 1.29e-01  -2.9 8.38e-01    -  1.00e+00 4.77e-07h 22\n",
      " 577  1.1236181e+00 0.00e+00 1.30e-01  -2.9 8.41e-01    -  1.00e+00 2.38e-07h 23\n",
      " 578  1.1236181e+00 0.00e+00 1.30e-01  -2.9 8.43e-01    -  1.00e+00 2.98e-08h 26\n",
      " 579  1.1236181e+00 0.00e+00 1.30e-01  -2.9 8.45e-01    -  1.00e+00 1.49e-08h 27\n",
      "iter    objective    inf_pr   inf_du lg(mu)  ||d||  lg(rg) alpha_du alpha_pr  ls\n",
      " 580  5.7603627e-01 3.07e-01 1.97e-01  -2.9 8.46e-01    -  1.00e+00 1.00e+00w  1\n",
      " 581  5.8835342e-01 3.16e-01 1.93e-01  -2.9 4.43e-01    -  1.00e+00 1.38e-01w  1\n",
      " 582  1.1943511e+00 4.56e-01 3.63e-01  -2.9 2.26e+00    -  7.95e-01 8.51e-01f  1\n",
      " 583  1.1974451e+00 4.39e-01 3.52e-01  -2.9 2.18e+00    -  1.83e-02 3.12e-02h  6\n",
      " 584  5.0093179e-01 2.54e-01 3.03e-01  -1.9 1.53e+00    -  8.80e-01 1.00e+00h  1\n",
      " 585  4.5984219e-01 2.25e-01 3.14e+00  -1.5 1.54e+00    -  1.00e+00 1.54e-01h  1\n",
      " 586  1.0366492e+00 3.67e-01 7.45e-01  -1.5 1.68e+00    -  1.00e+00 8.15e-01f  1\n",
      " 587  2.5782526e-01 8.23e-02 1.95e+00  -1.5 2.94e+00    -  1.95e-01 1.00e+00h  1\n",
      " 588  1.9742424e-01 3.96e-02 1.46e+00  -1.5 6.44e-01    -  1.00e+00 4.58e-01h  1\n",
      " 589  2.0024330e-01 4.16e-02 1.13e+01  -1.5 4.58e-01    -  6.29e-01 1.19e-01h  1\n",
      "iter    objective    inf_pr   inf_du lg(mu)  ||d||  lg(rg) alpha_du alpha_pr  ls\n",
      " 590  1.8816226e-01 3.31e-02 8.81e+01  -1.5 1.68e+00    -  1.00e+00 1.67e-01h  1\n",
      " 591  1.9838243e-01 0.00e+00 4.82e+01  -1.5 1.40e+00    -  4.14e-01 5.00e-01f  2\n",
      " 592  1.9007213e-01 0.00e+00 3.62e+00  -1.5 1.85e-01    -  9.62e-01 1.00e+00h  1\n",
      " 593  2.9495487e-01 0.00e+00 3.26e-01  -1.5 2.68e-01    -  6.85e-01 1.00e+00f  1\n",
      " 594  5.7227732e-01 3.05e-01 2.26e-01  -2.2 3.77e+01    -  8.13e-03 9.78e-02f  1\n",
      " 595  3.1324976e-01 1.22e-01 5.82e-02  -2.2 2.07e+00    -  5.70e-01 6.23e-01h  1\n",
      " 596  1.1522362e+00 4.32e-01 5.29e-01  -2.2 8.83e-01    -  1.00e+00 6.43e-01h  1\n",
      " 597  5.4705712e-01 1.88e-01 2.38e+00  -2.2 3.05e+00    -  7.77e-02 7.78e-01h  1\n",
      " 598  5.1652883e-01 0.00e+00 1.05e+00  -2.2 1.29e+00    -  1.00e+00 1.00e+00f  1\n",
      " 599  5.9527479e-01 0.00e+00 3.27e-01  -2.2 2.43e-01    -  1.00e+00 1.00e+00h  1\n",
      "iter    objective    inf_pr   inf_du lg(mu)  ||d||  lg(rg) alpha_du alpha_pr  ls\n",
      " 600  6.8933685e-01 3.87e-01 2.19e-01  -2.2 1.01e+01    -  1.04e-01 2.56e-01F  1\n",
      " 601  6.8445825e-01 3.84e-01 1.02e+00  -2.2 9.80e-01    -  1.00e+00 5.63e-02h  1\n",
      " 602  1.1754517e+00 4.42e-01 4.11e-01  -2.2 2.76e+00    -  6.38e-01 8.69e-01h  1\n",
      " 603  6.1679989e-01 3.36e-01 1.08e+00  -2.2 2.25e+00    -  2.37e-02 9.69e-01h  1\n",
      " 604  6.9009363e-01 2.13e-01 3.30e+00  -2.2 2.01e+00    -  3.36e-01 1.00e+00h  1\n",
      " 605  6.1072478e-01 7.37e-02 1.06e+00  -2.2 1.13e+00    -  1.00e+00 6.61e-01h  1\n",
      " 606  7.6322566e-01 0.00e+00 1.73e+00  -2.2 5.90e-01    -  7.14e-01 1.00e+00f  1\n",
      " 607  1.0691341e+00 0.00e+00 1.33e+00  -2.2 7.22e+00    -  2.28e-01 1.60e-01f  2\n",
      " 608  1.1234631e+00 0.00e+00 1.51e-01  -2.2 2.27e+00    -  9.83e-01 1.28e-01f  3\n",
      " 609  1.1283074e+00 0.00e+00 2.92e-01  -2.2 1.42e+00    -  1.00e+00 3.02e-02f  6\n",
      "iter    objective    inf_pr   inf_du lg(mu)  ||d||  lg(rg) alpha_du alpha_pr  ls\n",
      " 610  1.1284283e+00 0.00e+00 1.33e-01  -2.2 7.73e-01    -  9.01e-01 9.77e-04h 11\n",
      " 611  1.1284608e+00 0.00e+00 1.89e-01  -2.2 1.86e+00    -  1.00e+00 2.44e-04h 13\n",
      " 612  1.1284902e+00 0.00e+00 1.29e-01  -2.2 7.52e-01    -  9.31e-01 2.44e-04h 13\n",
      " 613  1.1284940e+00 0.00e+00 1.26e-01  -2.2 2.34e+00    -  7.67e-01 2.95e-05h 16\n",
      " 614  1.1284979e+00 0.00e+00 1.30e-01  -2.2 7.85e-01    -  9.87e-01 3.05e-05h 16\n",
      " 615  1.1284987e+00 0.00e+00 1.23e-01  -2.2 2.70e+00    -  6.35e-01 6.41e-06h 18\n",
      " 616  1.1284989e+00 0.00e+00 1.30e-01  -2.2 7.76e-01    -  9.98e-01 1.91e-06h 20\n",
      " 617  9.2806099e-01 5.56e-01 1.20e-01  -2.2 2.83e+00    -  5.99e-01 7.99e-01w  1\n",
      " 618  8.9654734e-01 5.34e-01 8.37e-02  -2.2 1.21e+00    -  1.00e+00 4.91e-01w  1\n",
      " 619  8.5417713e-01 5.04e-01 4.50e-01  -2.2 3.01e+00    -  1.21e-01 6.65e-02w  1\n",
      "iter    objective    inf_pr   inf_du lg(mu)  ||d||  lg(rg) alpha_du alpha_pr  ls\n",
      " 620r 1.1284989e+00 0.00e+00 9.99e+02  -1.9 0.00e+00    -  0.00e+00 3.81e-07R 21\n",
      " 621r 5.1168228e-01 2.62e-01 5.61e-01  -1.5 1.24e+01    -  1.00e+00 9.92e-04f  1\n",
      " 622r 1.1265251e+00 0.00e+00 5.07e+00  -1.7 4.32e-01    -  1.00e+00 1.12e-01h  1\n",
      " 623r 1.1227303e+00 0.00e+00 6.42e-02  -1.1 2.36e-02    -  1.00e+00 1.00e+00f  1\n",
      " 624  1.1271509e+00 0.00e+00 1.53e-01  -2.2 8.58e-01    -  6.61e-01 3.12e-02f  6\n",
      " 625  1.1281041e+00 0.00e+00 1.51e-01  -2.2 3.87e+00    -  4.39e-01 9.28e-03f  7\n",
      " 626  1.1283698e+00 0.00e+00 3.20e-01  -2.2 3.08e+00    -  1.00e+00 5.39e-04f 10\n",
      " 627  1.1284838e+00 0.00e+00 1.14e-01  -2.2 7.25e-01    -  1.00e+00 9.77e-04f 11\n",
      " 628  1.1285102e+00 0.00e+00 1.21e-01  -2.2 1.46e+00    -  1.00e+00 2.44e-04f 13\n",
      " 629  1.1285144e+00 0.00e+00 1.29e-01  -2.2 9.72e-01    -  1.00e+00 2.66e-05h 16\n",
      "iter    objective    inf_pr   inf_du lg(mu)  ||d||  lg(rg) alpha_du alpha_pr  ls\n",
      " 630  1.1285178e+00 0.00e+00 1.11e-01  -2.2 6.92e-01    -  1.00e+00 3.05e-05h 16\n",
      " 631  1.1285178e+00 0.00e+00 1.14e-01  -2.2 6.76e-01    -  1.00e+00 4.77e-07h 22\n",
      " 632  1.1285178e+00 0.00e+00 1.16e-01  -2.2 6.98e-01    -  1.00e+00 1.19e-07h 24\n",
      " 633  1.1285179e+00 0.00e+00 1.17e-01  -2.2 7.02e-01    -  1.00e+00 2.98e-08h 26\n",
      " 634  5.9981639e-01 3.24e-01 1.94e-01  -2.2 7.13e-01    -  1.00e+00 1.00e+00w  1\n",
      " 635  6.1807001e-01 3.37e-01 1.88e-01  -2.2 4.85e-01    -  1.00e+00 1.86e-01w  1\n",
      " 636  1.1749128e+00 4.43e-01 3.86e-01  -2.2 2.52e+00    -  6.71e-01 8.23e-01f  1\n",
      " 637  1.1802569e+00 2.74e-01 4.47e-01  -2.2 2.12e+00    -  2.56e-02 2.94e-01h  2\n",
      " 638  4.3678283e-01 2.09e-01 4.87e-01  -2.3 1.12e+00    -  1.00e+00 4.84e-01h  2\n",
      " 639  4.0709425e-01 1.88e-01 3.80e+00  -2.4 1.13e+00    -  1.00e+00 1.32e-01h  1\n",
      "iter    objective    inf_pr   inf_du lg(mu)  ||d||  lg(rg) alpha_du alpha_pr  ls\n",
      " 640  1.1792938e+00 4.50e-01 1.05e+00  -2.4 1.34e+00    -  1.00e+00 7.73e-01h  1\n",
      " 641  7.1413789e-01 1.98e-01 6.30e+00  -2.4 2.83e+00    -  2.73e-02 7.19e-01h  1\n",
      " 642  9.1018274e-01 0.00e+00 5.29e-01  -2.4 1.54e+00    -  1.00e+00 1.00e+00f  1\n",
      " 643  1.0454591e+00 6.02e-03 5.59e-01  -2.4 5.68e-01    -  8.13e-01 1.00e+00h  1\n",
      " 644  1.1073037e+00 0.00e+00 8.06e-01  -2.4 7.04e-01    -  9.86e-01 5.00e-01f  2\n",
      " 645  1.1127032e+00 0.00e+00 2.39e-01  -2.4 1.40e+00    -  1.00e+00 2.19e-02h  6\n",
      " 646  1.1133523e+00 0.00e+00 2.51e-01  -2.4 1.11e+00    -  1.00e+00 3.37e-03h  9\n",
      " 647  1.1135140e+00 0.00e+00 2.38e-01  -2.4 1.05e+00    -  1.00e+00 8.83e-04h 11\n",
      " 648  1.1135341e+00 0.00e+00 2.51e-01  -2.4 1.00e+00    -  1.00e+00 1.16e-04h 14\n",
      " 649  1.1135392e+00 0.00e+00 2.37e-01  -2.4 9.71e-01    -  1.00e+00 2.99e-05h 16\n",
      "iter    objective    inf_pr   inf_du lg(mu)  ||d||  lg(rg) alpha_du alpha_pr  ls\n",
      " 650  1.1135416e+00 0.00e+00 2.53e-01  -2.4 9.34e-01    -  1.00e+00 1.53e-05h 17\n",
      " 651  1.1135429e+00 0.00e+00 2.30e-01  -2.4 9.27e-01    -  1.00e+00 7.63e-06h 18\n",
      " 652  1.1135430e+00 0.00e+00 2.61e-01  -2.4 8.91e-01    -  1.00e+00 9.54e-07h 21\n",
      " 653  1.1135431e+00 0.00e+00 2.17e-01  -2.4 9.06e-01    -  1.00e+00 4.77e-07h 22\n",
      " 654  6.6191448e-01 3.68e-01 2.00e-01  -2.4 8.61e-01    -  8.61e-01 1.00e+00w  1\n",
      " 655  6.8771500e-01 3.86e-01 1.98e-01  -2.4 6.08e-01    -  1.00e+00 2.88e-01w  1\n",
      " 656  1.1920563e+00 4.57e-01 3.90e-01  -2.4 3.62e+00    -  4.04e-01 6.70e-01f  1\n",
      " 657  1.1971084e+00 4.40e-01 3.83e-01  -2.4 2.20e+00    -  2.19e-02 3.37e-02h  5\n",
      " 658  1.1971867e+00 4.35e-01 3.09e-01  -2.4 1.19e+00    -  2.05e-01 1.31e-02h  6\n",
      " 659  1.1257428e+00 0.00e+00 3.25e-01  -2.4 1.58e+00    -  7.93e-02 1.00e+00h  1\n",
      "iter    objective    inf_pr   inf_du lg(mu)  ||d||  lg(rg) alpha_du alpha_pr  ls\n",
      " 660  1.1287131e+00 0.00e+00 2.55e-01  -2.4 2.90e-01    -  1.00e+00 6.25e-02h  5\n",
      " 661  1.1297843e+00 0.00e+00 4.58e-01  -2.4 9.89e-01    -  8.55e-01 6.71e-03h  8\n",
      " 662  1.1300678e+00 0.00e+00 3.49e-01  -2.4 1.48e+00    -  1.00e+00 1.70e-03h 10\n",
      " 663  1.1301341e+00 0.00e+00 4.58e-01  -2.4 8.94e-01    -  8.28e-01 4.60e-04h 12\n",
      " 664  1.1301519e+00 0.00e+00 3.47e-01  -2.4 1.49e+00    -  1.00e+00 1.16e-04h 14\n",
      " 665  1.1301684e+00 0.00e+00 4.57e-01  -2.4 8.87e-01    -  1.00e+00 1.16e-04h 14\n",
      " 666  1.1301706e+00 0.00e+00 3.53e-01  -2.4 1.10e+00    -  1.00e+00 1.53e-05h 17\n",
      " 667  1.1301715e+00 0.00e+00 4.58e-01  -2.4 7.51e-01    -  7.68e-01 7.63e-06h 18\n",
      " 668  1.1301720e+00 0.00e+00 3.46e-01  -2.4 1.31e+00    -  1.00e+00 3.81e-06h 19\n",
      " 669  1.1301720e+00 0.00e+00 4.58e-01  -2.4 7.30e-01    -  7.73e-01 5.96e-08h 25\n",
      "iter    objective    inf_pr   inf_du lg(mu)  ||d||  lg(rg) alpha_du alpha_pr  ls\n",
      " 670  8.0106328e-01 4.66e-01 1.81e-01  -2.4 1.32e+00    -  1.00e+00 1.00e+00w  1\n",
      " 671  9.8597104e-01 5.97e-01 2.46e-01  -2.4 3.75e+00    -  1.00e+00 2.58e-01w  1\n",
      " 672  9.7022997e-01 5.86e-01 7.57e-02  -2.4 3.23e+00    -  1.30e-02 2.09e-02w  1\n",
      " 673r 1.1301720e+00 0.00e+00 9.99e+02  -1.7 0.00e+00    -  0.00e+00 4.77e-07R 21\n",
      " 674r 5.0805590e-01 2.59e-01 2.65e-01  -3.2 1.92e+01    -  1.00e+00 9.90e-04f  1\n",
      " 675r 1.1285690e+00 0.00e+00 3.89e+00  -1.6 3.50e-01    -  1.00e+00 8.50e-02h  1\n",
      " 676r 1.1260505e+00 0.00e+00 1.04e-01  -1.1 1.97e-02    -  1.00e+00 1.00e+00f  1\n",
      " 677  1.1282731e+00 0.00e+00 1.56e-01  -2.4 3.51e+00    -  7.79e-02 3.85e-03f  7\n",
      " 678  1.1293698e+00 0.00e+00 2.47e-01  -2.4 9.67e-01    -  1.00e+00 6.89e-03f  8\n",
      " 679  1.1298566e+00 0.00e+00 1.46e-01  -2.4 7.76e-01    -  6.51e-01 3.91e-03f  9\n",
      "iter    objective    inf_pr   inf_du lg(mu)  ||d||  lg(rg) alpha_du alpha_pr  ls\n",
      " 680  1.1301248e+00 0.00e+00 2.32e-01  -2.4 8.78e-01    -  1.00e+00 1.88e-03f 10\n",
      " 681  1.1301848e+00 0.00e+00 1.37e-01  -2.4 7.68e-01    -  7.28e-01 4.88e-04f 12\n",
      " 682  1.1301930e+00 0.00e+00 2.30e-01  -2.4 8.26e-01    -  1.00e+00 6.10e-05h 15\n",
      " 683  1.1301966e+00 0.00e+00 1.30e-01  -2.4 7.55e-01    -  8.29e-01 3.05e-05h 16\n",
      " 684  1.1301976e+00 0.00e+00 2.28e-01  -2.4 7.70e-01    -  1.00e+00 7.63e-06h 18\n",
      " 685  1.1301978e+00 0.00e+00 1.28e-01  -2.4 7.04e-01    -  8.04e-01 1.91e-06h 20\n",
      " 686  1.1301979e+00 0.00e+00 2.27e-01  -2.4 7.51e-01    -  1.00e+00 2.38e-07h 23\n",
      " 687  5.6301328e-01 2.98e-01 2.06e-01  -2.4 6.99e-01    -  8.40e-01 1.00e+00w  1\n",
      " 688  5.7455272e-01 3.06e-01 2.03e-01  -2.4 5.49e-01    -  1.00e+00 1.01e-01w  1\n",
      " 689  1.1674148e+00 4.41e-01 3.89e-01  -2.4 2.42e+00    -  6.88e-01 7.71e-01f  1\n",
      "iter    objective    inf_pr   inf_du lg(mu)  ||d||  lg(rg) alpha_du alpha_pr  ls\n",
      " 690  1.1571161e+00 3.67e-01 4.04e-01  -2.4 1.64e+00    -  1.87e-02 1.55e-01h  3\n",
      " 691  1.1754624e+00 3.12e-01 1.22e+00  -2.4 1.89e+00    -  1.00e+00 1.25e-01h  4\n",
      " 692  1.1796765e+00 3.00e-01 1.15e+00  -2.4 1.50e+00    -  2.85e-01 3.38e-02h  5\n",
      " 693  1.1816260e+00 2.92e-01 1.20e+00  -2.4 1.56e+00    -  7.43e-01 2.06e-02h  6\n",
      " 694  5.0814218e-01 2.59e-01 2.29e-01  -3.3 1.17e+00    -  3.47e-01 8.19e-01h  1\n",
      " 695  5.0908744e-01 2.60e-01 1.12e+00  -3.0 5.44e-01    -  1.00e+00 8.69e-03h  1\n",
      " 696  8.8727253e-01 3.06e-01 3.58e-01  -3.0 1.84e+00    -  8.50e-01 8.38e-01h  1\n",
      " 697  7.3145984e-01 5.20e-02 1.56e+00  -3.0 1.39e+00    -  2.72e-03 8.25e-01h  1\n",
      " 698  1.0919622e+00 0.00e+00 4.87e-01  -3.0 1.30e+00    -  7.46e-01 1.00e+00f  1\n",
      " 699  1.1051834e+00 0.00e+00 6.92e-01  -3.0 1.94e+00    -  8.13e-01 1.25e-01f  4\n",
      "iter    objective    inf_pr   inf_du lg(mu)  ||d||  lg(rg) alpha_du alpha_pr  ls\n",
      " 700  1.1065795e+00 0.00e+00 6.37e-01  -3.0 1.68e+00    -  1.00e+00 4.65e-03h  8\n",
      " 701  1.1071268e+00 0.00e+00 4.09e-01  -3.0 7.88e-01    -  1.00e+00 3.91e-03h  9\n",
      " 702  1.1072744e+00 0.00e+00 4.04e-01  -3.0 8.52e-01    -  1.00e+00 9.77e-04h 11\n",
      " 703  1.1073513e+00 0.00e+00 4.03e-01  -3.0 8.88e-01    -  1.00e+00 4.88e-04h 12\n",
      " 704  1.1073907e+00 0.00e+00 4.04e-01  -3.0 9.11e-01    -  1.00e+00 2.44e-04h 13\n",
      " 705  1.1074007e+00 0.00e+00 4.05e-01  -3.0 9.26e-01    -  1.00e+00 6.10e-05h 15\n",
      " 706  1.1074058e+00 0.00e+00 4.06e-01  -3.0 9.37e-01    -  1.00e+00 3.05e-05h 16\n",
      " 707  1.1074083e+00 0.00e+00 4.06e-01  -3.0 9.44e-01    -  1.00e+00 1.53e-05h 17\n",
      " 708  1.1074096e+00 0.00e+00 4.06e-01  -3.0 9.50e-01    -  1.00e+00 7.63e-06h 18\n",
      " 709  5.4543399e-01 2.86e-01 1.95e-01  -3.0 9.54e-01    -  1.00e+00 1.00e+00w  1\n",
      "iter    objective    inf_pr   inf_du lg(mu)  ||d||  lg(rg) alpha_du alpha_pr  ls\n",
      " 710  5.5137980e-01 2.90e-01 4.04e-01  -3.0 3.67e-01    -  1.00e+00 8.14e-02w  1\n",
      " 711  1.1882707e+00 4.57e-01 3.73e-01  -3.0 2.07e+00    -  9.53e-01 8.50e-01h  1\n",
      " 712  1.1292337e+00 3.36e-01 3.74e-01  -3.0 1.95e+00    -  5.43e-03 2.50e-01h  3\n",
      " 713  1.1633209e+00 3.20e-01 1.24e+00  -3.0 3.58e+00    -  6.72e-01 3.81e-02h  3\n",
      " 714  1.1744470e+00 2.71e-01 1.17e+00  -3.0 4.07e+00    -  1.11e-01 4.91e-02h  5\n",
      "x =0.9375076134856671\n",
      "y =2.1482654909920638\n"
     ]
    }
   ],
   "source": [
    "# Este nosso modelo matematico\n",
    "using JuMP, Ipopt, Statistics, LinearAlgebra, PolygonOps\n",
    "\n",
    "m = Model(Ipopt.Optimizer)\n",
    "apartamento = zeros(4,4)\n",
    "interferencias = false                                                  # esta é matriz que define o tamanho do apartamento\n",
    "interferencias = [ [[0,2] , [1,2]]]                                     # posições bidimensionais das interferencias\n",
    "dispositivos = [[0,0],[0,4]]\n",
    "decaimento = 0.2\n",
    "alcance = 1/decaimento\n",
    "function in_low_circle(x,y,x_dev,y_dev)\n",
    "    for interferencia in interferencias\n",
    "        oa = [interferencia[1][1] - x, interferencia[1][2] - y, 0 ]\n",
    "        op = [x_dev - x, y_dev - y, 0   ]\n",
    "        ab = [interferencia[2][1] - interferencia[1][1], interferencia[2][2]- interferencia[1][2], 0]\n",
    "        ap = [x_dev - interferencia[1][1],  y_dev - interferencia[1][2], 0  ]\n",
    "        ob = [interferencia[2][1] - x,interferencia[2][2] - y, 0 ]\n",
    "        if cross(oa,op)[3] <=0 && cross(ab,ap)[3] >=0 && cross(ob,op)[3] >=0\n",
    "            return 1\n",
    "        end\n",
    "    end\n",
    "    return 0\n",
    "end\n",
    "\n",
    "function projection(x,y)\n",
    "    for interferencia in interferencias\n",
    "        u = [interferencia[1][1], interferencia[2][1]]\n",
    "        v = [interferencia[1][2], interferencia[2][2]]\n",
    "    end\n",
    "    \n",
    "    candidatop1x_1 = x + alcance*(u[1]-x)/(sqrt((u[1]-x)^2+(v[1]-y)^2))\n",
    "    candidatop1x_2 = x - alcance*(u[1]-x)/(sqrt((u[1]-x)^2+(v[1]-y)^2))\n",
    "    \n",
    "    if u[1]==x\n",
    "        proj_1x = x\n",
    "    elseif  u[1] < x \n",
    "        if candidatop1x_1 < u[1]\n",
    "            proj_1x = candidatop1x_1\n",
    "        else\n",
    "            proj_1x = candidatop1x_2\n",
    "        end \n",
    "    else\n",
    "        if candidatop1x_1 > u[1]\n",
    "            proj_1x = candidatop1x_1\n",
    "        else\n",
    "            proj_1x = candidatop1x_2\n",
    "        end\n",
    "    end\n",
    "    proj_1y = y + ((proj_1x-x)*(v[1]-y))/(u[1]-x)\n",
    "    proj_1 = [proj_1x,proj_1y]\n",
    "\n",
    "    candidatop2x_1 = x + alcance*(u[2]-x)/(sqrt((u[2]-x)^2+(v[2]-y)^2))\n",
    "    candidatop2x_2 = x - alcance*(u[2]-x)/(sqrt((u[2]-x)^2+(v[2]-y)^2))\n",
    "    \n",
    "    if u[2] == x\n",
    "        proj_2x = x\n",
    "    elseif  u[2] < x \n",
    "        if candidatop2x_1 < u[2]\n",
    "            proj_2x = candidatop2x_1\n",
    "        else\n",
    "            proj_2x = candidatop2x_2\n",
    "        end \n",
    "    else\n",
    "        if candidatop2x_1 > u[2]\n",
    "            proj_2x = candidatop2x_1\n",
    "        else\n",
    "            proj_2x = candidatop2x_2\n",
    "        end\n",
    "    end\n",
    "    proj_2y = y + ((proj_2x-x)*(v[2]-y))/(u[2]-x)\n",
    "    proj_2 = [proj_2x,proj_2y]\n",
    "\n",
    "    return proj_1, proj2\n",
    "end\n",
    "\n",
    "function in_polygon(x,y,x_dev,y_dev)\n",
    "    for interferencia in interferencias\n",
    "        proj_1 = [(5*cos(atan(interferencia[1][2]/interferencia[1][1])))+x, (5*sin(atan(interferencia[1][2]/interferencia[1][1])))+y] \n",
    "        proj_2 = [(5*cos(atan(interferencia[2][2]/interferencia[2][1])))+x, (5*sin(atan(interferencia[2][2]/interferencia[2][1])))+y]\n",
    "        if inpolygon([x_dev,y_dev],[interferencia[1],interferencia[2],proj_2,proj_1,interferencia[1]]) == 1\n",
    "            return 1\n",
    "        end\n",
    "    end\n",
    "    return 0\n",
    "end \n",
    "\n",
    "function force(x,y, std_dev)\n",
    "    forca = []\n",
    "    for i in dispositivos\n",
    "        distancia = sqrt((x-i[1])^2+(y-i[2])^2) # a distancia entre o roteador e os dispositivos ´pode ser calculado pela distancia euclidiana\n",
    "        f_= 1-0.2*distancia                     # a forca do sinal definida pela funcao apresentada no modelo matematico\n",
    "        if f_ < 0\n",
    "            f_ = 0                              # não é possivel ter sinais negativos\n",
    "        else\n",
    "            if in_polygon(x,y,i[1],i[2]) == 1 || in_low_circle(x,y,i[1],i[2]) == 1\n",
    "                f_ = 0\n",
    "            end\n",
    "        end\n",
    "        push!(forca,f_)\n",
    "    end\n",
    "    if std_dev == 1\n",
    "        return Statistics.std(forca)\n",
    "    elseif std_dev == -1\n",
    "        return forca\n",
    "    else\n",
    "        return sum(forca)\n",
    "    end\n",
    "end\n",
    "\n",
    "register(m, :interference, 4, interference, autodiff=true)\n",
    "register(m, :force, 3, force, autodiff=true)\n",
    "@variable(m, 0 <= x <= size(apartamento)[1])                            # as posições devem ser positivas\n",
    "@variable(m, 0 <= y <= size(apartamento)[2])                            # as posições devem ser positivas e os roteadores da matriz não podem ser posicionados fora dos limites do apartamento\n",
    "@NLconstraint(m, force(x,y,1)<= 0.1)\n",
    "# @NLconstraint(m, )\n",
    "@NLobjective(m, Max, force(x,y,0))                 # queremos maximizar a soma do sinal de wifi\n",
    "\n",
    "optimize!(m)\n",
    "\n",
    "println(\"x =\", JuMP.value.(x))     # imprime o resultado na tela\n",
    "println(\"y =\", JuMP.value.(y))     # imprime o resultado na tela\n"
   ]
  },
  {
   "cell_type": "markdown",
   "metadata": {},
   "source": [
    "**Tenha certeza de que seu código compila corretamente! Rodarei seu código!**"
   ]
  },
  {
   "attachments": {},
   "cell_type": "markdown",
   "metadata": {
    "collapsed": true
   },
   "source": [
    "## 4. Resultados e discussão ##\n",
    "\n",
    "Neste seção, os resultados obtidos serão exibidos e discutidos. Mostre figuras, gráficos, imagens, curvas de compromisso, e o que mais puder melhor ilustrar seus resultados. A discussão deverá explicar o que significam os resultados e como interpretá-los. As limitações da sua abordagem/modelo também devem ser colocadas, bem como uma análise da sensibilidade dos resultados em relação às hipóteses feitas.\n",
    "\n",
    "\n",
    "Utilize plots (veja exemplos  `PyPlot` [aqui](https://gist.github.com/gizmaa/7214002))\n",
    "\n",
    "Aqui está um exemplo de uma tabela (em Markdown):\n",
    "\n",
    "| Tabelas        | São           | Boas  |\n",
    "| ------------- |:-------------:| -----:|\n",
    "| col 3 é      | alinhado à direita |\\$1600 |\n",
    "| col 2 é      | centrado      |  \\$12 |\n",
    "| texto | também serve      |   \\$1 |\n",
    "\n",
    "### 4.A. Modelo visual da posição dos objetos\n"
   ]
  },
  {
   "cell_type": "code",
   "execution_count": 86,
   "metadata": {},
   "outputs": [
    {
     "data": {
      "image/png": "[encoded data removed]",
      "image/svg+xml": "<?xml version=\"1.0\" encoding=\"utf-8\"?>\n<svg xmlns=\"http://www.w3.org/2000/svg\" xmlns:xlink=\"http://www.w3.org/1999/xlink\" width=\"600\" height=\"400\" viewBox=\"0 0 2400 1600\">\n<defs>\n  <clipPath id=\"clip230\">\n    <rect x=\"0\" y=\"0\" width=\"2400\" height=\"1600\"/>\n  </clipPath>\n</defs>\n<path clip-path=\"url(#clip230)\" d=\"\nM0 1600 L2400 1600 L2400 0 L0 0  Z\n  \" fill=\"#ffffff\" fill-rule=\"evenodd\" fill-opacity=\"1\"/>\n<defs>\n  <clipPath id=\"clip231\">\n    <rect x=\"480\" y=\"0\" width=\"1681\" height=\"1600\"/>\n  </clipPath>\n</defs>\n<path clip-path=\"url(#clip230)\" d=\"\nM112.177 1486.45 L2352.76 1486.45 L2352.76 47.2441 L112.177 47.2441  Z\n  \" fill=\"#ffffff\" fill-rule=\"evenodd\" fill-opacity=\"1\"/>\n<defs>\n  <clipPath id=\"clip232\">\n    <rect x=\"112\" y=\"47\" width=\"2242\" height=\"1440\"/>\n  </clipPath>\n</defs>\n<polyline clip-path=\"url(#clip232)\" style=\"stroke:#000000; stroke-linecap:round; stroke-linejoin:round; stroke-width:2; stroke-opacity:0.1; fill:none\" points=\"\n  175.59,1486.45 175.59,47.2441 \n  \"/>\n<polyline clip-path=\"url(#clip232)\" style=\"stroke:#000000; stroke-linecap:round; stroke-linejoin:round; stroke-width:2; stroke-opacity:0.1; fill:none\" points=\"\n  704.028,1486.45 704.028,47.2441 \n  \"/>\n<polyline clip-path=\"url(#clip232)\" style=\"stroke:#000000; stroke-linecap:round; stroke-linejoin:round; stroke-width:2; stroke-opacity:0.1; fill:none\" points=\"\n  1232.47,1486.45 1232.47,47.2441 \n  \"/>\n<polyline clip-path=\"url(#clip232)\" style=\"stroke:#000000; stroke-linecap:round; stroke-linejoin:round; stroke-width:2; stroke-opacity:0.1; fill:none\" points=\"\n  1760.9,1486.45 1760.9,47.2441 \n  \"/>\n<polyline clip-path=\"url(#clip232)\" style=\"stroke:#000000; stroke-linecap:round; stroke-linejoin:round; stroke-width:2; stroke-opacity:0.1; fill:none\" points=\"\n  2289.34,1486.45 2289.34,47.2441 \n  \"/>\n<polyline clip-path=\"url(#clip230)\" style=\"stroke:#000000; stroke-linecap:round; stroke-linejoin:round; stroke-width:4; stroke-opacity:1; fill:none\" points=\"\n  112.177,1486.45 2352.76,1486.45 \n  \"/>\n<polyline clip-path=\"url(#clip230)\" style=\"stroke:#000000; stroke-linecap:round; stroke-linejoin:round; stroke-width:4; stroke-opacity:1; fill:none\" points=\"\n  175.59,1486.45 175.59,1467.55 \n  \"/>\n<polyline clip-path=\"url(#clip230)\" style=\"stroke:#000000; stroke-linecap:round; stroke-linejoin:round; stroke-width:4; stroke-opacity:1; fill:none\" points=\"\n  704.028,1486.45 704.028,1467.55 \n  \"/>\n<polyline clip-path=\"url(#clip230)\" style=\"stroke:#000000; stroke-linecap:round; stroke-linejoin:round; stroke-width:4; stroke-opacity:1; fill:none\" points=\"\n  1232.47,1486.45 1232.47,1467.55 \n  \"/>\n<polyline clip-path=\"url(#clip230)\" style=\"stroke:#000000; stroke-linecap:round; stroke-linejoin:round; stroke-width:4; stroke-opacity:1; fill:none\" points=\"\n  1760.9,1486.45 1760.9,1467.55 \n  \"/>\n<polyline clip-path=\"url(#clip230)\" style=\"stroke:#000000; stroke-linecap:round; stroke-linejoin:round; stroke-width:4; stroke-opacity:1; fill:none\" points=\"\n  2289.34,1486.45 2289.34,1467.55 \n  \"/>\n<path clip-path=\"url(#clip230)\" d=\"M175.59 1517.37 Q171.979 1517.37 170.15 1520.93 Q168.344 1524.47 168.344 1531.6 Q168.344 1538.71 170.15 1542.27 Q171.979 1545.82 175.59 1545.82 Q179.224 1545.82 181.03 1542.27 Q182.858 1538.71 182.858 1531.6 Q182.858 1524.47 181.03 1520.93 Q179.224 1517.37 175.59 1517.37 M175.59 1513.66 Q181.4 1513.66 184.455 1518.27 Q187.534 1522.85 187.534 1531.6 Q187.534 1540.33 184.455 1544.94 Q181.4 1549.52 175.59 1549.52 Q169.78 1549.52 166.701 1544.94 Q163.645 1540.33 163.645 1531.6 Q163.645 1522.85 166.701 1518.27 Q169.78 1513.66 175.59 1513.66 Z\" fill=\"#000000\" fill-rule=\"evenodd\" fill-opacity=\"1\" /><path clip-path=\"url(#clip230)\" d=\"M694.41 1544.91 L702.049 1544.91 L702.049 1518.55 L693.739 1520.21 L693.739 1515.95 L702.003 1514.29 L706.679 1514.29 L706.679 1544.91 L714.317 1544.91 L714.317 1548.85 L694.41 1548.85 L694.41 1544.91 Z\" fill=\"#000000\" fill-rule=\"evenodd\" fill-opacity=\"1\" /><path clip-path=\"url(#clip230)\" d=\"M1227.12 1544.91 L1243.44 1544.91 L1243.44 1548.85 L1221.49 1548.85 L1221.49 1544.91 Q1224.16 1542.16 1228.74 1537.53 Q1233.35 1532.88 1234.53 1531.53 Q1236.77 1529.01 1237.65 1527.27 Q1238.55 1525.51 1238.55 1523.82 Q1238.55 1521.07 1236.61 1519.33 Q1234.69 1517.6 1231.59 1517.6 Q1229.39 1517.6 1226.93 1518.36 Q1224.5 1519.13 1221.73 1520.68 L1221.73 1515.95 Q1224.55 1514.82 1227 1514.24 Q1229.46 1513.66 1231.49 1513.66 Q1236.86 1513.66 1240.06 1516.35 Q1243.25 1519.03 1243.25 1523.52 Q1243.25 1525.65 1242.44 1527.57 Q1241.66 1529.47 1239.55 1532.07 Q1238.97 1532.74 1235.87 1535.95 Q1232.77 1539.15 1227.12 1544.91 Z\" fill=\"#000000\" fill-rule=\"evenodd\" fill-opacity=\"1\" /><path clip-path=\"url(#clip230)\" d=\"M1765.15 1530.21 Q1768.51 1530.93 1770.38 1533.2 Q1772.28 1535.47 1772.28 1538.8 Q1772.28 1543.92 1768.76 1546.72 Q1765.25 1549.52 1758.76 1549.52 Q1756.59 1549.52 1754.27 1549.08 Q1751.98 1548.66 1749.53 1547.81 L1749.53 1543.29 Q1751.47 1544.43 1753.79 1545.01 Q1756.1 1545.58 1758.62 1545.58 Q1763.02 1545.58 1765.31 1543.85 Q1767.63 1542.11 1767.63 1538.8 Q1767.63 1535.75 1765.48 1534.03 Q1763.35 1532.3 1759.53 1532.3 L1755.5 1532.3 L1755.5 1528.45 L1759.71 1528.45 Q1763.16 1528.45 1764.99 1527.09 Q1766.82 1525.7 1766.82 1523.11 Q1766.82 1520.45 1764.92 1519.03 Q1763.05 1517.6 1759.53 1517.6 Q1757.61 1517.6 1755.41 1518.01 Q1753.21 1518.43 1750.57 1519.31 L1750.57 1515.14 Q1753.23 1514.4 1755.55 1514.03 Q1757.88 1513.66 1759.94 1513.66 Q1765.27 1513.66 1768.37 1516.09 Q1771.47 1518.5 1771.47 1522.62 Q1771.47 1525.49 1769.83 1527.48 Q1768.18 1529.45 1765.15 1530.21 Z\" fill=\"#000000\" fill-rule=\"evenodd\" fill-opacity=\"1\" /><path clip-path=\"url(#clip230)\" d=\"M2292.35 1518.36 L2280.55 1536.81 L2292.35 1536.81 L2292.35 1518.36 M2291.13 1514.29 L2297.01 1514.29 L2297.01 1536.81 L2301.94 1536.81 L2301.94 1540.7 L2297.01 1540.7 L2297.01 1548.85 L2292.35 1548.85 L2292.35 1540.7 L2276.75 1540.7 L2276.75 1536.19 L2291.13 1514.29 Z\" fill=\"#000000\" fill-rule=\"evenodd\" fill-opacity=\"1\" /><polyline clip-path=\"url(#clip232)\" style=\"stroke:#000000; stroke-linecap:round; stroke-linejoin:round; stroke-width:2; stroke-opacity:0.1; fill:none\" points=\"\n  112.177,1445.72 2352.76,1445.72 \n  \"/>\n<polyline clip-path=\"url(#clip232)\" style=\"stroke:#000000; stroke-linecap:round; stroke-linejoin:round; stroke-width:2; stroke-opacity:0.1; fill:none\" points=\"\n  112.177,1106.28 2352.76,1106.28 \n  \"/>\n<polyline clip-path=\"url(#clip232)\" style=\"stroke:#000000; stroke-linecap:round; stroke-linejoin:round; stroke-width:2; stroke-opacity:0.1; fill:none\" points=\"\n  112.177,766.846 2352.76,766.846 \n  \"/>\n<polyline clip-path=\"url(#clip232)\" style=\"stroke:#000000; stroke-linecap:round; stroke-linejoin:round; stroke-width:2; stroke-opacity:0.1; fill:none\" points=\"\n  112.177,427.411 2352.76,427.411 \n  \"/>\n<polyline clip-path=\"url(#clip232)\" style=\"stroke:#000000; stroke-linecap:round; stroke-linejoin:round; stroke-width:2; stroke-opacity:0.1; fill:none\" points=\"\n  112.177,87.9763 2352.76,87.9763 \n  \"/>\n<polyline clip-path=\"url(#clip230)\" style=\"stroke:#000000; stroke-linecap:round; stroke-linejoin:round; stroke-width:4; stroke-opacity:1; fill:none\" points=\"\n  112.177,1486.45 112.177,47.2441 \n  \"/>\n<polyline clip-path=\"url(#clip230)\" style=\"stroke:#000000; stroke-linecap:round; stroke-linejoin:round; stroke-width:4; stroke-opacity:1; fill:none\" points=\"\n  112.177,1445.72 131.075,1445.72 \n  \"/>\n<polyline clip-path=\"url(#clip230)\" style=\"stroke:#000000; stroke-linecap:round; stroke-linejoin:round; stroke-width:4; stroke-opacity:1; fill:none\" points=\"\n  112.177,1106.28 131.075,1106.28 \n  \"/>\n<polyline clip-path=\"url(#clip230)\" style=\"stroke:#000000; stroke-linecap:round; stroke-linejoin:round; stroke-width:4; stroke-opacity:1; fill:none\" points=\"\n  112.177,766.846 131.075,766.846 \n  \"/>\n<polyline clip-path=\"url(#clip230)\" style=\"stroke:#000000; stroke-linecap:round; stroke-linejoin:round; stroke-width:4; stroke-opacity:1; fill:none\" points=\"\n  112.177,427.411 131.075,427.411 \n  \"/>\n<polyline clip-path=\"url(#clip230)\" style=\"stroke:#000000; stroke-linecap:round; stroke-linejoin:round; stroke-width:4; stroke-opacity:1; fill:none\" points=\"\n  112.177,87.9763 131.075,87.9763 \n  \"/>\n<path clip-path=\"url(#clip230)\" d=\"M64.2328 1431.51 Q60.6217 1431.51 58.793 1435.08 Q56.9875 1438.62 56.9875 1445.75 Q56.9875 1452.86 58.793 1456.42 Q60.6217 1459.96 64.2328 1459.96 Q67.867 1459.96 69.6726 1456.42 Q71.5013 1452.86 71.5013 1445.75 Q71.5013 1438.62 69.6726 1435.08 Q67.867 1431.51 64.2328 1431.51 M64.2328 1427.81 Q70.0429 1427.81 73.0985 1432.42 Q76.1772 1437 76.1772 1445.75 Q76.1772 1454.48 73.0985 1459.08 Q70.0429 1463.67 64.2328 1463.67 Q58.4226 1463.67 55.344 1459.08 Q52.2884 1454.48 52.2884 1445.75 Q52.2884 1437 55.344 1432.42 Q58.4226 1427.81 64.2328 1427.81 Z\" fill=\"#000000\" fill-rule=\"evenodd\" fill-opacity=\"1\" /><path clip-path=\"url(#clip230)\" d=\"M56.2699 1119.63 L63.9087 1119.63 L63.9087 1093.26 L55.5986 1094.93 L55.5986 1090.67 L63.8624 1089 L68.5383 1089 L68.5383 1119.63 L76.1772 1119.63 L76.1772 1123.56 L56.2699 1123.56 L56.2699 1119.63 Z\" fill=\"#000000\" fill-rule=\"evenodd\" fill-opacity=\"1\" /><path clip-path=\"url(#clip230)\" d=\"M59.8578 780.191 L76.1772 780.191 L76.1772 784.126 L54.2328 784.126 L54.2328 780.191 Q56.8949 777.436 61.4782 772.807 Q66.0846 768.154 67.2652 766.811 Q69.5105 764.288 70.3902 762.552 Q71.2929 760.793 71.2929 759.103 Q71.2929 756.348 69.3485 754.612 Q67.4272 752.876 64.3254 752.876 Q62.1263 752.876 59.6726 753.64 Q57.2421 754.404 54.4643 755.955 L54.4643 751.233 Q57.2884 750.098 59.7421 749.52 Q62.1958 748.941 64.2328 748.941 Q69.6031 748.941 72.7976 751.626 Q75.992 754.311 75.992 758.802 Q75.992 760.932 75.1818 762.853 Q74.3948 764.751 72.2883 767.344 Q71.7096 768.015 68.6078 771.233 Q65.5059 774.427 59.8578 780.191 Z\" fill=\"#000000\" fill-rule=\"evenodd\" fill-opacity=\"1\" /><path clip-path=\"url(#clip230)\" d=\"M69.0476 426.057 Q72.404 426.775 74.279 429.043 Q76.1772 431.312 76.1772 434.645 Q76.1772 439.761 72.6587 442.562 Q69.1402 445.362 62.6587 445.362 Q60.4828 445.362 58.168 444.923 Q55.8764 444.506 53.4227 443.649 L53.4227 439.136 Q55.3671 440.27 57.6819 440.849 Q59.9967 441.427 62.5198 441.427 Q66.918 441.427 69.2096 439.691 Q71.5244 437.955 71.5244 434.645 Q71.5244 431.589 69.3717 429.876 Q67.242 428.14 63.4226 428.14 L59.3949 428.14 L59.3949 424.298 L63.6078 424.298 Q67.0569 424.298 68.8855 422.932 Q70.7142 421.543 70.7142 418.951 Q70.7142 416.289 68.8161 414.876 Q66.9411 413.441 63.4226 413.441 Q61.5013 413.441 59.3023 413.858 Q57.1032 414.275 54.4643 415.154 L54.4643 410.988 Q57.1264 410.247 59.4412 409.877 Q61.7791 409.506 63.8393 409.506 Q69.1633 409.506 72.2652 411.937 Q75.367 414.344 75.367 418.464 Q75.367 421.335 73.7235 423.326 Q72.08 425.293 69.0476 426.057 Z\" fill=\"#000000\" fill-rule=\"evenodd\" fill-opacity=\"1\" /><path clip-path=\"url(#clip230)\" d=\"M66.5939 74.7703 L54.7884 93.2193 L66.5939 93.2193 L66.5939 74.7703 M65.367 70.6963 L71.2466 70.6963 L71.2466 93.2193 L76.1772 93.2193 L76.1772 97.1082 L71.2466 97.1082 L71.2466 105.256 L66.5939 105.256 L66.5939 97.1082 L50.9921 97.1082 L50.9921 92.5943 L65.367 70.6963 Z\" fill=\"#000000\" fill-rule=\"evenodd\" fill-opacity=\"1\" /><path clip-path=\"url(#clip232)\" d=\"\nM175.59 1445.72 L2289.34 1445.72 L2289.34 87.9763 L175.59 87.9763 L175.59 1445.72  Z\n  \" fill=\"#009af9\" fill-rule=\"evenodd\" fill-opacity=\"0.2\"/>\n<polyline clip-path=\"url(#clip232)\" style=\"stroke:#000000; stroke-linecap:round; stroke-linejoin:round; stroke-width:4; stroke-opacity:0.2; fill:none\" points=\"\n  175.59,1445.72 2289.34,1445.72 2289.34,87.9763 175.59,87.9763 175.59,1445.72 \n  \"/>\n<circle clip-path=\"url(#clip232)\" cx=\"175.59\" cy=\"1445.72\" r=\"14.4\" fill=\"#e26f46\" fill-rule=\"evenodd\" fill-opacity=\"1\" stroke=\"#000000\" stroke-opacity=\"1\" stroke-width=\"3.2\"/>\n<circle clip-path=\"url(#clip232)\" cx=\"175.59\" cy=\"87.9763\" r=\"14.4\" fill=\"#3da44d\" fill-rule=\"evenodd\" fill-opacity=\"1\" stroke=\"#000000\" stroke-opacity=\"1\" stroke-width=\"3.2\"/>\n<circle clip-path=\"url(#clip232)\" cx=\"175.59\" cy=\"766.846\" r=\"14.4\" fill=\"#c271d2\" fill-rule=\"evenodd\" fill-opacity=\"1\" stroke=\"#000000\" stroke-opacity=\"1\" stroke-width=\"3.2\"/>\n<circle clip-path=\"url(#clip232)\" cx=\"704.028\" cy=\"766.846\" r=\"14.4\" fill=\"#c271d2\" fill-rule=\"evenodd\" fill-opacity=\"1\" stroke=\"#000000\" stroke-opacity=\"1\" stroke-width=\"3.2\"/>\n<polyline clip-path=\"url(#clip232)\" style=\"stroke:#ac8d18; stroke-linecap:round; stroke-linejoin:round; stroke-width:4; stroke-opacity:1; fill:none\" points=\"\n  175.59,766.846 704.028,766.846 \n  \"/>\n<circle clip-path=\"url(#clip232)\" cx=\"671.005\" cy=\"716.52\" r=\"14.4\" fill=\"#00a9ad\" fill-rule=\"evenodd\" fill-opacity=\"1\" stroke=\"#000000\" stroke-opacity=\"1\" stroke-width=\"3.2\"/>\n<path clip-path=\"url(#clip230)\" d=\"\nM1745.29 458.098 L2278.07 458.098 L2278.07 95.2176 L1745.29 95.2176  Z\n  \" fill=\"#ffffff\" fill-rule=\"evenodd\" fill-opacity=\"1\"/>\n<polyline clip-path=\"url(#clip230)\" style=\"stroke:#000000; stroke-linecap:round; stroke-linejoin:round; stroke-width:4; stroke-opacity:1; fill:none\" points=\"\n  1745.29,458.098 2278.07,458.098 2278.07,95.2176 1745.29,95.2176 1745.29,458.098 \n  \"/>\n<path clip-path=\"url(#clip230)\" d=\"\nM1770.18 167.794 L1919.55 167.794 L1919.55 126.322 L1770.18 126.322 L1770.18 167.794  Z\n  \" fill=\"#009af9\" fill-rule=\"evenodd\" fill-opacity=\"0.2\"/>\n<polyline clip-path=\"url(#clip230)\" style=\"stroke:#000000; stroke-linecap:round; stroke-linejoin:round; stroke-width:4; stroke-opacity:1; fill:none\" points=\"\n  1770.18,167.794 1919.55,167.794 1919.55,126.322 1770.18,126.322 1770.18,167.794 \n  \"/>\n<path clip-path=\"url(#clip230)\" d=\"M1960.28 134.384 L1953.94 151.583 L1966.65 151.583 L1960.28 134.384 M1957.64 129.778 L1962.94 129.778 L1976.12 164.338 L1971.25 164.338 L1968.11 155.472 L1952.53 155.472 L1949.38 164.338 L1944.45 164.338 L1957.64 129.778 Z\" fill=\"#000000\" fill-rule=\"evenodd\" fill-opacity=\"1\" /><path clip-path=\"url(#clip230)\" d=\"M1985.1 160.449 L1985.1 174.199 L1980.81 174.199 L1980.81 138.412 L1985.1 138.412 L1985.1 142.347 Q1986.44 140.032 1988.48 138.921 Q1990.54 137.787 1993.38 137.787 Q1998.11 137.787 2001.05 141.537 Q2004.01 145.287 2004.01 151.398 Q2004.01 157.509 2001.05 161.259 Q1998.11 165.009 1993.38 165.009 Q1990.54 165.009 1988.48 163.898 Q1986.44 162.763 1985.1 160.449 M1999.59 151.398 Q1999.59 146.699 1997.64 144.037 Q1995.72 141.352 1992.34 141.352 Q1988.96 141.352 1987.02 144.037 Q1985.1 146.699 1985.1 151.398 Q1985.1 156.097 1987.02 158.782 Q1988.96 161.444 1992.34 161.444 Q1995.72 161.444 1997.64 158.782 Q1999.59 156.097 1999.59 151.398 Z\" fill=\"#000000\" fill-rule=\"evenodd\" fill-opacity=\"1\" /><path clip-path=\"url(#clip230)\" d=\"M2022.85 151.305 Q2017.69 151.305 2015.7 152.486 Q2013.71 153.666 2013.71 156.514 Q2013.71 158.782 2015.19 160.125 Q2016.69 161.444 2019.26 161.444 Q2022.81 161.444 2024.94 158.944 Q2027.09 156.421 2027.09 152.254 L2027.09 151.305 L2022.85 151.305 M2031.35 149.546 L2031.35 164.338 L2027.09 164.338 L2027.09 160.402 Q2025.63 162.763 2023.45 163.898 Q2021.28 165.009 2018.13 165.009 Q2014.15 165.009 2011.79 162.787 Q2009.45 160.541 2009.45 156.791 Q2009.45 152.416 2012.37 150.194 Q2015.31 147.972 2021.12 147.972 L2027.09 147.972 L2027.09 147.555 Q2027.09 144.615 2025.14 143.018 Q2023.22 141.398 2019.73 141.398 Q2017.5 141.398 2015.4 141.93 Q2013.29 142.463 2011.35 143.527 L2011.35 139.592 Q2013.69 138.69 2015.88 138.25 Q2018.08 137.787 2020.17 137.787 Q2025.79 137.787 2028.57 140.703 Q2031.35 143.62 2031.35 149.546 Z\" fill=\"#000000\" fill-rule=\"evenodd\" fill-opacity=\"1\" /><path clip-path=\"url(#clip230)\" d=\"M2055.14 142.393 Q2054.43 141.977 2053.57 141.791 Q2052.74 141.583 2051.72 141.583 Q2048.11 141.583 2046.16 143.944 Q2044.24 146.282 2044.24 150.68 L2044.24 164.338 L2039.96 164.338 L2039.96 138.412 L2044.24 138.412 L2044.24 142.44 Q2045.58 140.078 2047.74 138.944 Q2049.89 137.787 2052.97 137.787 Q2053.41 137.787 2053.94 137.856 Q2054.47 137.903 2055.12 138.018 L2055.14 142.393 Z\" fill=\"#000000\" fill-rule=\"evenodd\" fill-opacity=\"1\" /><path clip-path=\"url(#clip230)\" d=\"M2063.82 131.051 L2063.82 138.412 L2072.6 138.412 L2072.6 141.722 L2063.82 141.722 L2063.82 155.796 Q2063.82 158.967 2064.68 159.87 Q2065.56 160.773 2068.22 160.773 L2072.6 160.773 L2072.6 164.338 L2068.22 164.338 Q2063.29 164.338 2061.42 162.509 Q2059.54 160.657 2059.54 155.796 L2059.54 141.722 L2056.42 141.722 L2056.42 138.412 L2059.54 138.412 L2059.54 131.051 L2063.82 131.051 Z\" fill=\"#000000\" fill-rule=\"evenodd\" fill-opacity=\"1\" /><path clip-path=\"url(#clip230)\" d=\"M2089.98 151.305 Q2084.82 151.305 2082.83 152.486 Q2080.84 153.666 2080.84 156.514 Q2080.84 158.782 2082.32 160.125 Q2083.82 161.444 2086.39 161.444 Q2089.93 161.444 2092.06 158.944 Q2094.22 156.421 2094.22 152.254 L2094.22 151.305 L2089.98 151.305 M2098.48 149.546 L2098.48 164.338 L2094.22 164.338 L2094.22 160.402 Q2092.76 162.763 2090.58 163.898 Q2088.41 165.009 2085.26 165.009 Q2081.28 165.009 2078.92 162.787 Q2076.58 160.541 2076.58 156.791 Q2076.58 152.416 2079.5 150.194 Q2082.43 147.972 2088.24 147.972 L2094.22 147.972 L2094.22 147.555 Q2094.22 144.615 2092.27 143.018 Q2090.35 141.398 2086.86 141.398 Q2084.63 141.398 2082.53 141.93 Q2080.42 142.463 2078.48 143.527 L2078.48 139.592 Q2080.81 138.69 2083.01 138.25 Q2085.21 137.787 2087.3 137.787 Q2092.92 137.787 2095.7 140.703 Q2098.48 143.62 2098.48 149.546 Z\" fill=\"#000000\" fill-rule=\"evenodd\" fill-opacity=\"1\" /><path clip-path=\"url(#clip230)\" d=\"M2127.43 143.389 Q2129.03 140.518 2131.25 139.153 Q2133.48 137.787 2136.49 137.787 Q2140.54 137.787 2142.74 140.634 Q2144.93 143.458 2144.93 148.689 L2144.93 164.338 L2140.65 164.338 L2140.65 148.828 Q2140.65 145.102 2139.33 143.296 Q2138.01 141.49 2135.3 141.49 Q2131.99 141.49 2130.07 143.69 Q2128.15 145.889 2128.15 149.685 L2128.15 164.338 L2123.87 164.338 L2123.87 148.828 Q2123.87 145.078 2122.55 143.296 Q2121.23 141.49 2118.48 141.49 Q2115.21 141.49 2113.29 143.713 Q2111.37 145.912 2111.37 149.685 L2111.37 164.338 L2107.09 164.338 L2107.09 138.412 L2111.37 138.412 L2111.37 142.44 Q2112.83 140.055 2114.87 138.921 Q2116.9 137.787 2119.7 137.787 Q2122.53 137.787 2124.49 139.222 Q2126.49 140.657 2127.43 143.389 Z\" fill=\"#000000\" fill-rule=\"evenodd\" fill-opacity=\"1\" /><path clip-path=\"url(#clip230)\" d=\"M2175.61 150.31 L2175.61 152.393 L2156.02 152.393 Q2156.3 156.791 2158.66 159.106 Q2161.05 161.398 2165.28 161.398 Q2167.74 161.398 2170.03 160.796 Q2172.34 160.194 2174.61 158.99 L2174.61 163.018 Q2172.32 163.99 2169.91 164.5 Q2167.5 165.009 2165.03 165.009 Q2158.82 165.009 2155.19 161.398 Q2151.58 157.787 2151.58 151.629 Q2151.58 145.264 2155 141.537 Q2158.45 137.787 2164.29 137.787 Q2169.52 137.787 2172.55 141.166 Q2175.61 144.523 2175.61 150.31 M2171.35 149.06 Q2171.3 145.565 2169.38 143.481 Q2167.48 141.398 2164.33 141.398 Q2160.77 141.398 2158.61 143.412 Q2156.49 145.426 2156.16 149.083 L2171.35 149.06 Z\" fill=\"#000000\" fill-rule=\"evenodd\" fill-opacity=\"1\" /><path clip-path=\"url(#clip230)\" d=\"M2204.15 148.689 L2204.15 164.338 L2199.89 164.338 L2199.89 148.828 Q2199.89 145.148 2198.45 143.319 Q2197.02 141.49 2194.15 141.49 Q2190.7 141.49 2188.71 143.69 Q2186.72 145.889 2186.72 149.685 L2186.72 164.338 L2182.43 164.338 L2182.43 138.412 L2186.72 138.412 L2186.72 142.44 Q2188.24 140.102 2190.3 138.944 Q2192.39 137.787 2195.1 137.787 Q2199.56 137.787 2201.86 140.565 Q2204.15 143.319 2204.15 148.689 Z\" fill=\"#000000\" fill-rule=\"evenodd\" fill-opacity=\"1\" /><path clip-path=\"url(#clip230)\" d=\"M2216.86 131.051 L2216.86 138.412 L2225.63 138.412 L2225.63 141.722 L2216.86 141.722 L2216.86 155.796 Q2216.86 158.967 2217.71 159.87 Q2218.59 160.773 2221.25 160.773 L2225.63 160.773 L2225.63 164.338 L2221.25 164.338 Q2216.32 164.338 2214.45 162.509 Q2212.57 160.657 2212.57 155.796 L2212.57 141.722 L2209.45 141.722 L2209.45 138.412 L2212.57 138.412 L2212.57 131.051 L2216.86 131.051 Z\" fill=\"#000000\" fill-rule=\"evenodd\" fill-opacity=\"1\" /><path clip-path=\"url(#clip230)\" d=\"M2241.28 141.398 Q2237.85 141.398 2235.86 144.083 Q2233.87 146.745 2233.87 151.398 Q2233.87 156.051 2235.84 158.736 Q2237.83 161.398 2241.28 161.398 Q2244.68 161.398 2246.67 158.713 Q2248.66 156.027 2248.66 151.398 Q2248.66 146.791 2246.67 144.106 Q2244.68 141.398 2241.28 141.398 M2241.28 137.787 Q2246.83 137.787 2250 141.398 Q2253.17 145.009 2253.17 151.398 Q2253.17 157.764 2250 161.398 Q2246.83 165.009 2241.28 165.009 Q2235.7 165.009 2232.53 161.398 Q2229.38 157.764 2229.38 151.398 Q2229.38 145.009 2232.53 141.398 Q2235.7 137.787 2241.28 137.787 Z\" fill=\"#000000\" fill-rule=\"evenodd\" fill-opacity=\"1\" /><circle clip-path=\"url(#clip230)\" cx=\"1844.87\" cy=\"198.898\" r=\"23.04\" fill=\"#e26f46\" fill-rule=\"evenodd\" fill-opacity=\"1\" stroke=\"#000000\" stroke-opacity=\"1\" stroke-width=\"5.12\"/>\n<path clip-path=\"url(#clip230)\" d=\"M1949.13 185.46 L1949.13 212.335 L1954.77 212.335 Q1961.93 212.335 1965.24 209.094 Q1968.57 205.854 1968.57 198.863 Q1968.57 191.918 1965.24 188.701 Q1961.93 185.46 1954.77 185.46 L1949.13 185.46 M1944.45 181.618 L1954.06 181.618 Q1964.1 181.618 1968.8 185.807 Q1973.5 189.974 1973.5 198.863 Q1973.5 207.798 1968.78 211.988 Q1964.06 216.178 1954.06 216.178 L1944.45 216.178 L1944.45 181.618 Z\" fill=\"#000000\" fill-rule=\"evenodd\" fill-opacity=\"1\" /><path clip-path=\"url(#clip230)\" d=\"M1980.77 190.252 L1985.03 190.252 L1985.03 216.178 L1980.77 216.178 L1980.77 190.252 M1980.77 180.159 L1985.03 180.159 L1985.03 185.553 L1980.77 185.553 L1980.77 180.159 Z\" fill=\"#000000\" fill-rule=\"evenodd\" fill-opacity=\"1\" /><path clip-path=\"url(#clip230)\" d=\"M2010.47 191.016 L2010.47 195.043 Q2008.66 194.117 2006.72 193.655 Q2004.77 193.192 2002.69 193.192 Q1999.52 193.192 1997.92 194.164 Q1996.35 195.136 1996.35 197.08 Q1996.35 198.562 1997.48 199.418 Q1998.62 200.252 2002.04 201.016 L2003.5 201.34 Q2008.04 202.312 2009.94 204.094 Q2011.86 205.854 2011.86 209.025 Q2011.86 212.636 2008.99 214.742 Q2006.14 216.849 2001.14 216.849 Q1999.06 216.849 1996.79 216.432 Q1994.54 216.039 1992.04 215.228 L1992.04 210.83 Q1994.4 212.057 1996.69 212.682 Q1998.99 213.284 2001.23 213.284 Q2004.24 213.284 2005.86 212.266 Q2007.48 211.224 2007.48 209.349 Q2007.48 207.613 2006.3 206.687 Q2005.14 205.761 2001.19 204.904 L1999.7 204.557 Q1995.75 203.724 1993.99 202.011 Q1992.23 200.275 1992.23 197.266 Q1992.23 193.608 1994.82 191.618 Q1997.41 189.627 2002.18 189.627 Q2004.54 189.627 2006.63 189.974 Q2008.71 190.321 2010.47 191.016 Z\" fill=\"#000000\" fill-rule=\"evenodd\" fill-opacity=\"1\" /><path clip-path=\"url(#clip230)\" d=\"M2022.76 212.289 L2022.76 226.039 L2018.48 226.039 L2018.48 190.252 L2022.76 190.252 L2022.76 194.187 Q2024.1 191.872 2026.14 190.761 Q2028.2 189.627 2031.05 189.627 Q2035.77 189.627 2038.71 193.377 Q2041.67 197.127 2041.67 203.238 Q2041.67 209.349 2038.71 213.099 Q2035.77 216.849 2031.05 216.849 Q2028.2 216.849 2026.14 215.738 Q2024.1 214.603 2022.76 212.289 M2037.25 203.238 Q2037.25 198.539 2035.31 195.877 Q2033.38 193.192 2030 193.192 Q2026.62 193.192 2024.68 195.877 Q2022.76 198.539 2022.76 203.238 Q2022.76 207.937 2024.68 210.622 Q2026.62 213.284 2030 213.284 Q2033.38 213.284 2035.31 210.622 Q2037.25 207.937 2037.25 203.238 Z\" fill=\"#000000\" fill-rule=\"evenodd\" fill-opacity=\"1\" /><path clip-path=\"url(#clip230)\" d=\"M2058.78 193.238 Q2055.35 193.238 2053.36 195.923 Q2051.37 198.585 2051.37 203.238 Q2051.37 207.891 2053.34 210.576 Q2055.33 213.238 2058.78 213.238 Q2062.18 213.238 2064.17 210.553 Q2066.16 207.867 2066.16 203.238 Q2066.16 198.631 2064.17 195.946 Q2062.18 193.238 2058.78 193.238 M2058.78 189.627 Q2064.33 189.627 2067.5 193.238 Q2070.68 196.849 2070.68 203.238 Q2070.68 209.604 2067.5 213.238 Q2064.33 216.849 2058.78 216.849 Q2053.2 216.849 2050.03 213.238 Q2046.88 209.604 2046.88 203.238 Q2046.88 196.849 2050.03 193.238 Q2053.2 189.627 2058.78 189.627 Z\" fill=\"#000000\" fill-rule=\"evenodd\" fill-opacity=\"1\" /><path clip-path=\"url(#clip230)\" d=\"M2094.26 191.016 L2094.26 195.043 Q2092.46 194.117 2090.51 193.655 Q2088.57 193.192 2086.49 193.192 Q2083.31 193.192 2081.72 194.164 Q2080.14 195.136 2080.14 197.08 Q2080.14 198.562 2081.28 199.418 Q2082.41 200.252 2085.84 201.016 L2087.3 201.34 Q2091.83 202.312 2093.73 204.094 Q2095.65 205.854 2095.65 209.025 Q2095.65 212.636 2092.78 214.742 Q2089.93 216.849 2084.93 216.849 Q2082.85 216.849 2080.58 216.432 Q2078.34 216.039 2075.84 215.228 L2075.84 210.83 Q2078.2 212.057 2080.49 212.682 Q2082.78 213.284 2085.03 213.284 Q2088.04 213.284 2089.66 212.266 Q2091.28 211.224 2091.28 209.349 Q2091.28 207.613 2090.1 206.687 Q2088.94 205.761 2084.98 204.904 L2083.5 204.557 Q2079.54 203.724 2077.78 202.011 Q2076.02 200.275 2076.02 197.266 Q2076.02 193.608 2078.62 191.618 Q2081.21 189.627 2085.98 189.627 Q2088.34 189.627 2090.42 189.974 Q2092.5 190.321 2094.26 191.016 Z\" fill=\"#000000\" fill-rule=\"evenodd\" fill-opacity=\"1\" /><path clip-path=\"url(#clip230)\" d=\"M2102.43 190.252 L2106.69 190.252 L2106.69 216.178 L2102.43 216.178 L2102.43 190.252 M2102.43 180.159 L2106.69 180.159 L2106.69 185.553 L2102.43 185.553 L2102.43 180.159 Z\" fill=\"#000000\" fill-rule=\"evenodd\" fill-opacity=\"1\" /><path clip-path=\"url(#clip230)\" d=\"M2119.82 182.891 L2119.82 190.252 L2128.59 190.252 L2128.59 193.562 L2119.82 193.562 L2119.82 207.636 Q2119.82 210.807 2120.68 211.71 Q2121.55 212.613 2124.22 212.613 L2128.59 212.613 L2128.59 216.178 L2124.22 216.178 Q2119.29 216.178 2117.41 214.349 Q2115.54 212.497 2115.54 207.636 L2115.54 193.562 L2112.41 193.562 L2112.41 190.252 L2115.54 190.252 L2115.54 182.891 L2119.82 182.891 Z\" fill=\"#000000\" fill-rule=\"evenodd\" fill-opacity=\"1\" /><path clip-path=\"url(#clip230)\" d=\"M2134.19 190.252 L2138.45 190.252 L2138.45 216.178 L2134.19 216.178 L2134.19 190.252 M2134.19 180.159 L2138.45 180.159 L2138.45 185.553 L2134.19 185.553 L2134.19 180.159 Z\" fill=\"#000000\" fill-rule=\"evenodd\" fill-opacity=\"1\" /><path clip-path=\"url(#clip230)\" d=\"M2144.31 190.252 L2148.82 190.252 L2156.93 212.011 L2165.03 190.252 L2169.54 190.252 L2159.82 216.178 L2154.03 216.178 L2144.31 190.252 Z\" fill=\"#000000\" fill-rule=\"evenodd\" fill-opacity=\"1\" /><path clip-path=\"url(#clip230)\" d=\"M2185.47 193.238 Q2182.04 193.238 2180.05 195.923 Q2178.06 198.585 2178.06 203.238 Q2178.06 207.891 2180.03 210.576 Q2182.02 213.238 2185.47 213.238 Q2188.87 213.238 2190.86 210.553 Q2192.85 207.867 2192.85 203.238 Q2192.85 198.631 2190.86 195.946 Q2188.87 193.238 2185.47 193.238 M2185.47 189.627 Q2191.02 189.627 2194.19 193.238 Q2197.36 196.849 2197.36 203.238 Q2197.36 209.604 2194.19 213.238 Q2191.02 216.849 2185.47 216.849 Q2179.89 216.849 2176.72 213.238 Q2173.57 209.604 2173.57 203.238 Q2173.57 196.849 2176.72 193.238 Q2179.89 189.627 2185.47 189.627 Z\" fill=\"#000000\" fill-rule=\"evenodd\" fill-opacity=\"1\" /><path clip-path=\"url(#clip230)\" d=\"M2230.1 184.696 Q2226.48 184.696 2224.66 188.261 Q2222.85 191.803 2222.85 198.932 Q2222.85 206.039 2224.66 209.604 Q2226.48 213.145 2230.1 213.145 Q2233.73 213.145 2235.54 209.604 Q2237.36 206.039 2237.36 198.932 Q2237.36 191.803 2235.54 188.261 Q2233.73 184.696 2230.1 184.696 M2230.1 180.993 Q2235.91 180.993 2238.96 185.599 Q2242.04 190.182 2242.04 198.932 Q2242.04 207.659 2238.96 212.266 Q2235.91 216.849 2230.1 216.849 Q2224.29 216.849 2221.21 212.266 Q2218.15 207.659 2218.15 198.932 Q2218.15 190.182 2221.21 185.599 Q2224.29 180.993 2230.1 180.993 Z\" fill=\"#000000\" fill-rule=\"evenodd\" fill-opacity=\"1\" /><circle clip-path=\"url(#clip230)\" cx=\"1844.87\" cy=\"250.738\" r=\"23.04\" fill=\"#3da44d\" fill-rule=\"evenodd\" fill-opacity=\"1\" stroke=\"#000000\" stroke-opacity=\"1\" stroke-width=\"5.12\"/>\n<path clip-path=\"url(#clip230)\" d=\"M1949.13 237.3 L1949.13 264.175 L1954.77 264.175 Q1961.93 264.175 1965.24 260.934 Q1968.57 257.694 1968.57 250.703 Q1968.57 243.758 1965.24 240.541 Q1961.93 237.3 1954.77 237.3 L1949.13 237.3 M1944.45 233.458 L1954.06 233.458 Q1964.1 233.458 1968.8 237.647 Q1973.5 241.814 1973.5 250.703 Q1973.5 259.638 1968.78 263.828 Q1964.06 268.018 1954.06 268.018 L1944.45 268.018 L1944.45 233.458 Z\" fill=\"#000000\" fill-rule=\"evenodd\" fill-opacity=\"1\" /><path clip-path=\"url(#clip230)\" d=\"M1980.77 242.092 L1985.03 242.092 L1985.03 268.018 L1980.77 268.018 L1980.77 242.092 M1980.77 231.999 L1985.03 231.999 L1985.03 237.393 L1980.77 237.393 L1980.77 231.999 Z\" fill=\"#000000\" fill-rule=\"evenodd\" fill-opacity=\"1\" /><path clip-path=\"url(#clip230)\" d=\"M2010.47 242.856 L2010.47 246.883 Q2008.66 245.957 2006.72 245.495 Q2004.77 245.032 2002.69 245.032 Q1999.52 245.032 1997.92 246.004 Q1996.35 246.976 1996.35 248.92 Q1996.35 250.402 1997.48 251.258 Q1998.62 252.092 2002.04 252.856 L2003.5 253.18 Q2008.04 254.152 2009.94 255.934 Q2011.86 257.694 2011.86 260.865 Q2011.86 264.476 2008.99 266.582 Q2006.14 268.689 2001.14 268.689 Q1999.06 268.689 1996.79 268.272 Q1994.54 267.879 1992.04 267.068 L1992.04 262.67 Q1994.4 263.897 1996.69 264.522 Q1998.99 265.124 2001.23 265.124 Q2004.24 265.124 2005.86 264.106 Q2007.48 263.064 2007.48 261.189 Q2007.48 259.453 2006.3 258.527 Q2005.14 257.601 2001.19 256.744 L1999.7 256.397 Q1995.75 255.564 1993.99 253.851 Q1992.23 252.115 1992.23 249.106 Q1992.23 245.448 1994.82 243.458 Q1997.41 241.467 2002.18 241.467 Q2004.54 241.467 2006.63 241.814 Q2008.71 242.161 2010.47 242.856 Z\" fill=\"#000000\" fill-rule=\"evenodd\" fill-opacity=\"1\" /><path clip-path=\"url(#clip230)\" d=\"M2022.76 264.129 L2022.76 277.879 L2018.48 277.879 L2018.48 242.092 L2022.76 242.092 L2022.76 246.027 Q2024.1 243.712 2026.14 242.601 Q2028.2 241.467 2031.05 241.467 Q2035.77 241.467 2038.71 245.217 Q2041.67 248.967 2041.67 255.078 Q2041.67 261.189 2038.71 264.939 Q2035.77 268.689 2031.05 268.689 Q2028.2 268.689 2026.14 267.578 Q2024.1 266.443 2022.76 264.129 M2037.25 255.078 Q2037.25 250.379 2035.31 247.717 Q2033.38 245.032 2030 245.032 Q2026.62 245.032 2024.68 247.717 Q2022.76 250.379 2022.76 255.078 Q2022.76 259.777 2024.68 262.462 Q2026.62 265.124 2030 265.124 Q2033.38 265.124 2035.31 262.462 Q2037.25 259.777 2037.25 255.078 Z\" fill=\"#000000\" fill-rule=\"evenodd\" fill-opacity=\"1\" /><path clip-path=\"url(#clip230)\" d=\"M2058.78 245.078 Q2055.35 245.078 2053.36 247.763 Q2051.37 250.425 2051.37 255.078 Q2051.37 259.731 2053.34 262.416 Q2055.33 265.078 2058.78 265.078 Q2062.18 265.078 2064.17 262.393 Q2066.16 259.707 2066.16 255.078 Q2066.16 250.471 2064.17 247.786 Q2062.18 245.078 2058.78 245.078 M2058.78 241.467 Q2064.33 241.467 2067.5 245.078 Q2070.68 248.689 2070.68 255.078 Q2070.68 261.444 2067.5 265.078 Q2064.33 268.689 2058.78 268.689 Q2053.2 268.689 2050.03 265.078 Q2046.88 261.444 2046.88 255.078 Q2046.88 248.689 2050.03 245.078 Q2053.2 241.467 2058.78 241.467 Z\" fill=\"#000000\" fill-rule=\"evenodd\" fill-opacity=\"1\" /><path clip-path=\"url(#clip230)\" d=\"M2094.26 242.856 L2094.26 246.883 Q2092.46 245.957 2090.51 245.495 Q2088.57 245.032 2086.49 245.032 Q2083.31 245.032 2081.72 246.004 Q2080.14 246.976 2080.14 248.92 Q2080.14 250.402 2081.28 251.258 Q2082.41 252.092 2085.84 252.856 L2087.3 253.18 Q2091.83 254.152 2093.73 255.934 Q2095.65 257.694 2095.65 260.865 Q2095.65 264.476 2092.78 266.582 Q2089.93 268.689 2084.93 268.689 Q2082.85 268.689 2080.58 268.272 Q2078.34 267.879 2075.84 267.068 L2075.84 262.67 Q2078.2 263.897 2080.49 264.522 Q2082.78 265.124 2085.03 265.124 Q2088.04 265.124 2089.66 264.106 Q2091.28 263.064 2091.28 261.189 Q2091.28 259.453 2090.1 258.527 Q2088.94 257.601 2084.98 256.744 L2083.5 256.397 Q2079.54 255.564 2077.78 253.851 Q2076.02 252.115 2076.02 249.106 Q2076.02 245.448 2078.62 243.458 Q2081.21 241.467 2085.98 241.467 Q2088.34 241.467 2090.42 241.814 Q2092.5 242.161 2094.26 242.856 Z\" fill=\"#000000\" fill-rule=\"evenodd\" fill-opacity=\"1\" /><path clip-path=\"url(#clip230)\" d=\"M2102.43 242.092 L2106.69 242.092 L2106.69 268.018 L2102.43 268.018 L2102.43 242.092 M2102.43 231.999 L2106.69 231.999 L2106.69 237.393 L2102.43 237.393 L2102.43 231.999 Z\" fill=\"#000000\" fill-rule=\"evenodd\" fill-opacity=\"1\" /><path clip-path=\"url(#clip230)\" d=\"M2119.82 234.731 L2119.82 242.092 L2128.59 242.092 L2128.59 245.402 L2119.82 245.402 L2119.82 259.476 Q2119.82 262.647 2120.68 263.55 Q2121.55 264.453 2124.22 264.453 L2128.59 264.453 L2128.59 268.018 L2124.22 268.018 Q2119.29 268.018 2117.41 266.189 Q2115.54 264.337 2115.54 259.476 L2115.54 245.402 L2112.41 245.402 L2112.41 242.092 L2115.54 242.092 L2115.54 234.731 L2119.82 234.731 Z\" fill=\"#000000\" fill-rule=\"evenodd\" fill-opacity=\"1\" /><path clip-path=\"url(#clip230)\" d=\"M2134.19 242.092 L2138.45 242.092 L2138.45 268.018 L2134.19 268.018 L2134.19 242.092 M2134.19 231.999 L2138.45 231.999 L2138.45 237.393 L2134.19 237.393 L2134.19 231.999 Z\" fill=\"#000000\" fill-rule=\"evenodd\" fill-opacity=\"1\" /><path clip-path=\"url(#clip230)\" d=\"M2144.31 242.092 L2148.82 242.092 L2156.93 263.851 L2165.03 242.092 L2169.54 242.092 L2159.82 268.018 L2154.03 268.018 L2144.31 242.092 Z\" fill=\"#000000\" fill-rule=\"evenodd\" fill-opacity=\"1\" /><path clip-path=\"url(#clip230)\" d=\"M2185.47 245.078 Q2182.04 245.078 2180.05 247.763 Q2178.06 250.425 2178.06 255.078 Q2178.06 259.731 2180.03 262.416 Q2182.02 265.078 2185.47 265.078 Q2188.87 265.078 2190.86 262.393 Q2192.85 259.707 2192.85 255.078 Q2192.85 250.471 2190.86 247.786 Q2188.87 245.078 2185.47 245.078 M2185.47 241.467 Q2191.02 241.467 2194.19 245.078 Q2197.36 248.689 2197.36 255.078 Q2197.36 261.444 2194.19 265.078 Q2191.02 268.689 2185.47 268.689 Q2179.89 268.689 2176.72 265.078 Q2173.57 261.444 2173.57 255.078 Q2173.57 248.689 2176.72 245.078 Q2179.89 241.467 2185.47 241.467 Z\" fill=\"#000000\" fill-rule=\"evenodd\" fill-opacity=\"1\" /><path clip-path=\"url(#clip230)\" d=\"M2220.91 264.082 L2228.55 264.082 L2228.55 237.717 L2220.23 239.383 L2220.23 235.124 L2228.5 233.458 L2233.17 233.458 L2233.17 264.082 L2240.81 264.082 L2240.81 268.018 L2220.91 268.018 L2220.91 264.082 Z\" fill=\"#000000\" fill-rule=\"evenodd\" fill-opacity=\"1\" /><circle clip-path=\"url(#clip230)\" cx=\"1844.87\" cy=\"302.578\" r=\"23.04\" fill=\"#c271d2\" fill-rule=\"evenodd\" fill-opacity=\"1\" stroke=\"#000000\" stroke-opacity=\"1\" stroke-width=\"5.12\"/>\n<path clip-path=\"url(#clip230)\" d=\"M1944.45 285.298 L1949.13 285.298 L1949.13 319.858 L1944.45 319.858 L1944.45 285.298 Z\" fill=\"#000000\" fill-rule=\"evenodd\" fill-opacity=\"1\" /><path clip-path=\"url(#clip230)\" d=\"M1979.8 304.209 L1979.8 319.858 L1975.54 319.858 L1975.54 304.348 Q1975.54 300.668 1974.1 298.839 Q1972.67 297.01 1969.8 297.01 Q1966.35 297.01 1964.36 299.21 Q1962.37 301.409 1962.37 305.205 L1962.37 319.858 L1958.08 319.858 L1958.08 293.932 L1962.37 293.932 L1962.37 297.96 Q1963.89 295.622 1965.95 294.464 Q1968.04 293.307 1970.75 293.307 Q1975.21 293.307 1977.5 296.085 Q1979.8 298.839 1979.8 304.209 Z\" fill=\"#000000\" fill-rule=\"evenodd\" fill-opacity=\"1\" /><path clip-path=\"url(#clip230)\" d=\"M1992.5 286.571 L1992.5 293.932 L2001.28 293.932 L2001.28 297.242 L1992.5 297.242 L1992.5 311.316 Q1992.5 314.487 1993.36 315.39 Q1994.24 316.293 1996.9 316.293 L2001.28 316.293 L2001.28 319.858 L1996.9 319.858 Q1991.97 319.858 1990.1 318.029 Q1988.22 316.177 1988.22 311.316 L1988.22 297.242 L1985.1 297.242 L1985.1 293.932 L1988.22 293.932 L1988.22 286.571 L1992.5 286.571 Z\" fill=\"#000000\" fill-rule=\"evenodd\" fill-opacity=\"1\" /><path clip-path=\"url(#clip230)\" d=\"M2029.06 305.83 L2029.06 307.913 L2009.47 307.913 Q2009.75 312.311 2012.11 314.626 Q2014.5 316.918 2018.73 316.918 Q2021.19 316.918 2023.48 316.316 Q2025.79 315.714 2028.06 314.51 L2028.06 318.538 Q2025.77 319.51 2023.36 320.02 Q2020.95 320.529 2018.48 320.529 Q2012.27 320.529 2008.64 316.918 Q2005.03 313.307 2005.03 307.149 Q2005.03 300.784 2008.45 297.057 Q2011.9 293.307 2017.74 293.307 Q2022.97 293.307 2026 296.686 Q2029.06 300.043 2029.06 305.83 M2024.8 304.58 Q2024.75 301.085 2022.83 299.001 Q2020.93 296.918 2017.78 296.918 Q2014.22 296.918 2012.06 298.932 Q2009.94 300.946 2009.61 304.603 L2024.8 304.58 Z\" fill=\"#000000\" fill-rule=\"evenodd\" fill-opacity=\"1\" /><path clip-path=\"url(#clip230)\" d=\"M2051.07 297.913 Q2050.35 297.497 2049.5 297.311 Q2048.66 297.103 2047.64 297.103 Q2044.03 297.103 2042.09 299.464 Q2040.17 301.802 2040.17 306.2 L2040.17 319.858 L2035.88 319.858 L2035.88 293.932 L2040.17 293.932 L2040.17 297.96 Q2041.51 295.598 2043.66 294.464 Q2045.81 293.307 2048.89 293.307 Q2049.33 293.307 2049.87 293.376 Q2050.4 293.423 2051.05 293.538 L2051.07 297.913 Z\" fill=\"#000000\" fill-rule=\"evenodd\" fill-opacity=\"1\" /><path clip-path=\"url(#clip230)\" d=\"M2068.66 283.839 L2068.66 287.381 L2064.59 287.381 Q2062.3 287.381 2061.39 288.307 Q2060.51 289.233 2060.51 291.64 L2060.51 293.932 L2067.53 293.932 L2067.53 297.242 L2060.51 297.242 L2060.51 319.858 L2056.23 319.858 L2056.23 297.242 L2052.16 297.242 L2052.16 293.932 L2056.23 293.932 L2056.23 292.126 Q2056.23 287.798 2058.25 285.83 Q2060.26 283.839 2064.63 283.839 L2068.66 283.839 Z\" fill=\"#000000\" fill-rule=\"evenodd\" fill-opacity=\"1\" /><path clip-path=\"url(#clip230)\" d=\"M2094.4 305.83 L2094.4 307.913 L2074.82 307.913 Q2075.1 312.311 2077.46 314.626 Q2079.84 316.918 2084.08 316.918 Q2086.53 316.918 2088.82 316.316 Q2091.14 315.714 2093.41 314.51 L2093.41 318.538 Q2091.12 319.51 2088.71 320.02 Q2086.3 320.529 2083.82 320.529 Q2077.62 320.529 2073.99 316.918 Q2070.37 313.307 2070.37 307.149 Q2070.37 300.784 2073.8 297.057 Q2077.25 293.307 2083.08 293.307 Q2088.31 293.307 2091.35 296.686 Q2094.4 300.043 2094.4 305.83 M2090.14 304.58 Q2090.1 301.085 2088.18 299.001 Q2086.28 296.918 2083.13 296.918 Q2079.56 296.918 2077.41 298.932 Q2075.28 300.946 2074.96 304.603 L2090.14 304.58 Z\" fill=\"#000000\" fill-rule=\"evenodd\" fill-opacity=\"1\" /><path clip-path=\"url(#clip230)\" d=\"M2116.42 297.913 Q2115.7 297.497 2114.84 297.311 Q2114.01 297.103 2112.99 297.103 Q2109.38 297.103 2107.43 299.464 Q2105.51 301.802 2105.51 306.2 L2105.51 319.858 L2101.23 319.858 L2101.23 293.932 L2105.51 293.932 L2105.51 297.96 Q2106.86 295.598 2109.01 294.464 Q2111.16 293.307 2114.24 293.307 Q2114.68 293.307 2115.21 293.376 Q2115.74 293.423 2116.39 293.538 L2116.42 297.913 Z\" fill=\"#000000\" fill-rule=\"evenodd\" fill-opacity=\"1\" /><path clip-path=\"url(#clip230)\" d=\"M2142.02 305.83 L2142.02 307.913 L2122.43 307.913 Q2122.71 312.311 2125.07 314.626 Q2127.46 316.918 2131.69 316.918 Q2134.15 316.918 2136.44 316.316 Q2138.75 315.714 2141.02 314.51 L2141.02 318.538 Q2138.73 319.51 2136.32 320.02 Q2133.92 320.529 2131.44 320.529 Q2125.24 320.529 2121.6 316.918 Q2117.99 313.307 2117.99 307.149 Q2117.99 300.784 2121.42 297.057 Q2124.87 293.307 2130.7 293.307 Q2135.93 293.307 2138.96 296.686 Q2142.02 300.043 2142.02 305.83 M2137.76 304.58 Q2137.71 301.085 2135.79 299.001 Q2133.89 296.918 2130.74 296.918 Q2127.18 296.918 2125.03 298.932 Q2122.9 300.946 2122.57 304.603 L2137.76 304.58 Z\" fill=\"#000000\" fill-rule=\"evenodd\" fill-opacity=\"1\" /><path clip-path=\"url(#clip230)\" d=\"M2170.56 304.209 L2170.56 319.858 L2166.3 319.858 L2166.3 304.348 Q2166.3 300.668 2164.86 298.839 Q2163.43 297.01 2160.56 297.01 Q2157.11 297.01 2155.12 299.21 Q2153.13 301.409 2153.13 305.205 L2153.13 319.858 L2148.85 319.858 L2148.85 293.932 L2153.13 293.932 L2153.13 297.96 Q2154.66 295.622 2156.72 294.464 Q2158.8 293.307 2161.51 293.307 Q2165.98 293.307 2168.27 296.085 Q2170.56 298.839 2170.56 304.209 Z\" fill=\"#000000\" fill-rule=\"evenodd\" fill-opacity=\"1\" /><path clip-path=\"url(#clip230)\" d=\"M2197.71 294.927 L2197.71 298.909 Q2195.91 297.913 2194.08 297.427 Q2192.27 296.918 2190.42 296.918 Q2186.28 296.918 2183.99 299.557 Q2181.69 302.172 2181.69 306.918 Q2181.69 311.663 2183.99 314.302 Q2186.28 316.918 2190.42 316.918 Q2192.27 316.918 2194.08 316.432 Q2195.91 315.922 2197.71 314.927 L2197.71 318.862 Q2195.93 319.696 2194.01 320.112 Q2192.11 320.529 2189.96 320.529 Q2184.1 320.529 2180.65 316.848 Q2177.2 313.168 2177.2 306.918 Q2177.2 300.575 2180.68 296.941 Q2184.17 293.307 2190.24 293.307 Q2192.2 293.307 2194.08 293.723 Q2195.95 294.117 2197.71 294.927 Z\" fill=\"#000000\" fill-rule=\"evenodd\" fill-opacity=\"1\" /><path clip-path=\"url(#clip230)\" d=\"M2205.12 293.932 L2209.38 293.932 L2209.38 319.858 L2205.12 319.858 L2205.12 293.932 M2205.12 283.839 L2209.38 283.839 L2209.38 289.233 L2205.12 289.233 L2205.12 283.839 Z\" fill=\"#000000\" fill-rule=\"evenodd\" fill-opacity=\"1\" /><path clip-path=\"url(#clip230)\" d=\"M2230.07 306.825 Q2224.91 306.825 2222.92 308.006 Q2220.93 309.186 2220.93 312.034 Q2220.93 314.302 2222.41 315.645 Q2223.92 316.964 2226.48 316.964 Q2230.03 316.964 2232.16 314.464 Q2234.31 311.941 2234.31 307.774 L2234.31 306.825 L2230.07 306.825 M2238.57 305.066 L2238.57 319.858 L2234.31 319.858 L2234.31 315.922 Q2232.85 318.283 2230.67 319.418 Q2228.5 320.529 2225.35 320.529 Q2221.37 320.529 2219.01 318.307 Q2216.67 316.061 2216.67 312.311 Q2216.67 307.936 2219.59 305.714 Q2222.53 303.492 2228.34 303.492 L2234.31 303.492 L2234.31 303.075 Q2234.31 300.135 2232.36 298.538 Q2230.44 296.918 2226.95 296.918 Q2224.73 296.918 2222.62 297.45 Q2220.51 297.983 2218.57 299.047 L2218.57 295.112 Q2220.91 294.21 2223.11 293.77 Q2225.3 293.307 2227.39 293.307 Q2233.01 293.307 2235.79 296.223 Q2238.57 299.14 2238.57 305.066 Z\" fill=\"#000000\" fill-rule=\"evenodd\" fill-opacity=\"1\" /><polyline clip-path=\"url(#clip230)\" style=\"stroke:#ac8d18; stroke-linecap:round; stroke-linejoin:round; stroke-width:4; stroke-opacity:1; fill:none\" points=\"\n  1770.18,354.418 1919.55,354.418 \n  \"/>\n<path clip-path=\"url(#clip230)\" d=\"M1944.45 337.138 L1949.13 337.138 L1949.13 371.698 L1944.45 371.698 L1944.45 337.138 Z\" fill=\"#000000\" fill-rule=\"evenodd\" fill-opacity=\"1\" /><path clip-path=\"url(#clip230)\" d=\"M1979.8 356.049 L1979.8 371.698 L1975.54 371.698 L1975.54 356.188 Q1975.54 352.508 1974.1 350.679 Q1972.67 348.85 1969.8 348.85 Q1966.35 348.85 1964.36 351.05 Q1962.37 353.249 1962.37 357.045 L1962.37 371.698 L1958.08 371.698 L1958.08 345.772 L1962.37 345.772 L1962.37 349.8 Q1963.89 347.462 1965.95 346.304 Q1968.04 345.147 1970.75 345.147 Q1975.21 345.147 1977.5 347.925 Q1979.8 350.679 1979.8 356.049 Z\" fill=\"#000000\" fill-rule=\"evenodd\" fill-opacity=\"1\" /><path clip-path=\"url(#clip230)\" d=\"M1992.5 338.411 L1992.5 345.772 L2001.28 345.772 L2001.28 349.082 L1992.5 349.082 L1992.5 363.156 Q1992.5 366.327 1993.36 367.23 Q1994.24 368.133 1996.9 368.133 L2001.28 368.133 L2001.28 371.698 L1996.9 371.698 Q1991.97 371.698 1990.1 369.869 Q1988.22 368.017 1988.22 363.156 L1988.22 349.082 L1985.1 349.082 L1985.1 345.772 L1988.22 345.772 L1988.22 338.411 L1992.5 338.411 Z\" fill=\"#000000\" fill-rule=\"evenodd\" fill-opacity=\"1\" /><path clip-path=\"url(#clip230)\" d=\"M2029.06 357.67 L2029.06 359.753 L2009.47 359.753 Q2009.75 364.151 2012.11 366.466 Q2014.5 368.758 2018.73 368.758 Q2021.19 368.758 2023.48 368.156 Q2025.79 367.554 2028.06 366.35 L2028.06 370.378 Q2025.77 371.35 2023.36 371.86 Q2020.95 372.369 2018.48 372.369 Q2012.27 372.369 2008.64 368.758 Q2005.03 365.147 2005.03 358.989 Q2005.03 352.624 2008.45 348.897 Q2011.9 345.147 2017.74 345.147 Q2022.97 345.147 2026 348.526 Q2029.06 351.883 2029.06 357.67 M2024.8 356.42 Q2024.75 352.925 2022.83 350.841 Q2020.93 348.758 2017.78 348.758 Q2014.22 348.758 2012.06 350.772 Q2009.94 352.786 2009.61 356.443 L2024.8 356.42 Z\" fill=\"#000000\" fill-rule=\"evenodd\" fill-opacity=\"1\" /><path clip-path=\"url(#clip230)\" d=\"M2051.07 349.753 Q2050.35 349.337 2049.5 349.151 Q2048.66 348.943 2047.64 348.943 Q2044.03 348.943 2042.09 351.304 Q2040.17 353.642 2040.17 358.04 L2040.17 371.698 L2035.88 371.698 L2035.88 345.772 L2040.17 345.772 L2040.17 349.8 Q2041.51 347.438 2043.66 346.304 Q2045.81 345.147 2048.89 345.147 Q2049.33 345.147 2049.87 345.216 Q2050.4 345.263 2051.05 345.378 L2051.07 349.753 Z\" fill=\"#000000\" fill-rule=\"evenodd\" fill-opacity=\"1\" /><path clip-path=\"url(#clip230)\" d=\"M2068.66 335.679 L2068.66 339.221 L2064.59 339.221 Q2062.3 339.221 2061.39 340.147 Q2060.51 341.073 2060.51 343.48 L2060.51 345.772 L2067.53 345.772 L2067.53 349.082 L2060.51 349.082 L2060.51 371.698 L2056.23 371.698 L2056.23 349.082 L2052.16 349.082 L2052.16 345.772 L2056.23 345.772 L2056.23 343.966 Q2056.23 339.638 2058.25 337.67 Q2060.26 335.679 2064.63 335.679 L2068.66 335.679 Z\" fill=\"#000000\" fill-rule=\"evenodd\" fill-opacity=\"1\" /><path clip-path=\"url(#clip230)\" d=\"M2094.4 357.67 L2094.4 359.753 L2074.82 359.753 Q2075.1 364.151 2077.46 366.466 Q2079.84 368.758 2084.08 368.758 Q2086.53 368.758 2088.82 368.156 Q2091.14 367.554 2093.41 366.35 L2093.41 370.378 Q2091.12 371.35 2088.71 371.86 Q2086.3 372.369 2083.82 372.369 Q2077.62 372.369 2073.99 368.758 Q2070.37 365.147 2070.37 358.989 Q2070.37 352.624 2073.8 348.897 Q2077.25 345.147 2083.08 345.147 Q2088.31 345.147 2091.35 348.526 Q2094.4 351.883 2094.4 357.67 M2090.14 356.42 Q2090.1 352.925 2088.18 350.841 Q2086.28 348.758 2083.13 348.758 Q2079.56 348.758 2077.41 350.772 Q2075.28 352.786 2074.96 356.443 L2090.14 356.42 Z\" fill=\"#000000\" fill-rule=\"evenodd\" fill-opacity=\"1\" /><path clip-path=\"url(#clip230)\" d=\"M2116.42 349.753 Q2115.7 349.337 2114.84 349.151 Q2114.01 348.943 2112.99 348.943 Q2109.38 348.943 2107.43 351.304 Q2105.51 353.642 2105.51 358.04 L2105.51 371.698 L2101.23 371.698 L2101.23 345.772 L2105.51 345.772 L2105.51 349.8 Q2106.86 347.438 2109.01 346.304 Q2111.16 345.147 2114.24 345.147 Q2114.68 345.147 2115.21 345.216 Q2115.74 345.263 2116.39 345.378 L2116.42 349.753 Z\" fill=\"#000000\" fill-rule=\"evenodd\" fill-opacity=\"1\" /><path clip-path=\"url(#clip230)\" d=\"M2142.02 357.67 L2142.02 359.753 L2122.43 359.753 Q2122.71 364.151 2125.07 366.466 Q2127.46 368.758 2131.69 368.758 Q2134.15 368.758 2136.44 368.156 Q2138.75 367.554 2141.02 366.35 L2141.02 370.378 Q2138.73 371.35 2136.32 371.86 Q2133.92 372.369 2131.44 372.369 Q2125.24 372.369 2121.6 368.758 Q2117.99 365.147 2117.99 358.989 Q2117.99 352.624 2121.42 348.897 Q2124.87 345.147 2130.7 345.147 Q2135.93 345.147 2138.96 348.526 Q2142.02 351.883 2142.02 357.67 M2137.76 356.42 Q2137.71 352.925 2135.79 350.841 Q2133.89 348.758 2130.74 348.758 Q2127.18 348.758 2125.03 350.772 Q2122.9 352.786 2122.57 356.443 L2137.76 356.42 Z\" fill=\"#000000\" fill-rule=\"evenodd\" fill-opacity=\"1\" /><path clip-path=\"url(#clip230)\" d=\"M2170.56 356.049 L2170.56 371.698 L2166.3 371.698 L2166.3 356.188 Q2166.3 352.508 2164.86 350.679 Q2163.43 348.85 2160.56 348.85 Q2157.11 348.85 2155.12 351.05 Q2153.13 353.249 2153.13 357.045 L2153.13 371.698 L2148.85 371.698 L2148.85 345.772 L2153.13 345.772 L2153.13 349.8 Q2154.66 347.462 2156.72 346.304 Q2158.8 345.147 2161.51 345.147 Q2165.98 345.147 2168.27 347.925 Q2170.56 350.679 2170.56 356.049 Z\" fill=\"#000000\" fill-rule=\"evenodd\" fill-opacity=\"1\" /><path clip-path=\"url(#clip230)\" d=\"M2197.71 346.767 L2197.71 350.749 Q2195.91 349.753 2194.08 349.267 Q2192.27 348.758 2190.42 348.758 Q2186.28 348.758 2183.99 351.397 Q2181.69 354.012 2181.69 358.758 Q2181.69 363.503 2183.99 366.142 Q2186.28 368.758 2190.42 368.758 Q2192.27 368.758 2194.08 368.272 Q2195.91 367.762 2197.71 366.767 L2197.71 370.702 Q2195.93 371.536 2194.01 371.952 Q2192.11 372.369 2189.96 372.369 Q2184.1 372.369 2180.65 368.688 Q2177.2 365.008 2177.2 358.758 Q2177.2 352.415 2180.68 348.781 Q2184.17 345.147 2190.24 345.147 Q2192.2 345.147 2194.08 345.563 Q2195.95 345.957 2197.71 346.767 Z\" fill=\"#000000\" fill-rule=\"evenodd\" fill-opacity=\"1\" /><path clip-path=\"url(#clip230)\" d=\"M2205.12 345.772 L2209.38 345.772 L2209.38 371.698 L2205.12 371.698 L2205.12 345.772 M2205.12 335.679 L2209.38 335.679 L2209.38 341.073 L2205.12 341.073 L2205.12 335.679 Z\" fill=\"#000000\" fill-rule=\"evenodd\" fill-opacity=\"1\" /><path clip-path=\"url(#clip230)\" d=\"M2230.07 358.665 Q2224.91 358.665 2222.92 359.846 Q2220.93 361.026 2220.93 363.874 Q2220.93 366.142 2222.41 367.485 Q2223.92 368.804 2226.48 368.804 Q2230.03 368.804 2232.16 366.304 Q2234.31 363.781 2234.31 359.614 L2234.31 358.665 L2230.07 358.665 M2238.57 356.906 L2238.57 371.698 L2234.31 371.698 L2234.31 367.762 Q2232.85 370.123 2230.67 371.258 Q2228.5 372.369 2225.35 372.369 Q2221.37 372.369 2219.01 370.147 Q2216.67 367.901 2216.67 364.151 Q2216.67 359.776 2219.59 357.554 Q2222.53 355.332 2228.34 355.332 L2234.31 355.332 L2234.31 354.915 Q2234.31 351.975 2232.36 350.378 Q2230.44 348.758 2226.95 348.758 Q2224.73 348.758 2222.62 349.29 Q2220.51 349.823 2218.57 350.887 L2218.57 346.952 Q2220.91 346.05 2223.11 345.61 Q2225.3 345.147 2227.39 345.147 Q2233.01 345.147 2235.79 348.063 Q2238.57 350.98 2238.57 356.906 Z\" fill=\"#000000\" fill-rule=\"evenodd\" fill-opacity=\"1\" /><circle clip-path=\"url(#clip230)\" cx=\"1844.87\" cy=\"406.258\" r=\"23.04\" fill=\"#00a9ad\" fill-rule=\"evenodd\" fill-opacity=\"1\" stroke=\"#000000\" stroke-opacity=\"1\" stroke-width=\"5.12\"/>\n<path clip-path=\"url(#clip230)\" d=\"M1960.84 407.334 Q1962.34 407.843 1963.75 409.51 Q1965.19 411.177 1966.63 414.093 L1971.37 423.538 L1966.35 423.538 L1961.93 414.672 Q1960.21 411.2 1958.59 410.065 Q1957 408.931 1954.22 408.931 L1949.13 408.931 L1949.13 423.538 L1944.45 423.538 L1944.45 388.978 L1955 388.978 Q1960.93 388.978 1963.85 391.454 Q1966.76 393.931 1966.76 398.931 Q1966.76 402.195 1965.24 404.348 Q1963.73 406.501 1960.84 407.334 M1949.13 392.82 L1949.13 405.089 L1955 405.089 Q1958.38 405.089 1960.1 403.538 Q1961.83 401.964 1961.83 398.931 Q1961.83 395.899 1960.1 394.371 Q1958.38 392.82 1955 392.82 L1949.13 392.82 Z\" fill=\"#000000\" fill-rule=\"evenodd\" fill-opacity=\"1\" /><path clip-path=\"url(#clip230)\" d=\"M1985.12 400.598 Q1981.69 400.598 1979.7 403.283 Q1977.71 405.945 1977.71 410.598 Q1977.71 415.251 1979.68 417.936 Q1981.67 420.598 1985.12 420.598 Q1988.52 420.598 1990.51 417.913 Q1992.5 415.227 1992.5 410.598 Q1992.5 405.991 1990.51 403.306 Q1988.52 400.598 1985.12 400.598 M1985.12 396.987 Q1990.68 396.987 1993.85 400.598 Q1997.02 404.209 1997.02 410.598 Q1997.02 416.964 1993.85 420.598 Q1990.68 424.209 1985.12 424.209 Q1979.54 424.209 1976.37 420.598 Q1973.22 416.964 1973.22 410.598 Q1973.22 404.209 1976.37 400.598 Q1979.54 396.987 1985.12 396.987 Z\" fill=\"#000000\" fill-rule=\"evenodd\" fill-opacity=\"1\" /><path clip-path=\"url(#clip230)\" d=\"M2008.29 390.251 L2008.29 397.612 L2017.06 397.612 L2017.06 400.922 L2008.29 400.922 L2008.29 414.996 Q2008.29 418.167 2009.15 419.07 Q2010.03 419.973 2012.69 419.973 L2017.06 419.973 L2017.06 423.538 L2012.69 423.538 Q2007.76 423.538 2005.88 421.709 Q2004.01 419.857 2004.01 414.996 L2004.01 400.922 L2000.88 400.922 L2000.88 397.612 L2004.01 397.612 L2004.01 390.251 L2008.29 390.251 Z\" fill=\"#000000\" fill-rule=\"evenodd\" fill-opacity=\"1\" /><path clip-path=\"url(#clip230)\" d=\"M2044.84 409.51 L2044.84 411.593 L2025.26 411.593 Q2025.54 415.991 2027.9 418.306 Q2030.28 420.598 2034.52 420.598 Q2036.97 420.598 2039.26 419.996 Q2041.58 419.394 2043.85 418.19 L2043.85 422.218 Q2041.56 423.19 2039.15 423.7 Q2036.74 424.209 2034.26 424.209 Q2028.06 424.209 2024.43 420.598 Q2020.81 416.987 2020.81 410.829 Q2020.81 404.464 2024.24 400.737 Q2027.69 396.987 2033.52 396.987 Q2038.75 396.987 2041.79 400.366 Q2044.84 403.723 2044.84 409.51 M2040.58 408.26 Q2040.54 404.765 2038.62 402.681 Q2036.72 400.598 2033.57 400.598 Q2030 400.598 2027.85 402.612 Q2025.72 404.626 2025.4 408.283 L2040.58 408.26 Z\" fill=\"#000000\" fill-rule=\"evenodd\" fill-opacity=\"1\" /><path clip-path=\"url(#clip230)\" d=\"M2063.62 410.505 Q2058.45 410.505 2056.46 411.686 Q2054.47 412.866 2054.47 415.714 Q2054.47 417.982 2055.95 419.325 Q2057.46 420.644 2060.03 420.644 Q2063.57 420.644 2065.7 418.144 Q2067.85 415.621 2067.85 411.454 L2067.85 410.505 L2063.62 410.505 M2072.11 408.746 L2072.11 423.538 L2067.85 423.538 L2067.85 419.602 Q2066.39 421.963 2064.22 423.098 Q2062.04 424.209 2058.89 424.209 Q2054.91 424.209 2052.55 421.987 Q2050.21 419.741 2050.21 415.991 Q2050.21 411.616 2053.13 409.394 Q2056.07 407.172 2061.88 407.172 L2067.85 407.172 L2067.85 406.755 Q2067.85 403.815 2065.91 402.218 Q2063.99 400.598 2060.49 400.598 Q2058.27 400.598 2056.16 401.13 Q2054.06 401.663 2052.11 402.727 L2052.11 398.792 Q2054.45 397.89 2056.65 397.45 Q2058.85 396.987 2060.93 396.987 Q2066.56 396.987 2069.33 399.903 Q2072.11 402.82 2072.11 408.746 Z\" fill=\"#000000\" fill-rule=\"evenodd\" fill-opacity=\"1\" /><path clip-path=\"url(#clip230)\" d=\"M2097.94 401.547 L2097.94 387.519 L2102.2 387.519 L2102.2 423.538 L2097.94 423.538 L2097.94 419.649 Q2096.6 421.963 2094.54 423.098 Q2092.5 424.209 2089.63 424.209 Q2084.93 424.209 2081.97 420.459 Q2079.03 416.709 2079.03 410.598 Q2079.03 404.487 2081.97 400.737 Q2084.93 396.987 2089.63 396.987 Q2092.5 396.987 2094.54 398.121 Q2096.6 399.232 2097.94 401.547 M2083.43 410.598 Q2083.43 415.297 2085.35 417.982 Q2087.3 420.644 2090.68 420.644 Q2094.06 420.644 2096 417.982 Q2097.94 415.297 2097.94 410.598 Q2097.94 405.899 2096 403.237 Q2094.06 400.552 2090.68 400.552 Q2087.3 400.552 2085.35 403.237 Q2083.43 405.899 2083.43 410.598 Z\" fill=\"#000000\" fill-rule=\"evenodd\" fill-opacity=\"1\" /><path clip-path=\"url(#clip230)\" d=\"M2121.02 400.598 Q2117.6 400.598 2115.61 403.283 Q2113.62 405.945 2113.62 410.598 Q2113.62 415.251 2115.58 417.936 Q2117.57 420.598 2121.02 420.598 Q2124.43 420.598 2126.42 417.913 Q2128.41 415.227 2128.41 410.598 Q2128.41 405.991 2126.42 403.306 Q2124.43 400.598 2121.02 400.598 M2121.02 396.987 Q2126.58 396.987 2129.75 400.598 Q2132.92 404.209 2132.92 410.598 Q2132.92 416.964 2129.75 420.598 Q2126.58 424.209 2121.02 424.209 Q2115.44 424.209 2112.27 420.598 Q2109.12 416.964 2109.12 410.598 Q2109.12 404.209 2112.27 400.598 Q2115.44 396.987 2121.02 396.987 Z\" fill=\"#000000\" fill-rule=\"evenodd\" fill-opacity=\"1\" /><path clip-path=\"url(#clip230)\" d=\"M2155 401.593 Q2154.29 401.177 2153.43 400.991 Q2152.6 400.783 2151.58 400.783 Q2147.97 400.783 2146.02 403.144 Q2144.1 405.482 2144.1 409.88 L2144.1 423.538 L2139.82 423.538 L2139.82 397.612 L2144.1 397.612 L2144.1 401.64 Q2145.44 399.278 2147.6 398.144 Q2149.75 396.987 2152.83 396.987 Q2153.27 396.987 2153.8 397.056 Q2154.33 397.103 2154.98 397.218 L2155 401.593 Z\" fill=\"#000000\" fill-rule=\"evenodd\" fill-opacity=\"1\" /></svg>\n",
      "text/html": [
       "<?xml version=\"1.0\" encoding=\"utf-8\"?>\n",
       "<svg xmlns=\"http://www.w3.org/2000/svg\" xmlns:xlink=\"http://www.w3.org/1999/xlink\" width=\"600\" height=\"400\" viewBox=\"0 0 2400 1600\">\n",
       "<defs>\n",
       "  <clipPath id=\"clip280\">\n",
       "    <rect x=\"0\" y=\"0\" width=\"2400\" height=\"1600\"/>\n",
       "  </clipPath>\n",
       "</defs>\n",
       "<path clip-path=\"url(#clip280)\" d=\"\n",
       "M0 1600 L2400 1600 L2400 0 L0 0  Z\n",
       "  \" fill=\"#ffffff\" fill-rule=\"evenodd\" fill-opacity=\"1\"/>\n",
       "<defs>\n",
       "  <clipPath id=\"clip281\">\n",
       "    <rect x=\"480\" y=\"0\" width=\"1681\" height=\"1600\"/>\n",
       "  </clipPath>\n",
       "</defs>\n",
       "<path clip-path=\"url(#clip280)\" d=\"\n",
       "M112.177 1486.45 L2352.76 1486.45 L2352.76 47.2441 L112.177 47.2441  Z\n",
       "  \" fill=\"#ffffff\" fill-rule=\"evenodd\" fill-opacity=\"1\"/>\n",
       "<defs>\n",
       "  <clipPath id=\"clip282\">\n",
       "    <rect x=\"112\" y=\"47\" width=\"2242\" height=\"1440\"/>\n",
       "  </clipPath>\n",
       "</defs>\n",
       "<polyline clip-path=\"url(#clip282)\" style=\"stroke:#000000; stroke-linecap:round; stroke-linejoin:round; stroke-width:2; stroke-opacity:0.1; fill:none\" points=\"\n",
       "  175.59,1486.45 175.59,47.2441 \n",
       "  \"/>\n",
       "<polyline clip-path=\"url(#clip282)\" style=\"stroke:#000000; stroke-linecap:round; stroke-linejoin:round; stroke-width:2; stroke-opacity:0.1; fill:none\" points=\"\n",
       "  704.028,1486.45 704.028,47.2441 \n",
       "  \"/>\n",
       "<polyline clip-path=\"url(#clip282)\" style=\"stroke:#000000; stroke-linecap:round; stroke-linejoin:round; stroke-width:2; stroke-opacity:0.1; fill:none\" points=\"\n",
       "  1232.47,1486.45 1232.47,47.2441 \n",
       "  \"/>\n",
       "<polyline clip-path=\"url(#clip282)\" style=\"stroke:#000000; stroke-linecap:round; stroke-linejoin:round; stroke-width:2; stroke-opacity:0.1; fill:none\" points=\"\n",
       "  1760.9,1486.45 1760.9,47.2441 \n",
       "  \"/>\n",
       "<polyline clip-path=\"url(#clip282)\" style=\"stroke:#000000; stroke-linecap:round; stroke-linejoin:round; stroke-width:2; stroke-opacity:0.1; fill:none\" points=\"\n",
       "  2289.34,1486.45 2289.34,47.2441 \n",
       "  \"/>\n",
       "<polyline clip-path=\"url(#clip280)\" style=\"stroke:#000000; stroke-linecap:round; stroke-linejoin:round; stroke-width:4; stroke-opacity:1; fill:none\" points=\"\n",
       "  112.177,1486.45 2352.76,1486.45 \n",
       "  \"/>\n",
       "<polyline clip-path=\"url(#clip280)\" style=\"stroke:#000000; stroke-linecap:round; stroke-linejoin:round; stroke-width:4; stroke-opacity:1; fill:none\" points=\"\n",
       "  175.59,1486.45 175.59,1467.55 \n",
       "  \"/>\n",
       "<polyline clip-path=\"url(#clip280)\" style=\"stroke:#000000; stroke-linecap:round; stroke-linejoin:round; stroke-width:4; stroke-opacity:1; fill:none\" points=\"\n",
       "  704.028,1486.45 704.028,1467.55 \n",
       "  \"/>\n",
       "<polyline clip-path=\"url(#clip280)\" style=\"stroke:#000000; stroke-linecap:round; stroke-linejoin:round; stroke-width:4; stroke-opacity:1; fill:none\" points=\"\n",
       "  1232.47,1486.45 1232.47,1467.55 \n",
       "  \"/>\n",
       "<polyline clip-path=\"url(#clip280)\" style=\"stroke:#000000; stroke-linecap:round; stroke-linejoin:round; stroke-width:4; stroke-opacity:1; fill:none\" points=\"\n",
       "  1760.9,1486.45 1760.9,1467.55 \n",
       "  \"/>\n",
       "<polyline clip-path=\"url(#clip280)\" style=\"stroke:#000000; stroke-linecap:round; stroke-linejoin:round; stroke-width:4; stroke-opacity:1; fill:none\" points=\"\n",
       "  2289.34,1486.45 2289.34,1467.55 \n",
       "  \"/>\n",
       "<path clip-path=\"url(#clip280)\" d=\"M175.59 1517.37 Q171.979 1517.37 170.15 1520.93 Q168.344 1524.47 168.344 1531.6 Q168.344 1538.71 170.15 1542.27 Q171.979 1545.82 175.59 1545.82 Q179.224 1545.82 181.03 1542.27 Q182.858 1538.71 182.858 1531.6 Q182.858 1524.47 181.03 1520.93 Q179.224 1517.37 175.59 1517.37 M175.59 1513.66 Q181.4 1513.66 184.455 1518.27 Q187.534 1522.85 187.534 1531.6 Q187.534 1540.33 184.455 1544.94 Q181.4 1549.52 175.59 1549.52 Q169.78 1549.52 166.701 1544.94 Q163.645 1540.33 163.645 1531.6 Q163.645 1522.85 166.701 1518.27 Q169.78 1513.66 175.59 1513.66 Z\" fill=\"#000000\" fill-rule=\"evenodd\" fill-opacity=\"1\" /><path clip-path=\"url(#clip280)\" d=\"M694.41 1544.91 L702.049 1544.91 L702.049 1518.55 L693.739 1520.21 L693.739 1515.95 L702.003 1514.29 L706.679 1514.29 L706.679 1544.91 L714.317 1544.91 L714.317 1548.85 L694.41 1548.85 L694.41 1544.91 Z\" fill=\"#000000\" fill-rule=\"evenodd\" fill-opacity=\"1\" /><path clip-path=\"url(#clip280)\" d=\"M1227.12 1544.91 L1243.44 1544.91 L1243.44 1548.85 L1221.49 1548.85 L1221.49 1544.91 Q1224.16 1542.16 1228.74 1537.53 Q1233.35 1532.88 1234.53 1531.53 Q1236.77 1529.01 1237.65 1527.27 Q1238.55 1525.51 1238.55 1523.82 Q1238.55 1521.07 1236.61 1519.33 Q1234.69 1517.6 1231.59 1517.6 Q1229.39 1517.6 1226.93 1518.36 Q1224.5 1519.13 1221.73 1520.68 L1221.73 1515.95 Q1224.55 1514.82 1227 1514.24 Q1229.46 1513.66 1231.49 1513.66 Q1236.86 1513.66 1240.06 1516.35 Q1243.25 1519.03 1243.25 1523.52 Q1243.25 1525.65 1242.44 1527.57 Q1241.66 1529.47 1239.55 1532.07 Q1238.97 1532.74 1235.87 1535.95 Q1232.77 1539.15 1227.12 1544.91 Z\" fill=\"#000000\" fill-rule=\"evenodd\" fill-opacity=\"1\" /><path clip-path=\"url(#clip280)\" d=\"M1765.15 1530.21 Q1768.51 1530.93 1770.38 1533.2 Q1772.28 1535.47 1772.28 1538.8 Q1772.28 1543.92 1768.76 1546.72 Q1765.25 1549.52 1758.76 1549.52 Q1756.59 1549.52 1754.27 1549.08 Q1751.98 1548.66 1749.53 1547.81 L1749.53 1543.29 Q1751.47 1544.43 1753.79 1545.01 Q1756.1 1545.58 1758.62 1545.58 Q1763.02 1545.58 1765.31 1543.85 Q1767.63 1542.11 1767.63 1538.8 Q1767.63 1535.75 1765.48 1534.03 Q1763.35 1532.3 1759.53 1532.3 L1755.5 1532.3 L1755.5 1528.45 L1759.71 1528.45 Q1763.16 1528.45 1764.99 1527.09 Q1766.82 1525.7 1766.82 1523.11 Q1766.82 1520.45 1764.92 1519.03 Q1763.05 1517.6 1759.53 1517.6 Q1757.61 1517.6 1755.41 1518.01 Q1753.21 1518.43 1750.57 1519.31 L1750.57 1515.14 Q1753.23 1514.4 1755.55 1514.03 Q1757.88 1513.66 1759.94 1513.66 Q1765.27 1513.66 1768.37 1516.09 Q1771.47 1518.5 1771.47 1522.62 Q1771.47 1525.49 1769.83 1527.48 Q1768.18 1529.45 1765.15 1530.21 Z\" fill=\"#000000\" fill-rule=\"evenodd\" fill-opacity=\"1\" /><path clip-path=\"url(#clip280)\" d=\"M2292.35 1518.36 L2280.55 1536.81 L2292.35 1536.81 L2292.35 1518.36 M2291.13 1514.29 L2297.01 1514.29 L2297.01 1536.81 L2301.94 1536.81 L2301.94 1540.7 L2297.01 1540.7 L2297.01 1548.85 L2292.35 1548.85 L2292.35 1540.7 L2276.75 1540.7 L2276.75 1536.19 L2291.13 1514.29 Z\" fill=\"#000000\" fill-rule=\"evenodd\" fill-opacity=\"1\" /><polyline clip-path=\"url(#clip282)\" style=\"stroke:#000000; stroke-linecap:round; stroke-linejoin:round; stroke-width:2; stroke-opacity:0.1; fill:none\" points=\"\n",
       "  112.177,1445.72 2352.76,1445.72 \n",
       "  \"/>\n",
       "<polyline clip-path=\"url(#clip282)\" style=\"stroke:#000000; stroke-linecap:round; stroke-linejoin:round; stroke-width:2; stroke-opacity:0.1; fill:none\" points=\"\n",
       "  112.177,1106.28 2352.76,1106.28 \n",
       "  \"/>\n",
       "<polyline clip-path=\"url(#clip282)\" style=\"stroke:#000000; stroke-linecap:round; stroke-linejoin:round; stroke-width:2; stroke-opacity:0.1; fill:none\" points=\"\n",
       "  112.177,766.846 2352.76,766.846 \n",
       "  \"/>\n",
       "<polyline clip-path=\"url(#clip282)\" style=\"stroke:#000000; stroke-linecap:round; stroke-linejoin:round; stroke-width:2; stroke-opacity:0.1; fill:none\" points=\"\n",
       "  112.177,427.411 2352.76,427.411 \n",
       "  \"/>\n",
       "<polyline clip-path=\"url(#clip282)\" style=\"stroke:#000000; stroke-linecap:round; stroke-linejoin:round; stroke-width:2; stroke-opacity:0.1; fill:none\" points=\"\n",
       "  112.177,87.9763 2352.76,87.9763 \n",
       "  \"/>\n",
       "<polyline clip-path=\"url(#clip280)\" style=\"stroke:#000000; stroke-linecap:round; stroke-linejoin:round; stroke-width:4; stroke-opacity:1; fill:none\" points=\"\n",
       "  112.177,1486.45 112.177,47.2441 \n",
       "  \"/>\n",
       "<polyline clip-path=\"url(#clip280)\" style=\"stroke:#000000; stroke-linecap:round; stroke-linejoin:round; stroke-width:4; stroke-opacity:1; fill:none\" points=\"\n",
       "  112.177,1445.72 131.075,1445.72 \n",
       "  \"/>\n",
       "<polyline clip-path=\"url(#clip280)\" style=\"stroke:#000000; stroke-linecap:round; stroke-linejoin:round; stroke-width:4; stroke-opacity:1; fill:none\" points=\"\n",
       "  112.177,1106.28 131.075,1106.28 \n",
       "  \"/>\n",
       "<polyline clip-path=\"url(#clip280)\" style=\"stroke:#000000; stroke-linecap:round; stroke-linejoin:round; stroke-width:4; stroke-opacity:1; fill:none\" points=\"\n",
       "  112.177,766.846 131.075,766.846 \n",
       "  \"/>\n",
       "<polyline clip-path=\"url(#clip280)\" style=\"stroke:#000000; stroke-linecap:round; stroke-linejoin:round; stroke-width:4; stroke-opacity:1; fill:none\" points=\"\n",
       "  112.177,427.411 131.075,427.411 \n",
       "  \"/>\n",
       "<polyline clip-path=\"url(#clip280)\" style=\"stroke:#000000; stroke-linecap:round; stroke-linejoin:round; stroke-width:4; stroke-opacity:1; fill:none\" points=\"\n",
       "  112.177,87.9763 131.075,87.9763 \n",
       "  \"/>\n",
       "<path clip-path=\"url(#clip280)\" d=\"M64.2328 1431.51 Q60.6217 1431.51 58.793 1435.08 Q56.9875 1438.62 56.9875 1445.75 Q56.9875 1452.86 58.793 1456.42 Q60.6217 1459.96 64.2328 1459.96 Q67.867 1459.96 69.6726 1456.42 Q71.5013 1452.86 71.5013 1445.75 Q71.5013 1438.62 69.6726 1435.08 Q67.867 1431.51 64.2328 1431.51 M64.2328 1427.81 Q70.0429 1427.81 73.0985 1432.42 Q76.1772 1437 76.1772 1445.75 Q76.1772 1454.48 73.0985 1459.08 Q70.0429 1463.67 64.2328 1463.67 Q58.4226 1463.67 55.344 1459.08 Q52.2884 1454.48 52.2884 1445.75 Q52.2884 1437 55.344 1432.42 Q58.4226 1427.81 64.2328 1427.81 Z\" fill=\"#000000\" fill-rule=\"evenodd\" fill-opacity=\"1\" /><path clip-path=\"url(#clip280)\" d=\"M56.2699 1119.63 L63.9087 1119.63 L63.9087 1093.26 L55.5986 1094.93 L55.5986 1090.67 L63.8624 1089 L68.5383 1089 L68.5383 1119.63 L76.1772 1119.63 L76.1772 1123.56 L56.2699 1123.56 L56.2699 1119.63 Z\" fill=\"#000000\" fill-rule=\"evenodd\" fill-opacity=\"1\" /><path clip-path=\"url(#clip280)\" d=\"M59.8578 780.191 L76.1772 780.191 L76.1772 784.126 L54.2328 784.126 L54.2328 780.191 Q56.8949 777.436 61.4782 772.807 Q66.0846 768.154 67.2652 766.811 Q69.5105 764.288 70.3902 762.552 Q71.2929 760.793 71.2929 759.103 Q71.2929 756.348 69.3485 754.612 Q67.4272 752.876 64.3254 752.876 Q62.1263 752.876 59.6726 753.64 Q57.2421 754.404 54.4643 755.955 L54.4643 751.233 Q57.2884 750.098 59.7421 749.52 Q62.1958 748.941 64.2328 748.941 Q69.6031 748.941 72.7976 751.626 Q75.992 754.311 75.992 758.802 Q75.992 760.932 75.1818 762.853 Q74.3948 764.751 72.2883 767.344 Q71.7096 768.015 68.6078 771.233 Q65.5059 774.427 59.8578 780.191 Z\" fill=\"#000000\" fill-rule=\"evenodd\" fill-opacity=\"1\" /><path clip-path=\"url(#clip280)\" d=\"M69.0476 426.057 Q72.404 426.775 74.279 429.043 Q76.1772 431.312 76.1772 434.645 Q76.1772 439.761 72.6587 442.562 Q69.1402 445.362 62.6587 445.362 Q60.4828 445.362 58.168 444.923 Q55.8764 444.506 53.4227 443.649 L53.4227 439.136 Q55.3671 440.27 57.6819 440.849 Q59.9967 441.427 62.5198 441.427 Q66.918 441.427 69.2096 439.691 Q71.5244 437.955 71.5244 434.645 Q71.5244 431.589 69.3717 429.876 Q67.242 428.14 63.4226 428.14 L59.3949 428.14 L59.3949 424.298 L63.6078 424.298 Q67.0569 424.298 68.8855 422.932 Q70.7142 421.543 70.7142 418.951 Q70.7142 416.289 68.8161 414.876 Q66.9411 413.441 63.4226 413.441 Q61.5013 413.441 59.3023 413.858 Q57.1032 414.275 54.4643 415.154 L54.4643 410.988 Q57.1264 410.247 59.4412 409.877 Q61.7791 409.506 63.8393 409.506 Q69.1633 409.506 72.2652 411.937 Q75.367 414.344 75.367 418.464 Q75.367 421.335 73.7235 423.326 Q72.08 425.293 69.0476 426.057 Z\" fill=\"#000000\" fill-rule=\"evenodd\" fill-opacity=\"1\" /><path clip-path=\"url(#clip280)\" d=\"M66.5939 74.7703 L54.7884 93.2193 L66.5939 93.2193 L66.5939 74.7703 M65.367 70.6963 L71.2466 70.6963 L71.2466 93.2193 L76.1772 93.2193 L76.1772 97.1082 L71.2466 97.1082 L71.2466 105.256 L66.5939 105.256 L66.5939 97.1082 L50.9921 97.1082 L50.9921 92.5943 L65.367 70.6963 Z\" fill=\"#000000\" fill-rule=\"evenodd\" fill-opacity=\"1\" /><path clip-path=\"url(#clip282)\" d=\"\n",
       "M175.59 1445.72 L2289.34 1445.72 L2289.34 87.9763 L175.59 87.9763 L175.59 1445.72  Z\n",
       "  \" fill=\"#009af9\" fill-rule=\"evenodd\" fill-opacity=\"0.2\"/>\n",
       "<polyline clip-path=\"url(#clip282)\" style=\"stroke:#000000; stroke-linecap:round; stroke-linejoin:round; stroke-width:4; stroke-opacity:0.2; fill:none\" points=\"\n",
       "  175.59,1445.72 2289.34,1445.72 2289.34,87.9763 175.59,87.9763 175.59,1445.72 \n",
       "  \"/>\n",
       "<circle clip-path=\"url(#clip282)\" cx=\"175.59\" cy=\"1445.72\" r=\"14.4\" fill=\"#e26f46\" fill-rule=\"evenodd\" fill-opacity=\"1\" stroke=\"#000000\" stroke-opacity=\"1\" stroke-width=\"3.2\"/>\n",
       "<circle clip-path=\"url(#clip282)\" cx=\"175.59\" cy=\"87.9763\" r=\"14.4\" fill=\"#3da44d\" fill-rule=\"evenodd\" fill-opacity=\"1\" stroke=\"#000000\" stroke-opacity=\"1\" stroke-width=\"3.2\"/>\n",
       "<circle clip-path=\"url(#clip282)\" cx=\"175.59\" cy=\"766.846\" r=\"14.4\" fill=\"#c271d2\" fill-rule=\"evenodd\" fill-opacity=\"1\" stroke=\"#000000\" stroke-opacity=\"1\" stroke-width=\"3.2\"/>\n",
       "<circle clip-path=\"url(#clip282)\" cx=\"704.028\" cy=\"766.846\" r=\"14.4\" fill=\"#c271d2\" fill-rule=\"evenodd\" fill-opacity=\"1\" stroke=\"#000000\" stroke-opacity=\"1\" stroke-width=\"3.2\"/>\n",
       "<polyline clip-path=\"url(#clip282)\" style=\"stroke:#ac8d18; stroke-linecap:round; stroke-linejoin:round; stroke-width:4; stroke-opacity:1; fill:none\" points=\"\n",
       "  175.59,766.846 704.028,766.846 \n",
       "  \"/>\n",
       "<circle clip-path=\"url(#clip282)\" cx=\"671.005\" cy=\"716.52\" r=\"14.4\" fill=\"#00a9ad\" fill-rule=\"evenodd\" fill-opacity=\"1\" stroke=\"#000000\" stroke-opacity=\"1\" stroke-width=\"3.2\"/>\n",
       "<path clip-path=\"url(#clip280)\" d=\"\n",
       "M1745.29 458.098 L2278.07 458.098 L2278.07 95.2176 L1745.29 95.2176  Z\n",
       "  \" fill=\"#ffffff\" fill-rule=\"evenodd\" fill-opacity=\"1\"/>\n",
       "<polyline clip-path=\"url(#clip280)\" style=\"stroke:#000000; stroke-linecap:round; stroke-linejoin:round; stroke-width:4; stroke-opacity:1; fill:none\" points=\"\n",
       "  1745.29,458.098 2278.07,458.098 2278.07,95.2176 1745.29,95.2176 1745.29,458.098 \n",
       "  \"/>\n",
       "<path clip-path=\"url(#clip280)\" d=\"\n",
       "M1770.18 167.794 L1919.55 167.794 L1919.55 126.322 L1770.18 126.322 L1770.18 167.794  Z\n",
       "  \" fill=\"#009af9\" fill-rule=\"evenodd\" fill-opacity=\"0.2\"/>\n",
       "<polyline clip-path=\"url(#clip280)\" style=\"stroke:#000000; stroke-linecap:round; stroke-linejoin:round; stroke-width:4; stroke-opacity:1; fill:none\" points=\"\n",
       "  1770.18,167.794 1919.55,167.794 1919.55,126.322 1770.18,126.322 1770.18,167.794 \n",
       "  \"/>\n",
       "<path clip-path=\"url(#clip280)\" d=\"M1960.28 134.384 L1953.94 151.583 L1966.65 151.583 L1960.28 134.384 M1957.64 129.778 L1962.94 129.778 L1976.12 164.338 L1971.25 164.338 L1968.11 155.472 L1952.53 155.472 L1949.38 164.338 L1944.45 164.338 L1957.64 129.778 Z\" fill=\"#000000\" fill-rule=\"evenodd\" fill-opacity=\"1\" /><path clip-path=\"url(#clip280)\" d=\"M1985.1 160.449 L1985.1 174.199 L1980.81 174.199 L1980.81 138.412 L1985.1 138.412 L1985.1 142.347 Q1986.44 140.032 1988.48 138.921 Q1990.54 137.787 1993.38 137.787 Q1998.11 137.787 2001.05 141.537 Q2004.01 145.287 2004.01 151.398 Q2004.01 157.509 2001.05 161.259 Q1998.11 165.009 1993.38 165.009 Q1990.54 165.009 1988.48 163.898 Q1986.44 162.763 1985.1 160.449 M1999.59 151.398 Q1999.59 146.699 1997.64 144.037 Q1995.72 141.352 1992.34 141.352 Q1988.96 141.352 1987.02 144.037 Q1985.1 146.699 1985.1 151.398 Q1985.1 156.097 1987.02 158.782 Q1988.96 161.444 1992.34 161.444 Q1995.72 161.444 1997.64 158.782 Q1999.59 156.097 1999.59 151.398 Z\" fill=\"#000000\" fill-rule=\"evenodd\" fill-opacity=\"1\" /><path clip-path=\"url(#clip280)\" d=\"M2022.85 151.305 Q2017.69 151.305 2015.7 152.486 Q2013.71 153.666 2013.71 156.514 Q2013.71 158.782 2015.19 160.125 Q2016.69 161.444 2019.26 161.444 Q2022.81 161.444 2024.94 158.944 Q2027.09 156.421 2027.09 152.254 L2027.09 151.305 L2022.85 151.305 M2031.35 149.546 L2031.35 164.338 L2027.09 164.338 L2027.09 160.402 Q2025.63 162.763 2023.45 163.898 Q2021.28 165.009 2018.13 165.009 Q2014.15 165.009 2011.79 162.787 Q2009.45 160.541 2009.45 156.791 Q2009.45 152.416 2012.37 150.194 Q2015.31 147.972 2021.12 147.972 L2027.09 147.972 L2027.09 147.555 Q2027.09 144.615 2025.14 143.018 Q2023.22 141.398 2019.73 141.398 Q2017.5 141.398 2015.4 141.93 Q2013.29 142.463 2011.35 143.527 L2011.35 139.592 Q2013.69 138.69 2015.88 138.25 Q2018.08 137.787 2020.17 137.787 Q2025.79 137.787 2028.57 140.703 Q2031.35 143.62 2031.35 149.546 Z\" fill=\"#000000\" fill-rule=\"evenodd\" fill-opacity=\"1\" /><path clip-path=\"url(#clip280)\" d=\"M2055.14 142.393 Q2054.43 141.977 2053.57 141.791 Q2052.74 141.583 2051.72 141.583 Q2048.11 141.583 2046.16 143.944 Q2044.24 146.282 2044.24 150.68 L2044.24 164.338 L2039.96 164.338 L2039.96 138.412 L2044.24 138.412 L2044.24 142.44 Q2045.58 140.078 2047.74 138.944 Q2049.89 137.787 2052.97 137.787 Q2053.41 137.787 2053.94 137.856 Q2054.47 137.903 2055.12 138.018 L2055.14 142.393 Z\" fill=\"#000000\" fill-rule=\"evenodd\" fill-opacity=\"1\" /><path clip-path=\"url(#clip280)\" d=\"M2063.82 131.051 L2063.82 138.412 L2072.6 138.412 L2072.6 141.722 L2063.82 141.722 L2063.82 155.796 Q2063.82 158.967 2064.68 159.87 Q2065.56 160.773 2068.22 160.773 L2072.6 160.773 L2072.6 164.338 L2068.22 164.338 Q2063.29 164.338 2061.42 162.509 Q2059.54 160.657 2059.54 155.796 L2059.54 141.722 L2056.42 141.722 L2056.42 138.412 L2059.54 138.412 L2059.54 131.051 L2063.82 131.051 Z\" fill=\"#000000\" fill-rule=\"evenodd\" fill-opacity=\"1\" /><path clip-path=\"url(#clip280)\" d=\"M2089.98 151.305 Q2084.82 151.305 2082.83 152.486 Q2080.84 153.666 2080.84 156.514 Q2080.84 158.782 2082.32 160.125 Q2083.82 161.444 2086.39 161.444 Q2089.93 161.444 2092.06 158.944 Q2094.22 156.421 2094.22 152.254 L2094.22 151.305 L2089.98 151.305 M2098.48 149.546 L2098.48 164.338 L2094.22 164.338 L2094.22 160.402 Q2092.76 162.763 2090.58 163.898 Q2088.41 165.009 2085.26 165.009 Q2081.28 165.009 2078.92 162.787 Q2076.58 160.541 2076.58 156.791 Q2076.58 152.416 2079.5 150.194 Q2082.43 147.972 2088.24 147.972 L2094.22 147.972 L2094.22 147.555 Q2094.22 144.615 2092.27 143.018 Q2090.35 141.398 2086.86 141.398 Q2084.63 141.398 2082.53 141.93 Q2080.42 142.463 2078.48 143.527 L2078.48 139.592 Q2080.81 138.69 2083.01 138.25 Q2085.21 137.787 2087.3 137.787 Q2092.92 137.787 2095.7 140.703 Q2098.48 143.62 2098.48 149.546 Z\" fill=\"#000000\" fill-rule=\"evenodd\" fill-opacity=\"1\" /><path clip-path=\"url(#clip280)\" d=\"M2127.43 143.389 Q2129.03 140.518 2131.25 139.153 Q2133.48 137.787 2136.49 137.787 Q2140.54 137.787 2142.74 140.634 Q2144.93 143.458 2144.93 148.689 L2144.93 164.338 L2140.65 164.338 L2140.65 148.828 Q2140.65 145.102 2139.33 143.296 Q2138.01 141.49 2135.3 141.49 Q2131.99 141.49 2130.07 143.69 Q2128.15 145.889 2128.15 149.685 L2128.15 164.338 L2123.87 164.338 L2123.87 148.828 Q2123.87 145.078 2122.55 143.296 Q2121.23 141.49 2118.48 141.49 Q2115.21 141.49 2113.29 143.713 Q2111.37 145.912 2111.37 149.685 L2111.37 164.338 L2107.09 164.338 L2107.09 138.412 L2111.37 138.412 L2111.37 142.44 Q2112.83 140.055 2114.87 138.921 Q2116.9 137.787 2119.7 137.787 Q2122.53 137.787 2124.49 139.222 Q2126.49 140.657 2127.43 143.389 Z\" fill=\"#000000\" fill-rule=\"evenodd\" fill-opacity=\"1\" /><path clip-path=\"url(#clip280)\" d=\"M2175.61 150.31 L2175.61 152.393 L2156.02 152.393 Q2156.3 156.791 2158.66 159.106 Q2161.05 161.398 2165.28 161.398 Q2167.74 161.398 2170.03 160.796 Q2172.34 160.194 2174.61 158.99 L2174.61 163.018 Q2172.32 163.99 2169.91 164.5 Q2167.5 165.009 2165.03 165.009 Q2158.82 165.009 2155.19 161.398 Q2151.58 157.787 2151.58 151.629 Q2151.58 145.264 2155 141.537 Q2158.45 137.787 2164.29 137.787 Q2169.52 137.787 2172.55 141.166 Q2175.61 144.523 2175.61 150.31 M2171.35 149.06 Q2171.3 145.565 2169.38 143.481 Q2167.48 141.398 2164.33 141.398 Q2160.77 141.398 2158.61 143.412 Q2156.49 145.426 2156.16 149.083 L2171.35 149.06 Z\" fill=\"#000000\" fill-rule=\"evenodd\" fill-opacity=\"1\" /><path clip-path=\"url(#clip280)\" d=\"M2204.15 148.689 L2204.15 164.338 L2199.89 164.338 L2199.89 148.828 Q2199.89 145.148 2198.45 143.319 Q2197.02 141.49 2194.15 141.49 Q2190.7 141.49 2188.71 143.69 Q2186.72 145.889 2186.72 149.685 L2186.72 164.338 L2182.43 164.338 L2182.43 138.412 L2186.72 138.412 L2186.72 142.44 Q2188.24 140.102 2190.3 138.944 Q2192.39 137.787 2195.1 137.787 Q2199.56 137.787 2201.86 140.565 Q2204.15 143.319 2204.15 148.689 Z\" fill=\"#000000\" fill-rule=\"evenodd\" fill-opacity=\"1\" /><path clip-path=\"url(#clip280)\" d=\"M2216.86 131.051 L2216.86 138.412 L2225.63 138.412 L2225.63 141.722 L2216.86 141.722 L2216.86 155.796 Q2216.86 158.967 2217.71 159.87 Q2218.59 160.773 2221.25 160.773 L2225.63 160.773 L2225.63 164.338 L2221.25 164.338 Q2216.32 164.338 2214.45 162.509 Q2212.57 160.657 2212.57 155.796 L2212.57 141.722 L2209.45 141.722 L2209.45 138.412 L2212.57 138.412 L2212.57 131.051 L2216.86 131.051 Z\" fill=\"#000000\" fill-rule=\"evenodd\" fill-opacity=\"1\" /><path clip-path=\"url(#clip280)\" d=\"M2241.28 141.398 Q2237.85 141.398 2235.86 144.083 Q2233.87 146.745 2233.87 151.398 Q2233.87 156.051 2235.84 158.736 Q2237.83 161.398 2241.28 161.398 Q2244.68 161.398 2246.67 158.713 Q2248.66 156.027 2248.66 151.398 Q2248.66 146.791 2246.67 144.106 Q2244.68 141.398 2241.28 141.398 M2241.28 137.787 Q2246.83 137.787 2250 141.398 Q2253.17 145.009 2253.17 151.398 Q2253.17 157.764 2250 161.398 Q2246.83 165.009 2241.28 165.009 Q2235.7 165.009 2232.53 161.398 Q2229.38 157.764 2229.38 151.398 Q2229.38 145.009 2232.53 141.398 Q2235.7 137.787 2241.28 137.787 Z\" fill=\"#000000\" fill-rule=\"evenodd\" fill-opacity=\"1\" /><circle clip-path=\"url(#clip280)\" cx=\"1844.87\" cy=\"198.898\" r=\"23.04\" fill=\"#e26f46\" fill-rule=\"evenodd\" fill-opacity=\"1\" stroke=\"#000000\" stroke-opacity=\"1\" stroke-width=\"5.12\"/>\n",
       "<path clip-path=\"url(#clip280)\" d=\"M1949.13 185.46 L1949.13 212.335 L1954.77 212.335 Q1961.93 212.335 1965.24 209.094 Q1968.57 205.854 1968.57 198.863 Q1968.57 191.918 1965.24 188.701 Q1961.93 185.46 1954.77 185.46 L1949.13 185.46 M1944.45 181.618 L1954.06 181.618 Q1964.1 181.618 1968.8 185.807 Q1973.5 189.974 1973.5 198.863 Q1973.5 207.798 1968.78 211.988 Q1964.06 216.178 1954.06 216.178 L1944.45 216.178 L1944.45 181.618 Z\" fill=\"#000000\" fill-rule=\"evenodd\" fill-opacity=\"1\" /><path clip-path=\"url(#clip280)\" d=\"M1980.77 190.252 L1985.03 190.252 L1985.03 216.178 L1980.77 216.178 L1980.77 190.252 M1980.77 180.159 L1985.03 180.159 L1985.03 185.553 L1980.77 185.553 L1980.77 180.159 Z\" fill=\"#000000\" fill-rule=\"evenodd\" fill-opacity=\"1\" /><path clip-path=\"url(#clip280)\" d=\"M2010.47 191.016 L2010.47 195.043 Q2008.66 194.117 2006.72 193.655 Q2004.77 193.192 2002.69 193.192 Q1999.52 193.192 1997.92 194.164 Q1996.35 195.136 1996.35 197.08 Q1996.35 198.562 1997.48 199.418 Q1998.62 200.252 2002.04 201.016 L2003.5 201.34 Q2008.04 202.312 2009.94 204.094 Q2011.86 205.854 2011.86 209.025 Q2011.86 212.636 2008.99 214.742 Q2006.14 216.849 2001.14 216.849 Q1999.06 216.849 1996.79 216.432 Q1994.54 216.039 1992.04 215.228 L1992.04 210.83 Q1994.4 212.057 1996.69 212.682 Q1998.99 213.284 2001.23 213.284 Q2004.24 213.284 2005.86 212.266 Q2007.48 211.224 2007.48 209.349 Q2007.48 207.613 2006.3 206.687 Q2005.14 205.761 2001.19 204.904 L1999.7 204.557 Q1995.75 203.724 1993.99 202.011 Q1992.23 200.275 1992.23 197.266 Q1992.23 193.608 1994.82 191.618 Q1997.41 189.627 2002.18 189.627 Q2004.54 189.627 2006.63 189.974 Q2008.71 190.321 2010.47 191.016 Z\" fill=\"#000000\" fill-rule=\"evenodd\" fill-opacity=\"1\" /><path clip-path=\"url(#clip280)\" d=\"M2022.76 212.289 L2022.76 226.039 L2018.48 226.039 L2018.48 190.252 L2022.76 190.252 L2022.76 194.187 Q2024.1 191.872 2026.14 190.761 Q2028.2 189.627 2031.05 189.627 Q2035.77 189.627 2038.71 193.377 Q2041.67 197.127 2041.67 203.238 Q2041.67 209.349 2038.71 213.099 Q2035.77 216.849 2031.05 216.849 Q2028.2 216.849 2026.14 215.738 Q2024.1 214.603 2022.76 212.289 M2037.25 203.238 Q2037.25 198.539 2035.31 195.877 Q2033.38 193.192 2030 193.192 Q2026.62 193.192 2024.68 195.877 Q2022.76 198.539 2022.76 203.238 Q2022.76 207.937 2024.68 210.622 Q2026.62 213.284 2030 213.284 Q2033.38 213.284 2035.31 210.622 Q2037.25 207.937 2037.25 203.238 Z\" fill=\"#000000\" fill-rule=\"evenodd\" fill-opacity=\"1\" /><path clip-path=\"url(#clip280)\" d=\"M2058.78 193.238 Q2055.35 193.238 2053.36 195.923 Q2051.37 198.585 2051.37 203.238 Q2051.37 207.891 2053.34 210.576 Q2055.33 213.238 2058.78 213.238 Q2062.18 213.238 2064.17 210.553 Q2066.16 207.867 2066.16 203.238 Q2066.16 198.631 2064.17 195.946 Q2062.18 193.238 2058.78 193.238 M2058.78 189.627 Q2064.33 189.627 2067.5 193.238 Q2070.68 196.849 2070.68 203.238 Q2070.68 209.604 2067.5 213.238 Q2064.33 216.849 2058.78 216.849 Q2053.2 216.849 2050.03 213.238 Q2046.88 209.604 2046.88 203.238 Q2046.88 196.849 2050.03 193.238 Q2053.2 189.627 2058.78 189.627 Z\" fill=\"#000000\" fill-rule=\"evenodd\" fill-opacity=\"1\" /><path clip-path=\"url(#clip280)\" d=\"M2094.26 191.016 L2094.26 195.043 Q2092.46 194.117 2090.51 193.655 Q2088.57 193.192 2086.49 193.192 Q2083.31 193.192 2081.72 194.164 Q2080.14 195.136 2080.14 197.08 Q2080.14 198.562 2081.28 199.418 Q2082.41 200.252 2085.84 201.016 L2087.3 201.34 Q2091.83 202.312 2093.73 204.094 Q2095.65 205.854 2095.65 209.025 Q2095.65 212.636 2092.78 214.742 Q2089.93 216.849 2084.93 216.849 Q2082.85 216.849 2080.58 216.432 Q2078.34 216.039 2075.84 215.228 L2075.84 210.83 Q2078.2 212.057 2080.49 212.682 Q2082.78 213.284 2085.03 213.284 Q2088.04 213.284 2089.66 212.266 Q2091.28 211.224 2091.28 209.349 Q2091.28 207.613 2090.1 206.687 Q2088.94 205.761 2084.98 204.904 L2083.5 204.557 Q2079.54 203.724 2077.78 202.011 Q2076.02 200.275 2076.02 197.266 Q2076.02 193.608 2078.62 191.618 Q2081.21 189.627 2085.98 189.627 Q2088.34 189.627 2090.42 189.974 Q2092.5 190.321 2094.26 191.016 Z\" fill=\"#000000\" fill-rule=\"evenodd\" fill-opacity=\"1\" /><path clip-path=\"url(#clip280)\" d=\"M2102.43 190.252 L2106.69 190.252 L2106.69 216.178 L2102.43 216.178 L2102.43 190.252 M2102.43 180.159 L2106.69 180.159 L2106.69 185.553 L2102.43 185.553 L2102.43 180.159 Z\" fill=\"#000000\" fill-rule=\"evenodd\" fill-opacity=\"1\" /><path clip-path=\"url(#clip280)\" d=\"M2119.82 182.891 L2119.82 190.252 L2128.59 190.252 L2128.59 193.562 L2119.82 193.562 L2119.82 207.636 Q2119.82 210.807 2120.68 211.71 Q2121.55 212.613 2124.22 212.613 L2128.59 212.613 L2128.59 216.178 L2124.22 216.178 Q2119.29 216.178 2117.41 214.349 Q2115.54 212.497 2115.54 207.636 L2115.54 193.562 L2112.41 193.562 L2112.41 190.252 L2115.54 190.252 L2115.54 182.891 L2119.82 182.891 Z\" fill=\"#000000\" fill-rule=\"evenodd\" fill-opacity=\"1\" /><path clip-path=\"url(#clip280)\" d=\"M2134.19 190.252 L2138.45 190.252 L2138.45 216.178 L2134.19 216.178 L2134.19 190.252 M2134.19 180.159 L2138.45 180.159 L2138.45 185.553 L2134.19 185.553 L2134.19 180.159 Z\" fill=\"#000000\" fill-rule=\"evenodd\" fill-opacity=\"1\" /><path clip-path=\"url(#clip280)\" d=\"M2144.31 190.252 L2148.82 190.252 L2156.93 212.011 L2165.03 190.252 L2169.54 190.252 L2159.82 216.178 L2154.03 216.178 L2144.31 190.252 Z\" fill=\"#000000\" fill-rule=\"evenodd\" fill-opacity=\"1\" /><path clip-path=\"url(#clip280)\" d=\"M2185.47 193.238 Q2182.04 193.238 2180.05 195.923 Q2178.06 198.585 2178.06 203.238 Q2178.06 207.891 2180.03 210.576 Q2182.02 213.238 2185.47 213.238 Q2188.87 213.238 2190.86 210.553 Q2192.85 207.867 2192.85 203.238 Q2192.85 198.631 2190.86 195.946 Q2188.87 193.238 2185.47 193.238 M2185.47 189.627 Q2191.02 189.627 2194.19 193.238 Q2197.36 196.849 2197.36 203.238 Q2197.36 209.604 2194.19 213.238 Q2191.02 216.849 2185.47 216.849 Q2179.89 216.849 2176.72 213.238 Q2173.57 209.604 2173.57 203.238 Q2173.57 196.849 2176.72 193.238 Q2179.89 189.627 2185.47 189.627 Z\" fill=\"#000000\" fill-rule=\"evenodd\" fill-opacity=\"1\" /><path clip-path=\"url(#clip280)\" d=\"M2230.1 184.696 Q2226.48 184.696 2224.66 188.261 Q2222.85 191.803 2222.85 198.932 Q2222.85 206.039 2224.66 209.604 Q2226.48 213.145 2230.1 213.145 Q2233.73 213.145 2235.54 209.604 Q2237.36 206.039 2237.36 198.932 Q2237.36 191.803 2235.54 188.261 Q2233.73 184.696 2230.1 184.696 M2230.1 180.993 Q2235.91 180.993 2238.96 185.599 Q2242.04 190.182 2242.04 198.932 Q2242.04 207.659 2238.96 212.266 Q2235.91 216.849 2230.1 216.849 Q2224.29 216.849 2221.21 212.266 Q2218.15 207.659 2218.15 198.932 Q2218.15 190.182 2221.21 185.599 Q2224.29 180.993 2230.1 180.993 Z\" fill=\"#000000\" fill-rule=\"evenodd\" fill-opacity=\"1\" /><circle clip-path=\"url(#clip280)\" cx=\"1844.87\" cy=\"250.738\" r=\"23.04\" fill=\"#3da44d\" fill-rule=\"evenodd\" fill-opacity=\"1\" stroke=\"#000000\" stroke-opacity=\"1\" stroke-width=\"5.12\"/>\n",
       "<path clip-path=\"url(#clip280)\" d=\"M1949.13 237.3 L1949.13 264.175 L1954.77 264.175 Q1961.93 264.175 1965.24 260.934 Q1968.57 257.694 1968.57 250.703 Q1968.57 243.758 1965.24 240.541 Q1961.93 237.3 1954.77 237.3 L1949.13 237.3 M1944.45 233.458 L1954.06 233.458 Q1964.1 233.458 1968.8 237.647 Q1973.5 241.814 1973.5 250.703 Q1973.5 259.638 1968.78 263.828 Q1964.06 268.018 1954.06 268.018 L1944.45 268.018 L1944.45 233.458 Z\" fill=\"#000000\" fill-rule=\"evenodd\" fill-opacity=\"1\" /><path clip-path=\"url(#clip280)\" d=\"M1980.77 242.092 L1985.03 242.092 L1985.03 268.018 L1980.77 268.018 L1980.77 242.092 M1980.77 231.999 L1985.03 231.999 L1985.03 237.393 L1980.77 237.393 L1980.77 231.999 Z\" fill=\"#000000\" fill-rule=\"evenodd\" fill-opacity=\"1\" /><path clip-path=\"url(#clip280)\" d=\"M2010.47 242.856 L2010.47 246.883 Q2008.66 245.957 2006.72 245.495 Q2004.77 245.032 2002.69 245.032 Q1999.52 245.032 1997.92 246.004 Q1996.35 246.976 1996.35 248.92 Q1996.35 250.402 1997.48 251.258 Q1998.62 252.092 2002.04 252.856 L2003.5 253.18 Q2008.04 254.152 2009.94 255.934 Q2011.86 257.694 2011.86 260.865 Q2011.86 264.476 2008.99 266.582 Q2006.14 268.689 2001.14 268.689 Q1999.06 268.689 1996.79 268.272 Q1994.54 267.879 1992.04 267.068 L1992.04 262.67 Q1994.4 263.897 1996.69 264.522 Q1998.99 265.124 2001.23 265.124 Q2004.24 265.124 2005.86 264.106 Q2007.48 263.064 2007.48 261.189 Q2007.48 259.453 2006.3 258.527 Q2005.14 257.601 2001.19 256.744 L1999.7 256.397 Q1995.75 255.564 1993.99 253.851 Q1992.23 252.115 1992.23 249.106 Q1992.23 245.448 1994.82 243.458 Q1997.41 241.467 2002.18 241.467 Q2004.54 241.467 2006.63 241.814 Q2008.71 242.161 2010.47 242.856 Z\" fill=\"#000000\" fill-rule=\"evenodd\" fill-opacity=\"1\" /><path clip-path=\"url(#clip280)\" d=\"M2022.76 264.129 L2022.76 277.879 L2018.48 277.879 L2018.48 242.092 L2022.76 242.092 L2022.76 246.027 Q2024.1 243.712 2026.14 242.601 Q2028.2 241.467 2031.05 241.467 Q2035.77 241.467 2038.71 245.217 Q2041.67 248.967 2041.67 255.078 Q2041.67 261.189 2038.71 264.939 Q2035.77 268.689 2031.05 268.689 Q2028.2 268.689 2026.14 267.578 Q2024.1 266.443 2022.76 264.129 M2037.25 255.078 Q2037.25 250.379 2035.31 247.717 Q2033.38 245.032 2030 245.032 Q2026.62 245.032 2024.68 247.717 Q2022.76 250.379 2022.76 255.078 Q2022.76 259.777 2024.68 262.462 Q2026.62 265.124 2030 265.124 Q2033.38 265.124 2035.31 262.462 Q2037.25 259.777 2037.25 255.078 Z\" fill=\"#000000\" fill-rule=\"evenodd\" fill-opacity=\"1\" /><path clip-path=\"url(#clip280)\" d=\"M2058.78 245.078 Q2055.35 245.078 2053.36 247.763 Q2051.37 250.425 2051.37 255.078 Q2051.37 259.731 2053.34 262.416 Q2055.33 265.078 2058.78 265.078 Q2062.18 265.078 2064.17 262.393 Q2066.16 259.707 2066.16 255.078 Q2066.16 250.471 2064.17 247.786 Q2062.18 245.078 2058.78 245.078 M2058.78 241.467 Q2064.33 241.467 2067.5 245.078 Q2070.68 248.689 2070.68 255.078 Q2070.68 261.444 2067.5 265.078 Q2064.33 268.689 2058.78 268.689 Q2053.2 268.689 2050.03 265.078 Q2046.88 261.444 2046.88 255.078 Q2046.88 248.689 2050.03 245.078 Q2053.2 241.467 2058.78 241.467 Z\" fill=\"#000000\" fill-rule=\"evenodd\" fill-opacity=\"1\" /><path clip-path=\"url(#clip280)\" d=\"M2094.26 242.856 L2094.26 246.883 Q2092.46 245.957 2090.51 245.495 Q2088.57 245.032 2086.49 245.032 Q2083.31 245.032 2081.72 246.004 Q2080.14 246.976 2080.14 248.92 Q2080.14 250.402 2081.28 251.258 Q2082.41 252.092 2085.84 252.856 L2087.3 253.18 Q2091.83 254.152 2093.73 255.934 Q2095.65 257.694 2095.65 260.865 Q2095.65 264.476 2092.78 266.582 Q2089.93 268.689 2084.93 268.689 Q2082.85 268.689 2080.58 268.272 Q2078.34 267.879 2075.84 267.068 L2075.84 262.67 Q2078.2 263.897 2080.49 264.522 Q2082.78 265.124 2085.03 265.124 Q2088.04 265.124 2089.66 264.106 Q2091.28 263.064 2091.28 261.189 Q2091.28 259.453 2090.1 258.527 Q2088.94 257.601 2084.98 256.744 L2083.5 256.397 Q2079.54 255.564 2077.78 253.851 Q2076.02 252.115 2076.02 249.106 Q2076.02 245.448 2078.62 243.458 Q2081.21 241.467 2085.98 241.467 Q2088.34 241.467 2090.42 241.814 Q2092.5 242.161 2094.26 242.856 Z\" fill=\"#000000\" fill-rule=\"evenodd\" fill-opacity=\"1\" /><path clip-path=\"url(#clip280)\" d=\"M2102.43 242.092 L2106.69 242.092 L2106.69 268.018 L2102.43 268.018 L2102.43 242.092 M2102.43 231.999 L2106.69 231.999 L2106.69 237.393 L2102.43 237.393 L2102.43 231.999 Z\" fill=\"#000000\" fill-rule=\"evenodd\" fill-opacity=\"1\" /><path clip-path=\"url(#clip280)\" d=\"M2119.82 234.731 L2119.82 242.092 L2128.59 242.092 L2128.59 245.402 L2119.82 245.402 L2119.82 259.476 Q2119.82 262.647 2120.68 263.55 Q2121.55 264.453 2124.22 264.453 L2128.59 264.453 L2128.59 268.018 L2124.22 268.018 Q2119.29 268.018 2117.41 266.189 Q2115.54 264.337 2115.54 259.476 L2115.54 245.402 L2112.41 245.402 L2112.41 242.092 L2115.54 242.092 L2115.54 234.731 L2119.82 234.731 Z\" fill=\"#000000\" fill-rule=\"evenodd\" fill-opacity=\"1\" /><path clip-path=\"url(#clip280)\" d=\"M2134.19 242.092 L2138.45 242.092 L2138.45 268.018 L2134.19 268.018 L2134.19 242.092 M2134.19 231.999 L2138.45 231.999 L2138.45 237.393 L2134.19 237.393 L2134.19 231.999 Z\" fill=\"#000000\" fill-rule=\"evenodd\" fill-opacity=\"1\" /><path clip-path=\"url(#clip280)\" d=\"M2144.31 242.092 L2148.82 242.092 L2156.93 263.851 L2165.03 242.092 L2169.54 242.092 L2159.82 268.018 L2154.03 268.018 L2144.31 242.092 Z\" fill=\"#000000\" fill-rule=\"evenodd\" fill-opacity=\"1\" /><path clip-path=\"url(#clip280)\" d=\"M2185.47 245.078 Q2182.04 245.078 2180.05 247.763 Q2178.06 250.425 2178.06 255.078 Q2178.06 259.731 2180.03 262.416 Q2182.02 265.078 2185.47 265.078 Q2188.87 265.078 2190.86 262.393 Q2192.85 259.707 2192.85 255.078 Q2192.85 250.471 2190.86 247.786 Q2188.87 245.078 2185.47 245.078 M2185.47 241.467 Q2191.02 241.467 2194.19 245.078 Q2197.36 248.689 2197.36 255.078 Q2197.36 261.444 2194.19 265.078 Q2191.02 268.689 2185.47 268.689 Q2179.89 268.689 2176.72 265.078 Q2173.57 261.444 2173.57 255.078 Q2173.57 248.689 2176.72 245.078 Q2179.89 241.467 2185.47 241.467 Z\" fill=\"#000000\" fill-rule=\"evenodd\" fill-opacity=\"1\" /><path clip-path=\"url(#clip280)\" d=\"M2220.91 264.082 L2228.55 264.082 L2228.55 237.717 L2220.23 239.383 L2220.23 235.124 L2228.5 233.458 L2233.17 233.458 L2233.17 264.082 L2240.81 264.082 L2240.81 268.018 L2220.91 268.018 L2220.91 264.082 Z\" fill=\"#000000\" fill-rule=\"evenodd\" fill-opacity=\"1\" /><circle clip-path=\"url(#clip280)\" cx=\"1844.87\" cy=\"302.578\" r=\"23.04\" fill=\"#c271d2\" fill-rule=\"evenodd\" fill-opacity=\"1\" stroke=\"#000000\" stroke-opacity=\"1\" stroke-width=\"5.12\"/>\n",
       "<path clip-path=\"url(#clip280)\" d=\"M1944.45 285.298 L1949.13 285.298 L1949.13 319.858 L1944.45 319.858 L1944.45 285.298 Z\" fill=\"#000000\" fill-rule=\"evenodd\" fill-opacity=\"1\" /><path clip-path=\"url(#clip280)\" d=\"M1979.8 304.209 L1979.8 319.858 L1975.54 319.858 L1975.54 304.348 Q1975.54 300.668 1974.1 298.839 Q1972.67 297.01 1969.8 297.01 Q1966.35 297.01 1964.36 299.21 Q1962.37 301.409 1962.37 305.205 L1962.37 319.858 L1958.08 319.858 L1958.08 293.932 L1962.37 293.932 L1962.37 297.96 Q1963.89 295.622 1965.95 294.464 Q1968.04 293.307 1970.75 293.307 Q1975.21 293.307 1977.5 296.085 Q1979.8 298.839 1979.8 304.209 Z\" fill=\"#000000\" fill-rule=\"evenodd\" fill-opacity=\"1\" /><path clip-path=\"url(#clip280)\" d=\"M1992.5 286.571 L1992.5 293.932 L2001.28 293.932 L2001.28 297.242 L1992.5 297.242 L1992.5 311.316 Q1992.5 314.487 1993.36 315.39 Q1994.24 316.293 1996.9 316.293 L2001.28 316.293 L2001.28 319.858 L1996.9 319.858 Q1991.97 319.858 1990.1 318.029 Q1988.22 316.177 1988.22 311.316 L1988.22 297.242 L1985.1 297.242 L1985.1 293.932 L1988.22 293.932 L1988.22 286.571 L1992.5 286.571 Z\" fill=\"#000000\" fill-rule=\"evenodd\" fill-opacity=\"1\" /><path clip-path=\"url(#clip280)\" d=\"M2029.06 305.83 L2029.06 307.913 L2009.47 307.913 Q2009.75 312.311 2012.11 314.626 Q2014.5 316.918 2018.73 316.918 Q2021.19 316.918 2023.48 316.316 Q2025.79 315.714 2028.06 314.51 L2028.06 318.538 Q2025.77 319.51 2023.36 320.02 Q2020.95 320.529 2018.48 320.529 Q2012.27 320.529 2008.64 316.918 Q2005.03 313.307 2005.03 307.149 Q2005.03 300.784 2008.45 297.057 Q2011.9 293.307 2017.74 293.307 Q2022.97 293.307 2026 296.686 Q2029.06 300.043 2029.06 305.83 M2024.8 304.58 Q2024.75 301.085 2022.83 299.001 Q2020.93 296.918 2017.78 296.918 Q2014.22 296.918 2012.06 298.932 Q2009.94 300.946 2009.61 304.603 L2024.8 304.58 Z\" fill=\"#000000\" fill-rule=\"evenodd\" fill-opacity=\"1\" /><path clip-path=\"url(#clip280)\" d=\"M2051.07 297.913 Q2050.35 297.497 2049.5 297.311 Q2048.66 297.103 2047.64 297.103 Q2044.03 297.103 2042.09 299.464 Q2040.17 301.802 2040.17 306.2 L2040.17 319.858 L2035.88 319.858 L2035.88 293.932 L2040.17 293.932 L2040.17 297.96 Q2041.51 295.598 2043.66 294.464 Q2045.81 293.307 2048.89 293.307 Q2049.33 293.307 2049.87 293.376 Q2050.4 293.423 2051.05 293.538 L2051.07 297.913 Z\" fill=\"#000000\" fill-rule=\"evenodd\" fill-opacity=\"1\" /><path clip-path=\"url(#clip280)\" d=\"M2068.66 283.839 L2068.66 287.381 L2064.59 287.381 Q2062.3 287.381 2061.39 288.307 Q2060.51 289.233 2060.51 291.64 L2060.51 293.932 L2067.53 293.932 L2067.53 297.242 L2060.51 297.242 L2060.51 319.858 L2056.23 319.858 L2056.23 297.242 L2052.16 297.242 L2052.16 293.932 L2056.23 293.932 L2056.23 292.126 Q2056.23 287.798 2058.25 285.83 Q2060.26 283.839 2064.63 283.839 L2068.66 283.839 Z\" fill=\"#000000\" fill-rule=\"evenodd\" fill-opacity=\"1\" /><path clip-path=\"url(#clip280)\" d=\"M2094.4 305.83 L2094.4 307.913 L2074.82 307.913 Q2075.1 312.311 2077.46 314.626 Q2079.84 316.918 2084.08 316.918 Q2086.53 316.918 2088.82 316.316 Q2091.14 315.714 2093.41 314.51 L2093.41 318.538 Q2091.12 319.51 2088.71 320.02 Q2086.3 320.529 2083.82 320.529 Q2077.62 320.529 2073.99 316.918 Q2070.37 313.307 2070.37 307.149 Q2070.37 300.784 2073.8 297.057 Q2077.25 293.307 2083.08 293.307 Q2088.31 293.307 2091.35 296.686 Q2094.4 300.043 2094.4 305.83 M2090.14 304.58 Q2090.1 301.085 2088.18 299.001 Q2086.28 296.918 2083.13 296.918 Q2079.56 296.918 2077.41 298.932 Q2075.28 300.946 2074.96 304.603 L2090.14 304.58 Z\" fill=\"#000000\" fill-rule=\"evenodd\" fill-opacity=\"1\" /><path clip-path=\"url(#clip280)\" d=\"M2116.42 297.913 Q2115.7 297.497 2114.84 297.311 Q2114.01 297.103 2112.99 297.103 Q2109.38 297.103 2107.43 299.464 Q2105.51 301.802 2105.51 306.2 L2105.51 319.858 L2101.23 319.858 L2101.23 293.932 L2105.51 293.932 L2105.51 297.96 Q2106.86 295.598 2109.01 294.464 Q2111.16 293.307 2114.24 293.307 Q2114.68 293.307 2115.21 293.376 Q2115.74 293.423 2116.39 293.538 L2116.42 297.913 Z\" fill=\"#000000\" fill-rule=\"evenodd\" fill-opacity=\"1\" /><path clip-path=\"url(#clip280)\" d=\"M2142.02 305.83 L2142.02 307.913 L2122.43 307.913 Q2122.71 312.311 2125.07 314.626 Q2127.46 316.918 2131.69 316.918 Q2134.15 316.918 2136.44 316.316 Q2138.75 315.714 2141.02 314.51 L2141.02 318.538 Q2138.73 319.51 2136.32 320.02 Q2133.92 320.529 2131.44 320.529 Q2125.24 320.529 2121.6 316.918 Q2117.99 313.307 2117.99 307.149 Q2117.99 300.784 2121.42 297.057 Q2124.87 293.307 2130.7 293.307 Q2135.93 293.307 2138.96 296.686 Q2142.02 300.043 2142.02 305.83 M2137.76 304.58 Q2137.71 301.085 2135.79 299.001 Q2133.89 296.918 2130.74 296.918 Q2127.18 296.918 2125.03 298.932 Q2122.9 300.946 2122.57 304.603 L2137.76 304.58 Z\" fill=\"#000000\" fill-rule=\"evenodd\" fill-opacity=\"1\" /><path clip-path=\"url(#clip280)\" d=\"M2170.56 304.209 L2170.56 319.858 L2166.3 319.858 L2166.3 304.348 Q2166.3 300.668 2164.86 298.839 Q2163.43 297.01 2160.56 297.01 Q2157.11 297.01 2155.12 299.21 Q2153.13 301.409 2153.13 305.205 L2153.13 319.858 L2148.85 319.858 L2148.85 293.932 L2153.13 293.932 L2153.13 297.96 Q2154.66 295.622 2156.72 294.464 Q2158.8 293.307 2161.51 293.307 Q2165.98 293.307 2168.27 296.085 Q2170.56 298.839 2170.56 304.209 Z\" fill=\"#000000\" fill-rule=\"evenodd\" fill-opacity=\"1\" /><path clip-path=\"url(#clip280)\" d=\"M2197.71 294.927 L2197.71 298.909 Q2195.91 297.913 2194.08 297.427 Q2192.27 296.918 2190.42 296.918 Q2186.28 296.918 2183.99 299.557 Q2181.69 302.172 2181.69 306.918 Q2181.69 311.663 2183.99 314.302 Q2186.28 316.918 2190.42 316.918 Q2192.27 316.918 2194.08 316.432 Q2195.91 315.922 2197.71 314.927 L2197.71 318.862 Q2195.93 319.696 2194.01 320.112 Q2192.11 320.529 2189.96 320.529 Q2184.1 320.529 2180.65 316.848 Q2177.2 313.168 2177.2 306.918 Q2177.2 300.575 2180.68 296.941 Q2184.17 293.307 2190.24 293.307 Q2192.2 293.307 2194.08 293.723 Q2195.95 294.117 2197.71 294.927 Z\" fill=\"#000000\" fill-rule=\"evenodd\" fill-opacity=\"1\" /><path clip-path=\"url(#clip280)\" d=\"M2205.12 293.932 L2209.38 293.932 L2209.38 319.858 L2205.12 319.858 L2205.12 293.932 M2205.12 283.839 L2209.38 283.839 L2209.38 289.233 L2205.12 289.233 L2205.12 283.839 Z\" fill=\"#000000\" fill-rule=\"evenodd\" fill-opacity=\"1\" /><path clip-path=\"url(#clip280)\" d=\"M2230.07 306.825 Q2224.91 306.825 2222.92 308.006 Q2220.93 309.186 2220.93 312.034 Q2220.93 314.302 2222.41 315.645 Q2223.92 316.964 2226.48 316.964 Q2230.03 316.964 2232.16 314.464 Q2234.31 311.941 2234.31 307.774 L2234.31 306.825 L2230.07 306.825 M2238.57 305.066 L2238.57 319.858 L2234.31 319.858 L2234.31 315.922 Q2232.85 318.283 2230.67 319.418 Q2228.5 320.529 2225.35 320.529 Q2221.37 320.529 2219.01 318.307 Q2216.67 316.061 2216.67 312.311 Q2216.67 307.936 2219.59 305.714 Q2222.53 303.492 2228.34 303.492 L2234.31 303.492 L2234.31 303.075 Q2234.31 300.135 2232.36 298.538 Q2230.44 296.918 2226.95 296.918 Q2224.73 296.918 2222.62 297.45 Q2220.51 297.983 2218.57 299.047 L2218.57 295.112 Q2220.91 294.21 2223.11 293.77 Q2225.3 293.307 2227.39 293.307 Q2233.01 293.307 2235.79 296.223 Q2238.57 299.14 2238.57 305.066 Z\" fill=\"#000000\" fill-rule=\"evenodd\" fill-opacity=\"1\" /><polyline clip-path=\"url(#clip280)\" style=\"stroke:#ac8d18; stroke-linecap:round; stroke-linejoin:round; stroke-width:4; stroke-opacity:1; fill:none\" points=\"\n",
       "  1770.18,354.418 1919.55,354.418 \n",
       "  \"/>\n",
       "<path clip-path=\"url(#clip280)\" d=\"M1944.45 337.138 L1949.13 337.138 L1949.13 371.698 L1944.45 371.698 L1944.45 337.138 Z\" fill=\"#000000\" fill-rule=\"evenodd\" fill-opacity=\"1\" /><path clip-path=\"url(#clip280)\" d=\"M1979.8 356.049 L1979.8 371.698 L1975.54 371.698 L1975.54 356.188 Q1975.54 352.508 1974.1 350.679 Q1972.67 348.85 1969.8 348.85 Q1966.35 348.85 1964.36 351.05 Q1962.37 353.249 1962.37 357.045 L1962.37 371.698 L1958.08 371.698 L1958.08 345.772 L1962.37 345.772 L1962.37 349.8 Q1963.89 347.462 1965.95 346.304 Q1968.04 345.147 1970.75 345.147 Q1975.21 345.147 1977.5 347.925 Q1979.8 350.679 1979.8 356.049 Z\" fill=\"#000000\" fill-rule=\"evenodd\" fill-opacity=\"1\" /><path clip-path=\"url(#clip280)\" d=\"M1992.5 338.411 L1992.5 345.772 L2001.28 345.772 L2001.28 349.082 L1992.5 349.082 L1992.5 363.156 Q1992.5 366.327 1993.36 367.23 Q1994.24 368.133 1996.9 368.133 L2001.28 368.133 L2001.28 371.698 L1996.9 371.698 Q1991.97 371.698 1990.1 369.869 Q1988.22 368.017 1988.22 363.156 L1988.22 349.082 L1985.1 349.082 L1985.1 345.772 L1988.22 345.772 L1988.22 338.411 L1992.5 338.411 Z\" fill=\"#000000\" fill-rule=\"evenodd\" fill-opacity=\"1\" /><path clip-path=\"url(#clip280)\" d=\"M2029.06 357.67 L2029.06 359.753 L2009.47 359.753 Q2009.75 364.151 2012.11 366.466 Q2014.5 368.758 2018.73 368.758 Q2021.19 368.758 2023.48 368.156 Q2025.79 367.554 2028.06 366.35 L2028.06 370.378 Q2025.77 371.35 2023.36 371.86 Q2020.95 372.369 2018.48 372.369 Q2012.27 372.369 2008.64 368.758 Q2005.03 365.147 2005.03 358.989 Q2005.03 352.624 2008.45 348.897 Q2011.9 345.147 2017.74 345.147 Q2022.97 345.147 2026 348.526 Q2029.06 351.883 2029.06 357.67 M2024.8 356.42 Q2024.75 352.925 2022.83 350.841 Q2020.93 348.758 2017.78 348.758 Q2014.22 348.758 2012.06 350.772 Q2009.94 352.786 2009.61 356.443 L2024.8 356.42 Z\" fill=\"#000000\" fill-rule=\"evenodd\" fill-opacity=\"1\" /><path clip-path=\"url(#clip280)\" d=\"M2051.07 349.753 Q2050.35 349.337 2049.5 349.151 Q2048.66 348.943 2047.64 348.943 Q2044.03 348.943 2042.09 351.304 Q2040.17 353.642 2040.17 358.04 L2040.17 371.698 L2035.88 371.698 L2035.88 345.772 L2040.17 345.772 L2040.17 349.8 Q2041.51 347.438 2043.66 346.304 Q2045.81 345.147 2048.89 345.147 Q2049.33 345.147 2049.87 345.216 Q2050.4 345.263 2051.05 345.378 L2051.07 349.753 Z\" fill=\"#000000\" fill-rule=\"evenodd\" fill-opacity=\"1\" /><path clip-path=\"url(#clip280)\" d=\"M2068.66 335.679 L2068.66 339.221 L2064.59 339.221 Q2062.3 339.221 2061.39 340.147 Q2060.51 341.073 2060.51 343.48 L2060.51 345.772 L2067.53 345.772 L2067.53 349.082 L2060.51 349.082 L2060.51 371.698 L2056.23 371.698 L2056.23 349.082 L2052.16 349.082 L2052.16 345.772 L2056.23 345.772 L2056.23 343.966 Q2056.23 339.638 2058.25 337.67 Q2060.26 335.679 2064.63 335.679 L2068.66 335.679 Z\" fill=\"#000000\" fill-rule=\"evenodd\" fill-opacity=\"1\" /><path clip-path=\"url(#clip280)\" d=\"M2094.4 357.67 L2094.4 359.753 L2074.82 359.753 Q2075.1 364.151 2077.46 366.466 Q2079.84 368.758 2084.08 368.758 Q2086.53 368.758 2088.82 368.156 Q2091.14 367.554 2093.41 366.35 L2093.41 370.378 Q2091.12 371.35 2088.71 371.86 Q2086.3 372.369 2083.82 372.369 Q2077.62 372.369 2073.99 368.758 Q2070.37 365.147 2070.37 358.989 Q2070.37 352.624 2073.8 348.897 Q2077.25 345.147 2083.08 345.147 Q2088.31 345.147 2091.35 348.526 Q2094.4 351.883 2094.4 357.67 M2090.14 356.42 Q2090.1 352.925 2088.18 350.841 Q2086.28 348.758 2083.13 348.758 Q2079.56 348.758 2077.41 350.772 Q2075.28 352.786 2074.96 356.443 L2090.14 356.42 Z\" fill=\"#000000\" fill-rule=\"evenodd\" fill-opacity=\"1\" /><path clip-path=\"url(#clip280)\" d=\"M2116.42 349.753 Q2115.7 349.337 2114.84 349.151 Q2114.01 348.943 2112.99 348.943 Q2109.38 348.943 2107.43 351.304 Q2105.51 353.642 2105.51 358.04 L2105.51 371.698 L2101.23 371.698 L2101.23 345.772 L2105.51 345.772 L2105.51 349.8 Q2106.86 347.438 2109.01 346.304 Q2111.16 345.147 2114.24 345.147 Q2114.68 345.147 2115.21 345.216 Q2115.74 345.263 2116.39 345.378 L2116.42 349.753 Z\" fill=\"#000000\" fill-rule=\"evenodd\" fill-opacity=\"1\" /><path clip-path=\"url(#clip280)\" d=\"M2142.02 357.67 L2142.02 359.753 L2122.43 359.753 Q2122.71 364.151 2125.07 366.466 Q2127.46 368.758 2131.69 368.758 Q2134.15 368.758 2136.44 368.156 Q2138.75 367.554 2141.02 366.35 L2141.02 370.378 Q2138.73 371.35 2136.32 371.86 Q2133.92 372.369 2131.44 372.369 Q2125.24 372.369 2121.6 368.758 Q2117.99 365.147 2117.99 358.989 Q2117.99 352.624 2121.42 348.897 Q2124.87 345.147 2130.7 345.147 Q2135.93 345.147 2138.96 348.526 Q2142.02 351.883 2142.02 357.67 M2137.76 356.42 Q2137.71 352.925 2135.79 350.841 Q2133.89 348.758 2130.74 348.758 Q2127.18 348.758 2125.03 350.772 Q2122.9 352.786 2122.57 356.443 L2137.76 356.42 Z\" fill=\"#000000\" fill-rule=\"evenodd\" fill-opacity=\"1\" /><path clip-path=\"url(#clip280)\" d=\"M2170.56 356.049 L2170.56 371.698 L2166.3 371.698 L2166.3 356.188 Q2166.3 352.508 2164.86 350.679 Q2163.43 348.85 2160.56 348.85 Q2157.11 348.85 2155.12 351.05 Q2153.13 353.249 2153.13 357.045 L2153.13 371.698 L2148.85 371.698 L2148.85 345.772 L2153.13 345.772 L2153.13 349.8 Q2154.66 347.462 2156.72 346.304 Q2158.8 345.147 2161.51 345.147 Q2165.98 345.147 2168.27 347.925 Q2170.56 350.679 2170.56 356.049 Z\" fill=\"#000000\" fill-rule=\"evenodd\" fill-opacity=\"1\" /><path clip-path=\"url(#clip280)\" d=\"M2197.71 346.767 L2197.71 350.749 Q2195.91 349.753 2194.08 349.267 Q2192.27 348.758 2190.42 348.758 Q2186.28 348.758 2183.99 351.397 Q2181.69 354.012 2181.69 358.758 Q2181.69 363.503 2183.99 366.142 Q2186.28 368.758 2190.42 368.758 Q2192.27 368.758 2194.08 368.272 Q2195.91 367.762 2197.71 366.767 L2197.71 370.702 Q2195.93 371.536 2194.01 371.952 Q2192.11 372.369 2189.96 372.369 Q2184.1 372.369 2180.65 368.688 Q2177.2 365.008 2177.2 358.758 Q2177.2 352.415 2180.68 348.781 Q2184.17 345.147 2190.24 345.147 Q2192.2 345.147 2194.08 345.563 Q2195.95 345.957 2197.71 346.767 Z\" fill=\"#000000\" fill-rule=\"evenodd\" fill-opacity=\"1\" /><path clip-path=\"url(#clip280)\" d=\"M2205.12 345.772 L2209.38 345.772 L2209.38 371.698 L2205.12 371.698 L2205.12 345.772 M2205.12 335.679 L2209.38 335.679 L2209.38 341.073 L2205.12 341.073 L2205.12 335.679 Z\" fill=\"#000000\" fill-rule=\"evenodd\" fill-opacity=\"1\" /><path clip-path=\"url(#clip280)\" d=\"M2230.07 358.665 Q2224.91 358.665 2222.92 359.846 Q2220.93 361.026 2220.93 363.874 Q2220.93 366.142 2222.41 367.485 Q2223.92 368.804 2226.48 368.804 Q2230.03 368.804 2232.16 366.304 Q2234.31 363.781 2234.31 359.614 L2234.31 358.665 L2230.07 358.665 M2238.57 356.906 L2238.57 371.698 L2234.31 371.698 L2234.31 367.762 Q2232.85 370.123 2230.67 371.258 Q2228.5 372.369 2225.35 372.369 Q2221.37 372.369 2219.01 370.147 Q2216.67 367.901 2216.67 364.151 Q2216.67 359.776 2219.59 357.554 Q2222.53 355.332 2228.34 355.332 L2234.31 355.332 L2234.31 354.915 Q2234.31 351.975 2232.36 350.378 Q2230.44 348.758 2226.95 348.758 Q2224.73 348.758 2222.62 349.29 Q2220.51 349.823 2218.57 350.887 L2218.57 346.952 Q2220.91 346.05 2223.11 345.61 Q2225.3 345.147 2227.39 345.147 Q2233.01 345.147 2235.79 348.063 Q2238.57 350.98 2238.57 356.906 Z\" fill=\"#000000\" fill-rule=\"evenodd\" fill-opacity=\"1\" /><circle clip-path=\"url(#clip280)\" cx=\"1844.87\" cy=\"406.258\" r=\"23.04\" fill=\"#00a9ad\" fill-rule=\"evenodd\" fill-opacity=\"1\" stroke=\"#000000\" stroke-opacity=\"1\" stroke-width=\"5.12\"/>\n",
       "<path clip-path=\"url(#clip280)\" d=\"M1960.84 407.334 Q1962.34 407.843 1963.75 409.51 Q1965.19 411.177 1966.63 414.093 L1971.37 423.538 L1966.35 423.538 L1961.93 414.672 Q1960.21 411.2 1958.59 410.065 Q1957 408.931 1954.22 408.931 L1949.13 408.931 L1949.13 423.538 L1944.45 423.538 L1944.45 388.978 L1955 388.978 Q1960.93 388.978 1963.85 391.454 Q1966.76 393.931 1966.76 398.931 Q1966.76 402.195 1965.24 404.348 Q1963.73 406.501 1960.84 407.334 M1949.13 392.82 L1949.13 405.089 L1955 405.089 Q1958.38 405.089 1960.1 403.538 Q1961.83 401.964 1961.83 398.931 Q1961.83 395.899 1960.1 394.371 Q1958.38 392.82 1955 392.82 L1949.13 392.82 Z\" fill=\"#000000\" fill-rule=\"evenodd\" fill-opacity=\"1\" /><path clip-path=\"url(#clip280)\" d=\"M1985.12 400.598 Q1981.69 400.598 1979.7 403.283 Q1977.71 405.945 1977.71 410.598 Q1977.71 415.251 1979.68 417.936 Q1981.67 420.598 1985.12 420.598 Q1988.52 420.598 1990.51 417.913 Q1992.5 415.227 1992.5 410.598 Q1992.5 405.991 1990.51 403.306 Q1988.52 400.598 1985.12 400.598 M1985.12 396.987 Q1990.68 396.987 1993.85 400.598 Q1997.02 404.209 1997.02 410.598 Q1997.02 416.964 1993.85 420.598 Q1990.68 424.209 1985.12 424.209 Q1979.54 424.209 1976.37 420.598 Q1973.22 416.964 1973.22 410.598 Q1973.22 404.209 1976.37 400.598 Q1979.54 396.987 1985.12 396.987 Z\" fill=\"#000000\" fill-rule=\"evenodd\" fill-opacity=\"1\" /><path clip-path=\"url(#clip280)\" d=\"M2008.29 390.251 L2008.29 397.612 L2017.06 397.612 L2017.06 400.922 L2008.29 400.922 L2008.29 414.996 Q2008.29 418.167 2009.15 419.07 Q2010.03 419.973 2012.69 419.973 L2017.06 419.973 L2017.06 423.538 L2012.69 423.538 Q2007.76 423.538 2005.88 421.709 Q2004.01 419.857 2004.01 414.996 L2004.01 400.922 L2000.88 400.922 L2000.88 397.612 L2004.01 397.612 L2004.01 390.251 L2008.29 390.251 Z\" fill=\"#000000\" fill-rule=\"evenodd\" fill-opacity=\"1\" /><path clip-path=\"url(#clip280)\" d=\"M2044.84 409.51 L2044.84 411.593 L2025.26 411.593 Q2025.54 415.991 2027.9 418.306 Q2030.28 420.598 2034.52 420.598 Q2036.97 420.598 2039.26 419.996 Q2041.58 419.394 2043.85 418.19 L2043.85 422.218 Q2041.56 423.19 2039.15 423.7 Q2036.74 424.209 2034.26 424.209 Q2028.06 424.209 2024.43 420.598 Q2020.81 416.987 2020.81 410.829 Q2020.81 404.464 2024.24 400.737 Q2027.69 396.987 2033.52 396.987 Q2038.75 396.987 2041.79 400.366 Q2044.84 403.723 2044.84 409.51 M2040.58 408.26 Q2040.54 404.765 2038.62 402.681 Q2036.72 400.598 2033.57 400.598 Q2030 400.598 2027.85 402.612 Q2025.72 404.626 2025.4 408.283 L2040.58 408.26 Z\" fill=\"#000000\" fill-rule=\"evenodd\" fill-opacity=\"1\" /><path clip-path=\"url(#clip280)\" d=\"M2063.62 410.505 Q2058.45 410.505 2056.46 411.686 Q2054.47 412.866 2054.47 415.714 Q2054.47 417.982 2055.95 419.325 Q2057.46 420.644 2060.03 420.644 Q2063.57 420.644 2065.7 418.144 Q2067.85 415.621 2067.85 411.454 L2067.85 410.505 L2063.62 410.505 M2072.11 408.746 L2072.11 423.538 L2067.85 423.538 L2067.85 419.602 Q2066.39 421.963 2064.22 423.098 Q2062.04 424.209 2058.89 424.209 Q2054.91 424.209 2052.55 421.987 Q2050.21 419.741 2050.21 415.991 Q2050.21 411.616 2053.13 409.394 Q2056.07 407.172 2061.88 407.172 L2067.85 407.172 L2067.85 406.755 Q2067.85 403.815 2065.91 402.218 Q2063.99 400.598 2060.49 400.598 Q2058.27 400.598 2056.16 401.13 Q2054.06 401.663 2052.11 402.727 L2052.11 398.792 Q2054.45 397.89 2056.65 397.45 Q2058.85 396.987 2060.93 396.987 Q2066.56 396.987 2069.33 399.903 Q2072.11 402.82 2072.11 408.746 Z\" fill=\"#000000\" fill-rule=\"evenodd\" fill-opacity=\"1\" /><path clip-path=\"url(#clip280)\" d=\"M2097.94 401.547 L2097.94 387.519 L2102.2 387.519 L2102.2 423.538 L2097.94 423.538 L2097.94 419.649 Q2096.6 421.963 2094.54 423.098 Q2092.5 424.209 2089.63 424.209 Q2084.93 424.209 2081.97 420.459 Q2079.03 416.709 2079.03 410.598 Q2079.03 404.487 2081.97 400.737 Q2084.93 396.987 2089.63 396.987 Q2092.5 396.987 2094.54 398.121 Q2096.6 399.232 2097.94 401.547 M2083.43 410.598 Q2083.43 415.297 2085.35 417.982 Q2087.3 420.644 2090.68 420.644 Q2094.06 420.644 2096 417.982 Q2097.94 415.297 2097.94 410.598 Q2097.94 405.899 2096 403.237 Q2094.06 400.552 2090.68 400.552 Q2087.3 400.552 2085.35 403.237 Q2083.43 405.899 2083.43 410.598 Z\" fill=\"#000000\" fill-rule=\"evenodd\" fill-opacity=\"1\" /><path clip-path=\"url(#clip280)\" d=\"M2121.02 400.598 Q2117.6 400.598 2115.61 403.283 Q2113.62 405.945 2113.62 410.598 Q2113.62 415.251 2115.58 417.936 Q2117.57 420.598 2121.02 420.598 Q2124.43 420.598 2126.42 417.913 Q2128.41 415.227 2128.41 410.598 Q2128.41 405.991 2126.42 403.306 Q2124.43 400.598 2121.02 400.598 M2121.02 396.987 Q2126.58 396.987 2129.75 400.598 Q2132.92 404.209 2132.92 410.598 Q2132.92 416.964 2129.75 420.598 Q2126.58 424.209 2121.02 424.209 Q2115.44 424.209 2112.27 420.598 Q2109.12 416.964 2109.12 410.598 Q2109.12 404.209 2112.27 400.598 Q2115.44 396.987 2121.02 396.987 Z\" fill=\"#000000\" fill-rule=\"evenodd\" fill-opacity=\"1\" /><path clip-path=\"url(#clip280)\" d=\"M2155 401.593 Q2154.29 401.177 2153.43 400.991 Q2152.6 400.783 2151.58 400.783 Q2147.97 400.783 2146.02 403.144 Q2144.1 405.482 2144.1 409.88 L2144.1 423.538 L2139.82 423.538 L2139.82 397.612 L2144.1 397.612 L2144.1 401.64 Q2145.44 399.278 2147.6 398.144 Q2149.75 396.987 2152.83 396.987 Q2153.27 396.987 2153.8 397.056 Q2154.33 397.103 2154.98 397.218 L2155 401.593 Z\" fill=\"#000000\" fill-rule=\"evenodd\" fill-opacity=\"1\" /></svg>\n"
      ]
     },
     "metadata": {},
     "output_type": "display_data"
    }
   ],
   "source": [
    "using Plots\n",
    "rectangle(w, h, x, y) = Shape(x .+ [0,w,w,0], y .+ [0,0,h,h])\n",
    "plot(rectangle(4,4,0,0), label=\"Apartamento\", opacity=.2)\n",
    "i=0\n",
    "for dispositivo in dispositivos \n",
    "    scatter!([dispositivo[1]],[dispositivo[2]], label=\"Dispositivo \"*string(i))\n",
    "    i+=1\n",
    "end\n",
    "for interferencia in interferencias\n",
    "    scatter!([interferencia[1][1],interferencia[2][1]],[interferencia[1][2],interferencia[2][2]],label=\"Interferencia\")\n",
    "    plot!([interferencia[1][1],interferencia[2][1]],[interferencia[1][2],interferencia[2][2]],label=\"Interferencia\")\n",
    "end\n",
    "scatter!([JuMP.value.(x)],[JuMP.value.(y)], label=\"Roteador\")"
   ]
  },
  {
   "cell_type": "code",
   "execution_count": 64,
   "metadata": {},
   "outputs": [
    {
     "name": "stdout",
     "output_type": "stream",
     "text": [
      "Any[0.531215821720444, 0.5848932080924498]\n",
      "0.03795564390001568\n"
     ]
    }
   ],
   "source": [
    "println(force(JuMP.value.(x),JuMP.value.(y),-1))\n",
    "println(force(JuMP.value.(x),JuMP.value.(y),1))"
   ]
  },
  {
   "cell_type": "code",
   "execution_count": 58,
   "metadata": {},
   "outputs": [
    {
     "data": {
      "image/svg+xml": "<?xml version=\"1.0\" encoding=\"utf-8\"?>\n<svg xmlns=\"http://www.w3.org/2000/svg\" xmlns:xlink=\"http://www.w3.org/1999/xlink\" width=\"600\" height=\"400\" viewBox=\"0 0 2400 1600\">\n<defs>\n  <clipPath id=\"clip670\">\n    <rect x=\"0\" y=\"0\" width=\"2400\" height=\"1600\"/>\n  </clipPath>\n</defs>\n<path clip-path=\"url(#clip670)\" d=\"\nM0 1600 L2400 1600 L2400 0 L0 0  Z\n  \" fill=\"#ffffff\" fill-rule=\"evenodd\" fill-opacity=\"1\"/>\n<defs>\n  <clipPath id=\"clip671\">\n    <rect x=\"480\" y=\"0\" width=\"1681\" height=\"1600\"/>\n  </clipPath>\n</defs>\n<path clip-path=\"url(#clip670)\" d=\"\nM147.108 1486.45 L2352.76 1486.45 L2352.76 47.2441 L147.108 47.2441  Z\n  \" fill=\"#ffffff\" fill-rule=\"evenodd\" fill-opacity=\"1\"/>\n<defs>\n  <clipPath id=\"clip672\">\n    <rect x=\"147\" y=\"47\" width=\"2207\" height=\"1440\"/>\n  </clipPath>\n</defs>\n<polyline clip-path=\"url(#clip672)\" style=\"stroke:#000000; stroke-linecap:round; stroke-linejoin:round; stroke-width:2; stroke-opacity:0.1; fill:none\" points=\"\n  532.632,1486.45 532.632,47.2441 \n  \"/>\n<polyline clip-path=\"url(#clip672)\" style=\"stroke:#000000; stroke-linecap:round; stroke-linejoin:round; stroke-width:2; stroke-opacity:0.1; fill:none\" points=\"\n  1049.6,1486.45 1049.6,47.2441 \n  \"/>\n<polyline clip-path=\"url(#clip672)\" style=\"stroke:#000000; stroke-linecap:round; stroke-linejoin:round; stroke-width:2; stroke-opacity:0.1; fill:none\" points=\"\n  1566.57,1486.45 1566.57,47.2441 \n  \"/>\n<polyline clip-path=\"url(#clip672)\" style=\"stroke:#000000; stroke-linecap:round; stroke-linejoin:round; stroke-width:2; stroke-opacity:0.1; fill:none\" points=\"\n  2083.54,1486.45 2083.54,47.2441 \n  \"/>\n<polyline clip-path=\"url(#clip670)\" style=\"stroke:#000000; stroke-linecap:round; stroke-linejoin:round; stroke-width:4; stroke-opacity:1; fill:none\" points=\"\n  147.108,1486.45 2352.76,1486.45 \n  \"/>\n<polyline clip-path=\"url(#clip670)\" style=\"stroke:#000000; stroke-linecap:round; stroke-linejoin:round; stroke-width:4; stroke-opacity:1; fill:none\" points=\"\n  532.632,1486.45 532.632,1467.55 \n  \"/>\n<polyline clip-path=\"url(#clip670)\" style=\"stroke:#000000; stroke-linecap:round; stroke-linejoin:round; stroke-width:4; stroke-opacity:1; fill:none\" points=\"\n  1049.6,1486.45 1049.6,1467.55 \n  \"/>\n<polyline clip-path=\"url(#clip670)\" style=\"stroke:#000000; stroke-linecap:round; stroke-linejoin:round; stroke-width:4; stroke-opacity:1; fill:none\" points=\"\n  1566.57,1486.45 1566.57,1467.55 \n  \"/>\n<polyline clip-path=\"url(#clip670)\" style=\"stroke:#000000; stroke-linecap:round; stroke-linejoin:round; stroke-width:4; stroke-opacity:1; fill:none\" points=\"\n  2083.54,1486.45 2083.54,1467.55 \n  \"/>\n<path clip-path=\"url(#clip670)\" d=\"M479.657 1532.02 L509.333 1532.02 L509.333 1535.95 L479.657 1535.95 L479.657 1532.02 Z\" fill=\"#000000\" fill-rule=\"evenodd\" fill-opacity=\"1\" /><path clip-path=\"url(#clip670)\" d=\"M523.453 1544.91 L539.773 1544.91 L539.773 1548.85 L517.828 1548.85 L517.828 1544.91 Q520.49 1542.16 525.074 1537.53 Q529.68 1532.88 530.861 1531.53 Q533.106 1529.01 533.986 1527.27 Q534.888 1525.51 534.888 1523.82 Q534.888 1521.07 532.944 1519.33 Q531.023 1517.6 527.921 1517.6 Q525.722 1517.6 523.268 1518.36 Q520.838 1519.13 518.06 1520.68 L518.06 1515.95 Q520.884 1514.82 523.338 1514.24 Q525.791 1513.66 527.828 1513.66 Q533.199 1513.66 536.393 1516.35 Q539.588 1519.03 539.588 1523.52 Q539.588 1525.65 538.777 1527.57 Q537.99 1529.47 535.884 1532.07 Q535.305 1532.74 532.203 1535.95 Q529.101 1539.15 523.453 1544.91 Z\" fill=\"#000000\" fill-rule=\"evenodd\" fill-opacity=\"1\" /><path clip-path=\"url(#clip670)\" d=\"M549.587 1542.97 L554.472 1542.97 L554.472 1548.85 L549.587 1548.85 L549.587 1542.97 Z\" fill=\"#000000\" fill-rule=\"evenodd\" fill-opacity=\"1\" /><path clip-path=\"url(#clip670)\" d=\"M564.703 1514.29 L583.06 1514.29 L583.06 1518.22 L568.986 1518.22 L568.986 1526.7 Q570.004 1526.35 571.023 1526.19 Q572.041 1526 573.06 1526 Q578.847 1526 582.226 1529.17 Q585.606 1532.34 585.606 1537.76 Q585.606 1543.34 582.134 1546.44 Q578.661 1549.52 572.342 1549.52 Q570.166 1549.52 567.898 1549.15 Q565.652 1548.78 563.245 1548.04 L563.245 1543.34 Q565.328 1544.47 567.55 1545.03 Q569.773 1545.58 572.249 1545.58 Q576.254 1545.58 578.592 1543.48 Q580.93 1541.37 580.93 1537.76 Q580.93 1534.15 578.592 1532.04 Q576.254 1529.94 572.249 1529.94 Q570.374 1529.94 568.499 1530.35 Q566.648 1530.77 564.703 1531.65 L564.703 1514.29 Z\" fill=\"#000000\" fill-rule=\"evenodd\" fill-opacity=\"1\" /><path clip-path=\"url(#clip670)\" d=\"M1026.99 1517.37 Q1023.38 1517.37 1021.55 1520.93 Q1019.74 1524.47 1019.74 1531.6 Q1019.74 1538.71 1021.55 1542.27 Q1023.38 1545.82 1026.99 1545.82 Q1030.62 1545.82 1032.43 1542.27 Q1034.26 1538.71 1034.26 1531.6 Q1034.26 1524.47 1032.43 1520.93 Q1030.62 1517.37 1026.99 1517.37 M1026.99 1513.66 Q1032.8 1513.66 1035.85 1518.27 Q1038.93 1522.85 1038.93 1531.6 Q1038.93 1540.33 1035.85 1544.94 Q1032.8 1549.52 1026.99 1549.52 Q1021.18 1549.52 1018.1 1544.94 Q1015.04 1540.33 1015.04 1531.6 Q1015.04 1522.85 1018.1 1518.27 Q1021.18 1513.66 1026.99 1513.66 Z\" fill=\"#000000\" fill-rule=\"evenodd\" fill-opacity=\"1\" /><path clip-path=\"url(#clip670)\" d=\"M1047.15 1542.97 L1052.03 1542.97 L1052.03 1548.85 L1047.15 1548.85 L1047.15 1542.97 Z\" fill=\"#000000\" fill-rule=\"evenodd\" fill-opacity=\"1\" /><path clip-path=\"url(#clip670)\" d=\"M1072.22 1517.37 Q1068.61 1517.37 1066.78 1520.93 Q1064.97 1524.47 1064.97 1531.6 Q1064.97 1538.71 1066.78 1542.27 Q1068.61 1545.82 1072.22 1545.82 Q1075.85 1545.82 1077.66 1542.27 Q1079.49 1538.71 1079.49 1531.6 Q1079.49 1524.47 1077.66 1520.93 Q1075.85 1517.37 1072.22 1517.37 M1072.22 1513.66 Q1078.03 1513.66 1081.08 1518.27 Q1084.16 1522.85 1084.16 1531.6 Q1084.16 1540.33 1081.08 1544.94 Q1078.03 1549.52 1072.22 1549.52 Q1066.41 1549.52 1063.33 1544.94 Q1060.27 1540.33 1060.27 1531.6 Q1060.27 1522.85 1063.33 1518.27 Q1066.41 1513.66 1072.22 1513.66 Z\" fill=\"#000000\" fill-rule=\"evenodd\" fill-opacity=\"1\" /><path clip-path=\"url(#clip670)\" d=\"M1538.31 1544.91 L1554.63 1544.91 L1554.63 1548.85 L1532.68 1548.85 L1532.68 1544.91 Q1535.35 1542.16 1539.93 1537.53 Q1544.54 1532.88 1545.72 1531.53 Q1547.96 1529.01 1548.84 1527.27 Q1549.74 1525.51 1549.74 1523.82 Q1549.74 1521.07 1547.8 1519.33 Q1545.88 1517.6 1542.78 1517.6 Q1540.58 1517.6 1538.12 1518.36 Q1535.69 1519.13 1532.92 1520.68 L1532.92 1515.95 Q1535.74 1514.82 1538.19 1514.24 Q1540.65 1513.66 1542.68 1513.66 Q1548.05 1513.66 1551.25 1516.35 Q1554.44 1519.03 1554.44 1523.52 Q1554.44 1525.65 1553.63 1527.57 Q1552.85 1529.47 1550.74 1532.07 Q1550.16 1532.74 1547.06 1535.95 Q1543.96 1539.15 1538.31 1544.91 Z\" fill=\"#000000\" fill-rule=\"evenodd\" fill-opacity=\"1\" /><path clip-path=\"url(#clip670)\" d=\"M1564.44 1542.97 L1569.33 1542.97 L1569.33 1548.85 L1564.44 1548.85 L1564.44 1542.97 Z\" fill=\"#000000\" fill-rule=\"evenodd\" fill-opacity=\"1\" /><path clip-path=\"url(#clip670)\" d=\"M1579.56 1514.29 L1597.92 1514.29 L1597.92 1518.22 L1583.84 1518.22 L1583.84 1526.7 Q1584.86 1526.35 1585.88 1526.19 Q1586.9 1526 1587.92 1526 Q1593.7 1526 1597.08 1529.17 Q1600.46 1532.34 1600.46 1537.76 Q1600.46 1543.34 1596.99 1546.44 Q1593.52 1549.52 1587.2 1549.52 Q1585.02 1549.52 1582.75 1549.15 Q1580.51 1548.78 1578.1 1548.04 L1578.1 1543.34 Q1580.18 1544.47 1582.41 1545.03 Q1584.63 1545.58 1587.11 1545.58 Q1591.11 1545.58 1593.45 1543.48 Q1595.79 1541.37 1595.79 1537.76 Q1595.79 1534.15 1593.45 1532.04 Q1591.11 1529.94 1587.11 1529.94 Q1585.23 1529.94 1583.36 1530.35 Q1581.5 1530.77 1579.56 1531.65 L1579.56 1514.29 Z\" fill=\"#000000\" fill-rule=\"evenodd\" fill-opacity=\"1\" /><path clip-path=\"url(#clip670)\" d=\"M2050.71 1514.29 L2069.06 1514.29 L2069.06 1518.22 L2054.99 1518.22 L2054.99 1526.7 Q2056.01 1526.35 2057.03 1526.19 Q2058.05 1526 2059.06 1526 Q2064.85 1526 2068.23 1529.17 Q2071.61 1532.34 2071.61 1537.76 Q2071.61 1543.34 2068.14 1546.44 Q2064.67 1549.52 2058.35 1549.52 Q2056.17 1549.52 2053.9 1549.15 Q2051.66 1548.78 2049.25 1548.04 L2049.25 1543.34 Q2051.33 1544.47 2053.56 1545.03 Q2055.78 1545.58 2058.25 1545.58 Q2062.26 1545.58 2064.6 1543.48 Q2066.93 1541.37 2066.93 1537.76 Q2066.93 1534.15 2064.6 1532.04 Q2062.26 1529.94 2058.25 1529.94 Q2056.38 1529.94 2054.5 1530.35 Q2052.65 1530.77 2050.71 1531.65 L2050.71 1514.29 Z\" fill=\"#000000\" fill-rule=\"evenodd\" fill-opacity=\"1\" /><path clip-path=\"url(#clip670)\" d=\"M2080.82 1542.97 L2085.71 1542.97 L2085.71 1548.85 L2080.82 1548.85 L2080.82 1542.97 Z\" fill=\"#000000\" fill-rule=\"evenodd\" fill-opacity=\"1\" /><path clip-path=\"url(#clip670)\" d=\"M2105.89 1517.37 Q2102.28 1517.37 2100.45 1520.93 Q2098.65 1524.47 2098.65 1531.6 Q2098.65 1538.71 2100.45 1542.27 Q2102.28 1545.82 2105.89 1545.82 Q2109.53 1545.82 2111.33 1542.27 Q2113.16 1538.71 2113.16 1531.6 Q2113.16 1524.47 2111.33 1520.93 Q2109.53 1517.37 2105.89 1517.37 M2105.89 1513.66 Q2111.7 1513.66 2114.76 1518.27 Q2117.84 1522.85 2117.84 1531.6 Q2117.84 1540.33 2114.76 1544.94 Q2111.7 1549.52 2105.89 1549.52 Q2100.08 1549.52 2097 1544.94 Q2093.95 1540.33 2093.95 1531.6 Q2093.95 1522.85 2097 1518.27 Q2100.08 1513.66 2105.89 1513.66 Z\" fill=\"#000000\" fill-rule=\"evenodd\" fill-opacity=\"1\" /><polyline clip-path=\"url(#clip672)\" style=\"stroke:#000000; stroke-linecap:round; stroke-linejoin:round; stroke-width:2; stroke-opacity:0.1; fill:none\" points=\"\n  147.108,1330.08 2352.76,1330.08 \n  \"/>\n<polyline clip-path=\"url(#clip672)\" style=\"stroke:#000000; stroke-linecap:round; stroke-linejoin:round; stroke-width:2; stroke-opacity:0.1; fill:none\" points=\"\n  147.108,1058.53 2352.76,1058.53 \n  \"/>\n<polyline clip-path=\"url(#clip672)\" style=\"stroke:#000000; stroke-linecap:round; stroke-linejoin:round; stroke-width:2; stroke-opacity:0.1; fill:none\" points=\"\n  147.108,786.984 2352.76,786.984 \n  \"/>\n<polyline clip-path=\"url(#clip672)\" style=\"stroke:#000000; stroke-linecap:round; stroke-linejoin:round; stroke-width:2; stroke-opacity:0.1; fill:none\" points=\"\n  147.108,515.433 2352.76,515.433 \n  \"/>\n<polyline clip-path=\"url(#clip672)\" style=\"stroke:#000000; stroke-linecap:round; stroke-linejoin:round; stroke-width:2; stroke-opacity:0.1; fill:none\" points=\"\n  147.108,243.882 2352.76,243.882 \n  \"/>\n<polyline clip-path=\"url(#clip670)\" style=\"stroke:#000000; stroke-linecap:round; stroke-linejoin:round; stroke-width:4; stroke-opacity:1; fill:none\" points=\"\n  147.108,1486.45 147.108,47.2441 \n  \"/>\n<polyline clip-path=\"url(#clip670)\" style=\"stroke:#000000; stroke-linecap:round; stroke-linejoin:round; stroke-width:4; stroke-opacity:1; fill:none\" points=\"\n  147.108,1330.08 166.005,1330.08 \n  \"/>\n<polyline clip-path=\"url(#clip670)\" style=\"stroke:#000000; stroke-linecap:round; stroke-linejoin:round; stroke-width:4; stroke-opacity:1; fill:none\" points=\"\n  147.108,1058.53 166.005,1058.53 \n  \"/>\n<polyline clip-path=\"url(#clip670)\" style=\"stroke:#000000; stroke-linecap:round; stroke-linejoin:round; stroke-width:4; stroke-opacity:1; fill:none\" points=\"\n  147.108,786.984 166.005,786.984 \n  \"/>\n<polyline clip-path=\"url(#clip670)\" style=\"stroke:#000000; stroke-linecap:round; stroke-linejoin:round; stroke-width:4; stroke-opacity:1; fill:none\" points=\"\n  147.108,515.433 166.005,515.433 \n  \"/>\n<polyline clip-path=\"url(#clip670)\" style=\"stroke:#000000; stroke-linecap:round; stroke-linejoin:round; stroke-width:4; stroke-opacity:1; fill:none\" points=\"\n  147.108,243.882 166.005,243.882 \n  \"/>\n<path clip-path=\"url(#clip670)\" d=\"M50.9921 1330.54 L80.6679 1330.54 L80.6679 1334.47 L50.9921 1334.47 L50.9921 1330.54 Z\" fill=\"#000000\" fill-rule=\"evenodd\" fill-opacity=\"1\" /><path clip-path=\"url(#clip670)\" d=\"M94.7882 1343.43 L111.108 1343.43 L111.108 1347.36 L89.1632 1347.36 L89.1632 1343.43 Q91.8252 1340.67 96.4085 1336.05 Q101.015 1331.39 102.196 1330.05 Q104.441 1327.53 105.321 1325.79 Q106.223 1324.03 106.223 1322.34 Q106.223 1319.59 104.279 1317.85 Q102.358 1316.11 99.2558 1316.11 Q97.0567 1316.11 94.603 1316.88 Q92.1725 1317.64 89.3947 1319.19 L89.3947 1314.47 Q92.2188 1313.34 94.6724 1312.76 Q97.1261 1312.18 99.1632 1312.18 Q104.534 1312.18 107.728 1314.86 Q110.922 1317.55 110.922 1322.04 Q110.922 1324.17 110.112 1326.09 Q109.325 1327.99 107.219 1330.58 Q106.64 1331.25 103.538 1334.47 Q100.436 1337.67 94.7882 1343.43 Z\" fill=\"#000000\" fill-rule=\"evenodd\" fill-opacity=\"1\" /><path clip-path=\"url(#clip670)\" d=\"M99.1632 1044.33 Q95.5521 1044.33 93.7234 1047.9 Q91.9178 1051.44 91.9178 1058.57 Q91.9178 1065.68 93.7234 1069.24 Q95.5521 1072.78 99.1632 1072.78 Q102.797 1072.78 104.603 1069.24 Q106.432 1065.68 106.432 1058.57 Q106.432 1051.44 104.603 1047.9 Q102.797 1044.33 99.1632 1044.33 M99.1632 1040.63 Q104.973 1040.63 108.029 1045.24 Q111.108 1049.82 111.108 1058.57 Q111.108 1067.3 108.029 1071.9 Q104.973 1076.49 99.1632 1076.49 Q93.353 1076.49 90.2743 1071.9 Q87.2188 1067.3 87.2188 1058.57 Q87.2188 1049.82 90.2743 1045.24 Q93.353 1040.63 99.1632 1040.63 Z\" fill=\"#000000\" fill-rule=\"evenodd\" fill-opacity=\"1\" /><path clip-path=\"url(#clip670)\" d=\"M94.7882 800.328 L111.108 800.328 L111.108 804.264 L89.1632 804.264 L89.1632 800.328 Q91.8252 797.574 96.4085 792.944 Q101.015 788.291 102.196 786.949 Q104.441 784.426 105.321 782.69 Q106.223 780.93 106.223 779.24 Q106.223 776.486 104.279 774.75 Q102.358 773.014 99.2558 773.014 Q97.0567 773.014 94.603 773.778 Q92.1725 774.541 89.3947 776.092 L89.3947 771.37 Q92.2188 770.236 94.6724 769.657 Q97.1261 769.079 99.1632 769.079 Q104.534 769.079 107.728 771.764 Q110.922 774.449 110.922 778.94 Q110.922 781.069 110.112 782.99 Q109.325 784.889 107.219 787.481 Q106.64 788.152 103.538 791.37 Q100.436 794.564 94.7882 800.328 Z\" fill=\"#000000\" fill-rule=\"evenodd\" fill-opacity=\"1\" /><path clip-path=\"url(#clip670)\" d=\"M101.524 502.227 L89.7188 520.676 L101.524 520.676 L101.524 502.227 M100.297 498.153 L106.177 498.153 L106.177 520.676 L111.108 520.676 L111.108 524.565 L106.177 524.565 L106.177 532.713 L101.524 532.713 L101.524 524.565 L85.9225 524.565 L85.9225 520.051 L100.297 498.153 Z\" fill=\"#000000\" fill-rule=\"evenodd\" fill-opacity=\"1\" /><path clip-path=\"url(#clip670)\" d=\"M99.5798 242.019 Q96.4317 242.019 94.5799 244.172 Q92.7512 246.324 92.7512 250.074 Q92.7512 253.801 94.5799 255.977 Q96.4317 258.13 99.5798 258.13 Q102.728 258.13 104.557 255.977 Q106.408 253.801 106.408 250.074 Q106.408 246.324 104.557 244.172 Q102.728 242.019 99.5798 242.019 M108.862 227.366 L108.862 231.625 Q107.103 230.792 105.297 230.352 Q103.515 229.913 101.756 229.913 Q97.1261 229.913 94.6724 233.038 Q92.2419 236.162 91.8947 242.482 Q93.2604 240.468 95.3206 239.403 Q97.3808 238.315 99.8576 238.315 Q105.066 238.315 108.075 241.487 Q111.108 244.635 111.108 250.074 Q111.108 255.398 107.959 258.616 Q104.811 261.834 99.5798 261.834 Q93.5845 261.834 90.4132 257.25 Q87.2419 252.644 87.2419 243.917 Q87.2419 235.723 91.1308 230.862 Q95.0197 225.977 101.571 225.977 Q103.33 225.977 105.112 226.325 Q106.918 226.672 108.862 227.366 Z\" fill=\"#000000\" fill-rule=\"evenodd\" fill-opacity=\"1\" /><circle clip-path=\"url(#clip672)\" cx=\"2290.33\" cy=\"651.208\" r=\"14.4\" fill=\"#009af9\" fill-rule=\"evenodd\" fill-opacity=\"1\" stroke=\"#000000\" stroke-opacity=\"1\" stroke-width=\"3.2\"/>\n<circle clip-path=\"url(#clip672)\" cx=\"222.449\" cy=\"895.604\" r=\"14.4\" fill=\"#009af9\" fill-rule=\"evenodd\" fill-opacity=\"1\" stroke=\"#000000\" stroke-opacity=\"1\" stroke-width=\"3.2\"/>\n<polyline clip-path=\"url(#clip672)\" style=\"stroke:#e26f46; stroke-linecap:round; stroke-linejoin:round; stroke-width:4; stroke-opacity:1; fill:none\" points=\"\n  1243.47,87.9763 1256.49,88.0301 1269.5,88.1915 1282.52,88.4606 1295.52,88.8372 1308.52,89.3213 1321.51,89.9128 1334.48,90.6116 1347.44,91.4177 1360.39,92.3308 \n  1373.31,93.3509 1386.22,94.4777 1399.1,95.7112 1411.96,97.0511 1424.79,98.4971 1437.59,100.049 1450.36,101.707 1463.1,103.47 1475.81,105.338 1488.47,107.312 \n  1501.1,109.39 1513.69,111.572 1526.24,113.858 1538.74,116.247 1551.19,118.74 1563.59,121.335 1575.95,124.033 1588.25,126.832 1600.49,129.734 1612.68,132.736 \n  1624.81,135.838 1636.88,139.041 1648.89,142.343 1660.84,145.745 1672.71,149.244 1684.52,152.842 1696.26,156.537 1707.93,160.329 1719.52,164.217 1731.04,168.2 \n  1742.49,172.279 1753.85,176.451 1765.13,180.717 1776.33,185.077 1787.44,189.528 1798.47,194.071 1809.41,198.705 1820.26,203.429 1831.02,208.242 1841.69,213.143 \n  1852.26,218.133 1862.73,223.21 1873.11,228.372 1883.38,233.62 1893.56,238.953 1903.63,244.369 1913.6,249.868 1923.46,255.45 1933.21,261.112 1942.85,266.854 \n  1952.39,272.676 1961.81,278.576 1971.11,284.553 1980.31,290.607 1989.38,296.737 1998.34,302.941 2007.17,309.218 2015.89,315.568 2024.48,321.99 2032.95,328.482 \n  2041.29,335.043 2049.51,341.673 2057.6,348.371 2065.56,355.135 2073.39,361.964 2081.09,368.857 2088.66,375.814 2096.09,382.832 2103.38,389.911 2110.54,397.05 \n  2117.57,404.248 2124.45,411.503 2131.2,418.815 2137.8,426.181 2144.26,433.602 2150.58,441.076 2156.76,448.601 2162.79,456.177 2168.67,463.801 2174.41,471.474 \n  2180,479.194 2185.44,486.96 2190.74,494.769 2195.88,502.622 2200.87,510.517 2205.71,518.452 2210.4,526.427 2214.93,534.44 2219.31,542.49 2223.54,550.575 \n  2227.61,558.695 2231.52,566.848 2235.28,575.032 2238.88,583.247 2242.32,591.491 2245.6,599.762 2248.73,608.06 2251.69,616.384 2254.5,624.731 2257.14,633.101 \n  2259.63,641.492 2261.95,649.903 2264.11,658.332 2266.11,666.778 2267.95,675.241 2269.63,683.718 2271.14,692.208 2272.49,700.71 2273.68,709.222 2274.7,717.744 \n  2275.56,726.273 2276.26,734.809 2276.79,743.35 2277.16,751.895 2277.36,760.442 2277.4,768.99 2277.28,777.537 2276.99,786.083 2276.54,794.626 2275.93,803.165 \n  2275.15,811.698 2274.21,820.223 2273.1,828.74 2271.84,837.248 2270.4,845.744 2268.81,854.228 2267.05,862.698 2265.13,871.152 2263.05,879.59 2260.81,888.011 \n  2258.41,896.412 2255.84,904.792 2253.12,913.151 2250.23,921.486 2247.18,929.797 2243.98,938.082 2240.62,946.34 2237.1,954.57 2233.42,962.77 2229.58,970.938 \n  2225.59,979.074 2221.44,987.177 2217.14,995.245 2212.68,1003.28 2208.07,1011.27 2203.31,1019.23 2198.39,1027.14 2193.33,1035.01 2188.11,1042.85 2182.74,1050.63 \n  2177.22,1058.38 2171.56,1066.07 2165.75,1073.72 2159.79,1081.32 2153.69,1088.87 2147.44,1096.37 2141.05,1103.82 2134.52,1111.21 2127.84,1118.55 2121.03,1125.84 \n  2114.07,1133.06 2106.98,1140.23 2099.75,1147.34 2092.39,1154.39 2084.89,1161.38 2077.26,1168.3 2069.49,1175.16 2061.6,1181.96 2053.57,1188.69 2045.42,1195.36 \n  2037.14,1201.95 2028.73,1208.48 2020.2,1214.94 2011.55,1221.32 2002.77,1227.64 1993.87,1233.88 1984.86,1240.04 1975.72,1246.13 1966.48,1252.15 1957.11,1258.09 \n  1947.63,1263.95 1938.05,1269.73 1928.35,1275.43 1918.54,1281.06 1908.63,1286.6 1898.61,1292.05 1888.48,1297.43 1878.26,1302.72 1867.93,1307.93 1857.51,1313.04 \n  1846.98,1318.08 1836.36,1323.02 1825.65,1327.88 1814.85,1332.65 1803.95,1337.33 1792.97,1341.92 1781.9,1346.41 1770.74,1350.82 1759.5,1355.13 1748.18,1359.35 \n  1736.77,1363.48 1725.29,1367.51 1713.74,1371.44 1702.11,1375.28 1690.4,1379.03 1678.63,1382.67 1666.78,1386.22 1654.87,1389.67 1642.9,1393.03 1630.86,1396.28 \n  1618.76,1399.43 1606.59,1402.48 1594.38,1405.44 1582.1,1408.29 1569.78,1411.03 1557.4,1413.68 1544.97,1416.22 1532.49,1418.67 1519.97,1421 1507.4,1423.24 \n  1494.79,1425.37 1482.15,1427.39 1469.46,1429.31 1456.74,1431.13 1443.98,1432.84 1431.2,1434.45 1418.38,1435.94 1405.53,1437.34 1392.66,1438.62 1379.77,1439.8 \n  1366.85,1440.88 1353.92,1441.84 1340.96,1442.7 1328,1443.46 1315.01,1444.1 1302.02,1444.64 1289.02,1445.07 1276.01,1445.39 1263,1445.61 1249.98,1445.72 \n  1236.96,1445.72 1223.94,1445.61 1210.93,1445.39 1197.92,1445.07 1184.91,1444.64 1171.92,1444.1 1158.94,1443.46 1145.97,1442.7 1133.02,1441.84 1120.08,1440.88 \n  1107.17,1439.8 1094.27,1438.62 1081.4,1437.34 1068.56,1435.94 1055.74,1434.45 1042.95,1432.84 1030.2,1431.13 1017.48,1429.31 1004.79,1427.39 992.142,1425.37 \n  979.534,1423.24 966.967,1421 954.445,1418.67 941.968,1416.22 929.539,1413.68 917.16,1411.03 904.833,1408.29 892.559,1405.44 880.341,1402.48 868.18,1399.43 \n  856.079,1396.28 844.04,1393.03 832.064,1389.67 820.153,1386.22 808.309,1382.67 796.534,1379.03 784.83,1375.28 773.198,1371.44 761.642,1367.51 750.161,1363.48 \n  738.759,1359.35 727.437,1355.13 716.197,1350.82 705.04,1346.41 693.969,1341.92 682.984,1337.33 672.089,1332.65 661.284,1327.88 650.572,1323.02 639.953,1318.08 \n  629.43,1313.04 619.005,1307.93 608.678,1302.72 598.452,1297.43 588.329,1292.05 578.309,1286.6 568.395,1281.06 558.588,1275.43 548.889,1269.73 539.301,1263.95 \n  529.824,1258.09 520.46,1252.15 511.211,1246.13 502.078,1240.04 493.063,1233.88 484.166,1227.64 475.39,1221.32 466.736,1214.94 458.205,1208.48 449.798,1201.95 \n  441.517,1195.36 433.363,1188.69 425.338,1181.96 417.443,1175.16 409.678,1168.3 402.046,1161.38 394.547,1154.39 387.182,1147.34 379.954,1140.23 372.862,1133.06 \n  365.908,1125.84 359.094,1118.55 352.419,1111.21 345.886,1103.82 339.496,1096.37 333.248,1088.87 327.145,1081.32 321.187,1073.72 315.376,1066.07 309.711,1058.38 \n  304.195,1050.63 298.827,1042.85 293.609,1035.01 288.542,1027.14 283.626,1019.23 278.863,1011.27 274.252,1003.28 269.795,995.245 265.493,987.177 261.345,979.074 \n  257.353,970.938 253.518,962.77 249.839,954.57 246.318,946.34 242.955,938.082 239.751,929.797 236.706,921.486 233.82,913.151 231.095,904.792 228.53,896.412 \n  226.126,888.011 223.883,879.59 221.802,871.152 219.883,862.698 218.126,854.228 216.532,845.744 215.1,837.248 213.832,828.74 212.727,820.223 211.785,811.698 \n  211.007,803.165 210.392,794.626 209.941,786.083 209.654,777.537 209.532,768.99 209.573,760.442 209.777,751.895 210.146,743.35 210.679,734.809 211.375,726.273 \n  212.235,717.744 213.259,709.222 214.446,700.71 215.795,692.208 217.308,683.718 218.984,675.241 220.822,666.778 222.822,658.332 224.984,649.903 227.308,641.492 \n  229.792,633.101 232.437,624.731 235.243,616.384 238.208,608.06 241.333,599.762 244.617,591.491 248.059,583.247 251.659,575.032 255.416,566.848 259.33,558.695 \n  263.399,550.575 267.625,542.49 272.004,534.44 276.538,526.427 281.226,518.452 286.065,510.517 291.057,502.622 296.199,494.769 301.492,486.96 306.934,479.194 \n  312.525,471.474 318.263,463.801 324.148,456.177 330.179,448.601 336.354,441.076 342.673,433.602 349.135,426.181 355.739,418.815 362.484,411.503 369.368,404.248 \n  376.391,397.05 383.551,389.911 390.848,382.832 398.279,375.814 405.845,368.857 413.544,361.964 421.374,355.135 429.335,348.371 437.424,341.673 445.642,335.043 \n  453.986,328.482 462.455,321.99 471.048,315.568 479.763,309.218 488.599,302.941 497.556,296.737 506.63,290.607 515.821,284.553 525.128,278.576 534.548,272.676 \n  544.081,266.854 553.725,261.112 563.478,255.45 573.339,249.868 583.306,244.369 593.378,238.953 603.553,233.62 613.829,228.372 624.205,223.21 634.68,218.133 \n  645.25,213.143 655.916,208.242 666.675,203.429 677.525,198.705 688.465,194.071 699.493,189.528 710.608,185.077 721.806,180.717 733.088,176.451 744.45,172.279 \n  755.892,168.2 767.411,164.217 779.005,160.329 790.673,156.537 802.413,152.842 814.222,149.244 826.1,145.745 838.044,142.343 850.052,139.041 862.122,135.838 \n  874.253,132.736 886.443,129.734 898.689,126.832 910.99,124.033 923.343,121.335 935.748,118.74 948.201,116.247 960.7,113.858 973.245,111.572 985.833,109.39 \n  998.461,107.312 1011.13,105.338 1023.83,103.47 1036.57,101.707 1049.34,100.049 1062.15,98.4971 1074.98,97.0511 1087.83,95.7112 1100.72,94.4777 1113.62,93.3509 \n  1126.55,92.3308 1139.49,91.4177 1152.45,90.6116 1165.43,89.9128 1178.42,89.3213 1191.41,88.8372 1204.42,88.4606 1217.43,88.1915 1230.45,88.0301 1243.47,87.9763 \n  \n  \"/>\n<circle clip-path=\"url(#clip672)\" cx=\"1243.47\" cy=\"87.9763\" r=\"14.4\" fill=\"#3da44d\" fill-rule=\"evenodd\" fill-opacity=\"1\" stroke=\"#000000\" stroke-opacity=\"1\" stroke-width=\"3.2\"/>\n<circle clip-path=\"url(#clip672)\" cx=\"1705.86\" cy=\"159.647\" r=\"14.4\" fill=\"#3da44d\" fill-rule=\"evenodd\" fill-opacity=\"1\" stroke=\"#000000\" stroke-opacity=\"1\" stroke-width=\"3.2\"/>\n<polyline clip-path=\"url(#clip672)\" style=\"stroke:#c271d2; stroke-linecap:round; stroke-linejoin:round; stroke-width:4; stroke-opacity:1; fill:none\" points=\"\n  1243.47,766.853 1243.47,87.9763 \n  \"/>\n<polyline clip-path=\"url(#clip672)\" style=\"stroke:#ac8d18; stroke-linecap:round; stroke-linejoin:round; stroke-width:4; stroke-opacity:1; fill:none\" points=\"\n  1243.47,766.853 1705.86,159.647 \n  \"/>\n<polyline clip-path=\"url(#clip672)\" style=\"stroke:#00a9ad; stroke-linecap:round; stroke-linejoin:round; stroke-width:4; stroke-opacity:1; fill:none\" points=\"\n  1049.6,786.984 1256.39,786.984 1705.86,159.647 1243.47,87.9763 1049.6,786.984 \n  \"/>\n<circle clip-path=\"url(#clip672)\" cx=\"1243.47\" cy=\"766.853\" r=\"14.4\" fill=\"#ed5d92\" fill-rule=\"evenodd\" fill-opacity=\"1\" stroke=\"#000000\" stroke-opacity=\"1\" stroke-width=\"3.2\"/>\n<circle clip-path=\"url(#clip672)\" cx=\"2290.33\" cy=\"651.208\" r=\"14.4\" fill=\"#c68125\" fill-rule=\"evenodd\" fill-opacity=\"1\" stroke=\"#000000\" stroke-opacity=\"1\" stroke-width=\"3.2\"/>\n<circle clip-path=\"url(#clip672)\" cx=\"222.449\" cy=\"895.604\" r=\"14.4\" fill=\"#c68125\" fill-rule=\"evenodd\" fill-opacity=\"1\" stroke=\"#000000\" stroke-opacity=\"1\" stroke-width=\"3.2\"/>\n<polyline clip-path=\"url(#clip672)\" style=\"stroke:#00a98d; stroke-linecap:round; stroke-linejoin:round; stroke-width:4; stroke-opacity:1; fill:none\" points=\"\n  1243.47,87.9763 1256.49,88.0301 1269.5,88.1915 1282.52,88.4606 1295.52,88.8372 1308.52,89.3213 1321.51,89.9128 1334.48,90.6116 1347.44,91.4177 1360.39,92.3308 \n  1373.31,93.3509 1386.22,94.4777 1399.1,95.7112 1411.96,97.0511 1424.79,98.4971 1437.59,100.049 1450.36,101.707 1463.1,103.47 1475.81,105.338 1488.47,107.312 \n  1501.1,109.39 1513.69,111.572 1526.24,113.858 1538.74,116.247 1551.19,118.74 1563.59,121.335 1575.95,124.033 1588.25,126.832 1600.49,129.734 1612.68,132.736 \n  1624.81,135.838 1636.88,139.041 1648.89,142.343 1660.84,145.745 1672.71,149.244 1684.52,152.842 1696.26,156.537 1707.93,160.329 1719.52,164.217 1731.04,168.2 \n  1742.49,172.279 1753.85,176.451 1765.13,180.717 1776.33,185.077 1787.44,189.528 1798.47,194.071 1809.41,198.705 1820.26,203.429 1831.02,208.242 1841.69,213.143 \n  1852.26,218.133 1862.73,223.21 1873.11,228.372 1883.38,233.62 1893.56,238.953 1903.63,244.369 1913.6,249.868 1923.46,255.45 1933.21,261.112 1942.85,266.854 \n  1952.39,272.676 1961.81,278.576 1971.11,284.553 1980.31,290.607 1989.38,296.737 1998.34,302.941 2007.17,309.218 2015.89,315.568 2024.48,321.99 2032.95,328.482 \n  2041.29,335.043 2049.51,341.673 2057.6,348.371 2065.56,355.135 2073.39,361.964 2081.09,368.857 2088.66,375.814 2096.09,382.832 2103.38,389.911 2110.54,397.05 \n  2117.57,404.248 2124.45,411.503 2131.2,418.815 2137.8,426.181 2144.26,433.602 2150.58,441.076 2156.76,448.601 2162.79,456.177 2168.67,463.801 2174.41,471.474 \n  2180,479.194 2185.44,486.96 2190.74,494.769 2195.88,502.622 2200.87,510.517 2205.71,518.452 2210.4,526.427 2214.93,534.44 2219.31,542.49 2223.54,550.575 \n  2227.61,558.695 2231.52,566.848 2235.28,575.032 2238.88,583.247 2242.32,591.491 2245.6,599.762 2248.73,608.06 2251.69,616.384 2254.5,624.731 2257.14,633.101 \n  2259.63,641.492 2261.95,649.903 2264.11,658.332 2266.11,666.778 2267.95,675.241 2269.63,683.718 2271.14,692.208 2272.49,700.71 2273.68,709.222 2274.7,717.744 \n  2275.56,726.273 2276.26,734.809 2276.79,743.35 2277.16,751.895 2277.36,760.442 2277.4,768.99 2277.28,777.537 2276.99,786.083 2276.54,794.626 2275.93,803.165 \n  2275.15,811.698 2274.21,820.223 2273.1,828.74 2271.84,837.248 2270.4,845.744 2268.81,854.228 2267.05,862.698 2265.13,871.152 2263.05,879.59 2260.81,888.011 \n  2258.41,896.412 2255.84,904.792 2253.12,913.151 2250.23,921.486 2247.18,929.797 2243.98,938.082 2240.62,946.34 2237.1,954.57 2233.42,962.77 2229.58,970.938 \n  2225.59,979.074 2221.44,987.177 2217.14,995.245 2212.68,1003.28 2208.07,1011.27 2203.31,1019.23 2198.39,1027.14 2193.33,1035.01 2188.11,1042.85 2182.74,1050.63 \n  2177.22,1058.38 2171.56,1066.07 2165.75,1073.72 2159.79,1081.32 2153.69,1088.87 2147.44,1096.37 2141.05,1103.82 2134.52,1111.21 2127.84,1118.55 2121.03,1125.84 \n  2114.07,1133.06 2106.98,1140.23 2099.75,1147.34 2092.39,1154.39 2084.89,1161.38 2077.26,1168.3 2069.49,1175.16 2061.6,1181.96 2053.57,1188.69 2045.42,1195.36 \n  2037.14,1201.95 2028.73,1208.48 2020.2,1214.94 2011.55,1221.32 2002.77,1227.64 1993.87,1233.88 1984.86,1240.04 1975.72,1246.13 1966.48,1252.15 1957.11,1258.09 \n  1947.63,1263.95 1938.05,1269.73 1928.35,1275.43 1918.54,1281.06 1908.63,1286.6 1898.61,1292.05 1888.48,1297.43 1878.26,1302.72 1867.93,1307.93 1857.51,1313.04 \n  1846.98,1318.08 1836.36,1323.02 1825.65,1327.88 1814.85,1332.65 1803.95,1337.33 1792.97,1341.92 1781.9,1346.41 1770.74,1350.82 1759.5,1355.13 1748.18,1359.35 \n  1736.77,1363.48 1725.29,1367.51 1713.74,1371.44 1702.11,1375.28 1690.4,1379.03 1678.63,1382.67 1666.78,1386.22 1654.87,1389.67 1642.9,1393.03 1630.86,1396.28 \n  1618.76,1399.43 1606.59,1402.48 1594.38,1405.44 1582.1,1408.29 1569.78,1411.03 1557.4,1413.68 1544.97,1416.22 1532.49,1418.67 1519.97,1421 1507.4,1423.24 \n  1494.79,1425.37 1482.15,1427.39 1469.46,1429.31 1456.74,1431.13 1443.98,1432.84 1431.2,1434.45 1418.38,1435.94 1405.53,1437.34 1392.66,1438.62 1379.77,1439.8 \n  1366.85,1440.88 1353.92,1441.84 1340.96,1442.7 1328,1443.46 1315.01,1444.1 1302.02,1444.64 1289.02,1445.07 1276.01,1445.39 1263,1445.61 1249.98,1445.72 \n  1236.96,1445.72 1223.94,1445.61 1210.93,1445.39 1197.92,1445.07 1184.91,1444.64 1171.92,1444.1 1158.94,1443.46 1145.97,1442.7 1133.02,1441.84 1120.08,1440.88 \n  1107.17,1439.8 1094.27,1438.62 1081.4,1437.34 1068.56,1435.94 1055.74,1434.45 1042.95,1432.84 1030.2,1431.13 1017.48,1429.31 1004.79,1427.39 992.142,1425.37 \n  979.534,1423.24 966.967,1421 954.445,1418.67 941.968,1416.22 929.539,1413.68 917.16,1411.03 904.833,1408.29 892.559,1405.44 880.341,1402.48 868.18,1399.43 \n  856.079,1396.28 844.04,1393.03 832.064,1389.67 820.153,1386.22 808.309,1382.67 796.534,1379.03 784.83,1375.28 773.198,1371.44 761.642,1367.51 750.161,1363.48 \n  738.759,1359.35 727.437,1355.13 716.197,1350.82 705.04,1346.41 693.969,1341.92 682.984,1337.33 672.089,1332.65 661.284,1327.88 650.572,1323.02 639.953,1318.08 \n  629.43,1313.04 619.005,1307.93 608.678,1302.72 598.452,1297.43 588.329,1292.05 578.309,1286.6 568.395,1281.06 558.588,1275.43 548.889,1269.73 539.301,1263.95 \n  529.824,1258.09 520.46,1252.15 511.211,1246.13 502.078,1240.04 493.063,1233.88 484.166,1227.64 475.39,1221.32 466.736,1214.94 458.205,1208.48 449.798,1201.95 \n  441.517,1195.36 433.363,1188.69 425.338,1181.96 417.443,1175.16 409.678,1168.3 402.046,1161.38 394.547,1154.39 387.182,1147.34 379.954,1140.23 372.862,1133.06 \n  365.908,1125.84 359.094,1118.55 352.419,1111.21 345.886,1103.82 339.496,1096.37 333.248,1088.87 327.145,1081.32 321.187,1073.72 315.376,1066.07 309.711,1058.38 \n  304.195,1050.63 298.827,1042.85 293.609,1035.01 288.542,1027.14 283.626,1019.23 278.863,1011.27 274.252,1003.28 269.795,995.245 265.493,987.177 261.345,979.074 \n  257.353,970.938 253.518,962.77 249.839,954.57 246.318,946.34 242.955,938.082 239.751,929.797 236.706,921.486 233.82,913.151 231.095,904.792 228.53,896.412 \n  226.126,888.011 223.883,879.59 221.802,871.152 219.883,862.698 218.126,854.228 216.532,845.744 215.1,837.248 213.832,828.74 212.727,820.223 211.785,811.698 \n  211.007,803.165 210.392,794.626 209.941,786.083 209.654,777.537 209.532,768.99 209.573,760.442 209.777,751.895 210.146,743.35 210.679,734.809 211.375,726.273 \n  212.235,717.744 213.259,709.222 214.446,700.71 215.795,692.208 217.308,683.718 218.984,675.241 220.822,666.778 222.822,658.332 224.984,649.903 227.308,641.492 \n  229.792,633.101 232.437,624.731 235.243,616.384 238.208,608.06 241.333,599.762 244.617,591.491 248.059,583.247 251.659,575.032 255.416,566.848 259.33,558.695 \n  263.399,550.575 267.625,542.49 272.004,534.44 276.538,526.427 281.226,518.452 286.065,510.517 291.057,502.622 296.199,494.769 301.492,486.96 306.934,479.194 \n  312.525,471.474 318.263,463.801 324.148,456.177 330.179,448.601 336.354,441.076 342.673,433.602 349.135,426.181 355.739,418.815 362.484,411.503 369.368,404.248 \n  376.391,397.05 383.551,389.911 390.848,382.832 398.279,375.814 405.845,368.857 413.544,361.964 421.374,355.135 429.335,348.371 437.424,341.673 445.642,335.043 \n  453.986,328.482 462.455,321.99 471.048,315.568 479.763,309.218 488.599,302.941 497.556,296.737 506.63,290.607 515.821,284.553 525.128,278.576 534.548,272.676 \n  544.081,266.854 553.725,261.112 563.478,255.45 573.339,249.868 583.306,244.369 593.378,238.953 603.553,233.62 613.829,228.372 624.205,223.21 634.68,218.133 \n  645.25,213.143 655.916,208.242 666.675,203.429 677.525,198.705 688.465,194.071 699.493,189.528 710.608,185.077 721.806,180.717 733.088,176.451 744.45,172.279 \n  755.892,168.2 767.411,164.217 779.005,160.329 790.673,156.537 802.413,152.842 814.222,149.244 826.1,145.745 838.044,142.343 850.052,139.041 862.122,135.838 \n  874.253,132.736 886.443,129.734 898.689,126.832 910.99,124.033 923.343,121.335 935.748,118.74 948.201,116.247 960.7,113.858 973.245,111.572 985.833,109.39 \n  998.461,107.312 1011.13,105.338 1023.83,103.47 1036.57,101.707 1049.34,100.049 1062.15,98.4971 1074.98,97.0511 1087.83,95.7112 1100.72,94.4777 1113.62,93.3509 \n  1126.55,92.3308 1139.49,91.4177 1152.45,90.6116 1165.43,89.9128 1178.42,89.3213 1191.41,88.8372 1204.42,88.4606 1217.43,88.1915 1230.45,88.0301 1243.47,87.9763 \n  \n  \"/>\n<circle clip-path=\"url(#clip672)\" cx=\"1243.47\" cy=\"87.9763\" r=\"14.4\" fill=\"#8e971d\" fill-rule=\"evenodd\" fill-opacity=\"1\" stroke=\"#000000\" stroke-opacity=\"1\" stroke-width=\"3.2\"/>\n<circle clip-path=\"url(#clip672)\" cx=\"1705.86\" cy=\"159.647\" r=\"14.4\" fill=\"#8e971d\" fill-rule=\"evenodd\" fill-opacity=\"1\" stroke=\"#000000\" stroke-opacity=\"1\" stroke-width=\"3.2\"/>\n<polyline clip-path=\"url(#clip672)\" style=\"stroke:#00a8cb; stroke-linecap:round; stroke-linejoin:round; stroke-width:4; stroke-opacity:1; fill:none\" points=\"\n  1243.47,766.853 1243.47,87.9763 \n  \"/>\n<polyline clip-path=\"url(#clip672)\" style=\"stroke:#9b7fe8; stroke-linecap:round; stroke-linejoin:round; stroke-width:4; stroke-opacity:1; fill:none\" points=\"\n  1243.47,766.853 1705.86,159.647 \n  \"/>\n<polyline clip-path=\"url(#clip672)\" style=\"stroke:#608cf6; stroke-linecap:round; stroke-linejoin:round; stroke-width:4; stroke-opacity:1; fill:none\" points=\"\n  1049.6,786.984 1256.39,786.984 1705.86,159.647 1243.47,87.9763 1049.6,786.984 \n  \"/>\n<circle clip-path=\"url(#clip672)\" cx=\"1243.47\" cy=\"766.853\" r=\"14.4\" fill=\"#f05f73\" fill-rule=\"evenodd\" fill-opacity=\"1\" stroke=\"#000000\" stroke-opacity=\"1\" stroke-width=\"3.2\"/>\n<circle clip-path=\"url(#clip672)\" cx=\"2290.33\" cy=\"651.208\" r=\"14.4\" fill=\"#dd64b5\" fill-rule=\"evenodd\" fill-opacity=\"1\" stroke=\"#000000\" stroke-opacity=\"1\" stroke-width=\"3.2\"/>\n<circle clip-path=\"url(#clip672)\" cx=\"222.449\" cy=\"873.88\" r=\"14.4\" fill=\"#dd64b5\" fill-rule=\"evenodd\" fill-opacity=\"1\" stroke=\"#000000\" stroke-opacity=\"1\" stroke-width=\"3.2\"/>\n<path clip-path=\"url(#clip670)\" d=\"\nM1475.57 924.658 L2279.23 924.658 L2279.23 95.2176 L1475.57 95.2176  Z\n  \" fill=\"#ffffff\" fill-rule=\"evenodd\" fill-opacity=\"1\"/>\n<polyline clip-path=\"url(#clip670)\" style=\"stroke:#000000; stroke-linecap:round; stroke-linejoin:round; stroke-width:4; stroke-opacity:1; fill:none\" points=\"\n  1475.57,924.658 2279.23,924.658 2279.23,95.2176 1475.57,95.2176 1475.57,924.658 \n  \"/>\n<circle clip-path=\"url(#clip670)\" cx=\"1573.6\" cy=\"147.058\" r=\"23.04\" fill=\"#009af9\" fill-rule=\"evenodd\" fill-opacity=\"1\" stroke=\"#000000\" stroke-opacity=\"1\" stroke-width=\"5.12\"/>\n<path clip-path=\"url(#clip670)\" d=\"M1675.91 160.449 L1675.91 174.199 L1671.63 174.199 L1671.63 138.412 L1675.91 138.412 L1675.91 142.347 Q1677.25 140.032 1679.29 138.921 Q1681.35 137.787 1684.2 137.787 Q1688.92 137.787 1691.86 141.537 Q1694.82 145.287 1694.82 151.398 Q1694.82 157.509 1691.86 161.259 Q1688.92 165.009 1684.2 165.009 Q1681.35 165.009 1679.29 163.898 Q1677.25 162.763 1675.91 160.449 M1690.4 151.398 Q1690.4 146.699 1688.46 144.037 Q1686.54 141.352 1683.16 141.352 Q1679.78 141.352 1677.83 144.037 Q1675.91 146.699 1675.91 151.398 Q1675.91 156.097 1677.83 158.782 Q1679.78 161.444 1683.16 161.444 Q1686.54 161.444 1688.46 158.782 Q1690.4 156.097 1690.4 151.398 Z\" fill=\"#000000\" fill-rule=\"evenodd\" fill-opacity=\"1\" /><path clip-path=\"url(#clip670)\" d=\"M1716.91 142.393 Q1716.19 141.977 1715.33 141.791 Q1714.5 141.583 1713.48 141.583 Q1709.87 141.583 1707.92 143.944 Q1706 146.282 1706 150.68 L1706 164.338 L1701.72 164.338 L1701.72 138.412 L1706 138.412 L1706 142.44 Q1707.35 140.078 1709.5 138.944 Q1711.65 137.787 1714.73 137.787 Q1715.17 137.787 1715.7 137.856 Q1716.23 137.903 1716.88 138.018 L1716.91 142.393 Z\" fill=\"#000000\" fill-rule=\"evenodd\" fill-opacity=\"1\" /><path clip-path=\"url(#clip670)\" d=\"M1730.38 141.398 Q1726.95 141.398 1724.96 144.083 Q1722.97 146.745 1722.97 151.398 Q1722.97 156.051 1724.94 158.736 Q1726.93 161.398 1730.38 161.398 Q1733.78 161.398 1735.77 158.713 Q1737.76 156.027 1737.76 151.398 Q1737.76 146.791 1735.77 144.106 Q1733.78 141.398 1730.38 141.398 M1730.38 137.787 Q1735.93 137.787 1739.1 141.398 Q1742.28 145.009 1742.28 151.398 Q1742.28 157.764 1739.1 161.398 Q1735.93 165.009 1730.38 165.009 Q1724.8 165.009 1721.63 161.398 Q1718.48 157.764 1718.48 151.398 Q1718.48 145.009 1721.63 141.398 Q1724.8 137.787 1730.38 137.787 Z\" fill=\"#000000\" fill-rule=\"evenodd\" fill-opacity=\"1\" /><path clip-path=\"url(#clip670)\" d=\"M1749.34 138.412 L1753.6 138.412 L1753.6 164.801 Q1753.6 169.754 1751.7 171.976 Q1749.82 174.199 1745.63 174.199 L1744.01 174.199 L1744.01 170.588 L1745.15 170.588 Q1747.58 170.588 1748.46 169.453 Q1749.34 168.342 1749.34 164.801 L1749.34 138.412 M1749.34 128.319 L1753.6 128.319 L1753.6 133.713 L1749.34 133.713 L1749.34 128.319 Z\" fill=\"#000000\" fill-rule=\"evenodd\" fill-opacity=\"1\" /><path clip-path=\"url(#clip670)\" d=\"M1763.92 160.402 L1771.56 160.402 L1771.56 134.037 L1763.25 135.703 L1763.25 131.444 L1771.51 129.778 L1776.19 129.778 L1776.19 160.402 L1783.83 160.402 L1783.83 164.338 L1763.92 164.338 L1763.92 160.402 Z\" fill=\"#000000\" fill-rule=\"evenodd\" fill-opacity=\"1\" /><polyline clip-path=\"url(#clip670)\" style=\"stroke:#e26f46; stroke-linecap:round; stroke-linejoin:round; stroke-width:4; stroke-opacity:1; fill:none\" points=\"\n  1500.08,198.898 1647.12,198.898 \n  \"/>\n<path clip-path=\"url(#clip670)\" d=\"M1693.87 182.752 L1693.87 187.312 Q1691.21 186.039 1688.85 185.414 Q1686.49 184.789 1684.29 184.789 Q1680.47 184.789 1678.39 186.27 Q1676.33 187.752 1676.33 190.483 Q1676.33 192.775 1677.69 193.955 Q1679.08 195.113 1682.92 195.83 L1685.75 196.409 Q1690.98 197.405 1693.46 199.928 Q1695.96 202.428 1695.96 206.641 Q1695.96 211.664 1692.58 214.256 Q1689.22 216.849 1682.72 216.849 Q1680.26 216.849 1677.48 216.293 Q1674.73 215.738 1671.77 214.65 L1671.77 209.835 Q1674.61 211.432 1677.35 212.242 Q1680.08 213.053 1682.72 213.053 Q1686.72 213.053 1688.9 211.479 Q1691.07 209.904 1691.07 206.988 Q1691.07 204.442 1689.5 203.006 Q1687.95 201.571 1684.38 200.854 L1681.54 200.298 Q1676.3 199.256 1673.97 197.034 Q1671.63 194.812 1671.63 190.854 Q1671.63 186.27 1674.85 183.631 Q1678.09 180.993 1683.76 180.993 Q1686.19 180.993 1688.71 181.432 Q1691.23 181.872 1693.87 182.752 Z\" fill=\"#000000\" fill-rule=\"evenodd\" fill-opacity=\"1\" /><path clip-path=\"url(#clip670)\" d=\"M1703.06 190.252 L1707.32 190.252 L1707.32 216.178 L1703.06 216.178 L1703.06 190.252 M1703.06 180.159 L1707.32 180.159 L1707.32 185.553 L1703.06 185.553 L1703.06 180.159 Z\" fill=\"#000000\" fill-rule=\"evenodd\" fill-opacity=\"1\" /><path clip-path=\"url(#clip670)\" d=\"M1737.79 200.529 L1737.79 216.178 L1733.53 216.178 L1733.53 200.668 Q1733.53 196.988 1732.09 195.159 Q1730.66 193.33 1727.79 193.33 Q1724.34 193.33 1722.35 195.53 Q1720.35 197.729 1720.35 201.525 L1720.35 216.178 L1716.07 216.178 L1716.07 190.252 L1720.35 190.252 L1720.35 194.28 Q1721.88 191.942 1723.94 190.784 Q1726.03 189.627 1728.73 189.627 Q1733.2 189.627 1735.49 192.405 Q1737.79 195.159 1737.79 200.529 Z\" fill=\"#000000\" fill-rule=\"evenodd\" fill-opacity=\"1\" /><path clip-path=\"url(#clip670)\" d=\"M1758.06 203.145 Q1752.9 203.145 1750.91 204.326 Q1748.92 205.506 1748.92 208.354 Q1748.92 210.622 1750.4 211.965 Q1751.91 213.284 1754.48 213.284 Q1758.02 213.284 1760.15 210.784 Q1762.3 208.261 1762.3 204.094 L1762.3 203.145 L1758.06 203.145 M1766.56 201.386 L1766.56 216.178 L1762.3 216.178 L1762.3 212.242 Q1760.84 214.603 1758.66 215.738 Q1756.49 216.849 1753.34 216.849 Q1749.36 216.849 1747 214.627 Q1744.66 212.381 1744.66 208.631 Q1744.66 204.256 1747.58 202.034 Q1750.52 199.812 1756.33 199.812 L1762.3 199.812 L1762.3 199.395 Q1762.3 196.455 1760.35 194.858 Q1758.43 193.238 1754.94 193.238 Q1752.72 193.238 1750.61 193.77 Q1748.5 194.303 1746.56 195.367 L1746.56 191.432 Q1748.9 190.53 1751.1 190.09 Q1753.29 189.627 1755.38 189.627 Q1761 189.627 1763.78 192.543 Q1766.56 195.46 1766.56 201.386 Z\" fill=\"#000000\" fill-rule=\"evenodd\" fill-opacity=\"1\" /><path clip-path=\"url(#clip670)\" d=\"M1775.33 180.159 L1779.59 180.159 L1779.59 216.178 L1775.33 216.178 L1775.33 180.159 Z\" fill=\"#000000\" fill-rule=\"evenodd\" fill-opacity=\"1\" /><circle clip-path=\"url(#clip670)\" cx=\"1573.6\" cy=\"250.738\" r=\"23.04\" fill=\"#3da44d\" fill-rule=\"evenodd\" fill-opacity=\"1\" stroke=\"#000000\" stroke-opacity=\"1\" stroke-width=\"5.12\"/>\n<path clip-path=\"url(#clip670)\" d=\"M1676.3 237.3 L1676.3 250.286 L1682.18 250.286 Q1685.45 250.286 1687.23 248.596 Q1689.01 246.907 1689.01 243.782 Q1689.01 240.68 1687.23 238.99 Q1685.45 237.3 1682.18 237.3 L1676.3 237.3 M1671.63 233.458 L1682.18 233.458 Q1687.99 233.458 1690.96 236.096 Q1693.94 238.712 1693.94 243.782 Q1693.94 248.897 1690.96 251.513 Q1687.99 254.129 1682.18 254.129 L1676.3 254.129 L1676.3 268.018 L1671.63 268.018 L1671.63 233.458 Z\" fill=\"#000000\" fill-rule=\"evenodd\" fill-opacity=\"1\" /><path clip-path=\"url(#clip670)\" d=\"M1714.22 246.073 Q1713.5 245.657 1712.65 245.471 Q1711.81 245.263 1710.79 245.263 Q1707.18 245.263 1705.24 247.624 Q1703.32 249.962 1703.32 254.36 L1703.32 268.018 L1699.04 268.018 L1699.04 242.092 L1703.32 242.092 L1703.32 246.12 Q1704.66 243.758 1706.81 242.624 Q1708.97 241.467 1712.04 241.467 Q1712.48 241.467 1713.02 241.536 Q1713.55 241.583 1714.2 241.698 L1714.22 246.073 Z\" fill=\"#000000\" fill-rule=\"evenodd\" fill-opacity=\"1\" /><path clip-path=\"url(#clip670)\" d=\"M1727.69 245.078 Q1724.27 245.078 1722.28 247.763 Q1720.29 250.425 1720.29 255.078 Q1720.29 259.731 1722.25 262.416 Q1724.24 265.078 1727.69 265.078 Q1731.1 265.078 1733.09 262.393 Q1735.08 259.707 1735.08 255.078 Q1735.08 250.471 1733.09 247.786 Q1731.1 245.078 1727.69 245.078 M1727.69 241.467 Q1733.25 241.467 1736.42 245.078 Q1739.59 248.689 1739.59 255.078 Q1739.59 261.444 1736.42 265.078 Q1733.25 268.689 1727.69 268.689 Q1722.11 268.689 1718.94 265.078 Q1715.79 261.444 1715.79 255.078 Q1715.79 248.689 1718.94 245.078 Q1722.11 241.467 1727.69 241.467 Z\" fill=\"#000000\" fill-rule=\"evenodd\" fill-opacity=\"1\" /><path clip-path=\"url(#clip670)\" d=\"M1746.65 242.092 L1750.91 242.092 L1750.91 268.481 Q1750.91 273.434 1749.01 275.656 Q1747.14 277.879 1742.95 277.879 L1741.33 277.879 L1741.33 274.268 L1742.46 274.268 Q1744.89 274.268 1745.77 273.133 Q1746.65 272.022 1746.65 268.481 L1746.65 242.092 M1746.65 231.999 L1750.91 231.999 L1750.91 237.393 L1746.65 237.393 L1746.65 231.999 Z\" fill=\"#000000\" fill-rule=\"evenodd\" fill-opacity=\"1\" /><path clip-path=\"url(#clip670)\" d=\"M1782 253.99 L1782 256.073 L1762.41 256.073 Q1762.69 260.471 1765.05 262.786 Q1767.44 265.078 1771.67 265.078 Q1774.13 265.078 1776.42 264.476 Q1778.73 263.874 1781 262.67 L1781 266.698 Q1778.71 267.67 1776.3 268.18 Q1773.9 268.689 1771.42 268.689 Q1765.22 268.689 1761.58 265.078 Q1757.97 261.467 1757.97 255.309 Q1757.97 248.944 1761.4 245.217 Q1764.85 241.467 1770.68 241.467 Q1775.91 241.467 1778.94 244.846 Q1782 248.203 1782 253.99 M1777.74 252.74 Q1777.69 249.245 1775.77 247.161 Q1773.87 245.078 1770.73 245.078 Q1767.16 245.078 1765.01 247.092 Q1762.88 249.106 1762.55 252.763 L1777.74 252.74 Z\" fill=\"#000000\" fill-rule=\"evenodd\" fill-opacity=\"1\" /><path clip-path=\"url(#clip670)\" d=\"M1807.65 243.087 L1807.65 247.069 Q1805.84 246.073 1804.01 245.587 Q1802.21 245.078 1800.35 245.078 Q1796.21 245.078 1793.92 247.717 Q1791.63 250.332 1791.63 255.078 Q1791.63 259.823 1793.92 262.462 Q1796.21 265.078 1800.35 265.078 Q1802.21 265.078 1804.01 264.592 Q1805.84 264.082 1807.65 263.087 L1807.65 267.022 Q1805.86 267.856 1803.94 268.272 Q1802.04 268.689 1799.89 268.689 Q1794.04 268.689 1790.59 265.008 Q1787.14 261.328 1787.14 255.078 Q1787.14 248.735 1790.61 245.101 Q1794.1 241.467 1800.17 241.467 Q1802.14 241.467 1804.01 241.883 Q1805.89 242.277 1807.65 243.087 M1801.63 268.018 Q1802.9 269.453 1803.53 270.656 Q1804.15 271.883 1804.15 272.994 Q1804.15 275.055 1802.76 276.096 Q1801.37 277.161 1798.64 277.161 Q1797.58 277.161 1796.56 277.022 Q1795.56 276.883 1794.57 276.605 L1794.57 273.573 Q1795.35 273.967 1796.21 274.129 Q1797.07 274.314 1798.16 274.314 Q1799.52 274.314 1800.22 273.758 Q1800.91 273.203 1800.91 272.138 Q1800.91 271.443 1800.4 270.425 Q1799.91 269.43 1798.87 268.018 L1801.63 268.018 Z\" fill=\"#000000\" fill-rule=\"evenodd\" fill-opacity=\"1\" /><path clip-path=\"url(#clip670)\" d=\"M1826.84 254.985 Q1821.67 254.985 1819.68 256.166 Q1817.69 257.346 1817.69 260.194 Q1817.69 262.462 1819.17 263.805 Q1820.68 265.124 1823.25 265.124 Q1826.79 265.124 1828.92 262.624 Q1831.07 260.101 1831.07 255.934 L1831.07 254.985 L1826.84 254.985 M1835.33 253.226 L1835.33 268.018 L1831.07 268.018 L1831.07 264.082 Q1829.61 266.443 1827.44 267.578 Q1825.26 268.689 1822.11 268.689 Q1818.13 268.689 1815.77 266.467 Q1813.43 264.221 1813.43 260.471 Q1813.43 256.096 1816.35 253.874 Q1819.29 251.652 1825.1 251.652 L1831.07 251.652 L1831.07 251.235 Q1831.07 248.295 1829.13 246.698 Q1827.21 245.078 1823.71 245.078 Q1821.49 245.078 1819.38 245.61 Q1817.28 246.143 1815.33 247.207 L1815.33 243.272 Q1817.67 242.37 1819.87 241.93 Q1822.07 241.467 1824.15 241.467 Q1829.78 241.467 1832.55 244.383 Q1835.33 247.3 1835.33 253.226 M1824.24 236.305 L1822.92 235.032 Q1822.41 234.569 1822.02 234.36 Q1821.65 234.129 1821.35 234.129 Q1820.47 234.129 1820.05 234.985 Q1819.64 235.819 1819.59 237.717 L1816.7 237.717 Q1816.74 234.592 1817.92 232.902 Q1819.1 231.189 1821.21 231.189 Q1822.09 231.189 1822.83 231.513 Q1823.57 231.837 1824.43 232.601 L1825.75 233.874 Q1826.26 234.337 1826.63 234.569 Q1827.02 234.777 1827.32 234.777 Q1828.2 234.777 1828.62 233.944 Q1829.03 233.087 1829.08 231.189 L1831.97 231.189 Q1831.93 234.314 1830.75 236.027 Q1829.57 237.717 1827.46 237.717 Q1826.58 237.717 1825.84 237.393 Q1825.1 237.069 1824.24 236.305 Z\" fill=\"#000000\" fill-rule=\"evenodd\" fill-opacity=\"1\" /><path clip-path=\"url(#clip670)\" d=\"M1854.15 245.078 Q1850.72 245.078 1848.73 247.763 Q1846.74 250.425 1846.74 255.078 Q1846.74 259.731 1848.71 262.416 Q1850.7 265.078 1854.15 265.078 Q1857.55 265.078 1859.54 262.393 Q1861.53 259.707 1861.53 255.078 Q1861.53 250.471 1859.54 247.786 Q1857.55 245.078 1854.15 245.078 M1854.15 241.467 Q1859.71 241.467 1862.88 245.078 Q1866.05 248.689 1866.05 255.078 Q1866.05 261.444 1862.88 265.078 Q1859.71 268.689 1854.15 268.689 Q1848.57 268.689 1845.4 265.078 Q1842.25 261.444 1842.25 255.078 Q1842.25 248.689 1845.4 245.078 Q1848.57 241.467 1854.15 241.467 Z\" fill=\"#000000\" fill-rule=\"evenodd\" fill-opacity=\"1\" /><polyline clip-path=\"url(#clip670)\" style=\"stroke:#c271d2; stroke-linecap:round; stroke-linejoin:round; stroke-width:4; stroke-opacity:1; fill:none\" points=\"\n  1500.08,302.578 1647.12,302.578 \n  \"/>\n<path clip-path=\"url(#clip670)\" d=\"M1671.63 285.298 L1676.3 285.298 L1676.3 315.922 L1693.13 315.922 L1693.13 319.858 L1671.63 319.858 L1671.63 285.298 Z\" fill=\"#000000\" fill-rule=\"evenodd\" fill-opacity=\"1\" /><path clip-path=\"url(#clip670)\" d=\"M1697.86 293.932 L1702.11 293.932 L1702.11 319.858 L1697.86 319.858 L1697.86 293.932 M1697.86 283.839 L1702.11 283.839 L1702.11 289.233 L1697.86 289.233 L1697.86 283.839 Z\" fill=\"#000000\" fill-rule=\"evenodd\" fill-opacity=\"1\" /><path clip-path=\"url(#clip670)\" d=\"M1732.58 304.209 L1732.58 319.858 L1728.32 319.858 L1728.32 304.348 Q1728.32 300.668 1726.88 298.839 Q1725.45 297.01 1722.58 297.01 Q1719.13 297.01 1717.14 299.21 Q1715.15 301.409 1715.15 305.205 L1715.15 319.858 L1710.86 319.858 L1710.86 293.932 L1715.15 293.932 L1715.15 297.96 Q1716.67 295.622 1718.73 294.464 Q1720.82 293.307 1723.53 293.307 Q1727.99 293.307 1730.29 296.085 Q1732.58 298.839 1732.58 304.209 Z\" fill=\"#000000\" fill-rule=\"evenodd\" fill-opacity=\"1\" /><path clip-path=\"url(#clip670)\" d=\"M1762.62 304.209 L1762.62 319.858 L1758.36 319.858 L1758.36 304.348 Q1758.36 300.668 1756.93 298.839 Q1755.49 297.01 1752.62 297.01 Q1749.17 297.01 1747.18 299.21 Q1745.19 301.409 1745.19 305.205 L1745.19 319.858 L1740.91 319.858 L1740.91 283.839 L1745.19 283.839 L1745.19 297.96 Q1746.72 295.622 1748.78 294.464 Q1750.86 293.307 1753.57 293.307 Q1758.04 293.307 1760.33 296.085 Q1762.62 298.839 1762.62 304.209 Z\" fill=\"#000000\" fill-rule=\"evenodd\" fill-opacity=\"1\" /><path clip-path=\"url(#clip670)\" d=\"M1782.9 306.825 Q1777.74 306.825 1775.75 308.006 Q1773.76 309.186 1773.76 312.034 Q1773.76 314.302 1775.24 315.645 Q1776.74 316.964 1779.31 316.964 Q1782.85 316.964 1784.98 314.464 Q1787.14 311.941 1787.14 307.774 L1787.14 306.825 L1782.9 306.825 M1791.4 305.066 L1791.4 319.858 L1787.14 319.858 L1787.14 315.922 Q1785.68 318.283 1783.5 319.418 Q1781.33 320.529 1778.18 320.529 Q1774.2 320.529 1771.84 318.307 Q1769.5 316.061 1769.5 312.311 Q1769.5 307.936 1772.41 305.714 Q1775.35 303.492 1781.16 303.492 L1787.14 303.492 L1787.14 303.075 Q1787.14 300.135 1785.19 298.538 Q1783.27 296.918 1779.78 296.918 Q1777.55 296.918 1775.45 297.45 Q1773.34 297.983 1771.4 299.047 L1771.4 295.112 Q1773.73 294.21 1775.93 293.77 Q1778.13 293.307 1780.22 293.307 Q1785.84 293.307 1788.62 296.223 Q1791.4 299.14 1791.4 305.066 Z\" fill=\"#000000\" fill-rule=\"evenodd\" fill-opacity=\"1\" /><path clip-path=\"url(#clip670)\" d=\"M1832.3 297.867 L1832.3 283.839 L1836.56 283.839 L1836.56 319.858 L1832.3 319.858 L1832.3 315.969 Q1830.96 318.283 1828.9 319.418 Q1826.86 320.529 1823.99 320.529 Q1819.29 320.529 1816.33 316.779 Q1813.39 313.029 1813.39 306.918 Q1813.39 300.807 1816.33 297.057 Q1819.29 293.307 1823.99 293.307 Q1826.86 293.307 1828.9 294.441 Q1830.96 295.552 1832.3 297.867 M1817.78 306.918 Q1817.78 311.617 1819.71 314.302 Q1821.65 316.964 1825.03 316.964 Q1828.41 316.964 1830.35 314.302 Q1832.3 311.617 1832.3 306.918 Q1832.3 302.219 1830.35 299.557 Q1828.41 296.872 1825.03 296.872 Q1821.65 296.872 1819.71 299.557 Q1817.78 302.219 1817.78 306.918 Z\" fill=\"#000000\" fill-rule=\"evenodd\" fill-opacity=\"1\" /><path clip-path=\"url(#clip670)\" d=\"M1867.51 305.83 L1867.51 307.913 L1847.92 307.913 Q1848.2 312.311 1850.56 314.626 Q1852.95 316.918 1857.18 316.918 Q1859.64 316.918 1861.93 316.316 Q1864.24 315.714 1866.51 314.51 L1866.51 318.538 Q1864.22 319.51 1861.81 320.02 Q1859.41 320.529 1856.93 320.529 Q1850.72 320.529 1847.09 316.918 Q1843.48 313.307 1843.48 307.149 Q1843.48 300.784 1846.91 297.057 Q1850.35 293.307 1856.19 293.307 Q1861.42 293.307 1864.45 296.686 Q1867.51 300.043 1867.51 305.83 M1863.25 304.58 Q1863.2 301.085 1861.28 299.001 Q1859.38 296.918 1856.23 296.918 Q1852.67 296.918 1850.52 298.932 Q1848.39 300.946 1848.06 304.603 L1863.25 304.58 Z\" fill=\"#000000\" fill-rule=\"evenodd\" fill-opacity=\"1\" /><path clip-path=\"url(#clip670)\" d=\"M1889.57 293.932 L1893.83 293.932 L1893.83 319.858 L1889.57 319.858 L1889.57 293.932 M1889.57 283.839 L1893.83 283.839 L1893.83 289.233 L1889.57 289.233 L1889.57 283.839 Z\" fill=\"#000000\" fill-rule=\"evenodd\" fill-opacity=\"1\" /><path clip-path=\"url(#clip670)\" d=\"M1924.29 304.209 L1924.29 319.858 L1920.03 319.858 L1920.03 304.348 Q1920.03 300.668 1918.59 298.839 Q1917.16 297.01 1914.29 297.01 Q1910.84 297.01 1908.85 299.21 Q1906.86 301.409 1906.86 305.205 L1906.86 319.858 L1902.58 319.858 L1902.58 293.932 L1906.86 293.932 L1906.86 297.96 Q1908.39 295.622 1910.45 294.464 Q1912.53 293.307 1915.24 293.307 Q1919.71 293.307 1922 296.085 Q1924.29 298.839 1924.29 304.209 Z\" fill=\"#000000\" fill-rule=\"evenodd\" fill-opacity=\"1\" /><path clip-path=\"url(#clip670)\" d=\"M1937 286.571 L1937 293.932 L1945.77 293.932 L1945.77 297.242 L1937 297.242 L1937 311.316 Q1937 314.487 1937.85 315.39 Q1938.73 316.293 1941.4 316.293 L1945.77 316.293 L1945.77 319.858 L1941.4 319.858 Q1936.46 319.858 1934.59 318.029 Q1932.71 316.177 1932.71 311.316 L1932.71 297.242 L1929.59 297.242 L1929.59 293.932 L1932.71 293.932 L1932.71 286.571 L1937 286.571 Z\" fill=\"#000000\" fill-rule=\"evenodd\" fill-opacity=\"1\" /><path clip-path=\"url(#clip670)\" d=\"M1973.55 305.83 L1973.55 307.913 L1953.96 307.913 Q1954.24 312.311 1956.6 314.626 Q1958.99 316.918 1963.22 316.918 Q1965.68 316.918 1967.97 316.316 Q1970.28 315.714 1972.55 314.51 L1972.55 318.538 Q1970.26 319.51 1967.85 320.02 Q1965.45 320.529 1962.97 320.529 Q1956.77 320.529 1953.13 316.918 Q1949.52 313.307 1949.52 307.149 Q1949.52 300.784 1952.95 297.057 Q1956.4 293.307 1962.23 293.307 Q1967.46 293.307 1970.49 296.686 Q1973.55 300.043 1973.55 305.83 M1969.29 304.58 Q1969.24 301.085 1967.32 299.001 Q1965.42 296.918 1962.27 296.918 Q1958.71 296.918 1956.56 298.932 Q1954.43 300.946 1954.1 304.603 L1969.29 304.58 Z\" fill=\"#000000\" fill-rule=\"evenodd\" fill-opacity=\"1\" /><path clip-path=\"url(#clip670)\" d=\"M1995.56 297.913 Q1994.84 297.497 1993.99 297.311 Q1993.15 297.103 1992.14 297.103 Q1988.52 297.103 1986.58 299.464 Q1984.66 301.802 1984.66 306.2 L1984.66 319.858 L1980.38 319.858 L1980.38 293.932 L1984.66 293.932 L1984.66 297.96 Q1986 295.598 1988.15 294.464 Q1990.31 293.307 1993.39 293.307 Q1993.83 293.307 1994.36 293.376 Q1994.89 293.423 1995.54 293.538 L1995.56 297.913 Z\" fill=\"#000000\" fill-rule=\"evenodd\" fill-opacity=\"1\" /><path clip-path=\"url(#clip670)\" d=\"M2013.15 283.839 L2013.15 287.381 L2009.08 287.381 Q2006.79 287.381 2005.89 288.307 Q2005.01 289.233 2005.01 291.64 L2005.01 293.932 L2012.02 293.932 L2012.02 297.242 L2005.01 297.242 L2005.01 319.858 L2000.72 319.858 L2000.72 297.242 L1996.65 297.242 L1996.65 293.932 L2000.72 293.932 L2000.72 292.126 Q2000.72 287.798 2002.74 285.83 Q2004.75 283.839 2009.13 283.839 L2013.15 283.839 Z\" fill=\"#000000\" fill-rule=\"evenodd\" fill-opacity=\"1\" /><path clip-path=\"url(#clip670)\" d=\"M2038.89 305.83 L2038.89 307.913 L2019.31 307.913 Q2019.59 312.311 2021.95 314.626 Q2024.33 316.918 2028.57 316.918 Q2031.02 316.918 2033.32 316.316 Q2035.63 315.714 2037.9 314.51 L2037.9 318.538 Q2035.61 319.51 2033.2 320.02 Q2030.79 320.529 2028.32 320.529 Q2022.11 320.529 2018.48 316.918 Q2014.87 313.307 2014.87 307.149 Q2014.87 300.784 2018.29 297.057 Q2021.74 293.307 2027.58 293.307 Q2032.81 293.307 2035.84 296.686 Q2038.89 300.043 2038.89 305.83 M2034.64 304.58 Q2034.59 301.085 2032.67 299.001 Q2030.77 296.918 2027.62 296.918 Q2024.06 296.918 2021.9 298.932 Q2019.77 300.946 2019.45 304.603 L2034.64 304.58 Z\" fill=\"#000000\" fill-rule=\"evenodd\" fill-opacity=\"1\" /><path clip-path=\"url(#clip670)\" d=\"M2060.91 297.913 Q2060.19 297.497 2059.33 297.311 Q2058.5 297.103 2057.48 297.103 Q2053.87 297.103 2051.93 299.464 Q2050.01 301.802 2050.01 306.2 L2050.01 319.858 L2045.72 319.858 L2045.72 293.932 L2050.01 293.932 L2050.01 297.96 Q2051.35 295.598 2053.5 294.464 Q2055.65 293.307 2058.73 293.307 Q2059.17 293.307 2059.7 293.376 Q2060.24 293.423 2060.89 293.538 L2060.91 297.913 Z\" fill=\"#000000\" fill-rule=\"evenodd\" fill-opacity=\"1\" /><path clip-path=\"url(#clip670)\" d=\"M2086.51 305.83 L2086.51 307.913 L2066.93 307.913 Q2067.2 312.311 2069.57 314.626 Q2071.95 316.918 2076.19 316.918 Q2078.64 316.918 2080.93 316.316 Q2083.25 315.714 2085.52 314.51 L2085.52 318.538 Q2083.22 319.51 2080.82 320.02 Q2078.41 320.529 2075.93 320.529 Q2069.73 320.529 2066.09 316.918 Q2062.48 313.307 2062.48 307.149 Q2062.48 300.784 2065.91 297.057 Q2069.36 293.307 2075.19 293.307 Q2080.42 293.307 2083.45 296.686 Q2086.51 300.043 2086.51 305.83 M2082.25 304.58 Q2082.2 301.085 2080.28 299.001 Q2078.39 296.918 2075.24 296.918 Q2071.67 296.918 2069.52 298.932 Q2067.39 300.946 2067.07 304.603 L2082.25 304.58 Z\" fill=\"#000000\" fill-rule=\"evenodd\" fill-opacity=\"1\" /><path clip-path=\"url(#clip670)\" d=\"M2115.05 304.209 L2115.05 319.858 L2110.79 319.858 L2110.79 304.348 Q2110.79 300.668 2109.36 298.839 Q2107.92 297.01 2105.05 297.01 Q2101.6 297.01 2099.61 299.21 Q2097.62 301.409 2097.62 305.205 L2097.62 319.858 L2093.34 319.858 L2093.34 293.932 L2097.62 293.932 L2097.62 297.96 Q2099.15 295.622 2101.21 294.464 Q2103.29 293.307 2106 293.307 Q2110.47 293.307 2112.76 296.085 Q2115.05 298.839 2115.05 304.209 Z\" fill=\"#000000\" fill-rule=\"evenodd\" fill-opacity=\"1\" /><path clip-path=\"url(#clip670)\" d=\"M2142.2 294.927 L2142.2 298.909 Q2140.4 297.913 2138.57 297.427 Q2136.76 296.918 2134.91 296.918 Q2130.77 296.918 2128.48 299.557 Q2126.19 302.172 2126.19 306.918 Q2126.19 311.663 2128.48 314.302 Q2130.77 316.918 2134.91 316.918 Q2136.76 316.918 2138.57 316.432 Q2140.4 315.922 2142.2 314.927 L2142.2 318.862 Q2140.42 319.696 2138.5 320.112 Q2136.6 320.529 2134.45 320.529 Q2128.59 320.529 2125.14 316.848 Q2121.7 313.168 2121.7 306.918 Q2121.7 300.575 2125.17 296.941 Q2128.66 293.307 2134.73 293.307 Q2136.7 293.307 2138.57 293.723 Q2140.45 294.117 2142.2 294.927 Z\" fill=\"#000000\" fill-rule=\"evenodd\" fill-opacity=\"1\" /><path clip-path=\"url(#clip670)\" d=\"M2149.61 293.932 L2153.87 293.932 L2153.87 319.858 L2149.61 319.858 L2149.61 293.932 M2149.61 283.839 L2153.87 283.839 L2153.87 289.233 L2149.61 289.233 L2149.61 283.839 Z\" fill=\"#000000\" fill-rule=\"evenodd\" fill-opacity=\"1\" /><path clip-path=\"url(#clip670)\" d=\"M2174.57 306.825 Q2169.4 306.825 2167.41 308.006 Q2165.42 309.186 2165.42 312.034 Q2165.42 314.302 2166.9 315.645 Q2168.41 316.964 2170.98 316.964 Q2174.52 316.964 2176.65 314.464 Q2178.8 311.941 2178.8 307.774 L2178.8 306.825 L2174.57 306.825 M2183.06 305.066 L2183.06 319.858 L2178.8 319.858 L2178.8 315.922 Q2177.34 318.283 2175.17 319.418 Q2172.99 320.529 2169.84 320.529 Q2165.86 320.529 2163.5 318.307 Q2161.16 316.061 2161.16 312.311 Q2161.16 307.936 2164.08 305.714 Q2167.02 303.492 2172.83 303.492 L2178.8 303.492 L2178.8 303.075 Q2178.8 300.135 2176.86 298.538 Q2174.94 296.918 2171.44 296.918 Q2169.22 296.918 2167.11 297.45 Q2165.01 297.983 2163.06 299.047 L2163.06 295.112 Q2165.4 294.21 2167.6 293.77 Q2169.8 293.307 2171.88 293.307 Q2177.51 293.307 2180.28 296.223 Q2183.06 299.14 2183.06 305.066 Z\" fill=\"#000000\" fill-rule=\"evenodd\" fill-opacity=\"1\" /><polyline clip-path=\"url(#clip670)\" style=\"stroke:#ac8d18; stroke-linecap:round; stroke-linejoin:round; stroke-width:4; stroke-opacity:1; fill:none\" points=\"\n  1500.08,354.418 1647.12,354.418 \n  \"/>\n<path clip-path=\"url(#clip670)\" d=\"M1671.63 337.138 L1676.3 337.138 L1676.3 367.762 L1693.13 367.762 L1693.13 371.698 L1671.63 371.698 L1671.63 337.138 Z\" fill=\"#000000\" fill-rule=\"evenodd\" fill-opacity=\"1\" /><path clip-path=\"url(#clip670)\" d=\"M1697.86 345.772 L1702.11 345.772 L1702.11 371.698 L1697.86 371.698 L1697.86 345.772 M1697.86 335.679 L1702.11 335.679 L1702.11 341.073 L1697.86 341.073 L1697.86 335.679 Z\" fill=\"#000000\" fill-rule=\"evenodd\" fill-opacity=\"1\" /><path clip-path=\"url(#clip670)\" d=\"M1732.58 356.049 L1732.58 371.698 L1728.32 371.698 L1728.32 356.188 Q1728.32 352.508 1726.88 350.679 Q1725.45 348.85 1722.58 348.85 Q1719.13 348.85 1717.14 351.05 Q1715.15 353.249 1715.15 357.045 L1715.15 371.698 L1710.86 371.698 L1710.86 345.772 L1715.15 345.772 L1715.15 349.8 Q1716.67 347.462 1718.73 346.304 Q1720.82 345.147 1723.53 345.147 Q1727.99 345.147 1730.29 347.925 Q1732.58 350.679 1732.58 356.049 Z\" fill=\"#000000\" fill-rule=\"evenodd\" fill-opacity=\"1\" /><path clip-path=\"url(#clip670)\" d=\"M1762.62 356.049 L1762.62 371.698 L1758.36 371.698 L1758.36 356.188 Q1758.36 352.508 1756.93 350.679 Q1755.49 348.85 1752.62 348.85 Q1749.17 348.85 1747.18 351.05 Q1745.19 353.249 1745.19 357.045 L1745.19 371.698 L1740.91 371.698 L1740.91 335.679 L1745.19 335.679 L1745.19 349.8 Q1746.72 347.462 1748.78 346.304 Q1750.86 345.147 1753.57 345.147 Q1758.04 345.147 1760.33 347.925 Q1762.62 350.679 1762.62 356.049 Z\" fill=\"#000000\" fill-rule=\"evenodd\" fill-opacity=\"1\" /><path clip-path=\"url(#clip670)\" d=\"M1782.9 358.665 Q1777.74 358.665 1775.75 359.846 Q1773.76 361.026 1773.76 363.874 Q1773.76 366.142 1775.24 367.485 Q1776.74 368.804 1779.31 368.804 Q1782.85 368.804 1784.98 366.304 Q1787.14 363.781 1787.14 359.614 L1787.14 358.665 L1782.9 358.665 M1791.4 356.906 L1791.4 371.698 L1787.14 371.698 L1787.14 367.762 Q1785.68 370.123 1783.5 371.258 Q1781.33 372.369 1778.18 372.369 Q1774.2 372.369 1771.84 370.147 Q1769.5 367.901 1769.5 364.151 Q1769.5 359.776 1772.41 357.554 Q1775.35 355.332 1781.16 355.332 L1787.14 355.332 L1787.14 354.915 Q1787.14 351.975 1785.19 350.378 Q1783.27 348.758 1779.78 348.758 Q1777.55 348.758 1775.45 349.29 Q1773.34 349.823 1771.4 350.887 L1771.4 346.952 Q1773.73 346.05 1775.93 345.61 Q1778.13 345.147 1780.22 345.147 Q1785.84 345.147 1788.62 348.063 Q1791.4 350.98 1791.4 356.906 Z\" fill=\"#000000\" fill-rule=\"evenodd\" fill-opacity=\"1\" /><path clip-path=\"url(#clip670)\" d=\"M1832.3 349.707 L1832.3 335.679 L1836.56 335.679 L1836.56 371.698 L1832.3 371.698 L1832.3 367.809 Q1830.96 370.123 1828.9 371.258 Q1826.86 372.369 1823.99 372.369 Q1819.29 372.369 1816.33 368.619 Q1813.39 364.869 1813.39 358.758 Q1813.39 352.647 1816.33 348.897 Q1819.29 345.147 1823.99 345.147 Q1826.86 345.147 1828.9 346.281 Q1830.96 347.392 1832.3 349.707 M1817.78 358.758 Q1817.78 363.457 1819.71 366.142 Q1821.65 368.804 1825.03 368.804 Q1828.41 368.804 1830.35 366.142 Q1832.3 363.457 1832.3 358.758 Q1832.3 354.059 1830.35 351.397 Q1828.41 348.712 1825.03 348.712 Q1821.65 348.712 1819.71 351.397 Q1817.78 354.059 1817.78 358.758 Z\" fill=\"#000000\" fill-rule=\"evenodd\" fill-opacity=\"1\" /><path clip-path=\"url(#clip670)\" d=\"M1867.51 357.67 L1867.51 359.753 L1847.92 359.753 Q1848.2 364.151 1850.56 366.466 Q1852.95 368.758 1857.18 368.758 Q1859.64 368.758 1861.93 368.156 Q1864.24 367.554 1866.51 366.35 L1866.51 370.378 Q1864.22 371.35 1861.81 371.86 Q1859.41 372.369 1856.93 372.369 Q1850.72 372.369 1847.09 368.758 Q1843.48 365.147 1843.48 358.989 Q1843.48 352.624 1846.91 348.897 Q1850.35 345.147 1856.19 345.147 Q1861.42 345.147 1864.45 348.526 Q1867.51 351.883 1867.51 357.67 M1863.25 356.42 Q1863.2 352.925 1861.28 350.841 Q1859.38 348.758 1856.23 348.758 Q1852.67 348.758 1850.52 350.772 Q1848.39 352.786 1848.06 356.443 L1863.25 356.42 Z\" fill=\"#000000\" fill-rule=\"evenodd\" fill-opacity=\"1\" /><path clip-path=\"url(#clip670)\" d=\"M1889.57 345.772 L1893.83 345.772 L1893.83 371.698 L1889.57 371.698 L1889.57 345.772 M1889.57 335.679 L1893.83 335.679 L1893.83 341.073 L1889.57 341.073 L1889.57 335.679 Z\" fill=\"#000000\" fill-rule=\"evenodd\" fill-opacity=\"1\" /><path clip-path=\"url(#clip670)\" d=\"M1924.29 356.049 L1924.29 371.698 L1920.03 371.698 L1920.03 356.188 Q1920.03 352.508 1918.59 350.679 Q1917.16 348.85 1914.29 348.85 Q1910.84 348.85 1908.85 351.05 Q1906.86 353.249 1906.86 357.045 L1906.86 371.698 L1902.58 371.698 L1902.58 345.772 L1906.86 345.772 L1906.86 349.8 Q1908.39 347.462 1910.45 346.304 Q1912.53 345.147 1915.24 345.147 Q1919.71 345.147 1922 347.925 Q1924.29 350.679 1924.29 356.049 Z\" fill=\"#000000\" fill-rule=\"evenodd\" fill-opacity=\"1\" /><path clip-path=\"url(#clip670)\" d=\"M1937 338.411 L1937 345.772 L1945.77 345.772 L1945.77 349.082 L1937 349.082 L1937 363.156 Q1937 366.327 1937.85 367.23 Q1938.73 368.133 1941.4 368.133 L1945.77 368.133 L1945.77 371.698 L1941.4 371.698 Q1936.46 371.698 1934.59 369.869 Q1932.71 368.017 1932.71 363.156 L1932.71 349.082 L1929.59 349.082 L1929.59 345.772 L1932.71 345.772 L1932.71 338.411 L1937 338.411 Z\" fill=\"#000000\" fill-rule=\"evenodd\" fill-opacity=\"1\" /><path clip-path=\"url(#clip670)\" d=\"M1973.55 357.67 L1973.55 359.753 L1953.96 359.753 Q1954.24 364.151 1956.6 366.466 Q1958.99 368.758 1963.22 368.758 Q1965.68 368.758 1967.97 368.156 Q1970.28 367.554 1972.55 366.35 L1972.55 370.378 Q1970.26 371.35 1967.85 371.86 Q1965.45 372.369 1962.97 372.369 Q1956.77 372.369 1953.13 368.758 Q1949.52 365.147 1949.52 358.989 Q1949.52 352.624 1952.95 348.897 Q1956.4 345.147 1962.23 345.147 Q1967.46 345.147 1970.49 348.526 Q1973.55 351.883 1973.55 357.67 M1969.29 356.42 Q1969.24 352.925 1967.32 350.841 Q1965.42 348.758 1962.27 348.758 Q1958.71 348.758 1956.56 350.772 Q1954.43 352.786 1954.1 356.443 L1969.29 356.42 Z\" fill=\"#000000\" fill-rule=\"evenodd\" fill-opacity=\"1\" /><path clip-path=\"url(#clip670)\" d=\"M1995.56 349.753 Q1994.84 349.337 1993.99 349.151 Q1993.15 348.943 1992.14 348.943 Q1988.52 348.943 1986.58 351.304 Q1984.66 353.642 1984.66 358.04 L1984.66 371.698 L1980.38 371.698 L1980.38 345.772 L1984.66 345.772 L1984.66 349.8 Q1986 347.438 1988.15 346.304 Q1990.31 345.147 1993.39 345.147 Q1993.83 345.147 1994.36 345.216 Q1994.89 345.263 1995.54 345.378 L1995.56 349.753 Z\" fill=\"#000000\" fill-rule=\"evenodd\" fill-opacity=\"1\" /><path clip-path=\"url(#clip670)\" d=\"M2013.15 335.679 L2013.15 339.221 L2009.08 339.221 Q2006.79 339.221 2005.89 340.147 Q2005.01 341.073 2005.01 343.48 L2005.01 345.772 L2012.02 345.772 L2012.02 349.082 L2005.01 349.082 L2005.01 371.698 L2000.72 371.698 L2000.72 349.082 L1996.65 349.082 L1996.65 345.772 L2000.72 345.772 L2000.72 343.966 Q2000.72 339.638 2002.74 337.67 Q2004.75 335.679 2009.13 335.679 L2013.15 335.679 Z\" fill=\"#000000\" fill-rule=\"evenodd\" fill-opacity=\"1\" /><path clip-path=\"url(#clip670)\" d=\"M2038.89 357.67 L2038.89 359.753 L2019.31 359.753 Q2019.59 364.151 2021.95 366.466 Q2024.33 368.758 2028.57 368.758 Q2031.02 368.758 2033.32 368.156 Q2035.63 367.554 2037.9 366.35 L2037.9 370.378 Q2035.61 371.35 2033.2 371.86 Q2030.79 372.369 2028.32 372.369 Q2022.11 372.369 2018.48 368.758 Q2014.87 365.147 2014.87 358.989 Q2014.87 352.624 2018.29 348.897 Q2021.74 345.147 2027.58 345.147 Q2032.81 345.147 2035.84 348.526 Q2038.89 351.883 2038.89 357.67 M2034.64 356.42 Q2034.59 352.925 2032.67 350.841 Q2030.77 348.758 2027.62 348.758 Q2024.06 348.758 2021.9 350.772 Q2019.77 352.786 2019.45 356.443 L2034.64 356.42 Z\" fill=\"#000000\" fill-rule=\"evenodd\" fill-opacity=\"1\" /><path clip-path=\"url(#clip670)\" d=\"M2060.91 349.753 Q2060.19 349.337 2059.33 349.151 Q2058.5 348.943 2057.48 348.943 Q2053.87 348.943 2051.93 351.304 Q2050.01 353.642 2050.01 358.04 L2050.01 371.698 L2045.72 371.698 L2045.72 345.772 L2050.01 345.772 L2050.01 349.8 Q2051.35 347.438 2053.5 346.304 Q2055.65 345.147 2058.73 345.147 Q2059.17 345.147 2059.7 345.216 Q2060.24 345.263 2060.89 345.378 L2060.91 349.753 Z\" fill=\"#000000\" fill-rule=\"evenodd\" fill-opacity=\"1\" /><path clip-path=\"url(#clip670)\" d=\"M2086.51 357.67 L2086.51 359.753 L2066.93 359.753 Q2067.2 364.151 2069.57 366.466 Q2071.95 368.758 2076.19 368.758 Q2078.64 368.758 2080.93 368.156 Q2083.25 367.554 2085.52 366.35 L2085.52 370.378 Q2083.22 371.35 2080.82 371.86 Q2078.41 372.369 2075.93 372.369 Q2069.73 372.369 2066.09 368.758 Q2062.48 365.147 2062.48 358.989 Q2062.48 352.624 2065.91 348.897 Q2069.36 345.147 2075.19 345.147 Q2080.42 345.147 2083.45 348.526 Q2086.51 351.883 2086.51 357.67 M2082.25 356.42 Q2082.2 352.925 2080.28 350.841 Q2078.39 348.758 2075.24 348.758 Q2071.67 348.758 2069.52 350.772 Q2067.39 352.786 2067.07 356.443 L2082.25 356.42 Z\" fill=\"#000000\" fill-rule=\"evenodd\" fill-opacity=\"1\" /><path clip-path=\"url(#clip670)\" d=\"M2115.05 356.049 L2115.05 371.698 L2110.79 371.698 L2110.79 356.188 Q2110.79 352.508 2109.36 350.679 Q2107.92 348.85 2105.05 348.85 Q2101.6 348.85 2099.61 351.05 Q2097.62 353.249 2097.62 357.045 L2097.62 371.698 L2093.34 371.698 L2093.34 345.772 L2097.62 345.772 L2097.62 349.8 Q2099.15 347.462 2101.21 346.304 Q2103.29 345.147 2106 345.147 Q2110.47 345.147 2112.76 347.925 Q2115.05 350.679 2115.05 356.049 Z\" fill=\"#000000\" fill-rule=\"evenodd\" fill-opacity=\"1\" /><path clip-path=\"url(#clip670)\" d=\"M2142.2 346.767 L2142.2 350.749 Q2140.4 349.753 2138.57 349.267 Q2136.76 348.758 2134.91 348.758 Q2130.77 348.758 2128.48 351.397 Q2126.19 354.012 2126.19 358.758 Q2126.19 363.503 2128.48 366.142 Q2130.77 368.758 2134.91 368.758 Q2136.76 368.758 2138.57 368.272 Q2140.4 367.762 2142.2 366.767 L2142.2 370.702 Q2140.42 371.536 2138.5 371.952 Q2136.6 372.369 2134.45 372.369 Q2128.59 372.369 2125.14 368.688 Q2121.7 365.008 2121.7 358.758 Q2121.7 352.415 2125.17 348.781 Q2128.66 345.147 2134.73 345.147 Q2136.7 345.147 2138.57 345.563 Q2140.45 345.957 2142.2 346.767 Z\" fill=\"#000000\" fill-rule=\"evenodd\" fill-opacity=\"1\" /><path clip-path=\"url(#clip670)\" d=\"M2149.61 345.772 L2153.87 345.772 L2153.87 371.698 L2149.61 371.698 L2149.61 345.772 M2149.61 335.679 L2153.87 335.679 L2153.87 341.073 L2149.61 341.073 L2149.61 335.679 Z\" fill=\"#000000\" fill-rule=\"evenodd\" fill-opacity=\"1\" /><path clip-path=\"url(#clip670)\" d=\"M2174.57 358.665 Q2169.4 358.665 2167.41 359.846 Q2165.42 361.026 2165.42 363.874 Q2165.42 366.142 2166.9 367.485 Q2168.41 368.804 2170.98 368.804 Q2174.52 368.804 2176.65 366.304 Q2178.8 363.781 2178.8 359.614 L2178.8 358.665 L2174.57 358.665 M2183.06 356.906 L2183.06 371.698 L2178.8 371.698 L2178.8 367.762 Q2177.34 370.123 2175.17 371.258 Q2172.99 372.369 2169.84 372.369 Q2165.86 372.369 2163.5 370.147 Q2161.16 367.901 2161.16 364.151 Q2161.16 359.776 2164.08 357.554 Q2167.02 355.332 2172.83 355.332 L2178.8 355.332 L2178.8 354.915 Q2178.8 351.975 2176.86 350.378 Q2174.94 348.758 2171.44 348.758 Q2169.22 348.758 2167.11 349.29 Q2165.01 349.823 2163.06 350.887 L2163.06 346.952 Q2165.4 346.05 2167.6 345.61 Q2169.8 345.147 2171.88 345.147 Q2177.51 345.147 2180.28 348.063 Q2183.06 350.98 2183.06 356.906 Z\" fill=\"#000000\" fill-rule=\"evenodd\" fill-opacity=\"1\" /><polyline clip-path=\"url(#clip670)\" style=\"stroke:#00a9ad; stroke-linecap:round; stroke-linejoin:round; stroke-width:4; stroke-opacity:1; fill:none\" points=\"\n  1500.08,406.258 1647.12,406.258 \n  \"/>\n<path clip-path=\"url(#clip670)\" d=\"M1676.3 392.82 L1676.3 405.806 L1682.18 405.806 Q1685.45 405.806 1687.23 404.116 Q1689.01 402.427 1689.01 399.302 Q1689.01 396.2 1687.23 394.51 Q1685.45 392.82 1682.18 392.82 L1676.3 392.82 M1671.63 388.978 L1682.18 388.978 Q1687.99 388.978 1690.96 391.616 Q1693.94 394.232 1693.94 399.302 Q1693.94 404.417 1690.96 407.033 Q1687.99 409.649 1682.18 409.649 L1676.3 409.649 L1676.3 423.538 L1671.63 423.538 L1671.63 388.978 Z\" fill=\"#000000\" fill-rule=\"evenodd\" fill-opacity=\"1\" /><path clip-path=\"url(#clip670)\" d=\"M1708.39 400.598 Q1704.96 400.598 1702.97 403.283 Q1700.98 405.945 1700.98 410.598 Q1700.98 415.251 1702.95 417.936 Q1704.94 420.598 1708.39 420.598 Q1711.79 420.598 1713.78 417.913 Q1715.77 415.227 1715.77 410.598 Q1715.77 405.991 1713.78 403.306 Q1711.79 400.598 1708.39 400.598 M1708.39 396.987 Q1713.94 396.987 1717.11 400.598 Q1720.29 404.209 1720.29 410.598 Q1720.29 416.964 1717.11 420.598 Q1713.94 424.209 1708.39 424.209 Q1702.81 424.209 1699.64 420.598 Q1696.49 416.964 1696.49 410.598 Q1696.49 404.209 1699.64 400.598 Q1702.81 396.987 1708.39 396.987 Z\" fill=\"#000000\" fill-rule=\"evenodd\" fill-opacity=\"1\" /><path clip-path=\"url(#clip670)\" d=\"M1727.35 387.519 L1731.6 387.519 L1731.6 423.538 L1727.35 423.538 L1727.35 387.519 Z\" fill=\"#000000\" fill-rule=\"evenodd\" fill-opacity=\"1\" /><path clip-path=\"url(#clip670)\" d=\"M1740.52 397.612 L1744.78 397.612 L1744.78 423.538 L1740.52 423.538 L1740.52 397.612 M1740.52 387.519 L1744.78 387.519 L1744.78 392.913 L1740.52 392.913 L1740.52 387.519 Z\" fill=\"#000000\" fill-rule=\"evenodd\" fill-opacity=\"1\" /><path clip-path=\"url(#clip670)\" d=\"M1770.75 410.274 Q1770.75 405.644 1768.83 403.098 Q1766.93 400.552 1763.48 400.552 Q1760.05 400.552 1758.13 403.098 Q1756.23 405.644 1756.23 410.274 Q1756.23 414.88 1758.13 417.426 Q1760.05 419.973 1763.48 419.973 Q1766.93 419.973 1768.83 417.426 Q1770.75 414.88 1770.75 410.274 M1775.01 420.32 Q1775.01 426.94 1772.07 430.158 Q1769.13 433.399 1763.06 433.399 Q1760.82 433.399 1758.83 433.051 Q1756.84 432.727 1754.96 432.033 L1754.96 427.889 Q1756.84 428.908 1758.66 429.394 Q1760.49 429.88 1762.39 429.88 Q1766.58 429.88 1768.66 427.681 Q1770.75 425.505 1770.75 421.084 L1770.75 418.977 Q1769.43 421.269 1767.37 422.403 Q1765.31 423.538 1762.44 423.538 Q1757.67 423.538 1754.75 419.903 Q1751.84 416.269 1751.84 410.274 Q1751.84 404.255 1754.75 400.621 Q1757.67 396.987 1762.44 396.987 Q1765.31 396.987 1767.37 398.121 Q1769.43 399.255 1770.75 401.547 L1770.75 397.612 L1775.01 397.612 L1775.01 420.32 Z\" fill=\"#000000\" fill-rule=\"evenodd\" fill-opacity=\"1\" /><path clip-path=\"url(#clip670)\" d=\"M1793.83 400.598 Q1790.4 400.598 1788.41 403.283 Q1786.42 405.945 1786.42 410.598 Q1786.42 415.251 1788.39 417.936 Q1790.38 420.598 1793.83 420.598 Q1797.23 420.598 1799.22 417.913 Q1801.21 415.227 1801.21 410.598 Q1801.21 405.991 1799.22 403.306 Q1797.23 400.598 1793.83 400.598 M1793.83 396.987 Q1799.38 396.987 1802.55 400.598 Q1805.72 404.209 1805.72 410.598 Q1805.72 416.964 1802.55 420.598 Q1799.38 424.209 1793.83 424.209 Q1788.25 424.209 1785.08 420.598 Q1781.93 416.964 1781.93 410.598 Q1781.93 404.209 1785.08 400.598 Q1788.25 396.987 1793.83 396.987 Z\" fill=\"#000000\" fill-rule=\"evenodd\" fill-opacity=\"1\" /><path clip-path=\"url(#clip670)\" d=\"M1834.34 407.889 L1834.34 423.538 L1830.08 423.538 L1830.08 408.028 Q1830.08 404.348 1828.64 402.519 Q1827.21 400.69 1824.34 400.69 Q1820.89 400.69 1818.9 402.89 Q1816.91 405.089 1816.91 408.885 L1816.91 423.538 L1812.62 423.538 L1812.62 397.612 L1816.91 397.612 L1816.91 401.64 Q1818.43 399.302 1820.49 398.144 Q1822.58 396.987 1825.28 396.987 Q1829.75 396.987 1832.04 399.765 Q1834.34 402.519 1834.34 407.889 Z\" fill=\"#000000\" fill-rule=\"evenodd\" fill-opacity=\"1\" /><path clip-path=\"url(#clip670)\" d=\"M1852.88 400.598 Q1849.45 400.598 1847.46 403.283 Q1845.47 405.945 1845.47 410.598 Q1845.47 415.251 1847.44 417.936 Q1849.43 420.598 1852.88 420.598 Q1856.28 420.598 1858.27 417.913 Q1860.26 415.227 1860.26 410.598 Q1860.26 405.991 1858.27 403.306 Q1856.28 400.598 1852.88 400.598 M1852.88 396.987 Q1858.43 396.987 1861.6 400.598 Q1864.78 404.209 1864.78 410.598 Q1864.78 416.964 1861.6 420.598 Q1858.43 424.209 1852.88 424.209 Q1847.3 424.209 1844.13 420.598 Q1840.98 416.964 1840.98 410.598 Q1840.98 404.209 1844.13 400.598 Q1847.3 396.987 1852.88 396.987 Z\" fill=\"#000000\" fill-rule=\"evenodd\" fill-opacity=\"1\" /><path clip-path=\"url(#clip670)\" d=\"M1903.97 401.547 L1903.97 387.519 L1908.22 387.519 L1908.22 423.538 L1903.97 423.538 L1903.97 419.649 Q1902.62 421.963 1900.56 423.098 Q1898.53 424.209 1895.65 424.209 Q1890.96 424.209 1887.99 420.459 Q1885.05 416.709 1885.05 410.598 Q1885.05 404.487 1887.99 400.737 Q1890.96 396.987 1895.65 396.987 Q1898.53 396.987 1900.56 398.121 Q1902.62 399.232 1903.97 401.547 M1889.45 410.598 Q1889.45 415.297 1891.37 417.982 Q1893.32 420.644 1896.7 420.644 Q1900.08 420.644 1902.02 417.982 Q1903.97 415.297 1903.97 410.598 Q1903.97 405.899 1902.02 403.237 Q1900.08 400.552 1896.7 400.552 Q1893.32 400.552 1891.37 403.237 Q1889.45 405.899 1889.45 410.598 Z\" fill=\"#000000\" fill-rule=\"evenodd\" fill-opacity=\"1\" /><path clip-path=\"url(#clip670)\" d=\"M1939.17 409.51 L1939.17 411.593 L1919.59 411.593 Q1919.87 415.991 1922.23 418.306 Q1924.61 420.598 1928.85 420.598 Q1931.3 420.598 1933.59 419.996 Q1935.91 419.394 1938.18 418.19 L1938.18 422.218 Q1935.89 423.19 1933.48 423.7 Q1931.07 424.209 1928.59 424.209 Q1922.39 424.209 1918.76 420.598 Q1915.15 416.987 1915.15 410.829 Q1915.15 404.464 1918.57 400.737 Q1922.02 396.987 1927.85 396.987 Q1933.09 396.987 1936.12 400.366 Q1939.17 403.723 1939.17 409.51 M1934.91 408.26 Q1934.87 404.765 1932.95 402.681 Q1931.05 400.598 1927.9 400.598 Q1924.34 400.598 1922.18 402.612 Q1920.05 404.626 1919.73 408.283 L1934.91 408.26 Z\" fill=\"#000000\" fill-rule=\"evenodd\" fill-opacity=\"1\" /><path clip-path=\"url(#clip670)\" d=\"M1961.23 397.612 L1965.49 397.612 L1965.49 423.538 L1961.23 423.538 L1961.23 397.612 M1961.23 387.519 L1965.49 387.519 L1965.49 392.913 L1961.23 392.913 L1961.23 387.519 Z\" fill=\"#000000\" fill-rule=\"evenodd\" fill-opacity=\"1\" /><path clip-path=\"url(#clip670)\" d=\"M1995.96 407.889 L1995.96 423.538 L1991.7 423.538 L1991.7 408.028 Q1991.7 404.348 1990.26 402.519 Q1988.83 400.69 1985.96 400.69 Q1982.51 400.69 1980.52 402.89 Q1978.52 405.089 1978.52 408.885 L1978.52 423.538 L1974.24 423.538 L1974.24 397.612 L1978.52 397.612 L1978.52 401.64 Q1980.05 399.302 1982.11 398.144 Q1984.2 396.987 1986.9 396.987 Q1991.37 396.987 1993.66 399.765 Q1995.96 402.519 1995.96 407.889 Z\" fill=\"#000000\" fill-rule=\"evenodd\" fill-opacity=\"1\" /><path clip-path=\"url(#clip670)\" d=\"M2008.66 390.251 L2008.66 397.612 L2017.44 397.612 L2017.44 400.922 L2008.66 400.922 L2008.66 414.996 Q2008.66 418.167 2009.52 419.07 Q2010.4 419.973 2013.06 419.973 L2017.44 419.973 L2017.44 423.538 L2013.06 423.538 Q2008.13 423.538 2006.26 421.709 Q2004.38 419.857 2004.38 414.996 L2004.38 400.922 L2001.26 400.922 L2001.26 397.612 L2004.38 397.612 L2004.38 390.251 L2008.66 390.251 Z\" fill=\"#000000\" fill-rule=\"evenodd\" fill-opacity=\"1\" /><path clip-path=\"url(#clip670)\" d=\"M2045.21 409.51 L2045.21 411.593 L2025.63 411.593 Q2025.91 415.991 2028.27 418.306 Q2030.65 420.598 2034.89 420.598 Q2037.34 420.598 2039.64 419.996 Q2041.95 419.394 2044.22 418.19 L2044.22 422.218 Q2041.93 423.19 2039.52 423.7 Q2037.11 424.209 2034.64 424.209 Q2028.43 424.209 2024.8 420.598 Q2021.19 416.987 2021.19 410.829 Q2021.19 404.464 2024.61 400.737 Q2028.06 396.987 2033.89 396.987 Q2039.13 396.987 2042.16 400.366 Q2045.21 403.723 2045.21 409.51 M2040.96 408.26 Q2040.91 404.765 2038.99 402.681 Q2037.09 400.598 2033.94 400.598 Q2030.38 400.598 2028.22 402.612 Q2026.09 404.626 2025.77 408.283 L2040.96 408.26 Z\" fill=\"#000000\" fill-rule=\"evenodd\" fill-opacity=\"1\" /><path clip-path=\"url(#clip670)\" d=\"M2067.23 401.593 Q2066.51 401.177 2065.65 400.991 Q2064.82 400.783 2063.8 400.783 Q2060.19 400.783 2058.25 403.144 Q2056.33 405.482 2056.33 409.88 L2056.33 423.538 L2052.04 423.538 L2052.04 397.612 L2056.33 397.612 L2056.33 401.64 Q2057.67 399.278 2059.82 398.144 Q2061.97 396.987 2065.05 396.987 Q2065.49 396.987 2066.02 397.056 Q2066.56 397.103 2067.2 397.218 L2067.23 401.593 Z\" fill=\"#000000\" fill-rule=\"evenodd\" fill-opacity=\"1\" /><path clip-path=\"url(#clip670)\" d=\"M2084.82 387.519 L2084.82 391.061 L2080.75 391.061 Q2078.45 391.061 2077.55 391.987 Q2076.67 392.913 2076.67 395.32 L2076.67 397.612 L2083.69 397.612 L2083.69 400.922 L2076.67 400.922 L2076.67 423.538 L2072.39 423.538 L2072.39 400.922 L2068.32 400.922 L2068.32 397.612 L2072.39 397.612 L2072.39 395.806 Q2072.39 391.478 2074.4 389.51 Q2076.42 387.519 2080.79 387.519 L2084.82 387.519 Z\" fill=\"#000000\" fill-rule=\"evenodd\" fill-opacity=\"1\" /><path clip-path=\"url(#clip670)\" d=\"M2110.56 409.51 L2110.56 411.593 L2090.98 411.593 Q2091.26 415.991 2093.62 418.306 Q2096 420.598 2100.24 420.598 Q2102.69 420.598 2104.98 419.996 Q2107.3 419.394 2109.57 418.19 L2109.57 422.218 Q2107.27 423.19 2104.87 423.7 Q2102.46 424.209 2099.98 424.209 Q2093.78 424.209 2090.14 420.598 Q2086.53 416.987 2086.53 410.829 Q2086.53 404.464 2089.96 400.737 Q2093.41 396.987 2099.24 396.987 Q2104.47 396.987 2107.51 400.366 Q2110.56 403.723 2110.56 409.51 M2106.3 408.26 Q2106.26 404.765 2104.33 402.681 Q2102.44 400.598 2099.29 400.598 Q2095.72 400.598 2093.57 402.612 Q2091.44 404.626 2091.12 408.283 L2106.3 408.26 Z\" fill=\"#000000\" fill-rule=\"evenodd\" fill-opacity=\"1\" /><path clip-path=\"url(#clip670)\" d=\"M2132.57 401.593 Q2131.86 401.177 2131 400.991 Q2130.17 400.783 2129.15 400.783 Q2125.54 400.783 2123.59 403.144 Q2121.67 405.482 2121.67 409.88 L2121.67 423.538 L2117.39 423.538 L2117.39 397.612 L2121.67 397.612 L2121.67 401.64 Q2123.01 399.278 2125.17 398.144 Q2127.32 396.987 2130.4 396.987 Q2130.84 396.987 2131.37 397.056 Q2131.9 397.103 2132.55 397.218 L2132.57 401.593 Z\" fill=\"#000000\" fill-rule=\"evenodd\" fill-opacity=\"1\" /><path clip-path=\"url(#clip670)\" d=\"M2158.18 409.51 L2158.18 411.593 L2138.59 411.593 Q2138.87 415.991 2141.23 418.306 Q2143.62 420.598 2147.85 420.598 Q2150.31 420.598 2152.6 419.996 Q2154.91 419.394 2157.18 418.19 L2157.18 422.218 Q2154.89 423.19 2152.48 423.7 Q2150.07 424.209 2147.6 424.209 Q2141.39 424.209 2137.76 420.598 Q2134.15 416.987 2134.15 410.829 Q2134.15 404.464 2137.57 400.737 Q2141.02 396.987 2146.86 396.987 Q2152.09 396.987 2155.12 400.366 Q2158.18 403.723 2158.18 409.51 M2153.92 408.26 Q2153.87 404.765 2151.95 402.681 Q2150.05 400.598 2146.9 400.598 Q2143.34 400.598 2141.19 402.612 Q2139.06 404.626 2138.73 408.283 L2153.92 408.26 Z\" fill=\"#000000\" fill-rule=\"evenodd\" fill-opacity=\"1\" /><path clip-path=\"url(#clip670)\" d=\"M2186.72 407.889 L2186.72 423.538 L2182.46 423.538 L2182.46 408.028 Q2182.46 404.348 2181.02 402.519 Q2179.59 400.69 2176.72 400.69 Q2173.27 400.69 2171.28 402.89 Q2169.29 405.089 2169.29 408.885 L2169.29 423.538 L2165.01 423.538 L2165.01 397.612 L2169.29 397.612 L2169.29 401.64 Q2170.82 399.302 2172.88 398.144 Q2174.96 396.987 2177.67 396.987 Q2182.13 396.987 2184.43 399.765 Q2186.72 402.519 2186.72 407.889 Z\" fill=\"#000000\" fill-rule=\"evenodd\" fill-opacity=\"1\" /><path clip-path=\"url(#clip670)\" d=\"M2213.87 398.607 L2213.87 402.589 Q2212.07 401.593 2210.24 401.107 Q2208.43 400.598 2206.58 400.598 Q2202.44 400.598 2200.14 403.237 Q2197.85 405.852 2197.85 410.598 Q2197.85 415.343 2200.14 417.982 Q2202.44 420.598 2206.58 420.598 Q2208.43 420.598 2210.24 420.112 Q2212.07 419.602 2213.87 418.607 L2213.87 422.542 Q2212.09 423.376 2210.17 423.792 Q2208.27 424.209 2206.12 424.209 Q2200.26 424.209 2196.81 420.528 Q2193.36 416.848 2193.36 410.598 Q2193.36 404.255 2196.83 400.621 Q2200.33 396.987 2206.39 396.987 Q2208.36 396.987 2210.24 397.403 Q2212.11 397.797 2213.87 398.607 Z\" fill=\"#000000\" fill-rule=\"evenodd\" fill-opacity=\"1\" /><path clip-path=\"url(#clip670)\" d=\"M2221.28 397.612 L2225.54 397.612 L2225.54 423.538 L2221.28 423.538 L2221.28 397.612 M2221.28 387.519 L2225.54 387.519 L2225.54 392.913 L2221.28 392.913 L2221.28 387.519 Z\" fill=\"#000000\" fill-rule=\"evenodd\" fill-opacity=\"1\" /><path clip-path=\"url(#clip670)\" d=\"M2246.23 410.505 Q2241.07 410.505 2239.08 411.686 Q2237.09 412.866 2237.09 415.714 Q2237.09 417.982 2238.57 419.325 Q2240.07 420.644 2242.64 420.644 Q2246.19 420.644 2248.32 418.144 Q2250.47 415.621 2250.47 411.454 L2250.47 410.505 L2246.23 410.505 M2254.73 408.746 L2254.73 423.538 L2250.47 423.538 L2250.47 419.602 Q2249.01 421.963 2246.83 423.098 Q2244.66 424.209 2241.51 424.209 Q2237.53 424.209 2235.17 421.987 Q2232.83 419.741 2232.83 415.991 Q2232.83 411.616 2235.75 409.394 Q2238.69 407.172 2244.5 407.172 L2250.47 407.172 L2250.47 406.755 Q2250.47 403.815 2248.52 402.218 Q2246.6 400.598 2243.11 400.598 Q2240.88 400.598 2238.78 401.13 Q2236.67 401.663 2234.73 402.727 L2234.73 398.792 Q2237.07 397.89 2239.26 397.45 Q2241.46 396.987 2243.55 396.987 Q2249.17 396.987 2251.95 399.903 Q2254.73 402.82 2254.73 408.746 Z\" fill=\"#000000\" fill-rule=\"evenodd\" fill-opacity=\"1\" /><circle clip-path=\"url(#clip670)\" cx=\"1573.6\" cy=\"458.098\" r=\"23.04\" fill=\"#ed5d92\" fill-rule=\"evenodd\" fill-opacity=\"1\" stroke=\"#000000\" stroke-opacity=\"1\" stroke-width=\"5.12\"/>\n<path clip-path=\"url(#clip670)\" d=\"M1688.02 459.174 Q1689.52 459.683 1690.93 461.35 Q1692.37 463.017 1693.8 465.933 L1698.55 475.378 L1693.53 475.378 L1689.11 466.512 Q1687.39 463.04 1685.77 461.905 Q1684.17 460.771 1681.4 460.771 L1676.3 460.771 L1676.3 475.378 L1671.63 475.378 L1671.63 440.818 L1682.18 440.818 Q1688.11 440.818 1691.03 443.294 Q1693.94 445.771 1693.94 450.771 Q1693.94 454.035 1692.42 456.188 Q1690.91 458.341 1688.02 459.174 M1676.3 444.66 L1676.3 456.929 L1682.18 456.929 Q1685.56 456.929 1687.28 455.378 Q1689.01 453.804 1689.01 450.771 Q1689.01 447.739 1687.28 446.211 Q1685.56 444.66 1682.18 444.66 L1676.3 444.66 Z\" fill=\"#000000\" fill-rule=\"evenodd\" fill-opacity=\"1\" /><path clip-path=\"url(#clip670)\" d=\"M1712.3 452.438 Q1708.87 452.438 1706.88 455.123 Q1704.89 457.785 1704.89 462.438 Q1704.89 467.091 1706.86 469.776 Q1708.85 472.438 1712.3 472.438 Q1715.7 472.438 1717.69 469.753 Q1719.68 467.067 1719.68 462.438 Q1719.68 457.831 1717.69 455.146 Q1715.7 452.438 1712.3 452.438 M1712.3 448.827 Q1717.85 448.827 1721.03 452.438 Q1724.2 456.049 1724.2 462.438 Q1724.2 468.804 1721.03 472.438 Q1717.85 476.049 1712.3 476.049 Q1706.72 476.049 1703.55 472.438 Q1700.4 468.804 1700.4 462.438 Q1700.4 456.049 1703.55 452.438 Q1706.72 448.827 1712.3 448.827 Z\" fill=\"#000000\" fill-rule=\"evenodd\" fill-opacity=\"1\" /><path clip-path=\"url(#clip670)\" d=\"M1735.47 442.091 L1735.47 449.452 L1744.24 449.452 L1744.24 452.762 L1735.47 452.762 L1735.47 466.836 Q1735.47 470.007 1736.33 470.91 Q1737.21 471.813 1739.87 471.813 L1744.24 471.813 L1744.24 475.378 L1739.87 475.378 Q1734.94 475.378 1733.06 473.549 Q1731.19 471.697 1731.19 466.836 L1731.19 452.762 L1728.06 452.762 L1728.06 449.452 L1731.19 449.452 L1731.19 442.091 L1735.47 442.091 Z\" fill=\"#000000\" fill-rule=\"evenodd\" fill-opacity=\"1\" /><path clip-path=\"url(#clip670)\" d=\"M1772.02 461.35 L1772.02 463.433 L1752.44 463.433 Q1752.72 467.831 1755.08 470.146 Q1757.46 472.438 1761.7 472.438 Q1764.15 472.438 1766.44 471.836 Q1768.76 471.234 1771.03 470.03 L1771.03 474.058 Q1768.73 475.03 1766.33 475.54 Q1763.92 476.049 1761.44 476.049 Q1755.24 476.049 1751.6 472.438 Q1747.99 468.827 1747.99 462.669 Q1747.99 456.304 1751.42 452.577 Q1754.87 448.827 1760.7 448.827 Q1765.93 448.827 1768.97 452.206 Q1772.02 455.563 1772.02 461.35 M1767.76 460.1 Q1767.72 456.605 1765.79 454.521 Q1763.9 452.438 1760.75 452.438 Q1757.18 452.438 1755.03 454.452 Q1752.9 456.466 1752.58 460.123 L1767.76 460.1 Z\" fill=\"#000000\" fill-rule=\"evenodd\" fill-opacity=\"1\" /><path clip-path=\"url(#clip670)\" d=\"M1790.79 462.345 Q1785.63 462.345 1783.64 463.526 Q1781.65 464.706 1781.65 467.554 Q1781.65 469.822 1783.13 471.165 Q1784.64 472.484 1787.21 472.484 Q1790.75 472.484 1792.88 469.984 Q1795.03 467.461 1795.03 463.294 L1795.03 462.345 L1790.79 462.345 M1799.29 460.586 L1799.29 475.378 L1795.03 475.378 L1795.03 471.442 Q1793.57 473.803 1791.4 474.938 Q1789.22 476.049 1786.07 476.049 Q1782.09 476.049 1779.73 473.827 Q1777.39 471.581 1777.39 467.831 Q1777.39 463.456 1780.31 461.234 Q1783.25 459.012 1789.06 459.012 L1795.03 459.012 L1795.03 458.595 Q1795.03 455.655 1793.09 454.058 Q1791.16 452.438 1787.67 452.438 Q1785.45 452.438 1783.34 452.97 Q1781.23 453.503 1779.29 454.567 L1779.29 450.632 Q1781.63 449.73 1783.83 449.29 Q1786.03 448.827 1788.11 448.827 Q1793.73 448.827 1796.51 451.743 Q1799.29 454.66 1799.29 460.586 Z\" fill=\"#000000\" fill-rule=\"evenodd\" fill-opacity=\"1\" /><path clip-path=\"url(#clip670)\" d=\"M1825.12 453.387 L1825.12 439.359 L1829.38 439.359 L1829.38 475.378 L1825.12 475.378 L1825.12 471.489 Q1823.78 473.803 1821.72 474.938 Q1819.68 476.049 1816.81 476.049 Q1812.11 476.049 1809.15 472.299 Q1806.21 468.549 1806.21 462.438 Q1806.21 456.327 1809.15 452.577 Q1812.11 448.827 1816.81 448.827 Q1819.68 448.827 1821.72 449.961 Q1823.78 451.072 1825.12 453.387 M1810.61 462.438 Q1810.61 467.137 1812.53 469.822 Q1814.47 472.484 1817.85 472.484 Q1821.23 472.484 1823.18 469.822 Q1825.12 467.137 1825.12 462.438 Q1825.12 457.739 1823.18 455.077 Q1821.23 452.392 1817.85 452.392 Q1814.47 452.392 1812.53 455.077 Q1810.61 457.739 1810.61 462.438 Z\" fill=\"#000000\" fill-rule=\"evenodd\" fill-opacity=\"1\" /><path clip-path=\"url(#clip670)\" d=\"M1848.2 452.438 Q1844.78 452.438 1842.78 455.123 Q1840.79 457.785 1840.79 462.438 Q1840.79 467.091 1842.76 469.776 Q1844.75 472.438 1848.2 472.438 Q1851.6 472.438 1853.59 469.753 Q1855.59 467.067 1855.59 462.438 Q1855.59 457.831 1853.59 455.146 Q1851.6 452.438 1848.2 452.438 M1848.2 448.827 Q1853.76 448.827 1856.93 452.438 Q1860.1 456.049 1860.1 462.438 Q1860.1 468.804 1856.93 472.438 Q1853.76 476.049 1848.2 476.049 Q1842.62 476.049 1839.45 472.438 Q1836.3 468.804 1836.3 462.438 Q1836.3 456.049 1839.45 452.438 Q1842.62 448.827 1848.2 448.827 Z\" fill=\"#000000\" fill-rule=\"evenodd\" fill-opacity=\"1\" /><path clip-path=\"url(#clip670)\" d=\"M1882.18 453.433 Q1881.47 453.017 1880.61 452.831 Q1879.78 452.623 1878.76 452.623 Q1875.15 452.623 1873.2 454.984 Q1871.28 457.322 1871.28 461.72 L1871.28 475.378 L1867 475.378 L1867 449.452 L1871.28 449.452 L1871.28 453.48 Q1872.62 451.118 1874.78 449.984 Q1876.93 448.827 1880.01 448.827 Q1880.45 448.827 1880.98 448.896 Q1881.51 448.943 1882.16 449.058 L1882.18 453.433 Z\" fill=\"#000000\" fill-rule=\"evenodd\" fill-opacity=\"1\" /><circle clip-path=\"url(#clip670)\" cx=\"1573.6\" cy=\"509.938\" r=\"23.04\" fill=\"#c68125\" fill-rule=\"evenodd\" fill-opacity=\"1\" stroke=\"#000000\" stroke-opacity=\"1\" stroke-width=\"5.12\"/>\n<path clip-path=\"url(#clip670)\" d=\"M1675.91 523.329 L1675.91 537.079 L1671.63 537.079 L1671.63 501.292 L1675.91 501.292 L1675.91 505.227 Q1677.25 502.912 1679.29 501.801 Q1681.35 500.667 1684.2 500.667 Q1688.92 500.667 1691.86 504.417 Q1694.82 508.167 1694.82 514.278 Q1694.82 520.389 1691.86 524.139 Q1688.92 527.889 1684.2 527.889 Q1681.35 527.889 1679.29 526.778 Q1677.25 525.643 1675.91 523.329 M1690.4 514.278 Q1690.4 509.579 1688.46 506.917 Q1686.54 504.232 1683.16 504.232 Q1679.78 504.232 1677.83 506.917 Q1675.91 509.579 1675.91 514.278 Q1675.91 518.977 1677.83 521.662 Q1679.78 524.324 1683.16 524.324 Q1686.54 524.324 1688.46 521.662 Q1690.4 518.977 1690.4 514.278 Z\" fill=\"#000000\" fill-rule=\"evenodd\" fill-opacity=\"1\" /><path clip-path=\"url(#clip670)\" d=\"M1716.91 505.273 Q1716.19 504.857 1715.33 504.671 Q1714.5 504.463 1713.48 504.463 Q1709.87 504.463 1707.92 506.824 Q1706 509.162 1706 513.56 L1706 527.218 L1701.72 527.218 L1701.72 501.292 L1706 501.292 L1706 505.32 Q1707.35 502.958 1709.5 501.824 Q1711.65 500.667 1714.73 500.667 Q1715.17 500.667 1715.7 500.736 Q1716.23 500.783 1716.88 500.898 L1716.91 505.273 Z\" fill=\"#000000\" fill-rule=\"evenodd\" fill-opacity=\"1\" /><path clip-path=\"url(#clip670)\" d=\"M1730.38 504.278 Q1726.95 504.278 1724.96 506.963 Q1722.97 509.625 1722.97 514.278 Q1722.97 518.931 1724.94 521.616 Q1726.93 524.278 1730.38 524.278 Q1733.78 524.278 1735.77 521.593 Q1737.76 518.907 1737.76 514.278 Q1737.76 509.671 1735.77 506.986 Q1733.78 504.278 1730.38 504.278 M1730.38 500.667 Q1735.93 500.667 1739.1 504.278 Q1742.28 507.889 1742.28 514.278 Q1742.28 520.644 1739.1 524.278 Q1735.93 527.889 1730.38 527.889 Q1724.8 527.889 1721.63 524.278 Q1718.48 520.644 1718.48 514.278 Q1718.48 507.889 1721.63 504.278 Q1724.8 500.667 1730.38 500.667 Z\" fill=\"#000000\" fill-rule=\"evenodd\" fill-opacity=\"1\" /><path clip-path=\"url(#clip670)\" d=\"M1749.34 501.292 L1753.6 501.292 L1753.6 527.681 Q1753.6 532.634 1751.7 534.856 Q1749.82 537.079 1745.63 537.079 L1744.01 537.079 L1744.01 533.468 L1745.15 533.468 Q1747.58 533.468 1748.46 532.333 Q1749.34 531.222 1749.34 527.681 L1749.34 501.292 M1749.34 491.199 L1753.6 491.199 L1753.6 496.593 L1749.34 496.593 L1749.34 491.199 Z\" fill=\"#000000\" fill-rule=\"evenodd\" fill-opacity=\"1\" /><path clip-path=\"url(#clip670)\" d=\"M1763.92 523.282 L1771.56 523.282 L1771.56 496.917 L1763.25 498.583 L1763.25 494.324 L1771.51 492.658 L1776.19 492.658 L1776.19 523.282 L1783.83 523.282 L1783.83 527.218 L1763.92 527.218 L1763.92 523.282 Z\" fill=\"#000000\" fill-rule=\"evenodd\" fill-opacity=\"1\" /><polyline clip-path=\"url(#clip670)\" style=\"stroke:#00a98d; stroke-linecap:round; stroke-linejoin:round; stroke-width:4; stroke-opacity:1; fill:none\" points=\"\n  1500.08,561.778 1647.12,561.778 \n  \"/>\n<path clip-path=\"url(#clip670)\" d=\"M1693.87 545.632 L1693.87 550.192 Q1691.21 548.919 1688.85 548.294 Q1686.49 547.669 1684.29 547.669 Q1680.47 547.669 1678.39 549.15 Q1676.33 550.632 1676.33 553.363 Q1676.33 555.655 1677.69 556.835 Q1679.08 557.993 1682.92 558.71 L1685.75 559.289 Q1690.98 560.285 1693.46 562.808 Q1695.96 565.308 1695.96 569.521 Q1695.96 574.544 1692.58 577.136 Q1689.22 579.729 1682.72 579.729 Q1680.26 579.729 1677.48 579.173 Q1674.73 578.618 1671.77 577.53 L1671.77 572.715 Q1674.61 574.312 1677.35 575.122 Q1680.08 575.933 1682.72 575.933 Q1686.72 575.933 1688.9 574.359 Q1691.07 572.784 1691.07 569.868 Q1691.07 567.322 1689.5 565.886 Q1687.95 564.451 1684.38 563.734 L1681.54 563.178 Q1676.3 562.136 1673.97 559.914 Q1671.63 557.692 1671.63 553.734 Q1671.63 549.15 1674.85 546.511 Q1678.09 543.873 1683.76 543.873 Q1686.19 543.873 1688.71 544.312 Q1691.23 544.752 1693.87 545.632 Z\" fill=\"#000000\" fill-rule=\"evenodd\" fill-opacity=\"1\" /><path clip-path=\"url(#clip670)\" d=\"M1703.06 553.132 L1707.32 553.132 L1707.32 579.058 L1703.06 579.058 L1703.06 553.132 M1703.06 543.039 L1707.32 543.039 L1707.32 548.433 L1703.06 548.433 L1703.06 543.039 Z\" fill=\"#000000\" fill-rule=\"evenodd\" fill-opacity=\"1\" /><path clip-path=\"url(#clip670)\" d=\"M1737.79 563.409 L1737.79 579.058 L1733.53 579.058 L1733.53 563.548 Q1733.53 559.868 1732.09 558.039 Q1730.66 556.21 1727.79 556.21 Q1724.34 556.21 1722.35 558.41 Q1720.35 560.609 1720.35 564.405 L1720.35 579.058 L1716.07 579.058 L1716.07 553.132 L1720.35 553.132 L1720.35 557.16 Q1721.88 554.822 1723.94 553.664 Q1726.03 552.507 1728.73 552.507 Q1733.2 552.507 1735.49 555.285 Q1737.79 558.039 1737.79 563.409 Z\" fill=\"#000000\" fill-rule=\"evenodd\" fill-opacity=\"1\" /><path clip-path=\"url(#clip670)\" d=\"M1758.06 566.025 Q1752.9 566.025 1750.91 567.206 Q1748.92 568.386 1748.92 571.234 Q1748.92 573.502 1750.4 574.845 Q1751.91 576.164 1754.48 576.164 Q1758.02 576.164 1760.15 573.664 Q1762.3 571.141 1762.3 566.974 L1762.3 566.025 L1758.06 566.025 M1766.56 564.266 L1766.56 579.058 L1762.3 579.058 L1762.3 575.122 Q1760.84 577.483 1758.66 578.618 Q1756.49 579.729 1753.34 579.729 Q1749.36 579.729 1747 577.507 Q1744.66 575.261 1744.66 571.511 Q1744.66 567.136 1747.58 564.914 Q1750.52 562.692 1756.33 562.692 L1762.3 562.692 L1762.3 562.275 Q1762.3 559.335 1760.35 557.738 Q1758.43 556.118 1754.94 556.118 Q1752.72 556.118 1750.61 556.65 Q1748.5 557.183 1746.56 558.247 L1746.56 554.312 Q1748.9 553.41 1751.1 552.97 Q1753.29 552.507 1755.38 552.507 Q1761 552.507 1763.78 555.423 Q1766.56 558.34 1766.56 564.266 Z\" fill=\"#000000\" fill-rule=\"evenodd\" fill-opacity=\"1\" /><path clip-path=\"url(#clip670)\" d=\"M1775.33 543.039 L1779.59 543.039 L1779.59 579.058 L1775.33 579.058 L1775.33 543.039 Z\" fill=\"#000000\" fill-rule=\"evenodd\" fill-opacity=\"1\" /><circle clip-path=\"url(#clip670)\" cx=\"1573.6\" cy=\"613.618\" r=\"23.04\" fill=\"#8e971d\" fill-rule=\"evenodd\" fill-opacity=\"1\" stroke=\"#000000\" stroke-opacity=\"1\" stroke-width=\"5.12\"/>\n<path clip-path=\"url(#clip670)\" d=\"M1676.3 600.18 L1676.3 613.166 L1682.18 613.166 Q1685.45 613.166 1687.23 611.476 Q1689.01 609.787 1689.01 606.662 Q1689.01 603.56 1687.23 601.87 Q1685.45 600.18 1682.18 600.18 L1676.3 600.18 M1671.63 596.338 L1682.18 596.338 Q1687.99 596.338 1690.96 598.976 Q1693.94 601.592 1693.94 606.662 Q1693.94 611.777 1690.96 614.393 Q1687.99 617.009 1682.18 617.009 L1676.3 617.009 L1676.3 630.898 L1671.63 630.898 L1671.63 596.338 Z\" fill=\"#000000\" fill-rule=\"evenodd\" fill-opacity=\"1\" /><path clip-path=\"url(#clip670)\" d=\"M1714.22 608.953 Q1713.5 608.537 1712.65 608.351 Q1711.81 608.143 1710.79 608.143 Q1707.18 608.143 1705.24 610.504 Q1703.32 612.842 1703.32 617.24 L1703.32 630.898 L1699.04 630.898 L1699.04 604.972 L1703.32 604.972 L1703.32 609 Q1704.66 606.638 1706.81 605.504 Q1708.97 604.347 1712.04 604.347 Q1712.48 604.347 1713.02 604.416 Q1713.55 604.463 1714.2 604.578 L1714.22 608.953 Z\" fill=\"#000000\" fill-rule=\"evenodd\" fill-opacity=\"1\" /><path clip-path=\"url(#clip670)\" d=\"M1727.69 607.958 Q1724.27 607.958 1722.28 610.643 Q1720.29 613.305 1720.29 617.958 Q1720.29 622.611 1722.25 625.296 Q1724.24 627.958 1727.69 627.958 Q1731.1 627.958 1733.09 625.273 Q1735.08 622.587 1735.08 617.958 Q1735.08 613.351 1733.09 610.666 Q1731.1 607.958 1727.69 607.958 M1727.69 604.347 Q1733.25 604.347 1736.42 607.958 Q1739.59 611.569 1739.59 617.958 Q1739.59 624.324 1736.42 627.958 Q1733.25 631.569 1727.69 631.569 Q1722.11 631.569 1718.94 627.958 Q1715.79 624.324 1715.79 617.958 Q1715.79 611.569 1718.94 607.958 Q1722.11 604.347 1727.69 604.347 Z\" fill=\"#000000\" fill-rule=\"evenodd\" fill-opacity=\"1\" /><path clip-path=\"url(#clip670)\" d=\"M1746.65 604.972 L1750.91 604.972 L1750.91 631.361 Q1750.91 636.314 1749.01 638.536 Q1747.14 640.759 1742.95 640.759 L1741.33 640.759 L1741.33 637.148 L1742.46 637.148 Q1744.89 637.148 1745.77 636.013 Q1746.65 634.902 1746.65 631.361 L1746.65 604.972 M1746.65 594.879 L1750.91 594.879 L1750.91 600.273 L1746.65 600.273 L1746.65 594.879 Z\" fill=\"#000000\" fill-rule=\"evenodd\" fill-opacity=\"1\" /><path clip-path=\"url(#clip670)\" d=\"M1782 616.87 L1782 618.953 L1762.41 618.953 Q1762.69 623.351 1765.05 625.666 Q1767.44 627.958 1771.67 627.958 Q1774.13 627.958 1776.42 627.356 Q1778.73 626.754 1781 625.55 L1781 629.578 Q1778.71 630.55 1776.3 631.06 Q1773.9 631.569 1771.42 631.569 Q1765.22 631.569 1761.58 627.958 Q1757.97 624.347 1757.97 618.189 Q1757.97 611.824 1761.4 608.097 Q1764.85 604.347 1770.68 604.347 Q1775.91 604.347 1778.94 607.726 Q1782 611.083 1782 616.87 M1777.74 615.62 Q1777.69 612.125 1775.77 610.041 Q1773.87 607.958 1770.73 607.958 Q1767.16 607.958 1765.01 609.972 Q1762.88 611.986 1762.55 615.643 L1777.74 615.62 Z\" fill=\"#000000\" fill-rule=\"evenodd\" fill-opacity=\"1\" /><path clip-path=\"url(#clip670)\" d=\"M1807.65 605.967 L1807.65 609.949 Q1805.84 608.953 1804.01 608.467 Q1802.21 607.958 1800.35 607.958 Q1796.21 607.958 1793.92 610.597 Q1791.63 613.212 1791.63 617.958 Q1791.63 622.703 1793.92 625.342 Q1796.21 627.958 1800.35 627.958 Q1802.21 627.958 1804.01 627.472 Q1805.84 626.962 1807.65 625.967 L1807.65 629.902 Q1805.86 630.736 1803.94 631.152 Q1802.04 631.569 1799.89 631.569 Q1794.04 631.569 1790.59 627.888 Q1787.14 624.208 1787.14 617.958 Q1787.14 611.615 1790.61 607.981 Q1794.1 604.347 1800.17 604.347 Q1802.14 604.347 1804.01 604.763 Q1805.89 605.157 1807.65 605.967 M1801.63 630.898 Q1802.9 632.333 1803.53 633.536 Q1804.15 634.763 1804.15 635.874 Q1804.15 637.935 1802.76 638.976 Q1801.37 640.041 1798.64 640.041 Q1797.58 640.041 1796.56 639.902 Q1795.56 639.763 1794.57 639.485 L1794.57 636.453 Q1795.35 636.847 1796.21 637.009 Q1797.07 637.194 1798.16 637.194 Q1799.52 637.194 1800.22 636.638 Q1800.91 636.083 1800.91 635.018 Q1800.91 634.323 1800.4 633.305 Q1799.91 632.31 1798.87 630.898 L1801.63 630.898 Z\" fill=\"#000000\" fill-rule=\"evenodd\" fill-opacity=\"1\" /><path clip-path=\"url(#clip670)\" d=\"M1826.84 617.865 Q1821.67 617.865 1819.68 619.046 Q1817.69 620.226 1817.69 623.074 Q1817.69 625.342 1819.17 626.685 Q1820.68 628.004 1823.25 628.004 Q1826.79 628.004 1828.92 625.504 Q1831.07 622.981 1831.07 618.814 L1831.07 617.865 L1826.84 617.865 M1835.33 616.106 L1835.33 630.898 L1831.07 630.898 L1831.07 626.962 Q1829.61 629.323 1827.44 630.458 Q1825.26 631.569 1822.11 631.569 Q1818.13 631.569 1815.77 629.347 Q1813.43 627.101 1813.43 623.351 Q1813.43 618.976 1816.35 616.754 Q1819.29 614.532 1825.1 614.532 L1831.07 614.532 L1831.07 614.115 Q1831.07 611.175 1829.13 609.578 Q1827.21 607.958 1823.71 607.958 Q1821.49 607.958 1819.38 608.49 Q1817.28 609.023 1815.33 610.087 L1815.33 606.152 Q1817.67 605.25 1819.87 604.81 Q1822.07 604.347 1824.15 604.347 Q1829.78 604.347 1832.55 607.263 Q1835.33 610.18 1835.33 616.106 M1824.24 599.185 L1822.92 597.912 Q1822.41 597.449 1822.02 597.24 Q1821.65 597.009 1821.35 597.009 Q1820.47 597.009 1820.05 597.865 Q1819.64 598.699 1819.59 600.597 L1816.7 600.597 Q1816.74 597.472 1817.92 595.782 Q1819.1 594.069 1821.21 594.069 Q1822.09 594.069 1822.83 594.393 Q1823.57 594.717 1824.43 595.481 L1825.75 596.754 Q1826.26 597.217 1826.63 597.449 Q1827.02 597.657 1827.32 597.657 Q1828.2 597.657 1828.62 596.824 Q1829.03 595.967 1829.08 594.069 L1831.97 594.069 Q1831.93 597.194 1830.75 598.907 Q1829.57 600.597 1827.46 600.597 Q1826.58 600.597 1825.84 600.273 Q1825.1 599.949 1824.24 599.185 Z\" fill=\"#000000\" fill-rule=\"evenodd\" fill-opacity=\"1\" /><path clip-path=\"url(#clip670)\" d=\"M1854.15 607.958 Q1850.72 607.958 1848.73 610.643 Q1846.74 613.305 1846.74 617.958 Q1846.74 622.611 1848.71 625.296 Q1850.7 627.958 1854.15 627.958 Q1857.55 627.958 1859.54 625.273 Q1861.53 622.587 1861.53 617.958 Q1861.53 613.351 1859.54 610.666 Q1857.55 607.958 1854.15 607.958 M1854.15 604.347 Q1859.71 604.347 1862.88 607.958 Q1866.05 611.569 1866.05 617.958 Q1866.05 624.324 1862.88 627.958 Q1859.71 631.569 1854.15 631.569 Q1848.57 631.569 1845.4 627.958 Q1842.25 624.324 1842.25 617.958 Q1842.25 611.569 1845.4 607.958 Q1848.57 604.347 1854.15 604.347 Z\" fill=\"#000000\" fill-rule=\"evenodd\" fill-opacity=\"1\" /><polyline clip-path=\"url(#clip670)\" style=\"stroke:#00a8cb; stroke-linecap:round; stroke-linejoin:round; stroke-width:4; stroke-opacity:1; fill:none\" points=\"\n  1500.08,665.458 1647.12,665.458 \n  \"/>\n<path clip-path=\"url(#clip670)\" d=\"M1671.63 648.178 L1676.3 648.178 L1676.3 678.802 L1693.13 678.802 L1693.13 682.738 L1671.63 682.738 L1671.63 648.178 Z\" fill=\"#000000\" fill-rule=\"evenodd\" fill-opacity=\"1\" /><path clip-path=\"url(#clip670)\" d=\"M1697.86 656.812 L1702.11 656.812 L1702.11 682.738 L1697.86 682.738 L1697.86 656.812 M1697.86 646.719 L1702.11 646.719 L1702.11 652.113 L1697.86 652.113 L1697.86 646.719 Z\" fill=\"#000000\" fill-rule=\"evenodd\" fill-opacity=\"1\" /><path clip-path=\"url(#clip670)\" d=\"M1732.58 667.089 L1732.58 682.738 L1728.32 682.738 L1728.32 667.228 Q1728.32 663.548 1726.88 661.719 Q1725.45 659.89 1722.58 659.89 Q1719.13 659.89 1717.14 662.09 Q1715.15 664.289 1715.15 668.085 L1715.15 682.738 L1710.86 682.738 L1710.86 656.812 L1715.15 656.812 L1715.15 660.84 Q1716.67 658.502 1718.73 657.344 Q1720.82 656.187 1723.53 656.187 Q1727.99 656.187 1730.29 658.965 Q1732.58 661.719 1732.58 667.089 Z\" fill=\"#000000\" fill-rule=\"evenodd\" fill-opacity=\"1\" /><path clip-path=\"url(#clip670)\" d=\"M1762.62 667.089 L1762.62 682.738 L1758.36 682.738 L1758.36 667.228 Q1758.36 663.548 1756.93 661.719 Q1755.49 659.89 1752.62 659.89 Q1749.17 659.89 1747.18 662.09 Q1745.19 664.289 1745.19 668.085 L1745.19 682.738 L1740.91 682.738 L1740.91 646.719 L1745.19 646.719 L1745.19 660.84 Q1746.72 658.502 1748.78 657.344 Q1750.86 656.187 1753.57 656.187 Q1758.04 656.187 1760.33 658.965 Q1762.62 661.719 1762.62 667.089 Z\" fill=\"#000000\" fill-rule=\"evenodd\" fill-opacity=\"1\" /><path clip-path=\"url(#clip670)\" d=\"M1782.9 669.705 Q1777.74 669.705 1775.75 670.886 Q1773.76 672.066 1773.76 674.914 Q1773.76 677.182 1775.24 678.525 Q1776.74 679.844 1779.31 679.844 Q1782.85 679.844 1784.98 677.344 Q1787.14 674.821 1787.14 670.654 L1787.14 669.705 L1782.9 669.705 M1791.4 667.946 L1791.4 682.738 L1787.14 682.738 L1787.14 678.802 Q1785.68 681.163 1783.5 682.298 Q1781.33 683.409 1778.18 683.409 Q1774.2 683.409 1771.84 681.187 Q1769.5 678.941 1769.5 675.191 Q1769.5 670.816 1772.41 668.594 Q1775.35 666.372 1781.16 666.372 L1787.14 666.372 L1787.14 665.955 Q1787.14 663.015 1785.19 661.418 Q1783.27 659.798 1779.78 659.798 Q1777.55 659.798 1775.45 660.33 Q1773.34 660.863 1771.4 661.927 L1771.4 657.992 Q1773.73 657.09 1775.93 656.65 Q1778.13 656.187 1780.22 656.187 Q1785.84 656.187 1788.62 659.103 Q1791.4 662.02 1791.4 667.946 Z\" fill=\"#000000\" fill-rule=\"evenodd\" fill-opacity=\"1\" /><path clip-path=\"url(#clip670)\" d=\"M1832.3 660.747 L1832.3 646.719 L1836.56 646.719 L1836.56 682.738 L1832.3 682.738 L1832.3 678.849 Q1830.96 681.163 1828.9 682.298 Q1826.86 683.409 1823.99 683.409 Q1819.29 683.409 1816.33 679.659 Q1813.39 675.909 1813.39 669.798 Q1813.39 663.687 1816.33 659.937 Q1819.29 656.187 1823.99 656.187 Q1826.86 656.187 1828.9 657.321 Q1830.96 658.432 1832.3 660.747 M1817.78 669.798 Q1817.78 674.497 1819.71 677.182 Q1821.65 679.844 1825.03 679.844 Q1828.41 679.844 1830.35 677.182 Q1832.3 674.497 1832.3 669.798 Q1832.3 665.099 1830.35 662.437 Q1828.41 659.752 1825.03 659.752 Q1821.65 659.752 1819.71 662.437 Q1817.78 665.099 1817.78 669.798 Z\" fill=\"#000000\" fill-rule=\"evenodd\" fill-opacity=\"1\" /><path clip-path=\"url(#clip670)\" d=\"M1867.51 668.71 L1867.51 670.793 L1847.92 670.793 Q1848.2 675.191 1850.56 677.506 Q1852.95 679.798 1857.18 679.798 Q1859.64 679.798 1861.93 679.196 Q1864.24 678.594 1866.51 677.39 L1866.51 681.418 Q1864.22 682.39 1861.81 682.9 Q1859.41 683.409 1856.93 683.409 Q1850.72 683.409 1847.09 679.798 Q1843.48 676.187 1843.48 670.029 Q1843.48 663.664 1846.91 659.937 Q1850.35 656.187 1856.19 656.187 Q1861.42 656.187 1864.45 659.566 Q1867.51 662.923 1867.51 668.71 M1863.25 667.46 Q1863.2 663.965 1861.28 661.881 Q1859.38 659.798 1856.23 659.798 Q1852.67 659.798 1850.52 661.812 Q1848.39 663.826 1848.06 667.483 L1863.25 667.46 Z\" fill=\"#000000\" fill-rule=\"evenodd\" fill-opacity=\"1\" /><path clip-path=\"url(#clip670)\" d=\"M1889.57 656.812 L1893.83 656.812 L1893.83 682.738 L1889.57 682.738 L1889.57 656.812 M1889.57 646.719 L1893.83 646.719 L1893.83 652.113 L1889.57 652.113 L1889.57 646.719 Z\" fill=\"#000000\" fill-rule=\"evenodd\" fill-opacity=\"1\" /><path clip-path=\"url(#clip670)\" d=\"M1924.29 667.089 L1924.29 682.738 L1920.03 682.738 L1920.03 667.228 Q1920.03 663.548 1918.59 661.719 Q1917.16 659.89 1914.29 659.89 Q1910.84 659.89 1908.85 662.09 Q1906.86 664.289 1906.86 668.085 L1906.86 682.738 L1902.58 682.738 L1902.58 656.812 L1906.86 656.812 L1906.86 660.84 Q1908.39 658.502 1910.45 657.344 Q1912.53 656.187 1915.24 656.187 Q1919.71 656.187 1922 658.965 Q1924.29 661.719 1924.29 667.089 Z\" fill=\"#000000\" fill-rule=\"evenodd\" fill-opacity=\"1\" /><path clip-path=\"url(#clip670)\" d=\"M1937 649.451 L1937 656.812 L1945.77 656.812 L1945.77 660.122 L1937 660.122 L1937 674.196 Q1937 677.367 1937.85 678.27 Q1938.73 679.173 1941.4 679.173 L1945.77 679.173 L1945.77 682.738 L1941.4 682.738 Q1936.46 682.738 1934.59 680.909 Q1932.71 679.057 1932.71 674.196 L1932.71 660.122 L1929.59 660.122 L1929.59 656.812 L1932.71 656.812 L1932.71 649.451 L1937 649.451 Z\" fill=\"#000000\" fill-rule=\"evenodd\" fill-opacity=\"1\" /><path clip-path=\"url(#clip670)\" d=\"M1973.55 668.71 L1973.55 670.793 L1953.96 670.793 Q1954.24 675.191 1956.6 677.506 Q1958.99 679.798 1963.22 679.798 Q1965.68 679.798 1967.97 679.196 Q1970.28 678.594 1972.55 677.39 L1972.55 681.418 Q1970.26 682.39 1967.85 682.9 Q1965.45 683.409 1962.97 683.409 Q1956.77 683.409 1953.13 679.798 Q1949.52 676.187 1949.52 670.029 Q1949.52 663.664 1952.95 659.937 Q1956.4 656.187 1962.23 656.187 Q1967.46 656.187 1970.49 659.566 Q1973.55 662.923 1973.55 668.71 M1969.29 667.46 Q1969.24 663.965 1967.32 661.881 Q1965.42 659.798 1962.27 659.798 Q1958.71 659.798 1956.56 661.812 Q1954.43 663.826 1954.1 667.483 L1969.29 667.46 Z\" fill=\"#000000\" fill-rule=\"evenodd\" fill-opacity=\"1\" /><path clip-path=\"url(#clip670)\" d=\"M1995.56 660.793 Q1994.84 660.377 1993.99 660.191 Q1993.15 659.983 1992.14 659.983 Q1988.52 659.983 1986.58 662.344 Q1984.66 664.682 1984.66 669.08 L1984.66 682.738 L1980.38 682.738 L1980.38 656.812 L1984.66 656.812 L1984.66 660.84 Q1986 658.478 1988.15 657.344 Q1990.31 656.187 1993.39 656.187 Q1993.83 656.187 1994.36 656.256 Q1994.89 656.303 1995.54 656.418 L1995.56 660.793 Z\" fill=\"#000000\" fill-rule=\"evenodd\" fill-opacity=\"1\" /><path clip-path=\"url(#clip670)\" d=\"M2013.15 646.719 L2013.15 650.261 L2009.08 650.261 Q2006.79 650.261 2005.89 651.187 Q2005.01 652.113 2005.01 654.52 L2005.01 656.812 L2012.02 656.812 L2012.02 660.122 L2005.01 660.122 L2005.01 682.738 L2000.72 682.738 L2000.72 660.122 L1996.65 660.122 L1996.65 656.812 L2000.72 656.812 L2000.72 655.006 Q2000.72 650.678 2002.74 648.71 Q2004.75 646.719 2009.13 646.719 L2013.15 646.719 Z\" fill=\"#000000\" fill-rule=\"evenodd\" fill-opacity=\"1\" /><path clip-path=\"url(#clip670)\" d=\"M2038.89 668.71 L2038.89 670.793 L2019.31 670.793 Q2019.59 675.191 2021.95 677.506 Q2024.33 679.798 2028.57 679.798 Q2031.02 679.798 2033.32 679.196 Q2035.63 678.594 2037.9 677.39 L2037.9 681.418 Q2035.61 682.39 2033.2 682.9 Q2030.79 683.409 2028.32 683.409 Q2022.11 683.409 2018.48 679.798 Q2014.87 676.187 2014.87 670.029 Q2014.87 663.664 2018.29 659.937 Q2021.74 656.187 2027.58 656.187 Q2032.81 656.187 2035.84 659.566 Q2038.89 662.923 2038.89 668.71 M2034.64 667.46 Q2034.59 663.965 2032.67 661.881 Q2030.77 659.798 2027.62 659.798 Q2024.06 659.798 2021.9 661.812 Q2019.77 663.826 2019.45 667.483 L2034.64 667.46 Z\" fill=\"#000000\" fill-rule=\"evenodd\" fill-opacity=\"1\" /><path clip-path=\"url(#clip670)\" d=\"M2060.91 660.793 Q2060.19 660.377 2059.33 660.191 Q2058.5 659.983 2057.48 659.983 Q2053.87 659.983 2051.93 662.344 Q2050.01 664.682 2050.01 669.08 L2050.01 682.738 L2045.72 682.738 L2045.72 656.812 L2050.01 656.812 L2050.01 660.84 Q2051.35 658.478 2053.5 657.344 Q2055.65 656.187 2058.73 656.187 Q2059.17 656.187 2059.7 656.256 Q2060.24 656.303 2060.89 656.418 L2060.91 660.793 Z\" fill=\"#000000\" fill-rule=\"evenodd\" fill-opacity=\"1\" /><path clip-path=\"url(#clip670)\" d=\"M2086.51 668.71 L2086.51 670.793 L2066.93 670.793 Q2067.2 675.191 2069.57 677.506 Q2071.95 679.798 2076.19 679.798 Q2078.64 679.798 2080.93 679.196 Q2083.25 678.594 2085.52 677.39 L2085.52 681.418 Q2083.22 682.39 2080.82 682.9 Q2078.41 683.409 2075.93 683.409 Q2069.73 683.409 2066.09 679.798 Q2062.48 676.187 2062.48 670.029 Q2062.48 663.664 2065.91 659.937 Q2069.36 656.187 2075.19 656.187 Q2080.42 656.187 2083.45 659.566 Q2086.51 662.923 2086.51 668.71 M2082.25 667.46 Q2082.2 663.965 2080.28 661.881 Q2078.39 659.798 2075.24 659.798 Q2071.67 659.798 2069.52 661.812 Q2067.39 663.826 2067.07 667.483 L2082.25 667.46 Z\" fill=\"#000000\" fill-rule=\"evenodd\" fill-opacity=\"1\" /><path clip-path=\"url(#clip670)\" d=\"M2115.05 667.089 L2115.05 682.738 L2110.79 682.738 L2110.79 667.228 Q2110.79 663.548 2109.36 661.719 Q2107.92 659.89 2105.05 659.89 Q2101.6 659.89 2099.61 662.09 Q2097.62 664.289 2097.62 668.085 L2097.62 682.738 L2093.34 682.738 L2093.34 656.812 L2097.62 656.812 L2097.62 660.84 Q2099.15 658.502 2101.21 657.344 Q2103.29 656.187 2106 656.187 Q2110.47 656.187 2112.76 658.965 Q2115.05 661.719 2115.05 667.089 Z\" fill=\"#000000\" fill-rule=\"evenodd\" fill-opacity=\"1\" /><path clip-path=\"url(#clip670)\" d=\"M2142.2 657.807 L2142.2 661.789 Q2140.4 660.793 2138.57 660.307 Q2136.76 659.798 2134.91 659.798 Q2130.77 659.798 2128.48 662.437 Q2126.19 665.052 2126.19 669.798 Q2126.19 674.543 2128.48 677.182 Q2130.77 679.798 2134.91 679.798 Q2136.76 679.798 2138.57 679.312 Q2140.4 678.802 2142.2 677.807 L2142.2 681.742 Q2140.42 682.576 2138.5 682.992 Q2136.6 683.409 2134.45 683.409 Q2128.59 683.409 2125.14 679.728 Q2121.7 676.048 2121.7 669.798 Q2121.7 663.455 2125.17 659.821 Q2128.66 656.187 2134.73 656.187 Q2136.7 656.187 2138.57 656.603 Q2140.45 656.997 2142.2 657.807 Z\" fill=\"#000000\" fill-rule=\"evenodd\" fill-opacity=\"1\" /><path clip-path=\"url(#clip670)\" d=\"M2149.61 656.812 L2153.87 656.812 L2153.87 682.738 L2149.61 682.738 L2149.61 656.812 M2149.61 646.719 L2153.87 646.719 L2153.87 652.113 L2149.61 652.113 L2149.61 646.719 Z\" fill=\"#000000\" fill-rule=\"evenodd\" fill-opacity=\"1\" /><path clip-path=\"url(#clip670)\" d=\"M2174.57 669.705 Q2169.4 669.705 2167.41 670.886 Q2165.42 672.066 2165.42 674.914 Q2165.42 677.182 2166.9 678.525 Q2168.41 679.844 2170.98 679.844 Q2174.52 679.844 2176.65 677.344 Q2178.8 674.821 2178.8 670.654 L2178.8 669.705 L2174.57 669.705 M2183.06 667.946 L2183.06 682.738 L2178.8 682.738 L2178.8 678.802 Q2177.34 681.163 2175.17 682.298 Q2172.99 683.409 2169.84 683.409 Q2165.86 683.409 2163.5 681.187 Q2161.16 678.941 2161.16 675.191 Q2161.16 670.816 2164.08 668.594 Q2167.02 666.372 2172.83 666.372 L2178.8 666.372 L2178.8 665.955 Q2178.8 663.015 2176.86 661.418 Q2174.94 659.798 2171.44 659.798 Q2169.22 659.798 2167.11 660.33 Q2165.01 660.863 2163.06 661.927 L2163.06 657.992 Q2165.4 657.09 2167.6 656.65 Q2169.8 656.187 2171.88 656.187 Q2177.51 656.187 2180.28 659.103 Q2183.06 662.02 2183.06 667.946 Z\" fill=\"#000000\" fill-rule=\"evenodd\" fill-opacity=\"1\" /><polyline clip-path=\"url(#clip670)\" style=\"stroke:#9b7fe8; stroke-linecap:round; stroke-linejoin:round; stroke-width:4; stroke-opacity:1; fill:none\" points=\"\n  1500.08,717.298 1647.12,717.298 \n  \"/>\n<path clip-path=\"url(#clip670)\" d=\"M1671.63 700.018 L1676.3 700.018 L1676.3 730.642 L1693.13 730.642 L1693.13 734.578 L1671.63 734.578 L1671.63 700.018 Z\" fill=\"#000000\" fill-rule=\"evenodd\" fill-opacity=\"1\" /><path clip-path=\"url(#clip670)\" d=\"M1697.86 708.652 L1702.11 708.652 L1702.11 734.578 L1697.86 734.578 L1697.86 708.652 M1697.86 698.559 L1702.11 698.559 L1702.11 703.953 L1697.86 703.953 L1697.86 698.559 Z\" fill=\"#000000\" fill-rule=\"evenodd\" fill-opacity=\"1\" /><path clip-path=\"url(#clip670)\" d=\"M1732.58 718.929 L1732.58 734.578 L1728.32 734.578 L1728.32 719.068 Q1728.32 715.388 1726.88 713.559 Q1725.45 711.73 1722.58 711.73 Q1719.13 711.73 1717.14 713.93 Q1715.15 716.129 1715.15 719.925 L1715.15 734.578 L1710.86 734.578 L1710.86 708.652 L1715.15 708.652 L1715.15 712.68 Q1716.67 710.342 1718.73 709.184 Q1720.82 708.027 1723.53 708.027 Q1727.99 708.027 1730.29 710.805 Q1732.58 713.559 1732.58 718.929 Z\" fill=\"#000000\" fill-rule=\"evenodd\" fill-opacity=\"1\" /><path clip-path=\"url(#clip670)\" d=\"M1762.62 718.929 L1762.62 734.578 L1758.36 734.578 L1758.36 719.068 Q1758.36 715.388 1756.93 713.559 Q1755.49 711.73 1752.62 711.73 Q1749.17 711.73 1747.18 713.93 Q1745.19 716.129 1745.19 719.925 L1745.19 734.578 L1740.91 734.578 L1740.91 698.559 L1745.19 698.559 L1745.19 712.68 Q1746.72 710.342 1748.78 709.184 Q1750.86 708.027 1753.57 708.027 Q1758.04 708.027 1760.33 710.805 Q1762.62 713.559 1762.62 718.929 Z\" fill=\"#000000\" fill-rule=\"evenodd\" fill-opacity=\"1\" /><path clip-path=\"url(#clip670)\" d=\"M1782.9 721.545 Q1777.74 721.545 1775.75 722.726 Q1773.76 723.906 1773.76 726.754 Q1773.76 729.022 1775.24 730.365 Q1776.74 731.684 1779.31 731.684 Q1782.85 731.684 1784.98 729.184 Q1787.14 726.661 1787.14 722.494 L1787.14 721.545 L1782.9 721.545 M1791.4 719.786 L1791.4 734.578 L1787.14 734.578 L1787.14 730.642 Q1785.68 733.003 1783.5 734.138 Q1781.33 735.249 1778.18 735.249 Q1774.2 735.249 1771.84 733.027 Q1769.5 730.781 1769.5 727.031 Q1769.5 722.656 1772.41 720.434 Q1775.35 718.212 1781.16 718.212 L1787.14 718.212 L1787.14 717.795 Q1787.14 714.855 1785.19 713.258 Q1783.27 711.638 1779.78 711.638 Q1777.55 711.638 1775.45 712.17 Q1773.34 712.703 1771.4 713.767 L1771.4 709.832 Q1773.73 708.93 1775.93 708.49 Q1778.13 708.027 1780.22 708.027 Q1785.84 708.027 1788.62 710.943 Q1791.4 713.86 1791.4 719.786 Z\" fill=\"#000000\" fill-rule=\"evenodd\" fill-opacity=\"1\" /><path clip-path=\"url(#clip670)\" d=\"M1832.3 712.587 L1832.3 698.559 L1836.56 698.559 L1836.56 734.578 L1832.3 734.578 L1832.3 730.689 Q1830.96 733.003 1828.9 734.138 Q1826.86 735.249 1823.99 735.249 Q1819.29 735.249 1816.33 731.499 Q1813.39 727.749 1813.39 721.638 Q1813.39 715.527 1816.33 711.777 Q1819.29 708.027 1823.99 708.027 Q1826.86 708.027 1828.9 709.161 Q1830.96 710.272 1832.3 712.587 M1817.78 721.638 Q1817.78 726.337 1819.71 729.022 Q1821.65 731.684 1825.03 731.684 Q1828.41 731.684 1830.35 729.022 Q1832.3 726.337 1832.3 721.638 Q1832.3 716.939 1830.35 714.277 Q1828.41 711.592 1825.03 711.592 Q1821.65 711.592 1819.71 714.277 Q1817.78 716.939 1817.78 721.638 Z\" fill=\"#000000\" fill-rule=\"evenodd\" fill-opacity=\"1\" /><path clip-path=\"url(#clip670)\" d=\"M1867.51 720.55 L1867.51 722.633 L1847.92 722.633 Q1848.2 727.031 1850.56 729.346 Q1852.95 731.638 1857.18 731.638 Q1859.64 731.638 1861.93 731.036 Q1864.24 730.434 1866.51 729.23 L1866.51 733.258 Q1864.22 734.23 1861.81 734.74 Q1859.41 735.249 1856.93 735.249 Q1850.72 735.249 1847.09 731.638 Q1843.48 728.027 1843.48 721.869 Q1843.48 715.504 1846.91 711.777 Q1850.35 708.027 1856.19 708.027 Q1861.42 708.027 1864.45 711.406 Q1867.51 714.763 1867.51 720.55 M1863.25 719.3 Q1863.2 715.805 1861.28 713.721 Q1859.38 711.638 1856.23 711.638 Q1852.67 711.638 1850.52 713.652 Q1848.39 715.666 1848.06 719.323 L1863.25 719.3 Z\" fill=\"#000000\" fill-rule=\"evenodd\" fill-opacity=\"1\" /><path clip-path=\"url(#clip670)\" d=\"M1889.57 708.652 L1893.83 708.652 L1893.83 734.578 L1889.57 734.578 L1889.57 708.652 M1889.57 698.559 L1893.83 698.559 L1893.83 703.953 L1889.57 703.953 L1889.57 698.559 Z\" fill=\"#000000\" fill-rule=\"evenodd\" fill-opacity=\"1\" /><path clip-path=\"url(#clip670)\" d=\"M1924.29 718.929 L1924.29 734.578 L1920.03 734.578 L1920.03 719.068 Q1920.03 715.388 1918.59 713.559 Q1917.16 711.73 1914.29 711.73 Q1910.84 711.73 1908.85 713.93 Q1906.86 716.129 1906.86 719.925 L1906.86 734.578 L1902.58 734.578 L1902.58 708.652 L1906.86 708.652 L1906.86 712.68 Q1908.39 710.342 1910.45 709.184 Q1912.53 708.027 1915.24 708.027 Q1919.71 708.027 1922 710.805 Q1924.29 713.559 1924.29 718.929 Z\" fill=\"#000000\" fill-rule=\"evenodd\" fill-opacity=\"1\" /><path clip-path=\"url(#clip670)\" d=\"M1937 701.291 L1937 708.652 L1945.77 708.652 L1945.77 711.962 L1937 711.962 L1937 726.036 Q1937 729.207 1937.85 730.11 Q1938.73 731.013 1941.4 731.013 L1945.77 731.013 L1945.77 734.578 L1941.4 734.578 Q1936.46 734.578 1934.59 732.749 Q1932.71 730.897 1932.71 726.036 L1932.71 711.962 L1929.59 711.962 L1929.59 708.652 L1932.71 708.652 L1932.71 701.291 L1937 701.291 Z\" fill=\"#000000\" fill-rule=\"evenodd\" fill-opacity=\"1\" /><path clip-path=\"url(#clip670)\" d=\"M1973.55 720.55 L1973.55 722.633 L1953.96 722.633 Q1954.24 727.031 1956.6 729.346 Q1958.99 731.638 1963.22 731.638 Q1965.68 731.638 1967.97 731.036 Q1970.28 730.434 1972.55 729.23 L1972.55 733.258 Q1970.26 734.23 1967.85 734.74 Q1965.45 735.249 1962.97 735.249 Q1956.77 735.249 1953.13 731.638 Q1949.52 728.027 1949.52 721.869 Q1949.52 715.504 1952.95 711.777 Q1956.4 708.027 1962.23 708.027 Q1967.46 708.027 1970.49 711.406 Q1973.55 714.763 1973.55 720.55 M1969.29 719.3 Q1969.24 715.805 1967.32 713.721 Q1965.42 711.638 1962.27 711.638 Q1958.71 711.638 1956.56 713.652 Q1954.43 715.666 1954.1 719.323 L1969.29 719.3 Z\" fill=\"#000000\" fill-rule=\"evenodd\" fill-opacity=\"1\" /><path clip-path=\"url(#clip670)\" d=\"M1995.56 712.633 Q1994.84 712.217 1993.99 712.031 Q1993.15 711.823 1992.14 711.823 Q1988.52 711.823 1986.58 714.184 Q1984.66 716.522 1984.66 720.92 L1984.66 734.578 L1980.38 734.578 L1980.38 708.652 L1984.66 708.652 L1984.66 712.68 Q1986 710.318 1988.15 709.184 Q1990.31 708.027 1993.39 708.027 Q1993.83 708.027 1994.36 708.096 Q1994.89 708.143 1995.54 708.258 L1995.56 712.633 Z\" fill=\"#000000\" fill-rule=\"evenodd\" fill-opacity=\"1\" /><path clip-path=\"url(#clip670)\" d=\"M2013.15 698.559 L2013.15 702.101 L2009.08 702.101 Q2006.79 702.101 2005.89 703.027 Q2005.01 703.953 2005.01 706.36 L2005.01 708.652 L2012.02 708.652 L2012.02 711.962 L2005.01 711.962 L2005.01 734.578 L2000.72 734.578 L2000.72 711.962 L1996.65 711.962 L1996.65 708.652 L2000.72 708.652 L2000.72 706.846 Q2000.72 702.518 2002.74 700.55 Q2004.75 698.559 2009.13 698.559 L2013.15 698.559 Z\" fill=\"#000000\" fill-rule=\"evenodd\" fill-opacity=\"1\" /><path clip-path=\"url(#clip670)\" d=\"M2038.89 720.55 L2038.89 722.633 L2019.31 722.633 Q2019.59 727.031 2021.95 729.346 Q2024.33 731.638 2028.57 731.638 Q2031.02 731.638 2033.32 731.036 Q2035.63 730.434 2037.9 729.23 L2037.9 733.258 Q2035.61 734.23 2033.2 734.74 Q2030.79 735.249 2028.32 735.249 Q2022.11 735.249 2018.48 731.638 Q2014.87 728.027 2014.87 721.869 Q2014.87 715.504 2018.29 711.777 Q2021.74 708.027 2027.58 708.027 Q2032.81 708.027 2035.84 711.406 Q2038.89 714.763 2038.89 720.55 M2034.64 719.3 Q2034.59 715.805 2032.67 713.721 Q2030.77 711.638 2027.62 711.638 Q2024.06 711.638 2021.9 713.652 Q2019.77 715.666 2019.45 719.323 L2034.64 719.3 Z\" fill=\"#000000\" fill-rule=\"evenodd\" fill-opacity=\"1\" /><path clip-path=\"url(#clip670)\" d=\"M2060.91 712.633 Q2060.19 712.217 2059.33 712.031 Q2058.5 711.823 2057.48 711.823 Q2053.87 711.823 2051.93 714.184 Q2050.01 716.522 2050.01 720.92 L2050.01 734.578 L2045.72 734.578 L2045.72 708.652 L2050.01 708.652 L2050.01 712.68 Q2051.35 710.318 2053.5 709.184 Q2055.65 708.027 2058.73 708.027 Q2059.17 708.027 2059.7 708.096 Q2060.24 708.143 2060.89 708.258 L2060.91 712.633 Z\" fill=\"#000000\" fill-rule=\"evenodd\" fill-opacity=\"1\" /><path clip-path=\"url(#clip670)\" d=\"M2086.51 720.55 L2086.51 722.633 L2066.93 722.633 Q2067.2 727.031 2069.57 729.346 Q2071.95 731.638 2076.19 731.638 Q2078.64 731.638 2080.93 731.036 Q2083.25 730.434 2085.52 729.23 L2085.52 733.258 Q2083.22 734.23 2080.82 734.74 Q2078.41 735.249 2075.93 735.249 Q2069.73 735.249 2066.09 731.638 Q2062.48 728.027 2062.48 721.869 Q2062.48 715.504 2065.91 711.777 Q2069.36 708.027 2075.19 708.027 Q2080.42 708.027 2083.45 711.406 Q2086.51 714.763 2086.51 720.55 M2082.25 719.3 Q2082.2 715.805 2080.28 713.721 Q2078.39 711.638 2075.24 711.638 Q2071.67 711.638 2069.52 713.652 Q2067.39 715.666 2067.07 719.323 L2082.25 719.3 Z\" fill=\"#000000\" fill-rule=\"evenodd\" fill-opacity=\"1\" /><path clip-path=\"url(#clip670)\" d=\"M2115.05 718.929 L2115.05 734.578 L2110.79 734.578 L2110.79 719.068 Q2110.79 715.388 2109.36 713.559 Q2107.92 711.73 2105.05 711.73 Q2101.6 711.73 2099.61 713.93 Q2097.62 716.129 2097.62 719.925 L2097.62 734.578 L2093.34 734.578 L2093.34 708.652 L2097.62 708.652 L2097.62 712.68 Q2099.15 710.342 2101.21 709.184 Q2103.29 708.027 2106 708.027 Q2110.47 708.027 2112.76 710.805 Q2115.05 713.559 2115.05 718.929 Z\" fill=\"#000000\" fill-rule=\"evenodd\" fill-opacity=\"1\" /><path clip-path=\"url(#clip670)\" d=\"M2142.2 709.647 L2142.2 713.629 Q2140.4 712.633 2138.57 712.147 Q2136.76 711.638 2134.91 711.638 Q2130.77 711.638 2128.48 714.277 Q2126.19 716.892 2126.19 721.638 Q2126.19 726.383 2128.48 729.022 Q2130.77 731.638 2134.91 731.638 Q2136.76 731.638 2138.57 731.152 Q2140.4 730.642 2142.2 729.647 L2142.2 733.582 Q2140.42 734.416 2138.5 734.832 Q2136.6 735.249 2134.45 735.249 Q2128.59 735.249 2125.14 731.568 Q2121.7 727.888 2121.7 721.638 Q2121.7 715.295 2125.17 711.661 Q2128.66 708.027 2134.73 708.027 Q2136.7 708.027 2138.57 708.443 Q2140.45 708.837 2142.2 709.647 Z\" fill=\"#000000\" fill-rule=\"evenodd\" fill-opacity=\"1\" /><path clip-path=\"url(#clip670)\" d=\"M2149.61 708.652 L2153.87 708.652 L2153.87 734.578 L2149.61 734.578 L2149.61 708.652 M2149.61 698.559 L2153.87 698.559 L2153.87 703.953 L2149.61 703.953 L2149.61 698.559 Z\" fill=\"#000000\" fill-rule=\"evenodd\" fill-opacity=\"1\" /><path clip-path=\"url(#clip670)\" d=\"M2174.57 721.545 Q2169.4 721.545 2167.41 722.726 Q2165.42 723.906 2165.42 726.754 Q2165.42 729.022 2166.9 730.365 Q2168.41 731.684 2170.98 731.684 Q2174.52 731.684 2176.65 729.184 Q2178.8 726.661 2178.8 722.494 L2178.8 721.545 L2174.57 721.545 M2183.06 719.786 L2183.06 734.578 L2178.8 734.578 L2178.8 730.642 Q2177.34 733.003 2175.17 734.138 Q2172.99 735.249 2169.84 735.249 Q2165.86 735.249 2163.5 733.027 Q2161.16 730.781 2161.16 727.031 Q2161.16 722.656 2164.08 720.434 Q2167.02 718.212 2172.83 718.212 L2178.8 718.212 L2178.8 717.795 Q2178.8 714.855 2176.86 713.258 Q2174.94 711.638 2171.44 711.638 Q2169.22 711.638 2167.11 712.17 Q2165.01 712.703 2163.06 713.767 L2163.06 709.832 Q2165.4 708.93 2167.6 708.49 Q2169.8 708.027 2171.88 708.027 Q2177.51 708.027 2180.28 710.943 Q2183.06 713.86 2183.06 719.786 Z\" fill=\"#000000\" fill-rule=\"evenodd\" fill-opacity=\"1\" /><polyline clip-path=\"url(#clip670)\" style=\"stroke:#608cf6; stroke-linecap:round; stroke-linejoin:round; stroke-width:4; stroke-opacity:1; fill:none\" points=\"\n  1500.08,769.138 1647.12,769.138 \n  \"/>\n<path clip-path=\"url(#clip670)\" d=\"M1676.3 755.7 L1676.3 768.686 L1682.18 768.686 Q1685.45 768.686 1687.23 766.996 Q1689.01 765.307 1689.01 762.182 Q1689.01 759.08 1687.23 757.39 Q1685.45 755.7 1682.18 755.7 L1676.3 755.7 M1671.63 751.858 L1682.18 751.858 Q1687.99 751.858 1690.96 754.496 Q1693.94 757.112 1693.94 762.182 Q1693.94 767.297 1690.96 769.913 Q1687.99 772.529 1682.18 772.529 L1676.3 772.529 L1676.3 786.418 L1671.63 786.418 L1671.63 751.858 Z\" fill=\"#000000\" fill-rule=\"evenodd\" fill-opacity=\"1\" /><path clip-path=\"url(#clip670)\" d=\"M1708.39 763.478 Q1704.96 763.478 1702.97 766.163 Q1700.98 768.825 1700.98 773.478 Q1700.98 778.131 1702.95 780.816 Q1704.94 783.478 1708.39 783.478 Q1711.79 783.478 1713.78 780.793 Q1715.77 778.107 1715.77 773.478 Q1715.77 768.871 1713.78 766.186 Q1711.79 763.478 1708.39 763.478 M1708.39 759.867 Q1713.94 759.867 1717.11 763.478 Q1720.29 767.089 1720.29 773.478 Q1720.29 779.844 1717.11 783.478 Q1713.94 787.089 1708.39 787.089 Q1702.81 787.089 1699.64 783.478 Q1696.49 779.844 1696.49 773.478 Q1696.49 767.089 1699.64 763.478 Q1702.81 759.867 1708.39 759.867 Z\" fill=\"#000000\" fill-rule=\"evenodd\" fill-opacity=\"1\" /><path clip-path=\"url(#clip670)\" d=\"M1727.35 750.399 L1731.6 750.399 L1731.6 786.418 L1727.35 786.418 L1727.35 750.399 Z\" fill=\"#000000\" fill-rule=\"evenodd\" fill-opacity=\"1\" /><path clip-path=\"url(#clip670)\" d=\"M1740.52 760.492 L1744.78 760.492 L1744.78 786.418 L1740.52 786.418 L1740.52 760.492 M1740.52 750.399 L1744.78 750.399 L1744.78 755.793 L1740.52 755.793 L1740.52 750.399 Z\" fill=\"#000000\" fill-rule=\"evenodd\" fill-opacity=\"1\" /><path clip-path=\"url(#clip670)\" d=\"M1770.75 773.154 Q1770.75 768.524 1768.83 765.978 Q1766.93 763.432 1763.48 763.432 Q1760.05 763.432 1758.13 765.978 Q1756.23 768.524 1756.23 773.154 Q1756.23 777.76 1758.13 780.306 Q1760.05 782.853 1763.48 782.853 Q1766.93 782.853 1768.83 780.306 Q1770.75 777.76 1770.75 773.154 M1775.01 783.2 Q1775.01 789.82 1772.07 793.038 Q1769.13 796.279 1763.06 796.279 Q1760.82 796.279 1758.83 795.931 Q1756.84 795.607 1754.96 794.913 L1754.96 790.769 Q1756.84 791.788 1758.66 792.274 Q1760.49 792.76 1762.39 792.76 Q1766.58 792.76 1768.66 790.561 Q1770.75 788.385 1770.75 783.964 L1770.75 781.857 Q1769.43 784.149 1767.37 785.283 Q1765.31 786.418 1762.44 786.418 Q1757.67 786.418 1754.75 782.783 Q1751.84 779.149 1751.84 773.154 Q1751.84 767.135 1754.75 763.501 Q1757.67 759.867 1762.44 759.867 Q1765.31 759.867 1767.37 761.001 Q1769.43 762.135 1770.75 764.427 L1770.75 760.492 L1775.01 760.492 L1775.01 783.2 Z\" fill=\"#000000\" fill-rule=\"evenodd\" fill-opacity=\"1\" /><path clip-path=\"url(#clip670)\" d=\"M1793.83 763.478 Q1790.4 763.478 1788.41 766.163 Q1786.42 768.825 1786.42 773.478 Q1786.42 778.131 1788.39 780.816 Q1790.38 783.478 1793.83 783.478 Q1797.23 783.478 1799.22 780.793 Q1801.21 778.107 1801.21 773.478 Q1801.21 768.871 1799.22 766.186 Q1797.23 763.478 1793.83 763.478 M1793.83 759.867 Q1799.38 759.867 1802.55 763.478 Q1805.72 767.089 1805.72 773.478 Q1805.72 779.844 1802.55 783.478 Q1799.38 787.089 1793.83 787.089 Q1788.25 787.089 1785.08 783.478 Q1781.93 779.844 1781.93 773.478 Q1781.93 767.089 1785.08 763.478 Q1788.25 759.867 1793.83 759.867 Z\" fill=\"#000000\" fill-rule=\"evenodd\" fill-opacity=\"1\" /><path clip-path=\"url(#clip670)\" d=\"M1834.34 770.769 L1834.34 786.418 L1830.08 786.418 L1830.08 770.908 Q1830.08 767.228 1828.64 765.399 Q1827.21 763.57 1824.34 763.57 Q1820.89 763.57 1818.9 765.77 Q1816.91 767.969 1816.91 771.765 L1816.91 786.418 L1812.62 786.418 L1812.62 760.492 L1816.91 760.492 L1816.91 764.52 Q1818.43 762.182 1820.49 761.024 Q1822.58 759.867 1825.28 759.867 Q1829.75 759.867 1832.04 762.645 Q1834.34 765.399 1834.34 770.769 Z\" fill=\"#000000\" fill-rule=\"evenodd\" fill-opacity=\"1\" /><path clip-path=\"url(#clip670)\" d=\"M1852.88 763.478 Q1849.45 763.478 1847.46 766.163 Q1845.47 768.825 1845.47 773.478 Q1845.47 778.131 1847.44 780.816 Q1849.43 783.478 1852.88 783.478 Q1856.28 783.478 1858.27 780.793 Q1860.26 778.107 1860.26 773.478 Q1860.26 768.871 1858.27 766.186 Q1856.28 763.478 1852.88 763.478 M1852.88 759.867 Q1858.43 759.867 1861.6 763.478 Q1864.78 767.089 1864.78 773.478 Q1864.78 779.844 1861.6 783.478 Q1858.43 787.089 1852.88 787.089 Q1847.3 787.089 1844.13 783.478 Q1840.98 779.844 1840.98 773.478 Q1840.98 767.089 1844.13 763.478 Q1847.3 759.867 1852.88 759.867 Z\" fill=\"#000000\" fill-rule=\"evenodd\" fill-opacity=\"1\" /><path clip-path=\"url(#clip670)\" d=\"M1903.97 764.427 L1903.97 750.399 L1908.22 750.399 L1908.22 786.418 L1903.97 786.418 L1903.97 782.529 Q1902.62 784.843 1900.56 785.978 Q1898.53 787.089 1895.65 787.089 Q1890.96 787.089 1887.99 783.339 Q1885.05 779.589 1885.05 773.478 Q1885.05 767.367 1887.99 763.617 Q1890.96 759.867 1895.65 759.867 Q1898.53 759.867 1900.56 761.001 Q1902.62 762.112 1903.97 764.427 M1889.45 773.478 Q1889.45 778.177 1891.37 780.862 Q1893.32 783.524 1896.7 783.524 Q1900.08 783.524 1902.02 780.862 Q1903.97 778.177 1903.97 773.478 Q1903.97 768.779 1902.02 766.117 Q1900.08 763.432 1896.7 763.432 Q1893.32 763.432 1891.37 766.117 Q1889.45 768.779 1889.45 773.478 Z\" fill=\"#000000\" fill-rule=\"evenodd\" fill-opacity=\"1\" /><path clip-path=\"url(#clip670)\" d=\"M1939.17 772.39 L1939.17 774.473 L1919.59 774.473 Q1919.87 778.871 1922.23 781.186 Q1924.61 783.478 1928.85 783.478 Q1931.3 783.478 1933.59 782.876 Q1935.91 782.274 1938.18 781.07 L1938.18 785.098 Q1935.89 786.07 1933.48 786.58 Q1931.07 787.089 1928.59 787.089 Q1922.39 787.089 1918.76 783.478 Q1915.15 779.867 1915.15 773.709 Q1915.15 767.344 1918.57 763.617 Q1922.02 759.867 1927.85 759.867 Q1933.09 759.867 1936.12 763.246 Q1939.17 766.603 1939.17 772.39 M1934.91 771.14 Q1934.87 767.645 1932.95 765.561 Q1931.05 763.478 1927.9 763.478 Q1924.34 763.478 1922.18 765.492 Q1920.05 767.506 1919.73 771.163 L1934.91 771.14 Z\" fill=\"#000000\" fill-rule=\"evenodd\" fill-opacity=\"1\" /><path clip-path=\"url(#clip670)\" d=\"M1961.23 760.492 L1965.49 760.492 L1965.49 786.418 L1961.23 786.418 L1961.23 760.492 M1961.23 750.399 L1965.49 750.399 L1965.49 755.793 L1961.23 755.793 L1961.23 750.399 Z\" fill=\"#000000\" fill-rule=\"evenodd\" fill-opacity=\"1\" /><path clip-path=\"url(#clip670)\" d=\"M1995.96 770.769 L1995.96 786.418 L1991.7 786.418 L1991.7 770.908 Q1991.7 767.228 1990.26 765.399 Q1988.83 763.57 1985.96 763.57 Q1982.51 763.57 1980.52 765.77 Q1978.52 767.969 1978.52 771.765 L1978.52 786.418 L1974.24 786.418 L1974.24 760.492 L1978.52 760.492 L1978.52 764.52 Q1980.05 762.182 1982.11 761.024 Q1984.2 759.867 1986.9 759.867 Q1991.37 759.867 1993.66 762.645 Q1995.96 765.399 1995.96 770.769 Z\" fill=\"#000000\" fill-rule=\"evenodd\" fill-opacity=\"1\" /><path clip-path=\"url(#clip670)\" d=\"M2008.66 753.131 L2008.66 760.492 L2017.44 760.492 L2017.44 763.802 L2008.66 763.802 L2008.66 777.876 Q2008.66 781.047 2009.52 781.95 Q2010.4 782.853 2013.06 782.853 L2017.44 782.853 L2017.44 786.418 L2013.06 786.418 Q2008.13 786.418 2006.26 784.589 Q2004.38 782.737 2004.38 777.876 L2004.38 763.802 L2001.26 763.802 L2001.26 760.492 L2004.38 760.492 L2004.38 753.131 L2008.66 753.131 Z\" fill=\"#000000\" fill-rule=\"evenodd\" fill-opacity=\"1\" /><path clip-path=\"url(#clip670)\" d=\"M2045.21 772.39 L2045.21 774.473 L2025.63 774.473 Q2025.91 778.871 2028.27 781.186 Q2030.65 783.478 2034.89 783.478 Q2037.34 783.478 2039.64 782.876 Q2041.95 782.274 2044.22 781.07 L2044.22 785.098 Q2041.93 786.07 2039.52 786.58 Q2037.11 787.089 2034.64 787.089 Q2028.43 787.089 2024.8 783.478 Q2021.19 779.867 2021.19 773.709 Q2021.19 767.344 2024.61 763.617 Q2028.06 759.867 2033.89 759.867 Q2039.13 759.867 2042.16 763.246 Q2045.21 766.603 2045.21 772.39 M2040.96 771.14 Q2040.91 767.645 2038.99 765.561 Q2037.09 763.478 2033.94 763.478 Q2030.38 763.478 2028.22 765.492 Q2026.09 767.506 2025.77 771.163 L2040.96 771.14 Z\" fill=\"#000000\" fill-rule=\"evenodd\" fill-opacity=\"1\" /><path clip-path=\"url(#clip670)\" d=\"M2067.23 764.473 Q2066.51 764.057 2065.65 763.871 Q2064.82 763.663 2063.8 763.663 Q2060.19 763.663 2058.25 766.024 Q2056.33 768.362 2056.33 772.76 L2056.33 786.418 L2052.04 786.418 L2052.04 760.492 L2056.33 760.492 L2056.33 764.52 Q2057.67 762.158 2059.82 761.024 Q2061.97 759.867 2065.05 759.867 Q2065.49 759.867 2066.02 759.936 Q2066.56 759.983 2067.2 760.098 L2067.23 764.473 Z\" fill=\"#000000\" fill-rule=\"evenodd\" fill-opacity=\"1\" /><path clip-path=\"url(#clip670)\" d=\"M2084.82 750.399 L2084.82 753.941 L2080.75 753.941 Q2078.45 753.941 2077.55 754.867 Q2076.67 755.793 2076.67 758.2 L2076.67 760.492 L2083.69 760.492 L2083.69 763.802 L2076.67 763.802 L2076.67 786.418 L2072.39 786.418 L2072.39 763.802 L2068.32 763.802 L2068.32 760.492 L2072.39 760.492 L2072.39 758.686 Q2072.39 754.358 2074.4 752.39 Q2076.42 750.399 2080.79 750.399 L2084.82 750.399 Z\" fill=\"#000000\" fill-rule=\"evenodd\" fill-opacity=\"1\" /><path clip-path=\"url(#clip670)\" d=\"M2110.56 772.39 L2110.56 774.473 L2090.98 774.473 Q2091.26 778.871 2093.62 781.186 Q2096 783.478 2100.24 783.478 Q2102.69 783.478 2104.98 782.876 Q2107.3 782.274 2109.57 781.07 L2109.57 785.098 Q2107.27 786.07 2104.87 786.58 Q2102.46 787.089 2099.98 787.089 Q2093.78 787.089 2090.14 783.478 Q2086.53 779.867 2086.53 773.709 Q2086.53 767.344 2089.96 763.617 Q2093.41 759.867 2099.24 759.867 Q2104.47 759.867 2107.51 763.246 Q2110.56 766.603 2110.56 772.39 M2106.3 771.14 Q2106.26 767.645 2104.33 765.561 Q2102.44 763.478 2099.29 763.478 Q2095.72 763.478 2093.57 765.492 Q2091.44 767.506 2091.12 771.163 L2106.3 771.14 Z\" fill=\"#000000\" fill-rule=\"evenodd\" fill-opacity=\"1\" /><path clip-path=\"url(#clip670)\" d=\"M2132.57 764.473 Q2131.86 764.057 2131 763.871 Q2130.17 763.663 2129.15 763.663 Q2125.54 763.663 2123.59 766.024 Q2121.67 768.362 2121.67 772.76 L2121.67 786.418 L2117.39 786.418 L2117.39 760.492 L2121.67 760.492 L2121.67 764.52 Q2123.01 762.158 2125.17 761.024 Q2127.32 759.867 2130.4 759.867 Q2130.84 759.867 2131.37 759.936 Q2131.9 759.983 2132.55 760.098 L2132.57 764.473 Z\" fill=\"#000000\" fill-rule=\"evenodd\" fill-opacity=\"1\" /><path clip-path=\"url(#clip670)\" d=\"M2158.18 772.39 L2158.18 774.473 L2138.59 774.473 Q2138.87 778.871 2141.23 781.186 Q2143.62 783.478 2147.85 783.478 Q2150.31 783.478 2152.6 782.876 Q2154.91 782.274 2157.18 781.07 L2157.18 785.098 Q2154.89 786.07 2152.48 786.58 Q2150.07 787.089 2147.6 787.089 Q2141.39 787.089 2137.76 783.478 Q2134.15 779.867 2134.15 773.709 Q2134.15 767.344 2137.57 763.617 Q2141.02 759.867 2146.86 759.867 Q2152.09 759.867 2155.12 763.246 Q2158.18 766.603 2158.18 772.39 M2153.92 771.14 Q2153.87 767.645 2151.95 765.561 Q2150.05 763.478 2146.9 763.478 Q2143.34 763.478 2141.19 765.492 Q2139.06 767.506 2138.73 771.163 L2153.92 771.14 Z\" fill=\"#000000\" fill-rule=\"evenodd\" fill-opacity=\"1\" /><path clip-path=\"url(#clip670)\" d=\"M2186.72 770.769 L2186.72 786.418 L2182.46 786.418 L2182.46 770.908 Q2182.46 767.228 2181.02 765.399 Q2179.59 763.57 2176.72 763.57 Q2173.27 763.57 2171.28 765.77 Q2169.29 767.969 2169.29 771.765 L2169.29 786.418 L2165.01 786.418 L2165.01 760.492 L2169.29 760.492 L2169.29 764.52 Q2170.82 762.182 2172.88 761.024 Q2174.96 759.867 2177.67 759.867 Q2182.13 759.867 2184.43 762.645 Q2186.72 765.399 2186.72 770.769 Z\" fill=\"#000000\" fill-rule=\"evenodd\" fill-opacity=\"1\" /><path clip-path=\"url(#clip670)\" d=\"M2213.87 761.487 L2213.87 765.469 Q2212.07 764.473 2210.24 763.987 Q2208.43 763.478 2206.58 763.478 Q2202.44 763.478 2200.14 766.117 Q2197.85 768.732 2197.85 773.478 Q2197.85 778.223 2200.14 780.862 Q2202.44 783.478 2206.58 783.478 Q2208.43 783.478 2210.24 782.992 Q2212.07 782.482 2213.87 781.487 L2213.87 785.422 Q2212.09 786.256 2210.17 786.672 Q2208.27 787.089 2206.12 787.089 Q2200.26 787.089 2196.81 783.408 Q2193.36 779.728 2193.36 773.478 Q2193.36 767.135 2196.83 763.501 Q2200.33 759.867 2206.39 759.867 Q2208.36 759.867 2210.24 760.283 Q2212.11 760.677 2213.87 761.487 Z\" fill=\"#000000\" fill-rule=\"evenodd\" fill-opacity=\"1\" /><path clip-path=\"url(#clip670)\" d=\"M2221.28 760.492 L2225.54 760.492 L2225.54 786.418 L2221.28 786.418 L2221.28 760.492 M2221.28 750.399 L2225.54 750.399 L2225.54 755.793 L2221.28 755.793 L2221.28 750.399 Z\" fill=\"#000000\" fill-rule=\"evenodd\" fill-opacity=\"1\" /><path clip-path=\"url(#clip670)\" d=\"M2246.23 773.385 Q2241.07 773.385 2239.08 774.566 Q2237.09 775.746 2237.09 778.594 Q2237.09 780.862 2238.57 782.205 Q2240.07 783.524 2242.64 783.524 Q2246.19 783.524 2248.32 781.024 Q2250.47 778.501 2250.47 774.334 L2250.47 773.385 L2246.23 773.385 M2254.73 771.626 L2254.73 786.418 L2250.47 786.418 L2250.47 782.482 Q2249.01 784.843 2246.83 785.978 Q2244.66 787.089 2241.51 787.089 Q2237.53 787.089 2235.17 784.867 Q2232.83 782.621 2232.83 778.871 Q2232.83 774.496 2235.75 772.274 Q2238.69 770.052 2244.5 770.052 L2250.47 770.052 L2250.47 769.635 Q2250.47 766.695 2248.52 765.098 Q2246.6 763.478 2243.11 763.478 Q2240.88 763.478 2238.78 764.01 Q2236.67 764.543 2234.73 765.607 L2234.73 761.672 Q2237.07 760.77 2239.26 760.33 Q2241.46 759.867 2243.55 759.867 Q2249.17 759.867 2251.95 762.783 Q2254.73 765.7 2254.73 771.626 Z\" fill=\"#000000\" fill-rule=\"evenodd\" fill-opacity=\"1\" /><circle clip-path=\"url(#clip670)\" cx=\"1573.6\" cy=\"820.978\" r=\"23.04\" fill=\"#f05f73\" fill-rule=\"evenodd\" fill-opacity=\"1\" stroke=\"#000000\" stroke-opacity=\"1\" stroke-width=\"5.12\"/>\n<path clip-path=\"url(#clip670)\" d=\"M1688.02 822.054 Q1689.52 822.563 1690.93 824.23 Q1692.37 825.897 1693.8 828.813 L1698.55 838.258 L1693.53 838.258 L1689.11 829.392 Q1687.39 825.92 1685.77 824.785 Q1684.17 823.651 1681.4 823.651 L1676.3 823.651 L1676.3 838.258 L1671.63 838.258 L1671.63 803.698 L1682.18 803.698 Q1688.11 803.698 1691.03 806.174 Q1693.94 808.651 1693.94 813.651 Q1693.94 816.915 1692.42 819.068 Q1690.91 821.221 1688.02 822.054 M1676.3 807.54 L1676.3 819.809 L1682.18 819.809 Q1685.56 819.809 1687.28 818.258 Q1689.01 816.684 1689.01 813.651 Q1689.01 810.619 1687.28 809.091 Q1685.56 807.54 1682.18 807.54 L1676.3 807.54 Z\" fill=\"#000000\" fill-rule=\"evenodd\" fill-opacity=\"1\" /><path clip-path=\"url(#clip670)\" d=\"M1712.3 815.318 Q1708.87 815.318 1706.88 818.003 Q1704.89 820.665 1704.89 825.318 Q1704.89 829.971 1706.86 832.656 Q1708.85 835.318 1712.3 835.318 Q1715.7 835.318 1717.69 832.633 Q1719.68 829.947 1719.68 825.318 Q1719.68 820.711 1717.69 818.026 Q1715.7 815.318 1712.3 815.318 M1712.3 811.707 Q1717.85 811.707 1721.03 815.318 Q1724.2 818.929 1724.2 825.318 Q1724.2 831.684 1721.03 835.318 Q1717.85 838.929 1712.3 838.929 Q1706.72 838.929 1703.55 835.318 Q1700.4 831.684 1700.4 825.318 Q1700.4 818.929 1703.55 815.318 Q1706.72 811.707 1712.3 811.707 Z\" fill=\"#000000\" fill-rule=\"evenodd\" fill-opacity=\"1\" /><path clip-path=\"url(#clip670)\" d=\"M1735.47 804.971 L1735.47 812.332 L1744.24 812.332 L1744.24 815.642 L1735.47 815.642 L1735.47 829.716 Q1735.47 832.887 1736.33 833.79 Q1737.21 834.693 1739.87 834.693 L1744.24 834.693 L1744.24 838.258 L1739.87 838.258 Q1734.94 838.258 1733.06 836.429 Q1731.19 834.577 1731.19 829.716 L1731.19 815.642 L1728.06 815.642 L1728.06 812.332 L1731.19 812.332 L1731.19 804.971 L1735.47 804.971 Z\" fill=\"#000000\" fill-rule=\"evenodd\" fill-opacity=\"1\" /><path clip-path=\"url(#clip670)\" d=\"M1772.02 824.23 L1772.02 826.313 L1752.44 826.313 Q1752.72 830.711 1755.08 833.026 Q1757.46 835.318 1761.7 835.318 Q1764.15 835.318 1766.44 834.716 Q1768.76 834.114 1771.03 832.91 L1771.03 836.938 Q1768.73 837.91 1766.33 838.42 Q1763.92 838.929 1761.44 838.929 Q1755.24 838.929 1751.6 835.318 Q1747.99 831.707 1747.99 825.549 Q1747.99 819.184 1751.42 815.457 Q1754.87 811.707 1760.7 811.707 Q1765.93 811.707 1768.97 815.086 Q1772.02 818.443 1772.02 824.23 M1767.76 822.98 Q1767.72 819.485 1765.79 817.401 Q1763.9 815.318 1760.75 815.318 Q1757.18 815.318 1755.03 817.332 Q1752.9 819.346 1752.58 823.003 L1767.76 822.98 Z\" fill=\"#000000\" fill-rule=\"evenodd\" fill-opacity=\"1\" /><path clip-path=\"url(#clip670)\" d=\"M1790.79 825.225 Q1785.63 825.225 1783.64 826.406 Q1781.65 827.586 1781.65 830.434 Q1781.65 832.702 1783.13 834.045 Q1784.64 835.364 1787.21 835.364 Q1790.75 835.364 1792.88 832.864 Q1795.03 830.341 1795.03 826.174 L1795.03 825.225 L1790.79 825.225 M1799.29 823.466 L1799.29 838.258 L1795.03 838.258 L1795.03 834.322 Q1793.57 836.683 1791.4 837.818 Q1789.22 838.929 1786.07 838.929 Q1782.09 838.929 1779.73 836.707 Q1777.39 834.461 1777.39 830.711 Q1777.39 826.336 1780.31 824.114 Q1783.25 821.892 1789.06 821.892 L1795.03 821.892 L1795.03 821.475 Q1795.03 818.535 1793.09 816.938 Q1791.16 815.318 1787.67 815.318 Q1785.45 815.318 1783.34 815.85 Q1781.23 816.383 1779.29 817.447 L1779.29 813.512 Q1781.63 812.61 1783.83 812.17 Q1786.03 811.707 1788.11 811.707 Q1793.73 811.707 1796.51 814.623 Q1799.29 817.54 1799.29 823.466 Z\" fill=\"#000000\" fill-rule=\"evenodd\" fill-opacity=\"1\" /><path clip-path=\"url(#clip670)\" d=\"M1825.12 816.267 L1825.12 802.239 L1829.38 802.239 L1829.38 838.258 L1825.12 838.258 L1825.12 834.369 Q1823.78 836.683 1821.72 837.818 Q1819.68 838.929 1816.81 838.929 Q1812.11 838.929 1809.15 835.179 Q1806.21 831.429 1806.21 825.318 Q1806.21 819.207 1809.15 815.457 Q1812.11 811.707 1816.81 811.707 Q1819.68 811.707 1821.72 812.841 Q1823.78 813.952 1825.12 816.267 M1810.61 825.318 Q1810.61 830.017 1812.53 832.702 Q1814.47 835.364 1817.85 835.364 Q1821.23 835.364 1823.18 832.702 Q1825.12 830.017 1825.12 825.318 Q1825.12 820.619 1823.18 817.957 Q1821.23 815.272 1817.85 815.272 Q1814.47 815.272 1812.53 817.957 Q1810.61 820.619 1810.61 825.318 Z\" fill=\"#000000\" fill-rule=\"evenodd\" fill-opacity=\"1\" /><path clip-path=\"url(#clip670)\" d=\"M1848.2 815.318 Q1844.78 815.318 1842.78 818.003 Q1840.79 820.665 1840.79 825.318 Q1840.79 829.971 1842.76 832.656 Q1844.75 835.318 1848.2 835.318 Q1851.6 835.318 1853.59 832.633 Q1855.59 829.947 1855.59 825.318 Q1855.59 820.711 1853.59 818.026 Q1851.6 815.318 1848.2 815.318 M1848.2 811.707 Q1853.76 811.707 1856.93 815.318 Q1860.1 818.929 1860.1 825.318 Q1860.1 831.684 1856.93 835.318 Q1853.76 838.929 1848.2 838.929 Q1842.62 838.929 1839.45 835.318 Q1836.3 831.684 1836.3 825.318 Q1836.3 818.929 1839.45 815.318 Q1842.62 811.707 1848.2 811.707 Z\" fill=\"#000000\" fill-rule=\"evenodd\" fill-opacity=\"1\" /><path clip-path=\"url(#clip670)\" d=\"M1882.18 816.313 Q1881.47 815.897 1880.61 815.711 Q1879.78 815.503 1878.76 815.503 Q1875.15 815.503 1873.2 817.864 Q1871.28 820.202 1871.28 824.6 L1871.28 838.258 L1867 838.258 L1867 812.332 L1871.28 812.332 L1871.28 816.36 Q1872.62 813.998 1874.78 812.864 Q1876.93 811.707 1880.01 811.707 Q1880.45 811.707 1880.98 811.776 Q1881.51 811.823 1882.16 811.938 L1882.18 816.313 Z\" fill=\"#000000\" fill-rule=\"evenodd\" fill-opacity=\"1\" /><circle clip-path=\"url(#clip670)\" cx=\"1573.6\" cy=\"872.818\" r=\"23.04\" fill=\"#dd64b5\" fill-rule=\"evenodd\" fill-opacity=\"1\" stroke=\"#000000\" stroke-opacity=\"1\" stroke-width=\"5.12\"/>\n<path clip-path=\"url(#clip670)\" d=\"M1675.91 886.209 L1675.91 899.959 L1671.63 899.959 L1671.63 864.172 L1675.91 864.172 L1675.91 868.107 Q1677.25 865.792 1679.29 864.681 Q1681.35 863.547 1684.2 863.547 Q1688.92 863.547 1691.86 867.297 Q1694.82 871.047 1694.82 877.158 Q1694.82 883.269 1691.86 887.019 Q1688.92 890.769 1684.2 890.769 Q1681.35 890.769 1679.29 889.658 Q1677.25 888.523 1675.91 886.209 M1690.4 877.158 Q1690.4 872.459 1688.46 869.797 Q1686.54 867.112 1683.16 867.112 Q1679.78 867.112 1677.83 869.797 Q1675.91 872.459 1675.91 877.158 Q1675.91 881.857 1677.83 884.542 Q1679.78 887.204 1683.16 887.204 Q1686.54 887.204 1688.46 884.542 Q1690.4 881.857 1690.4 877.158 Z\" fill=\"#000000\" fill-rule=\"evenodd\" fill-opacity=\"1\" /><path clip-path=\"url(#clip670)\" d=\"M1716.91 868.153 Q1716.19 867.737 1715.33 867.551 Q1714.5 867.343 1713.48 867.343 Q1709.87 867.343 1707.92 869.704 Q1706 872.042 1706 876.44 L1706 890.098 L1701.72 890.098 L1701.72 864.172 L1706 864.172 L1706 868.2 Q1707.35 865.838 1709.5 864.704 Q1711.65 863.547 1714.73 863.547 Q1715.17 863.547 1715.7 863.616 Q1716.23 863.663 1716.88 863.778 L1716.91 868.153 Z\" fill=\"#000000\" fill-rule=\"evenodd\" fill-opacity=\"1\" /><path clip-path=\"url(#clip670)\" d=\"M1730.38 867.158 Q1726.95 867.158 1724.96 869.843 Q1722.97 872.505 1722.97 877.158 Q1722.97 881.811 1724.94 884.496 Q1726.93 887.158 1730.38 887.158 Q1733.78 887.158 1735.77 884.473 Q1737.76 881.787 1737.76 877.158 Q1737.76 872.551 1735.77 869.866 Q1733.78 867.158 1730.38 867.158 M1730.38 863.547 Q1735.93 863.547 1739.1 867.158 Q1742.28 870.769 1742.28 877.158 Q1742.28 883.524 1739.1 887.158 Q1735.93 890.769 1730.38 890.769 Q1724.8 890.769 1721.63 887.158 Q1718.48 883.524 1718.48 877.158 Q1718.48 870.769 1721.63 867.158 Q1724.8 863.547 1730.38 863.547 Z\" fill=\"#000000\" fill-rule=\"evenodd\" fill-opacity=\"1\" /><path clip-path=\"url(#clip670)\" d=\"M1749.34 864.172 L1753.6 864.172 L1753.6 890.561 Q1753.6 895.514 1751.7 897.736 Q1749.82 899.959 1745.63 899.959 L1744.01 899.959 L1744.01 896.348 L1745.15 896.348 Q1747.58 896.348 1748.46 895.213 Q1749.34 894.102 1749.34 890.561 L1749.34 864.172 M1749.34 854.079 L1753.6 854.079 L1753.6 859.473 L1749.34 859.473 L1749.34 854.079 Z\" fill=\"#000000\" fill-rule=\"evenodd\" fill-opacity=\"1\" /><path clip-path=\"url(#clip670)\" d=\"M1763.92 886.162 L1771.56 886.162 L1771.56 859.797 L1763.25 861.463 L1763.25 857.204 L1771.51 855.538 L1776.19 855.538 L1776.19 886.162 L1783.83 886.162 L1783.83 890.098 L1763.92 890.098 L1763.92 886.162 Z\" fill=\"#000000\" fill-rule=\"evenodd\" fill-opacity=\"1\" /></svg>\n"
     },
     "execution_count": 58,
     "metadata": {},
     "output_type": "execute_result"
    }
   ],
   "source": [
    "using Plots\n",
    "function circleShape(x,y,r)\n",
    "    teta = LinRange(0,2*pi, 500)\n",
    "    x .+ r*sin.(teta), y .+ r*cos.(teta)\n",
    "end\n",
    "plot!(circleShape(JuMP.value.(x),JuMP.value.(y),5),label=\"Sinal\")\n",
    "for interferencia in interferencias\n",
    "    proj_1 = [(5*cos(atan(interferencia[1][2]/interferencia[1][1])))+JuMP.value.(x), (5*sin(atan(interferencia[1][2]/interferencia[1][1])))+JuMP.value.(y)] \n",
    "    proj_2 = [(5*cos(atan(interferencia[2][2]/interferencia[2][1])))+JuMP.value.(x), (5*sin(atan(interferencia[2][2]/interferencia[2][1])))+JuMP.value.(y)]\n",
    "    scatter!([proj_1[1],proj_2[1]],[proj_1[2],proj_2[2]],label=\"Projeção\")\n",
    "    plot!([JuMP.value.(x),proj_1[1]],[JuMP.value.(y),proj_1[2]], label=\"Linha de interferencia\")\n",
    "    plot!([JuMP.value.(x),proj_2[1]],[JuMP.value.(y),proj_2[2]], label=\"Linha de interferencia\")\n",
    "    plot!([interferencia[1][1],interferencia[2][1],proj_2[1],proj_1[1],interferencia[1][1]],[interferencia[1][2],interferencia[2][2],proj_2[2],proj_1[2],interferencia[1][2]],label=\"Poligono de interferencia\")\n",
    "end\n",
    "scatter!([JuMP.value.(x)],[JuMP.value.(y)], label=\"Roteador\")\n",
    "scatter!([6,-4],[3,1.36], label=\"proj1\")"
   ]
  },
  {
   "attachments": {},
   "cell_type": "markdown",
   "metadata": {
    "collapsed": true
   },
   "source": [
    "## 5. Conclusão ##\n",
    "\n",
    "Finalizando, podemos perceber que nosso projeto levou ao desenvolvimento de um mecânismo muito útil, tanto para profissionais de rede, quanto para clientes de operadoras que buscam a configuração que lhes dará o melhor funcionamento da rede em seu imóvel. Conseguimos determinar o melhor posicionamento possível para um roteador em um estabelecimento, considerando casos com e sem interferências ao sinal.\n",
    "\n",
    "Acreditamos que a direção à ser seguida para melhor desenvolvimento do trabalho seria a complexificar ainda mais nossos cenários. Até agora consideramos apenas fontes de interferência como barreiras metálicas e espelhos que barram o sinal, podemos, no futúro, levar em consideração interferências trazidas por outros sinais, como de aparelhos micro-ondas que atuam em bandas de frequências semelhantes aos de alguns roteadores, no caso de 2.4Ghz. Além disso podemos adicionar novos elementos como repetidores de sinais, dispositivos móveis conectados à rede, fazendo uma analise probabilista dos cômodos em que esses dispositivos se encontrariam na maior parte do tempo."
   ]
  },
  {
   "attachments": {},
   "cell_type": "markdown",
   "metadata": {},
   "source": [
    "## 6. Referências bibliográficas ##\n",
    "\n",
    "[Optimization Models and Methods for Planning Wireless Mesh Networks](https://www.researchgate.net/publication/220447584_Optimization_Models_and_Methods_for_Planning_Wireless_Mesh_Networks)\n",
    "\n",
    "[Redes Mesh](https://blog.intelbras.com.br/o-que-e-rede-mesh-e-quais-suas-vantagens/)\n",
    "\n",
    "[WLAN](https://pt.wikipedia.org/wiki/Rede_de_área_local_sem_fio)"
   ]
  }
 ],
 "metadata": {
  "@webio": {
   "lastCommId": null,
   "lastKernelId": null
  },
  "kernelspec": {
   "display_name": "Julia 1.8.0",
   "language": "julia",
   "name": "julia-1.8"
  },
  "language_info": {
   "file_extension": ".jl",
   "mimetype": "application/julia",
   "name": "julia",
   "version": "1.8.0"
  }
 },
 "nbformat": 4,
 "nbformat_minor": 1
}
