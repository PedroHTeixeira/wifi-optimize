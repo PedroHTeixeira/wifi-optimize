{
 "cells": [
  {
   "cell_type": "code",
   "execution_count": 103,
   "metadata": {},
   "outputs": [],
   "source": [
    "using JuMP\n"
   ]
  },
  {
   "cell_type": "code",
   "execution_count": 104,
   "metadata": {},
   "outputs": [
    {
     "name": "stderr",
     "output_type": "stream",
     "text": [
      "\u001b[32m\u001b[1m   Resolving\u001b[22m\u001b[39m package versions...\n",
      "\u001b[32m\u001b[1m  No Changes\u001b[22m\u001b[39m to `~/.julia/environments/v1.8/Project.toml`\n",
      "\u001b[32m\u001b[1m  No Changes\u001b[22m\u001b[39m to `~/.julia/environments/v1.8/Manifest.toml`\n"
     ]
    }
   ],
   "source": [
    "import Pkg\n",
    "Pkg.add(\"Ipopt\")"
   ]
  },
  {
   "attachments": {},
   "cell_type": "markdown",
   "metadata": {},
   "source": [
    "### COM361 &mdash; Introdução a Otimização &mdash; 2022, Prof. Amit ###\n",
    "\n",
    "# Otimização de Wifi #\n",
    "\n",
    "#### Pedro Henrique de Jesus Teixeira (pedroteixeir@poli.ufrj.br), Diego Nunes Gonçalves Freitas (diegongfreitas@poli.ufrj.br)\n",
    "\n",
    "*****\n",
    "\n",
    "### Índice\n",
    "\n",
    "1. [Introdução](#1.-Introdução)\n",
    "1. [Modelo Matemático](#2.-Modelo Mathemático)\n",
    "1. [Solução](#3.-Solução)\n",
    "1. [Resultados e Discussão](#4.-Resultados-e-discussão)\n",
    "  1. [Subseção Opcional](#4.A.-Acrescente-subseções-se-necessário)\n",
    "1. [Conclusão](#5.-Conclusão)\n",
    "1. [Referências bibliográficas] (#6.-Referências bibliográficas)"
   ]
  },
  {
   "cell_type": "markdown",
   "metadata": {
    "collapsed": true
   },
   "source": [
    "## 1. Introdução ##\n",
    "\n",
    "O projeto a ser apresentado ao longo desse relatório consiste em um mecânismo de otimização do posicionamento de um roteador wifi em um estabelecimento ou residência. Faremos isso porcurando o melhor ponto de instalação de um roteador objetivando a maximização da força do sinal que chega aos dispositivos conectados. \n",
    "\n",
    "É muito comum perceber cômodos de sua casa em que o sinal wifi chega muito enfraquecido ou simplesmente não chega, chamaremos essas regiões de Zonas Mortas. Denominamos de Zonas Críticas os cômodos nos quais há um dispositivo conectado a rede. Além de maximizar o sinal em cada dispositivo conectado precisamos, também, eliminar a possibilidade de formação de Zonas Mortas em Zonas Críticas. A complexidade dos cenários de teste do nosso algoritmo cresce gradualmente, conforme aumentamos a planta do imóvel e adicionamos fontes de interferência como espelhos, madeira, móveis metálicos, etc. \n",
    "\n",
    "O primeiro padrão de conexão wifi surgiu em 1997. Com o passar dos anos essa tecnologia se popularizou e, nos dias atuais, quase todo estabelecimento ou residência possui uma rede de internet via Wifi. Com a expansão dessa tecnologia suas qualidades e defeitos foram ficando mais evidentes. Um dos mais evidentes defeitos é a grande dependência do funcionamento ótimo da rede ao posicionamento do roteador wifi. Se mal posicionado em uma residência, o roteador pode acabar entregando, aos seus dispositivos conectados, porcentagens incrivelmente pequenas do sinal original. \n",
    "\n",
    "Nosso projeto tratará sobre redes [WLAN](https://pt.wikipedia.org/wiki/Rede_de_área_local_sem_fio), ou seja, redes de area local sem fio que usam ondas de rádio para fazer a conexão entre os dispositivos. Para fins de simplificação, os dados relacionados à perda de sinal ao longo da distância e por meio de interferências foram sintetizados e previamente estabelecidos.\n",
    "\n",
    "A partir desse ponto apresentaremos o desenvolvimento do projeto, começando pelo modelo matématico na seção 2. Em seguida, na seção 3, apresentamos nossa solução de otimização, desenvolvida em Julia 1.8.0, possível de ser rodada nesse notebook Jupyter. Na seção 4, evidenciamos nossos resultados para cada cenário, variando em graus de complexidade, através de plots simulando um ambiente de rede. Na seção 5, finalizamos a apresentação do projeto apresentando nossas conclusões acerca dos resultados obtidos e dos métodos utilizados, ressaltando aspectos passíveis de melhorias. Por fim, na seção 6, apresentamos as referencias biubliográficas utilizadas ao longo do desenvolvimento do projeto."
   ]
  },
  {
   "attachments": {},
   "cell_type": "markdown",
   "metadata": {},
   "source": [
    "## 2. Modelo matemático ##\n",
    "Para abordar melhor nosso problema representamos o ambiente do imóvel trabalhado como uma matriz $A_{mXn}$. Começaremos apresentando nossas variáveis\n",
    "de decisão. \n",
    "\n",
    "Denominamos $C_{ij}$, um posição da matriz em que há um dispositivo conectado a rede, sendo $c$ o número de dispositivos.\n",
    "\n",
    "Denominamos $R_{ij}$, uma posição da matriz em que há um roteador.\n",
    "\n",
    "O valor registrado em cada posição da matriz determinará o que esta presente naquele local da forma:\n",
    "$$\n",
    "a_{ij} = \n",
    "\\begin{cases}\n",
    "2, \\text{ caso haja um roteador naquele local}\\\\\n",
    "1, \\text{ caso haja um dispositivo conectato naquele local}\\\\\n",
    "0, \\text{ caso não haja nada relacionado a rede naquele local}\n",
    "\\end{cases}\n",
    "$$\n",
    "\n",
    "Sopomos então que, a distância $d$ entre um roteador e um dispositivo, dada por:\n",
    "$$\n",
    "d = R_{ij} - C_{ij}\n",
    "$$\n",
    "influencia linearmente na força $f_{ij}$ do sinal que chega ao dispositivo na posição ij, da seguinte forma.\n",
    "$$\n",
    "f_{ij} = 1 - 0.2d \n",
    "$$\n",
    "\n",
    "Primeiramente a posição de cada dispositivo sera dada aleatoriamente na matriz. \n",
    "\n",
    "Nosso objetivo será encontrar a posição para o roteador que maximize a soma das forças do sinal em cada dispositivo. \n",
    "\n",
    "Além disso, evitaremos grandes variações para a força do sinal em cada dispositivo, limitando o desvio padrão entre eles, sendo esse denominado $\\sigma_f$.\n",
    "\n",
    "Exemplificando o posicionamento ótimo de um roteador para um caso simples:\n",
    "$$\n",
    "\\begin{bmatrix}\n",
    "  1 & 0 & 0 & 2 & 0 & 0 & 1\\\\\n",
    "  0 & 0 & 0 & 0 & 0 & 0 & 0\\\\\n",
    "  0 & 0 & 0 & 0 & 0 & 0 & 0\\\\\n",
    "  0 & 0 & 0 & 0 & 0 & 0 & 0\\\\\n",
    "  0 & 0 & 0 & 0 & 0 & 0 & 0\\\\\n",
    "  0 & 0 & 0 & 0 & 0 & 0 & 0\\\\\n",
    "  0 & 0 & 0 & 0 & 0 & 0 & 0\n",
    "\\end{bmatrix}\n",
    "$$\n",
    "\n",
    "Dessa forma, nosso problema de otimização em forma padrão fica assim:\n",
    "$$\n",
    "\\begin{aligned}\n",
    "\\underset{x \\in \\mathbb{R^n}}{\\text{maximize}}\\qquad& \\sum_{k=0}^{c}{f_k(d)} \\\\\n",
    "\\text{sujeito a:}\\qquad& \\sigma_{f(d)} \\le 0,4\\\\\n",
    "& d > 0\n",
    "\\end{aligned}\n",
    "$$\n",
    "\n",
    "Vamos trabalhar ainda com casos em que há objetos no estabelecimento que causem interferência no sinal, gerando Zonas mortas. Para isso iremos alterar um pouco nosso cenário:\n",
    "\n",
    "$$\n",
    "a_{ij} = \n",
    "\\begin{cases}\n",
    "3, \\text{ caso haja uma fonte de interferência naquele local}\\\\\n",
    "2, \\text{ caso haja um roteador naquele local}\\\\\n",
    "1, \\text{ caso haja um dispositivo conectato naquele local}\\\\\n",
    "0, \\text{ caso não haja nada relacionado a rede naquele local}\n",
    "\\end{cases}\n",
    "$$\n",
    "\n",
    "Exemplificando, agora, o posicionamento ótimo de um roteador para um caso com interferência:\n",
    "\n",
    "Se mantivermos o roteador na mesma posição um dos dispositivos ficaria em uma zona morta\n",
    "$$\n",
    "\\begin{bmatrix}\n",
    "  1 & 0 & 0 & 2 & 3 & 0 & 1\\\\\n",
    "  0 & 0 & 0 & 0 & 3 & 0 & 0\\\\\n",
    "  0 & 0 & 0 & 0 & 0 & 0 & 0\\\\\n",
    "  0 & 0 & 0 & 0 & 0 & 0 & 0\\\\\n",
    "  0 & 0 & 0 & 0 & 0 & 0 & 0\\\\\n",
    "  0 & 0 & 0 & 0 & 0 & 0 & 0\\\\\n",
    "  0 & 0 & 0 & 0 & 0 & 0 & 0\n",
    "\\end{bmatrix}\n",
    "$$\n",
    "Para solucionar esse problema o roteador deve ser movido de forma a alterar a região de Zona morta, da seguinte forma:\n",
    "$$\n",
    "\\begin{bmatrix}\n",
    "  1 & 0 & 0 & 0 & 3 & 0 & 1\\\\\n",
    "  0 & 0 & 0 & 0 & 3 & 0 & 0\\\\\n",
    "  0 & 0 & 0 & 0 & 0 & 0 & 0\\\\\n",
    "  0 & 0 & 0 & 2 & 0 & 0 & 0\\\\\n",
    "  0 & 0 & 0 & 0 & 0 & 0 & 0\\\\\n",
    "  0 & 0 & 0 & 0 & 0 & 0 & 0\\\\\n",
    "  0 & 0 & 0 & 0 & 0 & 0 & 0\n",
    "\\end{bmatrix}\n",
    "$$\n",
    "\n",
    "Isso encerra o modelo matemático do nosso projeto. Em seguida apresentaremos nossa solução.\n",
    "\n"
   ]
  },
  {
   "attachments": {},
   "cell_type": "markdown",
   "metadata": {
    "collapsed": true
   },
   "source": [
    "## 3. Solução ##\n",
    "\n",
    "Nesta seção, coloque seu código em Julia + JuMP e resolva o problema proposto. Seu código deve ser limpo (não macarrônico!), de fácil leitura, bem comentado e anotado e deve compilar sem erros em Julia 1.x, x $\\geq 1$! Não valem códigos em outras linguagens. **Vou rodar seu código para avaliar seu projeto**. Sugiro a utilização de múltiplos blocos de códigos separados por blocos de texto (células Markdown) explicando as várias partes da sua solução. Sugiro também a resolução de várias versões do seu problema, com modelos e hipóteses diferentes.\n",
    "\n",
    "É permitido chamar pacotes externos, mas evite a utilização de bibliotecas exóticas (pois, em geral, não rodam em todas as versões de Julia, e terei que instalar a mesma versão que você usou, ou rodar na plataforma Google Colab, que gostaria de evitar)."
   ]
  },
  {
   "cell_type": "code",
   "execution_count": 9,
   "metadata": {},
   "outputs": [
    {
     "ename": "ErrorException",
     "evalue": "At /home/pedro/wifi-optimize/modelo_relatorio_projeto_2022.ipynb:6: `@NLparameter(m, dispositivos[1:10] == [[0, 0], [0, 4]])`: Parameter value is not a number.",
     "output_type": "error",
     "traceback": [
      "At /home/pedro/wifi-optimize/modelo_relatorio_projeto_2022.ipynb:6: `@NLparameter(m, dispositivos[1:10] == [[0, 0], [0, 4]])`: Parameter value is not a number.\n",
      "\n",
      "Stacktrace:\n",
      "  [1] error(::String, ::String)\n",
      "    @ Base ./error.jl:44\n",
      "  [2] _macro_error(macroname::Symbol, args::Tuple{Symbol, Expr}, source::LineNumberNode, str::String)\n",
      "    @ JuMP ~/.julia/packages/JuMP/vuP7I/src/macros.jl:1597\n",
      "  [3] (::JuMP.var\"#_error#141\"{LineNumberNode, Symbol, Tuple{Expr}})(str::String)\n",
      "    @ JuMP ~/.julia/packages/JuMP/vuP7I/src/macros.jl:2536\n",
      "  [4] macro expansion\n",
      "    @ ~/.julia/packages/JuMP/vuP7I/src/macros.jl:2577 [inlined]\n",
      "  [5] (::var\"#11#12\")(340::Int64)\n",
      "    @ Main ~/.julia/packages/JuMP/vuP7I/src/Containers/macro.jl:304\n",
      "  [6] (::JuMP.Containers.var\"#42#43\"{var\"#11#12\"})(I::Tuple{Int64})\n",
      "    @ JuMP.Containers ~/.julia/packages/JuMP/vuP7I/src/Containers/container.jl:81\n",
      "  [7] iterate\n",
      "    @ ./generator.jl:47 [inlined]\n",
      "  [8] collect(itr::Base.Generator{JuMP.Containers.VectorizedProductIterator{Tuple{Base.OneTo{Int64}}}, JuMP.Containers.var\"#42#43\"{var\"#11#12\"}})\n",
      "    @ Base ./array.jl:787\n",
      "  [9] map(f::Function, A::JuMP.Containers.VectorizedProductIterator{Tuple{Base.OneTo{Int64}}})\n",
      "    @ Base ./abstractarray.jl:2961\n",
      " [10] container\n",
      "    @ ~/.julia/packages/JuMP/vuP7I/src/Containers/container.jl:81 [inlined]\n",
      " [11] container(f::Function, indices::JuMP.Containers.VectorizedProductIterator{Tuple{Base.OneTo{Int64}}})\n",
      "    @ JuMP.Containers ~/.julia/packages/JuMP/vuP7I/src/Containers/container.jl:75\n",
      " [12] macro expansion\n",
      "    @ ~/.julia/packages/JuMP/vuP7I/src/macros.jl:138 [inlined]\n",
      " [13] top-level scope\n",
      "    @ ~/wifi-optimize/modelo_relatorio_projeto_2022.ipynb:6"
     ]
    }
   ],
   "source": [
    "# Este nosso modelo matematico\n",
    "using JuMP, Ipopt, Statistics, LinearAlgebra\n",
    "\n",
    "m = Model(Ipopt.Optimizer)\n",
    "apartamento = zeros(4,4)\n",
    "interferencias = false                                                  # esta é matriz que define o tamanho do apartamento \n",
    "interferencias = [ [0,2] , [1,2] ]                                    # posições bidimensionais das interferencias\n",
    "dispositivos = [[0,0],[0,4]]  \n",
    "\n",
    "function interference(x_dev,y_dev,x_router,y_router)\n",
    "        for interferencia in 1:length(interferencias)\n",
    "            oa = [interferencias[1][1] - x_router, interferencias[1][2] - y_router, 0 ]\n",
    "            op = [x_dev - x_router, y_dev - y_router, 0   ]\n",
    "            ab = [interferencias[2][1] - interferencias[1][1], interferencias[2][2]- interferencias[1][2], 0]\n",
    "            ap = [x_dev - interferencias[1][1],  y_dev - interferencias[1][2], 0  ]\n",
    "            ob = [interferencias[2][1] - x_router,interferencias[2][2] - y_router, 0 ]\n",
    "\n",
    "            print(\"\\n\\n OA:  \", oa)\n",
    "            print(\"\\n\\n OP:  \", op)\n",
    "            print(\"\\n\\n AB:  \", ab)\n",
    "            print(\"\\n\\n AP:  \", ap)  \n",
    "            print(\"\\n\\n OB:  \", ob)  \n",
    "\n",
    "            if cross(oa, op) >= 0 && cross(ab,ap) <= 0 &&  cross(ob,op) <= 0\n",
    "               return true\n",
    "            end\n",
    "        end\n",
    "    return false\n",
    "end\n",
    "\n",
    "function force(x,y, std_dev)\n",
    "    forca = []\n",
    "    for i in dispositivos\n",
    "        distancia = sqrt((x-i[1])^2+(y-i[2])^2) # a distancia entre o roteador e os dispositivos ´pode ser calculado pela distancia euclidiana\n",
    "        f_= 1-0.2*distancia                     # a forca do sinal definida pela funcao apresentada no modelo matematico\n",
    "        if f_ < 0 \n",
    "            f_ = 0                              # não é possivel ter sinais negativos\n",
    "        else\n",
    "            if interference(i[1],i[2],x,y)\n",
    "                f_ = 0\n",
    "            end\n",
    "        end\n",
    "        push!(forca,f_)\n",
    "    end \n",
    "    if std_dev == 1\n",
    "        return Statistics.std(forca)\n",
    "    else\n",
    "        return sum(forca)\n",
    "    end\n",
    "end\n",
    "\n",
    "register(m, :standart_dev, 2, standart_dev, autodiff=true)                                         # as posições dos dispositivos no nosso sistema de coordenadas        \n",
    "register(m, :force, 2, force, autodiff=true)\n",
    "@variable(m, 0 <= x <= size(apartamento)[1])                            # as posições devem ser positivas\n",
    "@variable(m, 0 <= y <= size(apartamento)[2])                            # as posições devem ser positivas e os roteadores da matriz não podem ser posicionados fora dos limites do apartamento\n",
    "\n",
    "\n",
    "@NLconstraint(m, force(x,y,1)<= 0.4)      \n",
    "@NLobjective(m, Max, force(x,y,0))                 # queremos maximizar a soma do sinal de wifi\n",
    "\n",
    "optimize!(m)\n",
    "\n",
    "println(\"x =\", JuMP.value.(x))     # imprime o resultado na tela\n",
    "println(\"y =\", JuMP.value.(y))     # imprime o resultado na tela\n"
   ]
  },
  {
   "cell_type": "markdown",
   "metadata": {},
   "source": [
    "**Tenha certeza de que seu código compila corretamente! Rodarei seu código!**"
   ]
  },
  {
   "cell_type": "markdown",
   "metadata": {
    "collapsed": true
   },
   "source": [
    "## 4. Resultados e discussão ##\n",
    "\n",
    "Neste seção, os resultados obtidos serão exibidos e discutidos. Mostre figuras, gráficos, imagens, curvas de compromisso, e o que mais puder melhor ilustrar seus resultados. A discussão deverá explicar o que significam os resultados e como interpretá-los. As limitações da sua abordagem/modelo também devem ser colocadas, bem como uma análise da sensibilidade dos resultados em relação às hipóteses feitas.\n",
    "\n",
    "\n",
    "Utilize plots (veja exemplos  `PyPlot` [aqui](https://gist.github.com/gizmaa/7214002))\n",
    "\n",
    "Aqui está um exemplo de uma tabela (em Markdown):\n",
    "\n",
    "| Tabelas        | São           | Boas  |\n",
    "| ------------- |:-------------:| -----:|\n",
    "| col 3 é      | alinhado à direita |\\$1600 |\n",
    "| col 2 é      | centrado      |  \\$12 |\n",
    "| texto | também serve      |   \\$1 |\n",
    "\n",
    "### 4.A. Subseções devem ser utilizadas para organizar seu texto.\n",
    "\n",
    "#### 4.A.a. ou até subsubseções."
   ]
  },
  {
   "attachments": {},
   "cell_type": "markdown",
   "metadata": {
    "collapsed": true
   },
   "source": [
    "## 5. Conclusão ##\n",
    "\n",
    "Finalizando, podemos perceber que nosso projeto levou ao desenvolvimento de um mecânismo muito útil, tanto para profissionais de rede, quanto para clientes de operadoras que buscam a configuração que lhes dará o melhor funcionamento da rede em seu imóvel. Conseguimos determinar o melhor posicionamento possível para um roteador em um estabelecimento, considerando casos com e sem interferências ao sinal.\n",
    "\n",
    "Acreditamos que a direção à ser seguida para melhor desenvolvimento do trabalho seria a complexificar ainda mais nossos cenários. Até agora consideramos apenas fontes de interferência como barreiras metálicas e espelhos que barram o sinal, podemos, no futúro, levar em consideração interferências trazidas por outros sinais, como de aparelhos micro-ondas que atuam em bandas de frequências semelhantes aos de alguns roteadores, no caso de 2.4Ghz. Além disso podemos adicionar novos elementos como repetidores de sinais, dispositivos móveis conectados à rede, fazendo uma analise probabilista dos cômodos em que esses dispositivos se encontrariam na maior parte do tempo."
   ]
  },
  {
   "attachments": {},
   "cell_type": "markdown",
   "metadata": {},
   "source": [
    "## 6. Referências bibliográficas ##\n",
    "\n",
    "[Optimization Models and Methods for Planning Wireless Mesh Networks](https://www.researchgate.net/publication/220447584_Optimization_Models_and_Methods_for_Planning_Wireless_Mesh_Networks)\n",
    "\n",
    "[Redes Mesh](https://blog.intelbras.com.br/o-que-e-rede-mesh-e-quais-suas-vantagens/)\n",
    "\n",
    "[WLAN](https://pt.wikipedia.org/wiki/Rede_de_área_local_sem_fio)"
   ]
  }
 ],
 "metadata": {
  "@webio": {
   "lastCommId": null,
   "lastKernelId": null
  },
  "kernelspec": {
   "display_name": "Julia 1.8.0",
   "language": "julia",
   "name": "julia-1.8"
  },
  "language_info": {
   "file_extension": ".jl",
   "mimetype": "application/julia",
   "name": "julia",
   "version": "1.8.0"
  }
 },
 "nbformat": 4,
 "nbformat_minor": 1
}
