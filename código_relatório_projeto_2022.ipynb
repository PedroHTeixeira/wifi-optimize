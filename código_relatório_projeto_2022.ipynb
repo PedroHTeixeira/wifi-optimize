{
 "cells": [
  {
   "cell_type": "code",
   "execution_count": 14,
   "metadata": {},
   "outputs": [
    {
     "name": "stderr",
     "output_type": "stream",
     "text": [
      "\u001b[32m\u001b[1m   Resolving\u001b[22m\u001b[39m package versions...\n",
      "\u001b[32m\u001b[1m  No Changes\u001b[22m\u001b[39m to `C:\\Users\\dieme\\.julia\\environments\\v1.8\\Project.toml`\n",
      "\u001b[32m\u001b[1m  No Changes\u001b[22m\u001b[39m to `C:\\Users\\dieme\\.julia\\environments\\v1.8\\Manifest.toml`\n",
      "\u001b[32m\u001b[1m   Resolving\u001b[22m\u001b[39m package versions...\n",
      "\u001b[32m\u001b[1m  No Changes\u001b[22m\u001b[39m to `C:\\Users\\dieme\\.julia\\environments\\v1.8\\Project.toml`\n",
      "\u001b[32m\u001b[1m  No Changes\u001b[22m\u001b[39m to `C:\\Users\\dieme\\.julia\\environments\\v1.8\\Manifest.toml`\n"
     ]
    }
   ],
   "source": [
    "import Pkg\n",
    "Pkg.add(\"Ipopt\")\n",
    "Pkg.add(\"JuMP\")"
   ]
  },
  {
   "cell_type": "code",
   "execution_count": 17,
   "metadata": {},
   "outputs": [
    {
     "name": "stdout",
     "output_type": "stream",
     "text": [
      "i: [0, 0]\n",
      "\n",
      "i[1]: 0\n",
      "\n",
      "i[2]: 0\n",
      "\n",
      "interferencia:[0, 2]\n",
      "\n",
      " OA:  [-2, 0, 0]\n",
      "\n",
      " OP:  [-2, -2, 0]\n",
      "\n",
      " AB:  [1, 0, 0]\n",
      "\n",
      " AP:  [0, -2, 0]\n",
      "\n",
      " OB:  [-1, 0, 0]\n",
      "\n",
      " cross(oa,op):  [0, 0, 4]\n",
      "\n",
      " cross(ab,ap):  [0, 0, -2]\n",
      "\n",
      " cross(ob,op):  [0, 0, 2]"
     ]
    },
    {
     "ename": "LoadError",
     "evalue": "MethodError: no method matching isless(::Vector{Int64}, ::Int64)\n\u001b[0mClosest candidates are:\n\u001b[0m  isless(::AbstractVector, \u001b[91m::AbstractVector\u001b[39m) at abstractarray.jl:2612\n\u001b[0m  isless(\u001b[91m::ForwardDiff.Dual{Tx}\u001b[39m, ::Integer) where Tx at C:\\Users\\dieme\\.julia\\packages\\ForwardDiff\\QdStj\\src\\dual.jl:144\n\u001b[0m  isless(\u001b[91m::ForwardDiff.Dual{Tx}\u001b[39m, ::Real) where Tx at C:\\Users\\dieme\\.julia\\packages\\ForwardDiff\\QdStj\\src\\dual.jl:144\n\u001b[0m  ...",
     "output_type": "error",
     "traceback": [
      "MethodError: no method matching isless(::Vector{Int64}, ::Int64)\n\u001b[0mClosest candidates are:\n\u001b[0m  isless(::AbstractVector, \u001b[91m::AbstractVector\u001b[39m) at abstractarray.jl:2612\n\u001b[0m  isless(\u001b[91m::ForwardDiff.Dual{Tx}\u001b[39m, ::Integer) where Tx at C:\\Users\\dieme\\.julia\\packages\\ForwardDiff\\QdStj\\src\\dual.jl:144\n\u001b[0m  isless(\u001b[91m::ForwardDiff.Dual{Tx}\u001b[39m, ::Real) where Tx at C:\\Users\\dieme\\.julia\\packages\\ForwardDiff\\QdStj\\src\\dual.jl:144\n\u001b[0m  ...",
      "",
      "Stacktrace:",
      " [1] <(x::Vector{Int64}, y::Int64)",
      "   @ Base .\\operators.jl:356",
      " [2] <=(x::Vector{Int64}, y::Int64)",
      "   @ Base .\\operators.jl:405",
      " [3] interference(x_dev::Int64, y_dev::Int64, x_router::Int64, y_router::Int64)",
      "   @ Main .\\In[17]:30",
      " [4] force(x::Int64, y::Int64, std_dev::Int64)",
      "   @ Main .\\In[17]:48",
      " [5] top-level scope",
      "   @ In[17]:60"
     ]
    }
   ],
   "source": [
    "\n",
    "# Este nosso modelo matematico\n",
    "using JuMP, Ipopt, Statistics, LinearAlgebra\n",
    "\n",
    "m = Model(Ipopt.Optimizer)\n",
    "apartamento = zeros(4,4)\n",
    "interferencias = false                                                  # esta é matriz que define o tamanho do apartamento \n",
    "interferencias = [ [0,2] , [1,2] ]                                    # posições bidimensionais das interferencias\n",
    "dispositivos = [[0,0],[0,4]]  \n",
    "\n",
    "function interference(x_dev,y_dev,x_router,y_router)  #para saber se o dispositivo conectado esta na area de interferencia usamos a seguinte lógica:\n",
    "        for interferencia in interferencias #https://math.stackexchange.com/questions/1577062/how-to-know-if-a-given-point-is-inside-a-2d-circles-segment\n",
    "            print(\"\\n\\ninterferencia:\", interferencia)\n",
    "            oa = [interferencias[1][1] - x_router, interferencias[1][2] - y_router, 0 ]\n",
    "            op = [x_dev - x_router, y_dev - y_router, 0   ]\n",
    "            ab = [interferencias[2][1] - interferencias[1][1], interferencias[2][2]- interferencias[1][2], 0]\n",
    "            ap = [x_dev - interferencias[1][1],  y_dev - interferencias[1][2], 0  ]\n",
    "            ob = [interferencias[2][1] - x_router,interferencias[2][2] - y_router, 0 ]\n",
    "\n",
    "            print(\"\\n\\n OA:  \", oa)\n",
    "            print(\"\\n\\n OP:  \", op)\n",
    "            print(\"\\n\\n AB:  \", ab)\n",
    "            print(\"\\n\\n AP:  \", ap)  \n",
    "            print(\"\\n\\n OB:  \", ob)  \n",
    "\n",
    "            print(\"\\n\\n cross(oa,op):  \", cross(oa,op))\n",
    "            print(\"\\n\\n cross(ab,ap):  \", cross(ab,ap))  \n",
    "            print(\"\\n\\n cross(ob,op):  \", cross(ob,op)) \n",
    "\n",
    "            if cross(oa, op) <= 0 && cross(ab,ap) >= 0 &&  cross(ob,op) >= 0\n",
    "               return true\n",
    "            end\n",
    "        end\n",
    "    return false\n",
    "end\n",
    "\n",
    "function force(x,y,std_dev)\n",
    "    forca = []\n",
    "    for i in dispositivos\n",
    "        print(\"i: \", i)\n",
    "        print(\"\\n\\ni[1]: \", i[1])\n",
    "        print(\"\\n\\ni[2]: \", i[2])\n",
    "        distancia = sqrt((x-i[1])^2+(y-i[2])^2) # a distancia entre o roteador e os dispositivos ´pode ser calculado pela distancia euclidiana\n",
    "        f_= 1-0.2*distancia                     # a forca do sinal definida pela funcao apresentada no modelo matematico\n",
    "        if f_ < 0 \n",
    "            f_ = 0                              # não é possivel ter sinais negativos\n",
    "        else\n",
    "            if interference(i[1],i[2],x,y)\n",
    "                f_ = 0\n",
    "            end\n",
    "        end\n",
    "        push!(forca,f_)\n",
    "    end\n",
    "    if func == 1\n",
    "        return Statistics.std(forca)\n",
    "    else\n",
    "        return sum(forca)\n",
    "    end\n",
    "end                                                                    # as posições dos dispositivos no nosso sistema de coordenadas        \n",
    "force(2,2,1)\n",
    "register(m, :force, 2, force, autodiff=true)\n",
    "@variable(m, 0 <= x <= size(apartamento)[1])                            # as posições devem ser positivas\n",
    "@variable(m, 0 <= y <= size(apartamento)[2])                            # as posições devem ser positivas e os roteadores da matriz não podem ser posicionados fora dos limites do apartamento\n",
    "\n",
    "\n",
    "@NLconstraint(m, force(x,y,1)<= 0.4)      \n",
    "@NLobjective(m, Max, force(x,y,0))                 # queremos maximizar a soma do sinal de wifi\n",
    "\n",
    "optimize!(m)\n",
    "\n",
    "println(\"x =\", JuMP.value.(x))     # imprime o resultado na tela\n",
    "println(\"y =\", JuMP.value.(y))     # imprime o resultado na tela"
   ]
  }
 ],
 "metadata": {
  "kernelspec": {
   "display_name": "Julia 1.8.4",
   "language": "julia",
   "name": "julia-1.8"
  },
  "language_info": {
   "file_extension": ".jl",
   "mimetype": "application/julia",
   "name": "julia",
   "version": "1.8.4"
  },
  "orig_nbformat": 4
 },
 "nbformat": 4,
 "nbformat_minor": 2
}
